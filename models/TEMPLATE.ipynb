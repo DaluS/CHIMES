{
 "cells": [
  {
   "cell_type": "code",
   "execution_count": 1,
   "id": "9046a327",
   "metadata": {},
   "outputs": [],
   "source": [
    "# -*- coding: utf-8 -*-"
   ]
  },
  {
   "cell_type": "markdown",
   "id": "9cc6c21b",
   "metadata": {},
   "source": [
    "# Welcome in pyGEMMES as a modeller !\n",
    "\n",
    "This is a readme on how to produce a model that the code will be able to execute.\n",
    "\n",
    "A model needs three Things :\n",
    "* A description\n",
    "* An ensemble of logics\n",
    "* An ensemble of preset\n",
    "\n",
    "The system will fill everything you don't by himself (and through _def_fields), so it is very recommended to :\n",
    "* Look at what is inside the library ( `_core._class_checks.models.PrintDFIELDS()`)\n",
    "* Look at already-existing models (`_core._class_checks.models.describe_ALL_available_models()`) to get inspiration (or copy-paste it in a new file then modify it)\n",
    "\n",
    "**IF THE LOGIC IS DIFFERENT IT IS NOT THE SAME MODEL, DO NOT EDIT MODELS OF OTHER PEOPLE.**\n"
   ]
  },
  {
   "cell_type": "markdown",
   "id": "37a699e5",
   "metadata": {},
   "source": [
    "## Writing the description \n",
    "\n",
    "it is simply a string with blabla on the model. We recommend\n",
    "\n",
    "ABSTRACT : A few words about this model\n",
    "TYPICAL BEHAVIOR : What you would expect from this model\n",
    "LINKTOARTICLE : A link to a typical article / file that has been published on this model"
   ]
  },
  {
   "cell_type": "code",
   "execution_count": 4,
   "id": "8a34e328",
   "metadata": {},
   "outputs": [],
   "source": [
    "_DESCRIPTION = \"\"\"\n",
    "    ABSTRACT : A physically irrelevant model just for the sake of the formalism\n",
    "    TYPICAL BEHAVIOR : Good question. I assume saturation toward a positive value\n",
    "    LINKTOARTICLE : I hope no one published that thing\n",
    "    \"\"\""
   ]
  },
  {
   "cell_type": "markdown",
   "id": "6abeeb4b",
   "metadata": {},
   "source": [
    "## The Logic of the model\n",
    "\n",
    "The structure of logics is the following :\n",
    "* _LOGICS is a dictionary\n",
    "* It contains dictionaries, each of them is a specific category of logical link :\n",
    "    * 'ode' which contains Ordinary differential equations\n",
    "    * 'statevar' which contains State Variable (fully defined by the state of the ode variables, and other state variables)\n",
    "    * 'parameters' which contains parameters that are not defined in `_def_fields.py` that you want too add\n",
    "* Every field that you add here will have the priority over `_def_fields` (the default library)\n",
    "* If something is not in the library and you want to add it while working on your model, add it here in its category. The system will handle it. Only add to the library once your model is finished.\n",
    "* If a field name is already taken in the library, DO NOT OVERLOAD it. Use a different name (so that models are not inconsistent with each others)\n",
    "* When you defined a new field it needs AT LEAST :\n",
    "    * 'logic' (either a lambda function, a function call, or just a numerical value)\n",
    "    * 'com' which is a comment about what you are doing through that equation and hypothesis behind.\n",
    "* The system can be fed with the following aditional elements for each field :\n",
    "    * 'initial' in the case of an ode, it will overload this value (necessary if field is not in `_def_fields`)\n",
    "    * 'units' the units written in a latex writing. for example \"150 units.humans^{-1}.years^{-1}\" ( space delineator between multiplier and units, . between units, ^{ } for exponent)\n",
    "    * 'definition' which is the definition of the variable.\n",
    "    * symbol, the latex symbol of the variable\n",
    "\n",
    "        Typically, these three elements are taken from _def_fields so fill only add them when it's needed.\n",
    "\n",
    "    To write a logic :\n",
    "        * the simplest way is to use lambda functions ( lambda x,y : x+y for example). You can in the code do `def function(x,y): return x+y` and say 'logic' : function(x,y)\n",
    "        * The name you put for the variables are important ! it will be read by the code for autocompletion ( order of resolution, who is calling who...)\n",
    "        * if you need to call variable `lambda`, use `lamb`, the system will understand\n",
    "        * if a variable logic needs its own value (only in ODE), use `itself` as the name of the variable\n",
    "        * you need to give a value in it, just for a symbolic execution. You can put any number as long as you do not divide by zero with the set of value you put.\n",
    "\n",
    "        For example if X is an ode with logic `lambda itself=0,lamb=1 : itself/lamb` the system will solve $\\frac{dX}{dt} = \\frac{X(t)}{\\lambda(t)}$"
   ]
  },
  {
   "cell_type": "code",
   "execution_count": 5,
   "id": "241082d6",
   "metadata": {},
   "outputs": [],
   "source": [
    "_LOGICS = {\n",
    "    # All variables determined by ordinary differential equations\n",
    "    'ode': {\n",
    "        'firstvar': {\n",
    "            'logic': lambda secondvar=0: secondvar,\n",
    "            'com': 'I am the ODE that define the evolution of firstvar',\n",
    "            'initial': 0,\n",
    "            'def': 'The secret variable of the universe',\n",
    "            'units': '42 y^{24}.dollars^[-1}'\n",
    "        },\n",
    "    },\n",
    "    # All variables Full determined by the state of the system\n",
    "    'statevar': {\n",
    "        'secondvar': {\n",
    "            'logic': lambda firstvar=0, param1=1, param2=1: firstvar*param1 - param2 ,\n",
    "            'com': 'I am a state variable fully defined by firstvar',\n",
    "            'symbol': '$\\Omega$'\n",
    "        },\n",
    "    },\n",
    "    'parameters': {\n",
    "        'param1': {\n",
    "            'logic': 2,\n",
    "            'com': 'I am a parameter of value 2',\n",
    "        },\n",
    "        'param2': {\n",
    "            'logic': 1,\n",
    "            'com': 'I am a parameter of value 1',\n",
    "        },\n",
    "    }\n",
    "}"
   ]
  },
  {
   "cell_type": "markdown",
   "id": "2fc3404f",
   "metadata": {},
   "source": [
    "## Writing the Preset\n",
    "\n",
    "`_PRESETS` is a dictionnary(1) of dictionary(2), each dictionnary(2) being a preset.\n",
    "A preset contains three things :\n",
    "* His name (the key of the dictionnary)\n",
    "* 'fields': that contains all the values that should be tested in the shape { key1 : numericalvalue, key2 : numericalvalues }\n",
    "* 'com' is a str to tell the user what he should expect from this model\n",
    "\n",
    "if a value is not in fields, it wont be changed"
   ]
  },
  {
   "cell_type": "code",
   "execution_count": 6,
   "id": "8ce78f08",
   "metadata": {},
   "outputs": [],
   "source": [
    "_PRESETS = {\n",
    "    'A first set': {\n",
    "        'fields': {\n",
    "            'firstvar': 5,  # it will modify the initial condition\n",
    "            'param2': 3,  # it will modify the parameter value\n",
    "        },\n",
    "        'com': \"a different set of parameters. no idea of the result\"\n",
    "    },\n",
    "    'a second set': {\n",
    "        'fields': {\n",
    "            'param2': 2,  # it will modify the parameter value\n",
    "        },\n",
    "        'com': \"a different set of parameters, physically irrelevant\"\n",
    "    },\n",
    "}\n"
   ]
  },
  {
   "cell_type": "code",
   "execution_count": null,
   "id": "71f3689d",
   "metadata": {},
   "outputs": [],
   "source": [
    "## NOW, WHAT ? \n",
    "\n",
    "Put your file in the folder model\n",
    "Try to load it in the core \n",
    "Debug it (there might be some problem)\n",
    "\n",
    "**DO NOT HESITATE TO CREATE AN ISSUE** "
   ]
  }
 ],
 "metadata": {
  "kernelspec": {
   "display_name": "Python 3",
   "language": "python",
   "name": "python3"
  },
  "language_info": {
   "codemirror_mode": {
    "name": "ipython",
    "version": 3
   },
   "file_extension": ".py",
   "mimetype": "text/x-python",
   "name": "python",
   "nbconvert_exporter": "python",
   "pygments_lexer": "ipython3",
   "version": "3.8.8"
  }
 },
 "nbformat": 4,
 "nbformat_minor": 5
}
