{
 "cells": [
  {
   "cell_type": "code",
   "execution_count": 1,
   "metadata": {},
   "outputs": [
    {
     "name": "stdout",
     "output_type": "stream",
     "text": [
      "\n",
      "#####################################################################################\n",
      " _______            ______  ________  ____    ____  ____    ____  ________   ______    \n",
      "|_   __ \\         .' ___  ||_   __  ||_   \\  /   _||_   \\  /   _||_   __  |.' ____  \\   \n",
      "  | |__) |_   __ / .'   \\_|  | |_ \\_|  |   \\/   |    |   \\/   |    | |_ \\_|| (___ \\_|  \n",
      "  |  ___/[ \\ [  ]| |   ____  |  _| _   | |\\  /| |    | |\\  /| |    |  _| _  _.____`.   \n",
      " _| |_    \\ '/ / \\ `.___]  |_| |__/ | _| |_\\/_| |_  _| |_\\/_| |_  _| |__/ || \\____) |  \n",
      "|_____| [\\_:  /   `._____.'|________||_____||_____||_____||_____||________| \\______.'  \n",
      "         \\__.'                           \n",
      "#####################################################################################                                                                                                                                   \n",
      "\n",
      "Welcome in Pygemmes, a modular library to prototype and study dynamical systems !\n",
      "This library is oriented toward generation of macroeconomic complexity models \n",
      "You can find the files on https://github.com/DaluS/GEMMES\n",
      "This library has been coded mostly by Didier Vezinet and Paul Valcke,\n",
      "at the environmental justice program https://environmentaljustice.georgetown.edu/#\n",
      "You can contact me at pv229@georgetown.edu \n",
      "If you find bugs, want some new extensions, or help us improve the library, please create a new issue on github\n",
      "If this is the first time you open this library, please look at the tutorial file in doc/tutorial.py and execute it line by line. \n",
      "The ipythonNotebook is at :\n",
      " \t/Users/zhu/Desktop/GEJP/GEMMES/pygemmes\\doc\\TUTORIALS\\TUTORIAL.ipynb\n",
      "If you want to customize pygemmes (advancer users) like removing this message, edit :\n",
      " \t/Users/zhu/Desktop/GEJP/GEMMES/pygemmes\\_config.py\n",
      "\n",
      "Have fun !\n",
      "######################################################################################################\n",
      "\n"
     ]
    }
   ],
   "source": [
    "import sys \n",
    "\n",
    "# Install all dependencies\n",
    "#!{sys.executable} -m pip install numpy scipy matplotlib pyvis \n",
    "\n",
    "# Change path as the folder adress you have put the library in \n",
    "path = \"/Users/zhu/Desktop/GEJP/GEMMES\" \n",
    "sys.path.insert(0, path)\n",
    "import pygemmes as pgm\n",
    "\n"
   ]
  },
  {
   "cell_type": "code",
   "execution_count": 4,
   "metadata": {},
   "outputs": [
    {
     "name": "stdout",
     "output_type": "stream",
     "text": [
      "The following models are available from '/Users/zhu/Desktop/GEJP/GEMMES/models'\n",
      "\n",
      " FOLDER                   | MODEL NAME           | Presets\n",
      "############################################################\n",
      "                          | TUTORIAL             | ['presetname1']\n",
      " Core                     | CHIMES               | ['GoodwinPURE', 'Bi-sectoral']\n",
      " Core                     | GoodwinFull          | ['default', 'many-orbits']\n",
      " Core                     | Goodwin              | ['default', 'many-orbits']\n",
      " ReducedSystem            | reduced_GK           | ['default']\n",
      " ReducedSystem            | reduced_GKCES        | ['default']\n",
      " ReducedSystem            | reduced_G_stochastic | []\n",
      " ReducedSystem            | reduced_G            | []\n",
      " ReducedSystem            | reduced_G_KVL        | ['GoodwinLike', 'GoodwinKV', 'GoodwinL', 'Both']\n",
      " Miscellaneous            | stochastic           | ['Onevar', '10']\n",
      " Miscellaneous            | __EMPTY__            | ['preset0']\n",
      " Miscellaneous/Agents     | Agents               | ['default']\n",
      " Miscellaneous/Agents     | Agents_Vicsek        | ['default']\n",
      " Miscellaneous/Attractors | LorenzSystem         | ['Canonical example']\n",
      " Components               | Climate_3Layers      | ['default']\n",
      " Extended                 | GK                   | ['default', 'farfromEQ', 'crisis']\n",
      " Extended                 | Goodwin_CES          | ['CES']\n",
      " Extended                 | Goodwin-PiInPhi      | ['zpi']\n",
      " GEMMES                   | GEMMES_Coping2018    | ['BAU', 'BAU_DAM', 'TRANSITION']\n",
      " Spatial                  | PDE-Diffusion2D      | ['Basic']\n",
      " Spatial                  | PDE-Diffusion        | ['Basic']\n",
      " Spatial                  | PDE-Waves            | ['Basic']\n"
     ]
    }
   ],
   "source": [
    "pgm.get_available_models()"
   ]
  },
  {
   "cell_type": "code",
   "execution_count": 3,
   "metadata": {},
   "outputs": [
    {
     "name": "stdout",
     "output_type": "stream",
     "text": [
      "\n"
     ]
    }
   ],
   "source": [
    "pgm.get_available_models('_model_Goodwin_Endogenous',details=True)"
   ]
  },
  {
   "cell_type": "code",
   "execution_count": null,
   "metadata": {},
   "outputs": [],
   "source": []
  }
 ],
 "metadata": {
  "kernelspec": {
   "display_name": "Python 3.9.13 ('nlp')",
   "language": "python",
   "name": "python3"
  },
  "language_info": {
   "codemirror_mode": {
    "name": "ipython",
    "version": 3
   },
   "file_extension": ".py",
   "mimetype": "text/x-python",
   "name": "python",
   "nbconvert_exporter": "python",
   "pygments_lexer": "ipython3",
   "version": "3.9.13"
  },
  "orig_nbformat": 4,
  "vscode": {
   "interpreter": {
    "hash": "0638b84c441d23f3bf1e5bbb68dbbbae5f508c99744b50e7a508082753ac4090"
   }
  }
 },
 "nbformat": 4,
 "nbformat_minor": 2
}
