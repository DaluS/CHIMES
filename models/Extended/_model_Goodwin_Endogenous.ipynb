{
 "cells": [
  {
   "cell_type": "code",
   "execution_count": 36,
   "metadata": {},
   "outputs": [
    {
     "data": {
      "text/html": [
       "\n",
       "<style>\n",
       "    div#notebook-container    { width: 99%; }\n",
       "    div#menubar-container     { width: 65%; }\n",
       "    div#maintoolbar-container { width: 99%; }\n",
       "</style>\n"
      ],
      "text/plain": [
       "<IPython.core.display.HTML object>"
      ]
     },
     "metadata": {},
     "output_type": "display_data"
    }
   ],
   "source": [
    "### THIS IS JUST FOR A MORE PRACTICAL AND FANCY NOTEBOOK\n",
    "from IPython.display import display, HTML\n",
    "\n",
    "display(HTML(data=\"\"\"\n",
    "<style>\n",
    "    div#notebook-container    { width: 99%; }\n",
    "    div#menubar-container     { width: 65%; }\n",
    "    div#maintoolbar-container { width: 99%; }\n",
    "</style>\n",
    "\"\"\"))\n",
    "##################################################\n",
    "\n",
    "import sys \n",
    "\n",
    "# Install all dependencies\n",
    "#!{sys.executable} -m pip install numpy scipy matplotlib pyvis \n",
    "\n",
    "# Change path as the folder adress you have put the library in \n",
    "path = \"/Users/zhu/Desktop/GEJP/GEMMES\" \n",
    "sys.path.insert(0, path)\n",
    "import pygemmes as pgm"
   ]
  },
  {
   "cell_type": "markdown",
   "metadata": {},
   "source": [
    "### DESCRIPTION : \n",
    "This is a small modificaiton of Goodwin. Assume that labour productivity (parameter a in our basic model) is not exoge- nous but depends upon the growth rate of investment (in R & D). This leads to adding the following equation:\n",
    "              $$\\frac{\\dot{a}}{a} = \\alpha + \\beta g$$\n",
    "\n",
    "\n",
    "**TYPICAL BEHAVIOR** : Locally Unstable, the good equilibrium is an unstable focuse\n",
    "\n",
    "\n",
    "#### Author: Weiye Zhu\n"
   ]
  },
  {
   "cell_type": "code",
   "execution_count": 37,
   "metadata": {},
   "outputs": [],
   "source": [
    "# ######################## PRELIMINARY ELEMENTS #########################\n",
    "import numpy as np \n",
    "from pygemmes._models import Funcs, importmodel,mergemodel\n"
   ]
  },
  {
   "cell_type": "code",
   "execution_count": 38,
   "metadata": {},
   "outputs": [],
   "source": [
    "# ######################## LOGICS #######################################\n",
    "_LOGICS,_PRESETS0= importmodel('Goodwin')"
   ]
  },
  {
   "cell_type": "code",
   "execution_count": 39,
   "metadata": {},
   "outputs": [],
   "source": [
    "\n",
    "_GE_LOGICS = {\n",
    "    'differential': {\n",
    "        # Endogenous Labor Productivity\n",
    "        'a': {\n",
    "            'func': lambda a, alpha, beta, g: a*(alpha + beta * g),\n",
    "            'com': 'Labor Productivity depends on investment', },\n",
    "\n",
    "    }\n",
    "}"
   ]
  },
  {
   "cell_type": "code",
   "execution_count": 40,
   "metadata": {},
   "outputs": [],
   "source": [
    "_LOGICS = mergemodel(_LOGICS, _GE_LOGICS, verb=True) "
   ]
  },
  {
   "cell_type": "code",
   "execution_count": 41,
   "metadata": {},
   "outputs": [],
   "source": [
    "# # ####################### PRESETS #######################################\n",
    "# plotdict= {\n",
    "#             'timetrace': [{}],\n",
    "#             'nyaxis': [{'x': 'time',\n",
    "#                         'y': [['employment', 'omega'],\n",
    "#                               ['kappa', 'pi'],\n",
    "#                               ],\n",
    "#                         'idx':0,\n",
    "#                         'title':'',\n",
    "#                         'lw':2},\n",
    "#                        {'x': 'time',\n",
    "#                         'y': [['K', 'Y', 'I', 'Pi'],\n",
    "#                               ['inflation', 'g'],\n",
    "#                               ],\n",
    "#                         'idx':0,\n",
    "#                         'log':[False,False],\n",
    "#                         'title':'',\n",
    "#                         'lw':1}],\n",
    "#             'phasespace': [{'x': 'employment',\n",
    "#                             'y': 'omega',\n",
    "#                             'color': 'd',\n",
    "#                             'idx': 0}],\n",
    "#             'byunits': [{'title': '',\n",
    "#                          'lw': 2,       # optional\n",
    "#                          'idx': 0,      # optional\n",
    "#                          },  # optional\n",
    "#                         ],\n",
    "#         }"
   ]
  },
  {
   "cell_type": "code",
   "execution_count": 42,
   "metadata": {},
   "outputs": [],
   "source": [
    "_PRESETS = {\n",
    "    'default': {\n",
    "        'fields': {\n",
    "            'dt': 0.011,\n",
    "            'a': 1.01,\n",
    "            'N': 1.01,\n",
    "            'K': 2.91,\n",
    "            'D': 0.01,\n",
    "            'w': .5*1.19,\n",
    "            'alpha': 0.021,\n",
    "            'n': 0.0251,\n",
    "            'nu': 31,\n",
    "            'delta': .0051,\n",
    "            'phinull': 0.11,\n",
    "        },\n",
    "        'com': (\n",
    "            'This is a run that should give simple '\n",
    "            'convergent oscillations'),\n",
    "        'plots': {\n",
    "            'timetrace': [{}],\n",
    "            'nyaxis': [{'x': 'time',\n",
    "                        'y': [['lambda', 'omega'],\n",
    "                              ['K'],\n",
    "                              ],\n",
    "                        'idx':0,\n",
    "                        'title':'',\n",
    "                        'lw':1}],\n",
    "            'phasespace': [{'x': 'lambda',\n",
    "                            'y': 'omega',\n",
    "                            'color': 'time',\n",
    "                            'idx': 0}],\n",
    "            '3D': [{'x': 'lambda',\n",
    "                    'y': 'omega',\n",
    "                    'z': 'time',\n",
    "                    'cinf': 'pi',\n",
    "                    'cmap': 'jet',\n",
    "                    'index': 0,\n",
    "                    'title': ''}],\n",
    "            'byunits': [],\n",
    "        },\n",
    "    },\n",
    "    'many-orbits': {\n",
    "        'fields': {\n",
    "            'dt': 0.01,\n",
    "            'a': 1,\n",
    "            'N': 1,\n",
    "            'K': 2.9,\n",
    "            'D': 0,\n",
    "            'w': [.5, .5*1.2, .5*1.3, .5*1.5, .5*1.7],\n",
    "            'alpha': 0.02,\n",
    "            'n': 0.025,\n",
    "            'nu': 3,\n",
    "            'delta': .005,\n",
    "            'phinull': 0.1,\n",
    "        },\n",
    "        'com': (\n",
    "            'Shows many trajectories'),\n",
    "        'plots': {\n",
    "            'timetrace': [{'keys': ['lambda', 'omega']}],\n",
    "            'nyaxis': [],\n",
    "            'phasespace': [{'x': 'lambda',\n",
    "                           'y': 'omega',\n",
    "                            'idx': 0}],\n",
    "            '3D': [],\n",
    "            'byunits': [],\n",
    "        },\n",
    "    },\n",
    "}"
   ]
  },
  {
   "cell_type": "code",
   "execution_count": 45,
   "metadata": {},
   "outputs": [
    {
     "name": "stdout",
     "output_type": "stream",
     "text": [
      "\n"
     ]
    }
   ],
   "source": [
    "# pgm.get_available_models('Goodwin_Endogenous',details=True)"
   ]
  }
 ],
 "metadata": {
  "kernelspec": {
   "display_name": "Python 3.9.13 ('nlp')",
   "language": "python",
   "name": "python3"
  },
  "language_info": {
   "codemirror_mode": {
    "name": "ipython",
    "version": 3
   },
   "file_extension": ".py",
   "mimetype": "text/x-python",
   "name": "python",
   "nbconvert_exporter": "python",
   "pygments_lexer": "ipython3",
   "version": "3.9.13"
  },
  "orig_nbformat": 4,
  "vscode": {
   "interpreter": {
    "hash": "0638b84c441d23f3bf1e5bbb68dbbbae5f508c99744b50e7a508082753ac4090"
   }
  }
 },
 "nbformat": 4,
 "nbformat_minor": 2
}
