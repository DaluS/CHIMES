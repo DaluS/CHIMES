{
 "cells": [
  {
   "cell_type": "code",
   "execution_count": 3,
   "metadata": {},
   "outputs": [
    {
     "name": "stderr",
     "output_type": "stream",
     "text": [
      "[NbConvertApp] Converting notebook Tutorials\\00_Condensed_Tutorial.ipynb to markdown\n",
      "[NbConvertApp] Writing 3972 bytes to Tutorials\\00_Condensed_Tutorial.md\n",
      "[NbConvertApp] Converting notebook Tutorials\\01_WhatIsChimes.ipynb to markdown\n",
      "[NbConvertApp] Support files will be in 01_WhatIsChimes_files\\\n",
      "[NbConvertApp] Making directory Tutorials\\01_WhatIsChimes_files\n",
      "[NbConvertApp] Writing 14212 bytes to Tutorials\\01_WhatIsChimes.md\n",
      "[NbConvertApp] Converting notebook Tutorials\\02_CHIMES_get.ipynb to markdown\n",
      "[NbConvertApp] Writing 4254983 bytes to Tutorials\\02_CHIMES_get.md\n",
      "[NbConvertApp] Converting notebook Tutorials\\03_Hub_Basics.ipynb to markdown\n",
      "[NbConvertApp] Support files will be in 03_Hub_Basics_files\\\n",
      "[NbConvertApp] Making directory Tutorials\\03_Hub_Basics_files\n",
      "[NbConvertApp] Making directory Tutorials\\03_Hub_Basics_files\n",
      "[NbConvertApp] Writing 9087762 bytes to Tutorials\\03_Hub_Basics.md\n",
      "[NbConvertApp] Converting notebook Tutorials\\04_Hub_get.ipynb to markdown\n",
      "[NbConvertApp] Writing 4231700 bytes to Tutorials\\04_Hub_get.md\n",
      "[NbConvertApp] Converting notebook Tutorials\\05_Hub_plots.ipynb to markdown\n",
      "[NbConvertApp] Support files will be in 05_Hub_plots_files\\\n",
      "[NbConvertApp] Making directory Tutorials\\05_Hub_plots_files\n",
      "[NbConvertApp] Making directory Tutorials\\05_Hub_plots_files\n",
      "[NbConvertApp] Making directory Tutorials\\05_Hub_plots_files\n",
      "[NbConvertApp] Making directory Tutorials\\05_Hub_plots_files\n",
      "[NbConvertApp] Making directory Tutorials\\05_Hub_plots_files\n",
      "[NbConvertApp] Making directory Tutorials\\05_Hub_plots_files\n",
      "[NbConvertApp] Making directory Tutorials\\05_Hub_plots_files\n",
      "[NbConvertApp] Making directory Tutorials\\05_Hub_plots_files\n",
      "[NbConvertApp] Making directory Tutorials\\05_Hub_plots_files\n",
      "[NbConvertApp] Making directory Tutorials\\05_Hub_plots_files\n",
      "[NbConvertApp] Making directory Tutorials\\05_Hub_plots_files\n",
      "[NbConvertApp] Making directory Tutorials\\05_Hub_plots_files\n",
      "[NbConvertApp] Making directory Tutorials\\05_Hub_plots_files\n",
      "[NbConvertApp] Making directory Tutorials\\05_Hub_plots_files\n",
      "[NbConvertApp] Making directory Tutorials\\05_Hub_plots_files\n",
      "[NbConvertApp] Making directory Tutorials\\05_Hub_plots_files\n",
      "[NbConvertApp] Writing 7907863 bytes to Tutorials\\05_Hub_plots.md\n",
      "[NbConvertApp] Converting notebook Tutorials\\06_Hub_datastructure.ipynb to markdown\n",
      "[NbConvertApp] Support files will be in 06_Hub_datastructure_files\\\n",
      "[NbConvertApp] Making directory Tutorials\\06_Hub_datastructure_files\n",
      "[NbConvertApp] Writing 4233289 bytes to Tutorials\\06_Hub_datastructure.md\n",
      "[NbConvertApp] Converting notebook Tutorials\\07_Hub_Uncertainty_Sensitivity.ipynb to markdown\n",
      "[NbConvertApp] Support files will be in 07_Hub_Uncertainty_Sensitivity_files\\\n",
      "[NbConvertApp] Making directory Tutorials\\07_Hub_Uncertainty_Sensitivity_files\n",
      "[NbConvertApp] Making directory Tutorials\\07_Hub_Uncertainty_Sensitivity_files\n",
      "[NbConvertApp] Making directory Tutorials\\07_Hub_Uncertainty_Sensitivity_files\n",
      "[NbConvertApp] Making directory Tutorials\\07_Hub_Uncertainty_Sensitivity_files\n",
      "[NbConvertApp] Making directory Tutorials\\07_Hub_Uncertainty_Sensitivity_files\n",
      "[NbConvertApp] Making directory Tutorials\\07_Hub_Uncertainty_Sensitivity_files\n",
      "[NbConvertApp] Making directory Tutorials\\07_Hub_Uncertainty_Sensitivity_files\n",
      "[NbConvertApp] Making directory Tutorials\\07_Hub_Uncertainty_Sensitivity_files\n",
      "[NbConvertApp] Making directory Tutorials\\07_Hub_Uncertainty_Sensitivity_files\n",
      "[NbConvertApp] Writing 8183573 bytes to Tutorials\\07_Hub_Uncertainty_Sensitivity.md\n",
      "[NbConvertApp] Converting notebook Tutorials\\08_Model_Files.ipynb to markdown\n",
      "[NbConvertApp] Writing 7846 bytes to Tutorials\\08_Model_Files.md\n",
      "[NbConvertApp] Converting notebook Tutorials\\09_Multisectoral_Multiregional.ipynb to markdown\n",
      "[NbConvertApp] Writing 4229656 bytes to Tutorials\\09_Multisectoral_Multiregional.md\n",
      "[NbConvertApp] Converting notebook Tutorials\\10_Hub_Advanced.ipynb to markdown\n",
      "[NbConvertApp] Support files will be in 10_Hub_Advanced_files\\\n",
      "[NbConvertApp] Making directory Tutorials\\10_Hub_Advanced_files\n",
      "[NbConvertApp] Writing 4262655 bytes to Tutorials\\10_Hub_Advanced.md\n",
      "[NbConvertApp] Converting notebook Tutorials\\TP.ipynb to markdown\n",
      "C:\\ProgramData\\Anaconda3\\envs\\py3.11\\Lib\\site-packages\\nbconvert\\filters\\datatypefilter.py:41: UserWarning: Your element with mimetype(s) dict_keys(['application/vnd.plotly.v1+json']) is not able to be represented.\n",
      "  warn(\n",
      "[NbConvertApp] Writing 14956 bytes to Tutorials\\TP.md\n"
     ]
    }
   ],
   "source": [
    "!jupyter nbconvert --to markdown Tutorials/*.ipynb "
   ]
  },
  {
   "cell_type": "code",
   "execution_count": null,
   "metadata": {},
   "outputs": [],
   "source": []
  }
 ],
 "metadata": {
  "kernelspec": {
   "display_name": "py3.11",
   "language": "python",
   "name": "python3"
  },
  "language_info": {
   "codemirror_mode": {
    "name": "ipython",
    "version": 3
   },
   "file_extension": ".py",
   "mimetype": "text/x-python",
   "name": "python",
   "nbconvert_exporter": "python",
   "pygments_lexer": "ipython3",
   "version": "3.11.0"
  }
 },
 "nbformat": 4,
 "nbformat_minor": 2
}
