{
 "cells": [
  {
   "cell_type": "code",
   "execution_count": null,
   "metadata": {},
   "outputs": [],
   "source": [
    "import sys\n",
    "sys.path.insert(0,  \"C:\\\\Users\\\\Paul Valcke\\\\Documents\\\\GitHub\\\\CHIMES\" )\n",
    "import chimes as chm\n",
    "\n",
    "\n",
    "from IPython.display import display,HTML,Markdown\n",
    "from IPython.display import IFrame\n",
    "from itables import init_notebook_mode,options\n",
    "options.columnDefs = [{\"className\": \"dt-left\", \"targets\": \"_all\"}]\n",
    "options.classes=\"display nowrap compact\"\n",
    "options.scrollY=\"400px\"\n",
    "options.scrollCollapse=True\n",
    "options.paging=False\n",
    "\n",
    "init_notebook_mode(all_interactive=True)\n",
    "%matplotlib widget\n",
    "\n",
    "# Pandas display\n",
    "import pandas as pd\n",
    "import numpy as np\n",
    "pd.set_option('display.max_colwidth', None)\n",
    "pd.set_option(\"display.colheader_justify\",\"left\")\n",
    "\n",
    "## Tomas Mazak's workaround\n",
    "import plotly\n",
    "import plotly.graph_objs as go\n",
    "from IPython.display import display, HTML\n",
    "plotly.offline.init_notebook_mode()\n",
    "display(HTML('<script type=\"text/javascript\" async src=\"https://cdnjs.cloudflare.com/ajax/libs/mathjax/2.7.1/MathJax.js?config=TeX-MML-AM_SVG\"></script>'))"
   ]
  },
  {
   "cell_type": "markdown",
   "metadata": {},
   "source": [
    "# TL:DR (Too long, didn't read)\n",
    "\n",
    "Here is the resume of everything seen in this tutorial\n",
    "```\n",
    "# TO KNOW WHAT YOU CAN LOAD\n",
    "chm.get_available_models() # to know model names \n",
    "chn.get_available_saves() # to know saves names\n",
    "\n",
    "# TO LOAD A MODEL\n",
    "hub=chm.Hub(              # CHIMES object that you can use to interact with a model\n",
    "            'modelname',\n",
    "            'presetname', # Optional, if you want to start with a specific set of values \n",
    "            verb=False,   # Optional, if you say true \n",
    "            )\n",
    "hub=chm.load_saved(\n",
    "            'savename or full adress'\n",
    ")\n",
    "hub.get_summary()           # Basic general informations\n",
    "hub.get_fieldsproperties()  # dataframe description of fields\n",
    "hub.get_Network()           # network visualisation of the model\n",
    "hub.get_presets()           # display a table of the presets\n",
    "hub.get_supplements()       # display a table of the supplements\n",
    "hub.get_dfields()           # dictionnary of all fields properties\n",
    "hub.dfields_as_reverse_dict(crit='eqtype') # classified by eqtypes\n",
    "values = hub.get_dvalues(idx=0,         # By default idx=0\n",
    "                         Region=0,      # By default region=0\n",
    "                         params=False   # If True, return parameters too, otherwise only time evolving quantities\n",
    "                         )\n",
    "\n",
    "hub.dataframe()             # fields values as multiindex dataframe\n",
    "hub.dflags                  # status of the model\n",
    "hub.dfunc_order             # order of the functions resolution\n",
    "hub.dmisc                   # miscelaneous information\n",
    "hub.dmodel                  # What is read from the model file\n",
    "```"
   ]
  },
  {
   "cell_type": "markdown",
   "metadata": {},
   "source": [
    "# Exploring a model \n",
    "\n",
    "Models are made to interact with. All the interactions can be done through a CHIMES object called 'Hub`. Here, we show how to use it with one model, a Lorenz System (the famous chaos butterfly). "
   ]
  },
  {
   "cell_type": "code",
   "execution_count": null,
   "metadata": {},
   "outputs": [],
   "source": [
    "chm.get_available_models() # We check model names to be sure how we write it"
   ]
  },
  {
   "cell_type": "code",
   "execution_count": null,
   "metadata": {},
   "outputs": [],
   "source": [
    "name = 'Lorenz_Attractor'\n",
    "chm.get_model_documentation(name) # We look deeper to its properties"
   ]
  },
  {
   "cell_type": "markdown",
   "metadata": {},
   "source": [
    "## Creating a hub\n",
    "\n",
    "\n",
    "\n",
    "### Constructing a Hub\n",
    "\n",
    "The normal approach is to construct a Hub around a model. It is a CHIMES object that will decypher the model file and give you methods to interact with it. \n",
    "\n",
    "When you initialize a Huh with a model, it will: \n",
    "* Find what are all the fields that exist in the model\n",
    "* Determine if they are differential, state variable, parameters\n",
    "* Try to find as many existing information as possible (typically in CHIMES library) that has not been put by the model creator but exist in a common database. It can be :\n",
    "    * units \n",
    "    * symbol\n",
    "    * definition \n",
    "    * default value\n",
    "    * ...\n",
    "* Find an order to calculate the system at each timestep, and what variables are necessary (in loops)\n",
    "* Preparing allocation for future time calculation and make calculation faster\n",
    "* Making the model elements ready to be displayed in a user-friendly manner\n",
    "* A bit of coffee for you \n",
    "\n",
    "In this example we call the created object `hub` (although the name could be anything you like !)"
   ]
  },
  {
   "cell_type": "code",
   "execution_count": null,
   "metadata": {},
   "outputs": [],
   "source": [
    "hub=chm.Hub(name) # Load the model file into a hub"
   ]
  },
  {
   "cell_type": "markdown",
   "metadata": {},
   "source": [
    "### Calling an existing Hub\n",
    "\n",
    "A Hub can be saved with its model and runs using `hub.save(name, description)`. \n",
    "They can be loaded in `hub=chm.load(name)`"
   ]
  },
  {
   "cell_type": "markdown",
   "metadata": {},
   "source": [
    "## Exploring the content of the model\n",
    "\n",
    "a `hub` has many introspection methods that return formatted data, that can be called as `hub.get_[...]`\n",
    "\n",
    "### Summary\n",
    "In most situations, the method `get_summary()` should cover your needs. \n",
    "It covers the flags of the system, theiur preset names, and fields by category with their attributes. As we will see after, get_summary displays the last value of the simulation when a run has been done."
   ]
  },
  {
   "cell_type": "code",
   "execution_count": null,
   "metadata": {},
   "outputs": [],
   "source": [
    "hub.get_summary()"
   ]
  },
  {
   "cell_type": "markdown",
   "metadata": {},
   "source": [
    "### Field properties\n",
    "\n",
    "A dataframe version is also possible using `hub.get_fieldproperties`, when using itables it give you the possibility to do search in the system. "
   ]
  },
  {
   "cell_type": "code",
   "execution_count": null,
   "metadata": {},
   "outputs": [],
   "source": [
    "hub.get_fieldsproperties()"
   ]
  },
  {
   "cell_type": "markdown",
   "metadata": {},
   "source": [
    "### Field properties, as a network \n",
    "\n",
    "As we said, a model is a web of fields linked by equations. We can thus represent it as such. and interact with it. \n",
    "The `get_Network()` method allow the customization of the representation.\n",
    "\n",
    "You can hover on each nodes to get more information about its properties and dependencies "
   ]
  },
  {
   "cell_type": "code",
   "execution_count": null,
   "metadata": {},
   "outputs": [],
   "source": [
    "hub.get_Network()"
   ]
  },
  {
   "cell_type": "markdown",
   "metadata": {},
   "source": [
    "### See the presets and supplements \n",
    "\n",
    "Presets are a set of value for the system given by the author of a model, that allow one specific run and the display of a specific behavior of the system (either quantitative or qualitative). They are often associated with one serie of plots that shows it. They can be loaded into the hub using `set_preset(presetname)`. To see the presets, use `hub.get_preset`, or read `hub.get_summary()` or even `chm.get_model_documentation`\n",
    "\n",
    "Supplements are functions that ease the use of a specific model and thus associated to it, either for the analyses, setting fields, or plots. they can be accessed the same way using `hub.get_supplements` or `get_model_documentation`. they can be then used with `hub.supplements[supplementname](arguments_of_the_function)`"
   ]
  },
  {
   "cell_type": "code",
   "execution_count": null,
   "metadata": {},
   "outputs": [],
   "source": [
    "presets = hub.get_presets('list') # Return a list of the presets\n",
    "dpresets = hub.get_presets('dict') # Return a dictionary of the presets with their description\n",
    "hub.get_presets() # display a table of the presets"
   ]
  },
  {
   "cell_type": "code",
   "execution_count": null,
   "metadata": {},
   "outputs": [],
   "source": [
    "presets = hub.get_supplements('list') # Return a list of the supplements\n",
    "dpresets = hub.get_supplements('dict') # Return a dictionary of the supplements\n",
    "hub.get_supplements() # display a table of the supplements"
   ]
  },
  {
   "cell_type": "markdown",
   "metadata": {},
   "source": [
    "### dfields \n",
    "\n",
    "dfields is where all the fields properties of the model, digested by the hub, are located. It is a dictionnary of a dictionnary architecture: the first level of dfields is fields names, then their attributes, such as their value, definition and so on. \n",
    "\n",
    "the keys are: \n",
    "* 'eqtype' type of equation ['differential', 'statevar', 'None']\n",
    "* 'func' the python logic that is used to calculate the value\n",
    "* 'source_exp' A string version of the solved equation\n",
    "* 'com' a comment explaining the python function\n",
    "* 'definition' the definition of the field\n",
    "* 'units' the unit of the field ( years, humans, meters...) in latex formalism\n",
    "* 'symbol' a latex symbol that represent the field\n",
    "* 'group' a classification that helps looking\n",
    "* 'value' a numpy tensor that keep all values (see the corresponding section) \n",
    "* 'isneeded' Is the field required to calculate the dynamics\n",
    "* 'size' a list of two field that are used to know the multisectoral size of this one\n",
    "* 'multisect' a flag that tell if the field need all its dimensions\n",
    "* 'kargs'  \n",
    "* 'args'  \n",
    "* 'minmax' \n",
    "\n",
    "`get_dfields` give you the possibility to filter which key you want to explore: "
   ]
  },
  {
   "cell_type": "code",
   "execution_count": 42,
   "metadata": {},
   "outputs": [
    {
     "name": "stdout",
     "output_type": "stream",
     "text": [
      "the available fields are : dict_keys(['x', 'y', 'z', 'distance', 'lor_sigma', 'lor_rho', 'lor_beta', 'Tsim', 'Tini', 'dt', 'nx', 'nr', 'Nprod', '__ONE__', 'time', 'nt'])\n",
      "the keys of the field x are : dict_keys(['func', 'com', 'definition', 'units', 'initial', 'eqtype', 'size', 'value', 'minmax', 'symbol', 'group', 'multisect', 'kargs', 'args', 'source_exp', 'isneeded'])\n"
     ]
    }
   ],
   "source": [
    "R = hub.get_dfields()\n",
    "print('the available fields are :',R.keys())\n",
    "x = R['x']\n",
    "print('the keys of the field x are :',x.keys())"
   ]
  },
  {
   "cell_type": "code",
   "execution_count": 41,
   "metadata": {},
   "outputs": [
    {
     "data": {
      "text/plain": [
       "dict_keys(['x', 'y', 'z', 'time'])"
      ]
     },
     "execution_count": 41,
     "metadata": {},
     "output_type": "execute_result"
    }
   ],
   "source": [
    "hub.get_dfields(eqtype=['differential']).keys() # You only get differential equations"
   ]
  },
  {
   "cell_type": "markdown",
   "metadata": {},
   "source": [
    "### Getting fields according to criterias\n",
    "\n",
    "It can be usedfull to have a specfic subset of keys according to a certain classification. `get_dfields_as_reverse_dict` is doing so"
   ]
  },
  {
   "cell_type": "code",
   "execution_count": 40,
   "metadata": {},
   "outputs": [
    {
     "data": {
      "text/plain": [
       "{None: ['lor_sigma', 'lor_rho', 'lor_beta', 'Tsim', 'Tini', 'dt', '__ONE__'],\n",
       " 'statevar': ['distance'],\n",
       " 'size': ['nx', 'nr', 'Nprod'],\n",
       " 'parameter': ['nt'],\n",
       " 'differential': ['x', 'y', 'z', 'time']}"
      ]
     },
     "execution_count": 40,
     "metadata": {},
     "output_type": "execute_result"
    }
   ],
   "source": [
    "hub.dfields_as_reverse_dict(   # Return a dictionnary with the list of outputs for each input\n",
    "                            crit='units', # classified by units\n",
    "                            eqtype=['differential', 'statevar']\n",
    "                            ) # only eqtype differential and statevar are kept\n"
   ]
  },
  {
   "cell_type": "code",
   "execution_count": null,
   "metadata": {},
   "outputs": [],
   "source": [
    "hub.dfields_as_reverse_dict(crit='eqtype') # classified by eqtypes\n"
   ]
  },
  {
   "cell_type": "markdown",
   "metadata": {},
   "source": [
    "# Getting values in most cases\n",
    "\n",
    "If you do not need the multisectoral properties, you can get a dictionnary of values with `dvalue`. \n",
    "If you have multiple regions of parrallel system you can slice only the one you want with nx = index, region = index"
   ]
  },
  {
   "cell_type": "code",
   "execution_count": null,
   "metadata": {},
   "outputs": [],
   "source": [
    "values = hub.get_dvalues(idx=0,         # By default idx=0\n",
    "                         Region=0,      # By default region=0\n",
    "                         params=False   # If True, return parameters too, otherwise only time evolving quantities\n",
    "                         )\n"
   ]
  },
  {
   "cell_type": "markdown",
   "metadata": {},
   "source": [
    "### Dataframe approach\n",
    "\n",
    "You can also access the values as a dataframe, that reshapes the dfields structure."
   ]
  },
  {
   "cell_type": "code",
   "execution_count": null,
   "metadata": {},
   "outputs": [],
   "source": [
    "df = hub.dataframe().transpose()"
   ]
  },
  {
   "cell_type": "markdown",
   "metadata": {},
   "source": [
    "## Decorators \n",
    "\n",
    "Those varaiables are not shaped for user readability but they can still be accessed. Those are protected and thus cannot be modified directly"
   ]
  },
  {
   "cell_type": "code",
   "execution_count": null,
   "metadata": {},
   "outputs": [],
   "source": [
    "hub.dflags # status of the model"
   ]
  },
  {
   "cell_type": "code",
   "execution_count": null,
   "metadata": {},
   "outputs": [],
   "source": [
    "hub.dfunc_order # order of the functions resolution"
   ]
  },
  {
   "cell_type": "code",
   "execution_count": null,
   "metadata": {},
   "outputs": [],
   "source": [
    "hub.dmisc # miscelaneous information"
   ]
  },
  {
   "cell_type": "code",
   "execution_count": null,
   "metadata": {},
   "outputs": [],
   "source": [
    "hub.dmodel # What is read from the model file"
   ]
  }
 ],
 "metadata": {
  "kernelspec": {
   "display_name": "py3.11",
   "language": "python",
   "name": "python3"
  },
  "language_info": {
   "codemirror_mode": {
    "name": "ipython",
    "version": 3
   },
   "file_extension": ".py",
   "mimetype": "text/x-python",
   "name": "python",
   "nbconvert_exporter": "python",
   "pygments_lexer": "ipython3",
   "version": "3.11.0"
  }
 },
 "nbformat": 4,
 "nbformat_minor": 2
}
