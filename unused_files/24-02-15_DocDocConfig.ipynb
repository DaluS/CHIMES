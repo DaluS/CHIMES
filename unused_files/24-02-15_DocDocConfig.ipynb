{
 "cells": [
  {
   "cell_type": "code",
   "execution_count": 2,
   "metadata": {},
   "outputs": [
    {
     "ename": "ModuleNotFoundError",
     "evalue": "No module named 'chimes'",
     "output_type": "error",
     "traceback": [
      "\u001b[1;31m---------------------------------------------------------------------------\u001b[0m",
      "\u001b[1;31mModuleNotFoundError\u001b[0m                       Traceback (most recent call last)",
      "Cell \u001b[1;32mIn[2], line 3\u001b[0m\n\u001b[0;32m      1\u001b[0m \u001b[38;5;28;01mimport\u001b[39;00m \u001b[38;5;21;01msys\u001b[39;00m\n\u001b[0;32m      2\u001b[0m sys\u001b[38;5;241m.\u001b[39mpath\u001b[38;5;241m.\u001b[39minsert(\u001b[38;5;241m0\u001b[39m,  \u001b[38;5;124m\"\u001b[39m\u001b[38;5;124m../../\u001b[39m\u001b[38;5;124m\"\u001b[39m )\n\u001b[1;32m----> 3\u001b[0m \u001b[38;5;28;01mimport\u001b[39;00m \u001b[38;5;21;01mchimes\u001b[39;00m \u001b[38;5;28;01mas\u001b[39;00m \u001b[38;5;21;01mchm\u001b[39;00m\n\u001b[0;32m      6\u001b[0m \u001b[38;5;28;01mfrom\u001b[39;00m \u001b[38;5;21;01mIPython\u001b[39;00m\u001b[38;5;21;01m.\u001b[39;00m\u001b[38;5;21;01mdisplay\u001b[39;00m \u001b[38;5;28;01mimport\u001b[39;00m display,HTML,Markdown\n\u001b[0;32m      7\u001b[0m \u001b[38;5;28;01mfrom\u001b[39;00m \u001b[38;5;21;01mIPython\u001b[39;00m\u001b[38;5;21;01m.\u001b[39;00m\u001b[38;5;21;01mdisplay\u001b[39;00m \u001b[38;5;28;01mimport\u001b[39;00m IFrame\n",
      "\u001b[1;31mModuleNotFoundError\u001b[0m: No module named 'chimes'"
     ]
    }
   ],
   "source": [
    "import sys\n",
    "sys.path.insert(0,  \"../../\" )\n",
    "import chimes as chm\n",
    "\n",
    "\n",
    "from IPython.display import display,HTML,Markdown\n",
    "from IPython.display import IFrame\n",
    "from itables import init_notebook_mode,options\n",
    "options.columnDefs = [{\"className\": \"dt-left\", \"targets\": \"_all\"}]\n",
    "options.classes=\"display nowrap compact\"\n",
    "options.scrollY=\"400px\"\n",
    "options.scrollCollapse=True\n",
    "options.paging=False\n",
    "\n",
    "init_notebook_mode(all_interactive=True)\n",
    "%matplotlib widget\n",
    "\n",
    "# Pandas display\n",
    "import pandas as pd\n",
    "import numpy as np\n",
    "pd.set_option('display.max_colwidth', None)\n",
    "pd.set_option(\"display.colheader_justify\",\"left\")\n",
    "\n",
    "## Tomas Mazak's workaround\n",
    "import plotly\n",
    "import plotly.graph_objs as go\n",
    "from IPython.display import display, HTML\n",
    "plotly.offline.init_notebook_mode()\n",
    "display(HTML('<script type=\"text/javascript\" async src=\"https://cdnjs.cloudflare.com/ajax/libs/mathjax/2.7.1/MathJax.js?config=TeX-MML-AM_SVG\"></script>'))"
   ]
  },
  {
   "cell_type": "code",
   "execution_count": null,
   "metadata": {},
   "outputs": [],
   "source": [
    "!pytest \"c:\\\\Users\\\\Paul Valcke\\\\Documents\\\\GitHub\\\\CHIMES\\\\tests\" -v --cov=chimes --cov-report html"
   ]
  }
 ],
 "metadata": {
  "kernelspec": {
   "display_name": "py3.11",
   "language": "python",
   "name": "python3"
  },
  "language_info": {
   "codemirror_mode": {
    "name": "ipython",
    "version": 3
   },
   "file_extension": ".py",
   "mimetype": "text/x-python",
   "name": "python",
   "nbconvert_exporter": "python",
   "pygments_lexer": "ipython3",
   "version": "3.11.0"
  }
 },
 "nbformat": 4,
 "nbformat_minor": 2
}
