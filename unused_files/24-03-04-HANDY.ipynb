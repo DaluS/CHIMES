{
 "cells": [
  {
   "cell_type": "code",
   "execution_count": 13,
   "metadata": {},
   "outputs": [
    {
     "ename": "ImportError",
     "evalue": "cannot import name '_plots' from partially initialized module 'chimes' (most likely due to a circular import) (c:\\Users\\Paul Valcke\\Documents\\GitHub\\CHIMES\\notebooks\\Paul\\Daily\\../../..\\chimes\\__init__.py)",
     "output_type": "error",
     "traceback": [
      "\u001b[1;31m---------------------------------------------------------------------------\u001b[0m",
      "\u001b[1;31mImportError\u001b[0m                               Traceback (most recent call last)",
      "Cell \u001b[1;32mIn[13], line 4\u001b[0m\n\u001b[0;32m      1\u001b[0m \u001b[38;5;28;01mimport\u001b[39;00m \u001b[38;5;21;01msys\u001b[39;00m\n\u001b[0;32m      2\u001b[0m sys\u001b[38;5;241m.\u001b[39mpath\u001b[38;5;241m.\u001b[39minsert(\u001b[38;5;241m0\u001b[39m,  \u001b[38;5;124m\"\u001b[39m\u001b[38;5;124m../../\u001b[39m\u001b[38;5;124m\"\u001b[39m )\n\u001b[1;32m----> 4\u001b[0m \u001b[38;5;28;01mimport\u001b[39;00m \u001b[38;5;21;01mchimes\u001b[39;00m \u001b[38;5;28;01mas\u001b[39;00m \u001b[38;5;21;01mchm\u001b[39;00m\n",
      "File \u001b[1;32mc:\\Users\\Paul Valcke\\Documents\\GitHub\\CHIMES\\notebooks\\Paul\\Daily\\../../..\\chimes\\__init__.py:22\u001b[0m\n\u001b[0;32m     20\u001b[0m \u001b[38;5;28;01mimport\u001b[39;00m \u001b[38;5;21;01mos\u001b[39;00m \u001b[38;5;28;01mas\u001b[39;00m \u001b[38;5;21;01m_os\u001b[39;00m\n\u001b[0;32m     21\u001b[0m \u001b[38;5;66;03m# from ._chm_get import get_available_plots\u001b[39;00m\n\u001b[1;32m---> 22\u001b[0m \u001b[38;5;28;01mfrom\u001b[39;00m \u001b[38;5;21;01m.\u001b[39;00m\u001b[38;5;21;01m_chm_get\u001b[39;00m \u001b[38;5;28;01mimport\u001b[39;00m get_available_fields\n\u001b[0;32m     23\u001b[0m \u001b[38;5;28;01mfrom\u001b[39;00m \u001b[38;5;21;01m.\u001b[39;00m\u001b[38;5;21;01m_chm_get\u001b[39;00m \u001b[38;5;28;01mimport\u001b[39;00m get_available_config\n\u001b[0;32m     24\u001b[0m \u001b[38;5;28;01mfrom\u001b[39;00m \u001b[38;5;21;01m.\u001b[39;00m\u001b[38;5;21;01m_chm_get\u001b[39;00m \u001b[38;5;28;01mimport\u001b[39;00m get_available_models\n",
      "File \u001b[1;32mc:\\Users\\Paul Valcke\\Documents\\GitHub\\CHIMES\\notebooks\\Paul\\Daily\\../../..\\chimes\\_chm_get.py:15\u001b[0m\n\u001b[0;32m     12\u001b[0m \u001b[38;5;28;01mimport\u001b[39;00m \u001b[38;5;21;01mos\u001b[39;00m\n\u001b[0;32m     14\u001b[0m \u001b[38;5;28;01mfrom\u001b[39;00m \u001b[38;5;21;01m.\u001b[39;00m\u001b[38;5;21;01m_core\u001b[39;00m \u001b[38;5;28;01mimport\u001b[39;00m Hub\n\u001b[1;32m---> 15\u001b[0m \u001b[38;5;28;01mfrom\u001b[39;00m \u001b[38;5;21;01m.\u001b[39;00m \u001b[38;5;28;01mimport\u001b[39;00m _plots \u001b[38;5;28;01mas\u001b[39;00m plots\n\u001b[0;32m     16\u001b[0m \u001b[38;5;28;01mfrom\u001b[39;00m \u001b[38;5;21;01m.\u001b[39;00m\u001b[38;5;21;01m_models\u001b[39;00m \u001b[38;5;28;01mimport\u001b[39;00m _get_DMODEL, Funcs, Operators\n\u001b[0;32m     17\u001b[0m \u001b[38;5;28;01mfrom\u001b[39;00m \u001b[38;5;21;01m.\u001b[39;00m\u001b[38;5;21;01m_core_functions\u001b[39;00m \u001b[38;5;28;01mimport\u001b[39;00m _utils\n",
      "\u001b[1;31mImportError\u001b[0m: cannot import name '_plots' from partially initialized module 'chimes' (most likely due to a circular import) (c:\\Users\\Paul Valcke\\Documents\\GitHub\\CHIMES\\notebooks\\Paul\\Daily\\../../..\\chimes\\__init__.py)"
     ]
    }
   ],
   "source": [
    "import sys\n",
    "sys.path.insert(0,  \"../../\" )\n",
    "\n",
    "import chimes as chm"
   ]
  },
  {
   "cell_type": "code",
   "execution_count": 9,
   "metadata": {},
   "outputs": [
    {
     "ename": "ImportError",
     "evalue": "cannot import name '_plots' from partially initialized module 'chimes' (most likely due to a circular import) (c:\\Users\\Paul Valcke\\Documents\\GitHub\\CHIMES\\notebooks\\Paul\\Daily\\../../..\\chimes\\__init__.py)",
     "output_type": "error",
     "traceback": [
      "\u001b[1;31m---------------------------------------------------------------------------\u001b[0m",
      "\u001b[1;31mImportError\u001b[0m                               Traceback (most recent call last)",
      "Cell \u001b[1;32mIn[9], line 3\u001b[0m\n\u001b[0;32m      1\u001b[0m \u001b[38;5;28;01mimport\u001b[39;00m \u001b[38;5;21;01msys\u001b[39;00m\n\u001b[0;32m      2\u001b[0m sys\u001b[38;5;241m.\u001b[39mpath\u001b[38;5;241m.\u001b[39minsert(\u001b[38;5;241m0\u001b[39m,  \u001b[38;5;124m\"\u001b[39m\u001b[38;5;124m../../../\u001b[39m\u001b[38;5;124m\"\u001b[39m )\n\u001b[1;32m----> 3\u001b[0m \u001b[38;5;28;01mimport\u001b[39;00m \u001b[38;5;21;01mchimes\u001b[39;00m \u001b[38;5;28;01mas\u001b[39;00m \u001b[38;5;21;01mchm\u001b[39;00m\n",
      "File \u001b[1;32mc:\\Users\\Paul Valcke\\Documents\\GitHub\\CHIMES\\notebooks\\Paul\\Daily\\../../..\\chimes\\__init__.py:21\u001b[0m\n\u001b[0;32m      1\u001b[0m \u001b[38;5;124;03m\"\"\"\u001b[39;00m\n\u001b[0;32m      2\u001b[0m \u001b[38;5;124;03mCHIMES:\u001b[39;00m\n\u001b[0;32m      3\u001b[0m \u001b[38;5;124;03mCore for Holistic Intertwined Models of Ecological Sustainability\u001b[39;00m\n\u001b[1;32m   (...)\u001b[0m\n\u001b[0;32m     18\u001b[0m \u001b[38;5;124;03m* Update the interface.ipynb  \u001b[39;00m\n\u001b[0;32m     19\u001b[0m \u001b[38;5;124;03m\"\"\"\u001b[39;00m\n\u001b[0;32m     20\u001b[0m \u001b[38;5;28;01mimport\u001b[39;00m \u001b[38;5;21;01mos\u001b[39;00m \u001b[38;5;28;01mas\u001b[39;00m \u001b[38;5;21;01m_os\u001b[39;00m\n\u001b[1;32m---> 21\u001b[0m \u001b[38;5;28;01mfrom\u001b[39;00m \u001b[38;5;21;01m.\u001b[39;00m\u001b[38;5;21;01m_chm_get\u001b[39;00m \u001b[38;5;28;01mimport\u001b[39;00m get_available_plots\n\u001b[0;32m     22\u001b[0m \u001b[38;5;28;01mfrom\u001b[39;00m \u001b[38;5;21;01m.\u001b[39;00m\u001b[38;5;21;01m_chm_get\u001b[39;00m \u001b[38;5;28;01mimport\u001b[39;00m get_available_fields\n\u001b[0;32m     23\u001b[0m \u001b[38;5;28;01mfrom\u001b[39;00m \u001b[38;5;21;01m.\u001b[39;00m\u001b[38;5;21;01m_chm_get\u001b[39;00m \u001b[38;5;28;01mimport\u001b[39;00m get_available_config\n",
      "File \u001b[1;32mc:\\Users\\Paul Valcke\\Documents\\GitHub\\CHIMES\\notebooks\\Paul\\Daily\\../../..\\chimes\\_chm_get.py:15\u001b[0m\n\u001b[0;32m     12\u001b[0m \u001b[38;5;28;01mimport\u001b[39;00m \u001b[38;5;21;01mos\u001b[39;00m\n\u001b[0;32m     14\u001b[0m \u001b[38;5;28;01mfrom\u001b[39;00m \u001b[38;5;21;01m.\u001b[39;00m\u001b[38;5;21;01m_core\u001b[39;00m \u001b[38;5;28;01mimport\u001b[39;00m Hub\n\u001b[1;32m---> 15\u001b[0m \u001b[38;5;28;01mfrom\u001b[39;00m \u001b[38;5;21;01m.\u001b[39;00m \u001b[38;5;28;01mimport\u001b[39;00m _plots \u001b[38;5;28;01mas\u001b[39;00m plots\n\u001b[0;32m     16\u001b[0m \u001b[38;5;28;01mfrom\u001b[39;00m \u001b[38;5;21;01m.\u001b[39;00m\u001b[38;5;21;01m_models\u001b[39;00m \u001b[38;5;28;01mimport\u001b[39;00m _get_DMODEL, Funcs, Operators\n\u001b[0;32m     17\u001b[0m \u001b[38;5;28;01mfrom\u001b[39;00m \u001b[38;5;21;01m.\u001b[39;00m\u001b[38;5;21;01m_core_functions\u001b[39;00m \u001b[38;5;28;01mimport\u001b[39;00m _utils\n",
      "\u001b[1;31mImportError\u001b[0m: cannot import name '_plots' from partially initialized module 'chimes' (most likely due to a circular import) (c:\\Users\\Paul Valcke\\Documents\\GitHub\\CHIMES\\notebooks\\Paul\\Daily\\../../..\\chimes\\__init__.py)"
     ]
    }
   ],
   "source": [
    "import sys\n",
    "sys.path.insert(0,  \"../../../\" )\n",
    "import chimes as chm"
   ]
  },
  {
   "cell_type": "code",
   "execution_count": null,
   "metadata": {},
   "outputs": [],
   "source": [
    "dir(chm._plots)"
   ]
  },
  {
   "cell_type": "code",
   "execution_count": null,
   "metadata": {},
   "outputs": [],
   "source": [
    "hub=chm.Hub('HANDY',verb=True)\n",
    "hub.get_summary()"
   ]
  },
  {
   "cell_type": "code",
   "execution_count": null,
   "metadata": {},
   "outputs": [],
   "source": [
    "hub.run()\n"
   ]
  },
  {
   "cell_type": "code",
   "execution_count": null,
   "metadata": {},
   "outputs": [],
   "source": [
    "R.keys()"
   ]
  },
  {
   "cell_type": "code",
   "execution_count": null,
   "metadata": {},
   "outputs": [],
   "source": [
    "R['deltastar']"
   ]
  },
  {
   "cell_type": "code",
   "execution_count": null,
   "metadata": {},
   "outputs": [],
   "source": [
    "Expressions = [\n",
    "\"'func': lambda K, I, delta: I - delta * K\",\n",
    "\"'K': {'func': lambda K, I, delta: I - delta * K},\",\n",
    "\"'K': {'func': lambda K, I, delta: I - delta * K,\",\n",
    "\"'K': lambda K, I, delta: I - delta * K,\",\n",
    "\"K = lambda K, I, delta: I - delta * K,\",\n",
    "\"K = dict( func = lambda K, I, delta: I - delta * K,\",\n",
    "\"K = {'func': lambda K, I, delta: I - delta * K},\",\n",
    "\"K = {'func': lambda K, I, delta: I - delta * K,\"\n",
    "]"
   ]
  },
  {
   "cell_type": "code",
   "execution_count": null,
   "metadata": {},
   "outputs": [],
   "source": [
    "for sour in Expressions:\n",
    "    print(sour.split(':')[-1])"
   ]
  },
  {
   "cell_type": "code",
   "execution_count": null,
   "metadata": {},
   "outputs": [],
   "source": []
  }
 ],
 "metadata": {
  "kernelspec": {
   "display_name": "py3.11",
   "language": "python",
   "name": "python3"
  },
  "language_info": {
   "codemirror_mode": {
    "name": "ipython",
    "version": 3
   },
   "file_extension": ".py",
   "mimetype": "text/x-python",
   "name": "python",
   "nbconvert_exporter": "python",
   "pygments_lexer": "ipython3",
   "version": "3.11.0"
  }
 },
 "nbformat": 4,
 "nbformat_minor": 2
}
