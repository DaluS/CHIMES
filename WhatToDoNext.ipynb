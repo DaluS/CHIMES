{
 "cells": [
  {
   "cell_type": "markdown",
   "id": "d27e9305",
   "metadata": {},
   "source": [
    "# What to do next ? \n",
    "\n",
    "## Beta-testing\n",
    "* Multipe users to test the system\n",
    "* More unitary tests (and unitary test that works)\n",
    "* Publication of an issue everytime someone has a problem (\n",
    "\n",
    "## Sharing ?\n",
    "* A public use of the library : \n",
    "    * making the library available for research (a package)\n",
    "    * publication going with \n",
    "\n",
    "## More models\n",
    "* A library of models from previous litterature  (see https://github.com/DaluS/GEMMES/projects/1) \n",
    "\n",
    "## More functionality    \n",
    "* Graphs of preset taken into account\n",
    "* parrallel system for sensibility / basin of attraction analysis\n",
    "* wrap-up functions for sensibility / basin of attraction analysis\n",
    "* Automatic dimensionless quantities !\n",
    "* Growth rate for each relevant variable\n",
    "\n",
    "## More type of physics \n",
    "* Adding PDE-Network dynamics \n",
    "* Adding DDE solver \n",
    "* Adding stochastic terms \n",
    "* Adding exterior binding (in general, nonlambda functions in the model)\n",
    "\n",
    "## Let's be wild \n",
    "* Fixed point in intermediary variable solver\n",
    "* Local optimisation behavior solver\n",
    "* Variable time-step in the system\n",
    "* **An overlay with stock-flow consistent tables to deduce the model file from it**\n",
    "\n",
    "\n"
   ]
  },
  {
   "cell_type": "code",
   "execution_count": null,
   "id": "b80e4311",
   "metadata": {},
   "outputs": [],
   "source": []
  }
 ],
 "metadata": {
  "kernelspec": {
   "display_name": "Python 3",
   "language": "python",
   "name": "python3"
  },
  "language_info": {
   "codemirror_mode": {
    "name": "ipython",
    "version": 3
   },
   "file_extension": ".py",
   "mimetype": "text/x-python",
   "name": "python",
   "nbconvert_exporter": "python",
   "pygments_lexer": "ipython3",
   "version": "3.8.8"
  }
 },
 "nbformat": 4,
 "nbformat_minor": 5
}
