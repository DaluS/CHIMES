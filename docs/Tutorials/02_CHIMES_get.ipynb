{
 "cells": [
  {
   "cell_type": "code",
   "execution_count": null,
   "metadata": {},
   "outputs": [],
   "source": [
    "# Basic imports\n",
    "import numpy as np\n",
    "\n",
    "# CHIMES IMPORTATION\n",
    "import sys\n",
    "sys.path.insert(0, '../../')\n",
    "import chimes as chm\n"
   ]
  },
  {
   "cell_type": "code",
   "execution_count": null,
   "metadata": {},
   "outputs": [],
   "source": [
    "# IMPROVING THE DISPLAY (OPTIONAL) ##############################\n",
    "# Better display of tables\n",
    "import pandas as pd\n",
    "pd.set_option('display.max_colwidth', None)\n",
    "pd.set_option(\"display.colheader_justify\",\"left\")\n",
    "\n",
    "# Interactive tables \n",
    "from itables import init_notebook_mode,options\n",
    "options.columnDefs = [{\"className\": \"dt-left\", \"targets\": \"_all\"}]\n",
    "options.classes=\"display nowrap compact\"\n",
    "options.scrollY=\"400px\"\n",
    "options.scrollCollapse=True\n",
    "options.paging=False\n",
    "init_notebook_mode(all_interactive=True)\n",
    "\n",
    "# traditional display for ipython\n",
    "from IPython.display import display,HTML,Markdown\n",
    "from IPython.display import IFrame\n",
    "\n",
    "# Better display of plots ##############################\n",
    "%matplotlib widget\n",
    "import plotly\n",
    "plotly.offline.init_notebook_mode()\n",
    "display(HTML('<script type=\"text/javascript\" async src=\"https://cdnjs.cloudflare.com/ajax/libs/mathjax/2.7.1/MathJax.js?config=TeX-MML-AM_SVG\"></script>'))\n"
   ]
  },
  {
   "cell_type": "markdown",
   "metadata": {},
   "source": [
    "**Table of contents**<a id='toc0_'></a>    \n",
    "- [CHIMES INTROSPECTION : Get Methods](#toc1_)    \n",
    "  - [Models](#toc1_1_)    \n",
    "  - [Fields](#toc1_2_)    \n",
    "  - [How config work ?](#toc1_3_)    \n",
    "  - [How plots work ?](#toc1_4_)    \n",
    "  - [Functions](#toc1_5_)    \n",
    "  - [Operators](#toc1_6_)    \n",
    "  - [Saves](#toc1_7_)    \n",
    "\n",
    "<!-- vscode-jupyter-toc-config\n",
    "\tnumbering=false\n",
    "\tanchor=true\n",
    "\tflat=false\n",
    "\tminLevel=1\n",
    "\tmaxLevel=6\n",
    "\t/vscode-jupyter-toc-config -->\n",
    "<!-- THIS CELL WILL BE REPLACED ON TOC UPDATE. DO NOT WRITE YOUR TEXT IN THIS CELL -->"
   ]
  },
  {
   "cell_type": "markdown",
   "metadata": {},
   "source": [
    "# <a id='toc1_'></a>[CHIMES INTROSPECTION : Get Methods](#toc0_)\n",
    "\n",
    "CHIMES can gather many elements and make them interact. Some are composed of others types! For example, a model is composed of fields, and a run can be saved as a file that you can reuse, and plot its results. \n",
    "By default, CHIMES give you the following objects: \n",
    "* **fields** Any quantity that can exist in the system: temperature, debt, size, efficiency... With all its attributes. You can use those (recommended) and add your own when relevant\n",
    "* **functions** Logics that are often found in models to link some fields to others in term of values\n",
    "* **models** The most important one ! Models are linking fields with logics (functions), explain why one would do so and the typical plots and values you should use with it. CHIMES is made for models. You can use the existing one, create your own and couple models. Once they are loaded in the Hub, you can modify all their values\n",
    "* **model_documentation** As many information as you can need to understand a model\n",
    "* **saves** files of saved run using a models, in which you changed values, made simulations...\n",
    "* **config** an ensemble of parameters that change the behavior of the library itself (for advanced users only)\n",
    "* **plots** homebrewed plots to display your simulations \n",
    "* **operators** pieces of functions useful when you create a multisectoral or multiregional models \n",
    "\n",
    "### What should you master before going further ?\n",
    "\n",
    "Depending of your level, we recommend: \n",
    "\n",
    "* **users** should know `get_available_models()`, `get_model_documentation(modelname)`\n",
    "* **advanced user** should know `get_available_plot()`, `get_available_save()`\n",
    "* **modeler** should know `get_available_functions()`, `get_available_fields()`\n",
    "* **advanced modeler** should know `get_available_operators()`\n",
    "* **power-user** should know `get_available_config()`"
   ]
  },
  {
   "cell_type": "markdown",
   "metadata": {},
   "source": [
    "## <a id='toc1_1_'></a>[Models](#toc0_)\n",
    "\n",
    "Models are the core of CHIMES. They are the dynamical systems that are simulated.\n",
    "A model is a set of equations, that is written in a python file and read by the library. \n",
    "As a use you do not have to write your model, you can just load the existing one. \n",
    "\n",
    "At first glance, you chan check `chm.get_available_models()` to see which models are there. This function give you the dataframe of model you can put in the hub, with a short description. \n",
    "\n",
    "You can also get the full description of the model with `chm.get_model_documentation(modelname)`\n",
    "\n",
    "Once you know which model you want to explore, do `hub=chm.Hub(modelname)` to create a hub with this model, and continue the exploration.\n",
    "\n",
    "If you want to include your own model files, you have to change the model private folder in `chm.config` (see below)"
   ]
  },
  {
   "cell_type": "code",
   "execution_count": null,
   "metadata": {},
   "outputs": [],
   "source": [
    "chm.get_available_models()"
   ]
  },
  {
   "cell_type": "code",
   "execution_count": null,
   "metadata": {},
   "outputs": [],
   "source": [
    "chm.get_model_documentation('Goodwin_example') # more documentation"
   ]
  },
  {
   "cell_type": "markdown",
   "metadata": {},
   "source": [
    "## <a id='toc1_2_'></a>[Fields](#toc0_)\n",
    "\n",
    "Fields are quantities that can be used in models, such as temperature or price. \n",
    "Most are defined in the library, but some are defined in models: \n",
    "    you can use those in the library without adding details, they will be automatically loaded (units, symbol, default value,etc.)\n",
    "    If you use your own fields, you need to add their property in the model file (see the template)\n",
    "\n",
    "Retrieves all fields in CHIMES along with their units, default values, and additional information.\n",
    "This function loads the library of fields and, if exploreModels is True, all fields defined inside each available model. \n"
   ]
  },
  {
   "cell_type": "code",
   "execution_count": null,
   "metadata": {},
   "outputs": [],
   "source": [
    "chm.get_available_fields(exploreModels=True)"
   ]
  },
  {
   "cell_type": "markdown",
   "metadata": {},
   "source": [
    "## <a id='toc1_3_'></a>[How config work ?](#toc0_)\n",
    "\n",
    "The config element contains customization elements for the library, for you to change its global behavior, folders, verbose, warning, accepted entries... It is not something you should modify first but that should remain accessible.  \n",
    "* To know more about the config variables, their current values, their possible values, utse `chm.get_available_config()` or `config.get()`\n",
    "* To get one variable current value `chm.config.get_current(valuename)`\n",
    "* To change a value, use `chm.config.set_value(key,value)` or  `chm.config.set_value(**{key:value, [...] })`\n",
    "* To see what customization values are currently taken into account, use `chm.config.read_local_config()` \n",
    "* To reset customized values, use `chm.config.reset(key)` or  `chm.config.reset([list of keys, ...])` or `chm.config.reset('all')`"
   ]
  },
  {
   "cell_type": "code",
   "execution_count": null,
   "metadata": {},
   "outputs": [],
   "source": [
    "chm.get_available_config()"
   ]
  },
  {
   "cell_type": "markdown",
   "metadata": {},
   "source": [
    "## <a id='toc1_4_'></a>[How plots work ?](#toc0_)\n",
    "\n",
    "CHIMES contains an ensemble of plots based on matplotlib or plotly, that are made for the local formalism. \n",
    "Each has been develop to show specific aspect of your runs, some model properties or to represent additional toolbox calculations. \n",
    "\n",
    "To know which plot is available, use `chm.get_available_plots()`\n",
    "\n",
    "Once you know which plot you want to consider, use `chm.Plots.PLOTNAME(hub, **ARGUMENTS )` with the ARGUMENTS from the plot docstring. \n",
    "\n",
    "The structure of the arguments will always be : \n",
    "* Variables, keys, filters that are considered\n",
    "* indexes about region, parrallel system, time \n",
    "* special properties of the plot activated through flags\n",
    "* titles and decorators \n",
    "\n",
    "you can always do `chm.Plots.PLOTNAME?` to see more information, or check the tutorial file on plots, or use `chm.get_plot_documentation(plotname)`"
   ]
  },
  {
   "cell_type": "code",
   "execution_count": null,
   "metadata": {},
   "outputs": [],
   "source": [
    "chm.get_available_plots()"
   ]
  },
  {
   "cell_type": "code",
   "execution_count": null,
   "metadata": {},
   "outputs": [],
   "source": [
    "chm.get_plot_documentation('Sankey')"
   ]
  },
  {
   "cell_type": "markdown",
   "metadata": {},
   "source": [
    "## <a id='toc1_5_'></a>[Functions](#toc0_)\n",
    "\n",
    "the function library contains a set of functions that can be used in the logics of the models. \n",
    "Models can contains other functions than those in the library, but they are not listed here.\n",
    "to use one of those function in your model, do `from chimes._models import Funcs` and then `key : Funcs.category.functionname`"
   ]
  },
  {
   "cell_type": "code",
   "execution_count": null,
   "metadata": {},
   "outputs": [],
   "source": [
    "chm.get_available_functions()"
   ]
  },
  {
   "cell_type": "markdown",
   "metadata": {},
   "source": [
    "## <a id='toc1_6_'></a>[Operators](#toc0_)\n",
    "\n",
    "Operator are special operations that can be introduced in model creations, that are using the tensorial dimensions on the resolution. \n",
    "They are useful for multi-regional (PDE, Network) and multi-agent/multi-sectoral models. You can create your own or use those. "
   ]
  },
  {
   "cell_type": "code",
   "execution_count": null,
   "metadata": {},
   "outputs": [],
   "source": [
    "chm.get_available_operators()"
   ]
  },
  {
   "cell_type": "markdown",
   "metadata": {},
   "source": [
    "## <a id='toc1_7_'></a>[Saves](#toc0_)\n",
    "\n",
    "Once a Hub has new field values, runs, analyses... One might want to save it and reuse it later. that's why Hub hase `Hub.save()` functionnality. \n",
    "\n",
    "CHIMES saves those as `.chm` files in its local directory, and you can access those files by doing `chm.get_available_saves()`. They can then be loaded using `hub=chm.Load('name')`\n",
    "\n",
    "You can change the folder of saves to be explored using `chm.get_available_saves('path_to_private_folder')`, and loaded using `chm.Load('full_file_address)`\n",
    "\n",
    "Please note that Savefiles require that you use the same python version as the one used to generate it !"
   ]
  },
  {
   "cell_type": "code",
   "execution_count": null,
   "metadata": {},
   "outputs": [],
   "source": [
    "chm.get_available_saves()"
   ]
  }
 ],
 "metadata": {
  "kernelspec": {
   "display_name": "py3.11",
   "language": "python",
   "name": "python3"
  },
  "language_info": {
   "codemirror_mode": {
    "name": "ipython",
    "version": 3
   },
   "file_extension": ".py",
   "mimetype": "text/x-python",
   "name": "python",
   "nbconvert_exporter": "python",
   "pygments_lexer": "ipython3",
   "version": "3.11.0"
  }
 },
 "nbformat": 4,
 "nbformat_minor": 2
}
