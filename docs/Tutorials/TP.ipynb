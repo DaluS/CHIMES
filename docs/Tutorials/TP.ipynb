{
  "cells": [
    {
      "cell_type": "markdown",
      "metadata": {},
      "source": [
        "# <a id='toc1_'></a>[TP Introduction CHIMES](#toc0_)"
      ]
    },
    {
      "cell_type": "markdown",
      "metadata": {},
      "source": [
        "**Table of contents**<a id='toc0_'></a>    \n",
        "- [TP Introduction CHIMES](#toc1_)    \n",
        "  - [Importation de la librairie](#toc1_1_)    \n",
        "- [Introduction: Attracteurs](#toc2_)    \n",
        "  - [Introduction : Systemes dynamiques, sensibilite, chaos](#toc2_1_)    \n",
        "    - [Questions](#toc2_1_1_)    \n",
        "    - [Instabilites](#toc2_1_2_)    \n",
        "    - [Incertitude](#toc2_1_3_)    \n",
        "  - [Goodwin-Keen: credit, and debt crisis](#toc2_2_)    \n",
        "    - [Questions sur la courbe de Phillips](#toc2_2_1_)    \n",
        "    - [Questions sur l'investissement](#toc2_2_2_)    \n",
        "    - [Incertitudes de trajectoires](#toc2_2_3_)    \n",
        "    - [Sensibilite individuelles](#toc2_2_4_)    \n",
        "  - [Goodwin-Keen et chocs](#toc2_3_)    \n",
        "  - [\"Coping with Collapse\" Modele economie-climat](#toc2_4_)    \n",
        "\n",
        "<!-- vscode-jupyter-toc-config\n",
        "\tnumbering=false\n",
        "\tanchor=true\n",
        "\tflat=false\n",
        "\tminLevel=1\n",
        "\tmaxLevel=6\n",
        "\t/vscode-jupyter-toc-config -->\n",
        "<!-- THIS CELL WILL BE REPLACED ON TOC UPDATE. DO NOT WRITE YOUR TEXT IN THIS CELL -->"
      ]
    },
    {
      "cell_type": "markdown",
      "metadata": {},
      "source": [
        "Le but du TP est de manipuler des modeles dynamiques et de comprendre leur comportement, force et faiblesse.\n",
        "Pour ce, on utilisera 3 modeles differents de plus en plus complexe.\n",
        "\n"
      ]
    },
    {
      "cell_type": "markdown",
      "metadata": {},
      "source": [
        "## <a id='toc1_1_'></a>[Importation de la librairie](#toc0_)"
      ]
    },
    {
      "cell_type": "code",
      "execution_count": null,
      "metadata": {
        "colab": {
          "base_uri": "https://localhost:8080/"
        },
        "id": "TklXin_yg5x3",
        "outputId": "af0bf236-320a-4926-e866-e116672bdf7b"
      },
      "outputs": [],
      "source": [
        "# Telecharger la librairie qui contient le TP et ses fonctions\n",
        "!git clone https://github.com/DaluS/CHIMES\n",
        "\n",
        "# Installer les dependances de la librairies\n",
        "!pip install -r Climath-CHIMES/requirements.txt\n",
        "\n",
        "# If you use google collab\n",
        "from google.colab import output\n",
        "output.enable_custom_widget_manager()\n",
        "\n",
        "\n",
        "# A ACTIVER POUR DES FIGURES INTERACTIVES\n",
        "import matplotlib.pyplot as plt"
      ]
    },
    {
      "cell_type": "code",
      "execution_count": 1,
      "metadata": {},
      "outputs": [],
      "source": [
        "# Add the library the the path\n",
        "import sys\n",
        "sys.path.insert(0,  \"../../\" )\n",
        "#sys.path.insert(0,  \"CHIMES\" )\n",
        "import chimes as chm\n",
        "\n",
        "%matplotlib widget"
      ]
    },
    {
      "cell_type": "code",
      "execution_count": null,
      "metadata": {},
      "outputs": [],
      "source": [
        "plt.close('all') # A exectuer si vous avez trop de figures ouvertes"
      ]
    },
    {
      "cell_type": "markdown",
      "metadata": {},
      "source": [
        "# <a id='toc2_'></a>[Introduction: Attracteurs](#toc0_)\n",
        "\n",
        "Ici on visualise simplement des trajectoires \"chaotiques\" pour quatres modeles differents. C'est une intro \"mathematique\" aux systemes dynamiques"
      ]
    },
    {
      "cell_type": "code",
      "execution_count": null,
      "metadata": {},
      "outputs": [],
      "source": [
        "dhub={} \n",
        "for ii,attractor in enumerate(['Lorenz','Halvorsen','Aizawa','Rossler']):\n",
        "   dhub[attractor]=chm.Hub(attractor+'_Attractor')\n",
        "   if ii:\n",
        "      dhub[attractor].set_fields(dt=0.05,Tsim=200)\n",
        "   else: \n",
        "      dhub[attractor].set_preset('Canonical example')\n",
        "   dhub[attractor].run()\n",
        "   chm.Plots.XYZ(dhub[attractor],'x','y','z',title=attractor)"
      ]
    },
    {
      "cell_type": "markdown",
      "metadata": {},
      "source": [
        "## <a id='toc2_1_'></a>[Introduction : Systemes dynamiques, sensibilite, chaos](#toc0_)\n",
        "\n",
        "Avant de rentrer dans le coeur de modeles economiques, nous n'avons pas vu en cours l'importance des incertitudes et sensibilite des parametres.\n",
        "Pour ce, on va etudier un systeme qui symbolise toutes les difficultes dans ce type de systeme: l'attracteur de Lorenz."
      ]
    },
    {
      "cell_type": "code",
      "execution_count": null,
      "metadata": {},
      "outputs": [],
      "source": [
        "chm.get_model_documentation('Lorenz_Attractor') # Donne la documentation sur le modele \"Lorenz_Attractor\""
      ]
    },
    {
      "cell_type": "markdown",
      "metadata": {},
      "source": [
        "### <a id='toc2_1_1_'></a>[Questions](#toc0_)\n",
        "1. Quel nombre d'equation il y a dans ce systeme ?\n",
        "2. Combien y a-t-il de points d'equilibres ? Lesquel ?\n"
      ]
    },
    {
      "cell_type": "code",
      "execution_count": null,
      "metadata": {},
      "outputs": [],
      "source": [
        "hub=chm.Hub('Lorenz_Attractor','Canonical example',verb=False) #importer le modele\n",
        "hub.run() #fais une simulation\n",
        "hub.plot() #representer les variables\n",
        "chm.Plots.XYZ(hub,'x','y','z') #representer en 3D"
      ]
    },
    {
      "cell_type": "markdown",
      "metadata": {},
      "source": [
        "### <a id='toc2_1_2_'></a>[Instabilites](#toc0_)\n",
        "\n",
        "On commence le systeme au niveau d'un point d'equilibre.  "
      ]
    },
    {
      "cell_type": "code",
      "execution_count": null,
      "metadata": {
        "colab": {
          "base_uri": "https://localhost:8080/",
          "height": 1000
        },
        "id": "T_Kvc2txg5x5",
        "outputId": "eea1bbb2-448f-462a-c6d9-dbfbfc3c6d97"
      },
      "outputs": [],
      "source": [
        "hub=chm.Hub('Lorenz_Attractor','BeginEQ1') #importer le modele\n",
        "hub.run() #fais une simulation\n",
        "hub.plot()\n",
        "chm.Plots.XYZ(hub,'x','y','z')"
      ]
    },
    {
      "cell_type": "markdown",
      "metadata": {
        "id": "JJHZMCrag5x5"
      },
      "source": [
        "3. Decrire la trajectoire. Le point d'equilibre est-il stable ?\n",
        "4. A partir de quand les effets non-lineaire sont a prendre en compte ?\n",
        "5. Le point initial est-il important dans un tel systeme ?\n",
        "6. Bonus: calculer analytiquement l'equilibre du point\n",
        "\n"
      ]
    },
    {
      "cell_type": "markdown",
      "metadata": {},
      "source": [
        "Le point d'équilibre vient lorsque $\\frac{dx}{dt} = 0$, $\\frac{dy}{dt} = 0$, $\\frac{dz}{dt} = 0$. Bien entendu, le point $(0, 0, 0)$ est toujours un point d'équilibre.\n",
        "Regardons plus en détail les points d'équilibre :\n",
        "\\begin{align*}\n",
        "0 &= \\sigma (y-x) \\\\\n",
        "0 &= x*(\\rho - z) - y \\\\\n",
        "0 &= xy - \\beta z \\\\\n",
        "\\end{align*}\n",
        "d'où : $y = x$, $z = \\frac{x^2}{\\beta}$ et $x = \\pm \\sqrt{ \\beta (\\rho - 1)}$. Ceci n'est valable effectivement que dans le cas où $\\rho > 1$.\n",
        "\n",
        "Ce qui donne :\n",
        "\\begin{align*}\n",
        "x &= \\pm \\sqrt{ \\beta (\\rho - 1)} \\\\\n",
        "y &= \\pm \\sqrt{ \\beta (\\rho - 1)} \\\\\n",
        "z &= \\rho - 1\n",
        "\\end{align*}\n",
        "\n",
        "Comme précisé plus tôt, les points d'équilibre sont symétriques par rapport à l'axe (Oz) !\n"
      ]
    },
    {
      "cell_type": "markdown",
      "metadata": {},
      "source": [
        "### <a id='toc2_1_3_'></a>[Incertitude](#toc0_)\n",
        "\n",
        "Lorsque l'on fait de la simulation, on utilise usuellement une valeur par parametre/condition initiale calibree. Hors, il peut exister une incertitude sur ces calibrations.\n",
        "A quel point cela affecte la clarte des resultats ?\n",
        "\n",
        "Ici, on fait tourner en parrallele 10 simulations avec des valeurs de conditions initiales qui varient de 0.01%. On fait ensuite un calcul de l'evolution moyenne et de l'ecart-type sur la simulation"
      ]
    },
    {
      "cell_type": "code",
      "execution_count": null,
      "metadata": {
        "colab": {
          "base_uri": "https://localhost:8080/",
          "height": 873
        },
        "id": "chvsd_m8g5x5",
        "outputId": "09968f29-de28-436d-8976-056a16452d67"
      },
      "outputs": [],
      "source": [
        "hub=chm.Hub('Lorenz_Attractor','Canonical example')\n",
        "hub.run_uncertainty(0.01) # On fait 0.01% d'erreur sur les valeurs des champs\n",
        "hub.plot(idx=0,filters_key=['x','z'],separate_variables={'':'x'}) # On regarde le premier systeme\n",
        "hub.plot(idx=1,filters_key=['x','z'],separate_variables={'':'x'}) # On regarde le deuxieme systeme\n"
      ]
    },
    {
      "cell_type": "markdown",
      "metadata": {
        "id": "fAzOESO0g5x5"
      },
      "source": [
        "7. Qualitativement les deux trajectoires sont-elle les meme ?"
      ]
    },
    {
      "cell_type": "code",
      "execution_count": null,
      "metadata": {
        "colab": {
          "base_uri": "https://localhost:8080/",
          "height": 542
        },
        "id": "vh_VCP52g5x5",
        "outputId": "5449e9b2-7ee7-4cf8-86a7-ea28b4f4d685"
      },
      "outputs": [],
      "source": [
        "chm.Plots.plotnyaxis(hub,[['x']],title=r'Uncertainty for 0.01% of error on fields value') # On regarde l'incertitude sur x et y"
      ]
    },
    {
      "cell_type": "markdown",
      "metadata": {
        "id": "OB2VsGLyg5x5"
      },
      "source": [
        "8. A partir de quand la prediction de trajectoire cesse-t-elle d'etre correcte avec cette incertitude ?\n",
        "9. Que ce passe-t-il au point de rupture ?\n",
        "10. Discuter, dans ce contexte, la difficulte de la modelisation en sociologie ou \"chaque decision est une bifurcation\"\n",
        "11. Quelles proprietes emergentes pourrait-on etudier d'un tel systeme sans souffrir de cette sensibilite ?\n",
        "12. BONUS: Etablir qualitativement une relation entre le taux d'incertitude et le moment la simulation se perd dans l'incertitude. On pourra utiliser le code en dessous, en le modifiant avec une boucle for"
      ]
    },
    {
      "cell_type": "code",
      "execution_count": null,
      "metadata": {},
      "outputs": [],
      "source": [
        "for incertitude in [1, 2, 3, 4, 5, 6, 7, 8, 9, 10]:\n",
        "  hub=chm.Hub('Lorenz_Attractor','Canonical example')\n",
        "  hub.set_fields('Tsim',50)\n",
        "  hub.run_uncertainty(incertitude) # On fait 0.01% d'erreur sur les valeurs des champs\n",
        "  chm._plots.plotnyaxis(hub,[['x']],title=f'Uncertainty for {incertitude}% of error on fields value') # On regarde l'incertitude sur x et y"
      ]
    },
    {
      "cell_type": "markdown",
      "metadata": {},
      "source": [
        "## <a id='toc2_2_'></a>[Goodwin-Keen: credit, and debt crisis](#toc0_)\n",
        "\n",
        "On etudie maintenant un modele dit de \"Goodwin-Keen\" c'est a dire le modele de Goodwin (debut du cours) avec en plus une possibilite d'investissement par endettement, et une possibilite d'inflation."
      ]
    },
    {
      "cell_type": "code",
      "execution_count": null,
      "metadata": {},
      "outputs": [],
      "source": [
        "chm.get_model_documentation('GK') # Donne la documentation sur le modele \"GK\""
      ]
    },
    {
      "cell_type": "markdown",
      "metadata": {},
      "source": [
        "### <a id='toc2_2_1_'></a>[Questions sur la courbe de Phillips](#toc0_)\n",
        "13. Qu'est-ce que la courbe de Phillips ?\n",
        "14. Qu'est-ce qui est en entree, qu'est-ce qui est en sortie ?\n",
        "15. Que se passe-t-il quand lambda tends vers 1 ?\n",
        "16. Quel impact sur l'espace des phases par rapport a une forme lineaire ? Cela semble-t-il realiste ?\n",
        "\n",
        "### <a id='toc2_2_2_'></a>[Questions sur l'investissement](#toc0_)\n",
        "17. Qu'est-ce que le terme kappa ici ?\n",
        "18. Sous quel critere on peut avoir $\\kappa(\\pi) \\approx \\pi$ ? Quelle dynamique dans ce cas la ?"
      ]
    },
    {
      "cell_type": "code",
      "execution_count": null,
      "metadata": {
        "colab": {
          "base_uri": "https://localhost:8080/",
          "height": 1000
        },
        "id": "eyCoL2keg5x6",
        "outputId": "8880cbc9-ffcf-4573-cb20-284436c506b4"
      },
      "outputs": [],
      "source": [
        "hub=chm.Hub('GK') #importer le modele\n",
        "#hub.get_Network() # Montre le diagrame causal du modele. Si cela ne marche pas, affichez directement le fichier \"GK.html\"\n",
        "\n",
        "# Basic run\n",
        "hub.set_fields('Tsim',100)\n",
        "hub.set_fields('eta',0)\n",
        "hub.run()\n",
        "hub.plot()\n",
        "chm._plots.XYZ(hub,'employment','omega','d')\n",
        "chm._plots.Var(hub,'employment',mode='cycles',title='Employment')\n",
        "chm._plots.Var(hub,'d',mode='cycles',title='debt ratio')\n"
      ]
    },
    {
      "cell_type": "markdown",
      "metadata": {},
      "source": [
        "19. Cette simulation converge-t-elle vers un état stable ?\n",
        "20. Decrire l'evolution de la dette privee. La dette privee converge-t-elle ? Le ratio de dette privee converge-t-il ?  "
      ]
    },
    {
      "cell_type": "markdown",
      "metadata": {},
      "source": [
        "### <a id='toc2_2_3_'></a>[Incertitudes de trajectoires](#toc0_)\n",
        "\n",
        "On suppose que le modele est correctement parametrise (ce n'est pas le cas). On regarde l'effet de l'incertitude.\n"
      ]
    },
    {
      "cell_type": "code",
      "execution_count": null,
      "metadata": {},
      "outputs": [],
      "source": [
        "hub=chm.Hub('GK')\n",
        "hub.run_uncertainty(8)\n",
        "chm._plots.plotnyaxis(hub,[['employment'],['omega'],['d']],title=r'Uncertainty for 5% of error on fields value') # On regarde l'incertitude sur x et y"
      ]
    },
    {
      "cell_type": "markdown",
      "metadata": {},
      "source": [
        "21. Lancer plusieurs fois le code avec 8% d'incertitudes sur les valeurs. Qu'observez vous ?\n",
        "\n",
        "### <a id='toc2_2_4_'></a>[Sensibilite individuelles](#toc0_)\n",
        "\n",
        "Cette fois, on analyse les impacts separes des differentes valeurs du systeme"
      ]
    },
    {
      "cell_type": "code",
      "execution_count": null,
      "metadata": {
        "colab": {
          "base_uri": "https://localhost:8080/",
          "height": 1000
        },
        "id": "r70LN25mg5x6",
        "outputId": "6d10d81d-6602-451d-b380-0de5597eaf8f"
      },
      "outputs": [],
      "source": [
        "hub=chm.Hub('GK')\n",
        "hub.set_fields('Tsim',30)\n",
        "out= hub.sensitivity(std=0.05) # 5% d'erreur sur les valeurs\n",
        "chm._plots.Showsensitivity(out,vars=['omega','d']) # title='Influence des changements de variables sur omega et d'\n",
        "\n",
        "chm._plots.Showsensitivity(out,vars=['Y']) # plot sur la variable Y (PIB)"
      ]
    },
    {
      "cell_type": "markdown",
      "metadata": {},
      "source": [
        "22. Quel sont les valeurs les plus impactantes ? A quel moment dans le run la sensibilite est-elle la plus elevee ? Pourquoi sur Y les incertitudes grandissent-elle et pourquoi ?\n",
        "\n",
        "23. Proposer une classification des variables selon qu'elles impacte le debut et la fin de run, et les variable de sortie observe"
      ]
    },
    {
      "cell_type": "markdown",
      "metadata": {},
      "source": [
        "## <a id='toc2_3_'></a>[Goodwin-Keen et chocs](#toc0_)\n",
        "\n",
        "Un systeme economique peut subir des chocs exogene, qui viennent changer des valeurs dans le systeme, le perturber..."
      ]
    },
    {
      "cell_type": "code",
      "execution_count": null,
      "metadata": {
        "colab": {
          "base_uri": "https://localhost:8080/",
          "height": 870
        },
        "id": "Nfa-O4vug5x7",
        "outputId": "6f338df0-58c6-4abf-b5a6-7808d4afaf32"
      },
      "outputs": [],
      "source": [
        "hub=chm.Hub('GK')\n",
        "hub.run(steps=500,verb=False)\n",
        "R=hub.get_dfields()\n",
        "K0=R['K']['value'][500,0,0,0,0]\n",
        "hub.set_fields(**{'K':K0/2},noreset=True)\n",
        "hub.run()\n",
        "hub.plot(filters_units=['','Units','y'],separate_variables={'':['pi','kappa']},title='capital shock')"
      ]
    },
    {
      "cell_type": "markdown",
      "metadata": {
        "id": "zjdw8DD3g5x7"
      },
      "source": [
        "24. Qu'est-ce qui se passe a T=50 ? Comment le systeme reagit-il ?\n"
      ]
    },
    {
      "cell_type": "code",
      "execution_count": null,
      "metadata": {
        "colab": {
          "base_uri": "https://localhost:8080/",
          "height": 870
        },
        "id": "TT8v7XM2g5x7",
        "outputId": "281ccef8-25d5-4d4e-eff5-0875b1c26def"
      },
      "outputs": [],
      "source": [
        "hub=chm.Hub('GK')\n",
        "hub.run(steps=500,verb=False)\n",
        "R=hub.get_dfields()\n",
        "delta=R['delta']['value'][0,0,0,0]\n",
        "hub.set_fields(**{'delta':delta*10},noreset=True)\n",
        "hub.run()\n",
        "hub.plot(filters_units=['','Units.y^{-1}','y'],separate_variables={'':['pi','kappa']},title='depreciation shock')\n"
      ]
    },
    {
      "cell_type": "markdown",
      "metadata": {
        "id": "0Q-osLWPg5x7"
      },
      "source": [
        "25. Qu'est-ce qui est fait au systeme ici quelles consequences ?"
      ]
    },
    {
      "cell_type": "code",
      "execution_count": null,
      "metadata": {
        "colab": {
          "base_uri": "https://localhost:8080/",
          "height": 1000
        },
        "id": "HvAUN2Yug5x7",
        "outputId": "ab3d764a-aaf6-460b-d694-eb0e56c36a48"
      },
      "outputs": [],
      "source": [
        "hub=chm.Hub('GK')\n",
        "hub.get_summary() #Valeurs a l'etat initial\n",
        "for i in range(19):\n",
        "    hub.run(steps=50,verb=False)\n",
        "    R=hub.get_dfields()\n",
        "    delta=R['delta']['value'][0,0,0,0]\n",
        "    hub.set_fields(**{'delta':delta*1.2},noreset=True,verb=False)\n",
        "hub.run()\n",
        "hub.plot(filters_units=['','Units','y'],separate_variables={'':['pi','kappa']},title='Exponential damages')\n",
        "hub.get_summary() #Valeurs a l'etat final"
      ]
    },
    {
      "cell_type": "markdown",
      "metadata": {
        "id": "3ORAZcLHg5x7"
      },
      "source": [
        "26. Decrire ce qui est modelise ici. Que se passe-t-il a la fin du systeme ?\n"
      ]
    },
    {
      "cell_type": "code",
      "execution_count": null,
      "metadata": {
        "colab": {
          "base_uri": "https://localhost:8080/",
          "height": 1000
        },
        "id": "tXAASNtug5x7",
        "outputId": "d8214fc6-5968-4101-c2e6-96ffca3c7bc8"
      },
      "outputs": [],
      "source": [
        "### Multiples chocs aleatoires\n",
        "\n",
        "import numpy as np\n",
        "hub=chm.Hub('Goodwin_example',verb=False)\n",
        "\n",
        "################################\n",
        "currentvalues = {\n",
        "    'delta':0.05,\n",
        "    'nu':3,\n",
        "    'alpha':0.02,\n",
        "    'n':0.025,\n",
        "}\n",
        "events = {k:[] for k in list(currentvalues.keys())+['iteration']}\n",
        "events['iteration'].append(0)\n",
        "\n",
        "stepmaxsize = 10\n",
        "stepminsizse = 1\n",
        "\n",
        "relativevariation = 0.1\n",
        "\n",
        "################################\n",
        "\n",
        "itot=0\n",
        "while 1:\n",
        "    morestep = np.random.randint(stepminsizse,stepmaxsize)\n",
        "    itot+=morestep\n",
        "    if itot > 998:\n",
        "        break\n",
        "    else:\n",
        "        hub.run(steps=morestep,verb=False)\n",
        "\n",
        "    for k,v in currentvalues.items():\n",
        "        currentvalues[k]*= np.random.normal(1,relativevariation)\n",
        "        events[k].append(v)\n",
        "    events['iteration'].append(itot)\n",
        "\n",
        "    hub.set_fields(**currentvalues,\n",
        "                   noreset=True,verb=False)\n",
        "\n",
        "hub.run()\n",
        "hub.plot(filters_units=['','Units','y'],\n",
        "         title='Chocs')\n",
        "chm._plots.XY(hub,'omega','employment',title='Chocs')\n"
      ]
    },
    {
      "cell_type": "markdown",
      "metadata": {},
      "source": [
        "27. Expliquer ce que fait ce code.\n",
        "\n",
        "28. Que pouvez-vous dire des trajectoires ? Que se passe-t-il quand on fait varier l'intensite du bruit ? Que se passe-t-il quand on relance plusieurs simulations ?"
      ]
    },
    {
      "cell_type": "markdown",
      "metadata": {},
      "source": [
        "## <a id='toc2_4_'></a>[\"Coping with Collapse\" Modele economie-climat](#toc0_)\n",
        "\n",
        "Pour finir, voici un modele qui incorpore toutes les dynamiques precedentes, avec endogenisation de certains coefficients par fonction de dommage (qui substituent les chocs de la valeur de $\\delta$) et une politique de decarbonation"
      ]
    },
    {
      "cell_type": "code",
      "execution_count": null,
      "metadata": {
        "colab": {
          "base_uri": "https://localhost:8080/",
          "height": 1000,
          "referenced_widgets": [
            "47a0331f6c834840bf17c35ee69b335e",
            "9263d2bad2044cc4aff02b01a52043d4"
          ]
        },
        "id": "_isbdmD9g5x_",
        "outputId": "fee2e21b-1046-49fb-e81f-74697e66eb3c"
      },
      "outputs": [],
      "source": [
        "chm.get_model_documentation('GEMMES_Coping2018')"
      ]
    },
    {
      "cell_type": "code",
      "execution_count": null,
      "metadata": {
        "colab": {
          "base_uri": "https://localhost:8080/",
          "height": 1000
        },
        "id": "xp1gS6Usg5x_",
        "outputId": "c85168ae-6e6d-4d7e-f4b7-6ab4f4384559"
      },
      "outputs": [],
      "source": [
        "print('Business as usual without climate damages')\n",
        "hub1=chm.Hub('GEMMES_Coping2018',preset='BAU',verb=False)\n",
        "hub1.run()\n",
        "hub1.plot_preset()\n",
        "\n",
        "print('Business as usual with climate damages')\n",
        "hub2=chm.Hub('GEMMES_Coping2018',preset='BAU_DAM',verb=False)\n",
        "hub2.run()\n",
        "hub2.plot_preset()\n",
        "\n",
        "\n",
        "print('transition scenario with climate damages')\n",
        "hub3=chm.Hub('GEMMES_Coping2018',preset='TRANSITION',verb=False)\n",
        "hub3.run()\n",
        "hub3.plot_preset()"
      ]
    },
    {
      "cell_type": "markdown",
      "metadata": {
        "id": "EI63ZHndg5x_"
      },
      "source": [
        "29. Decrire les dynamiques dans les trois scenarios. Discuter la difference de trajectoire dans l'espace des phases entre le scenario \"Business as usual\" et le scenario de transition\n"
      ]
    },
    {
      "cell_type": "code",
      "execution_count": null,
      "metadata": {
        "colab": {
          "base_uri": "https://localhost:8080/"
        },
        "id": "K-nAjBv3g5x_",
        "outputId": "67ae2cc9-cc6d-4218-a634-49e62d4778a9"
      },
      "outputs": [],
      "source": [
        "hub4=chm.Hub('GEMMES_Coping2018')"
      ]
    },
    {
      "cell_type": "code",
      "execution_count": null,
      "metadata": {
        "colab": {
          "base_uri": "https://localhost:8080/",
          "height": 577
        },
        "id": "0-jYmIKGg5x_",
        "outputId": "54043fa4-51ad-449f-e0de-07601f4c2684"
      },
      "outputs": [],
      "source": [
        "hub4=chm.Hub('GEMMES_Coping2018',preset='TRANSITION',verb=False)\n",
        "hub4.run_uncertainty(5,N=100)\n",
        "chm._plots.plotnyaxis(hub4,[['employment','omega'],['d'],['Y']])"
      ]
    },
    {
      "cell_type": "code",
      "execution_count": null,
      "metadata": {
        "colab": {
          "base_uri": "https://localhost:8080/",
          "height": 211
        },
        "id": "OmcAwO1rg5x_",
        "outputId": "7b059929-dd9a-4123-d409-f7ea654ec6c1"
      },
      "outputs": [],
      "source": [
        "hub5=chm.Hub('GEMMES_Coping2018',preset='TRANSITION',verb=False)\n",
        "hub5.set_fields('Tsim', 50)\n",
        "out= hub5.run_sensitivity(std=0.05,keys=['r', 'rhoAtmo', 'gammaAtmo', 'Capacity',  'Nmax', 'deltapbackstop', 'apc', 'bpc', 'deltagsigmaEm', 'deltaEland', 'eta', 'mu', 'F2CO2','kappalinConst', 'kappalinSlope','pi1', 'pi2', 'pi3', 'zeta3', 'fk']) # 5% d'erreur sur les valeurs\n",
        "chm.Plots.Showsensitivity(out,vars=['omega','d']) # title='Influence des changements de variables sur omega et d'"
      ]
    },
    {
      "cell_type": "markdown",
      "metadata": {
        "id": "_yVxGPzHg5x_"
      },
      "source": [
        "30. A partir de ce modele, que penser de 5% d'incertitude dans les mesures du monde ?\n",
        "31. Quels sont les parametres les plus important d'apres cette simulation ?"
      ]
    },
    {
      "cell_type": "markdown",
      "metadata": {},
      "source": [
        "## ICED Physical and nominal circuits "
      ]
    },
    {
      "cell_type": "code",
      "execution_count": 2,
      "metadata": {},
      "outputs": [
        {
          "name": "stdout",
          "output_type": "stream",
          "text": [
            "Already run: reset and run\n"
          ]
        },
        {
          "data": {
            "application/vnd.plotly.v1+json": {
              "config": {
                "plotlyServerURL": "https://plot.ly"
              },
              "data": [
                {
                  "link": {
                    "arrowlen": 15,
                    "color": [
                      "rgba(31, 119, 180, 0.5)",
                      "rgba(214, 39, 40, 0.5)",
                      "rgba(214, 39, 40, 0.5)",
                      "rgba(255, 127, 14, 0.5)",
                      "rgba(255, 127, 14, 0.5)",
                      "rgba(44, 160, 44, 0.5)",
                      "rgba(188, 189, 34, 0.5)",
                      "rgba(148, 103, 189, 0.5)"
                    ],
                    "label": [
                      "Wages",
                      "Dividends",
                      "Interests",
                      "ConsWork",
                      "ConsCap",
                      "Profits",
                      "Debt-based Investment",
                      "Reinvested Profits"
                    ],
                    "source": [
                      0,
                      1,
                      0,
                      3,
                      2,
                      0,
                      2,
                      1
                    ],
                    "target": [
                      3,
                      2,
                      2,
                      0,
                      0,
                      1,
                      0,
                      0
                    ],
                    "value": [
                      0.32666666666666666,
                      0.12033333333333335,
                      0.05,
                      0.32666666666666666,
                      0.08516666666666667,
                      0.30083333333333334,
                      0.08516666666666667,
                      0.1805
                    ]
                  },
                  "node": {
                    "label": [
                      "Production Sales",
                      "Profits",
                      "Investors",
                      "Workers"
                    ],
                    "line": {
                      "color": "black",
                      "width": 0.5
                    },
                    "pad": 15,
                    "thickness": 20
                  },
                  "type": "sankey",
                  "valueformat": ".2f",
                  "valuesuffix": "$"
                }
              ],
              "frames": [
                {
                  "data": [
                    {
                      "link": {
                        "arrowlen": 15,
                        "color": [
                          "rgba(31, 119, 180, 0.5)",
                          "rgba(214, 39, 40, 0.5)",
                          "rgba(214, 39, 40, 0.5)",
                          "rgba(255, 127, 14, 0.5)",
                          "rgba(255, 127, 14, 0.5)",
                          "rgba(44, 160, 44, 0.5)",
                          "rgba(188, 189, 34, 0.5)",
                          "rgba(148, 103, 189, 0.5)"
                        ],
                        "label": [
                          "Wages",
                          "Dividends",
                          "Interests",
                          "ConsWork",
                          "ConsCap",
                          "Profits",
                          "Debt-based Investment",
                          "Reinvested Profits"
                        ],
                        "source": [
                          0,
                          1,
                          0,
                          3,
                          2,
                          0,
                          2,
                          1
                        ],
                        "target": [
                          3,
                          2,
                          2,
                          0,
                          0,
                          1,
                          0,
                          0
                        ],
                        "value": [
                          0.32666666666666666,
                          0.12033333333333335,
                          0.05,
                          0.32666666666666666,
                          0.08516666666666667,
                          0.30083333333333334,
                          0.08516666666666667,
                          0.1805
                        ]
                      },
                      "node": {
                        "label": [
                          "Production Sales",
                          "Profits",
                          "Investors",
                          "Workers"
                        ],
                        "line": {
                          "color": "black",
                          "width": 0.5
                        },
                        "pad": 15,
                        "thickness": 20
                      },
                      "type": "sankey"
                    }
                  ],
                  "name": "0.00"
                }
              ],
              "layout": {
                "annotations": [
                  {
                    "font": {
                      "size": 14
                    },
                    "showarrow": false,
                    "text": "Time",
                    "x": 0,
                    "xref": "paper",
                    "y": -0.1,
                    "yref": "paper"
                  }
                ],
                "sliders": [
                  {
                    "steps": [
                      {
                        "args": [
                          [
                            "0.00"
                          ],
                          {
                            "frame": {
                              "duration": 10,
                              "redraw": true
                            },
                            "mode": "immediate"
                          }
                        ],
                        "label": "0.00",
                        "method": "animate"
                      }
                    ],
                    "transition": {
                      "duration": 10,
                      "easing": "cubic-in-out"
                    }
                  }
                ],
                "template": {
                  "data": {
                    "bar": [
                      {
                        "error_x": {
                          "color": "#2a3f5f"
                        },
                        "error_y": {
                          "color": "#2a3f5f"
                        },
                        "marker": {
                          "line": {
                            "color": "#E5ECF6",
                            "width": 0.5
                          },
                          "pattern": {
                            "fillmode": "overlay",
                            "size": 10,
                            "solidity": 0.2
                          }
                        },
                        "type": "bar"
                      }
                    ],
                    "barpolar": [
                      {
                        "marker": {
                          "line": {
                            "color": "#E5ECF6",
                            "width": 0.5
                          },
                          "pattern": {
                            "fillmode": "overlay",
                            "size": 10,
                            "solidity": 0.2
                          }
                        },
                        "type": "barpolar"
                      }
                    ],
                    "carpet": [
                      {
                        "aaxis": {
                          "endlinecolor": "#2a3f5f",
                          "gridcolor": "white",
                          "linecolor": "white",
                          "minorgridcolor": "white",
                          "startlinecolor": "#2a3f5f"
                        },
                        "baxis": {
                          "endlinecolor": "#2a3f5f",
                          "gridcolor": "white",
                          "linecolor": "white",
                          "minorgridcolor": "white",
                          "startlinecolor": "#2a3f5f"
                        },
                        "type": "carpet"
                      }
                    ],
                    "choropleth": [
                      {
                        "colorbar": {
                          "outlinewidth": 0,
                          "ticks": ""
                        },
                        "type": "choropleth"
                      }
                    ],
                    "contour": [
                      {
                        "colorbar": {
                          "outlinewidth": 0,
                          "ticks": ""
                        },
                        "colorscale": [
                          [
                            0,
                            "#0d0887"
                          ],
                          [
                            0.1111111111111111,
                            "#46039f"
                          ],
                          [
                            0.2222222222222222,
                            "#7201a8"
                          ],
                          [
                            0.3333333333333333,
                            "#9c179e"
                          ],
                          [
                            0.4444444444444444,
                            "#bd3786"
                          ],
                          [
                            0.5555555555555556,
                            "#d8576b"
                          ],
                          [
                            0.6666666666666666,
                            "#ed7953"
                          ],
                          [
                            0.7777777777777778,
                            "#fb9f3a"
                          ],
                          [
                            0.8888888888888888,
                            "#fdca26"
                          ],
                          [
                            1,
                            "#f0f921"
                          ]
                        ],
                        "type": "contour"
                      }
                    ],
                    "contourcarpet": [
                      {
                        "colorbar": {
                          "outlinewidth": 0,
                          "ticks": ""
                        },
                        "type": "contourcarpet"
                      }
                    ],
                    "heatmap": [
                      {
                        "colorbar": {
                          "outlinewidth": 0,
                          "ticks": ""
                        },
                        "colorscale": [
                          [
                            0,
                            "#0d0887"
                          ],
                          [
                            0.1111111111111111,
                            "#46039f"
                          ],
                          [
                            0.2222222222222222,
                            "#7201a8"
                          ],
                          [
                            0.3333333333333333,
                            "#9c179e"
                          ],
                          [
                            0.4444444444444444,
                            "#bd3786"
                          ],
                          [
                            0.5555555555555556,
                            "#d8576b"
                          ],
                          [
                            0.6666666666666666,
                            "#ed7953"
                          ],
                          [
                            0.7777777777777778,
                            "#fb9f3a"
                          ],
                          [
                            0.8888888888888888,
                            "#fdca26"
                          ],
                          [
                            1,
                            "#f0f921"
                          ]
                        ],
                        "type": "heatmap"
                      }
                    ],
                    "heatmapgl": [
                      {
                        "colorbar": {
                          "outlinewidth": 0,
                          "ticks": ""
                        },
                        "colorscale": [
                          [
                            0,
                            "#0d0887"
                          ],
                          [
                            0.1111111111111111,
                            "#46039f"
                          ],
                          [
                            0.2222222222222222,
                            "#7201a8"
                          ],
                          [
                            0.3333333333333333,
                            "#9c179e"
                          ],
                          [
                            0.4444444444444444,
                            "#bd3786"
                          ],
                          [
                            0.5555555555555556,
                            "#d8576b"
                          ],
                          [
                            0.6666666666666666,
                            "#ed7953"
                          ],
                          [
                            0.7777777777777778,
                            "#fb9f3a"
                          ],
                          [
                            0.8888888888888888,
                            "#fdca26"
                          ],
                          [
                            1,
                            "#f0f921"
                          ]
                        ],
                        "type": "heatmapgl"
                      }
                    ],
                    "histogram": [
                      {
                        "marker": {
                          "pattern": {
                            "fillmode": "overlay",
                            "size": 10,
                            "solidity": 0.2
                          }
                        },
                        "type": "histogram"
                      }
                    ],
                    "histogram2d": [
                      {
                        "colorbar": {
                          "outlinewidth": 0,
                          "ticks": ""
                        },
                        "colorscale": [
                          [
                            0,
                            "#0d0887"
                          ],
                          [
                            0.1111111111111111,
                            "#46039f"
                          ],
                          [
                            0.2222222222222222,
                            "#7201a8"
                          ],
                          [
                            0.3333333333333333,
                            "#9c179e"
                          ],
                          [
                            0.4444444444444444,
                            "#bd3786"
                          ],
                          [
                            0.5555555555555556,
                            "#d8576b"
                          ],
                          [
                            0.6666666666666666,
                            "#ed7953"
                          ],
                          [
                            0.7777777777777778,
                            "#fb9f3a"
                          ],
                          [
                            0.8888888888888888,
                            "#fdca26"
                          ],
                          [
                            1,
                            "#f0f921"
                          ]
                        ],
                        "type": "histogram2d"
                      }
                    ],
                    "histogram2dcontour": [
                      {
                        "colorbar": {
                          "outlinewidth": 0,
                          "ticks": ""
                        },
                        "colorscale": [
                          [
                            0,
                            "#0d0887"
                          ],
                          [
                            0.1111111111111111,
                            "#46039f"
                          ],
                          [
                            0.2222222222222222,
                            "#7201a8"
                          ],
                          [
                            0.3333333333333333,
                            "#9c179e"
                          ],
                          [
                            0.4444444444444444,
                            "#bd3786"
                          ],
                          [
                            0.5555555555555556,
                            "#d8576b"
                          ],
                          [
                            0.6666666666666666,
                            "#ed7953"
                          ],
                          [
                            0.7777777777777778,
                            "#fb9f3a"
                          ],
                          [
                            0.8888888888888888,
                            "#fdca26"
                          ],
                          [
                            1,
                            "#f0f921"
                          ]
                        ],
                        "type": "histogram2dcontour"
                      }
                    ],
                    "mesh3d": [
                      {
                        "colorbar": {
                          "outlinewidth": 0,
                          "ticks": ""
                        },
                        "type": "mesh3d"
                      }
                    ],
                    "parcoords": [
                      {
                        "line": {
                          "colorbar": {
                            "outlinewidth": 0,
                            "ticks": ""
                          }
                        },
                        "type": "parcoords"
                      }
                    ],
                    "pie": [
                      {
                        "automargin": true,
                        "type": "pie"
                      }
                    ],
                    "scatter": [
                      {
                        "fillpattern": {
                          "fillmode": "overlay",
                          "size": 10,
                          "solidity": 0.2
                        },
                        "type": "scatter"
                      }
                    ],
                    "scatter3d": [
                      {
                        "line": {
                          "colorbar": {
                            "outlinewidth": 0,
                            "ticks": ""
                          }
                        },
                        "marker": {
                          "colorbar": {
                            "outlinewidth": 0,
                            "ticks": ""
                          }
                        },
                        "type": "scatter3d"
                      }
                    ],
                    "scattercarpet": [
                      {
                        "marker": {
                          "colorbar": {
                            "outlinewidth": 0,
                            "ticks": ""
                          }
                        },
                        "type": "scattercarpet"
                      }
                    ],
                    "scattergeo": [
                      {
                        "marker": {
                          "colorbar": {
                            "outlinewidth": 0,
                            "ticks": ""
                          }
                        },
                        "type": "scattergeo"
                      }
                    ],
                    "scattergl": [
                      {
                        "marker": {
                          "colorbar": {
                            "outlinewidth": 0,
                            "ticks": ""
                          }
                        },
                        "type": "scattergl"
                      }
                    ],
                    "scattermapbox": [
                      {
                        "marker": {
                          "colorbar": {
                            "outlinewidth": 0,
                            "ticks": ""
                          }
                        },
                        "type": "scattermapbox"
                      }
                    ],
                    "scatterpolar": [
                      {
                        "marker": {
                          "colorbar": {
                            "outlinewidth": 0,
                            "ticks": ""
                          }
                        },
                        "type": "scatterpolar"
                      }
                    ],
                    "scatterpolargl": [
                      {
                        "marker": {
                          "colorbar": {
                            "outlinewidth": 0,
                            "ticks": ""
                          }
                        },
                        "type": "scatterpolargl"
                      }
                    ],
                    "scatterternary": [
                      {
                        "marker": {
                          "colorbar": {
                            "outlinewidth": 0,
                            "ticks": ""
                          }
                        },
                        "type": "scatterternary"
                      }
                    ],
                    "surface": [
                      {
                        "colorbar": {
                          "outlinewidth": 0,
                          "ticks": ""
                        },
                        "colorscale": [
                          [
                            0,
                            "#0d0887"
                          ],
                          [
                            0.1111111111111111,
                            "#46039f"
                          ],
                          [
                            0.2222222222222222,
                            "#7201a8"
                          ],
                          [
                            0.3333333333333333,
                            "#9c179e"
                          ],
                          [
                            0.4444444444444444,
                            "#bd3786"
                          ],
                          [
                            0.5555555555555556,
                            "#d8576b"
                          ],
                          [
                            0.6666666666666666,
                            "#ed7953"
                          ],
                          [
                            0.7777777777777778,
                            "#fb9f3a"
                          ],
                          [
                            0.8888888888888888,
                            "#fdca26"
                          ],
                          [
                            1,
                            "#f0f921"
                          ]
                        ],
                        "type": "surface"
                      }
                    ],
                    "table": [
                      {
                        "cells": {
                          "fill": {
                            "color": "#EBF0F8"
                          },
                          "line": {
                            "color": "white"
                          }
                        },
                        "header": {
                          "fill": {
                            "color": "#C8D4E3"
                          },
                          "line": {
                            "color": "white"
                          }
                        },
                        "type": "table"
                      }
                    ]
                  },
                  "layout": {
                    "annotationdefaults": {
                      "arrowcolor": "#2a3f5f",
                      "arrowhead": 0,
                      "arrowwidth": 1
                    },
                    "autotypenumbers": "strict",
                    "coloraxis": {
                      "colorbar": {
                        "outlinewidth": 0,
                        "ticks": ""
                      }
                    },
                    "colorscale": {
                      "diverging": [
                        [
                          0,
                          "#8e0152"
                        ],
                        [
                          0.1,
                          "#c51b7d"
                        ],
                        [
                          0.2,
                          "#de77ae"
                        ],
                        [
                          0.3,
                          "#f1b6da"
                        ],
                        [
                          0.4,
                          "#fde0ef"
                        ],
                        [
                          0.5,
                          "#f7f7f7"
                        ],
                        [
                          0.6,
                          "#e6f5d0"
                        ],
                        [
                          0.7,
                          "#b8e186"
                        ],
                        [
                          0.8,
                          "#7fbc41"
                        ],
                        [
                          0.9,
                          "#4d9221"
                        ],
                        [
                          1,
                          "#276419"
                        ]
                      ],
                      "sequential": [
                        [
                          0,
                          "#0d0887"
                        ],
                        [
                          0.1111111111111111,
                          "#46039f"
                        ],
                        [
                          0.2222222222222222,
                          "#7201a8"
                        ],
                        [
                          0.3333333333333333,
                          "#9c179e"
                        ],
                        [
                          0.4444444444444444,
                          "#bd3786"
                        ],
                        [
                          0.5555555555555556,
                          "#d8576b"
                        ],
                        [
                          0.6666666666666666,
                          "#ed7953"
                        ],
                        [
                          0.7777777777777778,
                          "#fb9f3a"
                        ],
                        [
                          0.8888888888888888,
                          "#fdca26"
                        ],
                        [
                          1,
                          "#f0f921"
                        ]
                      ],
                      "sequentialminus": [
                        [
                          0,
                          "#0d0887"
                        ],
                        [
                          0.1111111111111111,
                          "#46039f"
                        ],
                        [
                          0.2222222222222222,
                          "#7201a8"
                        ],
                        [
                          0.3333333333333333,
                          "#9c179e"
                        ],
                        [
                          0.4444444444444444,
                          "#bd3786"
                        ],
                        [
                          0.5555555555555556,
                          "#d8576b"
                        ],
                        [
                          0.6666666666666666,
                          "#ed7953"
                        ],
                        [
                          0.7777777777777778,
                          "#fb9f3a"
                        ],
                        [
                          0.8888888888888888,
                          "#fdca26"
                        ],
                        [
                          1,
                          "#f0f921"
                        ]
                      ]
                    },
                    "colorway": [
                      "#636efa",
                      "#EF553B",
                      "#00cc96",
                      "#ab63fa",
                      "#FFA15A",
                      "#19d3f3",
                      "#FF6692",
                      "#B6E880",
                      "#FF97FF",
                      "#FECB52"
                    ],
                    "font": {
                      "color": "#2a3f5f"
                    },
                    "geo": {
                      "bgcolor": "white",
                      "lakecolor": "white",
                      "landcolor": "#E5ECF6",
                      "showlakes": true,
                      "showland": true,
                      "subunitcolor": "white"
                    },
                    "hoverlabel": {
                      "align": "left"
                    },
                    "hovermode": "closest",
                    "mapbox": {
                      "style": "light"
                    },
                    "paper_bgcolor": "white",
                    "plot_bgcolor": "#E5ECF6",
                    "polar": {
                      "angularaxis": {
                        "gridcolor": "white",
                        "linecolor": "white",
                        "ticks": ""
                      },
                      "bgcolor": "#E5ECF6",
                      "radialaxis": {
                        "gridcolor": "white",
                        "linecolor": "white",
                        "ticks": ""
                      }
                    },
                    "scene": {
                      "xaxis": {
                        "backgroundcolor": "#E5ECF6",
                        "gridcolor": "white",
                        "gridwidth": 2,
                        "linecolor": "white",
                        "showbackground": true,
                        "ticks": "",
                        "zerolinecolor": "white"
                      },
                      "yaxis": {
                        "backgroundcolor": "#E5ECF6",
                        "gridcolor": "white",
                        "gridwidth": 2,
                        "linecolor": "white",
                        "showbackground": true,
                        "ticks": "",
                        "zerolinecolor": "white"
                      },
                      "zaxis": {
                        "backgroundcolor": "#E5ECF6",
                        "gridcolor": "white",
                        "gridwidth": 2,
                        "linecolor": "white",
                        "showbackground": true,
                        "ticks": "",
                        "zerolinecolor": "white"
                      }
                    },
                    "shapedefaults": {
                      "line": {
                        "color": "#2a3f5f"
                      }
                    },
                    "ternary": {
                      "aaxis": {
                        "gridcolor": "white",
                        "linecolor": "white",
                        "ticks": ""
                      },
                      "baxis": {
                        "gridcolor": "white",
                        "linecolor": "white",
                        "ticks": ""
                      },
                      "bgcolor": "#E5ECF6",
                      "caxis": {
                        "gridcolor": "white",
                        "linecolor": "white",
                        "ticks": ""
                      }
                    },
                    "title": {
                      "x": 0.05
                    },
                    "xaxis": {
                      "automargin": true,
                      "gridcolor": "white",
                      "linecolor": "white",
                      "ticks": "",
                      "title": {
                        "standoff": 15
                      },
                      "zerolinecolor": "white",
                      "zerolinewidth": 2
                    },
                    "yaxis": {
                      "automargin": true,
                      "gridcolor": "white",
                      "linecolor": "white",
                      "ticks": "",
                      "title": {
                        "standoff": 15
                      },
                      "zerolinecolor": "white",
                      "zerolinewidth": 2
                    }
                  }
                },
                "title": {
                  "text": "Monetary Flows in ICED model"
                },
                "xaxis": {
                  "range": [
                    0,
                    5
                  ]
                }
              }
            }
          },
          "metadata": {},
          "output_type": "display_data"
        },
        {
          "data": {
            "application/vnd.plotly.v1+json": {
              "config": {
                "plotlyServerURL": "https://plot.ly"
              },
              "data": [
                {
                  "link": {
                    "arrowlen": 15,
                    "color": [
                      "rgba(0, 255, 255, 0.5)",
                      "rgba(127, 127, 127, 0.5)",
                      "rgba(44, 160, 44, 0.5)",
                      "rgba(255, 182, 193, 0.5)",
                      "rgba(255, 127, 14, 0.5)",
                      "rgba(140, 86, 75, 0.5)",
                      "rgba(214, 39, 40, 0.5)",
                      "rgba(127, 255, 255, 0.5)",
                      "rgba(148, 103, 189, 0.5)",
                      "rgba(148, 103, 189, 0.5)",
                      "rgba(148, 103, 189, 0.5)",
                      "rgba(148, 103, 189, 0.5)",
                      "rgba(148, 103, 189, 0.5)"
                    ],
                    "label": [
                      "Consumption",
                      "Worker Consumption",
                      "Capitalists Consumption",
                      "Investment",
                      "Output Investment",
                      "Energy Investment",
                      "Green Investment",
                      "Brown Investment",
                      "Output capital depreciation",
                      "Brown capital depreciation",
                      "Green capital depreciation",
                      "Capitalist possessions dissipation",
                      "Workers possessions dissipation"
                    ],
                    "source": [
                      0,
                      1,
                      1,
                      0,
                      4,
                      4,
                      6,
                      6,
                      5,
                      8,
                      7,
                      3,
                      2
                    ],
                    "target": [
                      1,
                      2,
                      3,
                      4,
                      5,
                      6,
                      7,
                      8,
                      9,
                      9,
                      9,
                      9,
                      9
                    ],
                    "value": [
                      0.41183333333333333,
                      0.32666666666666666,
                      0.08516666666666667,
                      0.3881666666666667,
                      0.25230833333333336,
                      0.13585833333333333,
                      0.08133670769011088,
                      0.05452162564322246,
                      0.08000000000000002,
                      0.037500000000000006,
                      0.005000000000000001,
                      0.05,
                      0.25
                    ]
                  },
                  "node": {
                    "label": [
                      "Production",
                      "Consumption",
                      "Workers Possessions",
                      "Investor Possessions",
                      "Investment",
                      "Output Capital",
                      "Energy Investment",
                      "Green Capital",
                      "Brown Capital",
                      "Destruction flow"
                    ],
                    "line": {
                      "color": "black",
                      "width": 0.5
                    },
                    "pad": 15,
                    "thickness": 20
                  },
                  "type": "sankey",
                  "valueformat": ".2f",
                  "valuesuffix": ""
                }
              ],
              "frames": [
                {
                  "data": [
                    {
                      "link": {
                        "arrowlen": 15,
                        "color": [
                          "rgba(0, 255, 255, 0.5)",
                          "rgba(127, 127, 127, 0.5)",
                          "rgba(44, 160, 44, 0.5)",
                          "rgba(255, 182, 193, 0.5)",
                          "rgba(255, 127, 14, 0.5)",
                          "rgba(140, 86, 75, 0.5)",
                          "rgba(214, 39, 40, 0.5)",
                          "rgba(127, 255, 255, 0.5)",
                          "rgba(148, 103, 189, 0.5)",
                          "rgba(148, 103, 189, 0.5)",
                          "rgba(148, 103, 189, 0.5)",
                          "rgba(148, 103, 189, 0.5)",
                          "rgba(148, 103, 189, 0.5)"
                        ],
                        "label": [
                          "Consumption",
                          "Worker Consumption",
                          "Capitalists Consumption",
                          "Investment",
                          "Output Investment",
                          "Energy Investment",
                          "Green Investment",
                          "Brown Investment",
                          "Output capital depreciation",
                          "Brown capital depreciation",
                          "Green capital depreciation",
                          "Capitalist possessions dissipation",
                          "Workers possessions dissipation"
                        ],
                        "source": [
                          0,
                          1,
                          1,
                          0,
                          4,
                          4,
                          6,
                          6,
                          5,
                          8,
                          7,
                          3,
                          2
                        ],
                        "target": [
                          1,
                          2,
                          3,
                          4,
                          5,
                          6,
                          7,
                          8,
                          9,
                          9,
                          9,
                          9,
                          9
                        ],
                        "value": [
                          0.41183333333333333,
                          0.32666666666666666,
                          0.08516666666666667,
                          0.3881666666666667,
                          0.25230833333333336,
                          0.13585833333333333,
                          0.08133670769011088,
                          0.05452162564322246,
                          0.08000000000000002,
                          0.037500000000000006,
                          0.005000000000000001,
                          0.05,
                          0.25
                        ]
                      },
                      "node": {
                        "label": [
                          "Production",
                          "Consumption",
                          "Workers Possessions",
                          "Investor Possessions",
                          "Investment",
                          "Output Capital",
                          "Energy Investment",
                          "Green Capital",
                          "Brown Capital",
                          "Destruction flow"
                        ],
                        "line": {
                          "color": "black",
                          "width": 0.5
                        },
                        "pad": 15,
                        "thickness": 20
                      },
                      "type": "sankey"
                    }
                  ],
                  "name": "0.00"
                }
              ],
              "layout": {
                "annotations": [
                  {
                    "font": {
                      "size": 14
                    },
                    "showarrow": false,
                    "text": "Time",
                    "x": 0,
                    "xref": "paper",
                    "y": -0.1,
                    "yref": "paper"
                  }
                ],
                "sliders": [
                  {
                    "steps": [
                      {
                        "args": [
                          [
                            "0.00"
                          ],
                          {
                            "frame": {
                              "duration": 10,
                              "redraw": true
                            },
                            "mode": "immediate"
                          }
                        ],
                        "label": "0.00",
                        "method": "animate"
                      }
                    ],
                    "transition": {
                      "duration": 10,
                      "easing": "cubic-in-out"
                    }
                  }
                ],
                "template": {
                  "data": {
                    "bar": [
                      {
                        "error_x": {
                          "color": "#2a3f5f"
                        },
                        "error_y": {
                          "color": "#2a3f5f"
                        },
                        "marker": {
                          "line": {
                            "color": "#E5ECF6",
                            "width": 0.5
                          },
                          "pattern": {
                            "fillmode": "overlay",
                            "size": 10,
                            "solidity": 0.2
                          }
                        },
                        "type": "bar"
                      }
                    ],
                    "barpolar": [
                      {
                        "marker": {
                          "line": {
                            "color": "#E5ECF6",
                            "width": 0.5
                          },
                          "pattern": {
                            "fillmode": "overlay",
                            "size": 10,
                            "solidity": 0.2
                          }
                        },
                        "type": "barpolar"
                      }
                    ],
                    "carpet": [
                      {
                        "aaxis": {
                          "endlinecolor": "#2a3f5f",
                          "gridcolor": "white",
                          "linecolor": "white",
                          "minorgridcolor": "white",
                          "startlinecolor": "#2a3f5f"
                        },
                        "baxis": {
                          "endlinecolor": "#2a3f5f",
                          "gridcolor": "white",
                          "linecolor": "white",
                          "minorgridcolor": "white",
                          "startlinecolor": "#2a3f5f"
                        },
                        "type": "carpet"
                      }
                    ],
                    "choropleth": [
                      {
                        "colorbar": {
                          "outlinewidth": 0,
                          "ticks": ""
                        },
                        "type": "choropleth"
                      }
                    ],
                    "contour": [
                      {
                        "colorbar": {
                          "outlinewidth": 0,
                          "ticks": ""
                        },
                        "colorscale": [
                          [
                            0,
                            "#0d0887"
                          ],
                          [
                            0.1111111111111111,
                            "#46039f"
                          ],
                          [
                            0.2222222222222222,
                            "#7201a8"
                          ],
                          [
                            0.3333333333333333,
                            "#9c179e"
                          ],
                          [
                            0.4444444444444444,
                            "#bd3786"
                          ],
                          [
                            0.5555555555555556,
                            "#d8576b"
                          ],
                          [
                            0.6666666666666666,
                            "#ed7953"
                          ],
                          [
                            0.7777777777777778,
                            "#fb9f3a"
                          ],
                          [
                            0.8888888888888888,
                            "#fdca26"
                          ],
                          [
                            1,
                            "#f0f921"
                          ]
                        ],
                        "type": "contour"
                      }
                    ],
                    "contourcarpet": [
                      {
                        "colorbar": {
                          "outlinewidth": 0,
                          "ticks": ""
                        },
                        "type": "contourcarpet"
                      }
                    ],
                    "heatmap": [
                      {
                        "colorbar": {
                          "outlinewidth": 0,
                          "ticks": ""
                        },
                        "colorscale": [
                          [
                            0,
                            "#0d0887"
                          ],
                          [
                            0.1111111111111111,
                            "#46039f"
                          ],
                          [
                            0.2222222222222222,
                            "#7201a8"
                          ],
                          [
                            0.3333333333333333,
                            "#9c179e"
                          ],
                          [
                            0.4444444444444444,
                            "#bd3786"
                          ],
                          [
                            0.5555555555555556,
                            "#d8576b"
                          ],
                          [
                            0.6666666666666666,
                            "#ed7953"
                          ],
                          [
                            0.7777777777777778,
                            "#fb9f3a"
                          ],
                          [
                            0.8888888888888888,
                            "#fdca26"
                          ],
                          [
                            1,
                            "#f0f921"
                          ]
                        ],
                        "type": "heatmap"
                      }
                    ],
                    "heatmapgl": [
                      {
                        "colorbar": {
                          "outlinewidth": 0,
                          "ticks": ""
                        },
                        "colorscale": [
                          [
                            0,
                            "#0d0887"
                          ],
                          [
                            0.1111111111111111,
                            "#46039f"
                          ],
                          [
                            0.2222222222222222,
                            "#7201a8"
                          ],
                          [
                            0.3333333333333333,
                            "#9c179e"
                          ],
                          [
                            0.4444444444444444,
                            "#bd3786"
                          ],
                          [
                            0.5555555555555556,
                            "#d8576b"
                          ],
                          [
                            0.6666666666666666,
                            "#ed7953"
                          ],
                          [
                            0.7777777777777778,
                            "#fb9f3a"
                          ],
                          [
                            0.8888888888888888,
                            "#fdca26"
                          ],
                          [
                            1,
                            "#f0f921"
                          ]
                        ],
                        "type": "heatmapgl"
                      }
                    ],
                    "histogram": [
                      {
                        "marker": {
                          "pattern": {
                            "fillmode": "overlay",
                            "size": 10,
                            "solidity": 0.2
                          }
                        },
                        "type": "histogram"
                      }
                    ],
                    "histogram2d": [
                      {
                        "colorbar": {
                          "outlinewidth": 0,
                          "ticks": ""
                        },
                        "colorscale": [
                          [
                            0,
                            "#0d0887"
                          ],
                          [
                            0.1111111111111111,
                            "#46039f"
                          ],
                          [
                            0.2222222222222222,
                            "#7201a8"
                          ],
                          [
                            0.3333333333333333,
                            "#9c179e"
                          ],
                          [
                            0.4444444444444444,
                            "#bd3786"
                          ],
                          [
                            0.5555555555555556,
                            "#d8576b"
                          ],
                          [
                            0.6666666666666666,
                            "#ed7953"
                          ],
                          [
                            0.7777777777777778,
                            "#fb9f3a"
                          ],
                          [
                            0.8888888888888888,
                            "#fdca26"
                          ],
                          [
                            1,
                            "#f0f921"
                          ]
                        ],
                        "type": "histogram2d"
                      }
                    ],
                    "histogram2dcontour": [
                      {
                        "colorbar": {
                          "outlinewidth": 0,
                          "ticks": ""
                        },
                        "colorscale": [
                          [
                            0,
                            "#0d0887"
                          ],
                          [
                            0.1111111111111111,
                            "#46039f"
                          ],
                          [
                            0.2222222222222222,
                            "#7201a8"
                          ],
                          [
                            0.3333333333333333,
                            "#9c179e"
                          ],
                          [
                            0.4444444444444444,
                            "#bd3786"
                          ],
                          [
                            0.5555555555555556,
                            "#d8576b"
                          ],
                          [
                            0.6666666666666666,
                            "#ed7953"
                          ],
                          [
                            0.7777777777777778,
                            "#fb9f3a"
                          ],
                          [
                            0.8888888888888888,
                            "#fdca26"
                          ],
                          [
                            1,
                            "#f0f921"
                          ]
                        ],
                        "type": "histogram2dcontour"
                      }
                    ],
                    "mesh3d": [
                      {
                        "colorbar": {
                          "outlinewidth": 0,
                          "ticks": ""
                        },
                        "type": "mesh3d"
                      }
                    ],
                    "parcoords": [
                      {
                        "line": {
                          "colorbar": {
                            "outlinewidth": 0,
                            "ticks": ""
                          }
                        },
                        "type": "parcoords"
                      }
                    ],
                    "pie": [
                      {
                        "automargin": true,
                        "type": "pie"
                      }
                    ],
                    "scatter": [
                      {
                        "fillpattern": {
                          "fillmode": "overlay",
                          "size": 10,
                          "solidity": 0.2
                        },
                        "type": "scatter"
                      }
                    ],
                    "scatter3d": [
                      {
                        "line": {
                          "colorbar": {
                            "outlinewidth": 0,
                            "ticks": ""
                          }
                        },
                        "marker": {
                          "colorbar": {
                            "outlinewidth": 0,
                            "ticks": ""
                          }
                        },
                        "type": "scatter3d"
                      }
                    ],
                    "scattercarpet": [
                      {
                        "marker": {
                          "colorbar": {
                            "outlinewidth": 0,
                            "ticks": ""
                          }
                        },
                        "type": "scattercarpet"
                      }
                    ],
                    "scattergeo": [
                      {
                        "marker": {
                          "colorbar": {
                            "outlinewidth": 0,
                            "ticks": ""
                          }
                        },
                        "type": "scattergeo"
                      }
                    ],
                    "scattergl": [
                      {
                        "marker": {
                          "colorbar": {
                            "outlinewidth": 0,
                            "ticks": ""
                          }
                        },
                        "type": "scattergl"
                      }
                    ],
                    "scattermapbox": [
                      {
                        "marker": {
                          "colorbar": {
                            "outlinewidth": 0,
                            "ticks": ""
                          }
                        },
                        "type": "scattermapbox"
                      }
                    ],
                    "scatterpolar": [
                      {
                        "marker": {
                          "colorbar": {
                            "outlinewidth": 0,
                            "ticks": ""
                          }
                        },
                        "type": "scatterpolar"
                      }
                    ],
                    "scatterpolargl": [
                      {
                        "marker": {
                          "colorbar": {
                            "outlinewidth": 0,
                            "ticks": ""
                          }
                        },
                        "type": "scatterpolargl"
                      }
                    ],
                    "scatterternary": [
                      {
                        "marker": {
                          "colorbar": {
                            "outlinewidth": 0,
                            "ticks": ""
                          }
                        },
                        "type": "scatterternary"
                      }
                    ],
                    "surface": [
                      {
                        "colorbar": {
                          "outlinewidth": 0,
                          "ticks": ""
                        },
                        "colorscale": [
                          [
                            0,
                            "#0d0887"
                          ],
                          [
                            0.1111111111111111,
                            "#46039f"
                          ],
                          [
                            0.2222222222222222,
                            "#7201a8"
                          ],
                          [
                            0.3333333333333333,
                            "#9c179e"
                          ],
                          [
                            0.4444444444444444,
                            "#bd3786"
                          ],
                          [
                            0.5555555555555556,
                            "#d8576b"
                          ],
                          [
                            0.6666666666666666,
                            "#ed7953"
                          ],
                          [
                            0.7777777777777778,
                            "#fb9f3a"
                          ],
                          [
                            0.8888888888888888,
                            "#fdca26"
                          ],
                          [
                            1,
                            "#f0f921"
                          ]
                        ],
                        "type": "surface"
                      }
                    ],
                    "table": [
                      {
                        "cells": {
                          "fill": {
                            "color": "#EBF0F8"
                          },
                          "line": {
                            "color": "white"
                          }
                        },
                        "header": {
                          "fill": {
                            "color": "#C8D4E3"
                          },
                          "line": {
                            "color": "white"
                          }
                        },
                        "type": "table"
                      }
                    ]
                  },
                  "layout": {
                    "annotationdefaults": {
                      "arrowcolor": "#2a3f5f",
                      "arrowhead": 0,
                      "arrowwidth": 1
                    },
                    "autotypenumbers": "strict",
                    "coloraxis": {
                      "colorbar": {
                        "outlinewidth": 0,
                        "ticks": ""
                      }
                    },
                    "colorscale": {
                      "diverging": [
                        [
                          0,
                          "#8e0152"
                        ],
                        [
                          0.1,
                          "#c51b7d"
                        ],
                        [
                          0.2,
                          "#de77ae"
                        ],
                        [
                          0.3,
                          "#f1b6da"
                        ],
                        [
                          0.4,
                          "#fde0ef"
                        ],
                        [
                          0.5,
                          "#f7f7f7"
                        ],
                        [
                          0.6,
                          "#e6f5d0"
                        ],
                        [
                          0.7,
                          "#b8e186"
                        ],
                        [
                          0.8,
                          "#7fbc41"
                        ],
                        [
                          0.9,
                          "#4d9221"
                        ],
                        [
                          1,
                          "#276419"
                        ]
                      ],
                      "sequential": [
                        [
                          0,
                          "#0d0887"
                        ],
                        [
                          0.1111111111111111,
                          "#46039f"
                        ],
                        [
                          0.2222222222222222,
                          "#7201a8"
                        ],
                        [
                          0.3333333333333333,
                          "#9c179e"
                        ],
                        [
                          0.4444444444444444,
                          "#bd3786"
                        ],
                        [
                          0.5555555555555556,
                          "#d8576b"
                        ],
                        [
                          0.6666666666666666,
                          "#ed7953"
                        ],
                        [
                          0.7777777777777778,
                          "#fb9f3a"
                        ],
                        [
                          0.8888888888888888,
                          "#fdca26"
                        ],
                        [
                          1,
                          "#f0f921"
                        ]
                      ],
                      "sequentialminus": [
                        [
                          0,
                          "#0d0887"
                        ],
                        [
                          0.1111111111111111,
                          "#46039f"
                        ],
                        [
                          0.2222222222222222,
                          "#7201a8"
                        ],
                        [
                          0.3333333333333333,
                          "#9c179e"
                        ],
                        [
                          0.4444444444444444,
                          "#bd3786"
                        ],
                        [
                          0.5555555555555556,
                          "#d8576b"
                        ],
                        [
                          0.6666666666666666,
                          "#ed7953"
                        ],
                        [
                          0.7777777777777778,
                          "#fb9f3a"
                        ],
                        [
                          0.8888888888888888,
                          "#fdca26"
                        ],
                        [
                          1,
                          "#f0f921"
                        ]
                      ]
                    },
                    "colorway": [
                      "#636efa",
                      "#EF553B",
                      "#00cc96",
                      "#ab63fa",
                      "#FFA15A",
                      "#19d3f3",
                      "#FF6692",
                      "#B6E880",
                      "#FF97FF",
                      "#FECB52"
                    ],
                    "font": {
                      "color": "#2a3f5f"
                    },
                    "geo": {
                      "bgcolor": "white",
                      "lakecolor": "white",
                      "landcolor": "#E5ECF6",
                      "showlakes": true,
                      "showland": true,
                      "subunitcolor": "white"
                    },
                    "hoverlabel": {
                      "align": "left"
                    },
                    "hovermode": "closest",
                    "mapbox": {
                      "style": "light"
                    },
                    "paper_bgcolor": "white",
                    "plot_bgcolor": "#E5ECF6",
                    "polar": {
                      "angularaxis": {
                        "gridcolor": "white",
                        "linecolor": "white",
                        "ticks": ""
                      },
                      "bgcolor": "#E5ECF6",
                      "radialaxis": {
                        "gridcolor": "white",
                        "linecolor": "white",
                        "ticks": ""
                      }
                    },
                    "scene": {
                      "xaxis": {
                        "backgroundcolor": "#E5ECF6",
                        "gridcolor": "white",
                        "gridwidth": 2,
                        "linecolor": "white",
                        "showbackground": true,
                        "ticks": "",
                        "zerolinecolor": "white"
                      },
                      "yaxis": {
                        "backgroundcolor": "#E5ECF6",
                        "gridcolor": "white",
                        "gridwidth": 2,
                        "linecolor": "white",
                        "showbackground": true,
                        "ticks": "",
                        "zerolinecolor": "white"
                      },
                      "zaxis": {
                        "backgroundcolor": "#E5ECF6",
                        "gridcolor": "white",
                        "gridwidth": 2,
                        "linecolor": "white",
                        "showbackground": true,
                        "ticks": "",
                        "zerolinecolor": "white"
                      }
                    },
                    "shapedefaults": {
                      "line": {
                        "color": "#2a3f5f"
                      }
                    },
                    "ternary": {
                      "aaxis": {
                        "gridcolor": "white",
                        "linecolor": "white",
                        "ticks": ""
                      },
                      "baxis": {
                        "gridcolor": "white",
                        "linecolor": "white",
                        "ticks": ""
                      },
                      "bgcolor": "#E5ECF6",
                      "caxis": {
                        "gridcolor": "white",
                        "linecolor": "white",
                        "ticks": ""
                      }
                    },
                    "title": {
                      "x": 0.05
                    },
                    "xaxis": {
                      "automargin": true,
                      "gridcolor": "white",
                      "linecolor": "white",
                      "ticks": "",
                      "title": {
                        "standoff": 15
                      },
                      "zerolinecolor": "white",
                      "zerolinewidth": 2
                    },
                    "yaxis": {
                      "automargin": true,
                      "gridcolor": "white",
                      "linecolor": "white",
                      "ticks": "",
                      "title": {
                        "standoff": 15
                      },
                      "zerolinecolor": "white",
                      "zerolinewidth": 2
                    }
                  }
                },
                "title": {
                  "text": "Physical goods Flows in ICED model"
                },
                "xaxis": {
                  "range": [
                    0,
                    5
                  ]
                }
              }
            }
          },
          "metadata": {},
          "output_type": "display_data"
        }
      ],
      "source": [
        "hub=chm.Hub('ICED')\n",
        "#hub.get_summary()\n",
        "hub.set_fields(**{'D':1,'r':0.05,'Delta':0.1,'kappaC':0.5,'w':0.4,\"Delta\":0.4,\"Tsim\":0.1,'Hw':.5,'Hc':0.1})\n",
        "hub.run()\n",
        "S1,S2=hub.supplements['Sankey'](hub)\n",
        "S1.show()\n",
        "S2.show()"
      ]
    },
    {
      "cell_type": "markdown",
      "metadata": {},
      "source": [
        "# ICED Introduction: Submodels \n",
        "\n",
        "ICED can be seen as: \n",
        "* An extended Goodwin model (CHI)\n",
        "* A Three-sector productive sector with shared accountability: two energy (green and brown) sector that feeds an output sector\n",
        "* An ensemble of endogenization for social variables\n",
        "* A Climate sector and its feedback"
      ]
    },
    {
      "cell_type": "markdown",
      "metadata": {},
      "source": [
        "## 3-Capital dynamics"
      ]
    },
    {
      "cell_type": "code",
      "execution_count": null,
      "metadata": {},
      "outputs": [],
      "source": [
        "hub=chm.Hub('3Capital',verb=False)\n",
        "hub.set_fields('omega',0.6)\n",
        "hub.set_fields('pc',1)\n",
        "hub.run_uncertainty(uncertainty=5)\n",
        "hub.plot_preset('default')\n",
        "#hub.save('3CapitalwithNothin')"
      ]
    },
    {
      "cell_type": "markdown",
      "metadata": {},
      "source": [
        "$Y\\sigma$  \n"
      ]
    },
    {
      "cell_type": "markdown",
      "metadata": {},
      "source": [
        "\n",
        "$Y=C$ \n",
        "\n",
        "$[\\Gamma Y]$+\n",
        "\n",
        "$[\\Gamma [\\Gamma Y]]$+\n",
        "\n",
        "$$Y_{nec} = \\sum_k^{\\infty} \\Gamma^k Y$$\n",
        "\n",
        "$$DL_{\\infty} 1/(1-x) = \\sum_k^{\\infty} x^k $$\n",
        "\n",
        "$$CO2_{nec} = [(1-\\Gamma)^{-1}  \\sigma ] * Y$$\n",
        "\n",
        "\n",
        "\n",
        "$Y = (0,0,...,1_{pain},0,0,0)$"
      ]
    },
    {
      "cell_type": "markdown",
      "metadata": {},
      "source": [
        "Si on veut un vecteur $C= (1,2,4,5)$\n",
        "\n",
        "Il faudra produire $Ytot = [(1-\\Gamma)^{-1}C] $\n",
        "\n",
        "Ca correspond a des emissions $\\Sigma = [(1-\\Gamma)^{-1}\\sigma] .C $"
      ]
    },
    {
      "cell_type": "code",
      "execution_count": null,
      "metadata": {},
      "outputs": [],
      "source": []
    },
    {
      "cell_type": "code",
      "execution_count": null,
      "metadata": {},
      "outputs": [],
      "source": []
    }
  ],
  "metadata": {
    "colab": {
      "provenance": []
    },
    "kernelspec": {
      "display_name": "py3.11",
      "language": "python",
      "name": "python3"
    },
    "language_info": {
      "codemirror_mode": {
        "name": "ipython",
        "version": 3
      },
      "file_extension": ".py",
      "mimetype": "text/x-python",
      "name": "python",
      "nbconvert_exporter": "python",
      "pygments_lexer": "ipython3",
      "version": "3.11.0"
    },
    "widgets": {
      "application/vnd.jupyter.widget-state+json": {
        "47a0331f6c834840bf17c35ee69b335e": {
          "model_module": "@jupyter-widgets/output",
          "model_module_version": "1.0.0",
          "model_name": "OutputModel",
          "state": {
            "_dom_classes": [],
            "_model_module": "@jupyter-widgets/output",
            "_model_module_version": "1.0.0",
            "_model_name": "OutputModel",
            "_view_count": null,
            "_view_module": "@jupyter-widgets/output",
            "_view_module_version": "1.0.0",
            "_view_name": "OutputView",
            "layout": "IPY_MODEL_9263d2bad2044cc4aff02b01a52043d4",
            "msg_id": "",
            "outputs": [
              {
                "data": {
                  "text/markdown": "## Model: GEMMES_Coping2018",
                  "text/plain": "<IPython.core.display.Markdown object>"
                },
                "metadata": {},
                "output_type": "display_data"
              },
              {
                "data": {
                  "text/markdown": "\n* **Creation** : False\n* **Coder**    : False\n* **Article**  : False\n* **Keywords** : []",
                  "text/plain": "<IPython.core.display.Markdown object>"
                },
                "metadata": {},
                "output_type": "display_data"
              },
              {
                "data": {
                  "text/markdown": "\n* **Date    :** 2023/08/21\n* **Article :** DOI: 10.1016/j.ecolecon.2018.01.034\n* **Author  :** Bovari, McIsaac\n* **Coder   :** Hugo A. MARTIN, Paul VALCKE\n\nThis is the model Coping from Bovari 2018: Coping with Collapse: A Stock-Flow Consistent Monetary Macrodynamics of Glabal Warming.\nIts is a combination between a Goodwin-Keen model, damage functions, climate model, and\nBAU and TRANSITION converges toward the good equilibrium, BAU_DAM toward the bad.\n\n",
                  "text/plain": "<IPython.core.display.Markdown object>"
                },
                "metadata": {},
                "output_type": "display_data"
              },
              {
                "data": {
                  "text/markdown": "### Presets",
                  "text/plain": "<IPython.core.display.Markdown object>"
                },
                "metadata": {},
                "output_type": "display_data"
              },
              {
                "data": {
                  "application/vnd.google.colaboratory.intrinsic+json": {
                    "summary": "{\n  \"name\": \"chm\",\n  \"rows\": 3,\n  \"fields\": [\n    {\n      \"column\": \"Description\",\n      \"properties\": {\n        \"dtype\": \"string\",\n        \"num_unique_values\": 3,\n        \"samples\": [\n          \"Business as Usual (no carbon price and no climate impacts)\",\n          \"Business as Usual with Climate impacts but no carbon price\",\n          \"Default transition scenario with climate damage and carbon price\"\n        ],\n        \"semantic_type\": \"\",\n        \"description\": \"\"\n      }\n    }\n  ]\n}",
                    "type": "dataframe"
                  },
                  "text/html": "\n  <div id=\"df-4da35193-17b9-4a3a-91cc-600ae950c219\" class=\"colab-df-container\">\n    <div>\n<style scoped>\n    .dataframe tbody tr th:only-of-type {\n        vertical-align: middle;\n    }\n\n    .dataframe tbody tr th {\n        vertical-align: top;\n    }\n\n    .dataframe thead th {\n        text-align: right;\n    }\n</style>\n<table border=\"1\" class=\"dataframe\">\n  <thead>\n    <tr style=\"text-align: right;\">\n      <th></th>\n      <th>Description</th>\n    </tr>\n  </thead>\n  <tbody>\n    <tr>\n      <th>BAU</th>\n      <td>Business as Usual (no carbon price and no clim...</td>\n    </tr>\n    <tr>\n      <th>BAU_DAM</th>\n      <td>Business as Usual with Climate impacts but no ...</td>\n    </tr>\n    <tr>\n      <th>TRANSITION</th>\n      <td>Default transition scenario with climate damag...</td>\n    </tr>\n  </tbody>\n</table>\n</div>\n    <div class=\"colab-df-buttons\">\n\n  <div class=\"colab-df-container\">\n    <button class=\"colab-df-convert\" onclick=\"convertToInteractive('df-4da35193-17b9-4a3a-91cc-600ae950c219')\"\n            title=\"Convert this dataframe to an interactive table.\"\n            style=\"display:none;\">\n\n  <svg xmlns=\"http://www.w3.org/2000/svg\" height=\"24px\" viewBox=\"0 -960 960 960\">\n    <path d=\"M120-120v-720h720v720H120Zm60-500h600v-160H180v160Zm220 220h160v-160H400v160Zm0 220h160v-160H400v160ZM180-400h160v-160H180v160Zm440 0h160v-160H620v160ZM180-180h160v-160H180v160Zm440 0h160v-160H620v160Z\"/>\n  </svg>\n    </button>\n\n  <style>\n    .colab-df-container {\n      display:flex;\n      gap: 12px;\n    }\n\n    .colab-df-convert {\n      background-color: #E8F0FE;\n      border: none;\n      border-radius: 50%;\n      cursor: pointer;\n      display: none;\n      fill: #1967D2;\n      height: 32px;\n      padding: 0 0 0 0;\n      width: 32px;\n    }\n\n    .colab-df-convert:hover {\n      background-color: #E2EBFA;\n      box-shadow: 0px 1px 2px rgba(60, 64, 67, 0.3), 0px 1px 3px 1px rgba(60, 64, 67, 0.15);\n      fill: #174EA6;\n    }\n\n    .colab-df-buttons div {\n      margin-bottom: 4px;\n    }\n\n    [theme=dark] .colab-df-convert {\n      background-color: #3B4455;\n      fill: #D2E3FC;\n    }\n\n    [theme=dark] .colab-df-convert:hover {\n      background-color: #434B5C;\n      box-shadow: 0px 1px 3px 1px rgba(0, 0, 0, 0.15);\n      filter: drop-shadow(0px 1px 2px rgba(0, 0, 0, 0.3));\n      fill: #FFFFFF;\n    }\n  </style>\n\n    <script>\n      const buttonEl =\n        document.querySelector('#df-4da35193-17b9-4a3a-91cc-600ae950c219 button.colab-df-convert');\n      buttonEl.style.display =\n        google.colab.kernel.accessAllowed ? 'block' : 'none';\n\n      async function convertToInteractive(key) {\n        const element = document.querySelector('#df-4da35193-17b9-4a3a-91cc-600ae950c219');\n        const dataTable =\n          await google.colab.kernel.invokeFunction('convertToInteractive',\n                                                    [key], {});\n        if (!dataTable) return;\n\n        const docLinkHtml = 'Like what you see? Visit the ' +\n          '<a target=\"_blank\" href=https://colab.research.google.com/notebooks/data_table.ipynb>data table notebook</a>'\n          + ' to learn more about interactive tables.';\n        element.innerHTML = '';\n        dataTable['output_type'] = 'display_data';\n        await google.colab.output.renderOutput(dataTable, element);\n        const docLink = document.createElement('div');\n        docLink.innerHTML = docLinkHtml;\n        element.appendChild(docLink);\n      }\n    </script>\n  </div>\n\n\n<div id=\"df-1499f2f3-9ec5-44a8-92fd-581675272769\">\n  <button class=\"colab-df-quickchart\" onclick=\"quickchart('df-1499f2f3-9ec5-44a8-92fd-581675272769')\"\n            title=\"Suggest charts\"\n            style=\"display:none;\">\n\n<svg xmlns=\"http://www.w3.org/2000/svg\" height=\"24px\"viewBox=\"0 0 24 24\"\n     width=\"24px\">\n    <g>\n        <path d=\"M19 3H5c-1.1 0-2 .9-2 2v14c0 1.1.9 2 2 2h14c1.1 0 2-.9 2-2V5c0-1.1-.9-2-2-2zM9 17H7v-7h2v7zm4 0h-2V7h2v10zm4 0h-2v-4h2v4z\"/>\n    </g>\n</svg>\n  </button>\n\n<style>\n  .colab-df-quickchart {\n      --bg-color: #E8F0FE;\n      --fill-color: #1967D2;\n      --hover-bg-color: #E2EBFA;\n      --hover-fill-color: #174EA6;\n      --disabled-fill-color: #AAA;\n      --disabled-bg-color: #DDD;\n  }\n\n  [theme=dark] .colab-df-quickchart {\n      --bg-color: #3B4455;\n      --fill-color: #D2E3FC;\n      --hover-bg-color: #434B5C;\n      --hover-fill-color: #FFFFFF;\n      --disabled-bg-color: #3B4455;\n      --disabled-fill-color: #666;\n  }\n\n  .colab-df-quickchart {\n    background-color: var(--bg-color);\n    border: none;\n    border-radius: 50%;\n    cursor: pointer;\n    display: none;\n    fill: var(--fill-color);\n    height: 32px;\n    padding: 0;\n    width: 32px;\n  }\n\n  .colab-df-quickchart:hover {\n    background-color: var(--hover-bg-color);\n    box-shadow: 0 1px 2px rgba(60, 64, 67, 0.3), 0 1px 3px 1px rgba(60, 64, 67, 0.15);\n    fill: var(--button-hover-fill-color);\n  }\n\n  .colab-df-quickchart-complete:disabled,\n  .colab-df-quickchart-complete:disabled:hover {\n    background-color: var(--disabled-bg-color);\n    fill: var(--disabled-fill-color);\n    box-shadow: none;\n  }\n\n  .colab-df-spinner {\n    border: 2px solid var(--fill-color);\n    border-color: transparent;\n    border-bottom-color: var(--fill-color);\n    animation:\n      spin 1s steps(1) infinite;\n  }\n\n  @keyframes spin {\n    0% {\n      border-color: transparent;\n      border-bottom-color: var(--fill-color);\n      border-left-color: var(--fill-color);\n    }\n    20% {\n      border-color: transparent;\n      border-left-color: var(--fill-color);\n      border-top-color: var(--fill-color);\n    }\n    30% {\n      border-color: transparent;\n      border-left-color: var(--fill-color);\n      border-top-color: var(--fill-color);\n      border-right-color: var(--fill-color);\n    }\n    40% {\n      border-color: transparent;\n      border-right-color: var(--fill-color);\n      border-top-color: var(--fill-color);\n    }\n    60% {\n      border-color: transparent;\n      border-right-color: var(--fill-color);\n    }\n    80% {\n      border-color: transparent;\n      border-right-color: var(--fill-color);\n      border-bottom-color: var(--fill-color);\n    }\n    90% {\n      border-color: transparent;\n      border-bottom-color: var(--fill-color);\n    }\n  }\n</style>\n\n  <script>\n    async function quickchart(key) {\n      const quickchartButtonEl =\n        document.querySelector('#' + key + ' button');\n      quickchartButtonEl.disabled = true;  // To prevent multiple clicks.\n      quickchartButtonEl.classList.add('colab-df-spinner');\n      try {\n        const charts = await google.colab.kernel.invokeFunction(\n            'suggestCharts', [key], {});\n      } catch (error) {\n        console.error('Error during call to suggestCharts:', error);\n      }\n      quickchartButtonEl.classList.remove('colab-df-spinner');\n      quickchartButtonEl.classList.add('colab-df-quickchart-complete');\n    }\n    (() => {\n      let quickchartButtonEl =\n        document.querySelector('#df-1499f2f3-9ec5-44a8-92fd-581675272769 button');\n      quickchartButtonEl.style.display =\n        google.colab.kernel.accessAllowed ? 'block' : 'none';\n    })();\n  </script>\n</div>\n    </div>\n  </div>\n",
                  "text/plain": "                                                  Description\nBAU         Business as Usual (no carbon price and no clim...\nBAU_DAM     Business as Usual with Climate impacts but no ...\nTRANSITION  Default transition scenario with climate damag..."
                },
                "metadata": {},
                "output_type": "display_data"
              },
              {
                "data": {
                  "text/markdown": "### Supplements",
                  "text/plain": "<IPython.core.display.Markdown object>"
                },
                "metadata": {},
                "output_type": "display_data"
              },
              {
                "data": {
                  "text/html": "<style type=\"text/css\">\n</style>\n<table id=\"T_fa6a0\" class=\"dataframe\">\n  <thead>\n  </thead>\n  <tbody>\n  </tbody>\n</table>\n",
                  "text/plain": "<pandas.io.formats.style.Styler at 0x7caf5da3a5f0>"
                },
                "metadata": {},
                "output_type": "display_data"
              },
              {
                "data": {
                  "text/markdown": "### Todo",
                  "text/plain": "<IPython.core.display.Markdown object>"
                },
                "metadata": {},
                "output_type": "display_data"
              },
              {
                "data": {
                  "text/markdown": "",
                  "text/plain": "<IPython.core.display.Markdown object>"
                },
                "metadata": {},
                "output_type": "display_data"
              },
              {
                "data": {
                  "text/markdown": "### Equations",
                  "text/plain": "<IPython.core.display.Markdown object>"
                },
                "metadata": {},
                "output_type": "display_data"
              },
              {
                "data": {
                  "text/html": "<style type=\"text/css\">\n#T_aabf9_row0_col0, #T_aabf9_row0_col1, #T_aabf9_row0_col2, #T_aabf9_row0_col3, #T_aabf9_row1_col0, #T_aabf9_row1_col1, #T_aabf9_row1_col2, #T_aabf9_row1_col3, #T_aabf9_row2_col0, #T_aabf9_row2_col1, #T_aabf9_row2_col2, #T_aabf9_row2_col3, #T_aabf9_row3_col0, #T_aabf9_row3_col1, #T_aabf9_row3_col2, #T_aabf9_row3_col3, #T_aabf9_row4_col0, #T_aabf9_row4_col1, #T_aabf9_row4_col2, #T_aabf9_row4_col3, #T_aabf9_row5_col0, #T_aabf9_row5_col1, #T_aabf9_row5_col2, #T_aabf9_row5_col3, #T_aabf9_row6_col0, #T_aabf9_row6_col1, #T_aabf9_row6_col2, #T_aabf9_row6_col3, #T_aabf9_row7_col0, #T_aabf9_row7_col1, #T_aabf9_row7_col2, #T_aabf9_row7_col3, #T_aabf9_row8_col0, #T_aabf9_row8_col1, #T_aabf9_row8_col2, #T_aabf9_row8_col3, #T_aabf9_row9_col0, #T_aabf9_row9_col1, #T_aabf9_row9_col2, #T_aabf9_row9_col3, #T_aabf9_row10_col0, #T_aabf9_row10_col1, #T_aabf9_row10_col2, #T_aabf9_row10_col3, #T_aabf9_row11_col0, #T_aabf9_row11_col1, #T_aabf9_row11_col2, #T_aabf9_row11_col3, #T_aabf9_row12_col0, #T_aabf9_row12_col1, #T_aabf9_row12_col2, #T_aabf9_row12_col3, #T_aabf9_row13_col0, #T_aabf9_row13_col1, #T_aabf9_row13_col2, #T_aabf9_row13_col3, #T_aabf9_row14_col0, #T_aabf9_row14_col1, #T_aabf9_row14_col2, #T_aabf9_row14_col3, #T_aabf9_row15_col0, #T_aabf9_row15_col1, #T_aabf9_row15_col2, #T_aabf9_row15_col3, #T_aabf9_row16_col0, #T_aabf9_row16_col1, #T_aabf9_row16_col2, #T_aabf9_row16_col3, #T_aabf9_row17_col0, #T_aabf9_row17_col1, #T_aabf9_row17_col2, #T_aabf9_row17_col3, #T_aabf9_row18_col0, #T_aabf9_row18_col1, #T_aabf9_row18_col2, #T_aabf9_row18_col3, #T_aabf9_row19_col0, #T_aabf9_row19_col1, #T_aabf9_row19_col2, #T_aabf9_row19_col3, #T_aabf9_row20_col0, #T_aabf9_row20_col1, #T_aabf9_row20_col2, #T_aabf9_row20_col3, #T_aabf9_row21_col0, #T_aabf9_row21_col1, #T_aabf9_row21_col2, #T_aabf9_row21_col3, #T_aabf9_row22_col0, #T_aabf9_row22_col1, #T_aabf9_row22_col2, #T_aabf9_row22_col3, #T_aabf9_row23_col0, #T_aabf9_row23_col1, #T_aabf9_row23_col2, #T_aabf9_row23_col3, #T_aabf9_row24_col0, #T_aabf9_row24_col1, #T_aabf9_row24_col2, #T_aabf9_row24_col3, #T_aabf9_row25_col0, #T_aabf9_row25_col1, #T_aabf9_row25_col2, #T_aabf9_row25_col3, #T_aabf9_row26_col0, #T_aabf9_row26_col1, #T_aabf9_row26_col2, #T_aabf9_row26_col3, #T_aabf9_row27_col0, #T_aabf9_row27_col1, #T_aabf9_row27_col2, #T_aabf9_row27_col3, #T_aabf9_row28_col0, #T_aabf9_row28_col1, #T_aabf9_row28_col2, #T_aabf9_row28_col3, #T_aabf9_row29_col0, #T_aabf9_row29_col1, #T_aabf9_row29_col2, #T_aabf9_row29_col3, #T_aabf9_row30_col0, #T_aabf9_row30_col1, #T_aabf9_row30_col2, #T_aabf9_row30_col3, #T_aabf9_row31_col0, #T_aabf9_row31_col1, #T_aabf9_row31_col2, #T_aabf9_row31_col3, #T_aabf9_row32_col0, #T_aabf9_row32_col1, #T_aabf9_row32_col2, #T_aabf9_row32_col3, #T_aabf9_row33_col0, #T_aabf9_row33_col1, #T_aabf9_row33_col2, #T_aabf9_row33_col3, #T_aabf9_row34_col0, #T_aabf9_row34_col1, #T_aabf9_row34_col2, #T_aabf9_row34_col3, #T_aabf9_row35_col0, #T_aabf9_row35_col1, #T_aabf9_row35_col2, #T_aabf9_row35_col3, #T_aabf9_row36_col0, #T_aabf9_row36_col1, #T_aabf9_row36_col2, #T_aabf9_row36_col3, #T_aabf9_row37_col0, #T_aabf9_row37_col1, #T_aabf9_row37_col2, #T_aabf9_row37_col3, #T_aabf9_row38_col0, #T_aabf9_row38_col1, #T_aabf9_row38_col2, #T_aabf9_row38_col3, #T_aabf9_row39_col0, #T_aabf9_row39_col1, #T_aabf9_row39_col2, #T_aabf9_row39_col3, #T_aabf9_row40_col0, #T_aabf9_row40_col1, #T_aabf9_row40_col2, #T_aabf9_row40_col3, #T_aabf9_row41_col0, #T_aabf9_row41_col1, #T_aabf9_row41_col2, #T_aabf9_row41_col3, #T_aabf9_row42_col0, #T_aabf9_row42_col1, #T_aabf9_row42_col2, #T_aabf9_row42_col3, #T_aabf9_row43_col0, #T_aabf9_row43_col1, #T_aabf9_row43_col2, #T_aabf9_row43_col3, #T_aabf9_row44_col0, #T_aabf9_row44_col1, #T_aabf9_row44_col2, #T_aabf9_row44_col3, #T_aabf9_row45_col0, #T_aabf9_row45_col1, #T_aabf9_row45_col2, #T_aabf9_row45_col3, #T_aabf9_row46_col0, #T_aabf9_row46_col1, #T_aabf9_row46_col2, #T_aabf9_row46_col3, #T_aabf9_row47_col0, #T_aabf9_row47_col1, #T_aabf9_row47_col2, #T_aabf9_row47_col3, #T_aabf9_row48_col0, #T_aabf9_row48_col1, #T_aabf9_row48_col2, #T_aabf9_row48_col3, #T_aabf9_row49_col0, #T_aabf9_row49_col1, #T_aabf9_row49_col2, #T_aabf9_row49_col3, #T_aabf9_row50_col0, #T_aabf9_row50_col1, #T_aabf9_row50_col2, #T_aabf9_row50_col3, #T_aabf9_row51_col0, #T_aabf9_row51_col1, #T_aabf9_row51_col2, #T_aabf9_row51_col3, #T_aabf9_row52_col0, #T_aabf9_row52_col1, #T_aabf9_row52_col2, #T_aabf9_row52_col3, #T_aabf9_row53_col0, #T_aabf9_row53_col1, #T_aabf9_row53_col2, #T_aabf9_row53_col3, #T_aabf9_row54_col0, #T_aabf9_row54_col1, #T_aabf9_row54_col2, #T_aabf9_row54_col3, #T_aabf9_row55_col0, #T_aabf9_row55_col1, #T_aabf9_row55_col2, #T_aabf9_row55_col3, #T_aabf9_row56_col0, #T_aabf9_row56_col1, #T_aabf9_row56_col2, #T_aabf9_row56_col3, #T_aabf9_row57_col0, #T_aabf9_row57_col1, #T_aabf9_row57_col2, #T_aabf9_row57_col3, #T_aabf9_row58_col0, #T_aabf9_row58_col1, #T_aabf9_row58_col2, #T_aabf9_row58_col3, #T_aabf9_row59_col0, #T_aabf9_row59_col1, #T_aabf9_row59_col2, #T_aabf9_row59_col3, #T_aabf9_row60_col0, #T_aabf9_row60_col1, #T_aabf9_row60_col2, #T_aabf9_row60_col3, #T_aabf9_row61_col0, #T_aabf9_row61_col1, #T_aabf9_row61_col2, #T_aabf9_row61_col3, #T_aabf9_row62_col0, #T_aabf9_row62_col1, #T_aabf9_row62_col2, #T_aabf9_row62_col3, #T_aabf9_row63_col0, #T_aabf9_row63_col1, #T_aabf9_row63_col2, #T_aabf9_row63_col3, #T_aabf9_row64_col0, #T_aabf9_row64_col1, #T_aabf9_row64_col2, #T_aabf9_row64_col3, #T_aabf9_row65_col0, #T_aabf9_row65_col1, #T_aabf9_row65_col2, #T_aabf9_row65_col3, #T_aabf9_row66_col0, #T_aabf9_row66_col1, #T_aabf9_row66_col2, #T_aabf9_row66_col3, #T_aabf9_row67_col0, #T_aabf9_row67_col1, #T_aabf9_row67_col2, #T_aabf9_row67_col3, #T_aabf9_row68_col0, #T_aabf9_row68_col1, #T_aabf9_row68_col2, #T_aabf9_row68_col3, #T_aabf9_row69_col0, #T_aabf9_row69_col1, #T_aabf9_row69_col2, #T_aabf9_row69_col3, #T_aabf9_row70_col0, #T_aabf9_row70_col1, #T_aabf9_row70_col2, #T_aabf9_row70_col3, #T_aabf9_row71_col0, #T_aabf9_row71_col1, #T_aabf9_row71_col2, #T_aabf9_row71_col3, #T_aabf9_row72_col0, #T_aabf9_row72_col1, #T_aabf9_row72_col2, #T_aabf9_row72_col3, #T_aabf9_row73_col0, #T_aabf9_row73_col1, #T_aabf9_row73_col2, #T_aabf9_row73_col3, #T_aabf9_row74_col0, #T_aabf9_row74_col1, #T_aabf9_row74_col2, #T_aabf9_row74_col3, #T_aabf9_row75_col0, #T_aabf9_row75_col1, #T_aabf9_row75_col2, #T_aabf9_row75_col3, #T_aabf9_row76_col0, #T_aabf9_row76_col1, #T_aabf9_row76_col2, #T_aabf9_row76_col3, #T_aabf9_row77_col0, #T_aabf9_row77_col1, #T_aabf9_row77_col2, #T_aabf9_row77_col3, #T_aabf9_row78_col0, #T_aabf9_row78_col1, #T_aabf9_row78_col2, #T_aabf9_row78_col3, #T_aabf9_row79_col0, #T_aabf9_row79_col1, #T_aabf9_row79_col2, #T_aabf9_row79_col3, #T_aabf9_row80_col0, #T_aabf9_row80_col1, #T_aabf9_row80_col2, #T_aabf9_row80_col3, #T_aabf9_row81_col0, #T_aabf9_row81_col1, #T_aabf9_row81_col2, #T_aabf9_row81_col3, #T_aabf9_row82_col0, #T_aabf9_row82_col1, #T_aabf9_row82_col2, #T_aabf9_row82_col3, #T_aabf9_row83_col0, #T_aabf9_row83_col1, #T_aabf9_row83_col2, #T_aabf9_row83_col3, #T_aabf9_row84_col0, #T_aabf9_row84_col1, #T_aabf9_row84_col2, #T_aabf9_row84_col3, #T_aabf9_row85_col0, #T_aabf9_row85_col1, #T_aabf9_row85_col2, #T_aabf9_row85_col3, #T_aabf9_row86_col0, #T_aabf9_row86_col1, #T_aabf9_row86_col2, #T_aabf9_row86_col3 {\n  text-align: left;\n}\n</style>\n<table id=\"T_aabf9\" class=\"dataframe\">\n  <thead>\n    <tr>\n      <th class=\"blank level0\" >&nbsp;</th>\n      <th id=\"T_aabf9_level0_col0\" class=\"col_heading level0 col0\" >eqtype</th>\n      <th id=\"T_aabf9_level0_col1\" class=\"col_heading level0 col1\" >definition</th>\n      <th id=\"T_aabf9_level0_col2\" class=\"col_heading level0 col2\" >source_exp</th>\n      <th id=\"T_aabf9_level0_col3\" class=\"col_heading level0 col3\" >com</th>\n    </tr>\n  </thead>\n  <tbody>\n    <tr>\n      <th id=\"T_aabf9_level0_row0\" class=\"row_heading level0 row0\" >a</th>\n      <td id=\"T_aabf9_row0_col0\" class=\"data row0 col0\" >differential</td>\n      <td id=\"T_aabf9_row0_col1\" class=\"data row0 col1\" >Productivity</td>\n      <td id=\"T_aabf9_row0_col2\" class=\"data row0 col2\" >da/dt=a * alpha),</td>\n      <td id=\"T_aabf9_row0_col3\" class=\"data row0 col3\" ></td>\n    </tr>\n    <tr>\n      <th id=\"T_aabf9_level0_row1\" class=\"row_heading level0 row1\" >p</th>\n      <td id=\"T_aabf9_row1_col0\" class=\"data row1 col0\" >differential</td>\n      <td id=\"T_aabf9_row1_col1\" class=\"data row1 col1\" >price of goods</td>\n      <td id=\"T_aabf9_row1_col2\" class=\"data row1 col2\" >dp/dt=p * inflation),</td>\n      <td id=\"T_aabf9_row1_col3\" class=\"data row1 col3\" ></td>\n    </tr>\n    <tr>\n      <th id=\"T_aabf9_level0_row2\" class=\"row_heading level0 row2\" >Dh</th>\n      <td id=\"T_aabf9_row2_col0\" class=\"data row2 col0\" >differential</td>\n      <td id=\"T_aabf9_row2_col1\" class=\"data row2 col1\" >Debt of household</td>\n      <td id=\"T_aabf9_row2_col2\" class=\"data row2 col2\" >dDh/dt=-r * D - w * L + p * C - Pi * Delta),</td>\n      <td id=\"T_aabf9_row2_col3\" class=\"data row2 col3\" ></td>\n    </tr>\n    <tr>\n      <th id=\"T_aabf9_level0_row3\" class=\"row_heading level0 row3\" >CO2AT</th>\n      <td id=\"T_aabf9_row3_col0\" class=\"data row3 col0\" >differential</td>\n      <td id=\"T_aabf9_row3_col1\" class=\"data row3 col1\" >CO2 in atmosphere</td>\n      <td id=\"T_aabf9_row3_col2\" class=\"data row3 col2\" >dCO2AT/dt=(1. / 3.666) * Emission - phi12 * CO2AT + phi12 * CAT / CUP * CO2UP,</td>\n      <td id=\"T_aabf9_row3_col3\" class=\"data row3 col3\" >3-Layer dynamics (Atmosphere)</td>\n    </tr>\n    <tr>\n      <th id=\"T_aabf9_level0_row4\" class=\"row_heading level0 row4\" >CO2UP</th>\n      <td id=\"T_aabf9_row4_col0\" class=\"data row4 col0\" >differential</td>\n      <td id=\"T_aabf9_row4_col1\" class=\"data row4 col1\" >CO2 in upper ocean</td>\n      <td id=\"T_aabf9_row4_col2\" class=\"data row4 col2\" >dCO2UP/dt=phi12 * CO2AT - CO2UP * (phi12 * CAT / CUP - phi23) + phi23 * CUP / CLO * CO2LO,</td>\n      <td id=\"T_aabf9_row4_col3\" class=\"data row4 col3\" >3-Layer dynamics (Upper ocean)</td>\n    </tr>\n    <tr>\n      <th id=\"T_aabf9_level0_row5\" class=\"row_heading level0 row5\" >CO2LO</th>\n      <td id=\"T_aabf9_row5_col0\" class=\"data row5 col0\" >differential</td>\n      <td id=\"T_aabf9_row5_col1\" class=\"data row5 col1\" >CO2 in lower ocean</td>\n      <td id=\"T_aabf9_row5_col2\" class=\"data row5 col2\" >dCO2LO/dt=phi23 * CO2UP - phi23 * CUP / CLO * CO2LO,</td>\n      <td id=\"T_aabf9_row5_col3\" class=\"data row5 col3\" >3-Layer dynamics (lower ocean)</td>\n    </tr>\n    <tr>\n      <th id=\"T_aabf9_level0_row6\" class=\"row_heading level0 row6\" >T</th>\n      <td id=\"T_aabf9_row6_col0\" class=\"data row6 col0\" >differential</td>\n      <td id=\"T_aabf9_row6_col1\" class=\"data row6 col1\" >temperature anomaly of atmosphere</td>\n      <td id=\"T_aabf9_row6_col2\" class=\"data row6 col2\" >dT/dt=(F - rhoAtmo * T - gammaAtmo * (T - T0)) / Capacity,</td>\n      <td id=\"T_aabf9_row6_col3\" class=\"data row6 col3\" >Forcing and ocean dynamics</td>\n    </tr>\n    <tr>\n      <th id=\"T_aabf9_level0_row7\" class=\"row_heading level0 row7\" >T0</th>\n      <td id=\"T_aabf9_row7_col0\" class=\"data row7 col0\" >differential</td>\n      <td id=\"T_aabf9_row7_col1\" class=\"data row7 col1\" >temperature anomaly of ocean</td>\n      <td id=\"T_aabf9_row7_col2\" class=\"data row7 col2\" >dT0/dt=(gammaAtmo * (T - T0)) / Capacity0,</td>\n      <td id=\"T_aabf9_row7_col3\" class=\"data row7 col3\" >Accumulation from atmosphere</td>\n    </tr>\n    <tr>\n      <th id=\"T_aabf9_level0_row8\" class=\"row_heading level0 row8\" >N</th>\n      <td id=\"T_aabf9_row8_col0\" class=\"data row8 col0\" >differential</td>\n      <td id=\"T_aabf9_row8_col1\" class=\"data row8 col1\" >Population of people able to work</td>\n      <td id=\"T_aabf9_row8_col2\" class=\"data row8 col2\" >dN/dt=N * n * (1 - N / Nmax),</td>\n      <td id=\"T_aabf9_row8_col3\" class=\"data row8 col3\" >ODE exogenous logistic (saturation)</td>\n    </tr>\n    <tr>\n      <th id=\"T_aabf9_level0_row9\" class=\"row_heading level0 row9\" >w</th>\n      <td id=\"T_aabf9_row9_col0\" class=\"data row9 col0\" >differential</td>\n      <td id=\"T_aabf9_row9_col1\" class=\"data row9 col1\" >Wage value</td>\n      <td id=\"T_aabf9_row9_col2\" class=\"data row9 col2\" >dw/dt=w * phillips,</td>\n      <td id=\"T_aabf9_row9_col3\" class=\"data row9 col3\" >Phillips impact (no negociation)</td>\n    </tr>\n    <tr>\n      <th id=\"T_aabf9_level0_row10\" class=\"row_heading level0 row10\" >K</th>\n      <td id=\"T_aabf9_row10_col0\" class=\"data row10 col0\" >differential</td>\n      <td id=\"T_aabf9_row10_col1\" class=\"data row10 col1\" >Monetary Capital</td>\n      <td id=\"T_aabf9_row10_col2\" class=\"data row10 col2\" >dK/dt=I - deltad * K,</td>\n      <td id=\"T_aabf9_row10_col3\" class=\"data row10 col3\" >Evolution def. in Eq. (7) in Bovari2018</td>\n    </tr>\n    <tr>\n      <th id=\"T_aabf9_level0_row11\" class=\"row_heading level0 row11\" >D</th>\n      <td id=\"T_aabf9_row11_col0\" class=\"data row11 col0\" >differential</td>\n      <td id=\"T_aabf9_row11_col1\" class=\"data row11 col1\" >Private debt in current $</td>\n      <td id=\"T_aabf9_row11_col2\" class=\"data row11 col2\" >dD/dt=p * I - Pi - p * deltad * K + Sh,</td>\n      <td id=\"T_aabf9_row11_col3\" class=\"data row11 col3\" >Evolution def. in Eq. (8) in Bovari2018</td>\n    </tr>\n    <tr>\n      <th id=\"T_aabf9_level0_row12\" class=\"row_heading level0 row12\" >pbackstop</th>\n      <td id=\"T_aabf9_row12_col0\" class=\"data row12 col0\" >differential</td>\n      <td id=\"T_aabf9_row12_col1\" class=\"data row12 col1\" >Magic backstop technology price</td>\n      <td id=\"T_aabf9_row12_col2\" class=\"data row12 col2\" >dpbackstop/dt=pbackstop * deltapbackstop,</td>\n      <td id=\"T_aabf9_row12_col3\" class=\"data row12 col3\" >Exogenous Evolution is implicitely given in Bovari2018</td>\n    </tr>\n    <tr>\n      <th id=\"T_aabf9_level0_row13\" class=\"row_heading level0 row13\" >pcarbon_pot</th>\n      <td id=\"T_aabf9_row13_col0\" class=\"data row13 col0\" >differential</td>\n      <td id=\"T_aabf9_row13_col1\" class=\"data row13 col1\" >aggregated potential price of carbon</td>\n      <td id=\"T_aabf9_row13_col2\" class=\"data row13 col2\" >dpcarbon_pot/dt=pcarbon_pot * (apc + bpc / (time - (Tini - 1))),</td>\n      <td id=\"T_aabf9_row13_col3\" class=\"data row13 col3\" >Evolution of carbon price Eq. (38) in Bovari2018</td>\n    </tr>\n    <tr>\n      <th id=\"T_aabf9_level0_row14\" class=\"row_heading level0 row14\" >sigmaEm</th>\n      <td id=\"T_aabf9_row14_col0\" class=\"data row14 col0\" >differential</td>\n      <td id=\"T_aabf9_row14_col1\" class=\"data row14 col1\" >current emission intensity of the economy</td>\n      <td id=\"T_aabf9_row14_col2\" class=\"data row14 col2\" >dsigmaEm/dt=sigmaEm * gsigmaEm,</td>\n      <td id=\"T_aabf9_row14_col3\" class=\"data row14 col3\" >Evolution of sigma in Eq. (17) in Bovari2018</td>\n    </tr>\n    <tr>\n      <th id=\"T_aabf9_level0_row15\" class=\"row_heading level0 row15\" >gsigmaEm</th>\n      <td id=\"T_aabf9_row15_col0\" class=\"data row15 col0\" >differential</td>\n      <td id=\"T_aabf9_row15_col1\" class=\"data row15 col1\" >Growth rate economic emission intensity</td>\n      <td id=\"T_aabf9_row15_col2\" class=\"data row15 col2\" >dgsigmaEm/dt=gsigmaEm * deltagsigmaEm,</td>\n      <td id=\"T_aabf9_row15_col3\" class=\"data row15 col3\" >Evolution of gsigma in Eq. (18) in Bovari2018</td>\n    </tr>\n    <tr>\n      <th id=\"T_aabf9_level0_row16\" class=\"row_heading level0 row16\" >Eland</th>\n      <td id=\"T_aabf9_row16_col0\" class=\"data row16 col0\" >differential</td>\n      <td id=\"T_aabf9_row16_col1\" class=\"data row16 col1\" >Natural Emission</td>\n      <td id=\"T_aabf9_row16_col2\" class=\"data row16 col2\" >dEland/dt=deltaEland * Eland,</td>\n      <td id=\"T_aabf9_row16_col3\" class=\"data row16 col3\" >Evolution of land use emissions in Eq. (19) in Bovari2018</td>\n    </tr>\n    <tr>\n      <th id=\"T_aabf9_level0_row17\" class=\"row_heading level0 row17\" >pi</th>\n      <td id=\"T_aabf9_row17_col0\" class=\"data row17 col0\" >statevar</td>\n      <td id=\"T_aabf9_row17_col1\" class=\"data row17 col1\" >relative profit</td>\n      <td id=\"T_aabf9_row17_col2\" class=\"data row17 col2\" >pi=Pi / (p * Y)),</td>\n      <td id=\"T_aabf9_row17_col3\" class=\"data row17 col3\" ></td>\n    </tr>\n    <tr>\n      <th id=\"T_aabf9_level0_row18\" class=\"row_heading level0 row18\" >d</th>\n      <td id=\"T_aabf9_row18_col0\" class=\"data row18 col0\" >statevar</td>\n      <td id=\"T_aabf9_row18_col1\" class=\"data row18 col1\" >relative debt</td>\n      <td id=\"T_aabf9_row18_col2\" class=\"data row18 col2\" >d=D / (p * Y)),</td>\n      <td id=\"T_aabf9_row18_col3\" class=\"data row18 col3\" ></td>\n    </tr>\n    <tr>\n      <th id=\"T_aabf9_level0_row19\" class=\"row_heading level0 row19\" >omega</th>\n      <td id=\"T_aabf9_row19_col0\" class=\"data row19 col0\" >statevar</td>\n      <td id=\"T_aabf9_row19_col1\" class=\"data row19 col1\" >wage share</td>\n      <td id=\"T_aabf9_row19_col2\" class=\"data row19 col2\" >omega=w * L / (p * Y)),</td>\n      <td id=\"T_aabf9_row19_col3\" class=\"data row19 col3\" ></td>\n    </tr>\n    <tr>\n      <th id=\"T_aabf9_level0_row20\" class=\"row_heading level0 row20\" >employment</th>\n      <td id=\"T_aabf9_row20_col0\" class=\"data row20 col0\" >statevar</td>\n      <td id=\"T_aabf9_row20_col1\" class=\"data row20 col1\" >employment rate</td>\n      <td id=\"T_aabf9_row20_col2\" class=\"data row20 col2\" >employment=L / N),</td>\n      <td id=\"T_aabf9_row20_col3\" class=\"data row20 col3\" ></td>\n    </tr>\n    <tr>\n      <th id=\"T_aabf9_level0_row21\" class=\"row_heading level0 row21\" >C</th>\n      <td id=\"T_aabf9_row21_col0\" class=\"data row21 col0\" >statevar</td>\n      <td id=\"T_aabf9_row21_col1\" class=\"data row21 col1\" >flux of goods for household</td>\n      <td id=\"T_aabf9_row21_col2\" class=\"data row21 col2\" >C=Y - Ir),</td>\n      <td id=\"T_aabf9_row21_col3\" class=\"data row21 col3\" >Consumption as full salary</td>\n    </tr>\n    <tr>\n      <th id=\"T_aabf9_level0_row22\" class=\"row_heading level0 row22\" >GDP</th>\n      <td id=\"T_aabf9_row22_col0\" class=\"data row22 col0\" >statevar</td>\n      <td id=\"T_aabf9_row22_col1\" class=\"data row22 col1\" >nominal GDP </td>\n      <td id=\"T_aabf9_row22_col2\" class=\"data row22 col2\" >GDP=Y * p),</td>\n      <td id=\"T_aabf9_row22_col3\" class=\"data row22 col3\" ></td>\n    </tr>\n    <tr>\n      <th id=\"T_aabf9_level0_row23\" class=\"row_heading level0 row23\" >inflation</th>\n      <td id=\"T_aabf9_row23_col0\" class=\"data row23 col0\" >statevar</td>\n      <td id=\"T_aabf9_row23_col1\" class=\"data row23 col1\" >inflation rate</td>\n      <td id=\"T_aabf9_row23_col2\" class=\"data row23 col2\" >inflation=eta * (mu * c / p - 1)),</td>\n      <td id=\"T_aabf9_row23_col3\" class=\"data row23 col3\" ></td>\n    </tr>\n    <tr>\n      <th id=\"T_aabf9_level0_row24\" class=\"row_heading level0 row24\" >F</th>\n      <td id=\"T_aabf9_row24_col0\" class=\"data row24 col0\" >statevar</td>\n      <td id=\"T_aabf9_row24_col1\" class=\"data row24 col1\" >Radiative Forcing</td>\n      <td id=\"T_aabf9_row24_col2\" class=\"data row24 col2\" >F=F2CO2 / np.log(2) * np.log(CO2AT / CAT),</td>\n      <td id=\"T_aabf9_row24_col3\" class=\"data row24 col3\" >Forcing as sensitivity</td>\n    </tr>\n    <tr>\n      <th id=\"T_aabf9_level0_row25\" class=\"row_heading level0 row25\" >phillips</th>\n      <td id=\"T_aabf9_row25_col0\" class=\"data row25 col0\" >statevar</td>\n      <td id=\"T_aabf9_row25_col1\" class=\"data row25 col1\" >Wage inflation rate</td>\n      <td id=\"T_aabf9_row25_col2\" class=\"data row25 col2\" >phillips=philinConst + philinSlope * employment,</td>\n      <td id=\"T_aabf9_row25_col3\" class=\"data row25 col3\" >linear param curve</td>\n    </tr>\n    <tr>\n      <th id=\"T_aabf9_level0_row26\" class=\"row_heading level0 row26\" >kappa</th>\n      <td id=\"T_aabf9_row26_col0\" class=\"data row26 col0\" >statevar</td>\n      <td id=\"T_aabf9_row26_col1\" class=\"data row26 col1\" >Part of GDP in investment</td>\n      <td id=\"T_aabf9_row26_col2\" class=\"data row26 col2\" >kappa=np.clip(kappalinConst + kappalinSlope * pi, kappalinMin, kappalinMax),</td>\n      <td id=\"T_aabf9_row26_col3\" class=\"data row26 col3\" >linear param curve</td>\n    </tr>\n    <tr>\n      <th id=\"T_aabf9_level0_row27\" class=\"row_heading level0 row27\" >Sh</th>\n      <td id=\"T_aabf9_row27_col0\" class=\"data row27 col0\" >statevar</td>\n      <td id=\"T_aabf9_row27_col1\" class=\"data row27 col1\" >Shareholding dividends</td>\n      <td id=\"T_aabf9_row27_col2\" class=\"data row27 col2\" >Sh=GDP * np.clip((divlinSlope * pi + divlinconst), divlinMin, divlinMax),</td>\n      <td id=\"T_aabf9_row27_col3\" class=\"data row27 col3\" >lin fit from Coping</td>\n    </tr>\n    <tr>\n      <th id=\"T_aabf9_level0_row28\" class=\"row_heading level0 row28\" >Damage</th>\n      <td id=\"T_aabf9_row28_col0\" class=\"data row28 col0\" >statevar</td>\n      <td id=\"T_aabf9_row28_col1\" class=\"data row28 col1\" >Damage function</td>\n      <td id=\"T_aabf9_row28_col2\" class=\"data row28 col2\" >Damage=1 - 1 / (1 + pi1 * T + pi2 * T**2 + pi3 * T**zeta3),</td>\n      <td id=\"T_aabf9_row28_col3\" class=\"data row28 col3\" >General damage function</td>\n    </tr>\n    <tr>\n      <th id=\"T_aabf9_level0_row29\" class=\"row_heading level0 row29\" >DK</th>\n      <td id=\"T_aabf9_row29_col0\" class=\"data row29 col0\" >statevar</td>\n      <td id=\"T_aabf9_row29_col1\" class=\"data row29 col1\" >Intermediary damage on capital</td>\n      <td id=\"T_aabf9_row29_col2\" class=\"data row29 col2\" >DK=fk * Damage,</td>\n      <td id=\"T_aabf9_row29_col3\" class=\"data row29 col3\" >Defined in Eq. (28) in Bovari2018</td>\n    </tr>\n    <tr>\n      <th id=\"T_aabf9_level0_row30\" class=\"row_heading level0 row30\" >Dy</th>\n      <td id=\"T_aabf9_row30_col0\" class=\"data row30 col0\" >statevar</td>\n      <td id=\"T_aabf9_row30_col1\" class=\"data row30 col1\" >Damage on production</td>\n      <td id=\"T_aabf9_row30_col2\" class=\"data row30 col2\" >Dy=1. - (1. - Damage) / (1. - DK),</td>\n      <td id=\"T_aabf9_row30_col3\" class=\"data row30 col3\" >Defined in Eq. (29) in Bovari2018</td>\n    </tr>\n    <tr>\n      <th id=\"T_aabf9_level0_row31\" class=\"row_heading level0 row31\" >deltad</th>\n      <td id=\"T_aabf9_row31_col0\" class=\"data row31 col0\" >statevar</td>\n      <td id=\"T_aabf9_row31_col1\" class=\"data row31 col1\" >Capital depreciation with CC</td>\n      <td id=\"T_aabf9_row31_col2\" class=\"data row31 col2\" >deltad=delta + DK,</td>\n      <td id=\"T_aabf9_row31_col3\" class=\"data row31 col3\" >Defined below Eq. (3) in Bovari2018</td>\n    </tr>\n    <tr>\n      <th id=\"T_aabf9_level0_row32\" class=\"row_heading level0 row32\" >Emission</th>\n      <td id=\"T_aabf9_row32_col0\" class=\"data row32 col0\" >statevar</td>\n      <td id=\"T_aabf9_row32_col1\" class=\"data row32 col1\" >Total emissions</td>\n      <td id=\"T_aabf9_row32_col2\" class=\"data row32 col2\" >Emission=Eind + Eland,</td>\n      <td id=\"T_aabf9_row32_col3\" class=\"data row32 col3\" >Sum of industrial and Land-Use</td>\n    </tr>\n    <tr>\n      <th id=\"T_aabf9_level0_row33\" class=\"row_heading level0 row33\" >Eind</th>\n      <td id=\"T_aabf9_row33_col0\" class=\"data row33 col0\" >statevar</td>\n      <td id=\"T_aabf9_row33_col1\" class=\"data row33 col1\" >Industrial emissions</td>\n      <td id=\"T_aabf9_row33_col2\" class=\"data row33 col2\" >Eind=(1. - emissionreductionrate) * sigmaEm * Y0,</td>\n      <td id=\"T_aabf9_row33_col3\" class=\"data row33 col3\" >Defined given in Eq. (16) in Bovari2018</td>\n    </tr>\n    <tr>\n      <th id=\"T_aabf9_level0_row34\" class=\"row_heading level0 row34\" >Y</th>\n      <td id=\"T_aabf9_row34_col0\" class=\"data row34 col0\" >statevar</td>\n      <td id=\"T_aabf9_row34_col1\" class=\"data row34 col1\" >Yearly Production with impacts</td>\n      <td id=\"T_aabf9_row34_col2\" class=\"data row34 col2\" >Y=(1. - Abattement) * (1. - Dy) * Y0,</td>\n      <td id=\"T_aabf9_row34_col3\" class=\"data row34 col3\" >Defined in Eq. (2) in Bovari2018</td>\n    </tr>\n    <tr>\n      <th id=\"T_aabf9_level0_row35\" class=\"row_heading level0 row35\" >Y0</th>\n      <td id=\"T_aabf9_row35_col0\" class=\"data row35 col0\" >statevar</td>\n      <td id=\"T_aabf9_row35_col1\" class=\"data row35 col1\" >Yearly Production without impacts</td>\n      <td id=\"T_aabf9_row35_col2\" class=\"data row35 col2\" >Y0=K / nu,</td>\n      <td id=\"T_aabf9_row35_col3\" class=\"data row35 col3\" >Definifiotn in Eq. (1) in Bovari2018</td>\n    </tr>\n    <tr>\n      <th id=\"T_aabf9_level0_row36\" class=\"row_heading level0 row36\" >L</th>\n      <td id=\"T_aabf9_row36_col0\" class=\"data row36 col0\" >statevar</td>\n      <td id=\"T_aabf9_row36_col1\" class=\"data row36 col1\" >Workers</td>\n      <td id=\"T_aabf9_row36_col2\" class=\"data row36 col2\" >L=np.minimum(Nmax, Y0 / a),</td>\n      <td id=\"T_aabf9_row36_col3\" class=\"data row36 col3\" >Number of workers according to K, Eq. (1) in Bovari2018</td>\n    </tr>\n    <tr>\n      <th id=\"T_aabf9_level0_row37\" class=\"row_heading level0 row37\" >I</th>\n      <td id=\"T_aabf9_row37_col0\" class=\"data row37 col0\" >statevar</td>\n      <td id=\"T_aabf9_row37_col1\" class=\"data row37 col1\" >Investment in capital</td>\n      <td id=\"T_aabf9_row37_col2\" class=\"data row37 col2\" >I=kappa * Y,</td>\n      <td id=\"T_aabf9_row37_col3\" class=\"data row37 col3\" >Defined in Eq. (6) in Bovari2018</td>\n    </tr>\n    <tr>\n      <th id=\"T_aabf9_level0_row38\" class=\"row_heading level0 row38\" >Pi</th>\n      <td id=\"T_aabf9_row38_col0\" class=\"data row38 col0\" >statevar</td>\n      <td id=\"T_aabf9_row38_col1\" class=\"data row38 col1\" >Monetary profit of private sector</td>\n      <td id=\"T_aabf9_row38_col2\" class=\"data row38 col2\" >Pi=GDP - w * L - r * D - p * carbontax - p * deltad * K,</td>\n      <td id=\"T_aabf9_row38_col3\" class=\"data row38 col3\" >Defined in Eq. (3) in Bovari2018</td>\n    </tr>\n    <tr>\n      <th id=\"T_aabf9_level0_row39\" class=\"row_heading level0 row39\" >g</th>\n      <td id=\"T_aabf9_row39_col0\" class=\"data row39 col0\" >statevar</td>\n      <td id=\"T_aabf9_row39_col1\" class=\"data row39 col1\" >Relative growth of GDP</td>\n      <td id=\"T_aabf9_row39_col2\" class=\"data row39 col2\" >g=(I - deltad * K) / K,</td>\n      <td id=\"T_aabf9_row39_col3\" class=\"data row39 col3\" >Relative growth of GDP: Kdot / K</td>\n    </tr>\n    <tr>\n      <th id=\"T_aabf9_level0_row40\" class=\"row_heading level0 row40\" >emissionreductionrate</th>\n      <td id=\"T_aabf9_row40_col0\" class=\"data row40 col0\" >statevar</td>\n      <td id=\"T_aabf9_row40_col1\" class=\"data row40 col1\" >Emission reduction rate</td>\n      <td id=\"T_aabf9_row40_col2\" class=\"data row40 col2\" >emissionreductionrate=np.minimum(1., (pcarbon / pbackstop)**(1. / (convexitycost - 1.))),</td>\n      <td id=\"T_aabf9_row40_col3\" class=\"data row40 col3\" >Defined in Eq. (31) in Bovari2018</td>\n    </tr>\n    <tr>\n      <th id=\"T_aabf9_level0_row41\" class=\"row_heading level0 row41\" >pcarbon</th>\n      <td id=\"T_aabf9_row41_col0\" class=\"data row41 col0\" >statevar</td>\n      <td id=\"T_aabf9_row41_col1\" class=\"data row41 col1\" >Real carbon price as the minimum between pcarbon_pot and pbackstop</td>\n      <td id=\"T_aabf9_row41_col2\" class=\"data row41 col2\" >pcarbon=np.minimum(pcarbon_pot, pbackstop),</td>\n      <td id=\"T_aabf9_row41_col3\" class=\"data row41 col3\" >The carbon price used in emissionreductionrate</td>\n    </tr>\n    <tr>\n      <th id=\"T_aabf9_level0_row42\" class=\"row_heading level0 row42\" >Abattement</th>\n      <td id=\"T_aabf9_row42_col0\" class=\"data row42 col0\" >statevar</td>\n      <td id=\"T_aabf9_row42_col1\" class=\"data row42 col1\" >Rate of production devoted to transition</td>\n      <td id=\"T_aabf9_row42_col2\" class=\"data row42 col2\" >Abattement=0.001 * sigmaEm * pbackstop * (emissionreductionrate**convexitycost) / convexitycost,</td>\n      <td id=\"T_aabf9_row42_col3\" class=\"data row42 col3\" >Defined in Eq. (30) in Bovari2018</td>\n    </tr>\n    <tr>\n      <th id=\"T_aabf9_level0_row43\" class=\"row_heading level0 row43\" >carbontax</th>\n      <td id=\"T_aabf9_row43_col0\" class=\"data row43 col0\" >statevar</td>\n      <td id=\"T_aabf9_row43_col1\" class=\"data row43 col1\" >Carbon tax paid by private sector</td>\n      <td id=\"T_aabf9_row43_col2\" class=\"data row43 col2\" >carbontax=pcarbon * Eind * conv10to15,</td>\n      <td id=\"T_aabf9_row43_col3\" class=\"data row43 col3\" >Defined below Eq. (3) in Bovari2018</td>\n    </tr>\n    <tr>\n      <th id=\"T_aabf9_level0_row44\" class=\"row_heading level0 row44\" >c</th>\n      <td id=\"T_aabf9_row44_col0\" class=\"data row44 col0\" >statevar</td>\n      <td id=\"T_aabf9_row44_col1\" class=\"data row44 col1\" >production price</td>\n      <td id=\"T_aabf9_row44_col2\" class=\"data row44 col2\" >c=p * omega,</td>\n      <td id=\"T_aabf9_row44_col3\" class=\"data row44 col3\" >Production cost to get good inflation function</td>\n    </tr>\n    <tr>\n      <th id=\"T_aabf9_level0_row45\" class=\"row_heading level0 row45\" >Delta</th>\n      <td id=\"T_aabf9_row45_col0\" class=\"data row45 col0\" ></td>\n      <td id=\"T_aabf9_row45_col1\" class=\"data row45 col1\" >proportion of profits as shareholding</td>\n      <td id=\"T_aabf9_row45_col2\" class=\"data row45 col2\" ></td>\n      <td id=\"T_aabf9_row45_col3\" class=\"data row45 col3\" ></td>\n    </tr>\n    <tr>\n      <th id=\"T_aabf9_level0_row46\" class=\"row_heading level0 row46\" >alpha</th>\n      <td id=\"T_aabf9_row46_col0\" class=\"data row46 col0\" ></td>\n      <td id=\"T_aabf9_row46_col1\" class=\"data row46 col1\" >Rate of productivity increase</td>\n      <td id=\"T_aabf9_row46_col2\" class=\"data row46 col2\" ></td>\n      <td id=\"T_aabf9_row46_col3\" class=\"data row46 col3\" ></td>\n    </tr>\n    <tr>\n      <th id=\"T_aabf9_level0_row47\" class=\"row_heading level0 row47\" >r</th>\n      <td id=\"T_aabf9_row47_col0\" class=\"data row47 col0\" ></td>\n      <td id=\"T_aabf9_row47_col1\" class=\"data row47 col1\" >Interest on debt</td>\n      <td id=\"T_aabf9_row47_col2\" class=\"data row47 col2\" ></td>\n      <td id=\"T_aabf9_row47_col3\" class=\"data row47 col3\" ></td>\n    </tr>\n    <tr>\n      <th id=\"T_aabf9_level0_row48\" class=\"row_heading level0 row48\" >phi12</th>\n      <td id=\"T_aabf9_row48_col0\" class=\"data row48 col0\" ></td>\n      <td id=\"T_aabf9_row48_col1\" class=\"data row48 col1\" >Transfer rate atmosphere-ocean</td>\n      <td id=\"T_aabf9_row48_col2\" class=\"data row48 col2\" ></td>\n      <td id=\"T_aabf9_row48_col3\" class=\"data row48 col3\" ></td>\n    </tr>\n    <tr>\n      <th id=\"T_aabf9_level0_row49\" class=\"row_heading level0 row49\" >CUP</th>\n      <td id=\"T_aabf9_row49_col0\" class=\"data row49 col0\" ></td>\n      <td id=\"T_aabf9_row49_col1\" class=\"data row49 col1\" >Historical CO2 in upper ocean</td>\n      <td id=\"T_aabf9_row49_col2\" class=\"data row49 col2\" ></td>\n      <td id=\"T_aabf9_row49_col3\" class=\"data row49 col3\" ></td>\n    </tr>\n    <tr>\n      <th id=\"T_aabf9_level0_row50\" class=\"row_heading level0 row50\" >CAT</th>\n      <td id=\"T_aabf9_row50_col0\" class=\"data row50 col0\" ></td>\n      <td id=\"T_aabf9_row50_col1\" class=\"data row50 col1\" >Historical CO2 in atmosphere</td>\n      <td id=\"T_aabf9_row50_col2\" class=\"data row50 col2\" ></td>\n      <td id=\"T_aabf9_row50_col3\" class=\"data row50 col3\" ></td>\n    </tr>\n    <tr>\n      <th id=\"T_aabf9_level0_row51\" class=\"row_heading level0 row51\" >phi23</th>\n      <td id=\"T_aabf9_row51_col0\" class=\"data row51 col0\" ></td>\n      <td id=\"T_aabf9_row51_col1\" class=\"data row51 col1\" >Transfer rate upper-lower ocean</td>\n      <td id=\"T_aabf9_row51_col2\" class=\"data row51 col2\" ></td>\n      <td id=\"T_aabf9_row51_col3\" class=\"data row51 col3\" ></td>\n    </tr>\n    <tr>\n      <th id=\"T_aabf9_level0_row52\" class=\"row_heading level0 row52\" >CLO</th>\n      <td id=\"T_aabf9_row52_col0\" class=\"data row52 col0\" ></td>\n      <td id=\"T_aabf9_row52_col1\" class=\"data row52 col1\" >Historical CO2 in lower ocean</td>\n      <td id=\"T_aabf9_row52_col2\" class=\"data row52 col2\" ></td>\n      <td id=\"T_aabf9_row52_col3\" class=\"data row52 col3\" ></td>\n    </tr>\n    <tr>\n      <th id=\"T_aabf9_level0_row53\" class=\"row_heading level0 row53\" >rhoAtmo</th>\n      <td id=\"T_aabf9_row53_col0\" class=\"data row53 col0\" ></td>\n      <td id=\"T_aabf9_row53_col1\" class=\"data row53 col1\" >radiative feedback parameter</td>\n      <td id=\"T_aabf9_row53_col2\" class=\"data row53 col2\" ></td>\n      <td id=\"T_aabf9_row53_col3\" class=\"data row53 col3\" ></td>\n    </tr>\n    <tr>\n      <th id=\"T_aabf9_level0_row54\" class=\"row_heading level0 row54\" >gammaAtmo</th>\n      <td id=\"T_aabf9_row54_col0\" class=\"data row54 col0\" ></td>\n      <td id=\"T_aabf9_row54_col1\" class=\"data row54 col1\" >Heat exchange between layers</td>\n      <td id=\"T_aabf9_row54_col2\" class=\"data row54 col2\" ></td>\n      <td id=\"T_aabf9_row54_col3\" class=\"data row54 col3\" ></td>\n    </tr>\n    <tr>\n      <th id=\"T_aabf9_level0_row55\" class=\"row_heading level0 row55\" >Capacity</th>\n      <td id=\"T_aabf9_row55_col0\" class=\"data row55 col0\" ></td>\n      <td id=\"T_aabf9_row55_col1\" class=\"data row55 col1\" >Heat capacity atmosphere+upper ocean</td>\n      <td id=\"T_aabf9_row55_col2\" class=\"data row55 col2\" ></td>\n      <td id=\"T_aabf9_row55_col3\" class=\"data row55 col3\" ></td>\n    </tr>\n    <tr>\n      <th id=\"T_aabf9_level0_row56\" class=\"row_heading level0 row56\" >Capacity0</th>\n      <td id=\"T_aabf9_row56_col0\" class=\"data row56 col0\" ></td>\n      <td id=\"T_aabf9_row56_col1\" class=\"data row56 col1\" >Heat capacity lower ocean</td>\n      <td id=\"T_aabf9_row56_col2\" class=\"data row56 col2\" ></td>\n      <td id=\"T_aabf9_row56_col3\" class=\"data row56 col3\" ></td>\n    </tr>\n    <tr>\n      <th id=\"T_aabf9_level0_row57\" class=\"row_heading level0 row57\" >n</th>\n      <td id=\"T_aabf9_row57_col0\" class=\"data row57 col0\" ></td>\n      <td id=\"T_aabf9_row57_col1\" class=\"data row57 col1\" >Rate of population growth</td>\n      <td id=\"T_aabf9_row57_col2\" class=\"data row57 col2\" ></td>\n      <td id=\"T_aabf9_row57_col3\" class=\"data row57 col3\" ></td>\n    </tr>\n    <tr>\n      <th id=\"T_aabf9_level0_row58\" class=\"row_heading level0 row58\" >Nmax</th>\n      <td id=\"T_aabf9_row58_col0\" class=\"data row58 col0\" ></td>\n      <td id=\"T_aabf9_row58_col1\" class=\"data row58 col1\" >Saturating population</td>\n      <td id=\"T_aabf9_row58_col2\" class=\"data row58 col2\" ></td>\n      <td id=\"T_aabf9_row58_col3\" class=\"data row58 col3\" ></td>\n    </tr>\n    <tr>\n      <th id=\"T_aabf9_level0_row59\" class=\"row_heading level0 row59\" >deltapbackstop</th>\n      <td id=\"T_aabf9_row59_col0\" class=\"data row59 col0\" ></td>\n      <td id=\"T_aabf9_row59_col1\" class=\"data row59 col1\" >growth rate of backstop price</td>\n      <td id=\"T_aabf9_row59_col2\" class=\"data row59 col2\" ></td>\n      <td id=\"T_aabf9_row59_col3\" class=\"data row59 col3\" ></td>\n    </tr>\n    <tr>\n      <th id=\"T_aabf9_level0_row60\" class=\"row_heading level0 row60\" >apc</th>\n      <td id=\"T_aabf9_row60_col0\" class=\"data row60 col0\" ></td>\n      <td id=\"T_aabf9_row60_col1\" class=\"data row60 col1\" >parameter apc for ex. carbon price</td>\n      <td id=\"T_aabf9_row60_col2\" class=\"data row60 col2\" ></td>\n      <td id=\"T_aabf9_row60_col3\" class=\"data row60 col3\" ></td>\n    </tr>\n    <tr>\n      <th id=\"T_aabf9_level0_row61\" class=\"row_heading level0 row61\" >bpc</th>\n      <td id=\"T_aabf9_row61_col0\" class=\"data row61 col0\" ></td>\n      <td id=\"T_aabf9_row61_col1\" class=\"data row61 col1\" >parameter bpc for ex. carbon price</td>\n      <td id=\"T_aabf9_row61_col2\" class=\"data row61 col2\" ></td>\n      <td id=\"T_aabf9_row61_col3\" class=\"data row61 col3\" ></td>\n    </tr>\n    <tr>\n      <th id=\"T_aabf9_level0_row62\" class=\"row_heading level0 row62\" >deltagsigmaEm</th>\n      <td id=\"T_aabf9_row62_col0\" class=\"data row62 col0\" ></td>\n      <td id=\"T_aabf9_row62_col1\" class=\"data row62 col1\" >growth rate of the emission growth rate</td>\n      <td id=\"T_aabf9_row62_col2\" class=\"data row62 col2\" ></td>\n      <td id=\"T_aabf9_row62_col3\" class=\"data row62 col3\" ></td>\n    </tr>\n    <tr>\n      <th id=\"T_aabf9_level0_row63\" class=\"row_heading level0 row63\" >deltaEland</th>\n      <td id=\"T_aabf9_row63_col0\" class=\"data row63 col0\" ></td>\n      <td id=\"T_aabf9_row63_col1\" class=\"data row63 col1\" >timerate of natural emission reduction</td>\n      <td id=\"T_aabf9_row63_col2\" class=\"data row63 col2\" ></td>\n      <td id=\"T_aabf9_row63_col3\" class=\"data row63 col3\" ></td>\n    </tr>\n    <tr>\n      <th id=\"T_aabf9_level0_row64\" class=\"row_heading level0 row64\" >Ir</th>\n      <td id=\"T_aabf9_row64_col0\" class=\"data row64 col0\" ></td>\n      <td id=\"T_aabf9_row64_col1\" class=\"data row64 col1\" >Number of real unit from investment</td>\n      <td id=\"T_aabf9_row64_col2\" class=\"data row64 col2\" ></td>\n      <td id=\"T_aabf9_row64_col3\" class=\"data row64 col3\" ></td>\n    </tr>\n    <tr>\n      <th id=\"T_aabf9_level0_row65\" class=\"row_heading level0 row65\" >eta</th>\n      <td id=\"T_aabf9_row65_col0\" class=\"data row65 col0\" ></td>\n      <td id=\"T_aabf9_row65_col1\" class=\"data row65 col1\" >timerate of price adjustment</td>\n      <td id=\"T_aabf9_row65_col2\" class=\"data row65 col2\" ></td>\n      <td id=\"T_aabf9_row65_col3\" class=\"data row65 col3\" ></td>\n    </tr>\n    <tr>\n      <th id=\"T_aabf9_level0_row66\" class=\"row_heading level0 row66\" >mu</th>\n      <td id=\"T_aabf9_row66_col0\" class=\"data row66 col0\" ></td>\n      <td id=\"T_aabf9_row66_col1\" class=\"data row66 col1\" >Markup on prices</td>\n      <td id=\"T_aabf9_row66_col2\" class=\"data row66 col2\" ></td>\n      <td id=\"T_aabf9_row66_col3\" class=\"data row66 col3\" ></td>\n    </tr>\n    <tr>\n      <th id=\"T_aabf9_level0_row67\" class=\"row_heading level0 row67\" >F2CO2</th>\n      <td id=\"T_aabf9_row67_col0\" class=\"data row67 col0\" ></td>\n      <td id=\"T_aabf9_row67_col1\" class=\"data row67 col1\" >Forcing when doubling CO2</td>\n      <td id=\"T_aabf9_row67_col2\" class=\"data row67 col2\" ></td>\n      <td id=\"T_aabf9_row67_col3\" class=\"data row67 col3\" ></td>\n    </tr>\n    <tr>\n      <th id=\"T_aabf9_level0_row68\" class=\"row_heading level0 row68\" >philinConst</th>\n      <td id=\"T_aabf9_row68_col0\" class=\"data row68 col0\" ></td>\n      <td id=\"T_aabf9_row68_col1\" class=\"data row68 col1\" >wage rate when full unemployement</td>\n      <td id=\"T_aabf9_row68_col2\" class=\"data row68 col2\" ></td>\n      <td id=\"T_aabf9_row68_col3\" class=\"data row68 col3\" ></td>\n    </tr>\n    <tr>\n      <th id=\"T_aabf9_level0_row69\" class=\"row_heading level0 row69\" >philinSlope</th>\n      <td id=\"T_aabf9_row69_col0\" class=\"data row69 col0\" ></td>\n      <td id=\"T_aabf9_row69_col1\" class=\"data row69 col1\" >wage rate dependance to unemployement</td>\n      <td id=\"T_aabf9_row69_col2\" class=\"data row69 col2\" ></td>\n      <td id=\"T_aabf9_row69_col3\" class=\"data row69 col3\" ></td>\n    </tr>\n    <tr>\n      <th id=\"T_aabf9_level0_row70\" class=\"row_heading level0 row70\" >kappalinConst</th>\n      <td id=\"T_aabf9_row70_col0\" class=\"data row70 col0\" ></td>\n      <td id=\"T_aabf9_row70_col1\" class=\"data row70 col1\" >Investment no profit (affine)</td>\n      <td id=\"T_aabf9_row70_col2\" class=\"data row70 col2\" ></td>\n      <td id=\"T_aabf9_row70_col3\" class=\"data row70 col3\" ></td>\n    </tr>\n    <tr>\n      <th id=\"T_aabf9_level0_row71\" class=\"row_heading level0 row71\" >kappalinSlope</th>\n      <td id=\"T_aabf9_row71_col0\" class=\"data row71 col0\" ></td>\n      <td id=\"T_aabf9_row71_col1\" class=\"data row71 col1\" >Investment slope kappa (affine)</td>\n      <td id=\"T_aabf9_row71_col2\" class=\"data row71 col2\" ></td>\n      <td id=\"T_aabf9_row71_col3\" class=\"data row71 col3\" ></td>\n    </tr>\n    <tr>\n      <th id=\"T_aabf9_level0_row72\" class=\"row_heading level0 row72\" >kappalinMin</th>\n      <td id=\"T_aabf9_row72_col0\" class=\"data row72 col0\" ></td>\n      <td id=\"T_aabf9_row72_col1\" class=\"data row72 col1\" >Minimum value of kappa (affine)</td>\n      <td id=\"T_aabf9_row72_col2\" class=\"data row72 col2\" ></td>\n      <td id=\"T_aabf9_row72_col3\" class=\"data row72 col3\" ></td>\n    </tr>\n    <tr>\n      <th id=\"T_aabf9_level0_row73\" class=\"row_heading level0 row73\" >kappalinMax</th>\n      <td id=\"T_aabf9_row73_col0\" class=\"data row73 col0\" ></td>\n      <td id=\"T_aabf9_row73_col1\" class=\"data row73 col1\" >Maximum value of kappa (affine)</td>\n      <td id=\"T_aabf9_row73_col2\" class=\"data row73 col2\" ></td>\n      <td id=\"T_aabf9_row73_col3\" class=\"data row73 col3\" ></td>\n    </tr>\n    <tr>\n      <th id=\"T_aabf9_level0_row74\" class=\"row_heading level0 row74\" >divlinSlope</th>\n      <td id=\"T_aabf9_row74_col0\" class=\"data row74 col0\" ></td>\n      <td id=\"T_aabf9_row74_col1\" class=\"data row74 col1\" >Shareholding dependency to profits (affine)</td>\n      <td id=\"T_aabf9_row74_col2\" class=\"data row74 col2\" ></td>\n      <td id=\"T_aabf9_row74_col3\" class=\"data row74 col3\" ></td>\n    </tr>\n    <tr>\n      <th id=\"T_aabf9_level0_row75\" class=\"row_heading level0 row75\" >divlinconst</th>\n      <td id=\"T_aabf9_row75_col0\" class=\"data row75 col0\" ></td>\n      <td id=\"T_aabf9_row75_col1\" class=\"data row75 col1\" >Shareholding dividends when no profits (affine)</td>\n      <td id=\"T_aabf9_row75_col2\" class=\"data row75 col2\" ></td>\n      <td id=\"T_aabf9_row75_col3\" class=\"data row75 col3\" ></td>\n    </tr>\n    <tr>\n      <th id=\"T_aabf9_level0_row76\" class=\"row_heading level0 row76\" >divlinMin</th>\n      <td id=\"T_aabf9_row76_col0\" class=\"data row76 col0\" ></td>\n      <td id=\"T_aabf9_row76_col1\" class=\"data row76 col1\" >Shareholding minimum part</td>\n      <td id=\"T_aabf9_row76_col2\" class=\"data row76 col2\" ></td>\n      <td id=\"T_aabf9_row76_col3\" class=\"data row76 col3\" ></td>\n    </tr>\n    <tr>\n      <th id=\"T_aabf9_level0_row77\" class=\"row_heading level0 row77\" >divlinMax</th>\n      <td id=\"T_aabf9_row77_col0\" class=\"data row77 col0\" ></td>\n      <td id=\"T_aabf9_row77_col1\" class=\"data row77 col1\" >Shareholding maximum part</td>\n      <td id=\"T_aabf9_row77_col2\" class=\"data row77 col2\" ></td>\n      <td id=\"T_aabf9_row77_col3\" class=\"data row77 col3\" ></td>\n    </tr>\n    <tr>\n      <th id=\"T_aabf9_level0_row78\" class=\"row_heading level0 row78\" >pi1</th>\n      <td id=\"T_aabf9_row78_col0\" class=\"data row78 col0\" ></td>\n      <td id=\"T_aabf9_row78_col1\" class=\"data row78 col1\" >Linear damage parameter</td>\n      <td id=\"T_aabf9_row78_col2\" class=\"data row78 col2\" ></td>\n      <td id=\"T_aabf9_row78_col3\" class=\"data row78 col3\" ></td>\n    </tr>\n    <tr>\n      <th id=\"T_aabf9_level0_row79\" class=\"row_heading level0 row79\" >pi2</th>\n      <td id=\"T_aabf9_row79_col0\" class=\"data row79 col0\" ></td>\n      <td id=\"T_aabf9_row79_col1\" class=\"data row79 col1\" >quadratic damage parameter</td>\n      <td id=\"T_aabf9_row79_col2\" class=\"data row79 col2\" ></td>\n      <td id=\"T_aabf9_row79_col3\" class=\"data row79 col3\" ></td>\n    </tr>\n    <tr>\n      <th id=\"T_aabf9_level0_row80\" class=\"row_heading level0 row80\" >pi3</th>\n      <td id=\"T_aabf9_row80_col0\" class=\"data row80 col0\" ></td>\n      <td id=\"T_aabf9_row80_col1\" class=\"data row80 col1\" >Weitzman damage parameter</td>\n      <td id=\"T_aabf9_row80_col2\" class=\"data row80 col2\" ></td>\n      <td id=\"T_aabf9_row80_col3\" class=\"data row80 col3\" ></td>\n    </tr>\n    <tr>\n      <th id=\"T_aabf9_level0_row81\" class=\"row_heading level0 row81\" >zeta3</th>\n      <td id=\"T_aabf9_row81_col0\" class=\"data row81 col0\" ></td>\n      <td id=\"T_aabf9_row81_col1\" class=\"data row81 col1\" >Weitzmann dmg temp exponent</td>\n      <td id=\"T_aabf9_row81_col2\" class=\"data row81 col2\" ></td>\n      <td id=\"T_aabf9_row81_col3\" class=\"data row81 col3\" ></td>\n    </tr>\n    <tr>\n      <th id=\"T_aabf9_level0_row82\" class=\"row_heading level0 row82\" >fk</th>\n      <td id=\"T_aabf9_row82_col0\" class=\"data row82 col0\" ></td>\n      <td id=\"T_aabf9_row82_col1\" class=\"data row82 col1\" >Fraction of damage allocated to capital</td>\n      <td id=\"T_aabf9_row82_col2\" class=\"data row82 col2\" ></td>\n      <td id=\"T_aabf9_row82_col3\" class=\"data row82 col3\" ></td>\n    </tr>\n    <tr>\n      <th id=\"T_aabf9_level0_row83\" class=\"row_heading level0 row83\" >delta</th>\n      <td id=\"T_aabf9_row83_col0\" class=\"data row83 col0\" ></td>\n      <td id=\"T_aabf9_row83_col1\" class=\"data row83 col1\" >Rate of capital depletion</td>\n      <td id=\"T_aabf9_row83_col2\" class=\"data row83 col2\" ></td>\n      <td id=\"T_aabf9_row83_col3\" class=\"data row83 col3\" ></td>\n    </tr>\n    <tr>\n      <th id=\"T_aabf9_level0_row84\" class=\"row_heading level0 row84\" >nu</th>\n      <td id=\"T_aabf9_row84_col0\" class=\"data row84 col0\" ></td>\n      <td id=\"T_aabf9_row84_col1\" class=\"data row84 col1\" >Capital to output ratio</td>\n      <td id=\"T_aabf9_row84_col2\" class=\"data row84 col2\" ></td>\n      <td id=\"T_aabf9_row84_col3\" class=\"data row84 col3\" ></td>\n    </tr>\n    <tr>\n      <th id=\"T_aabf9_level0_row85\" class=\"row_heading level0 row85\" >convexitycost</th>\n      <td id=\"T_aabf9_row85_col0\" class=\"data row85 col0\" ></td>\n      <td id=\"T_aabf9_row85_col1\" class=\"data row85 col1\" >Convexity of cost function for reduction</td>\n      <td id=\"T_aabf9_row85_col2\" class=\"data row85 col2\" ></td>\n      <td id=\"T_aabf9_row85_col3\" class=\"data row85 col3\" ></td>\n    </tr>\n    <tr>\n      <th id=\"T_aabf9_level0_row86\" class=\"row_heading level0 row86\" >conv10to15</th>\n      <td id=\"T_aabf9_row86_col0\" class=\"data row86 col0\" ></td>\n      <td id=\"T_aabf9_row86_col1\" class=\"data row86 col1\" >conversion factor</td>\n      <td id=\"T_aabf9_row86_col2\" class=\"data row86 col2\" ></td>\n      <td id=\"T_aabf9_row86_col3\" class=\"data row86 col3\" ></td>\n    </tr>\n  </tbody>\n</table>\n",
                  "text/plain": "<pandas.io.formats.style.Styler at 0x7caf5943e560>"
                },
                "metadata": {},
                "output_type": "display_data"
              }
            ]
          }
        },
        "77fbf63c050146b9909076bd25be7501": {
          "model_module": "@jupyter-widgets/base",
          "model_module_version": "1.2.0",
          "model_name": "LayoutModel",
          "state": {
            "_model_module": "@jupyter-widgets/base",
            "_model_module_version": "1.2.0",
            "_model_name": "LayoutModel",
            "_view_count": null,
            "_view_module": "@jupyter-widgets/base",
            "_view_module_version": "1.2.0",
            "_view_name": "LayoutView",
            "align_content": null,
            "align_items": null,
            "align_self": null,
            "border": null,
            "bottom": null,
            "display": null,
            "flex": null,
            "flex_flow": null,
            "grid_area": null,
            "grid_auto_columns": null,
            "grid_auto_flow": null,
            "grid_auto_rows": null,
            "grid_column": null,
            "grid_gap": null,
            "grid_row": null,
            "grid_template_areas": null,
            "grid_template_columns": null,
            "grid_template_rows": null,
            "height": null,
            "justify_content": null,
            "justify_items": null,
            "left": null,
            "margin": null,
            "max_height": null,
            "max_width": null,
            "min_height": null,
            "min_width": null,
            "object_fit": null,
            "object_position": null,
            "order": null,
            "overflow": null,
            "overflow_x": null,
            "overflow_y": null,
            "padding": null,
            "right": null,
            "top": null,
            "visibility": null,
            "width": null
          }
        },
        "7d386da9158544b3b5127341b3eca310": {
          "model_module": "@jupyter-widgets/base",
          "model_module_version": "1.2.0",
          "model_name": "LayoutModel",
          "state": {
            "_model_module": "@jupyter-widgets/base",
            "_model_module_version": "1.2.0",
            "_model_name": "LayoutModel",
            "_view_count": null,
            "_view_module": "@jupyter-widgets/base",
            "_view_module_version": "1.2.0",
            "_view_name": "LayoutView",
            "align_content": null,
            "align_items": null,
            "align_self": null,
            "border": null,
            "bottom": null,
            "display": null,
            "flex": null,
            "flex_flow": null,
            "grid_area": null,
            "grid_auto_columns": null,
            "grid_auto_flow": null,
            "grid_auto_rows": null,
            "grid_column": null,
            "grid_gap": null,
            "grid_row": null,
            "grid_template_areas": null,
            "grid_template_columns": null,
            "grid_template_rows": null,
            "height": null,
            "justify_content": null,
            "justify_items": null,
            "left": null,
            "margin": null,
            "max_height": null,
            "max_width": null,
            "min_height": null,
            "min_width": null,
            "object_fit": null,
            "object_position": null,
            "order": null,
            "overflow": null,
            "overflow_x": null,
            "overflow_y": null,
            "padding": null,
            "right": null,
            "top": null,
            "visibility": null,
            "width": null
          }
        },
        "9263d2bad2044cc4aff02b01a52043d4": {
          "model_module": "@jupyter-widgets/base",
          "model_module_version": "1.2.0",
          "model_name": "LayoutModel",
          "state": {
            "_model_module": "@jupyter-widgets/base",
            "_model_module_version": "1.2.0",
            "_model_name": "LayoutModel",
            "_view_count": null,
            "_view_module": "@jupyter-widgets/base",
            "_view_module_version": "1.2.0",
            "_view_name": "LayoutView",
            "align_content": null,
            "align_items": null,
            "align_self": null,
            "border": null,
            "bottom": null,
            "display": null,
            "flex": null,
            "flex_flow": null,
            "grid_area": null,
            "grid_auto_columns": null,
            "grid_auto_flow": null,
            "grid_auto_rows": null,
            "grid_column": null,
            "grid_gap": null,
            "grid_row": null,
            "grid_template_areas": null,
            "grid_template_columns": null,
            "grid_template_rows": null,
            "height": null,
            "justify_content": null,
            "justify_items": null,
            "left": null,
            "margin": null,
            "max_height": null,
            "max_width": null,
            "min_height": null,
            "min_width": null,
            "object_fit": null,
            "object_position": null,
            "order": null,
            "overflow": null,
            "overflow_x": null,
            "overflow_y": null,
            "padding": null,
            "right": null,
            "top": null,
            "visibility": null,
            "width": null
          }
        },
        "a85e3ff95172446e8f734df3dd12649f": {
          "model_module": "@jupyter-widgets/output",
          "model_module_version": "1.0.0",
          "model_name": "OutputModel",
          "state": {
            "_dom_classes": [],
            "_model_module": "@jupyter-widgets/output",
            "_model_module_version": "1.0.0",
            "_model_name": "OutputModel",
            "_view_count": null,
            "_view_module": "@jupyter-widgets/output",
            "_view_module_version": "1.0.0",
            "_view_name": "OutputView",
            "layout": "IPY_MODEL_77fbf63c050146b9909076bd25be7501",
            "msg_id": "",
            "outputs": [
              {
                "data": {
                  "text/markdown": "## Model: LorenzSystem",
                  "text/plain": "<IPython.core.display.Markdown object>"
                },
                "metadata": {},
                "output_type": "display_data"
              },
              {
                "data": {
                  "text/markdown": "\n* **Creation** :  2023/08/21\n* **Coder**    : Paul Valcke\n* **Article**  : https://en.wikipedia.org/wiki/Lorenz_system\n* **Keywords** : ['stochastic', 'Documentation', 'chaos', 'attractor']",
                  "text/plain": "<IPython.core.display.Markdown object>"
                },
                "metadata": {},
                "output_type": "display_data"
              },
              {
                "data": {
                  "text/markdown": "\nSolving the famous 3-coupled ordinary differential system. Canonical case has the two equilibrium with the strange attraction\n\n## What is this model ?\n\nDeveloped to study properties of a simplified model of atmospheric convection.\nThe model is a system of three ordinary differential equations. Parameters are linked to hydrodynamics properties of the atmosphere.\n\n## Why is it interesting ? \n\nChaos ! The system when solved numerically around certain values is highly sensitive to initial conditions. \nThis is the butterfly effect. The system is also a canonical example of a strange attractor: two equilibrium, both unstable. \nThe system will oscillate around one, then switch to the other one, staying in a bounded area of the phase space.\n\nThe condition to jump from one to the other are very peculiar, in consequence each bifurcation is an event difficult to predict and that impacts deeplt\nthe system.\n\nAs written on the wikipedia page:\nThe Lorenz equations can arise in simplified models for:\n* lasers\n* dynamos\n* thermosyphons\n* brushless DC motors\n* electric circuits\n* chemical reactions\n* forward osmosis\n* The Lorenz equations also arise in simplified models for the behaviour of convection rolls\n\n## what is the purpose of your model\n\nIt is a good illustration of a complex system, unexpected behavior and emergent properties.\n",
                  "text/plain": "<IPython.core.display.Markdown object>"
                },
                "metadata": {},
                "output_type": "display_data"
              },
              {
                "data": {
                  "text/markdown": "### Presets",
                  "text/plain": "<IPython.core.display.Markdown object>"
                },
                "metadata": {},
                "output_type": "display_data"
              },
              {
                "data": {
                  "application/vnd.google.colaboratory.intrinsic+json": {
                    "summary": "{\n  \"name\": \"chm\",\n  \"rows\": 2,\n  \"fields\": [\n    {\n      \"column\": \"Description\",\n      \"properties\": {\n        \"dtype\": \"string\",\n        \"num_unique_values\": 2,\n        \"samples\": [\n          \"Begins at the first equilibrium\",\n          \"Chaotic attractor around two equilibrium, for those parameter values\"\n        ],\n        \"semantic_type\": \"\",\n        \"description\": \"\"\n      }\n    }\n  ]\n}",
                    "type": "dataframe"
                  },
                  "text/html": "\n  <div id=\"df-5693ec9e-c4ce-4f74-aba9-862b255b8003\" class=\"colab-df-container\">\n    <div>\n<style scoped>\n    .dataframe tbody tr th:only-of-type {\n        vertical-align: middle;\n    }\n\n    .dataframe tbody tr th {\n        vertical-align: top;\n    }\n\n    .dataframe thead th {\n        text-align: right;\n    }\n</style>\n<table border=\"1\" class=\"dataframe\">\n  <thead>\n    <tr style=\"text-align: right;\">\n      <th></th>\n      <th>Description</th>\n    </tr>\n  </thead>\n  <tbody>\n    <tr>\n      <th>Canonical example</th>\n      <td>Chaotic attractor around two equilibrium, for ...</td>\n    </tr>\n    <tr>\n      <th>BeginEQ1</th>\n      <td>Begins at the first equilibrium</td>\n    </tr>\n  </tbody>\n</table>\n</div>\n    <div class=\"colab-df-buttons\">\n\n  <div class=\"colab-df-container\">\n    <button class=\"colab-df-convert\" onclick=\"convertToInteractive('df-5693ec9e-c4ce-4f74-aba9-862b255b8003')\"\n            title=\"Convert this dataframe to an interactive table.\"\n            style=\"display:none;\">\n\n  <svg xmlns=\"http://www.w3.org/2000/svg\" height=\"24px\" viewBox=\"0 -960 960 960\">\n    <path d=\"M120-120v-720h720v720H120Zm60-500h600v-160H180v160Zm220 220h160v-160H400v160Zm0 220h160v-160H400v160ZM180-400h160v-160H180v160Zm440 0h160v-160H620v160ZM180-180h160v-160H180v160Zm440 0h160v-160H620v160Z\"/>\n  </svg>\n    </button>\n\n  <style>\n    .colab-df-container {\n      display:flex;\n      gap: 12px;\n    }\n\n    .colab-df-convert {\n      background-color: #E8F0FE;\n      border: none;\n      border-radius: 50%;\n      cursor: pointer;\n      display: none;\n      fill: #1967D2;\n      height: 32px;\n      padding: 0 0 0 0;\n      width: 32px;\n    }\n\n    .colab-df-convert:hover {\n      background-color: #E2EBFA;\n      box-shadow: 0px 1px 2px rgba(60, 64, 67, 0.3), 0px 1px 3px 1px rgba(60, 64, 67, 0.15);\n      fill: #174EA6;\n    }\n\n    .colab-df-buttons div {\n      margin-bottom: 4px;\n    }\n\n    [theme=dark] .colab-df-convert {\n      background-color: #3B4455;\n      fill: #D2E3FC;\n    }\n\n    [theme=dark] .colab-df-convert:hover {\n      background-color: #434B5C;\n      box-shadow: 0px 1px 3px 1px rgba(0, 0, 0, 0.15);\n      filter: drop-shadow(0px 1px 2px rgba(0, 0, 0, 0.3));\n      fill: #FFFFFF;\n    }\n  </style>\n\n    <script>\n      const buttonEl =\n        document.querySelector('#df-5693ec9e-c4ce-4f74-aba9-862b255b8003 button.colab-df-convert');\n      buttonEl.style.display =\n        google.colab.kernel.accessAllowed ? 'block' : 'none';\n\n      async function convertToInteractive(key) {\n        const element = document.querySelector('#df-5693ec9e-c4ce-4f74-aba9-862b255b8003');\n        const dataTable =\n          await google.colab.kernel.invokeFunction('convertToInteractive',\n                                                    [key], {});\n        if (!dataTable) return;\n\n        const docLinkHtml = 'Like what you see? Visit the ' +\n          '<a target=\"_blank\" href=https://colab.research.google.com/notebooks/data_table.ipynb>data table notebook</a>'\n          + ' to learn more about interactive tables.';\n        element.innerHTML = '';\n        dataTable['output_type'] = 'display_data';\n        await google.colab.output.renderOutput(dataTable, element);\n        const docLink = document.createElement('div');\n        docLink.innerHTML = docLinkHtml;\n        element.appendChild(docLink);\n      }\n    </script>\n  </div>\n\n\n<div id=\"df-3915df39-2b3f-45b4-bcc9-e34194577e45\">\n  <button class=\"colab-df-quickchart\" onclick=\"quickchart('df-3915df39-2b3f-45b4-bcc9-e34194577e45')\"\n            title=\"Suggest charts\"\n            style=\"display:none;\">\n\n<svg xmlns=\"http://www.w3.org/2000/svg\" height=\"24px\"viewBox=\"0 0 24 24\"\n     width=\"24px\">\n    <g>\n        <path d=\"M19 3H5c-1.1 0-2 .9-2 2v14c0 1.1.9 2 2 2h14c1.1 0 2-.9 2-2V5c0-1.1-.9-2-2-2zM9 17H7v-7h2v7zm4 0h-2V7h2v10zm4 0h-2v-4h2v4z\"/>\n    </g>\n</svg>\n  </button>\n\n<style>\n  .colab-df-quickchart {\n      --bg-color: #E8F0FE;\n      --fill-color: #1967D2;\n      --hover-bg-color: #E2EBFA;\n      --hover-fill-color: #174EA6;\n      --disabled-fill-color: #AAA;\n      --disabled-bg-color: #DDD;\n  }\n\n  [theme=dark] .colab-df-quickchart {\n      --bg-color: #3B4455;\n      --fill-color: #D2E3FC;\n      --hover-bg-color: #434B5C;\n      --hover-fill-color: #FFFFFF;\n      --disabled-bg-color: #3B4455;\n      --disabled-fill-color: #666;\n  }\n\n  .colab-df-quickchart {\n    background-color: var(--bg-color);\n    border: none;\n    border-radius: 50%;\n    cursor: pointer;\n    display: none;\n    fill: var(--fill-color);\n    height: 32px;\n    padding: 0;\n    width: 32px;\n  }\n\n  .colab-df-quickchart:hover {\n    background-color: var(--hover-bg-color);\n    box-shadow: 0 1px 2px rgba(60, 64, 67, 0.3), 0 1px 3px 1px rgba(60, 64, 67, 0.15);\n    fill: var(--button-hover-fill-color);\n  }\n\n  .colab-df-quickchart-complete:disabled,\n  .colab-df-quickchart-complete:disabled:hover {\n    background-color: var(--disabled-bg-color);\n    fill: var(--disabled-fill-color);\n    box-shadow: none;\n  }\n\n  .colab-df-spinner {\n    border: 2px solid var(--fill-color);\n    border-color: transparent;\n    border-bottom-color: var(--fill-color);\n    animation:\n      spin 1s steps(1) infinite;\n  }\n\n  @keyframes spin {\n    0% {\n      border-color: transparent;\n      border-bottom-color: var(--fill-color);\n      border-left-color: var(--fill-color);\n    }\n    20% {\n      border-color: transparent;\n      border-left-color: var(--fill-color);\n      border-top-color: var(--fill-color);\n    }\n    30% {\n      border-color: transparent;\n      border-left-color: var(--fill-color);\n      border-top-color: var(--fill-color);\n      border-right-color: var(--fill-color);\n    }\n    40% {\n      border-color: transparent;\n      border-right-color: var(--fill-color);\n      border-top-color: var(--fill-color);\n    }\n    60% {\n      border-color: transparent;\n      border-right-color: var(--fill-color);\n    }\n    80% {\n      border-color: transparent;\n      border-right-color: var(--fill-color);\n      border-bottom-color: var(--fill-color);\n    }\n    90% {\n      border-color: transparent;\n      border-bottom-color: var(--fill-color);\n    }\n  }\n</style>\n\n  <script>\n    async function quickchart(key) {\n      const quickchartButtonEl =\n        document.querySelector('#' + key + ' button');\n      quickchartButtonEl.disabled = true;  // To prevent multiple clicks.\n      quickchartButtonEl.classList.add('colab-df-spinner');\n      try {\n        const charts = await google.colab.kernel.invokeFunction(\n            'suggestCharts', [key], {});\n      } catch (error) {\n        console.error('Error during call to suggestCharts:', error);\n      }\n      quickchartButtonEl.classList.remove('colab-df-spinner');\n      quickchartButtonEl.classList.add('colab-df-quickchart-complete');\n    }\n    (() => {\n      let quickchartButtonEl =\n        document.querySelector('#df-3915df39-2b3f-45b4-bcc9-e34194577e45 button');\n      quickchartButtonEl.style.display =\n        google.colab.kernel.accessAllowed ? 'block' : 'none';\n    })();\n  </script>\n</div>\n    </div>\n  </div>\n",
                  "text/plain": "                                                         Description\nCanonical example  Chaotic attractor around two equilibrium, for ...\nBeginEQ1                             Begins at the first equilibrium"
                },
                "metadata": {},
                "output_type": "display_data"
              },
              {
                "data": {
                  "text/markdown": "### Supplements",
                  "text/plain": "<IPython.core.display.Markdown object>"
                },
                "metadata": {},
                "output_type": "display_data"
              },
              {
                "data": {
                  "text/html": "<style type=\"text/css\">\n#T_74b91_row0_col0, #T_74b91_row0_col1 {\n  text-align: left;\n}\n</style>\n<table id=\"T_74b91\" class=\"dataframe\">\n  <thead>\n    <tr>\n      <th class=\"blank level0\" >&nbsp;</th>\n      <th id=\"T_74b91_level0_col0\" class=\"col_heading level0 col0\" >documentation</th>\n      <th id=\"T_74b91_level0_col1\" class=\"col_heading level0 col1\" >signature</th>\n    </tr>\n  </thead>\n  <tbody>\n    <tr>\n      <th id=\"T_74b91_level0_row0\" class=\"row_heading level0 row0\" >OneTenthPercentUncertainty</th>\n      <td id=\"T_74b91_row0_col0\" class=\"data row0 col0\" >\n    Run the canonical example with 1% uncertainty on initial conditions and display it in an nyaxis plot\n    </td>\n      <td id=\"T_74b91_row0_col1\" class=\"data row0 col1\" >(hub)</td>\n    </tr>\n  </tbody>\n</table>\n",
                  "text/plain": "<pandas.io.formats.style.Styler at 0x7caf5dc7f250>"
                },
                "metadata": {},
                "output_type": "display_data"
              },
              {
                "data": {
                  "text/markdown": "### Todo",
                  "text/plain": "<IPython.core.display.Markdown object>"
                },
                "metadata": {},
                "output_type": "display_data"
              },
              {
                "data": {
                  "text/markdown": "",
                  "text/plain": "<IPython.core.display.Markdown object>"
                },
                "metadata": {},
                "output_type": "display_data"
              },
              {
                "data": {
                  "text/markdown": "### Equations",
                  "text/plain": "<IPython.core.display.Markdown object>"
                },
                "metadata": {},
                "output_type": "display_data"
              },
              {
                "data": {
                  "text/html": "<style type=\"text/css\">\n#T_7fb6d_row0_col0, #T_7fb6d_row0_col1, #T_7fb6d_row0_col2, #T_7fb6d_row0_col3, #T_7fb6d_row1_col0, #T_7fb6d_row1_col1, #T_7fb6d_row1_col2, #T_7fb6d_row1_col3, #T_7fb6d_row2_col0, #T_7fb6d_row2_col1, #T_7fb6d_row2_col2, #T_7fb6d_row2_col3, #T_7fb6d_row3_col0, #T_7fb6d_row3_col1, #T_7fb6d_row3_col2, #T_7fb6d_row3_col3, #T_7fb6d_row4_col0, #T_7fb6d_row4_col1, #T_7fb6d_row4_col2, #T_7fb6d_row4_col3, #T_7fb6d_row5_col0, #T_7fb6d_row5_col1, #T_7fb6d_row5_col2, #T_7fb6d_row5_col3, #T_7fb6d_row6_col0, #T_7fb6d_row6_col1, #T_7fb6d_row6_col2, #T_7fb6d_row6_col3, #T_7fb6d_row7_col0, #T_7fb6d_row7_col1, #T_7fb6d_row7_col2, #T_7fb6d_row7_col3 {\n  text-align: left;\n}\n</style>\n<table id=\"T_7fb6d\" class=\"dataframe\">\n  <thead>\n    <tr>\n      <th class=\"blank level0\" >&nbsp;</th>\n      <th id=\"T_7fb6d_level0_col0\" class=\"col_heading level0 col0\" >eqtype</th>\n      <th id=\"T_7fb6d_level0_col1\" class=\"col_heading level0 col1\" >definition</th>\n      <th id=\"T_7fb6d_level0_col2\" class=\"col_heading level0 col2\" >source_exp</th>\n      <th id=\"T_7fb6d_level0_col3\" class=\"col_heading level0 col3\" >com</th>\n    </tr>\n  </thead>\n  <tbody>\n    <tr>\n      <th id=\"T_7fb6d_level0_row0\" class=\"row_heading level0 row0\" >x</th>\n      <td id=\"T_7fb6d_row0_col0\" class=\"data row0 col0\" >differential</td>\n      <td id=\"T_7fb6d_row0_col1\" class=\"data row0 col1\" >rate of convection</td>\n      <td id=\"T_7fb6d_row0_col2\" class=\"data row0 col2\" >dx/dt=lor_sigma * (y - x),</td>\n      <td id=\"T_7fb6d_row0_col3\" class=\"data row0 col3\" >reduced-form dynamics</td>\n    </tr>\n    <tr>\n      <th id=\"T_7fb6d_level0_row1\" class=\"row_heading level0 row1\" >y</th>\n      <td id=\"T_7fb6d_row1_col0\" class=\"data row1 col0\" >differential</td>\n      <td id=\"T_7fb6d_row1_col1\" class=\"data row1 col1\" >horizontal temperature variation</td>\n      <td id=\"T_7fb6d_row1_col2\" class=\"data row1 col2\" >dy/dt=x * (lor_rho - z) - y,</td>\n      <td id=\"T_7fb6d_row1_col3\" class=\"data row1 col3\" >reduced-form dynamics</td>\n    </tr>\n    <tr>\n      <th id=\"T_7fb6d_level0_row2\" class=\"row_heading level0 row2\" >z</th>\n      <td id=\"T_7fb6d_row2_col0\" class=\"data row2 col0\" >differential</td>\n      <td id=\"T_7fb6d_row2_col1\" class=\"data row2 col1\" >vertical temperature variation</td>\n      <td id=\"T_7fb6d_row2_col2\" class=\"data row2 col2\" >dz/dt=x * y - lor_beta * z,</td>\n      <td id=\"T_7fb6d_row2_col3\" class=\"data row2 col3\" >reduced-form dynamics</td>\n    </tr>\n    <tr>\n      <th id=\"T_7fb6d_level0_row3\" class=\"row_heading level0 row3\" >distance1</th>\n      <td id=\"T_7fb6d_row3_col0\" class=\"data row3 col0\" >statevar</td>\n      <td id=\"T_7fb6d_row3_col1\" class=\"data row3 col1\" ></td>\n      <td id=\"T_7fb6d_row3_col2\" class=\"data row3 col2\" >distance1=np.sqrt((x-np.sqrt(lor_beta*(lor_rho-1)))**2 + (y-np.sqrt(lor_beta*(lor_rho-1)))**2 + (z-(lor_rho-1))**2),</td>\n      <td id=\"T_7fb6d_row3_col3\" class=\"data row3 col3\" >distance to the equilibrium 1</td>\n    </tr>\n    <tr>\n      <th id=\"T_7fb6d_level0_row4\" class=\"row_heading level0 row4\" >distance2</th>\n      <td id=\"T_7fb6d_row4_col0\" class=\"data row4 col0\" >statevar</td>\n      <td id=\"T_7fb6d_row4_col1\" class=\"data row4 col1\" ></td>\n      <td id=\"T_7fb6d_row4_col2\" class=\"data row4 col2\" >distance2=np.sqrt((x+np.sqrt(lor_beta*(lor_rho-1)))**2 + (y+np.sqrt(lor_beta*(lor_rho-1)))**2 + (z-(lor_rho-1))**2),</td>\n      <td id=\"T_7fb6d_row4_col3\" class=\"data row4 col3\" >distance to the equilibrium 2</td>\n    </tr>\n    <tr>\n      <th id=\"T_7fb6d_level0_row5\" class=\"row_heading level0 row5\" >lor_sigma</th>\n      <td id=\"T_7fb6d_row5_col0\" class=\"data row5 col0\" ></td>\n      <td id=\"T_7fb6d_row5_col1\" class=\"data row5 col1\" >Prandtl number</td>\n      <td id=\"T_7fb6d_row5_col2\" class=\"data row5 col2\" ></td>\n      <td id=\"T_7fb6d_row5_col3\" class=\"data row5 col3\" ></td>\n    </tr>\n    <tr>\n      <th id=\"T_7fb6d_level0_row6\" class=\"row_heading level0 row6\" >lor_rho</th>\n      <td id=\"T_7fb6d_row6_col0\" class=\"data row6 col0\" ></td>\n      <td id=\"T_7fb6d_row6_col1\" class=\"data row6 col1\" >Rayleigh number</td>\n      <td id=\"T_7fb6d_row6_col2\" class=\"data row6 col2\" ></td>\n      <td id=\"T_7fb6d_row6_col3\" class=\"data row6 col3\" ></td>\n    </tr>\n    <tr>\n      <th id=\"T_7fb6d_level0_row7\" class=\"row_heading level0 row7\" >lor_beta</th>\n      <td id=\"T_7fb6d_row7_col0\" class=\"data row7 col0\" ></td>\n      <td id=\"T_7fb6d_row7_col1\" class=\"data row7 col1\" >Geometric factor</td>\n      <td id=\"T_7fb6d_row7_col2\" class=\"data row7 col2\" ></td>\n      <td id=\"T_7fb6d_row7_col3\" class=\"data row7 col3\" ></td>\n    </tr>\n  </tbody>\n</table>\n",
                  "text/plain": "<pandas.io.formats.style.Styler at 0x7caf5dc7e950>"
                },
                "metadata": {},
                "output_type": "display_data"
              }
            ]
          }
        },
        "d5338bed51f444ec8d5ee879cc80a186": {
          "model_module": "@jupyter-widgets/output",
          "model_module_version": "1.0.0",
          "model_name": "OutputModel",
          "state": {
            "_dom_classes": [],
            "_model_module": "@jupyter-widgets/output",
            "_model_module_version": "1.0.0",
            "_model_name": "OutputModel",
            "_view_count": null,
            "_view_module": "@jupyter-widgets/output",
            "_view_module_version": "1.0.0",
            "_view_name": "OutputView",
            "layout": "IPY_MODEL_7d386da9158544b3b5127341b3eca310",
            "msg_id": "",
            "outputs": [
              {
                "data": {
                  "text/markdown": "## Model: GK",
                  "text/plain": "<IPython.core.display.Markdown object>"
                },
                "metadata": {},
                "output_type": "display_data"
              },
              {
                "data": {
                  "text/markdown": "\n* **Creation** : 2021\n* **Coder**    : Paul Valcke\n* **Article**  :  \n* **Keywords** : ['Goodwin', 'Toy-model', 'Debt', 'Crises']",
                  "text/plain": "<IPython.core.display.Markdown object>"
                },
                "metadata": {},
                "output_type": "display_data"
              },
              {
                "data": {
                  "text/markdown": "\n## What is this model ?\n\nThis is a Goodwin model with a few modifications. \nThe bigger the profits rate $\\pi$, the bigger the investment, which appears as debt-financed. \nSince the system is respecting Say's law $Y=C+I$, more investment at a constant production means less consumption.\nIn consequence, the system behaves as if households where loaning money to the firms, prefering not to consume at the instant.\n\nIn term of equations: \n* In a Goodwin model $I=\\pi Y$\n* In a Goodwin-Keen model $I = \\kappa(\\pi) Y$, kappa being a parametric function \n\nSince the debt equation is $\\dot{D}= rD + wL - p*C$, it becomes $\\dot{D} = pY * (\\kappa(\\pi)-\\pi)$\n\n## Why is it interesting ? \n\nPrivate debt is often overlooked and allow another angle of approach. \nA non-linear kappa curve will also break the closed cycles aspect of a Goodwin. \nIn certains conditions there can be a debt crisis\n\n## Expected behavior\n\nThe equilibrium is now stable in most cases, and another equilibrium (inifinite debt ratio) also appears. \nThe \"bad\" solovian equilibrium is also stable, meaning that an economy can be driven toward it. \n\n## What is important to remember\n\nIt is a nice illustration of two-attractor dynamics in economy, however the investment mechanism without inflation correction is at best naive.\nDebt-fundings is also not the only locally stabilizing mechanism to consider \n",
                  "text/plain": "<IPython.core.display.Markdown object>"
                },
                "metadata": {},
                "output_type": "display_data"
              },
              {
                "data": {
                  "text/markdown": "### Presets",
                  "text/plain": "<IPython.core.display.Markdown object>"
                },
                "metadata": {},
                "output_type": "display_data"
              },
              {
                "data": {
                  "application/vnd.google.colaboratory.intrinsic+json": {
                    "summary": "{\n  \"name\": \"chm\",\n  \"rows\": 3,\n  \"fields\": [\n    {\n      \"column\": \"Description\",\n      \"properties\": {\n        \"dtype\": \"string\",\n        \"num_unique_values\": 3,\n        \"samples\": [\n          \"Convergence to equilibrium\",\n          \"Path toward infinite relative debt\",\n          \"Stabilization through excess of debt\"\n        ],\n        \"semantic_type\": \"\",\n        \"description\": \"\"\n      }\n    }\n  ]\n}",
                    "type": "dataframe"
                  },
                  "text/html": "\n  <div id=\"df-be843cfe-5d2c-4046-b184-8a25e06539eb\" class=\"colab-df-container\">\n    <div>\n<style scoped>\n    .dataframe tbody tr th:only-of-type {\n        vertical-align: middle;\n    }\n\n    .dataframe tbody tr th {\n        vertical-align: top;\n    }\n\n    .dataframe thead th {\n        text-align: right;\n    }\n</style>\n<table border=\"1\" class=\"dataframe\">\n  <thead>\n    <tr style=\"text-align: right;\">\n      <th></th>\n      <th>Description</th>\n    </tr>\n  </thead>\n  <tbody>\n    <tr>\n      <th>default</th>\n      <td>Convergence to equilibrium</td>\n    </tr>\n    <tr>\n      <th>debtcrisis</th>\n      <td>Path toward infinite relative debt</td>\n    </tr>\n    <tr>\n      <th>debtstabilisation</th>\n      <td>Stabilization through excess of debt</td>\n    </tr>\n  </tbody>\n</table>\n</div>\n    <div class=\"colab-df-buttons\">\n\n  <div class=\"colab-df-container\">\n    <button class=\"colab-df-convert\" onclick=\"convertToInteractive('df-be843cfe-5d2c-4046-b184-8a25e06539eb')\"\n            title=\"Convert this dataframe to an interactive table.\"\n            style=\"display:none;\">\n\n  <svg xmlns=\"http://www.w3.org/2000/svg\" height=\"24px\" viewBox=\"0 -960 960 960\">\n    <path d=\"M120-120v-720h720v720H120Zm60-500h600v-160H180v160Zm220 220h160v-160H400v160Zm0 220h160v-160H400v160ZM180-400h160v-160H180v160Zm440 0h160v-160H620v160ZM180-180h160v-160H180v160Zm440 0h160v-160H620v160Z\"/>\n  </svg>\n    </button>\n\n  <style>\n    .colab-df-container {\n      display:flex;\n      gap: 12px;\n    }\n\n    .colab-df-convert {\n      background-color: #E8F0FE;\n      border: none;\n      border-radius: 50%;\n      cursor: pointer;\n      display: none;\n      fill: #1967D2;\n      height: 32px;\n      padding: 0 0 0 0;\n      width: 32px;\n    }\n\n    .colab-df-convert:hover {\n      background-color: #E2EBFA;\n      box-shadow: 0px 1px 2px rgba(60, 64, 67, 0.3), 0px 1px 3px 1px rgba(60, 64, 67, 0.15);\n      fill: #174EA6;\n    }\n\n    .colab-df-buttons div {\n      margin-bottom: 4px;\n    }\n\n    [theme=dark] .colab-df-convert {\n      background-color: #3B4455;\n      fill: #D2E3FC;\n    }\n\n    [theme=dark] .colab-df-convert:hover {\n      background-color: #434B5C;\n      box-shadow: 0px 1px 3px 1px rgba(0, 0, 0, 0.15);\n      filter: drop-shadow(0px 1px 2px rgba(0, 0, 0, 0.3));\n      fill: #FFFFFF;\n    }\n  </style>\n\n    <script>\n      const buttonEl =\n        document.querySelector('#df-be843cfe-5d2c-4046-b184-8a25e06539eb button.colab-df-convert');\n      buttonEl.style.display =\n        google.colab.kernel.accessAllowed ? 'block' : 'none';\n\n      async function convertToInteractive(key) {\n        const element = document.querySelector('#df-be843cfe-5d2c-4046-b184-8a25e06539eb');\n        const dataTable =\n          await google.colab.kernel.invokeFunction('convertToInteractive',\n                                                    [key], {});\n        if (!dataTable) return;\n\n        const docLinkHtml = 'Like what you see? Visit the ' +\n          '<a target=\"_blank\" href=https://colab.research.google.com/notebooks/data_table.ipynb>data table notebook</a>'\n          + ' to learn more about interactive tables.';\n        element.innerHTML = '';\n        dataTable['output_type'] = 'display_data';\n        await google.colab.output.renderOutput(dataTable, element);\n        const docLink = document.createElement('div');\n        docLink.innerHTML = docLinkHtml;\n        element.appendChild(docLink);\n      }\n    </script>\n  </div>\n\n\n<div id=\"df-da2c34e3-17ba-47e1-bece-64137d824789\">\n  <button class=\"colab-df-quickchart\" onclick=\"quickchart('df-da2c34e3-17ba-47e1-bece-64137d824789')\"\n            title=\"Suggest charts\"\n            style=\"display:none;\">\n\n<svg xmlns=\"http://www.w3.org/2000/svg\" height=\"24px\"viewBox=\"0 0 24 24\"\n     width=\"24px\">\n    <g>\n        <path d=\"M19 3H5c-1.1 0-2 .9-2 2v14c0 1.1.9 2 2 2h14c1.1 0 2-.9 2-2V5c0-1.1-.9-2-2-2zM9 17H7v-7h2v7zm4 0h-2V7h2v10zm4 0h-2v-4h2v4z\"/>\n    </g>\n</svg>\n  </button>\n\n<style>\n  .colab-df-quickchart {\n      --bg-color: #E8F0FE;\n      --fill-color: #1967D2;\n      --hover-bg-color: #E2EBFA;\n      --hover-fill-color: #174EA6;\n      --disabled-fill-color: #AAA;\n      --disabled-bg-color: #DDD;\n  }\n\n  [theme=dark] .colab-df-quickchart {\n      --bg-color: #3B4455;\n      --fill-color: #D2E3FC;\n      --hover-bg-color: #434B5C;\n      --hover-fill-color: #FFFFFF;\n      --disabled-bg-color: #3B4455;\n      --disabled-fill-color: #666;\n  }\n\n  .colab-df-quickchart {\n    background-color: var(--bg-color);\n    border: none;\n    border-radius: 50%;\n    cursor: pointer;\n    display: none;\n    fill: var(--fill-color);\n    height: 32px;\n    padding: 0;\n    width: 32px;\n  }\n\n  .colab-df-quickchart:hover {\n    background-color: var(--hover-bg-color);\n    box-shadow: 0 1px 2px rgba(60, 64, 67, 0.3), 0 1px 3px 1px rgba(60, 64, 67, 0.15);\n    fill: var(--button-hover-fill-color);\n  }\n\n  .colab-df-quickchart-complete:disabled,\n  .colab-df-quickchart-complete:disabled:hover {\n    background-color: var(--disabled-bg-color);\n    fill: var(--disabled-fill-color);\n    box-shadow: none;\n  }\n\n  .colab-df-spinner {\n    border: 2px solid var(--fill-color);\n    border-color: transparent;\n    border-bottom-color: var(--fill-color);\n    animation:\n      spin 1s steps(1) infinite;\n  }\n\n  @keyframes spin {\n    0% {\n      border-color: transparent;\n      border-bottom-color: var(--fill-color);\n      border-left-color: var(--fill-color);\n    }\n    20% {\n      border-color: transparent;\n      border-left-color: var(--fill-color);\n      border-top-color: var(--fill-color);\n    }\n    30% {\n      border-color: transparent;\n      border-left-color: var(--fill-color);\n      border-top-color: var(--fill-color);\n      border-right-color: var(--fill-color);\n    }\n    40% {\n      border-color: transparent;\n      border-right-color: var(--fill-color);\n      border-top-color: var(--fill-color);\n    }\n    60% {\n      border-color: transparent;\n      border-right-color: var(--fill-color);\n    }\n    80% {\n      border-color: transparent;\n      border-right-color: var(--fill-color);\n      border-bottom-color: var(--fill-color);\n    }\n    90% {\n      border-color: transparent;\n      border-bottom-color: var(--fill-color);\n    }\n  }\n</style>\n\n  <script>\n    async function quickchart(key) {\n      const quickchartButtonEl =\n        document.querySelector('#' + key + ' button');\n      quickchartButtonEl.disabled = true;  // To prevent multiple clicks.\n      quickchartButtonEl.classList.add('colab-df-spinner');\n      try {\n        const charts = await google.colab.kernel.invokeFunction(\n            'suggestCharts', [key], {});\n      } catch (error) {\n        console.error('Error during call to suggestCharts:', error);\n      }\n      quickchartButtonEl.classList.remove('colab-df-spinner');\n      quickchartButtonEl.classList.add('colab-df-quickchart-complete');\n    }\n    (() => {\n      let quickchartButtonEl =\n        document.querySelector('#df-da2c34e3-17ba-47e1-bece-64137d824789 button');\n      quickchartButtonEl.style.display =\n        google.colab.kernel.accessAllowed ? 'block' : 'none';\n    })();\n  </script>\n</div>\n    </div>\n  </div>\n",
                  "text/plain": "                                            Description\ndefault                      Convergence to equilibrium\ndebtcrisis           Path toward infinite relative debt\ndebtstabilisation  Stabilization through excess of debt"
                },
                "metadata": {},
                "output_type": "display_data"
              },
              {
                "data": {
                  "text/markdown": "### Supplements",
                  "text/plain": "<IPython.core.display.Markdown object>"
                },
                "metadata": {},
                "output_type": "display_data"
              },
              {
                "data": {
                  "text/html": "<style type=\"text/css\">\n#T_88484_row0_col0, #T_88484_row0_col1 {\n  text-align: left;\n}\n</style>\n<table id=\"T_88484\" class=\"dataframe\">\n  <thead>\n    <tr>\n      <th class=\"blank level0\" >&nbsp;</th>\n      <th id=\"T_88484_level0_col0\" class=\"col_heading level0 col0\" >documentation</th>\n      <th id=\"T_88484_level0_col1\" class=\"col_heading level0 col1\" >signature</th>\n    </tr>\n  </thead>\n  <tbody>\n    <tr>\n      <th id=\"T_88484_level0_row0\" class=\"row_heading level0 row0\" >ThreeDynamics</th>\n      <td id=\"T_88484_row0_col0\" class=\"data row0 col0\" >Draw three qualitatively different Dynamical phase-space associated with a Goodwin-Keen</td>\n      <td id=\"T_88484_row0_col1\" class=\"data row0 col1\" >(hub)</td>\n    </tr>\n  </tbody>\n</table>\n",
                  "text/plain": "<pandas.io.formats.style.Styler at 0x7caf59edd4b0>"
                },
                "metadata": {},
                "output_type": "display_data"
              },
              {
                "data": {
                  "text/markdown": "### Todo",
                  "text/plain": "<IPython.core.display.Markdown object>"
                },
                "metadata": {},
                "output_type": "display_data"
              },
              {
                "data": {
                  "text/markdown": "* Better models !\n",
                  "text/plain": "<IPython.core.display.Markdown object>"
                },
                "metadata": {},
                "output_type": "display_data"
              },
              {
                "data": {
                  "text/markdown": "### Equations",
                  "text/plain": "<IPython.core.display.Markdown object>"
                },
                "metadata": {},
                "output_type": "display_data"
              },
              {
                "data": {
                  "text/html": "<style type=\"text/css\">\n#T_950d0_row0_col0, #T_950d0_row0_col1, #T_950d0_row0_col2, #T_950d0_row0_col3, #T_950d0_row1_col0, #T_950d0_row1_col1, #T_950d0_row1_col2, #T_950d0_row1_col3, #T_950d0_row2_col0, #T_950d0_row2_col1, #T_950d0_row2_col2, #T_950d0_row2_col3, #T_950d0_row3_col0, #T_950d0_row3_col1, #T_950d0_row3_col2, #T_950d0_row3_col3, #T_950d0_row4_col0, #T_950d0_row4_col1, #T_950d0_row4_col2, #T_950d0_row4_col3, #T_950d0_row5_col0, #T_950d0_row5_col1, #T_950d0_row5_col2, #T_950d0_row5_col3, #T_950d0_row6_col0, #T_950d0_row6_col1, #T_950d0_row6_col2, #T_950d0_row6_col3, #T_950d0_row7_col0, #T_950d0_row7_col1, #T_950d0_row7_col2, #T_950d0_row7_col3, #T_950d0_row8_col0, #T_950d0_row8_col1, #T_950d0_row8_col2, #T_950d0_row8_col3, #T_950d0_row9_col0, #T_950d0_row9_col1, #T_950d0_row9_col2, #T_950d0_row9_col3, #T_950d0_row10_col0, #T_950d0_row10_col1, #T_950d0_row10_col2, #T_950d0_row10_col3, #T_950d0_row11_col0, #T_950d0_row11_col1, #T_950d0_row11_col2, #T_950d0_row11_col3, #T_950d0_row12_col0, #T_950d0_row12_col1, #T_950d0_row12_col2, #T_950d0_row12_col3, #T_950d0_row13_col0, #T_950d0_row13_col1, #T_950d0_row13_col2, #T_950d0_row13_col3, #T_950d0_row14_col0, #T_950d0_row14_col1, #T_950d0_row14_col2, #T_950d0_row14_col3, #T_950d0_row15_col0, #T_950d0_row15_col1, #T_950d0_row15_col2, #T_950d0_row15_col3, #T_950d0_row16_col0, #T_950d0_row16_col1, #T_950d0_row16_col2, #T_950d0_row16_col3, #T_950d0_row17_col0, #T_950d0_row17_col1, #T_950d0_row17_col2, #T_950d0_row17_col3, #T_950d0_row18_col0, #T_950d0_row18_col1, #T_950d0_row18_col2, #T_950d0_row18_col3, #T_950d0_row19_col0, #T_950d0_row19_col1, #T_950d0_row19_col2, #T_950d0_row19_col3, #T_950d0_row20_col0, #T_950d0_row20_col1, #T_950d0_row20_col2, #T_950d0_row20_col3, #T_950d0_row21_col0, #T_950d0_row21_col1, #T_950d0_row21_col2, #T_950d0_row21_col3, #T_950d0_row22_col0, #T_950d0_row22_col1, #T_950d0_row22_col2, #T_950d0_row22_col3, #T_950d0_row23_col0, #T_950d0_row23_col1, #T_950d0_row23_col2, #T_950d0_row23_col3, #T_950d0_row24_col0, #T_950d0_row24_col1, #T_950d0_row24_col2, #T_950d0_row24_col3, #T_950d0_row25_col0, #T_950d0_row25_col1, #T_950d0_row25_col2, #T_950d0_row25_col3, #T_950d0_row26_col0, #T_950d0_row26_col1, #T_950d0_row26_col2, #T_950d0_row26_col3, #T_950d0_row27_col0, #T_950d0_row27_col1, #T_950d0_row27_col2, #T_950d0_row27_col3, #T_950d0_row28_col0, #T_950d0_row28_col1, #T_950d0_row28_col2, #T_950d0_row28_col3, #T_950d0_row29_col0, #T_950d0_row29_col1, #T_950d0_row29_col2, #T_950d0_row29_col3, #T_950d0_row30_col0, #T_950d0_row30_col1, #T_950d0_row30_col2, #T_950d0_row30_col3, #T_950d0_row31_col0, #T_950d0_row31_col1, #T_950d0_row31_col2, #T_950d0_row31_col3, #T_950d0_row32_col0, #T_950d0_row32_col1, #T_950d0_row32_col2, #T_950d0_row32_col3, #T_950d0_row33_col0, #T_950d0_row33_col1, #T_950d0_row33_col2, #T_950d0_row33_col3, #T_950d0_row34_col0, #T_950d0_row34_col1, #T_950d0_row34_col2, #T_950d0_row34_col3, #T_950d0_row35_col0, #T_950d0_row35_col1, #T_950d0_row35_col2, #T_950d0_row35_col3, #T_950d0_row36_col0, #T_950d0_row36_col1, #T_950d0_row36_col2, #T_950d0_row36_col3 {\n  text-align: left;\n}\n</style>\n<table id=\"T_950d0\" class=\"dataframe\">\n  <thead>\n    <tr>\n      <th class=\"blank level0\" >&nbsp;</th>\n      <th id=\"T_950d0_level0_col0\" class=\"col_heading level0 col0\" >eqtype</th>\n      <th id=\"T_950d0_level0_col1\" class=\"col_heading level0 col1\" >definition</th>\n      <th id=\"T_950d0_level0_col2\" class=\"col_heading level0 col2\" >source_exp</th>\n      <th id=\"T_950d0_level0_col3\" class=\"col_heading level0 col3\" >com</th>\n    </tr>\n  </thead>\n  <tbody>\n    <tr>\n      <th id=\"T_950d0_level0_row0\" class=\"row_heading level0 row0\" >a</th>\n      <td id=\"T_950d0_row0_col0\" class=\"data row0 col0\" >differential</td>\n      <td id=\"T_950d0_row0_col1\" class=\"data row0 col1\" >Productivity</td>\n      <td id=\"T_950d0_row0_col2\" class=\"data row0 col2\" >da/dt=a * alpha),</td>\n      <td id=\"T_950d0_row0_col3\" class=\"data row0 col3\" ></td>\n    </tr>\n    <tr>\n      <th id=\"T_950d0_level0_row1\" class=\"row_heading level0 row1\" >N</th>\n      <td id=\"T_950d0_row1_col0\" class=\"data row1 col0\" >differential</td>\n      <td id=\"T_950d0_row1_col1\" class=\"data row1 col1\" >Population of people able to work</td>\n      <td id=\"T_950d0_row1_col2\" class=\"data row1 col2\" >dN/dt=N * n),</td>\n      <td id=\"T_950d0_row1_col3\" class=\"data row1 col3\" ></td>\n    </tr>\n    <tr>\n      <th id=\"T_950d0_level0_row2\" class=\"row_heading level0 row2\" >K</th>\n      <td id=\"T_950d0_row2_col0\" class=\"data row2 col0\" >differential</td>\n      <td id=\"T_950d0_row2_col1\" class=\"data row2 col1\" >Capital in real units</td>\n      <td id=\"T_950d0_row2_col2\" class=\"data row2 col2\" >dK/dt=Ir - delta * K),</td>\n      <td id=\"T_950d0_row2_col3\" class=\"data row2 col3\" ></td>\n    </tr>\n    <tr>\n      <th id=\"T_950d0_level0_row3\" class=\"row_heading level0 row3\" >w</th>\n      <td id=\"T_950d0_row3_col0\" class=\"data row3 col0\" >differential</td>\n      <td id=\"T_950d0_row3_col1\" class=\"data row3 col1\" >Wage value</td>\n      <td id=\"T_950d0_row3_col2\" class=\"data row3 col2\" >dw/dt=w * phillips),</td>\n      <td id=\"T_950d0_row3_col3\" class=\"data row3 col3\" ></td>\n    </tr>\n    <tr>\n      <th id=\"T_950d0_level0_row4\" class=\"row_heading level0 row4\" >p</th>\n      <td id=\"T_950d0_row4_col0\" class=\"data row4 col0\" >differential</td>\n      <td id=\"T_950d0_row4_col1\" class=\"data row4 col1\" >price of goods</td>\n      <td id=\"T_950d0_row4_col2\" class=\"data row4 col2\" >dp/dt=p * inflation),</td>\n      <td id=\"T_950d0_row4_col3\" class=\"data row4 col3\" ></td>\n    </tr>\n    <tr>\n      <th id=\"T_950d0_level0_row5\" class=\"row_heading level0 row5\" >D</th>\n      <td id=\"T_950d0_row5_col0\" class=\"data row5 col0\" >differential</td>\n      <td id=\"T_950d0_row5_col1\" class=\"data row5 col1\" >Debt of private sector</td>\n      <td id=\"T_950d0_row5_col2\" class=\"data row5 col2\" >dD/dt=r * D + w * L - p * C + Pi * Delta),</td>\n      <td id=\"T_950d0_row5_col3\" class=\"data row5 col3\" ></td>\n    </tr>\n    <tr>\n      <th id=\"T_950d0_level0_row6\" class=\"row_heading level0 row6\" >Dh</th>\n      <td id=\"T_950d0_row6_col0\" class=\"data row6 col0\" >differential</td>\n      <td id=\"T_950d0_row6_col1\" class=\"data row6 col1\" >Debt of household</td>\n      <td id=\"T_950d0_row6_col2\" class=\"data row6 col2\" >dDh/dt=-r * D - w * L + p * C - Pi * Delta),</td>\n      <td id=\"T_950d0_row6_col3\" class=\"data row6 col3\" ></td>\n    </tr>\n    <tr>\n      <th id=\"T_950d0_level0_row7\" class=\"row_heading level0 row7\" >pi</th>\n      <td id=\"T_950d0_row7_col0\" class=\"data row7 col0\" >statevar</td>\n      <td id=\"T_950d0_row7_col1\" class=\"data row7 col1\" >relative profit</td>\n      <td id=\"T_950d0_row7_col2\" class=\"data row7 col2\" >pi=Pi / (p * Y)),</td>\n      <td id=\"T_950d0_row7_col3\" class=\"data row7 col3\" ></td>\n    </tr>\n    <tr>\n      <th id=\"T_950d0_level0_row8\" class=\"row_heading level0 row8\" >d</th>\n      <td id=\"T_950d0_row8_col0\" class=\"data row8 col0\" >statevar</td>\n      <td id=\"T_950d0_row8_col1\" class=\"data row8 col1\" >relative debt</td>\n      <td id=\"T_950d0_row8_col2\" class=\"data row8 col2\" >d=D / (p * Y)),</td>\n      <td id=\"T_950d0_row8_col3\" class=\"data row8 col3\" ></td>\n    </tr>\n    <tr>\n      <th id=\"T_950d0_level0_row9\" class=\"row_heading level0 row9\" >omega</th>\n      <td id=\"T_950d0_row9_col0\" class=\"data row9 col0\" >statevar</td>\n      <td id=\"T_950d0_row9_col1\" class=\"data row9 col1\" >wage share</td>\n      <td id=\"T_950d0_row9_col2\" class=\"data row9 col2\" >omega=w * L / (p * Y)),</td>\n      <td id=\"T_950d0_row9_col3\" class=\"data row9 col3\" ></td>\n    </tr>\n    <tr>\n      <th id=\"T_950d0_level0_row10\" class=\"row_heading level0 row10\" >employment</th>\n      <td id=\"T_950d0_row10_col0\" class=\"data row10 col0\" >statevar</td>\n      <td id=\"T_950d0_row10_col1\" class=\"data row10 col1\" >employment rate</td>\n      <td id=\"T_950d0_row10_col2\" class=\"data row10 col2\" >employment=L / N),</td>\n      <td id=\"T_950d0_row10_col3\" class=\"data row10 col3\" ></td>\n    </tr>\n    <tr>\n      <th id=\"T_950d0_level0_row11\" class=\"row_heading level0 row11\" >c</th>\n      <td id=\"T_950d0_row11_col0\" class=\"data row11 col0\" >statevar</td>\n      <td id=\"T_950d0_row11_col1\" class=\"data row11 col1\" >production price</td>\n      <td id=\"T_950d0_row11_col2\" class=\"data row11 col2\" >c=p * omega),</td>\n      <td id=\"T_950d0_row11_col3\" class=\"data row11 col3\" ></td>\n    </tr>\n    <tr>\n      <th id=\"T_950d0_level0_row12\" class=\"row_heading level0 row12\" >g</th>\n      <td id=\"T_950d0_row12_col0\" class=\"data row12 col0\" >statevar</td>\n      <td id=\"T_950d0_row12_col1\" class=\"data row12 col1\" >Relative growth of GDP</td>\n      <td id=\"T_950d0_row12_col2\" class=\"data row12 col2\" >g=Ir / K - delta),</td>\n      <td id=\"T_950d0_row12_col3\" class=\"data row12 col3\" ></td>\n    </tr>\n    <tr>\n      <th id=\"T_950d0_level0_row13\" class=\"row_heading level0 row13\" >Y</th>\n      <td id=\"T_950d0_row13_col0\" class=\"data row13 col0\" >statevar</td>\n      <td id=\"T_950d0_row13_col1\" class=\"data row13 col1\" >GDP in real units</td>\n      <td id=\"T_950d0_row13_col2\" class=\"data row13 col2\" >Y=K / nu),</td>\n      <td id=\"T_950d0_row13_col3\" class=\"data row13 col3\" ></td>\n    </tr>\n    <tr>\n      <th id=\"T_950d0_level0_row14\" class=\"row_heading level0 row14\" >Pi</th>\n      <td id=\"T_950d0_row14_col0\" class=\"data row14 col0\" >statevar</td>\n      <td id=\"T_950d0_row14_col1\" class=\"data row14 col1\" >Absolute profit</td>\n      <td id=\"T_950d0_row14_col2\" class=\"data row14 col2\" >Pi=p * Y - w * L - r * D),</td>\n      <td id=\"T_950d0_row14_col3\" class=\"data row14 col3\" ></td>\n    </tr>\n    <tr>\n      <th id=\"T_950d0_level0_row15\" class=\"row_heading level0 row15\" >I</th>\n      <td id=\"T_950d0_row15_col0\" class=\"data row15 col0\" >statevar</td>\n      <td id=\"T_950d0_row15_col1\" class=\"data row15 col1\" >Investment in nominal value</td>\n      <td id=\"T_950d0_row15_col2\" class=\"data row15 col2\" >I=kappa * p * Y),</td>\n      <td id=\"T_950d0_row15_col3\" class=\"data row15 col3\" ></td>\n    </tr>\n    <tr>\n      <th id=\"T_950d0_level0_row16\" class=\"row_heading level0 row16\" >C</th>\n      <td id=\"T_950d0_row16_col0\" class=\"data row16 col0\" >statevar</td>\n      <td id=\"T_950d0_row16_col1\" class=\"data row16 col1\" >flux of goods for household</td>\n      <td id=\"T_950d0_row16_col2\" class=\"data row16 col2\" >C=Y - Ir),</td>\n      <td id=\"T_950d0_row16_col3\" class=\"data row16 col3\" >Consumption as full salary</td>\n    </tr>\n    <tr>\n      <th id=\"T_950d0_level0_row17\" class=\"row_heading level0 row17\" >Ir</th>\n      <td id=\"T_950d0_row17_col0\" class=\"data row17 col0\" >statevar</td>\n      <td id=\"T_950d0_row17_col1\" class=\"data row17 col1\" >Number of real unit from investment</td>\n      <td id=\"T_950d0_row17_col2\" class=\"data row17 col2\" >Ir=I / p),</td>\n      <td id=\"T_950d0_row17_col3\" class=\"data row17 col3\" ></td>\n    </tr>\n    <tr>\n      <th id=\"T_950d0_level0_row18\" class=\"row_heading level0 row18\" >L</th>\n      <td id=\"T_950d0_row18_col0\" class=\"data row18 col0\" >statevar</td>\n      <td id=\"T_950d0_row18_col1\" class=\"data row18 col1\" >Workers</td>\n      <td id=\"T_950d0_row18_col2\" class=\"data row18 col2\" >L=Y / a),</td>\n      <td id=\"T_950d0_row18_col3\" class=\"data row18 col3\" ></td>\n    </tr>\n    <tr>\n      <th id=\"T_950d0_level0_row19\" class=\"row_heading level0 row19\" >GDP</th>\n      <td id=\"T_950d0_row19_col0\" class=\"data row19 col0\" >statevar</td>\n      <td id=\"T_950d0_row19_col1\" class=\"data row19 col1\" >nominal GDP </td>\n      <td id=\"T_950d0_row19_col2\" class=\"data row19 col2\" >GDP=Y * p),</td>\n      <td id=\"T_950d0_row19_col3\" class=\"data row19 col3\" ></td>\n    </tr>\n    <tr>\n      <th id=\"T_950d0_level0_row20\" class=\"row_heading level0 row20\" >inflation</th>\n      <td id=\"T_950d0_row20_col0\" class=\"data row20 col0\" >statevar</td>\n      <td id=\"T_950d0_row20_col1\" class=\"data row20 col1\" >inflation rate</td>\n      <td id=\"T_950d0_row20_col2\" class=\"data row20 col2\" >inflation=eta * (mu * c / p - 1)),</td>\n      <td id=\"T_950d0_row20_col3\" class=\"data row20 col3\" ></td>\n    </tr>\n    <tr>\n      <th id=\"T_950d0_level0_row21\" class=\"row_heading level0 row21\" >kappa</th>\n      <td id=\"T_950d0_row21_col0\" class=\"data row21 col0\" >statevar</td>\n      <td id=\"T_950d0_row21_col1\" class=\"data row21 col1\" >Part of GDP in investment</td>\n      <td id=\"T_950d0_row21_col2\" class=\"data row21 col2\" >kappa=k0 + k1 * np.exp(k2 * pi)),</td>\n      <td id=\"T_950d0_row21_col3\" class=\"data row21 col3\" ></td>\n    </tr>\n    <tr>\n      <th id=\"T_950d0_level0_row22\" class=\"row_heading level0 row22\" >phillips</th>\n      <td id=\"T_950d0_row22_col0\" class=\"data row22 col0\" >statevar</td>\n      <td id=\"T_950d0_row22_col1\" class=\"data row22 col1\" >Wage inflation rate</td>\n      <td id=\"T_950d0_row22_col2\" class=\"data row22 col2\" >phillips=-phi0 + phi1 / (1 - employment)**2),</td>\n      <td id=\"T_950d0_row22_col3\" class=\"data row22 col3\" ></td>\n    </tr>\n    <tr>\n      <th id=\"T_950d0_level0_row23\" class=\"row_heading level0 row23\" >Delta</th>\n      <td id=\"T_950d0_row23_col0\" class=\"data row23 col0\" ></td>\n      <td id=\"T_950d0_row23_col1\" class=\"data row23 col1\" >proportion of profits as shareholding</td>\n      <td id=\"T_950d0_row23_col2\" class=\"data row23 col2\" ></td>\n      <td id=\"T_950d0_row23_col3\" class=\"data row23 col3\" ></td>\n    </tr>\n    <tr>\n      <th id=\"T_950d0_level0_row24\" class=\"row_heading level0 row24\" >alpha</th>\n      <td id=\"T_950d0_row24_col0\" class=\"data row24 col0\" ></td>\n      <td id=\"T_950d0_row24_col1\" class=\"data row24 col1\" >Rate of productivity increase</td>\n      <td id=\"T_950d0_row24_col2\" class=\"data row24 col2\" ></td>\n      <td id=\"T_950d0_row24_col3\" class=\"data row24 col3\" ></td>\n    </tr>\n    <tr>\n      <th id=\"T_950d0_level0_row25\" class=\"row_heading level0 row25\" >n</th>\n      <td id=\"T_950d0_row25_col0\" class=\"data row25 col0\" ></td>\n      <td id=\"T_950d0_row25_col1\" class=\"data row25 col1\" >Rate of population growth</td>\n      <td id=\"T_950d0_row25_col2\" class=\"data row25 col2\" ></td>\n      <td id=\"T_950d0_row25_col3\" class=\"data row25 col3\" ></td>\n    </tr>\n    <tr>\n      <th id=\"T_950d0_level0_row26\" class=\"row_heading level0 row26\" >delta</th>\n      <td id=\"T_950d0_row26_col0\" class=\"data row26 col0\" ></td>\n      <td id=\"T_950d0_row26_col1\" class=\"data row26 col1\" >Rate of capital depletion</td>\n      <td id=\"T_950d0_row26_col2\" class=\"data row26 col2\" ></td>\n      <td id=\"T_950d0_row26_col3\" class=\"data row26 col3\" ></td>\n    </tr>\n    <tr>\n      <th id=\"T_950d0_level0_row27\" class=\"row_heading level0 row27\" >r</th>\n      <td id=\"T_950d0_row27_col0\" class=\"data row27 col0\" ></td>\n      <td id=\"T_950d0_row27_col1\" class=\"data row27 col1\" >Interest on debt</td>\n      <td id=\"T_950d0_row27_col2\" class=\"data row27 col2\" ></td>\n      <td id=\"T_950d0_row27_col3\" class=\"data row27 col3\" ></td>\n    </tr>\n    <tr>\n      <th id=\"T_950d0_level0_row28\" class=\"row_heading level0 row28\" >nu</th>\n      <td id=\"T_950d0_row28_col0\" class=\"data row28 col0\" ></td>\n      <td id=\"T_950d0_row28_col1\" class=\"data row28 col1\" >Capital to output ratio</td>\n      <td id=\"T_950d0_row28_col2\" class=\"data row28 col2\" ></td>\n      <td id=\"T_950d0_row28_col3\" class=\"data row28 col3\" ></td>\n    </tr>\n    <tr>\n      <th id=\"T_950d0_level0_row29\" class=\"row_heading level0 row29\" >eta</th>\n      <td id=\"T_950d0_row29_col0\" class=\"data row29 col0\" ></td>\n      <td id=\"T_950d0_row29_col1\" class=\"data row29 col1\" >timerate of price adjustment</td>\n      <td id=\"T_950d0_row29_col2\" class=\"data row29 col2\" ></td>\n      <td id=\"T_950d0_row29_col3\" class=\"data row29 col3\" ></td>\n    </tr>\n    <tr>\n      <th id=\"T_950d0_level0_row30\" class=\"row_heading level0 row30\" >mu</th>\n      <td id=\"T_950d0_row30_col0\" class=\"data row30 col0\" ></td>\n      <td id=\"T_950d0_row30_col1\" class=\"data row30 col1\" >Markup on prices</td>\n      <td id=\"T_950d0_row30_col2\" class=\"data row30 col2\" ></td>\n      <td id=\"T_950d0_row30_col3\" class=\"data row30 col3\" ></td>\n    </tr>\n    <tr>\n      <th id=\"T_950d0_level0_row31\" class=\"row_heading level0 row31\" >k0</th>\n      <td id=\"T_950d0_row31_col0\" class=\"data row31 col0\" ></td>\n      <td id=\"T_950d0_row31_col1\" class=\"data row31 col1\" >GDP share investedat zeroprofit (expo)</td>\n      <td id=\"T_950d0_row31_col2\" class=\"data row31 col2\" ></td>\n      <td id=\"T_950d0_row31_col3\" class=\"data row31 col3\" ></td>\n    </tr>\n    <tr>\n      <th id=\"T_950d0_level0_row32\" class=\"row_heading level0 row32\" >k1</th>\n      <td id=\"T_950d0_row32_col0\" class=\"data row32 col0\" ></td>\n      <td id=\"T_950d0_row32_col1\" class=\"data row32 col1\" >Investment slope (expo)</td>\n      <td id=\"T_950d0_row32_col2\" class=\"data row32 col2\" ></td>\n      <td id=\"T_950d0_row32_col3\" class=\"data row32 col3\" ></td>\n    </tr>\n    <tr>\n      <th id=\"T_950d0_level0_row33\" class=\"row_heading level0 row33\" >k2</th>\n      <td id=\"T_950d0_row33_col0\" class=\"data row33 col0\" ></td>\n      <td id=\"T_950d0_row33_col1\" class=\"data row33 col1\" >Investment power in kappa (expo)</td>\n      <td id=\"T_950d0_row33_col2\" class=\"data row33 col2\" ></td>\n      <td id=\"T_950d0_row33_col3\" class=\"data row33 col3\" ></td>\n    </tr>\n    <tr>\n      <th id=\"T_950d0_level0_row34\" class=\"row_heading level0 row34\" >phinull</th>\n      <td id=\"T_950d0_row34_col0\" class=\"data row34 col0\" ></td>\n      <td id=\"T_950d0_row34_col1\" class=\"data row34 col1\" >Unemployment rate with no salary increase</td>\n      <td id=\"T_950d0_row34_col2\" class=\"data row34 col2\" ></td>\n      <td id=\"T_950d0_row34_col3\" class=\"data row34 col3\" ></td>\n    </tr>\n    <tr>\n      <th id=\"T_950d0_level0_row35\" class=\"row_heading level0 row35\" >phi0</th>\n      <td id=\"T_950d0_row35_col0\" class=\"data row35 col0\" >parameter</td>\n      <td id=\"T_950d0_row35_col1\" class=\"data row35 col1\" >Parameter1 for diverving squared</td>\n      <td id=\"T_950d0_row35_col2\" class=\"data row35 col2\" >phinull / (1 - phinull**2),</td>\n      <td id=\"T_950d0_row35_col3\" class=\"data row35 col3\" ></td>\n    </tr>\n    <tr>\n      <th id=\"T_950d0_level0_row36\" class=\"row_heading level0 row36\" >phi1</th>\n      <td id=\"T_950d0_row36_col0\" class=\"data row36 col0\" >parameter</td>\n      <td id=\"T_950d0_row36_col1\" class=\"data row36 col1\" >Parameter1 for diverving squared</td>\n      <td id=\"T_950d0_row36_col2\" class=\"data row36 col2\" >phinull**3 / (1 - phinull**2),</td>\n      <td id=\"T_950d0_row36_col3\" class=\"data row36 col3\" ></td>\n    </tr>\n  </tbody>\n</table>\n",
                  "text/plain": "<pandas.io.formats.style.Styler at 0x7caf59edd750>"
                },
                "metadata": {},
                "output_type": "display_data"
              }
            ]
          }
        }
      }
    }
  },
  "nbformat": 4,
  "nbformat_minor": 0
}
