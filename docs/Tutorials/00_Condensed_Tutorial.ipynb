{
 "cells": [
  {
   "cell_type": "markdown",
   "metadata": {},
   "source": [
    "# Condensed tutorial\n",
    "\n",
    "You want to learn every basic things in one file, through examples ? This is the right example for you, mixing everything at once"
   ]
  },
  {
   "cell_type": "code",
   "execution_count": null,
   "metadata": {},
   "outputs": [],
   "source": [
    "# Basic imports\n",
    "import numpy as np\n",
    "\n",
    "# requirements install, uncomment, execute, then comment once done\n",
    "#!pip install -r ../../../../requirements.txt\n",
    "\n",
    "# CHIMES IMPORTATION\n",
    "import sys\n",
    "sys.path.insert(0, '../../')\n",
    "import chimes as chm"
   ]
  },
  {
   "cell_type": "code",
   "execution_count": null,
   "metadata": {},
   "outputs": [],
   "source": [
    "# IMPROVING THE DISPLAY (OPTIONAL) ##############################\n",
    "# Better display of tables\n",
    "import pandas as pd\n",
    "pd.set_option('display.max_colwidth', None)\n",
    "pd.set_option(\"display.colheader_justify\",\"left\")\n",
    "\n",
    "# Interactive tables \n",
    "from itables import init_notebook_mode,options\n",
    "options.columnDefs = [{\"className\": \"dt-left\", \"targets\": \"_all\"}]\n",
    "options.classes=\"display nowrap compact\"\n",
    "options.scrollY=\"400px\"\n",
    "options.scrollCollapse=True\n",
    "options.paging=False\n",
    "init_notebook_mode(all_interactive=True)\n",
    "\n",
    "# traditional display for ipython\n",
    "from IPython.display import display,HTML,Markdown\n",
    "from IPython.display import IFrame\n",
    "\n",
    "# Better display of plots: latex encoding in plotly\n",
    "%matplotlib widget\n",
    "import plotly\n",
    "plotly.offline.init_notebook_mode()\n",
    "display(HTML('<script type=\"text/javascript\" async src=\"https://cdnjs.cloudflare.com/ajax/libs/mathjax/2.7.1/MathJax.js?config=TeX-MML-AM_SVG\"></script>'))"
   ]
  },
  {
   "cell_type": "markdown",
   "metadata": {},
   "source": [
    "## get methods\n",
    "\n",
    "chimes (chm) has multiple methods to explore what is available. Typically with `get_available` methods (use tab or ? to have more informations)"
   ]
  },
  {
   "cell_type": "code",
   "execution_count": null,
   "metadata": {},
   "outputs": [],
   "source": [
    "chm.get_available_models() # List of available models"
   ]
  },
  {
   "cell_type": "code",
   "execution_count": null,
   "metadata": {},
   "outputs": [],
   "source": [
    "chm.get_model_documentation('Lorenz_Attractor') # more documentation"
   ]
  },
  {
   "cell_type": "markdown",
   "metadata": {},
   "source": [
    "## Hub to load a model\n",
    "\n",
    "The Hub is the object to manipulate a model (equations, presets, plots associated to it...)"
   ]
  },
  {
   "cell_type": "code",
   "execution_count": null,
   "metadata": {},
   "outputs": [],
   "source": [
    "hub=chm.Hub('Lorenz_Attractor',verb=True) # Load a model"
   ]
  },
  {
   "cell_type": "code",
   "execution_count": null,
   "metadata": {},
   "outputs": [],
   "source": [
    "hub.get_summary() # All informations about a model"
   ]
  },
  {
   "cell_type": "code",
   "execution_count": null,
   "metadata": {},
   "outputs": [],
   "source": [
    "hub.run() # Do a simulation on 100 years"
   ]
  },
  {
   "cell_type": "code",
   "execution_count": null,
   "metadata": {},
   "outputs": [],
   "source": [
    "hub.plot(tini=200,tend=400) # Plot the results"
   ]
  },
  {
   "cell_type": "code",
   "execution_count": null,
   "metadata": {},
   "outputs": [],
   "source": [
    "hub.set_fields(dt=0.01,Tsim=40) # Change the time step a the simulation duration\n",
    "hub.run()\n",
    "chm.Plots.XYZ(hub,'x','y','z',color='distance2') # Plot the 3D trajectory with the plots in `chm.Plots`"
   ]
  },
  {
   "cell_type": "code",
   "execution_count": null,
   "metadata": {},
   "outputs": [],
   "source": [
    "chm.get_available_plots()"
   ]
  },
  {
   "cell_type": "code",
   "execution_count": null,
   "metadata": {},
   "outputs": [],
   "source": [
    "chm.get_plot_documentation('XYZ')"
   ]
  },
  {
   "cell_type": "code",
   "execution_count": null,
   "metadata": {},
   "outputs": [],
   "source": [
    "hub.set_fields(sigma=10,rho=28,beta=8/3,x=0,y=10,z=0.01) # Change the parameters\n",
    "hub.run()"
   ]
  },
  {
   "cell_type": "code",
   "execution_count": null,
   "metadata": {},
   "outputs": [],
   "source": [
    "hub.plot()"
   ]
  },
  {
   "cell_type": "code",
   "execution_count": null,
   "metadata": {},
   "outputs": [],
   "source": [
    "hub.get_Network(params=True,auxilliary=True)"
   ]
  },
  {
   "cell_type": "code",
   "execution_count": null,
   "metadata": {},
   "outputs": [],
   "source": [
    "hub.get_presets() # List of available presets"
   ]
  },
  {
   "cell_type": "code",
   "execution_count": null,
   "metadata": {},
   "outputs": [],
   "source": [
    "hub.get_supplements() # List of available supplements"
   ]
  },
  {
   "cell_type": "code",
   "execution_count": null,
   "metadata": {},
   "outputs": [],
   "source": [
    "hub=chm.Hub('Lorenz_Attractor','BeginEQ1') # Load a model with a preset\n",
    "hub.run()\n",
    "hub.plot_preset() # Plot the results with the preset"
   ]
  },
  {
   "cell_type": "code",
   "execution_count": null,
   "metadata": {},
   "outputs": [],
   "source": [
    "hub=chm.Hub('Lorenz_Attractor','BeginEQ1') # Load a model with a preset\n",
    "hub.run_uncertainty(1,N=10) # Do 10 system in parrallel with each value taken 1% around the original\n",
    "hub.plot_preset()"
   ]
  },
  {
   "cell_type": "code",
   "execution_count": null,
   "metadata": {},
   "outputs": [],
   "source": [
    "chm.Plots.Var(hub,'x',mode='sensitivity')"
   ]
  },
  {
   "cell_type": "code",
   "execution_count": null,
   "metadata": {},
   "outputs": [],
   "source": [
    "hub=chm.Hub('Lorenz_Attractor','BeginEQ1') \n",
    "hub.supplements['OneTenthPercentUncertainty'](hub) # Execute the supplementary function. See the docu1mentation for more informations"
   ]
  },
  {
   "cell_type": "code",
   "execution_count": null,
   "metadata": {},
   "outputs": [],
   "source": [
    "# Using the shock module\n",
    "hub=chm.Hub('GK','debtstabilisation') # Load a model \n",
    "hub.set_fields(Tsim=130,eta=0.1) # Change the time step a the simulation duration, and inflation dynamics\n",
    "\n",
    "choc_it = 600 # Select the iteration at which there will be a shock\n",
    "hub.run(steps=choc_it,verb=1) # Run choc_it iterations\n",
    "\n",
    "v=hub.get_dvalues() # Get the values of the variables \n",
    "hub.set_fields(K=v['K'][choc_it]/1.6,noreset=True)\n",
    "hub.run()\n",
    "chm.Plots.XYZ(hub,'omega','employment','d','time',title='Stabilisation, destabilisation, then re-stabilisation')"
   ]
  },
  {
   "cell_type": "code",
   "execution_count": null,
   "metadata": {},
   "outputs": [],
   "source": [
    "# Will find all presets, run them and show their difference\n",
    "hub=chm.Hub('GK')\n",
    "hub.compare_presets(['K','employment','omega','d','kappa'])"
   ]
  },
  {
   "cell_type": "code",
   "execution_count": null,
   "metadata": {},
   "outputs": [],
   "source": []
  }
 ],
 "metadata": {
  "kernelspec": {
   "display_name": "py3.11",
   "language": "python",
   "name": "python3"
  },
  "language_info": {
   "codemirror_mode": {
    "name": "ipython",
    "version": 3
   },
   "file_extension": ".py",
   "mimetype": "text/x-python",
   "name": "python",
   "nbconvert_exporter": "python",
   "pygments_lexer": "ipython3",
   "version": "3.11.0"
  }
 },
 "nbformat": 4,
 "nbformat_minor": 2
}
