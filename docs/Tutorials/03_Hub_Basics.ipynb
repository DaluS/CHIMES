{
 "cells": [
  {
   "cell_type": "code",
   "execution_count": null,
   "metadata": {},
   "outputs": [],
   "source": [
    "import sys\n",
    "sys.path.insert(0,  \"C:\\\\Users\\\\Paul Valcke\\\\Documents\\\\GitHub\\\\CHIMES\" )\n",
    "import chimes as chm\n",
    "\n",
    "\n",
    "from IPython.display import display,HTML,Markdown\n",
    "from IPython.display import IFrame\n",
    "from itables import init_notebook_mode,options\n",
    "options.columnDefs = [{\"className\": \"dt-left\", \"targets\": \"_all\"}]\n",
    "options.classes=\"display nowrap compact\"\n",
    "options.scrollY=\"400px\"\n",
    "options.scrollCollapse=True\n",
    "options.paging=False\n",
    "\n",
    "init_notebook_mode(all_interactive=True)\n",
    "%matplotlib widget\n",
    "\n",
    "# Pandas display\n",
    "import pandas as pd\n",
    "import numpy as np\n",
    "pd.set_option('display.max_colwidth', None)\n",
    "pd.set_option(\"display.colheader_justify\",\"left\")\n",
    "\n",
    "## Tomas Mazak's workaround\n",
    "import plotly\n",
    "import plotly.graph_objs as go\n",
    "from IPython.display import display, HTML\n",
    "plotly.offline.init_notebook_mode()\n",
    "display(HTML('<script type=\"text/javascript\" async src=\"https://cdnjs.cloudflare.com/ajax/libs/mathjax/2.7.1/MathJax.js?config=TeX-MML-AM_SVG\"></script>'))"
   ]
  },
  {
   "cell_type": "markdown",
   "metadata": {},
   "source": [
    "# TL:DR (Too long, didn't read)\n",
    "\n",
    "Here is the resume of everything seen in this tutorial\n",
    "```\n",
    "# TO KNOW WHAT YOU CAN LOAD\n",
    "chm.get_available_models() # to know model names \n",
    "chn.get_available_saves() # to know saves names\n",
    "\n",
    "# TO LOAD A MODEL\n",
    "hub=chm.Hub('modelname',)\n",
    "hub=chm.load_saved('savename or full adress')\n",
    "\n",
    "hub.get_summary()           # Basic general informations\n",
    "values = hub.get_dvalues()  # Values \n",
    "\n",
    "hub.run()                   # do the simulation\n",
    "hub.plot()                  # return the results\n",
    "\n",
    "hub.set_fields()            # change fields values\n",
    "hub.set_preset(presetname)  # load a preset of values\n",
    "hub.plot_preset()           # plot the preset content\n",
    "```"
   ]
  },
  {
   "cell_type": "markdown",
   "metadata": {},
   "source": [
    "# CHIMES Hub Basics\n",
    "\n",
    "Models are made to interact with. All the interactions can be done through a CHIMES object called 'Hub`. Here, we show how to use it with one model, a Lorenz System (the famous chaos butterfly). \n",
    "\n",
    "## What is a Hub ?\n",
    "\n",
    "The normal approach is to construct a Hub around a model. It is a CHIMES object that will decypher the model file and give you methods to interact with it. \n",
    "\n",
    "When you initialize a Huh with a model, it will: \n",
    "* Find what are all the fields that exist in the model\n",
    "* Determine if they are differential, state variable, parameters\n",
    "* Try to find as many existing information as possible (typically in CHIMES library) that has not been put by the model creator but exist in a common database. It can be :\n",
    "    * units \n",
    "    * symbol\n",
    "    * definition \n",
    "    * default value\n",
    "    * ...\n",
    "* Find an order to calculate the system at each timestep, and what variables are necessary (in loops)\n",
    "* Preparing allocation for future time calculation and make calculation faster\n",
    "* Making the model elements ready to be displayed in a user-friendly manner\n",
    "* A bit of coffee for you \n",
    "\n",
    "In this example we call the created object `hub` (although the name could be anything you like !)\n",
    "\n",
    "\n",
    "Two ways to create a Hub: \n",
    "* Creating it from a model file `hub=chm.Hub('modelname')` you can find models in `chm.get_available_models()` to get modelnames\n",
    "* Loading a saved hub `hub=chm.Load('savename')` you can find saved files in `chm.get_available_saves()` to get savenames"
   ]
  },
  {
   "cell_type": "markdown",
   "metadata": {},
   "source": [
    "### Knowing what is accessible to go in the hub"
   ]
  },
  {
   "cell_type": "code",
   "execution_count": null,
   "metadata": {},
   "outputs": [],
   "source": [
    "modelist = chm.get_available_models(Return=True)\n",
    "chm.get_available_models() # We check model names to be sure how we write it"
   ]
  },
  {
   "cell_type": "code",
   "execution_count": null,
   "metadata": {},
   "outputs": [],
   "source": [
    "name = 'Lorenz_Attractor'\n",
    "chm.get_model_documentation(name) # We look deeper to its properties"
   ]
  },
  {
   "cell_type": "markdown",
   "metadata": {},
   "source": [
    "### Loading a model in a Hub\n",
    "\n",
    "To load a model into the hub, simply declare the hub and the name of the model together `hub=chm.Hub(modelname)`"
   ]
  },
  {
   "cell_type": "code",
   "execution_count": null,
   "metadata": {},
   "outputs": [],
   "source": [
    "hub=chm.Hub(name)   # For short !"
   ]
  },
  {
   "cell_type": "markdown",
   "metadata": {},
   "source": [
    "### Getting basic informations \n",
    "\n",
    "In most situations, the method `get_summary()` should cover your needs. \n",
    "It covers the flags of the system, theiur preset names, and fields by category with their attributes. As we will see after, get_summary displays the last value of the simulation when a run has been done."
   ]
  },
  {
   "cell_type": "code",
   "execution_count": null,
   "metadata": {},
   "outputs": [],
   "source": [
    "hub.get_summary()           # Basic general informations"
   ]
  },
  {
   "cell_type": "markdown",
   "metadata": {},
   "source": [
    "### Simulating 100 years\n",
    "\n",
    "By default, simulations are done one 100 years, with a timestep of 0.1 year. When asking for a run, the system will compute each timestep using an RK4 scheme. The values will be updated in the `get_summary`"
   ]
  },
  {
   "cell_type": "code",
   "execution_count": null,
   "metadata": {},
   "outputs": [],
   "source": [
    "hub.run()                   # do the simulation"
   ]
  },
  {
   "cell_type": "markdown",
   "metadata": {},
   "source": [
    "### Representing all variables evolution\n",
    "\n",
    "The easiest way to represent a run of the model is to display the variables. the function `hub.plot()` is doing that directly, with a classification of each variable by their unit "
   ]
  },
  {
   "cell_type": "code",
   "execution_count": null,
   "metadata": {},
   "outputs": [],
   "source": [
    "hub.plot()                  # return the results"
   ]
  },
  {
   "cell_type": "markdown",
   "metadata": {},
   "source": [
    "### Retrieving values as a dictionnary\n",
    "\n",
    "If you want to analyze the data by yourself, or plug then somewhere else, you can use `hub.get_dvalue` to get a dictionnary of the time evolution. A more extensive acces can be done with `get_dfields` as explained later"
   ]
  },
  {
   "cell_type": "code",
   "execution_count": null,
   "metadata": {},
   "outputs": [],
   "source": [
    "values = hub.get_dvalues(params=True)  # Values \n",
    "print('type',type(values))\n",
    "for k,v in values.items():\n",
    "    print(k,np.shape(v))"
   ]
  },
  {
   "cell_type": "markdown",
   "metadata": {},
   "source": [
    "### Changing a field value\n",
    "\n",
    "The method `set_fields` is central in your interactions with the Hub. \n",
    "You can change fields that are differential variables (in this case, the initial condition), parameters, and numerical parameters. \n",
    "Of course you cannot impose state variables, but you can change the values of the variables it depends of\n",
    "\n",
    "You can change either values one by one with `hub.set_fields(fieldname=value)`, or multiple at once `hub.set_fields(**{field1:value1, field2:value2, [...]})` \n",
    "\n",
    "it is always recommended to verify that it works using `hub.get_summar()` afterward\n",
    "\n",
    "When a new value is set, the system automatically reset, if you want to save your previous run either do a `hub2=hub.copy()` or `hub.save(filename)` to keep a track of it.\n",
    "You can change values in the middle of a run, but that's for advanced uses !"
   ]
  },
  {
   "cell_type": "code",
   "execution_count": null,
   "metadata": {},
   "outputs": [],
   "source": [
    "hub.set_fields(Tsim=30) # The simulation now runs for 30 years\n",
    "hub.set_fields(dt=0.04) # Timestep are now 0.05 years \n",
    "hub.set_fields(**dict(x=0,y=1,z=0))\n",
    "\n",
    "hub.get_summary()"
   ]
  },
  {
   "cell_type": "markdown",
   "metadata": {},
   "source": [
    "### Loading a preset\n",
    "\n",
    "A preset is an ensemble of field values and plots that has been created to show a typical behavior of the system, or a calibrated run. \n",
    "You can find available preset using `hub.get_preset()` and then load it using `hub.set_preset`. \n",
    "Once the system has run, you can plot the preselected plots using `hub.plot_preset`"
   ]
  },
  {
   "cell_type": "code",
   "execution_count": null,
   "metadata": {},
   "outputs": [],
   "source": [
    "hub.set_preset('Canonical example')\n",
    "hub.run()\n",
    "hub.plot_preset()"
   ]
  },
  {
   "cell_type": "markdown",
   "metadata": {},
   "source": [
    "### Supplements\n",
    "\n",
    "Some models have supplements, functions and method tailored for the model to manipulate it: finding analytically the equilibrium, doing a serie of plots... \n",
    "To acces the use `hub.get_available_supplements()`, they can be then used with `hub.supplements[supplementname](arguments_of_the_function)`"
   ]
  },
  {
   "cell_type": "code",
   "execution_count": null,
   "metadata": {},
   "outputs": [],
   "source": [
    "hub=chm.Hub('Lorenz_Attractor')\n",
    "hub.get_supplements()"
   ]
  },
  {
   "cell_type": "code",
   "execution_count": null,
   "metadata": {},
   "outputs": [],
   "source": [
    "hub.supplements['OneTenthPercentUncertainty'](hub)\n",
    "# In this example, the system run 10 times in parrallel with 1% of uncertainty on the initial conditions and parameters values"
   ]
  },
  {
   "cell_type": "markdown",
   "metadata": {},
   "source": [
    "### Changing values :a first exposition to set_fields\n",
    "`set_fields` is a very powerful tool to modify your system. \n",
    "Here is simply some basic uses.\n",
    "* To change the simulated time, use `hub.set_fields(Tsim=YOUR_VALUE)`, it works with:   \n",
    "    * 'Tsim' duration of the simulated time\n",
    "    * 'dt'   duration of one timestep\n",
    "    * 'nx'   number of systems in parallel\n",
    "    * 'nr'   number of regions\n",
    "* To change a parameter or an initial condition F, use `hub.set_fields(F=YOUR_VALUE)`\n",
    "* To change multiple at a time, you can add each entry separately\n",
    "* If you have multiple dimensions (parrallel, regions, multiple agents)... The system will be default broadcast, or adapt the value. "
   ]
  },
  {
   "cell_type": "code",
   "execution_count": null,
   "metadata": {},
   "outputs": [],
   "source": [
    "hub=chm.Hub('GK') \n",
    "hub.set_fields(Tsim=30) # The simulation now runs for 30 years\n",
    "hub.set_fields(\n",
    "    alpha=0,\n",
    "    n=0.1\n",
    ")\n",
    "hub.get_summary()"
   ]
  },
  {
   "cell_type": "markdown",
   "metadata": {},
   "source": [
    "Much more elaborated value settings can be done"
   ]
  },
  {
   "cell_type": "code",
   "execution_count": null,
   "metadata": {},
   "outputs": [],
   "source": [
    "hub=chm.Hub('GK')\n",
    "hub.set_fields(nx=6,nr=['France','China','USA'])         # We create many regions and parrallel system\n",
    "hub.set_fields('nu',[['nr',0],['nx',0,4],[0.5,0.2]])     # We only modify one of those, with a list approach\n",
    "print(hub.get_dfields()['nu']['value'][:,:,0,0])         # Here are the final values\n",
    "\n",
    "\n",
    "hub.set_fields('alpha',{'nr':['France','USA'], 'nx':1, 'value':0.5}) #will do the same !\n",
    "print(hub.get_dfields()['alpha']['value'][:,:,0,0])         # Here are the final values\n"
   ]
  },
  {
   "cell_type": "markdown",
   "metadata": {},
   "source": [
    "### Saved files management\n",
    "\n",
    "While it is not long to generate a simulation, it might be practical to save the result of one and load it later. \n",
    "You can do that as long as you use the same python version when you save and load, using `hub.save()` and `hub=chm.load_saved()`\n",
    "See what files are available with `chm.get_available_saves()`, and specify a folder with `chm.get_available_saves(FOLDERNAME)`\n"
   ]
  },
  {
   "cell_type": "code",
   "execution_count": null,
   "metadata": {},
   "outputs": [],
   "source": [
    "help(hub.save)"
   ]
  },
  {
   "cell_type": "code",
   "execution_count": null,
   "metadata": {},
   "outputs": [],
   "source": [
    "help(chm.load_saved)"
   ]
  },
  {
   "cell_type": "markdown",
   "metadata": {},
   "source": [
    "# Additional methods\n",
    "\n",
    "#### Extract_preset\n",
    "\n",
    "You have run your model, \n",
    "\n",
    "## calculate_ConvergeRate \n",
    "\n",
    "## calculate_Cycles\n",
    "\n",
    "## copy\n",
    "\n",
    "## dargs\n",
    "\n",
    "## get_dvalues\n",
    "\n",
    "## get_fieldsproperties\n",
    "\n",
    "## get_new_summary\n",
    "\n",
    "## reinterpolate_dfields\n",
    "\n",
    "## reset\n",
    "\n",
    "## set_dpreset\n",
    "\n",
    "## short\n"
   ]
  }
 ],
 "metadata": {
  "kernelspec": {
   "display_name": "py3.11",
   "language": "python",
   "name": "python3"
  },
  "language_info": {
   "codemirror_mode": {
    "name": "ipython",
    "version": 3
   },
   "file_extension": ".py",
   "mimetype": "text/x-python",
   "name": "python",
   "nbconvert_exporter": "python",
   "pygments_lexer": "ipython3",
   "version": "3.11.0"
  }
 },
 "nbformat": 4,
 "nbformat_minor": 2
}
