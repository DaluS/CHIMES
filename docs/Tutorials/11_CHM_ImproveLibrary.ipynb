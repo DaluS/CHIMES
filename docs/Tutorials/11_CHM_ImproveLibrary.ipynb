{
 "cells": [
  {
   "cell_type": "markdown",
   "metadata": {},
   "source": [
    "# Improving CHIMES\n",
    "\n",
    "Link to the github\n",
    "Link to the discord\n",
    "\n",
    "## Adding models\n",
    "\n",
    "### Adding operators and fields \n",
    "\n",
    "## Adding plots\n",
    "\n",
    "## Adding methods \n",
    "\n",
    "## Improving code structure \n",
    "\n",
    "* Better equation and latex rendering https://github.com/connorferster/handcalcs\n",
    "* Better network files [ ]\n",
    "* Recoding `numpy` operations to `jax` operation for graphic card computation\n",
    "* More spatial representations !\n",
    "* Implementation of models from this list []\n",
    "* generalize analyses method on multiregional/multisectoral approaches\n",
    "* Create bridges with PySD\n",
    "* Generalization of the external coupling method\n"
   ]
  },
  {
   "cell_type": "markdown",
   "metadata": {},
   "source": []
  }
 ],
 "metadata": {
  "language_info": {
   "name": "python"
  }
 },
 "nbformat": 4,
 "nbformat_minor": 2
}
