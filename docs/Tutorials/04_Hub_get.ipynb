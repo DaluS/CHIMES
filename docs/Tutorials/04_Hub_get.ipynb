{
 "cells": [
  {
   "cell_type": "code",
   "execution_count": null,
   "metadata": {},
   "outputs": [],
   "source": [
    "import sys\n",
    "sys.path.insert(0,  \"C:\\\\Users\\\\Paul Valcke\\\\Documents\\\\GitHub\\\\CHIMES\" )\n",
    "import chimes as chm\n",
    "\n",
    "from IPython.display import display,HTML,Markdown\n",
    "from IPython.display import IFrame\n",
    "from itables import init_notebook_mode,options\n",
    "options.columnDefs = [{\"className\": \"dt-left\", \"targets\": \"_all\"}]\n",
    "options.classes=\"display nowrap compact\"\n",
    "options.scrollY=\"400px\"\n",
    "options.scrollCollapse=True\n",
    "options.paging=False\n",
    "\n",
    "init_notebook_mode(all_interactive=True)\n",
    "%matplotlib widget\n",
    "\n",
    "# Pandas display\n",
    "import pandas as pd\n",
    "import numpy as np\n",
    "pd.set_option('display.max_colwidth', None)\n",
    "pd.set_option(\"display.colheader_justify\",\"left\")\n",
    "\n",
    "## Tomas Mazak's workaround\n",
    "import plotly\n",
    "import plotly.graph_objs as go\n",
    "from IPython.display import display, HTML\n",
    "plotly.offline.init_notebook_mode()\n",
    "display(HTML('<script type=\"text/javascript\" async src=\"https://cdnjs.cloudflare.com/ajax/libs/mathjax/2.7.1/MathJax.js?config=TeX-MML-AM_SVG\"></script>'))"
   ]
  },
  {
   "cell_type": "markdown",
   "metadata": {},
   "source": [
    "# TL:DR (Too long, didn't read)\n",
    "\n",
    "Here is the resume of everything seen in this tutorial\n",
    "```\n",
    "hub=chm.Hub('modelname')      # CHIMES object that you can use to interact with a model\n",
    "hub.get_summary()             # Basic general informations\n",
    "hub.get_fieldsproperties()    # dataframe description of fields\n",
    "hub.get_Network()             # network visualisation of the model\n",
    "hub.get_presets()             # display a table of the presets\n",
    "hub.get_supplements()         # display a table of the supplements\n",
    "hub.get_dfields()             # dictionnary of all fields properties\n",
    "hub.dfields_as_reverse_dict() # classified by eqtypes\n",
    "hub.get_dvalues()             # dictionnary of time evolving values after a run\n",
    "hub.dataframe()               # fields values as multiindex dataframe\n",
    "hub.get_dimensions()          # return the fields that change tensor dimensions  \n",
    "hub.get_multisectoral()       # return fields classed by their tensor dimensons \n",
    "hub.dflags                    # status of the model\n",
    "hub.dfunc_order               # order of the functions resolution\n",
    "hub.dmisc                     # miscelaneous information\n",
    "hub.dmodel                    # What is read from the model file\n",
    "```\n",
    "\n",
    "\n",
    "Depending of your level, we recommend: \n",
    "\n",
    "* **users** should know `hub=chm.Hub('modelname')`, `hub.get_summary()`, `hub.plot()`, `hub.set_fields()` (basic use), `hub.dvalues()`\n",
    "* **advanced user** should know `hub.get_Network() `, `hub.get_fieldsproperties()`, `hub.get_preset()`, `hub.set_fields()` (advanced use), `hub.dfields()`\n",
    "* **modeler** should know `hub.get_supplements`, `hub.dflags`, `hub.dfunc_order`, \n",
    "* **power-user** should know `hub.dmodel`"
   ]
  },
  {
   "cell_type": "markdown",
   "metadata": {},
   "source": [
    "# Exploring the Hub\n",
    "\n",
    "The `Hub` class is a central object for the user, providing an interface to interact with a given model.\n",
    "Given a model name, the `Hub` class loads the model file and retrieves its logics, presets, and associated values. \n",
    "It performs tasks such as :\n",
    "* executing local models coupling operation in the `_model_MODELNAME.py` file, \n",
    "* identifying parameters, state variables, and differential variables, \n",
    "* finding their associated properties (definitions, units, values...), \n",
    "* determining an order of calculation.\n",
    "\n",
    "Users can: \n",
    "* access fields for value modification, \n",
    "* the structure and properties in the model, \n",
    "* perform simulations, \n",
    "* create plots\n",
    "* conduct deeper analysis\n",
    "* save the model"
   ]
  },
  {
   "cell_type": "code",
   "execution_count": null,
   "metadata": {},
   "outputs": [],
   "source": [
    "# Preliminary points\n",
    "import chimes as chm\n",
    "name = 'Lorenz_Attractor'\n",
    "hub=chm.Hub(name,verb=False) # We load the model for the rest of the system"
   ]
  },
  {
   "cell_type": "markdown",
   "metadata": {},
   "source": [
    "## Exploring the content of the model\n",
    "\n",
    "a `hub` has many introspection methods that return formatted data, that can be called as `hub.get_[...]`\n",
    "\n",
    "### Summary\n",
    "In most situations, the method `get_summary()` should cover your needs. \n",
    "It covers the flags of the system, theiur preset names, and fields by category with their attributes. As we will see after, get_summary displays the last value of the simulation when a run has been done."
   ]
  },
  {
   "cell_type": "code",
   "execution_count": null,
   "metadata": {},
   "outputs": [],
   "source": [
    "hub.get_summary()"
   ]
  },
  {
   "cell_type": "markdown",
   "metadata": {},
   "source": [
    "### Field properties\n",
    "\n",
    "A dataframe version is also possible using `hub.get_fieldproperties`, when using itables it give you the possibility to do search in the system. "
   ]
  },
  {
   "cell_type": "code",
   "execution_count": null,
   "metadata": {},
   "outputs": [],
   "source": [
    "hub.get_fieldsproperties()"
   ]
  },
  {
   "cell_type": "markdown",
   "metadata": {},
   "source": [
    "### Field properties, as a network\n",
    "\n",
    "As we said, a model is a web of fields linked by equations. We can thus represent it as such. and interact with it. \n",
    "The `get_Network()` method allow the customization of the representation.\n",
    "\n",
    "You can hover on each nodes to get more information about its properties and dependencies "
   ]
  },
  {
   "cell_type": "code",
   "execution_count": null,
   "metadata": {},
   "outputs": [],
   "source": [
    "hub.get_Network()"
   ]
  },
  {
   "cell_type": "markdown",
   "metadata": {},
   "source": [
    "### See the presets and supplements\n",
    "\n",
    "Presets are a set of value for the system given by the author of a model, that allow one specific run and the display of a specific behavior of the system (either quantitative or qualitative). They are often associated with one serie of plots that shows it. They can be loaded into the hub using `set_preset(presetname)`. To see the presets, use `hub.get_preset`, or read `hub.get_summary()` or even `chm.get_model_documentation`\n",
    "\n",
    "Supplements are functions that ease the use of a specific model and thus associated to it, either for the analyses, setting fields, or plots. they can be accessed the same way using `hub.get_supplements` or `get_model_documentation`. they can be then used with `hub.supplements[supplementname](arguments_of_the_function)`"
   ]
  },
  {
   "cell_type": "code",
   "execution_count": null,
   "metadata": {},
   "outputs": [],
   "source": [
    "presets = hub.get_presets('list') # Return a list of the presets\n",
    "print('preset list',presets)\n",
    "dpresets = hub.get_presets('dict') # Return a dictionary of the presets with theirdescription\n",
    "print('preset_dict',dpresets)\n",
    "hub.get_presets() # display a table of the presets"
   ]
  },
  {
   "cell_type": "code",
   "execution_count": null,
   "metadata": {},
   "outputs": [],
   "source": [
    "lsupp = hub.get_supplements('list') # Return a list of the supplements\n",
    "print('preset list',presets)\n",
    "dsupp = hub.get_supplements('dict') # Return a dictionary of the supplements\n",
    "print('preset dictionnary',presets)\n",
    "hub.get_supplements() # display a table of the supplements"
   ]
  },
  {
   "cell_type": "markdown",
   "metadata": {},
   "source": [
    "### dfields\n",
    "\n",
    "dfields is where all the fields properties of the model, digested by the hub, are located. It is a dictionnary of a dictionnary architecture: the first level of dfields is fields names, then their attributes, such as their value, definition and so on. \n",
    "\n",
    "the keys are: \n",
    "* `eqtype` type of equation ['differential', 'statevar', 'None']\n",
    "* `func` the python logic that is used to calculate the value\n",
    "* `source_exp` A string version of the solved equation\n",
    "* `com` a comment explaining the python function\n",
    "* `definition` the definition of the field\n",
    "* `units` the unit of the field ( years, humans, meters...) in latex formalism\n",
    "* `symbol` a latex symbol that represent the field\n",
    "* `group` a classification that helps looking\n",
    "* `value` a numpy tensor that keep all values (see the corresponding section) \n",
    "* `isneeded` Is the field required to calculate the dynamics\n",
    "* `size` a list of two field that are used to know the multisectoral size of this one\n",
    "* `multisect` a flag that tell if the field need all its dimensions\n",
    "* `kargs`  \n",
    "* `args`  \n",
    "* `minmax` \n",
    "\n",
    "When a new analysis is done with the hub, a new category will appear for each fields in `dfields`. \n",
    "We recommend building your own tools (plot, analyses, etc) with dfields as the input, you'll have everything you need !"
   ]
  },
  {
   "cell_type": "code",
   "execution_count": null,
   "metadata": {},
   "outputs": [],
   "source": [
    "R = hub.get_dfields()\n",
    "print('the available fields are :',R.keys())\n",
    "x = R['x']\n",
    "print('the keys of the field x are :',x.keys())"
   ]
  },
  {
   "cell_type": "markdown",
   "metadata": {},
   "source": [
    "you can filter `get_dfields` to get only the fields that correspond to your criteria. "
   ]
  },
  {
   "cell_type": "code",
   "execution_count": null,
   "metadata": {},
   "outputs": [],
   "source": [
    "Rdiff = hub.get_dfields(eqtype=['differential']) # You only get differential equations\n",
    "print('Eqtype differential',Rdiff.keys())\n",
    "Rdiff2 = hub.get_dfields(eqtype='statevar') # You get state variables\n",
    "print('Eqtype differential',Rdiff2.keys())"
   ]
  },
  {
   "cell_type": "markdown",
   "metadata": {},
   "source": [
    "### Getting fields according to criterias\n",
    "\n",
    "It can be useful to have directly a fields classification: `get_dfields_as_reverse_dict` is doing so. use `crit` to choose the classification type, and you can add criteria after"
   ]
  },
  {
   "cell_type": "code",
   "execution_count": null,
   "metadata": {},
   "outputs": [],
   "source": [
    "Rclas =hub.dfields_as_reverse_dict(   # Return a dictionnary with the list of outputs for each input\n",
    "                                   crit='units', # classified by units\n",
    "                                   eqtype=['differential', 'statevar'] # only eqtype differential and statevar are kept\n",
    "                                    ) # only eqtype differential and statevar are kept\n",
    "for k in Rclas.keys():\n",
    "    print(k,Rclas[k].keys())"
   ]
  },
  {
   "cell_type": "code",
   "execution_count": null,
   "metadata": {},
   "outputs": [],
   "source": [
    "Rclas = hub.dfields_as_reverse_dict(crit='eqtype') # classified by eqtypes\n",
    "for k in Rclas.keys():\n",
    "    print(k,Rclas[k].keys())"
   ]
  },
  {
   "cell_type": "markdown",
   "metadata": {},
   "source": [
    "## Multi-region, Multi-agent, Multi-sector dimensions \n",
    "\n",
    "This is described in details in `09_Multisectoral_Multiregion`. \n",
    "When you deal with multiple regions, coupling between dimensions, multiple agents, you need to see which fields have different tensorial dimensions:\n",
    "* `hub.get_dimensions()`  Give the different dimensions used in the model \n",
    "* `hub.get_multisectoral()` Give the dimensions of each fields"
   ]
  },
  {
   "cell_type": "code",
   "execution_count": null,
   "metadata": {},
   "outputs": [],
   "source": [
    "hub=chm.Hub('E-CHIMES')\n",
    "hub.get_dimensions()"
   ]
  },
  {
   "cell_type": "code",
   "execution_count": null,
   "metadata": {},
   "outputs": [],
   "source": [
    "hub.get_multisectoral()"
   ]
  },
  {
   "cell_type": "markdown",
   "metadata": {},
   "source": [
    "## Getting values in most cases\n",
    "\n",
    "If you do not need the multisectoral properties, you can get a dictionnary of values with `dvalue`. \n",
    "If you have multiple regions of parrallel system you can slice only the one you want with nx = index, region = index"
   ]
  },
  {
   "cell_type": "code",
   "execution_count": null,
   "metadata": {},
   "outputs": [],
   "source": [
    "values = hub.get_dvalues(idx=0,         # By default idx=0\n",
    "                         Region=0,      # By default region=0\n",
    "                         params=False   # If True, return parameters too, otherwise only time evolving quantities\n",
    "                         )\n",
    "print('type',type(values))\n",
    "for k,v in values.items():\n",
    "    print(k,np.shape(v))"
   ]
  },
  {
   "cell_type": "markdown",
   "metadata": {},
   "source": [
    "### Dataframe approach\n",
    "\n",
    "You can also access the values as a dataframe, that reshapes the dfields structure."
   ]
  },
  {
   "cell_type": "code",
   "execution_count": null,
   "metadata": {},
   "outputs": [],
   "source": [
    "df = hub.dataframe().transpose()\n",
    "df"
   ]
  },
  {
   "cell_type": "markdown",
   "metadata": {},
   "source": [
    "## Decorators\n",
    "\n",
    "Those varaiables are not shaped for user readability but they can still be accessed. Those are protected and thus cannot be modified directly. \n",
    "You can modify the element by adding _ before its name if you really know what you're doing"
   ]
  },
  {
   "cell_type": "code",
   "execution_count": null,
   "metadata": {},
   "outputs": [],
   "source": [
    "hub.dflags # status of the model"
   ]
  },
  {
   "cell_type": "code",
   "execution_count": null,
   "metadata": {},
   "outputs": [],
   "source": [
    "hub.dfunc_order # order of the functions resolution"
   ]
  },
  {
   "cell_type": "code",
   "execution_count": null,
   "metadata": {},
   "outputs": [],
   "source": [
    "hub.dmisc # miscelaneous information"
   ]
  },
  {
   "cell_type": "code",
   "execution_count": null,
   "metadata": {},
   "outputs": [],
   "source": [
    "hub.dmodel # What is read from the model file"
   ]
  },
  {
   "cell_type": "code",
   "execution_count": null,
   "metadata": {},
   "outputs": [],
   "source": []
  }
 ],
 "metadata": {
  "kernelspec": {
   "display_name": "py3.11",
   "language": "python",
   "name": "python3"
  },
  "language_info": {
   "codemirror_mode": {
    "name": "ipython",
    "version": 3
   },
   "file_extension": ".py",
   "mimetype": "text/x-python",
   "name": "python",
   "nbconvert_exporter": "python",
   "pygments_lexer": "ipython3",
   "version": "3.11.0"
  }
 },
 "nbformat": 4,
 "nbformat_minor": 2
}
