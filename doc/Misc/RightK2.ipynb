{
 "cells": [
  {
   "cell_type": "code",
   "execution_count": 2,
   "metadata": {},
   "outputs": [],
   "source": [
    "import numpy as np \n",
    "from scipy.optimize import fsolve"
   ]
  },
  {
   "attachments": {},
   "cell_type": "markdown",
   "metadata": {},
   "source": [
    "# DEALING WITH INVENTORY VARIATION (1) Starting close enough to the equilibrium\n",
    "\n",
    "$$ \\dot{V} = Y - [\\Gamma^T Y] - \\Xi^T I^r - C $$ \n",
    "\n",
    "With : \n",
    "$$Y = K/\\nu$$\n",
    "$$L = K/a$$\n",
    "$$\\Pi = pY  - w L- Y [\\Gamma p] - \\delta K  [\\Xi p]$$\n",
    "$$I^r = \\delta K + \\Pi$$ \n",
    "$$C = C^{pond} \\sum(w L)$$\n",
    "\n",
    "What this program does is, given : $\\lambda$,$w$, $\\Gamma$,$\\Xi$,$C^{pond}$,$\\delta$,$\\nu$,$p$,$a$ returns the value of $K$ so that we have market-clearing conditions respecting the employment\n"
   ]
  },
  {
   "cell_type": "code",
   "execution_count": 16,
   "metadata": {},
   "outputs": [],
   "source": [
    "\n",
    "def dotV_for_K(K,params):\n",
    "    ### Unpacking\n",
    "    Gamma   =params['Gamma']\n",
    "    Xi      =params['Xi']\n",
    "    Cpond   =params['Cpond']\n",
    "    delta   =params['delta']\n",
    "    nu      =params['nu']\n",
    "    p       =params['p']\n",
    "    a       =params['a']\n",
    "    w       =params['w']\n",
    "\n",
    "    #### Deriving equations \n",
    "    Y = K/nu \n",
    "    L = K/a\n",
    "    Inter = np.matmul(np.transpose(Gamma),Y) \n",
    "    C = Cpond*sum(w*L)/p\n",
    "    Pi = p*Y - w*L- Y*np.matmul(Gamma,p) - delta*K* np.matmul(Xi,p)\n",
    "    Ir = Pi/(np.matmul(Xi,p)) + K*delta\n",
    "    \n",
    "    ### Returning dotV\n",
    "    return Y - Inter - C - np.matmul(np.transpose(Xi),Ir)\n"
   ]
  },
  {
   "cell_type": "code",
   "execution_count": 29,
   "metadata": {},
   "outputs": [
    {
     "name": "stdout",
     "output_type": "stream",
     "text": [
      "2.2500000033725307\n",
      "0.5291005291005291\n",
      "[158.73015873  15.87301587   1.58730159 141.26984127] [ 7.10542736e-15  0.00000000e+00  3.33066907e-16 -7.10542736e-15]\n"
     ]
    }
   ],
   "source": [
    "# TYPICAL 4-SECTORAL intermediate consumption\n",
    "# sector 1 consumption \n",
    "# sector 2 good for sector 1 \n",
    "# sector 3 good for sector 2 \n",
    "# sector 4 Capital\n",
    "\n",
    "############# PARAMETERS ################\n",
    "dic4 = {}    \n",
    "dic4['Gamma'] = np.array([  [0,.1,0 , 0],\n",
    "                           [0, 0,.1, 0],\n",
    "                           [0, 0, 0, 0],\n",
    "                           [0, 0, 0, 0]]) \n",
    "dic4['Xi']    = np.array([  [0,0,0,1],\n",
    "                           [0,0,0,1],\n",
    "                           [0,0,0,1],\n",
    "                           [0,0,0,1]])\n",
    "dic4['Cpond'] = np.array([1  ,  0,  0,  0])\n",
    "dic4['delta'] = np.array([.05,.05,.05,.05])\n",
    "dic4['nu']    = np.array([3.,3.,3.,3.])\n",
    "dic4['p']     = np.array([1.,1.,1.,1.])\n",
    "dic4['a']     = np.array([3 ,3 ,3 ,3 ])\n",
    "dic4['w']     = np.array([.5,.5,.5,.5])  \n",
    "\n",
    "dic4['employment'] = .9\n",
    "#dic4['N']          = 1   \n",
    "dic4['GDP'] = 100\n",
    "\n",
    "############ FINDING RELATIVE SIZE ######\n",
    "K = fsolve(dotV_for_K,np.array([1.,1.,1.,1.]),args=dic4)\n",
    "\n",
    "############ SCALING (One or the other)\n",
    "# Population\n",
    "if 'N' in dic4.keys():\n",
    "    L = np.sum(K/dic4['a'])\n",
    "    Scale = L/dic4['employment']\n",
    "    K*=dic4['N']/Scale\n",
    "    dic4['GDP']=sum(dic4['p']*(K/dic4['nu'] - np.matmul(np.transpose(dic4['Gamma']),K/dic4['nu']) ) )\n",
    "\n",
    "# GDP\n",
    "else:\n",
    "    GDPN = sum(dic4['p']*(K/dic4['nu'] - np.matmul(np.transpose(dic4['Gamma']),K/dic4['nu']) ) ) #nominal GDP\n",
    "    K*= dic4['GDP']/GDPN\n",
    "    dic4['N'] = np.sum(K/dic4['a'])/dic4['employment']\n",
    "\n",
    "########### DEDUCING SOME QUANTITIES\n",
    "dic4['omega']= np.sum(dic4['w']*K/dic4['a'])/dic4['GDP']\n",
    "print(dic4['omega'])\n",
    "\n",
    "############ CHECKING QUALITY\n",
    "print(K,dotV_for_K(K,dic4))"
   ]
  },
  {
   "cell_type": "code",
   "execution_count": 61,
   "metadata": {},
   "outputs": [
    {
     "name": "stdout",
     "output_type": "stream",
     "text": [
      "Eigenvalues [4.90316189 1.41768562 1.09055593 1.09055593 0.83152452 1.07590257\n",
      " 0.92219071 0.92219071 0.99954478 0.94598401]\n",
      "Capital [0.33354162 0.26419526 0.2319804  0.3057239  0.23771194 0.1565128\n",
      " 0.3273572  0.14821592 0.18667007 0.50809088]\n",
      "[[0.03821992 0.05579551 0.0737206  0.3679107  0.14745124 0.027548\n",
      "  0.01486963 0.10608457 0.13055444 0.01792438]\n",
      " [0.05154683 0.13461918 0.04756743 0.08068228 0.02370134 0.01740005\n",
      "  0.12326797 0.02120806 0.0097295  0.09643878]\n",
      " [0.07632014 0.14738301 0.37750063 0.10456468 0.00129465 0.0729341\n",
      "  0.05473039 0.03005931 0.01737898 0.08982053]\n",
      " [0.04617291 0.08119389 0.08993386 0.05234479 0.01657395 0.04602918\n",
      "  0.03907904 0.03417651 0.09091223 0.01089054]\n",
      " [0.12154231 0.2256873  0.0720355  0.04676909 0.03480964 0.01657987\n",
      "  0.024443   0.06577225 0.05696694 0.06771567]\n",
      " [0.11064238 0.09289232 0.04586527 0.08980033 0.0212329  0.044278\n",
      "  0.0156889  0.02428852 0.44871828 0.10484106]\n",
      " [0.02530092 0.08266739 0.07534245 0.15581028 0.09439027 0.02265451\n",
      "  0.04604707 0.06955267 0.01531844 0.40753439]\n",
      " [0.05548937 0.04694729 0.00854679 0.15493521 0.03308832 0.08576864\n",
      "  0.02976616 0.10454696 0.07685179 0.02716108]\n",
      " [0.0226199  0.33612476 0.04470006 0.01866388 0.06434717 0.1309163\n",
      "  0.08334018 0.02828577 0.01563207 0.03620612]\n",
      " [0.11680006 0.0291466  0.07167991 0.11837575 0.02339573 0.06952183\n",
      "  0.02859144 0.17598695 0.02693213 0.14323433]]\n"
     ]
    }
   ],
   "source": [
    "Nsect = 10 \n",
    "dicN = {} \n",
    "dicN['Gamma'] = 0.05*np.random.lognormal(size=(Nsect,Nsect))   \n",
    "dicN['Xi']    = 0.01*np.random.lognormal(size=(Nsect,Nsect)) \n",
    "dicN['Cpond'] = np.random.lognormal(size=Nsect) \n",
    "dicN['Cpond']/= np.sum(dicN['Cpond'])\n",
    "dicN['delta'] = np.array([.05]*Nsect)\n",
    "dicN['nu']    = np.array([3.]*Nsect)\n",
    "dicN['p']     = np.array([1.]*Nsect)\n",
    "dicN['a']     = np.array([3 ]*Nsect)\n",
    "dicN['w']     = np.array([.5]*Nsect)\n",
    "\n",
    "dicN['employment'] = .9\n",
    "dicN['N']     = 1\n",
    "\n",
    "LeontievInverse = np.linalg.inv(np.eye(Nsect)-dicN['Gamma']-dicN['delta']*dicN['nu']*dicN['Xi'])\n",
    "Eigenvalues,Eigenvectors = np.linalg.eig(LeontievInverse)\n",
    "print('Eigenvalues',np.real(Eigenvalues))\n",
    "\n",
    "############ FINDING RELATIVE SIZE ######\n",
    "K = fsolve(dotV_for_K,np.array([1.]*Nsect),args=dicN)\n",
    "\n",
    "############ SCALING (One or the other)\n",
    "# Population\n",
    "if 'N' in dicN.keys():\n",
    "    L = np.sum(K/dicN['a'])\n",
    "    Scale = L/dicN['employment']\n",
    "    K*=dicN['N']/Scale\n",
    "    dicN['GDP']=sum(dicN['p']*(K/dicN['nu'] - np.matmul(np.transpose(dicN['Gamma']),K/dicN['nu']) ) )\n",
    "\n",
    "# GDP\n",
    "else:\n",
    "    GDPN = sum(dicN['p']*(K/dicN['nu'] - np.matmul(np.transpose(dicN['Gamma']),K/dicN['nu']) ) ) #nominal GDP\n",
    "    K*= dicN['GDP']/GDPN\n",
    "    dicN['N'] = np.sum(K/dicN['a'])/dicN['employment']\n",
    "\n",
    "print('Capital',K)"
   ]
  },
  {
   "cell_type": "code",
   "execution_count": 55,
   "metadata": {},
   "outputs": [],
   "source": [
    "# Monosectoral\n",
    "Gamma = np.array([0.1])\n",
    "Xi = np.array([1. ])\n",
    "Cpond = np.array([1.]) \n",
    "delta = np.array([0.05])\n",
    "nu =np.array([3. ])\n",
    "p = np.array([1.])\n",
    "w=np.array([.6])\n"
   ]
  },
  {
   "cell_type": "code",
   "execution_count": 124,
   "metadata": {},
   "outputs": [
    {
     "name": "stdout",
     "output_type": "stream",
     "text": [
      "[1.27364185 0.17907445 0.38631791] [-0.00057488 -0.00160966  0.00019163]\n"
     ]
    },
    {
     "name": "stderr",
     "output_type": "stream",
     "text": [
      "c:\\ProgramData\\Anaconda3\\envs\\py3.11\\Lib\\site-packages\\scipy\\optimize\\_minpack_py.py:175: RuntimeWarning: The iteration is not making good progress, as measured by the \n",
      "  improvement from the last ten iterations.\n",
      "  warnings.warn(msg, RuntimeWarning)\n"
     ]
    }
   ],
   "source": [
    "# TYPICAL 3-SECTORAL\n",
    "from scipy.optimize import fsolve\n",
    "\n",
    "Gamma = np.array([  [0,.1,0],\n",
    "                    [0,.1,0],\n",
    "                    [0,.1,0]])\n",
    "Xi    = np.array([  [0,0,1],\n",
    "                    [0,0,1],\n",
    "                    [0,0,1]])\n",
    "Cpond = np.array([1,0,0])\n",
    "delta = np.array([0.05,0.05,0.05])\n",
    "nu    = np.array([3.,3.,3.])\n",
    "p     = np.array([1.05,1.,1.])\n",
    "a     = np.array([3,2,1])\n",
    "w     = np.array([0.4,0.5,.6])  \n",
    "Kini = np.array([1.,1.,1.])\n",
    "employment = .9\n",
    "\n",
    "K = fsolve(dotV_for_K,Kini,args=[Gamma,Xi,Cpond,delta,nu,p,a,w])\n",
    "L = np.sum(K/a)\n",
    "Neq = L/employment\n",
    "K/=Neq\n",
    "print(K,dotV_for_K(K,[Gamma,Xi,Cpond,delta,nu,p,a,w]))"
   ]
  },
  {
   "cell_type": "code",
   "execution_count": 129,
   "metadata": {},
   "outputs": [
    {
     "name": "stdout",
     "output_type": "stream",
     "text": [
      "[[0.32792069 0.11706981 0.0219704 ]\n",
      " [0.06907997 0.03987691 0.36557226]\n",
      " [0.01772603 0.03077198 0.19067264]]\n",
      "[1.77272727 0.29545455 0.18181818] [-0.01009051  0.02351499 -0.02652091]\n"
     ]
    }
   ],
   "source": [
    "# TYPICAL 3-SECTORAL\n",
    "from scipy.optimize import fsolve\n",
    "\n",
    "Gamma = np.array([  [0,.1,0],\n",
    "                    [0,.1,0],\n",
    "                    [0,.1,0]]) \n",
    "#Gamma = 0.1*np.random.lognormal(size=(3,3))\n",
    "#print(Gamma)\n",
    "Xi    = np.array([  [0,0,1],\n",
    "                    [0,0,1],\n",
    "                    [0,0,1]])\n",
    "                    \n",
    "Cpond = np.array([1,0,0])\n",
    "delta = np.array([0.05,0.05,0.05])\n",
    "nu    = np.array([3.,3.,3.])\n",
    "p     = np.array([1.05,1.,1.])\n",
    "a     = np.array([3,2,1])\n",
    "w     = np.array([0.4,0.5,.6])  \n",
    "Kini = np.array([1.,1.,1.])\n",
    "employment = .9\n",
    "\n",
    "K = fsolve(dotV_for_K,Kini)\n",
    "L = np.sum(K/a)\n",
    "Neq = L/employment\n",
    "K/=Neq\n",
    "print(K,dotV_for_K(K))"
   ]
  },
  {
   "cell_type": "code",
   "execution_count": 130,
   "metadata": {},
   "outputs": [
    {
     "ename": "ValueError",
     "evalue": "matmul: Input operand 1 has a mismatch in its core dimension 0, with gufunc signature (n?,k),(k,m?)->(n?,m?) (size 4 is different from 5)",
     "output_type": "error",
     "traceback": [
      "\u001b[1;31m---------------------------------------------------------------------------\u001b[0m",
      "\u001b[1;31mValueError\u001b[0m                                Traceback (most recent call last)",
      "Cell \u001b[1;32mIn[130], line 27\u001b[0m\n\u001b[0;32m     24\u001b[0m Kini  \u001b[39m=\u001b[39m np\u001b[39m.\u001b[39marray([\u001b[39m1.\u001b[39m,\u001b[39m1.\u001b[39m,\u001b[39m1.\u001b[39m,\u001b[39m1.\u001b[39m] )\n\u001b[0;32m     25\u001b[0m employment \u001b[39m=\u001b[39m \u001b[39m.9\u001b[39m\n\u001b[1;32m---> 27\u001b[0m K \u001b[39m=\u001b[39m fsolve(dotV_for_K,Kini)\n\u001b[0;32m     28\u001b[0m L \u001b[39m=\u001b[39m np\u001b[39m.\u001b[39msum(K\u001b[39m/\u001b[39ma)\n\u001b[0;32m     29\u001b[0m Neq \u001b[39m=\u001b[39m L\u001b[39m/\u001b[39memployment\n",
      "File \u001b[1;32mc:\\ProgramData\\Anaconda3\\envs\\py3.11\\Lib\\site-packages\\scipy\\optimize\\_minpack_py.py:160\u001b[0m, in \u001b[0;36mfsolve\u001b[1;34m(func, x0, args, fprime, full_output, col_deriv, xtol, maxfev, band, epsfcn, factor, diag)\u001b[0m\n\u001b[0;32m     49\u001b[0m \u001b[39m\"\"\"\u001b[39;00m\n\u001b[0;32m     50\u001b[0m \u001b[39mFind the roots of a function.\u001b[39;00m\n\u001b[0;32m     51\u001b[0m \n\u001b[1;32m   (...)\u001b[0m\n\u001b[0;32m    150\u001b[0m \n\u001b[0;32m    151\u001b[0m \u001b[39m\"\"\"\u001b[39;00m\n\u001b[0;32m    152\u001b[0m options \u001b[39m=\u001b[39m {\u001b[39m'\u001b[39m\u001b[39mcol_deriv\u001b[39m\u001b[39m'\u001b[39m: col_deriv,\n\u001b[0;32m    153\u001b[0m            \u001b[39m'\u001b[39m\u001b[39mxtol\u001b[39m\u001b[39m'\u001b[39m: xtol,\n\u001b[0;32m    154\u001b[0m            \u001b[39m'\u001b[39m\u001b[39mmaxfev\u001b[39m\u001b[39m'\u001b[39m: maxfev,\n\u001b[1;32m   (...)\u001b[0m\n\u001b[0;32m    157\u001b[0m            \u001b[39m'\u001b[39m\u001b[39mfactor\u001b[39m\u001b[39m'\u001b[39m: factor,\n\u001b[0;32m    158\u001b[0m            \u001b[39m'\u001b[39m\u001b[39mdiag\u001b[39m\u001b[39m'\u001b[39m: diag}\n\u001b[1;32m--> 160\u001b[0m res \u001b[39m=\u001b[39m _root_hybr(func, x0, args, jac\u001b[39m=\u001b[39;49mfprime, \u001b[39m*\u001b[39;49m\u001b[39m*\u001b[39;49moptions)\n\u001b[0;32m    161\u001b[0m \u001b[39mif\u001b[39;00m full_output:\n\u001b[0;32m    162\u001b[0m     x \u001b[39m=\u001b[39m res[\u001b[39m'\u001b[39m\u001b[39mx\u001b[39m\u001b[39m'\u001b[39m]\n",
      "File \u001b[1;32mc:\\ProgramData\\Anaconda3\\envs\\py3.11\\Lib\\site-packages\\scipy\\optimize\\_minpack_py.py:226\u001b[0m, in \u001b[0;36m_root_hybr\u001b[1;34m(func, x0, args, jac, col_deriv, xtol, maxfev, band, eps, factor, diag, **unknown_options)\u001b[0m\n\u001b[0;32m    224\u001b[0m \u001b[39mif\u001b[39;00m \u001b[39mnot\u001b[39;00m \u001b[39misinstance\u001b[39m(args, \u001b[39mtuple\u001b[39m):\n\u001b[0;32m    225\u001b[0m     args \u001b[39m=\u001b[39m (args,)\n\u001b[1;32m--> 226\u001b[0m shape, dtype \u001b[39m=\u001b[39m _check_func(\u001b[39m'\u001b[39;49m\u001b[39mfsolve\u001b[39;49m\u001b[39m'\u001b[39;49m, \u001b[39m'\u001b[39;49m\u001b[39mfunc\u001b[39;49m\u001b[39m'\u001b[39;49m, func, x0, args, n, (n,))\n\u001b[0;32m    227\u001b[0m \u001b[39mif\u001b[39;00m epsfcn \u001b[39mis\u001b[39;00m \u001b[39mNone\u001b[39;00m:\n\u001b[0;32m    228\u001b[0m     epsfcn \u001b[39m=\u001b[39m finfo(dtype)\u001b[39m.\u001b[39meps\n",
      "File \u001b[1;32mc:\\ProgramData\\Anaconda3\\envs\\py3.11\\Lib\\site-packages\\scipy\\optimize\\_minpack_py.py:24\u001b[0m, in \u001b[0;36m_check_func\u001b[1;34m(checker, argname, thefunc, x0, args, numinputs, output_shape)\u001b[0m\n\u001b[0;32m     22\u001b[0m \u001b[39mdef\u001b[39;00m \u001b[39m_check_func\u001b[39m(checker, argname, thefunc, x0, args, numinputs,\n\u001b[0;32m     23\u001b[0m                 output_shape\u001b[39m=\u001b[39m\u001b[39mNone\u001b[39;00m):\n\u001b[1;32m---> 24\u001b[0m     res \u001b[39m=\u001b[39m atleast_1d(thefunc(\u001b[39m*\u001b[39;49m((x0[:numinputs],) \u001b[39m+\u001b[39;49m args)))\n\u001b[0;32m     25\u001b[0m     \u001b[39mif\u001b[39;00m (output_shape \u001b[39mis\u001b[39;00m \u001b[39mnot\u001b[39;00m \u001b[39mNone\u001b[39;00m) \u001b[39mand\u001b[39;00m (shape(res) \u001b[39m!=\u001b[39m output_shape):\n\u001b[0;32m     26\u001b[0m         \u001b[39mif\u001b[39;00m (output_shape[\u001b[39m0\u001b[39m] \u001b[39m!=\u001b[39m \u001b[39m1\u001b[39m):\n",
      "Cell \u001b[1;32mIn[108], line 11\u001b[0m, in \u001b[0;36mdotV_for_K\u001b[1;34m(K)\u001b[0m\n\u001b[0;32m      8\u001b[0m Inter \u001b[39m=\u001b[39m np\u001b[39m.\u001b[39mmatmul(np\u001b[39m.\u001b[39mtranspose(Gamma),Y) \n\u001b[0;32m      9\u001b[0m C \u001b[39m=\u001b[39m Cpond\u001b[39m*\u001b[39m\u001b[39msum\u001b[39m(w\u001b[39m*\u001b[39mL)\u001b[39m/\u001b[39mp\n\u001b[1;32m---> 11\u001b[0m Pi \u001b[39m=\u001b[39m p\u001b[39m*\u001b[39mY \u001b[39m-\u001b[39m w\u001b[39m*\u001b[39mL\u001b[39m-\u001b[39m Y\u001b[39m*\u001b[39mnp\u001b[39m.\u001b[39;49mmatmul(Gamma,p)\u001b[39m/\u001b[39mp \u001b[39m-\u001b[39m delta\u001b[39m*\u001b[39mK\u001b[39m*\u001b[39m np\u001b[39m.\u001b[39mmatmul(Xi,p)\n\u001b[0;32m     12\u001b[0m Ir \u001b[39m=\u001b[39m Pi\u001b[39m/\u001b[39m(np\u001b[39m.\u001b[39mmatmul(Xi,p)) \u001b[39m+\u001b[39m K\u001b[39m*\u001b[39mdelta\n\u001b[0;32m     14\u001b[0m \u001b[39mreturn\u001b[39;00m Y \u001b[39m-\u001b[39m Inter \u001b[39m-\u001b[39m C \u001b[39m-\u001b[39m np\u001b[39m.\u001b[39mmatmul(np\u001b[39m.\u001b[39mtranspose(Xi),Ir)\n",
      "\u001b[1;31mValueError\u001b[0m: matmul: Input operand 1 has a mismatch in its core dimension 0, with gufunc signature (n?,k),(k,m?)->(n?,m?) (size 4 is different from 5)"
     ]
    }
   ],
   "source": []
  },
  {
   "cell_type": "code",
   "execution_count": null,
   "metadata": {},
   "outputs": [],
   "source": []
  }
 ],
 "metadata": {
  "kernelspec": {
   "display_name": "py3.11",
   "language": "python",
   "name": "python3"
  },
  "language_info": {
   "codemirror_mode": {
    "name": "ipython",
    "version": 3
   },
   "file_extension": ".py",
   "mimetype": "text/x-python",
   "name": "python",
   "nbconvert_exporter": "python",
   "pygments_lexer": "ipython3",
   "version": "3.11.0"
  },
  "orig_nbformat": 4,
  "vscode": {
   "interpreter": {
    "hash": "adba334501d02229fd9053440574f5ad76b726cca49f9d96143c39055f64ce1c"
   }
  }
 },
 "nbformat": 4,
 "nbformat_minor": 2
}
