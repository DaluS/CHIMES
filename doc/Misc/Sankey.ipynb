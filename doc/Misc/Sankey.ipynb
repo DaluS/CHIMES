{
 "cells": [
  {
   "cell_type": "code",
   "execution_count": 18,
   "id": "e1e72491",
   "metadata": {},
   "outputs": [
    {
     "data": {
      "text/html": [
       "\n",
       "<style>\n",
       "    div#notebook-container    { width: 99%; }\n",
       "    div#menubar-container     { width: 65%; }\n",
       "    div#maintoolbar-container { width: 99%; }\n",
       "</style>\n"
      ],
      "text/plain": [
       "<IPython.core.display.HTML object>"
      ]
     },
     "metadata": {},
     "output_type": "display_data"
    }
   ],
   "source": [
    "### THIS IS JUST FOR A MORE PRACTICAL AND FANCY NOTEBOOK\n",
    "from IPython.display import display, HTML\n",
    "\n",
    "display(HTML(data=\"\"\"\n",
    "<style>\n",
    "    div#notebook-container    { width: 99%; }\n",
    "    div#menubar-container     { width: 65%; }\n",
    "    div#maintoolbar-container { width: 99%; }\n",
    "</style>\n",
    "\"\"\"))\n",
    "##################################################\n",
    "import sys \n",
    "\n",
    "# Install all dependencies\n",
    "#!{sys.executable} -m pip install numpy scipy matplotlib pyvis \n",
    "\n",
    "# Change path as the folder adress you have put the library in \n",
    "path = \"C:\\\\Users\\\\Paul Valcke\\\\Documents\\\\GitHub\\\\GEMMES\" \n",
    "sys.path.insert(0, path)\n",
    "import pygemmes as pgm\n",
    "import plotly.graph_objects as go\n",
    "import numpy as np"
   ]
  },
  {
   "cell_type": "code",
   "execution_count": 97,
   "id": "1144ad4f",
   "metadata": {},
   "outputs": [
    {
     "name": "stdout",
     "output_type": "stream",
     "text": [
      "The following fields are defined in the model but not it the library :\n",
      "\t- size: ['Nprod']\n",
      "\t- statevar: ['ibasket', 'basket', 'W', 'philips', 'dotV', 'C', 'dotD', 'MtransactY', 'MtransactI', 'checksumI', 'xi', 'inflationMarkup', 'inflationdotV', 'PiInstant', 'piInstant', 'Iaccontability', 'TakenbyI', 'TakenbyY', 'pY', 'TransactI', 'TransactInter', 'Consumption', 'Interests', 'Wage', 'employmentlocal', 'growthK', 'reldotv', 'reloverinvest', 'rd', 'Equity', 'EquityHousehold', 'pAGG', 'GDPnomY', 'GDPnom2', 'CAGG', 'IAGG', 'VAGG', 'KAGGpass', 'KAGGact', 'HAGG', 'LAGG', 'aAGG', 'DAGG', 'omegaAGG', 'uAGG', 'nuAGG', 'deltaAGG', 'deltahAGG', 'dAGG', 'rdAGG', 'gammaAGG', 'XiAGG', 'xiAGG', 'piAGG', 'cAGG']\n",
      "\t- parameter: ['z', 'Cpond', 'mu0', 'Gamma']\n",
      "The following fields are identified as parameters :\n",
      "\t- independant : ['k0']\n",
      "\t- function of other parameters : ['phi0', 'phi1']\n",
      "The following variables are identified as auxilliary :\n",
      "\t - differential : ['time']\n",
      "\t - state variable : ['Omega', 'checksumI', 'inflationMarkup', 'inflationdotV', 'Pi', 'PiInstant', 'piInstant', 'Iaccontability', 'TakenbyI', 'TakenbyY', 'pY', 'TransactI', 'TransactInter', 'Consumption', 'Interests', 'Wage', 'employmentlocal', 'growthK', 'reldotv', 'reloverinvest', 'rd', 'Equity', 'EquityHousehold', 'pAGG', 'GDPnomY', 'GDPnom2', 'GDP', 'CAGG', 'IAGG', 'VAGG', 'KAGGpass', 'KAGGact', 'HAGG', 'LAGG', 'aAGG', 'DAGG', 'omegaAGG', 'uAGG', 'nuAGG', 'deltaAGG', 'deltahAGG', 'dAGG', 'rdAGG', 'gammaAGG', 'XiAGG', 'xiAGG', 'piAGG', 'cAGG']\n",
      "The following order has been determined for functions:\n",
      "\t- parameter: ['nt', 'phi0', 'phi1']\n",
      "\t- statevar: ['Y', 'MtransactY', 'gamma', 'omega', 'xi', 'pi', 'Pi', 'TakenbyY', 'pY', 'TransactInter', 'Interests', 'rd', 'EquityHousehold', 'GDPnomY', 'KAGGpass', 'KAGGact', 'HAGG', 'DAGG', 'uAGG', 'nuAGG', 'deltaAGG', 'deltahAGG', 'dAGG', 'rdAGG', 'gammaAGG', 'XiAGG', 'xiAGG', 'c', 'L', 'employment', 'philips', 'kappa', 'inflationMarkup', 'Wage', 'employmentlocal', 'reloverinvest', 'Equity', 'VAGG', 'LAGG', 'omegaAGG', 'piAGG', 'W', 'C', 'I', 'MtransactI', 'checksumI', 'TransactI', 'Consumption', 'CAGG', 'IAGG', 'basket', 'Omega', 'Ir', 'dotD', 'TakenbyI', 'growthK', 'pAGG', 'GDP', 'aAGG', 'cAGG', 'dotV', 'inflationdotV', 'PiInstant', 'piInstant', 'Iaccontability', 'reldotv', 'GDPnom2', 'inflation', 'ibasket']\n",
      "\t- differential: ['K', 'D', 'Dh', 'u', 'p', 'V', 'w', 'a', 'N', 'H', 'time']\n",
      "time step 118 / 200\n",
      "time step 200 / 200\n",
      "############################################################\n",
      "####################      SUMMARY       ####################\n",
      "############################################################\n",
      "Model       : CHIMES\n",
      "\n",
      "CORE for HOLISTIC INTERDISCIPLINARY MODEL assessing ECOLOGICAL SUSTAINABILITY\n",
      "\n",
      "The goal of CHIMES is :\n",
      "    * description of production with physical variables\n",
      "    * behavior of agents (price, investment) based on economic values\n",
      "    * Connexion to ecological systems through physical coupling (emissions, land use...)\n",
      "\n",
      "It integrates :\n",
      "    * N productive sector, by activity\n",
      "    * Material flow analysis integrated inside\n",
      "    * Loans dynamics for investment and cross-sector expanses\n",
      "    * Inventory fluctuations\n",
      "    * Inflation\n",
      "    * Adaptive use of capital\n",
      "\n",
      "WE ARE STILL ON A DUMMY CONSUMPTION THEORY\n",
      "IF YOU WANT A LIGHT VERSION, OPEN THE MODEL FILE AND CHANGE __AUXIN and __AGGIN\n",
      "\n",
      "More infos : https://www.overleaf.com/read/vywvyymcqwwk\n",
      "\n",
      "CHIMES :\n",
      "\n",
      "File        : C:\\Users\\Paul Valcke\\Documents\\GitHub\\GEMMES\\models\\Core\\_model_CHIMES.py\n",
      "####################       Fields       ####################\n",
      "statevar        069 ['Y', 'MtransactY', 'gamma', 'omega', 'xi', 'pi', 'Pi', 'TakenbyY', 'pY', 'TransactInter', 'Interests', 'rd', 'EquityHousehold', 'GDPnomY', 'KAGGpass', 'KAGGact', 'HAGG', 'DAGG', 'uAGG', 'nuAGG', 'deltaAGG', 'deltahAGG', 'dAGG', 'rdAGG', 'gammaAGG', 'XiAGG', 'xiAGG', 'c', 'L', 'employment', 'philips', 'kappa', 'inflationMarkup', 'Wage', 'employmentlocal', 'reloverinvest', 'Equity', 'VAGG', 'LAGG', 'omegaAGG', 'piAGG', 'W', 'C', 'I', 'MtransactI', 'checksumI', 'TransactI', 'Consumption', 'CAGG', 'IAGG', 'basket', 'Omega', 'Ir', 'dotD', 'TakenbyI', 'growthK', 'pAGG', 'GDP', 'aAGG', 'cAGG', 'dotV', 'inflationdotV', 'PiInstant', 'piInstant', 'Iaccontability', 'reldotv', 'GDPnom2', 'inflation', 'ibasket']\n",
      "differential    011 ['K', 'D', 'Dh', 'u', 'p', 'V', 'w', 'a', 'N', 'H', 'time']\n",
      "parameters      028 ['k0', 'phi0', 'phi1', 'Nprod', 'alpha', 'n', 'phinull', 'r', 'z', 'Cpond', 'mu0', 'delta', 'deltah', 'sigma', 'gammai', 'eta', 'chi', 'b', 'nu', 'Gamma', 'Xi', 'rho']\n",
      "####################      Presets       ####################\n",
      "        MonoSectoral    : A monosectoral system that behaves just as a Goodwin\n",
      "         Bisectoral     : Two sectors : one producing consumption good, one for capital goods.Converging run starting for VERY far from equilibrium\n",
      "        Trisectoral     : Three sectors : Consumption, investment, intermediary.\n",
      "####################       Flags        ####################\n",
      "run            : True\n",
      "cycles         : False\n",
      "derivative     : False\n",
      "multisectoral  : True\n",
      "solver         : eRK4-homemade\n",
      "####################    Time vector     ####################\n",
      "Tmax                20                  Total simulated time\n",
      "Tini                0                   Initial time for simulations\n",
      "dt                  0.1                 solver timestep\n",
      "nt                  200                 Number of timestep\n",
      "####################     Dimensions     ####################\n",
      "Nprod               3                   No definition\n",
      "nx                  1                   Number of system in parrallel\n",
      "nr                  1                   Number of regions interconnected\n",
      "\n",
      "\n",
      "############################################################\n",
      "####################       fields       ####################\n",
      "############################################################\n",
      "Model param.  sector        value  units      group               definition                                    \n",
      "------------  ------------  -----  ---------  ------------------  ----------------------------------------------\n",
      "alpha         .             0.02   y^{-1}     Household           Rate of productivity increase                 \n",
      "n             .             0.025  y^{-1}     Household           Rate of population growth                     \n",
      "phinull       .             0.1               Salary Negociation  Unemployment rate with no salary increase     \n",
      "r             .             0.03   y^{-1}     Debt                Interest on debt                              \n",
      "z             Consumption   1.0    undefined                      local wage ponderation                        \n",
      "z             Capital       0.3    undefined                      local wage ponderation                        \n",
      "z             Intermediate  0.7    undefined                      local wage ponderation                        \n",
      "Cpond         Consumption   1      undefined                      part of salary into consumption of the product\n",
      "Cpond         Capital       0      undefined                      part of salary into consumption of the product\n",
      "Cpond         Intermediate  0      undefined                      part of salary into consumption of the product\n",
      "mu0           Consumption   1.2    undefined                                                                    \n",
      "mu0           Capital       1.2    undefined                                                                    \n",
      "mu0           Intermediate  1.2    undefined                                                                    \n",
      "delta         Consumption   0.05   y^{-1}     Production          Rate of capital depletion                     \n",
      "delta         Capital       0.05   y^{-1}     Production          Rate of capital depletion                     \n",
      "delta         Intermediate  0.05   y^{-1}     Production          Rate of capital depletion                     \n",
      "deltah        Consumption   0.05   y^{-1}     Consumption         possessions deterioration rate                \n",
      "deltah        Capital       0.0    y^{-1}     Consumption         possessions deterioration rate                \n",
      "deltah        Intermediate  0.0    y^{-1}     Consumption         possessions deterioration rate                \n",
      "sigma         Consumption   1      y^{-1}     Production          rate of use adjustment                        \n",
      "sigma         Capital       5      y^{-1}     Production          rate of use adjustment                        \n",
      "sigma         Intermediate  5      y^{-1}     Production          rate of use adjustment                        \n",
      "gammai        .             0.0               Production          inflation awareness                           \n",
      "eta           Consumption   0.3    y^{-1}     Prices              timerate of price adjustment                  \n",
      "eta           Capital       0.3    y^{-1}     Prices              timerate of price adjustment                  \n",
      "eta           Intermediate  0.3    y^{-1}     Prices              timerate of price adjustment                  \n",
      "chi           Consumption   1      y^{-1}     Prices              inflation rate on inventory                   \n",
      "chi           Capital       1      y^{-1}     Prices              inflation rate on inventory                   \n",
      "chi           Intermediate  1      y^{-1}     Prices              inflation rate on inventory                   \n",
      "b             Consumption   1.0               Production          part of capital in prod intensity             \n",
      "b             Capital       1.0               Production          part of capital in prod intensity             \n",
      "b             Intermediate  1.0               Production          part of capital in prod intensity             \n",
      "nu            Consumption   3.0               Production          Kapital to output ratio                       \n",
      "nu            Capital       3.0               Production          Kapital to output ratio                       \n",
      "nu            Intermediate  3.0               Production          Kapital to output ratio                       \n",
      "k0            .             1.0               Investment          GDP share investedat zeroprofit (expo)        \n",
      "\n",
      "differential  sector        source                            initial  final   units                     definition                            comment                         Auxilliary\n",
      "------------  ------------  --------------------------------  -------  ------  ------------------------  ------------------------------------  ------------------------------  ----------\n",
      "K             Consumption   Ir-delta*u*K,                     5.014    16.125  units                     Productive capital in physical units  depreciation proportional to u  False     \n",
      "K             Capital       Ir-delta*u*K,                     2.796    7.355   units                     Productive capital in physical units  depreciation proportional to u  False     \n",
      "K             Intermediate  Ir-delta*u*K,                     1.000    2.923   units                     Productive capital in physical units  depreciation proportional to u  False     \n",
      "D             Consumption   dotD,                             0.756    4.985   $                         Debt of local sector                  no shareholding                 False     \n",
      "D             Capital       dotD,                             -0.756   -3.541  $                         Debt of local sector                  no shareholding                 False     \n",
      "D             Intermediate  dotD,                             0.000    -1.445  $                         Debt of local sector                  no shareholding                 False     \n",
      "Dh            .             -W+sprod(p,C),                    -0.000   0.000   $                         debt of households                                                    False     \n",
      "u             Consumption   -sigma*(1-u)*dotV/V,              0.947    0.937                             use of productive capital             hardcapped at 1                 False     \n",
      "u             Capital       -sigma*(1-u)*dotV/V,              0.713    0.944                             use of productive capital             hardcapped at 1                 False     \n",
      "u             Intermediate  -sigma*(1-u)*dotV/V,              0.900    0.941                             use of productive capital             hardcapped at 1                 False     \n",
      "p             Consumption   p*inflation,                      2.360    3.126   $.Units^{-1}              price of goods                        log on markup                   False     \n",
      "p             Capital       p*inflation,                      0.797    1.340   $.Units^{-1}              price of goods                        log on markup                   False     \n",
      "p             Intermediate  p*inflation,                      1.000    2.273   $.Units^{-1}              price of goods                        log on markup                   False     \n",
      "V             Consumption   dotV,                             10.593   12.573  units                     Inventory of Goods                    dynamics in dotV                False     \n",
      "V             Capital       dotV,                             9.914    7.142   units                     Inventory of Goods                    dynamics in dotV                False     \n",
      "V             Intermediate  dotV,                             10.000   8.997   units                     Inventory of Goods                    dynamics in dotV                False     \n",
      "w             .             w*(philips+gammai*ibasket),       2.889    5.421   $.Humans^{-1}.y^{-1}      Wage value                            exogenous                       False     \n",
      "a             .             a*alpha,                          1.489    2.217   Units.Humans^{-1}.y^{-1}  Productivity                          exogenous                       False     \n",
      "N             .             N*n,                              2.467    4.057   Humans                    Population of people able to work     exogenous                       False     \n",
      "H             Consumption   C - deltah * H - matmul(rho, H),  1.338    43.710  units                     Possessions                           explicit stock-flow             False     \n",
      "H             Capital       C - deltah * H - matmul(rho, H),  0.000    0.000   units                     Possessions                           explicit stock-flow             False     \n",
      "H             Intermediate  C - deltah * H - matmul(rho, H),  0.000    0.000   units                     Possessions                           explicit stock-flow             False     \n",
      "time          .             1.,                               0.000    19.900  y                         Time vector                           dt/dt=1, time as ODE            True      \n",
      "\n",
      "statevar         sector        source                                                                 initial  final    units                     definition                                              comment                                    Auxilliary\n",
      "---------------  ------------  ---------------------------------------------------------------------  -------  -------  ------------------------  ------------------------------------------------------  -----------------------------------------  ----------\n",
      "c                Consumption   p*( omega + gamma + xi),                                               2.164    2.879    $.Units^{-1}              production price                                        explicit form                              False     \n",
      "c                Capital       p*( omega + gamma + xi),                                               0.837    1.209    $.Units^{-1}              production price                                        explicit form                              False     \n",
      "c                Intermediate  p*( omega + gamma + xi),                                               1.578    2.140    $.Units^{-1}              production price                                        explicit form                              False     \n",
      "inflation        Consumption   eta * np.log(mu0 * c / p) - chi * dotV / V,                            0.035    0.032    y^{-1}                    inflation rate                                          costpush and inventoryvariation            False     \n",
      "inflation        Capital       eta * np.log(mu0 * c / p) - chi * dotV / V,                            0.054    0.037    y^{-1}                    inflation rate                                          costpush and inventoryvariation            False     \n",
      "inflation        Intermediate  eta * np.log(mu0 * c / p) - chi * dotV / V,                            0.187    0.027    y^{-1}                    inflation rate                                          costpush and inventoryvariation            False     \n",
      "ibasket          .             sprod(inflation,basket),                                               0.035    0.032    y^{-1}                    basket of good inflation                                deduced from the basket                    False     \n",
      "basket           Consumption   p*C/sprod(p,C),                                                        1.000    1.000                              weight in consumption basket                            cannot be non-auxilliary                   False     \n",
      "basket           Capital       p*C/sprod(p,C),                                                        0.000    0.000                              weight in consumption basket                            cannot be non-auxilliary                   False     \n",
      "basket           Intermediate  p*C/sprod(p,C),                                                        0.000    0.000                              weight in consumption basket                            cannot be non-auxilliary                   False     \n",
      "W                .             sprod(w*z,L)-r*Dh,                                                     3.866    15.587   $.y^{-1}                  Total income of household                               no shareholding, no bank possession        False     \n",
      "Omega            .             (W/N)/(sprod(basket,p)) ,                                              0.664    1.229    Units.Humans^{-1}.y^{-1}  MONOSECTORAL Percieved purchasing power                 no shareholding, no bank possession        True      \n",
      "L                Consumption   Y/(a*(2-b)),                                                           1.063    2.272    Humans                    Workers                                                 instant recruitment on leontiev            False     \n",
      "L                Capital       Y/(a*(2-b)),                                                           0.446    1.044    Humans                    Workers                                                 instant recruitment on leontiev            False     \n",
      "L                Intermediate  Y/(a*(2-b)),                                                           0.201    0.414    Humans                    Workers                                                 instant recruitment on leontiev            False     \n",
      "employment       .             ssum(L)/N,                                                             0.693    0.919                              employment rate                                         Calculation with L                         False     \n",
      "philips          .             -phi0 + phi1 / (1 - employment)**2,                                    -0.090   0.055    y^{-1}                    No definition                                           diverging (force omega \\leq 1)             False     \n",
      "dotV             Consumption   Y - matmul(transpose(Gamma), Y) - C - matmul(transpose(Xi), Ir),       -0.071   -0.024   Units.y^{-1}              temporal variation of inventory                         stock-flow                                 False     \n",
      "dotV             Capital       Y - matmul(transpose(Gamma), Y) - C - matmul(transpose(Xi), Ir),       0.153    -0.097   Units.y^{-1}              temporal variation of inventory                         stock-flow                                 False     \n",
      "dotV             Intermediate  Y - matmul(transpose(Gamma), Y) - C - matmul(transpose(Xi), Ir),       0.045    0.090    Units.y^{-1}              temporal variation of inventory                         stock-flow                                 False     \n",
      "Y                Consumption   u*K*b/nu,                                                              1.583    5.037    Units.y^{-1}              GDP in output quantity                                  Leontiev with variable use                 False     \n",
      "Y                Capital       u*K*b/nu,                                                              0.664    2.315    Units.y^{-1}              GDP in output quantity                                  Leontiev with variable use                 False     \n",
      "Y                Intermediate  u*K*b/nu,                                                              0.300    0.917    Units.y^{-1}              GDP in output quantity                                  Leontiev with variable use                 False     \n",
      "Ir               Consumption   I/matmul(Xi,p),                                                        0.588    1.555    Units.y^{-1}              Number of real unit from investment                     deduced from monetary investment           False     \n",
      "Ir               Capital       I/matmul(Xi,p),                                                        0.096    0.596    Units.y^{-1}              Number of real unit from investment                     deduced from monetary investment           False     \n",
      "Ir               Intermediate  I/matmul(Xi,p),                                                        -0.173   0.261    Units.y^{-1}              Number of real unit from investment                     deduced from monetary investment           False     \n",
      "C                Consumption   Cpond*W/p,                                                             1.638    4.986    Units.y^{-1}              flux of goods for household                             Consumption as full salary                 False     \n",
      "C                Capital       Cpond*W/p,                                                             0.000    0.000    Units.y^{-1}              flux of goods for household                             Consumption as full salary                 False     \n",
      "C                Intermediate  Cpond*W/p,                                                             0.000    0.000    Units.y^{-1}              flux of goods for household                             Consumption as full salary                 False     \n",
      "dotD             Consumption   Debtvariation                                                          -0.167   -0.075   $.y^{-1}                  debt variation                                                                                     False     \n",
      "dotD             Capital       Debtvariation                                                          0.122    -0.130   $.y^{-1}                  debt variation                                                                                     False     \n",
      "dotD             Intermediate  Debtvariation                                                          0.045    0.205    $.y^{-1}                  debt variation                                                                                     False     \n",
      "I                Consumption   p*Y*(kappa+xi),                                                        0.483    2.133    $.y^{-1}                  monetary investment                                     explicit monetary flux                     False     \n",
      "I                Capital       p*Y*(kappa+xi),                                                        0.099    0.984    $.y^{-1}                  monetary investment                                     explicit monetary flux                     False     \n",
      "I                Intermediate  p*Y*(kappa+xi),                                                        -0.137   0.350    $.y^{-1}                  monetary investment                                     explicit monetary flux                     False     \n",
      "checksumI        Consumption   I - ssum2(MtransactI),                                                 0.000    -0.000   undefined                 should be zero                                          No comment                                 True      \n",
      "checksumI        Capital       I - ssum2(MtransactI),                                                 0.000    0.000    undefined                 should be zero                                          No comment                                 True      \n",
      "checksumI        Intermediate  I - ssum2(MtransactI),                                                 0.000    0.000    undefined                 should be zero                                          No comment                                 True      \n",
      "kappa            Consumption   k0*pi,                                                                 0.077    0.070                              Part of GDP in investment                               LINEAR KAPPA FUNCTION                      False     \n",
      "kappa            Capital       k0*pi,                                                                 -0.008   0.132                              Part of GDP in investment                               LINEAR KAPPA FUNCTION                      False     \n",
      "kappa            Intermediate  k0*pi,                                                                 -0.578   0.079                              Part of GDP in investment                               LINEAR KAPPA FUNCTION                      False     \n",
      "gamma            Consumption   matmul(Gamma,p)/p,                                                     0.042    0.073                              share of intermediary consumption                       raw definition                             False     \n",
      "gamma            Capital       matmul(Gamma,p)/p,                                                     0.125    0.170                              share of intermediary consumption                       raw definition                             False     \n",
      "gamma            Intermediate  matmul(Gamma,p)/p,                                                     0.100    0.100                              share of intermediary consumption                       raw definition                             False     \n",
      "omega            Consumption   z*b*w/(p*a*(2-b)),                                                     0.822    0.782                              wage share                                              raw def                                    False     \n",
      "omega            Capital       z*b*w/(p*a*(2-b)),                                                     0.731    0.547                              wage share                                              raw def                                    False     \n",
      "omega            Intermediate  z*b*w/(p*a*(2-b)),                                                     1.358    0.753                              wage share                                              raw def                                    False     \n",
      "xi               Consumption   (delta * nu / b) * matmul(Xi, p) / p,                                  0.052    0.066                              relative capex weight                                   explicit calculation                       False     \n",
      "xi               Capital       (delta * nu / b) * matmul(Xi, p) / p,                                  0.194    0.185                              relative capex weight                                   explicit calculation                       False     \n",
      "xi               Intermediate  (delta * nu / b) * matmul(Xi, p) / p,                                  0.120    0.088                              relative capex weight                                   explicit calculation                       False     \n",
      "pi               Consumption   1 - omega - gamma - xi - r * D / (p * Y),                              0.077    0.070                              relative profit                                         explicit form                              False     \n",
      "pi               Capital       1 - omega - gamma - xi - r * D / (p * Y),                              -0.008   0.132                              relative profit                                         explicit form                              False     \n",
      "pi               Intermediate  1 - omega - gamma - xi - r * D / (p * Y),                              -0.578   0.079                              relative profit                                         explicit form                              False     \n",
      "inflationMarkup  Consumption   eta * np.log(mu0 * c / p),                                             0.029    0.030    y^{-1}                    No definition                                           log on markup                              True      \n",
      "inflationMarkup  Capital       eta * np.log(mu0 * c / p),                                             0.069    0.024    y^{-1}                    No definition                                           log on markup                              True      \n",
      "inflationMarkup  Intermediate  eta * np.log(mu0 * c / p),                                             0.192    0.037    y^{-1}                    No definition                                           log on markup                              True      \n",
      "inflationdotV    Consumption   - chi * dotV / V,                                                      0.007    0.002    y^{-1}                    No definition                                           price adjustment to demand-offer           True      \n",
      "inflationdotV    Capital       - chi * dotV / V,                                                      -0.015   0.014    y^{-1}                    No definition                                           price adjustment to demand-offer           True      \n",
      "inflationdotV    Intermediate  - chi * dotV / V,                                                      -0.005   -0.010   y^{-1}                    No definition                                           price adjustment to demand-offer           True      \n",
      "Pi               Consumption   Y*p*pi,                                                                0.288    1.097    $.y^{-1}                  expected Profit                                         from pi                                    True      \n",
      "Pi               Capital       Y*p*pi,                                                                -0.004   0.410    $.y^{-1}                  expected Profit                                         from pi                                    True      \n",
      "Pi               Intermediate  Y*p*pi,                                                                -0.173   0.165    $.y^{-1}                  expected Profit                                         from pi                                    True      \n",
      "PiInstant        Consumption   Pi+(c-p)*dotV,                                                         0.302    1.103    $.y^{-1}                  Profit corrected by inventory change                    Pi+(c-p)\\dot{V}                            True      \n",
      "PiInstant        Capital       Pi+(c-p)*dotV,                                                         0.002    0.423    $.y^{-1}                  Profit corrected by inventory change                    Pi+(c-p)\\dot{V}                            True      \n",
      "PiInstant        Intermediate  Pi+(c-p)*dotV,                                                         -0.147   0.153    $.y^{-1}                  Profit corrected by inventory change                    Pi+(c-p)\\dot{V}                            True      \n",
      "piInstant        Consumption   PiInstant/(p*Y),                                                       0.081    0.070                              instant relative profit                                 from PiInstant                             True      \n",
      "piInstant        Capital       PiInstant/(p*Y),                                                       0.004    0.136                              instant relative profit                                 from PiInstant                             True      \n",
      "piInstant        Intermediate  PiInstant/(p*Y),                                                       -0.491   0.074                              instant relative profit                                 from PiInstant                             True      \n",
      "Iaccontability   Consumption   I-p*Y*xi+c*dotV,                                                       0.135    1.028    $.y^{-1}                  No definition                                           corrected I                                True      \n",
      "Iaccontability   Capital       I-p*Y*xi+c*dotV,                                                       0.124    0.293    $.y^{-1}                  No definition                                           corrected I                                True      \n",
      "Iaccontability   Intermediate  I-p*Y*xi+c*dotV,                                                       -0.102   0.358    $.y^{-1}                  No definition                                           corrected I                                True      \n",
      "TakenbyI         Consumption   matmul(transpose(Xi), Ir),                                             0.015    0.075    Units.y^{-1}              physical flux removed through investment                definition                                 True      \n",
      "TakenbyI         Capital       matmul(transpose(Xi), Ir),                                             0.511    2.412    Units.y^{-1}              physical flux removed through investment                definition                                 True      \n",
      "TakenbyI         Intermediate  matmul(transpose(Xi), Ir),                                             0.000    0.000    Units.y^{-1}              physical flux removed through investment                definition                                 True      \n",
      "TakenbyY         Consumption   matmul(transpose(Gamma), Y),                                           0.000    0.000    Units.y^{-1}              physical flux removed through intermediary consumption  definition                                 True      \n",
      "TakenbyY         Capital       matmul(transpose(Gamma), Y),                                           0.000    0.000    Units.y^{-1}              physical flux removed through intermediary consumption  definition                                 True      \n",
      "TakenbyY         Intermediate  matmul(transpose(Gamma), Y),                                           0.255    0.827    Units.y^{-1}              physical flux removed through intermediary consumption  definition                                 True      \n",
      "pY               Consumption   p * Y,                                                                 3.735    15.746   $.y^{-1}                  Brut nominal output                                                                                True      \n",
      "pY               Capital       p * Y,                                                                 0.529    3.103    $.y^{-1}                  Brut nominal output                                                                                True      \n",
      "pY               Intermediate  p * Y,                                                                 0.300    2.085    $.y^{-1}                  Brut nominal output                                                                                True      \n",
      "TransactI        Consumption   ssum2(MtransactI)-ssum2(transpose(MtransactI)),                        0.446    1.898    $.y^{-1}                  Net money flux from investment                          component of dotD                          True      \n",
      "TransactI        Capital       ssum2(MtransactI)-ssum2(transpose(MtransactI)),                        -0.309   -2.248   $.y^{-1}                  Net money flux from investment                          component of dotD                          True      \n",
      "TransactI        Intermediate  ssum2(MtransactI)-ssum2(transpose(MtransactI)),                        -0.137   0.350    $.y^{-1}                  Net money flux from investment                          component of dotD                          True      \n",
      "TransactInter    Consumption   ssum2(MtransactY)-ssum2(transpose(MtransactY)),                        0.158    1.145    $.y^{-1}                  Net money flux from intermediary consumption            component of dotD                          True      \n",
      "TransactInter    Capital       ssum2(MtransactY)-ssum2(transpose(MtransactY)),                        0.066    0.526    $.y^{-1}                  Net money flux from intermediary consumption            component of dotD                          True      \n",
      "TransactInter    Intermediate  ssum2(MtransactY)-ssum2(transpose(MtransactY)),                        -0.225   -1.671   $.y^{-1}                  Net money flux from intermediary consumption            component of dotD                          True      \n",
      "Consumption      Consumption   -p * C,                                                                -3.866   -15.587  $.y^{-1}                  Consumption in monetary value                           Just to check                              True      \n",
      "Consumption      Capital       -p * C,                                                                -0.000   -0.000   $.y^{-1}                  Consumption in monetary value                           Just to check                              True      \n",
      "Consumption      Intermediate  -p * C,                                                                -0.000   -0.000   $.y^{-1}                  Consumption in monetary value                           Just to check                              True      \n",
      "Interests        Consumption   r * D,                                                                 0.023    0.150    $.y^{-1}                  interest volume                                         Just to check                              True      \n",
      "Interests        Capital       r * D,                                                                 -0.023   -0.106   $.y^{-1}                  interest volume                                         Just to check                              True      \n",
      "Interests        Intermediate  r * D,                                                                 0.000    -0.043   $.y^{-1}                  interest volume                                         Just to check                              True      \n",
      "Wage             Consumption   w * z * L,                                                             3.072    12.318   $.y^{-1}                  local salaries                                          Just to check                              True      \n",
      "Wage             Capital       w * z * L,                                                             0.387    1.698    $.y^{-1}                  local salaries                                          Just to check                              True      \n",
      "Wage             Intermediate  w * z * L,                                                             0.407    1.570    $.y^{-1}                  local salaries                                          Just to check                              True      \n",
      "employmentlocal  Consumption   L / N,                                                                 0.431    0.560                              part of population working in sector                    raw def                                    True      \n",
      "employmentlocal  Capital       L / N,                                                                 0.181    0.257                              part of population working in sector                    raw def                                    True      \n",
      "employmentlocal  Intermediate  L / N,                                                                 0.082    0.102                              part of population working in sector                    raw def                                    True      \n",
      "growthK          Consumption   Ir / K - u * delta,                                                    0.070    0.050    y^{-1}                    growth rate of capital                                  no u variation                             True      \n",
      "growthK          Capital       Ir / K - u * delta,                                                    -0.001   0.034    y^{-1}                    growth rate of capital                                  no u variation                             True      \n",
      "growthK          Intermediate  Ir / K - u * delta,                                                    -0.218   0.042    y^{-1}                    growth rate of capital                                  no u variation                             True      \n",
      "reldotv          Consumption   (c - p) * dotV / (p * Y),                                              0.004    0.000                              relative budget weight of inventory change              calculated as inventorycost on production  True      \n",
      "reldotv          Capital       (c - p) * dotV / (p * Y),                                              0.012    0.004                              relative budget weight of inventory change              calculated as inventorycost on production  True      \n",
      "reldotv          Intermediate  (c - p) * dotV / (p * Y),                                              0.087    -0.006                             relative budget weight of inventory change              calculated as inventorycost on production  True      \n",
      "reloverinvest    Consumption   pi - kappa,                                                            0.000    0.000                              relative overinstment of the budget                     difference between kappa and pi            True      \n",
      "reloverinvest    Capital       pi - kappa,                                                            0.000    0.000                              relative overinstment of the budget                     difference between kappa and pi            True      \n",
      "reloverinvest    Intermediate  pi - kappa,                                                            0.000    0.000                              relative overinstment of the budget                     difference between kappa and pi            True      \n",
      "rd               Consumption   r * D / (p * Y),                                                       0.006    0.009                              relative weight debt                                    deduced from D                             True      \n",
      "rd               Capital       r * D / (p * Y),                                                       -0.043   -0.034                             relative weight debt                                    deduced from D                             True      \n",
      "rd               Intermediate  r * D / (p * Y),                                                       0.000    -0.021                             relative weight debt                                    deduced from D                             True      \n",
      "Equity           Consumption   sprod(K,matmul(Xi,p))+sprod(c,V)-D,                                    54.037   97.290   $                         per sector equity                                       No comment                                 True      \n",
      "Equity           Capital       sprod(K,matmul(Xi,p))+sprod(c,V)-D,                                    55.549   105.816  $                         per sector equity                                       No comment                                 True      \n",
      "Equity           Intermediate  sprod(K,matmul(Xi,p))+sprod(c,V)-D,                                    54.793   103.720  $                         per sector equity                                       No comment                                 True      \n",
      "EquityHousehold  .             sprod(H,p)+Dh,                                                         3.158    136.642  $                         Household equity                                        No comment                                 True      \n",
      "pAGG             .             sprod(p,basket),                                                       2.360    3.126                              price deflator                                          No comment                                 True      \n",
      "GDPnomY          .             sprod(p,Y-matmul(transpose(Gamma),Y)),                                 4.310    19.054   $.y^{-1}                  nominal expected GDP                                    calculated on Y                            True      \n",
      "GDPnom2          .             sprod(C,p)+ssum(I)+sprod(c,dotV),                                      4.356    19.061   $.y^{-1}                  Inventory accountability nominal GDP                    calculated on C+I+cdotV                    True      \n",
      "GDP              .             GDPnomY/pAGG ,                                                         1.826    6.095    y^{-1}                    deflated expected GDP                                   GDP on production deflated                 True      \n",
      "CAGG             .             sprod(p,C) ,                                                           3.866    15.587   $.y^{-1}                  No definition                                           Nominal consumption                        True      \n",
      "IAGG             .             ssum(I) ,                                                              0.444    3.467    $.y^{-1}                  No definition                                           nominal investment                         True      \n",
      "VAGG             .             sprod(V,c),                                                            46.995   64.083   $.y^{-1}                  No definition                                           nominal inventory                          True      \n",
      "KAGGpass         .             sprod(matmul(Xi,p),K) ,                                                7.798    38.193   $                         nominal passive capital value                           capital value on its creation              True      \n",
      "KAGGact          .             sprod(p/(nu*delta), K),                                                100.400  446.076  $                         nominal active capital value                            capital value on its potential production  True      \n",
      "HAGG             .             sprod(H,p),                                                            3.158    136.642  $                         nominal household possessions                           No comment                                 True      \n",
      "LAGG             .             ssum(L) ,                                                              1.711    3.730    Humans                    total workers                                           No comment                                 True      \n",
      "aAGG             .             GDP/LAGG,                                                              1.068    1.634    Humans^{-1}.y^{-1}        aggregated productivity                                 No comment                                 True      \n",
      "DAGG             .             ssum(D),                                                               0.000    -0.000   $                         sum of private debt                                     No comment                                 True      \n",
      "omegaAGG         .             sprod(w*z,L)/GDPnomY  ,                                                0.897    0.818                              aggregated wage share                                   No comment                                 True      \n",
      "uAGG             .             sprod(u,K*b/nu)/sprod(K,b/nu),                                         0.867    0.940                              agregated use rate of capital                           No comment                                 True      \n",
      "nuAGG            .             KAGGpass/GDPnomY ,                                                     1.810    2.004    y                         agregated return on capital                             On active capital                          True      \n",
      "deltaAGG         .             sprod(delta,matmul(Xi,p)*K)/KAGGpass ,                                 0.050    0.050    y^{-1}                    agregated capital degradation rate                      No comment                                 True      \n",
      "deltahAGG        .             sprod(p,deltah*H+matmul(rho,H))/sprod(p,H) ,                           0.050    0.050    y^{-1}                    agregated possessions degradation rate                  No comment                                 True      \n",
      "dAGG             .             ssum(D)/GDPnomY ,                                                      0.000    -0.000   y                         relative agregated debt                                 on YGDP                                    True      \n",
      "rdAGG            .             r*ssum(D) / GDPnomY,                                                   0.000    -0.000                             relative private debt weight                            on YGDP                                    True      \n",
      "gammaAGG         .             sprod(p,matmul(transpose(Gamma),Y))/sprod(p,Y),                        0.056    0.090                              agregated part of intermediary consumption              No comment                                 True      \n",
      "XiAGG            .             sprod(p ,matmul(transpose(Xi),Y)*nu*delta/b)/sprod(p ,Y*nu*delta/b) ,  0.487    0.572                              agregated relative size of capital                      No comment                                 True      \n",
      "xiAGG            .             deltaAGG*nuAGG*XiAGG,                                                  0.044    0.057                              aggregated relative weight of capital destruction       No comment                                 True      \n",
      "piAGG            .             1-omegaAGG-gammaAGG-xiAGG-r*dAGG,                                      0.003    0.035                              aggregated relative profit                              on expected                                True      \n",
      "cAGG             .             (omegaAGG+gammaAGG+xiAGG)* pAGG ,                                      2.352    3.017    $                         aggregated relative cost                                No comment                                 True      \n",
      "\n",
      "name : MtransactY, units : $.y^{-1}\n",
      "              |  Consumption  Capital  Intermediate\n",
      "------------  -  -----------  -------  ------------\n",
      "Consumption   |  0.00         0.00     0.16        \n",
      "Capital       |  0.00         0.00     0.07        \n",
      "Intermediate  |  0.00         0.00     0.03        \n",
      "\n",
      "name : MtransactI, units : $.y^{-1}\n",
      "              |  Consumption  Capital  Intermediate\n",
      "------------  -  -----------  -------  ------------\n",
      "Consumption   |  0.01         0.47     0.00        \n",
      "Capital       |  0.02         0.08     0.00        \n",
      "Intermediate  |  -0.00        -0.14    -0.00       \n",
      "\n"
     ]
    },
    {
     "name": "stdout",
     "output_type": "stream",
     "text": [
      "name : Gamma, units : \n",
      "              |  Consumption  Capital  Intermediate\n",
      "------------  -  -----------  -------  ------------\n",
      "Consumption   |  0.00         0.00     0.10        \n",
      "Capital       |  0.00         0.00     0.10        \n",
      "Intermediate  |  0.00         0.00     0.10        \n",
      "\n",
      "name : Xi, units : \n",
      "              |  Consumption  Capital  Intermediate\n",
      "------------  -  -----------  -------  ------------\n",
      "Consumption   |  0.01         1.00     0.00        \n",
      "Capital       |  0.10         1.00     0.00        \n",
      "Intermediate  |  0.00         1.00     0.00        \n",
      "\n",
      "name : rho, units : y^{-1}\n",
      "              |  Consumption  Capital  Intermediate\n",
      "------------  -  -----------  -------  ------------\n",
      "Consumption   |  0.00         0.00     1.00        \n",
      "Capital       |  0.00         0.00     1.00        \n",
      "Intermediate  |  0.00         0.00     1.00        \n"
     ]
    }
   ],
   "source": [
    "hub=pgm.Hub('CHIMES',preset='Trisectoral')\n",
    "hub.run()\n",
    "hub.get_summary()"
   ]
  },
  {
   "cell_type": "code",
   "execution_count": 119,
   "id": "2fa6512a",
   "metadata": {},
   "outputs": [
    {
     "name": "stdout",
     "output_type": "stream",
     "text": [
      "0 MtransactI\n",
      "1 MtransactY\n",
      "0 0 0.013880846264607451 MtransactI\n",
      "1 0 0.46874919787990177 MtransactI\n",
      "2 0 0.0 MtransactI\n",
      "0 1 0.022589411041842693 MtransactI\n",
      "1 1 0.07628330509964486 MtransactI\n",
      "2 1 0.0 MtransactI\n",
      "0 2 -0.0 MtransactI\n",
      "1 2 -0.13749494035315432 MtransactI\n",
      "2 2 -0.0 MtransactI\n",
      "0 0 0.0 MtransactY\n",
      "1 0 0.0 MtransactY\n",
      "2 0 0.15828959057979086 MtransactY\n",
      "0 1 0.0 MtransactY\n",
      "1 1 0.0 MtransactY\n",
      "2 1 0.0664120915035692 MtransactY\n",
      "0 2 0.0 MtransactY\n",
      "1 2 0.0 MtransactY\n",
      "2 2 0.03 MtransactY\n",
      "3 0 3.865637066621232 Consumption\n",
      "3 1 0.0 Consumption\n",
      "3 2 0.0 Consumption\n",
      "0 3 3.0715336796112904 Wages\n",
      "1 3 0.386608446656788 Wages\n",
      "2 3 0.40749494035315426 Wages\n"
     ]
    }
   ],
   "source": [
    "colors0 = [\n",
    "'#808B96', \n",
    "'#EC7063', '#F7DC6F', '#48C9B0', '#AF7AC5',\n",
    "'#EC7063', '#EC7063',\n",
    "'#F7DC6F', '#F7DC6F',\n",
    "'#48C9B0', '#48C9B0', '#48C9B0', '#48C9B0', '#48C9B0', '#48C9B0',\n",
    "'#AF7AC5', '#AF7AC5', '#AF7AC5']\n",
    "listX=['MtransactI','MtransactY']\n",
    "nx=0\n",
    "region=0\n",
    "ntindex=0 \n",
    "R=hub.get_dparam()\n",
    "\n",
    "source=[]\n",
    "target=[]\n",
    "value= []\n",
    "label=[]\n",
    "colors=[]\n",
    "linklabel=[]\n",
    "\n",
    "\n",
    "for index,X in enumerate(listX):\n",
    "    print(index,X)\n",
    "    d0=R[X]\n",
    "    values = d0['value'][ntindex,nx,region,:,:].reshape(-1)\n",
    "    names = R[d0['size'][0]]['list']\n",
    "    sectintdex=np.arange(len(names))\n",
    "\n",
    "    XX,YY=np.meshgrid(sectintdex,sectintdex)\n",
    "    XX=XX.astype(int).reshape(-1)\n",
    "    YY=YY.astype(int).reshape(-1)\n",
    "    Ntot=len(XX)\n",
    "    \n",
    "    source.extend(XX)\n",
    "    target.extend(YY)\n",
    "    value.extend(values)\n",
    "    colors.extend([colors0[index] for i in range(len(XX))])\n",
    "    linklabel.extend([X for i in range(len(XX))])\n",
    "    label = label+list(set(names)-set(label))\n",
    "\n",
    "#Consumption vector \n",
    "Cv=R['Consumption']['value'][ntindex,nx,region,:,0]\n",
    "target.extend(np.arange(len(Cv)))\n",
    "source.extend([source[-1]+1]*len(Cv))\n",
    "value.extend(-Cv)\n",
    "colors.extend([colors0[index+1] for i in range(len(Cv))])\n",
    "linklabel.extend(['Consumption'for i in range(len(Cv))])\n",
    "\n",
    "#Salaries \n",
    "W=R['Wage']['value'][ntindex,nx,region,:,0]\n",
    "source.extend(np.arange(len(W)))\n",
    "target.extend([source[-1]+1]*len(W))\n",
    "value.extend(W)\n",
    "colors.extend([colors0[index+2] for i in range(len(W))])\n",
    "linklabel.extend(['Wages' for i in range(len(W))])\n",
    "\n",
    "for i in range(len(target)):\n",
    "    print(source[i],target[i],value[i],linklabel[i])\n",
    "\n",
    "\n",
    "source = np.array(source).reshape(-1), \n",
    "target = np.array(target).reshape(-1), \n",
    "value = np.array(value).reshape(-1)"
   ]
  },
  {
   "cell_type": "code",
   "execution_count": 120,
   "id": "636d9a99",
   "metadata": {},
   "outputs": [
    {
     "data": {
      "application/vnd.plotly.v1+json": {
       "config": {
        "plotlyServerURL": "https://plot.ly"
       },
       "data": [
        {
         "link": {
          "color": [
           "#808B96",
           "#808B96",
           "#808B96",
           "#808B96",
           "#808B96",
           "#808B96",
           "#808B96",
           "#808B96",
           "#808B96",
           "#EC7063",
           "#EC7063",
           "#EC7063",
           "#EC7063",
           "#EC7063",
           "#EC7063",
           "#EC7063",
           "#EC7063",
           "#EC7063",
           "#F7DC6F",
           "#F7DC6F",
           "#F7DC6F",
           "#48C9B0",
           "#48C9B0",
           "#48C9B0"
          ],
          "label": [
           "MtransactI",
           "MtransactI",
           "MtransactI",
           "MtransactI",
           "MtransactI",
           "MtransactI",
           "MtransactI",
           "MtransactI",
           "MtransactI",
           "MtransactY",
           "MtransactY",
           "MtransactY",
           "MtransactY",
           "MtransactY",
           "MtransactY",
           "MtransactY",
           "MtransactY",
           "MtransactY",
           "Consumption",
           "Consumption",
           "Consumption",
           "Wages",
           "Wages",
           "Wages"
          ],
          "source": [
           0,
           1,
           2,
           0,
           1,
           2,
           0,
           1,
           2,
           0,
           1,
           2,
           0,
           1,
           2,
           0,
           1,
           2,
           3,
           3,
           3,
           0,
           1,
           2
          ],
          "target": [
           0,
           0,
           0,
           1,
           1,
           1,
           2,
           2,
           2,
           0,
           0,
           0,
           1,
           1,
           1,
           2,
           2,
           2,
           0,
           1,
           2,
           3,
           3,
           3
          ],
          "value": [
           0.013880846264607451,
           0.46874919787990177,
           0,
           0.022589411041842693,
           0.07628330509964486,
           0,
           0,
           -0.13749494035315432,
           0,
           0,
           0,
           0.15828959057979086,
           0,
           0,
           0.0664120915035692,
           0,
           0,
           0.03,
           3.865637066621232,
           0,
           0,
           3.0715336796112904,
           0.386608446656788,
           0.40749494035315426
          ]
         },
         "node": {
          "label": [
           "Capital",
           "Consumption",
           "Intermediate",
           "Household"
          ],
          "pad": 50,
          "thickness": 5
         },
         "type": "sankey"
        }
       ],
       "layout": {
        "font": {
         "color": "white",
         "size": 10
        },
        "hovermode": "x",
        "paper_bgcolor": "#5B5958",
        "template": {
         "data": {
          "bar": [
           {
            "error_x": {
             "color": "#2a3f5f"
            },
            "error_y": {
             "color": "#2a3f5f"
            },
            "marker": {
             "line": {
              "color": "#E5ECF6",
              "width": 0.5
             },
             "pattern": {
              "fillmode": "overlay",
              "size": 10,
              "solidity": 0.2
             }
            },
            "type": "bar"
           }
          ],
          "barpolar": [
           {
            "marker": {
             "line": {
              "color": "#E5ECF6",
              "width": 0.5
             },
             "pattern": {
              "fillmode": "overlay",
              "size": 10,
              "solidity": 0.2
             }
            },
            "type": "barpolar"
           }
          ],
          "carpet": [
           {
            "aaxis": {
             "endlinecolor": "#2a3f5f",
             "gridcolor": "white",
             "linecolor": "white",
             "minorgridcolor": "white",
             "startlinecolor": "#2a3f5f"
            },
            "baxis": {
             "endlinecolor": "#2a3f5f",
             "gridcolor": "white",
             "linecolor": "white",
             "minorgridcolor": "white",
             "startlinecolor": "#2a3f5f"
            },
            "type": "carpet"
           }
          ],
          "choropleth": [
           {
            "colorbar": {
             "outlinewidth": 0,
             "ticks": ""
            },
            "type": "choropleth"
           }
          ],
          "contour": [
           {
            "colorbar": {
             "outlinewidth": 0,
             "ticks": ""
            },
            "colorscale": [
             [
              0,
              "#0d0887"
             ],
             [
              0.1111111111111111,
              "#46039f"
             ],
             [
              0.2222222222222222,
              "#7201a8"
             ],
             [
              0.3333333333333333,
              "#9c179e"
             ],
             [
              0.4444444444444444,
              "#bd3786"
             ],
             [
              0.5555555555555556,
              "#d8576b"
             ],
             [
              0.6666666666666666,
              "#ed7953"
             ],
             [
              0.7777777777777778,
              "#fb9f3a"
             ],
             [
              0.8888888888888888,
              "#fdca26"
             ],
             [
              1,
              "#f0f921"
             ]
            ],
            "type": "contour"
           }
          ],
          "contourcarpet": [
           {
            "colorbar": {
             "outlinewidth": 0,
             "ticks": ""
            },
            "type": "contourcarpet"
           }
          ],
          "heatmap": [
           {
            "colorbar": {
             "outlinewidth": 0,
             "ticks": ""
            },
            "colorscale": [
             [
              0,
              "#0d0887"
             ],
             [
              0.1111111111111111,
              "#46039f"
             ],
             [
              0.2222222222222222,
              "#7201a8"
             ],
             [
              0.3333333333333333,
              "#9c179e"
             ],
             [
              0.4444444444444444,
              "#bd3786"
             ],
             [
              0.5555555555555556,
              "#d8576b"
             ],
             [
              0.6666666666666666,
              "#ed7953"
             ],
             [
              0.7777777777777778,
              "#fb9f3a"
             ],
             [
              0.8888888888888888,
              "#fdca26"
             ],
             [
              1,
              "#f0f921"
             ]
            ],
            "type": "heatmap"
           }
          ],
          "heatmapgl": [
           {
            "colorbar": {
             "outlinewidth": 0,
             "ticks": ""
            },
            "colorscale": [
             [
              0,
              "#0d0887"
             ],
             [
              0.1111111111111111,
              "#46039f"
             ],
             [
              0.2222222222222222,
              "#7201a8"
             ],
             [
              0.3333333333333333,
              "#9c179e"
             ],
             [
              0.4444444444444444,
              "#bd3786"
             ],
             [
              0.5555555555555556,
              "#d8576b"
             ],
             [
              0.6666666666666666,
              "#ed7953"
             ],
             [
              0.7777777777777778,
              "#fb9f3a"
             ],
             [
              0.8888888888888888,
              "#fdca26"
             ],
             [
              1,
              "#f0f921"
             ]
            ],
            "type": "heatmapgl"
           }
          ],
          "histogram": [
           {
            "marker": {
             "pattern": {
              "fillmode": "overlay",
              "size": 10,
              "solidity": 0.2
             }
            },
            "type": "histogram"
           }
          ],
          "histogram2d": [
           {
            "colorbar": {
             "outlinewidth": 0,
             "ticks": ""
            },
            "colorscale": [
             [
              0,
              "#0d0887"
             ],
             [
              0.1111111111111111,
              "#46039f"
             ],
             [
              0.2222222222222222,
              "#7201a8"
             ],
             [
              0.3333333333333333,
              "#9c179e"
             ],
             [
              0.4444444444444444,
              "#bd3786"
             ],
             [
              0.5555555555555556,
              "#d8576b"
             ],
             [
              0.6666666666666666,
              "#ed7953"
             ],
             [
              0.7777777777777778,
              "#fb9f3a"
             ],
             [
              0.8888888888888888,
              "#fdca26"
             ],
             [
              1,
              "#f0f921"
             ]
            ],
            "type": "histogram2d"
           }
          ],
          "histogram2dcontour": [
           {
            "colorbar": {
             "outlinewidth": 0,
             "ticks": ""
            },
            "colorscale": [
             [
              0,
              "#0d0887"
             ],
             [
              0.1111111111111111,
              "#46039f"
             ],
             [
              0.2222222222222222,
              "#7201a8"
             ],
             [
              0.3333333333333333,
              "#9c179e"
             ],
             [
              0.4444444444444444,
              "#bd3786"
             ],
             [
              0.5555555555555556,
              "#d8576b"
             ],
             [
              0.6666666666666666,
              "#ed7953"
             ],
             [
              0.7777777777777778,
              "#fb9f3a"
             ],
             [
              0.8888888888888888,
              "#fdca26"
             ],
             [
              1,
              "#f0f921"
             ]
            ],
            "type": "histogram2dcontour"
           }
          ],
          "mesh3d": [
           {
            "colorbar": {
             "outlinewidth": 0,
             "ticks": ""
            },
            "type": "mesh3d"
           }
          ],
          "parcoords": [
           {
            "line": {
             "colorbar": {
              "outlinewidth": 0,
              "ticks": ""
             }
            },
            "type": "parcoords"
           }
          ],
          "pie": [
           {
            "automargin": true,
            "type": "pie"
           }
          ],
          "scatter": [
           {
            "marker": {
             "colorbar": {
              "outlinewidth": 0,
              "ticks": ""
             }
            },
            "type": "scatter"
           }
          ],
          "scatter3d": [
           {
            "line": {
             "colorbar": {
              "outlinewidth": 0,
              "ticks": ""
             }
            },
            "marker": {
             "colorbar": {
              "outlinewidth": 0,
              "ticks": ""
             }
            },
            "type": "scatter3d"
           }
          ],
          "scattercarpet": [
           {
            "marker": {
             "colorbar": {
              "outlinewidth": 0,
              "ticks": ""
             }
            },
            "type": "scattercarpet"
           }
          ],
          "scattergeo": [
           {
            "marker": {
             "colorbar": {
              "outlinewidth": 0,
              "ticks": ""
             }
            },
            "type": "scattergeo"
           }
          ],
          "scattergl": [
           {
            "marker": {
             "colorbar": {
              "outlinewidth": 0,
              "ticks": ""
             }
            },
            "type": "scattergl"
           }
          ],
          "scattermapbox": [
           {
            "marker": {
             "colorbar": {
              "outlinewidth": 0,
              "ticks": ""
             }
            },
            "type": "scattermapbox"
           }
          ],
          "scatterpolar": [
           {
            "marker": {
             "colorbar": {
              "outlinewidth": 0,
              "ticks": ""
             }
            },
            "type": "scatterpolar"
           }
          ],
          "scatterpolargl": [
           {
            "marker": {
             "colorbar": {
              "outlinewidth": 0,
              "ticks": ""
             }
            },
            "type": "scatterpolargl"
           }
          ],
          "scatterternary": [
           {
            "marker": {
             "colorbar": {
              "outlinewidth": 0,
              "ticks": ""
             }
            },
            "type": "scatterternary"
           }
          ],
          "surface": [
           {
            "colorbar": {
             "outlinewidth": 0,
             "ticks": ""
            },
            "colorscale": [
             [
              0,
              "#0d0887"
             ],
             [
              0.1111111111111111,
              "#46039f"
             ],
             [
              0.2222222222222222,
              "#7201a8"
             ],
             [
              0.3333333333333333,
              "#9c179e"
             ],
             [
              0.4444444444444444,
              "#bd3786"
             ],
             [
              0.5555555555555556,
              "#d8576b"
             ],
             [
              0.6666666666666666,
              "#ed7953"
             ],
             [
              0.7777777777777778,
              "#fb9f3a"
             ],
             [
              0.8888888888888888,
              "#fdca26"
             ],
             [
              1,
              "#f0f921"
             ]
            ],
            "type": "surface"
           }
          ],
          "table": [
           {
            "cells": {
             "fill": {
              "color": "#EBF0F8"
             },
             "line": {
              "color": "white"
             }
            },
            "header": {
             "fill": {
              "color": "#C8D4E3"
             },
             "line": {
              "color": "white"
             }
            },
            "type": "table"
           }
          ]
         },
         "layout": {
          "annotationdefaults": {
           "arrowcolor": "#2a3f5f",
           "arrowhead": 0,
           "arrowwidth": 1
          },
          "autotypenumbers": "strict",
          "coloraxis": {
           "colorbar": {
            "outlinewidth": 0,
            "ticks": ""
           }
          },
          "colorscale": {
           "diverging": [
            [
             0,
             "#8e0152"
            ],
            [
             0.1,
             "#c51b7d"
            ],
            [
             0.2,
             "#de77ae"
            ],
            [
             0.3,
             "#f1b6da"
            ],
            [
             0.4,
             "#fde0ef"
            ],
            [
             0.5,
             "#f7f7f7"
            ],
            [
             0.6,
             "#e6f5d0"
            ],
            [
             0.7,
             "#b8e186"
            ],
            [
             0.8,
             "#7fbc41"
            ],
            [
             0.9,
             "#4d9221"
            ],
            [
             1,
             "#276419"
            ]
           ],
           "sequential": [
            [
             0,
             "#0d0887"
            ],
            [
             0.1111111111111111,
             "#46039f"
            ],
            [
             0.2222222222222222,
             "#7201a8"
            ],
            [
             0.3333333333333333,
             "#9c179e"
            ],
            [
             0.4444444444444444,
             "#bd3786"
            ],
            [
             0.5555555555555556,
             "#d8576b"
            ],
            [
             0.6666666666666666,
             "#ed7953"
            ],
            [
             0.7777777777777778,
             "#fb9f3a"
            ],
            [
             0.8888888888888888,
             "#fdca26"
            ],
            [
             1,
             "#f0f921"
            ]
           ],
           "sequentialminus": [
            [
             0,
             "#0d0887"
            ],
            [
             0.1111111111111111,
             "#46039f"
            ],
            [
             0.2222222222222222,
             "#7201a8"
            ],
            [
             0.3333333333333333,
             "#9c179e"
            ],
            [
             0.4444444444444444,
             "#bd3786"
            ],
            [
             0.5555555555555556,
             "#d8576b"
            ],
            [
             0.6666666666666666,
             "#ed7953"
            ],
            [
             0.7777777777777778,
             "#fb9f3a"
            ],
            [
             0.8888888888888888,
             "#fdca26"
            ],
            [
             1,
             "#f0f921"
            ]
           ]
          },
          "colorway": [
           "#636efa",
           "#EF553B",
           "#00cc96",
           "#ab63fa",
           "#FFA15A",
           "#19d3f3",
           "#FF6692",
           "#B6E880",
           "#FF97FF",
           "#FECB52"
          ],
          "font": {
           "color": "#2a3f5f"
          },
          "geo": {
           "bgcolor": "white",
           "lakecolor": "white",
           "landcolor": "#E5ECF6",
           "showlakes": true,
           "showland": true,
           "subunitcolor": "white"
          },
          "hoverlabel": {
           "align": "left"
          },
          "hovermode": "closest",
          "mapbox": {
           "style": "light"
          },
          "paper_bgcolor": "white",
          "plot_bgcolor": "#E5ECF6",
          "polar": {
           "angularaxis": {
            "gridcolor": "white",
            "linecolor": "white",
            "ticks": ""
           },
           "bgcolor": "#E5ECF6",
           "radialaxis": {
            "gridcolor": "white",
            "linecolor": "white",
            "ticks": ""
           }
          },
          "scene": {
           "xaxis": {
            "backgroundcolor": "#E5ECF6",
            "gridcolor": "white",
            "gridwidth": 2,
            "linecolor": "white",
            "showbackground": true,
            "ticks": "",
            "zerolinecolor": "white"
           },
           "yaxis": {
            "backgroundcolor": "#E5ECF6",
            "gridcolor": "white",
            "gridwidth": 2,
            "linecolor": "white",
            "showbackground": true,
            "ticks": "",
            "zerolinecolor": "white"
           },
           "zaxis": {
            "backgroundcolor": "#E5ECF6",
            "gridcolor": "white",
            "gridwidth": 2,
            "linecolor": "white",
            "showbackground": true,
            "ticks": "",
            "zerolinecolor": "white"
           }
          },
          "shapedefaults": {
           "line": {
            "color": "#2a3f5f"
           }
          },
          "ternary": {
           "aaxis": {
            "gridcolor": "white",
            "linecolor": "white",
            "ticks": ""
           },
           "baxis": {
            "gridcolor": "white",
            "linecolor": "white",
            "ticks": ""
           },
           "bgcolor": "#E5ECF6",
           "caxis": {
            "gridcolor": "white",
            "linecolor": "white",
            "ticks": ""
           }
          },
          "title": {
           "x": 0.05
          },
          "xaxis": {
           "automargin": true,
           "gridcolor": "white",
           "linecolor": "white",
           "ticks": "",
           "title": {
            "standoff": 15
           },
           "zerolinecolor": "white",
           "zerolinewidth": 2
          },
          "yaxis": {
           "automargin": true,
           "gridcolor": "white",
           "linecolor": "white",
           "ticks": "",
           "title": {
            "standoff": 15
           },
           "zerolinecolor": "white",
           "zerolinewidth": 2
          }
         }
        },
        "title": {
         "text": "Monetary transactions"
        }
       }
      },
      "text/html": [
       "<div>                            <div id=\"8e155115-ab6f-43c8-b11a-cc3f18d56023\" class=\"plotly-graph-div\" style=\"height:525px; width:100%;\"></div>            <script type=\"text/javascript\">                require([\"plotly\"], function(Plotly) {                    window.PLOTLYENV=window.PLOTLYENV || {};                                    if (document.getElementById(\"8e155115-ab6f-43c8-b11a-cc3f18d56023\")) {                    Plotly.newPlot(                        \"8e155115-ab6f-43c8-b11a-cc3f18d56023\",                        [{\"link\":{\"color\":[\"#808B96\",\"#808B96\",\"#808B96\",\"#808B96\",\"#808B96\",\"#808B96\",\"#808B96\",\"#808B96\",\"#808B96\",\"#EC7063\",\"#EC7063\",\"#EC7063\",\"#EC7063\",\"#EC7063\",\"#EC7063\",\"#EC7063\",\"#EC7063\",\"#EC7063\",\"#F7DC6F\",\"#F7DC6F\",\"#F7DC6F\",\"#48C9B0\",\"#48C9B0\",\"#48C9B0\"],\"label\":[\"MtransactI\",\"MtransactI\",\"MtransactI\",\"MtransactI\",\"MtransactI\",\"MtransactI\",\"MtransactI\",\"MtransactI\",\"MtransactI\",\"MtransactY\",\"MtransactY\",\"MtransactY\",\"MtransactY\",\"MtransactY\",\"MtransactY\",\"MtransactY\",\"MtransactY\",\"MtransactY\",\"Consumption\",\"Consumption\",\"Consumption\",\"Wages\",\"Wages\",\"Wages\"],\"source\":[0,1,2,0,1,2,0,1,2,0,1,2,0,1,2,0,1,2,3,3,3,0,1,2],\"target\":[0,0,0,1,1,1,2,2,2,0,0,0,1,1,1,2,2,2,0,1,2,3,3,3],\"value\":[0.013880846264607451,0.46874919787990177,0.0,0.022589411041842693,0.07628330509964486,0.0,-0.0,-0.13749494035315432,-0.0,0.0,0.0,0.15828959057979086,0.0,0.0,0.0664120915035692,0.0,0.0,0.03,3.865637066621232,0.0,0.0,3.0715336796112904,0.386608446656788,0.40749494035315426]},\"node\":{\"label\":[\"Capital\",\"Consumption\",\"Intermediate\",\"Household\"],\"pad\":50,\"thickness\":5},\"type\":\"sankey\"}],                        {\"template\":{\"data\":{\"bar\":[{\"error_x\":{\"color\":\"#2a3f5f\"},\"error_y\":{\"color\":\"#2a3f5f\"},\"marker\":{\"line\":{\"color\":\"#E5ECF6\",\"width\":0.5},\"pattern\":{\"fillmode\":\"overlay\",\"size\":10,\"solidity\":0.2}},\"type\":\"bar\"}],\"barpolar\":[{\"marker\":{\"line\":{\"color\":\"#E5ECF6\",\"width\":0.5},\"pattern\":{\"fillmode\":\"overlay\",\"size\":10,\"solidity\":0.2}},\"type\":\"barpolar\"}],\"carpet\":[{\"aaxis\":{\"endlinecolor\":\"#2a3f5f\",\"gridcolor\":\"white\",\"linecolor\":\"white\",\"minorgridcolor\":\"white\",\"startlinecolor\":\"#2a3f5f\"},\"baxis\":{\"endlinecolor\":\"#2a3f5f\",\"gridcolor\":\"white\",\"linecolor\":\"white\",\"minorgridcolor\":\"white\",\"startlinecolor\":\"#2a3f5f\"},\"type\":\"carpet\"}],\"choropleth\":[{\"colorbar\":{\"outlinewidth\":0,\"ticks\":\"\"},\"type\":\"choropleth\"}],\"contour\":[{\"colorbar\":{\"outlinewidth\":0,\"ticks\":\"\"},\"colorscale\":[[0.0,\"#0d0887\"],[0.1111111111111111,\"#46039f\"],[0.2222222222222222,\"#7201a8\"],[0.3333333333333333,\"#9c179e\"],[0.4444444444444444,\"#bd3786\"],[0.5555555555555556,\"#d8576b\"],[0.6666666666666666,\"#ed7953\"],[0.7777777777777778,\"#fb9f3a\"],[0.8888888888888888,\"#fdca26\"],[1.0,\"#f0f921\"]],\"type\":\"contour\"}],\"contourcarpet\":[{\"colorbar\":{\"outlinewidth\":0,\"ticks\":\"\"},\"type\":\"contourcarpet\"}],\"heatmap\":[{\"colorbar\":{\"outlinewidth\":0,\"ticks\":\"\"},\"colorscale\":[[0.0,\"#0d0887\"],[0.1111111111111111,\"#46039f\"],[0.2222222222222222,\"#7201a8\"],[0.3333333333333333,\"#9c179e\"],[0.4444444444444444,\"#bd3786\"],[0.5555555555555556,\"#d8576b\"],[0.6666666666666666,\"#ed7953\"],[0.7777777777777778,\"#fb9f3a\"],[0.8888888888888888,\"#fdca26\"],[1.0,\"#f0f921\"]],\"type\":\"heatmap\"}],\"heatmapgl\":[{\"colorbar\":{\"outlinewidth\":0,\"ticks\":\"\"},\"colorscale\":[[0.0,\"#0d0887\"],[0.1111111111111111,\"#46039f\"],[0.2222222222222222,\"#7201a8\"],[0.3333333333333333,\"#9c179e\"],[0.4444444444444444,\"#bd3786\"],[0.5555555555555556,\"#d8576b\"],[0.6666666666666666,\"#ed7953\"],[0.7777777777777778,\"#fb9f3a\"],[0.8888888888888888,\"#fdca26\"],[1.0,\"#f0f921\"]],\"type\":\"heatmapgl\"}],\"histogram\":[{\"marker\":{\"pattern\":{\"fillmode\":\"overlay\",\"size\":10,\"solidity\":0.2}},\"type\":\"histogram\"}],\"histogram2d\":[{\"colorbar\":{\"outlinewidth\":0,\"ticks\":\"\"},\"colorscale\":[[0.0,\"#0d0887\"],[0.1111111111111111,\"#46039f\"],[0.2222222222222222,\"#7201a8\"],[0.3333333333333333,\"#9c179e\"],[0.4444444444444444,\"#bd3786\"],[0.5555555555555556,\"#d8576b\"],[0.6666666666666666,\"#ed7953\"],[0.7777777777777778,\"#fb9f3a\"],[0.8888888888888888,\"#fdca26\"],[1.0,\"#f0f921\"]],\"type\":\"histogram2d\"}],\"histogram2dcontour\":[{\"colorbar\":{\"outlinewidth\":0,\"ticks\":\"\"},\"colorscale\":[[0.0,\"#0d0887\"],[0.1111111111111111,\"#46039f\"],[0.2222222222222222,\"#7201a8\"],[0.3333333333333333,\"#9c179e\"],[0.4444444444444444,\"#bd3786\"],[0.5555555555555556,\"#d8576b\"],[0.6666666666666666,\"#ed7953\"],[0.7777777777777778,\"#fb9f3a\"],[0.8888888888888888,\"#fdca26\"],[1.0,\"#f0f921\"]],\"type\":\"histogram2dcontour\"}],\"mesh3d\":[{\"colorbar\":{\"outlinewidth\":0,\"ticks\":\"\"},\"type\":\"mesh3d\"}],\"parcoords\":[{\"line\":{\"colorbar\":{\"outlinewidth\":0,\"ticks\":\"\"}},\"type\":\"parcoords\"}],\"pie\":[{\"automargin\":true,\"type\":\"pie\"}],\"scatter\":[{\"marker\":{\"colorbar\":{\"outlinewidth\":0,\"ticks\":\"\"}},\"type\":\"scatter\"}],\"scatter3d\":[{\"line\":{\"colorbar\":{\"outlinewidth\":0,\"ticks\":\"\"}},\"marker\":{\"colorbar\":{\"outlinewidth\":0,\"ticks\":\"\"}},\"type\":\"scatter3d\"}],\"scattercarpet\":[{\"marker\":{\"colorbar\":{\"outlinewidth\":0,\"ticks\":\"\"}},\"type\":\"scattercarpet\"}],\"scattergeo\":[{\"marker\":{\"colorbar\":{\"outlinewidth\":0,\"ticks\":\"\"}},\"type\":\"scattergeo\"}],\"scattergl\":[{\"marker\":{\"colorbar\":{\"outlinewidth\":0,\"ticks\":\"\"}},\"type\":\"scattergl\"}],\"scattermapbox\":[{\"marker\":{\"colorbar\":{\"outlinewidth\":0,\"ticks\":\"\"}},\"type\":\"scattermapbox\"}],\"scatterpolar\":[{\"marker\":{\"colorbar\":{\"outlinewidth\":0,\"ticks\":\"\"}},\"type\":\"scatterpolar\"}],\"scatterpolargl\":[{\"marker\":{\"colorbar\":{\"outlinewidth\":0,\"ticks\":\"\"}},\"type\":\"scatterpolargl\"}],\"scatterternary\":[{\"marker\":{\"colorbar\":{\"outlinewidth\":0,\"ticks\":\"\"}},\"type\":\"scatterternary\"}],\"surface\":[{\"colorbar\":{\"outlinewidth\":0,\"ticks\":\"\"},\"colorscale\":[[0.0,\"#0d0887\"],[0.1111111111111111,\"#46039f\"],[0.2222222222222222,\"#7201a8\"],[0.3333333333333333,\"#9c179e\"],[0.4444444444444444,\"#bd3786\"],[0.5555555555555556,\"#d8576b\"],[0.6666666666666666,\"#ed7953\"],[0.7777777777777778,\"#fb9f3a\"],[0.8888888888888888,\"#fdca26\"],[1.0,\"#f0f921\"]],\"type\":\"surface\"}],\"table\":[{\"cells\":{\"fill\":{\"color\":\"#EBF0F8\"},\"line\":{\"color\":\"white\"}},\"header\":{\"fill\":{\"color\":\"#C8D4E3\"},\"line\":{\"color\":\"white\"}},\"type\":\"table\"}]},\"layout\":{\"annotationdefaults\":{\"arrowcolor\":\"#2a3f5f\",\"arrowhead\":0,\"arrowwidth\":1},\"autotypenumbers\":\"strict\",\"coloraxis\":{\"colorbar\":{\"outlinewidth\":0,\"ticks\":\"\"}},\"colorscale\":{\"diverging\":[[0,\"#8e0152\"],[0.1,\"#c51b7d\"],[0.2,\"#de77ae\"],[0.3,\"#f1b6da\"],[0.4,\"#fde0ef\"],[0.5,\"#f7f7f7\"],[0.6,\"#e6f5d0\"],[0.7,\"#b8e186\"],[0.8,\"#7fbc41\"],[0.9,\"#4d9221\"],[1,\"#276419\"]],\"sequential\":[[0.0,\"#0d0887\"],[0.1111111111111111,\"#46039f\"],[0.2222222222222222,\"#7201a8\"],[0.3333333333333333,\"#9c179e\"],[0.4444444444444444,\"#bd3786\"],[0.5555555555555556,\"#d8576b\"],[0.6666666666666666,\"#ed7953\"],[0.7777777777777778,\"#fb9f3a\"],[0.8888888888888888,\"#fdca26\"],[1.0,\"#f0f921\"]],\"sequentialminus\":[[0.0,\"#0d0887\"],[0.1111111111111111,\"#46039f\"],[0.2222222222222222,\"#7201a8\"],[0.3333333333333333,\"#9c179e\"],[0.4444444444444444,\"#bd3786\"],[0.5555555555555556,\"#d8576b\"],[0.6666666666666666,\"#ed7953\"],[0.7777777777777778,\"#fb9f3a\"],[0.8888888888888888,\"#fdca26\"],[1.0,\"#f0f921\"]]},\"colorway\":[\"#636efa\",\"#EF553B\",\"#00cc96\",\"#ab63fa\",\"#FFA15A\",\"#19d3f3\",\"#FF6692\",\"#B6E880\",\"#FF97FF\",\"#FECB52\"],\"font\":{\"color\":\"#2a3f5f\"},\"geo\":{\"bgcolor\":\"white\",\"lakecolor\":\"white\",\"landcolor\":\"#E5ECF6\",\"showlakes\":true,\"showland\":true,\"subunitcolor\":\"white\"},\"hoverlabel\":{\"align\":\"left\"},\"hovermode\":\"closest\",\"mapbox\":{\"style\":\"light\"},\"paper_bgcolor\":\"white\",\"plot_bgcolor\":\"#E5ECF6\",\"polar\":{\"angularaxis\":{\"gridcolor\":\"white\",\"linecolor\":\"white\",\"ticks\":\"\"},\"bgcolor\":\"#E5ECF6\",\"radialaxis\":{\"gridcolor\":\"white\",\"linecolor\":\"white\",\"ticks\":\"\"}},\"scene\":{\"xaxis\":{\"backgroundcolor\":\"#E5ECF6\",\"gridcolor\":\"white\",\"gridwidth\":2,\"linecolor\":\"white\",\"showbackground\":true,\"ticks\":\"\",\"zerolinecolor\":\"white\"},\"yaxis\":{\"backgroundcolor\":\"#E5ECF6\",\"gridcolor\":\"white\",\"gridwidth\":2,\"linecolor\":\"white\",\"showbackground\":true,\"ticks\":\"\",\"zerolinecolor\":\"white\"},\"zaxis\":{\"backgroundcolor\":\"#E5ECF6\",\"gridcolor\":\"white\",\"gridwidth\":2,\"linecolor\":\"white\",\"showbackground\":true,\"ticks\":\"\",\"zerolinecolor\":\"white\"}},\"shapedefaults\":{\"line\":{\"color\":\"#2a3f5f\"}},\"ternary\":{\"aaxis\":{\"gridcolor\":\"white\",\"linecolor\":\"white\",\"ticks\":\"\"},\"baxis\":{\"gridcolor\":\"white\",\"linecolor\":\"white\",\"ticks\":\"\"},\"bgcolor\":\"#E5ECF6\",\"caxis\":{\"gridcolor\":\"white\",\"linecolor\":\"white\",\"ticks\":\"\"}},\"title\":{\"x\":0.05},\"xaxis\":{\"automargin\":true,\"gridcolor\":\"white\",\"linecolor\":\"white\",\"ticks\":\"\",\"title\":{\"standoff\":15},\"zerolinecolor\":\"white\",\"zerolinewidth\":2},\"yaxis\":{\"automargin\":true,\"gridcolor\":\"white\",\"linecolor\":\"white\",\"ticks\":\"\",\"title\":{\"standoff\":15},\"zerolinecolor\":\"white\",\"zerolinewidth\":2}}},\"font\":{\"size\":10,\"color\":\"white\"},\"hovermode\":\"x\",\"title\":{\"text\":\"Monetary transactions\"},\"paper_bgcolor\":\"#5B5958\"},                        {\"responsive\": true}                    ).then(function(){\n",
       "                            \n",
       "var gd = document.getElementById('8e155115-ab6f-43c8-b11a-cc3f18d56023');\n",
       "var x = new MutationObserver(function (mutations, observer) {{\n",
       "        var display = window.getComputedStyle(gd).display;\n",
       "        if (!display || display === 'none') {{\n",
       "            console.log([gd, 'removed!']);\n",
       "            Plotly.purge(gd);\n",
       "            observer.disconnect();\n",
       "        }}\n",
       "}});\n",
       "\n",
       "// Listen for the removal of the full notebook cells\n",
       "var notebookContainer = gd.closest('#notebook-container');\n",
       "if (notebookContainer) {{\n",
       "    x.observe(notebookContainer, {childList: true});\n",
       "}}\n",
       "\n",
       "// Listen for the clearing of the current output cell\n",
       "var outputEl = gd.closest('.output');\n",
       "if (outputEl) {{\n",
       "    x.observe(outputEl, {childList: true});\n",
       "}}\n",
       "\n",
       "                        })                };                });            </script>        </div>"
      ]
     },
     "metadata": {},
     "output_type": "display_data"
    }
   ],
   "source": [
    "label.append('Household')\n",
    "\n",
    "\n",
    "node = {'label' : label,\n",
    "        'pad' :50,\n",
    "        'thickness' :50}\n",
    "link = {'source' : XX,\n",
    "        'target' : YY,\n",
    "        'value' : values}\n",
    "data = go.Sankey(link = link, \n",
    "                 node=node)\n",
    "\n",
    "link = dict(source = np.array(source).reshape(-1), \n",
    "            target = np.array(target).reshape(-1), \n",
    "            value = np.array(value).reshape(-1),\n",
    "            color=colors,\n",
    "            label=linklabel)\n",
    "node = dict(label = label,\n",
    "            pad=50, \n",
    "            thickness=5)\n",
    "data = go.Sankey(link = link,\n",
    "                 node=node)\n",
    "# plot\n",
    "fig = go.Figure(data)\n",
    "fig.update_layout(\n",
    "    hovermode = 'x',\n",
    "    title=f\"Monetary transactions\",\n",
    "    font=dict(size = 10, color = 'white'),\n",
    "    paper_bgcolor='#5B5958'\n",
    ")\n",
    "fig.show()"
   ]
  },
  {
   "cell_type": "code",
   "execution_count": 78,
   "id": "52ada47a",
   "metadata": {
    "scrolled": false
   },
   "outputs": [
    {
     "data": {
      "text/plain": [
       "['Capital', 'Consumption', 'Intermediate', 'Household']"
      ]
     },
     "execution_count": 78,
     "metadata": {},
     "output_type": "execute_result"
    }
   ],
   "source": [
    "label"
   ]
  },
  {
   "cell_type": "code",
   "execution_count": 23,
   "id": "aebd4232",
   "metadata": {},
   "outputs": [
    {
     "name": "stdout",
     "output_type": "stream",
     "text": [
      "List of available presets :\n",
      "MonoSectoral                   A monosectoral system that behaves just as a Goodwin\n",
      "Bisectoral                     Two sectors : one producing consumption good, one for capital goods.Converging run starting for VERY far from equilibrium\n",
      "Trisectoral                    Three sectors : Consumption, investment, intermediary.\n"
     ]
    }
   ],
   "source": [
    "hub.get_presets()"
   ]
  },
  {
   "cell_type": "code",
   "execution_count": 121,
   "id": "bc810906",
   "metadata": {},
   "outputs": [
    {
     "name": "stdout",
     "output_type": "stream",
     "text": [
      "Dash is running on http://127.0.0.1:8050/\n",
      "\n",
      " * Serving Flask app \"__main__\" (lazy loading)\n",
      " * Environment: production\n",
      "\u001b[31m   WARNING: This is a development server. Do not use it in a production deployment.\u001b[0m\n",
      "\u001b[2m   Use a production WSGI server instead.\u001b[0m\n",
      " * Debug mode: on\n"
     ]
    },
    {
     "ename": "SystemExit",
     "evalue": "1",
     "output_type": "error",
     "traceback": [
      "An exception has occurred, use %tb to see the full traceback.\n",
      "\u001b[1;31mSystemExit\u001b[0m\u001b[1;31m:\u001b[0m 1\n"
     ]
    },
    {
     "name": "stderr",
     "output_type": "stream",
     "text": [
      "C:\\ProgramData\\Anaconda3\\lib\\site-packages\\IPython\\core\\interactiveshell.py:3369: UserWarning:\n",
      "\n",
      "To exit: use 'exit', 'quit', or Ctrl-D.\n",
      "\n"
     ]
    }
   ],
   "source": []
  },
  {
   "cell_type": "code",
   "execution_count": null,
   "id": "bfef25d4",
   "metadata": {},
   "outputs": [],
   "source": []
  }
 ],
 "metadata": {
  "kernelspec": {
   "display_name": "Python 3",
   "language": "python",
   "name": "python3"
  },
  "language_info": {
   "codemirror_mode": {
    "name": "ipython",
    "version": 3
   },
   "file_extension": ".py",
   "mimetype": "text/x-python",
   "name": "python",
   "nbconvert_exporter": "python",
   "pygments_lexer": "ipython3",
   "version": "3.8.8"
  }
 },
 "nbformat": 4,
 "nbformat_minor": 5
}
