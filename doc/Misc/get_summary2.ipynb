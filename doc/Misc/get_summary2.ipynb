{
 "cells": [
  {
   "cell_type": "code",
   "execution_count": 1,
   "metadata": {},
   "outputs": [
    {
     "name": "stdout",
     "output_type": "stream",
     "text": [
      "\n",
      "#####################################################################################\n",
      " _______            ______  ________  ____    ____  ____    ____  ________   ______    \n",
      "|_   __ \\         .' ___  ||_   __  ||_   \\  /   _||_   \\  /   _||_   __  |.' ____  \\   \n",
      "  | |__) |_   __ / .'   \\_|  | |_ \\_|  |   \\/   |    |   \\/   |    | |_ \\_|| (___ \\_|  \n",
      "  |  ___/[ \\ [  ]| |   ____  |  _| _   | |\\  /| |    | |\\  /| |    |  _| _  _.____`.   \n",
      " _| |_    \\ '/ / \\ `.___]  |_| |__/ | _| |_\\/_| |_  _| |_\\/_| |_  _| |__/ || \\____) |  \n",
      "|_____| [\\_:  /   `._____.'|________||_____||_____||_____||_____||________| \\______.'  \n",
      "         \\__.'                           \n",
      "#####################################################################################                                                                                                                                   \n",
      "\n",
      "Welcome in Pygemmes, a modular library to prototype and study dynamical systems !\n",
      "This library is oriented toward generation of macroeconomic complexity models \n",
      "You can find the files on https://github.com/DaluS/GEMMES\n",
      "This library has been coded mostly by Didier Vezinet and Paul Valcke,\n",
      "at the environmental justice program https://environmentaljustice.georgetown.edu/#\n",
      "You can contact me at pv229@georgetown.edu \n",
      "If you find bugs, want some new extensions, or help us improve the library, please create a new issue on github\n",
      "If this is the first time you open this library, please look at the tutorial file in doc/tutorial.py and execute it line by line. \n",
      "The ipythonNotebook is at :\n",
      " \tC:\\Users\\Paul Valcke\\Documents\\GitHub\\GEMMES\\pygemmes\\doc\\TUTORIALS\\TUTORIAL.ipynb\n",
      "If you want to customize pygemmes (advancer users) like removing this message, edit :\n",
      " \tC:\\Users\\Paul Valcke\\Documents\\GitHub\\GEMMES\\pygemmes\\_config.py\n",
      "\n",
      "Have fun !\n",
      "######################################################################################################\n",
      "\n"
     ]
    }
   ],
   "source": [
    "import sys \n",
    "path = \"C:\\\\Users\\\\Paul Valcke\\\\Documents\\\\GitHub\\\\GEMMES\" \n",
    "sys.path.insert(0, path)\n",
    "import pygemmes as pgm\n",
    "\n",
    "import numpy as np\n",
    "import pandas as pd \n",
    "from pandasgui import show "
   ]
  },
  {
   "attachments": {},
   "cell_type": "markdown",
   "metadata": {},
   "source": [
    "# PYGEMMES CONTENT"
   ]
  },
  {
   "cell_type": "code",
   "execution_count": null,
   "metadata": {},
   "outputs": [],
   "source": [
    "Fields = pgm.get_available_fields(exploreModels=True)\n",
    "Models = pgm.get_available_models(details=True)\n",
    "Plots  = pgm.get_available_plots()\n",
    "show(Models,Plots,Fields)"
   ]
  },
  {
   "cell_type": "markdown",
   "metadata": {},
   "source": [
    "## HUB CONTENT "
   ]
  },
  {
   "cell_type": "code",
   "execution_count": 2,
   "metadata": {},
   "outputs": [
    {
     "name": "stdout",
     "output_type": "stream",
     "text": [
      "dt asked to be changed but the value 0.1 is already the one in the system\n",
      "\n",
      "### Identified keys to be changed ###\n",
      "   Dimensions : ['Tmax']\n",
      "   Fields : []\n",
      "   Ignored :['dt']\n",
      "time step 10 / 10\n"
     ]
    }
   ],
   "source": [
    "hub=pgm.Hub('ECHIMES',preset='SimpleTri',verb=False)\n",
    "hub.set_dparam(**{'Tmax':1,'dt':0.1})\n",
    "hub.run()"
   ]
  },
  {
   "cell_type": "code",
   "execution_count": 3,
   "metadata": {},
   "outputs": [
    {
     "name": "stderr",
     "output_type": "stream",
     "text": [
      "PandasGUI INFO — pandasgui.gui — Opening PandasGUI\n"
     ]
    },
    {
     "data": {
      "text/plain": [
       "<pandasgui.gui.PandasGui at 0x1be796eb8b0>"
      ]
     },
     "execution_count": 3,
     "metadata": {},
     "output_type": "execute_result"
    }
   ],
   "source": [
    "R=hub.get_dparam()\n",
    "Categories = ['eqtype','source_exp','definition','com','group','units','symbol','isneeded']\n",
    "Rpandas= {k0:{k:R[k0][k] for k,v in R[k0].items() if k in Categories} for k0 in R.keys()}\n",
    "AllFields=pd.DataFrame(Rpandas,index=Categories).transpose()\n",
    "show(AllFields)"
   ]
  },
  {
   "cell_type": "code",
   "execution_count": null,
   "metadata": {},
   "outputs": [],
   "source": [
    "\"\"\" \n",
    "statics = hub.get_dparam(eqtype=[None,'parameter','parameters'])\n",
    "statics= {k:statics[k]['value'] for k in statics.keys()}\n",
    "V = R['K']['value']\n",
    "Sects1= R[R['K']['size'][0]].get('list',['mono'])\n",
    "Sects2= R[R['K']['size'][1]].get('list',['mono'])\n",
    "SectsX= R['nx']['list']\n",
    "SectsR= R['nr']['list']\n",
    "Time = R['time']['value'][:,0,0,0,0]\n",
    "\n",
    "print(Sects1,Sects2,SectsX,SectsR)\n",
    "import numpy as np\n",
    "GRID = np.meshgrid(Sects2,Sects1,SectsR,SectsX,Time)\n",
    "Rshp = {'value':  V.reshape(-1),\n",
    "        'time': GRID[-1].reshape(-1),\n",
    "        'parrallel': GRID[-2].reshape(-1),\n",
    "        'region': GRID[-3].reshape(-1) ,\n",
    "        'Multi1': GRID[-4].reshape(-1),\n",
    "        'Multi2': GRID[-5].reshape(-1),\n",
    "        }\n",
    "\"\"\""
   ]
  },
  {
   "cell_type": "code",
   "execution_count": null,
   "metadata": {},
   "outputs": [],
   "source": []
  },
  {
   "cell_type": "code",
   "execution_count": null,
   "metadata": {},
   "outputs": [],
   "source": []
  },
  {
   "cell_type": "code",
   "execution_count": null,
   "metadata": {},
   "outputs": [],
   "source": []
  },
  {
   "cell_type": "code",
   "execution_count": null,
   "metadata": {},
   "outputs": [],
   "source": []
  },
  {
   "cell_type": "code",
   "execution_count": null,
   "metadata": {},
   "outputs": [],
   "source": []
  },
  {
   "cell_type": "code",
   "execution_count": 7,
   "metadata": {},
   "outputs": [
    {
     "name": "stdout",
     "output_type": "stream",
     "text": [
      "D\n",
      "Dh\n",
      "V\n",
      "K\n",
      "[array([[[['mono', 'mono', 'mono', 'mono', 'mono', 'mono', 'mono',\n",
      "          'mono', 'mono', 'mono']]]], dtype='<U4'), array([[[['Consumption', 'Consumption', 'Consumption', 'Consumption',\n",
      "          'Consumption', 'Consumption', 'Consumption', 'Consumption',\n",
      "          'Consumption', 'Consumption']]]], dtype='<U12'), array([[[['local', 'local', 'local', 'local', 'local', 'local',\n",
      "          'local', 'local', 'local', 'local']]]], dtype='<U5'), array([[[['no parrallel', 'no parrallel', 'no parrallel',\n",
      "          'no parrallel', 'no parrallel', 'no parrallel',\n",
      "          'no parrallel', 'no parrallel', 'no parrallel',\n",
      "          'no parrallel']]]], dtype='<U12'), array([[[[0. , 0.1, 0.2, 0.3, 0.4, 0.5, 0.6, 0.7, 0.8, 0.9]]]]), 2.1]\n",
      "[array([[[['mono', 'mono', 'mono', 'mono', 'mono', 'mono', 'mono',\n",
      "          'mono', 'mono', 'mono']]]], dtype='<U4'), array([[[['Intermediate', 'Intermediate', 'Intermediate',\n",
      "          'Intermediate', 'Intermediate', 'Intermediate',\n",
      "          'Intermediate', 'Intermediate', 'Intermediate',\n",
      "          'Intermediate']]]], dtype='<U12'), array([[[['local', 'local', 'local', 'local', 'local', 'local',\n",
      "          'local', 'local', 'local', 'local']]]], dtype='<U5'), array([[[['no parrallel', 'no parrallel', 'no parrallel',\n",
      "          'no parrallel', 'no parrallel', 'no parrallel',\n",
      "          'no parrallel', 'no parrallel', 'no parrallel',\n",
      "          'no parrallel']]]], dtype='<U12'), array([[[[0. , 0.1, 0.2, 0.3, 0.4, 0.5, 0.6, 0.7, 0.8, 0.9]]]]), 0.4]\n",
      "[array([[[['mono', 'mono', 'mono', 'mono', 'mono', 'mono', 'mono',\n",
      "          'mono', 'mono', 'mono']]]], dtype='<U4'), array([[[['Capital', 'Capital', 'Capital', 'Capital', 'Capital',\n",
      "          'Capital', 'Capital', 'Capital', 'Capital', 'Capital']]]],\n",
      "      dtype='<U12'), array([[[['local', 'local', 'local', 'local', 'local', 'local',\n",
      "          'local', 'local', 'local', 'local']]]], dtype='<U5'), array([[[['no parrallel', 'no parrallel', 'no parrallel',\n",
      "          'no parrallel', 'no parrallel', 'no parrallel',\n",
      "          'no parrallel', 'no parrallel', 'no parrallel',\n",
      "          'no parrallel']]]], dtype='<U12'), array([[[[0. , 0.1, 0.2, 0.3, 0.4, 0.5, 0.6, 0.7, 0.8, 0.9]]]]), 0.4]\n",
      "p\n",
      "w0\n",
      "u0\n",
      "a0\n",
      "N\n",
      "w\n",
      "a\n",
      "u\n",
      "omega\n",
      "Mgamma\n",
      "Mxi\n",
      "c\n",
      "inflation\n",
      "inflationMarkup\n",
      "inflationdotV\n",
      "basket\n",
      "ibasket\n",
      "L\n",
      "Y\n",
      "Ir\n",
      "C\n",
      "dotV\n",
      "deltaK\n",
      "Minter\n",
      "Minvest\n",
      "MtransactY\n",
      "MtransactI\n",
      "wL\n",
      "pC\n",
      "I\n",
      "rD\n",
      "dotD\n",
      "W\n",
      "rDh\n",
      "employmentAGG\n",
      "Phillips\n",
      "kappa\n",
      "pi\n",
      "rd\n",
      "gK\n",
      "ROC\n",
      "employment\n",
      "gamma\n",
      "xi\n",
      "reldotv\n",
      "reloverinvest\n",
      "pAGG\n",
      "GDPnomY\n",
      "GDPnom2\n",
      "GDP\n",
      "CAGG\n",
      "IAGG\n",
      "VAGG\n",
      "KAGGpass\n",
      "LAGG\n",
      "aAGG\n",
      "DAGG\n",
      "omegaAGG\n",
      "uAGG\n",
      "nuAGG\n",
      "deltaAGG\n",
      "dAGG\n",
      "rdAGG\n",
      "gammaAGG\n",
      "XiAGG\n",
      "xiAGG\n",
      "piAGG\n",
      "ROCAGG\n",
      "cAGG\n",
      "time\n"
     ]
    }
   ],
   "source": [
    "R0=hub.get_dparam()\n",
    "R= hub.get_dparam(eqtype=['statevar','differential'])\n",
    "\n",
    "SectsX= R0['nx']['list']\n",
    "SectsR= R0['nr']['list']\n",
    "Time = R['time']['value'][:,0,0,0,0]\n",
    "\n",
    "Onedict={ 'field':  [],\n",
    "        'value': []    ,\n",
    "        'time': [],\n",
    "        'parrallel': [],\n",
    "        'region': [],\n",
    "        'Multi1':[],\n",
    "        'Multi2':[],\n",
    "            }\n",
    "\n",
    "Bigdict={}\n",
    "for k in R.keys():\n",
    "    print(k)\n",
    "    GRID = np.meshgrid( \n",
    "                        R0[R[k]['size'][1]].get('list',['mono']),\n",
    "                        R0[R[k]['size'][0]].get('list',['mono']),\n",
    "                        SectsR,\n",
    "                        SectsX,\n",
    "                        Time\n",
    "                        )\n",
    "\n",
    "    Val= R[k]['value'].reshape(-1)\n",
    "   \n",
    "    if k=='K':\n",
    "        for i in range(len(GRID[-1])):\n",
    "            print([g[i] for g in GRID])\n",
    "\n",
    "    '''\n",
    "    Bigdict[k]={'value':     R[k]['value'].T.reshape(-1),\n",
    "                'time':      GRID[-1].reshape(-1),\n",
    "                'parrallel': GRID[-2].reshape(-1),\n",
    "                'region':    GRID[-3].reshape(-1) ,\n",
    "                'Multi1':    GRID[ 1].reshape(-1),\n",
    "                'Multi2':    GRID[ 0].reshape(-1),\n",
    "                }\n",
    "    '''\n",
    "    Onedict['field'    ].extend([k for i in GRID[-1].reshape(-1)])\n",
    "    Onedict['value'    ].extend(R[k]['value'].reshape(-1))\n",
    "    Onedict['time'     ].extend(GRID[-1].reshape(-1))\n",
    "    Onedict['parrallel'].extend(GRID[-2].reshape(-1))\n",
    "    Onedict['region'   ].extend(GRID[-3].reshape(-1))\n",
    "    Onedict['Multi1'   ].extend(GRID[-4].reshape(-1))\n",
    "    Onedict['Multi2'   ].extend(GRID[-5].reshape(-1))\n",
    "\n",
    "#DF=\n",
    "DF2=pd.DataFrame(Onedict).set_index(['parrallel','region','field','Multi1','Multi2','time'],drop=True).unstack().transpose()\n",
    "dicframe = {k: pd.DataFrame(Bigdict[k]).set_index(['parrallel','region','Multi1','Multi2','time'],drop=True).unstack().transpose() for k in Bigdict.keys()}\n",
    "#df = pd.DataFrame(dicframe)\n",
    "#df=pd.DataFrame.from_dict(Bigdict)\n",
    "#df2=df.transpose()\n",
    "#df2.set_index(['time','parrallel','region','Multi1','Multi2'],drop=False)\n",
    "#show(DF2)"
   ]
  },
  {
   "cell_type": "code",
   "execution_count": null,
   "metadata": {},
   "outputs": [],
   "source": [
    "Rtime.keys()"
   ]
  },
  {
   "cell_type": "code",
   "execution_count": null,
   "metadata": {},
   "outputs": [],
   "source": [
    "show(**dicframe)"
   ]
  },
  {
   "cell_type": "code",
   "execution_count": null,
   "metadata": {},
   "outputs": [],
   "source": [
    "for k,v in Onedict.items():\n",
    "    print(k,len(v))"
   ]
  },
  {
   "cell_type": "code",
   "execution_count": null,
   "metadata": {},
   "outputs": [],
   "source": [
    "DF2"
   ]
  },
  {
   "cell_type": "code",
   "execution_count": null,
   "metadata": {},
   "outputs": [],
   "source": []
  },
  {
   "cell_type": "code",
   "execution_count": null,
   "metadata": {},
   "outputs": [],
   "source": []
  },
  {
   "cell_type": "code",
   "execution_count": null,
   "metadata": {},
   "outputs": [],
   "source": []
  },
  {
   "cell_type": "code",
   "execution_count": null,
   "metadata": {},
   "outputs": [],
   "source": [
    "Bigdict['K']"
   ]
  },
  {
   "cell_type": "code",
   "execution_count": null,
   "metadata": {},
   "outputs": [],
   "source": []
  }
 ],
 "metadata": {
  "kernelspec": {
   "display_name": "base",
   "language": "python",
   "name": "python3"
  },
  "language_info": {
   "codemirror_mode": {
    "name": "ipython",
    "version": 3
   },
   "file_extension": ".py",
   "mimetype": "text/x-python",
   "name": "python",
   "nbconvert_exporter": "python",
   "pygments_lexer": "ipython3",
   "version": "3.8.15"
  },
  "orig_nbformat": 4,
  "vscode": {
   "interpreter": {
    "hash": "ad2bdc8ecc057115af97d19610ffacc2b4e99fae6737bb82f5d7fb13d2f2c186"
   }
  }
 },
 "nbformat": 4,
 "nbformat_minor": 2
}
