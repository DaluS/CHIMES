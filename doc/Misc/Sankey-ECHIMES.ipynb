{
 "cells": [
  {
   "cell_type": "code",
   "execution_count": 2,
   "id": "fb54fe10",
   "metadata": {},
   "outputs": [
    {
     "name": "stdout",
     "output_type": "stream",
     "text": [
      "\n",
      "pyIDEE\n",
      "\n",
      "* Version 0.9\n",
      "* Last update 2023/01/03\n",
      "* Developped at the environmental justice program https://environmentaljustice.georgetown.edu/#\n",
      "* Contact : Paul Valcke pv229@georgetown.edu\n",
      "\n",
      "Welcome in PyIDEE, a modular library to prototype and study dynamical systems !\n",
      "This library is oriented toward generation of macroeconomic complexity models\n",
      "\n",
      "If you find bugs, want some new extensions, or help us improve the library, please create a new issue on github\n",
      "If this is the first time you open this library, please look at the tutorial file in doc/tutorial.py or better, and execute it line by line.\n",
      "\n",
      "The ipythonNotebook is at : C:\\Users\\Paul Valcke\\Documents\\GitHub\\GEMMES\\pygemmes\\doc\\TUTORIALS\\TUTORIAL.ipynb\n",
      "If you want to customize pyIDEE (advancer users) like removing this message, edit : C:\\Users\\Paul Valcke\\Documents\\GitHub\\GEMMES\\pygemmes\\_config.py\n",
      "\n"
     ]
    }
   ],
   "source": [
    "import sys \n",
    "\n",
    "# Install all dependencies\n",
    "#!{sys.executable} -m pip install numpy scipy matplotlib pyvis \n",
    "\n",
    "# Change path as the folder adress you have put the library in \n",
    "path = \"C:\\\\Users\\\\Paul Valcke\\\\Documents\\\\GitHub\\\\GEMMES\" \n",
    "sys.path.insert(0, path)\n",
    "import pygemmes as pgm\n",
    "import plotly.graph_objects as go\n",
    "import numpy as np\n",
    "import pandas as pd"
   ]
  },
  {
   "cell_type": "code",
   "execution_count": 3,
   "id": "364479d6",
   "metadata": {},
   "outputs": [
    {
     "ename": "Exception",
     "evalue": "The model you asked, ECHIMES, cannot be found. Found models are \n...Maybe you mispelled it ?",
     "output_type": "error",
     "traceback": [
      "\u001b[1;31m---------------------------------------------------------------------------\u001b[0m",
      "\u001b[1;31mException\u001b[0m                                 Traceback (most recent call last)",
      "Cell \u001b[1;32mIn[3], line 1\u001b[0m\n\u001b[1;32m----> 1\u001b[0m hub\u001b[39m=\u001b[39mpgm\u001b[39m.\u001b[39;49mHub(\u001b[39m'\u001b[39;49m\u001b[39mECHIMES\u001b[39;49m\u001b[39m'\u001b[39;49m,preset\u001b[39m=\u001b[39;49m\u001b[39m'\u001b[39;49m\u001b[39mSimpleTri\u001b[39;49m\u001b[39m'\u001b[39;49m,verb\u001b[39m=\u001b[39;49m\u001b[39mFalse\u001b[39;49;00m)\n\u001b[0;32m      2\u001b[0m hub\u001b[39m.\u001b[39mrun()\n",
      "File \u001b[1;32m~\\Documents\\GitHub\\GEMMES\\pygemmes\\_core.py:85\u001b[0m, in \u001b[0;36mHub.__init__\u001b[1;34m(self, model, from_user, preset, dpresets, verb)\u001b[0m\n\u001b[0;32m     73\u001b[0m \u001b[39mself\u001b[39m\u001b[39m.\u001b[39m__dmisc \u001b[39m=\u001b[39m {\u001b[39m'\u001b[39m\u001b[39mrun\u001b[39m\u001b[39m'\u001b[39m: \u001b[39mFalse\u001b[39;00m,        \u001b[39m# Has a run been done\u001b[39;00m\n\u001b[0;32m     74\u001b[0m                 \u001b[39m'\u001b[39m\u001b[39mdmulti\u001b[39m\u001b[39m'\u001b[39m: {},        \u001b[39m# Which variables has been imposed as multiple, and what size\u001b[39;00m\n\u001b[0;32m     75\u001b[0m                 \u001b[39m'\u001b[39m\u001b[39mcycles\u001b[39m\u001b[39m'\u001b[39m: \u001b[39mFalse\u001b[39;00m,     \u001b[39m# Has an analysis of cycles been done\u001b[39;00m\n\u001b[0;32m     76\u001b[0m                 \u001b[39m'\u001b[39m\u001b[39mderivative\u001b[39m\u001b[39m'\u001b[39m: \u001b[39mFalse\u001b[39;00m, \u001b[39m# Has an analysis of derivatives been done\u001b[39;00m\n\u001b[0;32m     77\u001b[0m                 }\n\u001b[0;32m     79\u001b[0m \u001b[39m# Load model files ####################################################\u001b[39;00m\n\u001b[0;32m     80\u001b[0m (\n\u001b[0;32m     81\u001b[0m     \u001b[39mself\u001b[39m\u001b[39m.\u001b[39m__dmodel,  \u001b[39m# Contains the model informations\u001b[39;00m\n\u001b[0;32m     82\u001b[0m     \u001b[39mself\u001b[39m\u001b[39m.\u001b[39m__dparam,  \u001b[39m# Contains all the fields and their relative properties\u001b[39;00m\n\u001b[0;32m     83\u001b[0m     \u001b[39mself\u001b[39m\u001b[39m.\u001b[39m__dmisc[\u001b[39m'\u001b[39m\u001b[39mdfunc_order\u001b[39m\u001b[39m'\u001b[39m], \u001b[39m# Order of resolution\u001b[39;00m\n\u001b[0;32m     84\u001b[0m     \u001b[39mself\u001b[39m\u001b[39m.\u001b[39m__dargs,  \u001b[39m# Pointer for each field and function values\u001b[39;00m\n\u001b[1;32m---> 85\u001b[0m ) \u001b[39m=\u001b[39m _class_set\u001b[39m.\u001b[39;49mload_model(\n\u001b[0;32m     86\u001b[0m     model,\n\u001b[0;32m     87\u001b[0m     from_user\u001b[39m=\u001b[39;49mfrom_user,\n\u001b[0;32m     88\u001b[0m     verb\u001b[39m=\u001b[39;49mverb,\n\u001b[0;32m     89\u001b[0m )\n\u001b[0;32m     92\u001b[0m \u001b[39m# Actualize the shape ##############################################\u001b[39;00m\n\u001b[0;32m     93\u001b[0m \u001b[39mself\u001b[39m\u001b[39m.\u001b[39m__dmisc[\u001b[39m'\u001b[39m\u001b[39mdmulti\u001b[39m\u001b[39m'\u001b[39m][\u001b[39m'\u001b[39m\u001b[39mNxNr\u001b[39m\u001b[39m'\u001b[39m] \u001b[39m=\u001b[39m (\u001b[39mself\u001b[39m\u001b[39m.\u001b[39m__dparam[\u001b[39m'\u001b[39m\u001b[39mnx\u001b[39m\u001b[39m'\u001b[39m][\u001b[39m'\u001b[39m\u001b[39mvalue\u001b[39m\u001b[39m'\u001b[39m],\n\u001b[0;32m     94\u001b[0m                                   \u001b[39mself\u001b[39m\u001b[39m.\u001b[39m__dparam[\u001b[39m'\u001b[39m\u001b[39mnr\u001b[39m\u001b[39m'\u001b[39m][\u001b[39m'\u001b[39m\u001b[39mvalue\u001b[39m\u001b[39m'\u001b[39m])\n",
      "File \u001b[1;32m~\\Documents\\GitHub\\GEMMES\\pygemmes\\_utilities\\_class_set.py:47\u001b[0m, in \u001b[0;36mload_model\u001b[1;34m(model, verb, from_user)\u001b[0m\n\u001b[0;32m     35\u001b[0m \u001b[39m\"\"\" Load a model from a model file\u001b[39;00m\n\u001b[0;32m     36\u001b[0m \n\u001b[0;32m     37\u001b[0m \u001b[39mmodel can be:\u001b[39;00m\n\u001b[1;32m   (...)\u001b[0m\n\u001b[0;32m     41\u001b[0m \u001b[39m    - the absolute path to an abitrary model file\u001b[39;00m\n\u001b[0;32m     42\u001b[0m \u001b[39m\"\"\"\u001b[39;00m\n\u001b[0;32m     44\u001b[0m \u001b[39m# LOAD THE FILE AND THE LIBRARY ###########################################\u001b[39;00m\n\u001b[0;32m     45\u001b[0m \u001b[39m#_class_check_2.model_name(model, from_user, verb=verb)\u001b[39;00m\n\u001b[1;32m---> 47\u001b[0m dmodel \u001b[39m=\u001b[39m load_dmodel(model, from_user\u001b[39m=\u001b[39;49m\u001b[39mNone\u001b[39;49;00m)\n\u001b[0;32m     48\u001b[0m dfields \u001b[39m=\u001b[39m load_complete_DFIELDS(dmodel, verb\u001b[39m=\u001b[39mverb)\n\u001b[0;32m     49\u001b[0m _class_check_2\u001b[39m.\u001b[39mdmodel(dmodel)\n",
      "File \u001b[1;32m~\\Documents\\GitHub\\GEMMES\\pygemmes\\_utilities\\_class_set.py:86\u001b[0m, in \u001b[0;36mload_dmodel\u001b[1;34m(model, from_user)\u001b[0m\n\u001b[0;32m     84\u001b[0m \u001b[39mif\u001b[39;00m model \u001b[39mnot\u001b[39;00m \u001b[39min\u001b[39;00m _DMODEL\u001b[39m.\u001b[39mkeys():\n\u001b[0;32m     85\u001b[0m     modellist \u001b[39m=\u001b[39m \u001b[39m\"\u001b[39m\u001b[39m\"\u001b[39m\u001b[39m.\u001b[39mjoin([\u001b[39m'\u001b[39m\u001b[39m* \u001b[39m\u001b[39m'\u001b[39m\u001b[39m+\u001b[39m\u001b[39mstr\u001b[39m(f)\u001b[39m+\u001b[39m\u001b[39m\"\u001b[39m\u001b[39m\\n\u001b[39;00m\u001b[39m\"\u001b[39m \u001b[39mfor\u001b[39;00m f \u001b[39min\u001b[39;00m \u001b[39mlist\u001b[39m(_DMODEL\u001b[39m.\u001b[39mkeys())])\n\u001b[1;32m---> 86\u001b[0m     \u001b[39mraise\u001b[39;00m \u001b[39mException\u001b[39;00m(\u001b[39mf\u001b[39m\u001b[39m'\u001b[39m\u001b[39mThe model you asked, \u001b[39m\u001b[39m{\u001b[39;00mmodel\u001b[39m}\u001b[39;00m\u001b[39m, cannot be found. Found models are \u001b[39m\u001b[39m\\n\u001b[39;00m\u001b[39m{\u001b[39;00mmodellist\u001b[39m}\u001b[39;00m\u001b[39m'\u001b[39m\n\u001b[0;32m     87\u001b[0m                     \u001b[39mf\u001b[39m\u001b[39m'\u001b[39m\u001b[39m...Maybe you mispelled it ?\u001b[39m\u001b[39m'\u001b[39m)\n\u001b[0;32m     88\u001b[0m dmodel\u001b[39m=\u001b[39m_DMODEL[model]\n\u001b[0;32m     89\u001b[0m dmodel[\u001b[39m'\u001b[39m\u001b[39mpreset\u001b[39m\u001b[39m'\u001b[39m]\u001b[39m=\u001b[39m\u001b[39mNone\u001b[39;00m\n",
      "\u001b[1;31mException\u001b[0m: The model you asked, ECHIMES, cannot be found. Found models are \n...Maybe you mispelled it ?"
     ]
    }
   ],
   "source": [
    "\n",
    "hub=pgm.Hub('ECHIMES',preset='SimpleTri',verb=False)\n",
    "hub.run()\n"
   ]
  },
  {
   "cell_type": "code",
   "execution_count": null,
   "id": "ef6aad2e",
   "metadata": {},
   "outputs": [],
   "source": [
    "#hub.plot(filters_key=['pi'])"
   ]
  },
  {
   "cell_type": "code",
   "execution_count": 3,
   "id": "2cddd45c",
   "metadata": {},
   "outputs": [
    {
     "data": {
      "application/vnd.plotly.v1+json": {
       "config": {
        "plotlyServerURL": "https://plot.ly"
       },
       "data": [
        {
         "link": {
          "color": [
           "rgba(255,0,255, 0.8)",
           "rgba(255,0,255, 0.8)",
           "rgba(255,0,255, 0.8)",
           "rgba(255,0,255, 0.8)",
           "rgba(255,0,255, 0.8)",
           "rgba(255,0,255, 0.8)",
           "rgba(255,0,255, 0.8)",
           "rgba(255,0,255, 0.8)",
           "rgba(255,0,255, 0.8)",
           "rgba(0,255,255, 0.8)",
           "rgba(0,255,255, 0.8)",
           "rgba(0,255,255, 0.8)",
           "rgba(0,255,255, 0.8)",
           "rgba(0,255,255, 0.8)",
           "rgba(0,255,255, 0.8)",
           "rgba(0,255,255, 0.8)",
           "rgba(0,255,255, 0.8)",
           "rgba(0,255,255, 0.8)",
           "rgba(0,255,255, 0.8)",
           "rgba(255,255,0, 0.8)",
           "rgba(127,255,127, 0.8)"
          ],
          "source": [
           0,
           0,
           0,
           1,
           1,
           1,
           2,
           2,
           2,
           0,
           0,
           0,
           1,
           1,
           1,
           2,
           2,
           2,
           0,
           1,
           2
          ],
          "target": [
           0,
           1,
           2,
           0,
           1,
           2,
           0,
           1,
           2,
           0,
           1,
           2,
           0,
           1,
           2,
           0,
           1,
           2,
           3,
           3,
           3
          ],
          "value": [
           0,
           0,
           0,
           0,
           0,
           0,
           0.10500000000000001,
           0.02,
           0.02,
           0,
           0,
           0,
           0.07,
           0.013333333333333334,
           0.013333333333333334,
           0,
           0,
           0,
           0.725,
           0,
           0
          ]
         },
         "node": {
          "label": [
           "Consumption",
           "Intermediate",
           "Capital",
           "Household"
          ],
          "pad": 50,
          "thickness": 5
         },
         "type": "sankey"
        }
       ],
       "layout": {
        "font": {
         "color": "white",
         "size": 10
        },
        "hovermode": "x",
        "paper_bgcolor": "#5B5958",
        "template": {
         "data": {
          "bar": [
           {
            "error_x": {
             "color": "#2a3f5f"
            },
            "error_y": {
             "color": "#2a3f5f"
            },
            "marker": {
             "line": {
              "color": "#E5ECF6",
              "width": 0.5
             },
             "pattern": {
              "fillmode": "overlay",
              "size": 10,
              "solidity": 0.2
             }
            },
            "type": "bar"
           }
          ],
          "barpolar": [
           {
            "marker": {
             "line": {
              "color": "#E5ECF6",
              "width": 0.5
             },
             "pattern": {
              "fillmode": "overlay",
              "size": 10,
              "solidity": 0.2
             }
            },
            "type": "barpolar"
           }
          ],
          "carpet": [
           {
            "aaxis": {
             "endlinecolor": "#2a3f5f",
             "gridcolor": "white",
             "linecolor": "white",
             "minorgridcolor": "white",
             "startlinecolor": "#2a3f5f"
            },
            "baxis": {
             "endlinecolor": "#2a3f5f",
             "gridcolor": "white",
             "linecolor": "white",
             "minorgridcolor": "white",
             "startlinecolor": "#2a3f5f"
            },
            "type": "carpet"
           }
          ],
          "choropleth": [
           {
            "colorbar": {
             "outlinewidth": 0,
             "ticks": ""
            },
            "type": "choropleth"
           }
          ],
          "contour": [
           {
            "colorbar": {
             "outlinewidth": 0,
             "ticks": ""
            },
            "colorscale": [
             [
              0,
              "#0d0887"
             ],
             [
              0.1111111111111111,
              "#46039f"
             ],
             [
              0.2222222222222222,
              "#7201a8"
             ],
             [
              0.3333333333333333,
              "#9c179e"
             ],
             [
              0.4444444444444444,
              "#bd3786"
             ],
             [
              0.5555555555555556,
              "#d8576b"
             ],
             [
              0.6666666666666666,
              "#ed7953"
             ],
             [
              0.7777777777777778,
              "#fb9f3a"
             ],
             [
              0.8888888888888888,
              "#fdca26"
             ],
             [
              1,
              "#f0f921"
             ]
            ],
            "type": "contour"
           }
          ],
          "contourcarpet": [
           {
            "colorbar": {
             "outlinewidth": 0,
             "ticks": ""
            },
            "type": "contourcarpet"
           }
          ],
          "heatmap": [
           {
            "colorbar": {
             "outlinewidth": 0,
             "ticks": ""
            },
            "colorscale": [
             [
              0,
              "#0d0887"
             ],
             [
              0.1111111111111111,
              "#46039f"
             ],
             [
              0.2222222222222222,
              "#7201a8"
             ],
             [
              0.3333333333333333,
              "#9c179e"
             ],
             [
              0.4444444444444444,
              "#bd3786"
             ],
             [
              0.5555555555555556,
              "#d8576b"
             ],
             [
              0.6666666666666666,
              "#ed7953"
             ],
             [
              0.7777777777777778,
              "#fb9f3a"
             ],
             [
              0.8888888888888888,
              "#fdca26"
             ],
             [
              1,
              "#f0f921"
             ]
            ],
            "type": "heatmap"
           }
          ],
          "heatmapgl": [
           {
            "colorbar": {
             "outlinewidth": 0,
             "ticks": ""
            },
            "colorscale": [
             [
              0,
              "#0d0887"
             ],
             [
              0.1111111111111111,
              "#46039f"
             ],
             [
              0.2222222222222222,
              "#7201a8"
             ],
             [
              0.3333333333333333,
              "#9c179e"
             ],
             [
              0.4444444444444444,
              "#bd3786"
             ],
             [
              0.5555555555555556,
              "#d8576b"
             ],
             [
              0.6666666666666666,
              "#ed7953"
             ],
             [
              0.7777777777777778,
              "#fb9f3a"
             ],
             [
              0.8888888888888888,
              "#fdca26"
             ],
             [
              1,
              "#f0f921"
             ]
            ],
            "type": "heatmapgl"
           }
          ],
          "histogram": [
           {
            "marker": {
             "pattern": {
              "fillmode": "overlay",
              "size": 10,
              "solidity": 0.2
             }
            },
            "type": "histogram"
           }
          ],
          "histogram2d": [
           {
            "colorbar": {
             "outlinewidth": 0,
             "ticks": ""
            },
            "colorscale": [
             [
              0,
              "#0d0887"
             ],
             [
              0.1111111111111111,
              "#46039f"
             ],
             [
              0.2222222222222222,
              "#7201a8"
             ],
             [
              0.3333333333333333,
              "#9c179e"
             ],
             [
              0.4444444444444444,
              "#bd3786"
             ],
             [
              0.5555555555555556,
              "#d8576b"
             ],
             [
              0.6666666666666666,
              "#ed7953"
             ],
             [
              0.7777777777777778,
              "#fb9f3a"
             ],
             [
              0.8888888888888888,
              "#fdca26"
             ],
             [
              1,
              "#f0f921"
             ]
            ],
            "type": "histogram2d"
           }
          ],
          "histogram2dcontour": [
           {
            "colorbar": {
             "outlinewidth": 0,
             "ticks": ""
            },
            "colorscale": [
             [
              0,
              "#0d0887"
             ],
             [
              0.1111111111111111,
              "#46039f"
             ],
             [
              0.2222222222222222,
              "#7201a8"
             ],
             [
              0.3333333333333333,
              "#9c179e"
             ],
             [
              0.4444444444444444,
              "#bd3786"
             ],
             [
              0.5555555555555556,
              "#d8576b"
             ],
             [
              0.6666666666666666,
              "#ed7953"
             ],
             [
              0.7777777777777778,
              "#fb9f3a"
             ],
             [
              0.8888888888888888,
              "#fdca26"
             ],
             [
              1,
              "#f0f921"
             ]
            ],
            "type": "histogram2dcontour"
           }
          ],
          "mesh3d": [
           {
            "colorbar": {
             "outlinewidth": 0,
             "ticks": ""
            },
            "type": "mesh3d"
           }
          ],
          "parcoords": [
           {
            "line": {
             "colorbar": {
              "outlinewidth": 0,
              "ticks": ""
             }
            },
            "type": "parcoords"
           }
          ],
          "pie": [
           {
            "automargin": true,
            "type": "pie"
           }
          ],
          "scatter": [
           {
            "fillpattern": {
             "fillmode": "overlay",
             "size": 10,
             "solidity": 0.2
            },
            "type": "scatter"
           }
          ],
          "scatter3d": [
           {
            "line": {
             "colorbar": {
              "outlinewidth": 0,
              "ticks": ""
             }
            },
            "marker": {
             "colorbar": {
              "outlinewidth": 0,
              "ticks": ""
             }
            },
            "type": "scatter3d"
           }
          ],
          "scattercarpet": [
           {
            "marker": {
             "colorbar": {
              "outlinewidth": 0,
              "ticks": ""
             }
            },
            "type": "scattercarpet"
           }
          ],
          "scattergeo": [
           {
            "marker": {
             "colorbar": {
              "outlinewidth": 0,
              "ticks": ""
             }
            },
            "type": "scattergeo"
           }
          ],
          "scattergl": [
           {
            "marker": {
             "colorbar": {
              "outlinewidth": 0,
              "ticks": ""
             }
            },
            "type": "scattergl"
           }
          ],
          "scattermapbox": [
           {
            "marker": {
             "colorbar": {
              "outlinewidth": 0,
              "ticks": ""
             }
            },
            "type": "scattermapbox"
           }
          ],
          "scatterpolar": [
           {
            "marker": {
             "colorbar": {
              "outlinewidth": 0,
              "ticks": ""
             }
            },
            "type": "scatterpolar"
           }
          ],
          "scatterpolargl": [
           {
            "marker": {
             "colorbar": {
              "outlinewidth": 0,
              "ticks": ""
             }
            },
            "type": "scatterpolargl"
           }
          ],
          "scatterternary": [
           {
            "marker": {
             "colorbar": {
              "outlinewidth": 0,
              "ticks": ""
             }
            },
            "type": "scatterternary"
           }
          ],
          "surface": [
           {
            "colorbar": {
             "outlinewidth": 0,
             "ticks": ""
            },
            "colorscale": [
             [
              0,
              "#0d0887"
             ],
             [
              0.1111111111111111,
              "#46039f"
             ],
             [
              0.2222222222222222,
              "#7201a8"
             ],
             [
              0.3333333333333333,
              "#9c179e"
             ],
             [
              0.4444444444444444,
              "#bd3786"
             ],
             [
              0.5555555555555556,
              "#d8576b"
             ],
             [
              0.6666666666666666,
              "#ed7953"
             ],
             [
              0.7777777777777778,
              "#fb9f3a"
             ],
             [
              0.8888888888888888,
              "#fdca26"
             ],
             [
              1,
              "#f0f921"
             ]
            ],
            "type": "surface"
           }
          ],
          "table": [
           {
            "cells": {
             "fill": {
              "color": "#EBF0F8"
             },
             "line": {
              "color": "white"
             }
            },
            "header": {
             "fill": {
              "color": "#C8D4E3"
             },
             "line": {
              "color": "white"
             }
            },
            "type": "table"
           }
          ]
         },
         "layout": {
          "annotationdefaults": {
           "arrowcolor": "#2a3f5f",
           "arrowhead": 0,
           "arrowwidth": 1
          },
          "autotypenumbers": "strict",
          "coloraxis": {
           "colorbar": {
            "outlinewidth": 0,
            "ticks": ""
           }
          },
          "colorscale": {
           "diverging": [
            [
             0,
             "#8e0152"
            ],
            [
             0.1,
             "#c51b7d"
            ],
            [
             0.2,
             "#de77ae"
            ],
            [
             0.3,
             "#f1b6da"
            ],
            [
             0.4,
             "#fde0ef"
            ],
            [
             0.5,
             "#f7f7f7"
            ],
            [
             0.6,
             "#e6f5d0"
            ],
            [
             0.7,
             "#b8e186"
            ],
            [
             0.8,
             "#7fbc41"
            ],
            [
             0.9,
             "#4d9221"
            ],
            [
             1,
             "#276419"
            ]
           ],
           "sequential": [
            [
             0,
             "#0d0887"
            ],
            [
             0.1111111111111111,
             "#46039f"
            ],
            [
             0.2222222222222222,
             "#7201a8"
            ],
            [
             0.3333333333333333,
             "#9c179e"
            ],
            [
             0.4444444444444444,
             "#bd3786"
            ],
            [
             0.5555555555555556,
             "#d8576b"
            ],
            [
             0.6666666666666666,
             "#ed7953"
            ],
            [
             0.7777777777777778,
             "#fb9f3a"
            ],
            [
             0.8888888888888888,
             "#fdca26"
            ],
            [
             1,
             "#f0f921"
            ]
           ],
           "sequentialminus": [
            [
             0,
             "#0d0887"
            ],
            [
             0.1111111111111111,
             "#46039f"
            ],
            [
             0.2222222222222222,
             "#7201a8"
            ],
            [
             0.3333333333333333,
             "#9c179e"
            ],
            [
             0.4444444444444444,
             "#bd3786"
            ],
            [
             0.5555555555555556,
             "#d8576b"
            ],
            [
             0.6666666666666666,
             "#ed7953"
            ],
            [
             0.7777777777777778,
             "#fb9f3a"
            ],
            [
             0.8888888888888888,
             "#fdca26"
            ],
            [
             1,
             "#f0f921"
            ]
           ]
          },
          "colorway": [
           "#636efa",
           "#EF553B",
           "#00cc96",
           "#ab63fa",
           "#FFA15A",
           "#19d3f3",
           "#FF6692",
           "#B6E880",
           "#FF97FF",
           "#FECB52"
          ],
          "font": {
           "color": "#2a3f5f"
          },
          "geo": {
           "bgcolor": "white",
           "lakecolor": "white",
           "landcolor": "#E5ECF6",
           "showlakes": true,
           "showland": true,
           "subunitcolor": "white"
          },
          "hoverlabel": {
           "align": "left"
          },
          "hovermode": "closest",
          "mapbox": {
           "style": "light"
          },
          "paper_bgcolor": "white",
          "plot_bgcolor": "#E5ECF6",
          "polar": {
           "angularaxis": {
            "gridcolor": "white",
            "linecolor": "white",
            "ticks": ""
           },
           "bgcolor": "#E5ECF6",
           "radialaxis": {
            "gridcolor": "white",
            "linecolor": "white",
            "ticks": ""
           }
          },
          "scene": {
           "xaxis": {
            "backgroundcolor": "#E5ECF6",
            "gridcolor": "white",
            "gridwidth": 2,
            "linecolor": "white",
            "showbackground": true,
            "ticks": "",
            "zerolinecolor": "white"
           },
           "yaxis": {
            "backgroundcolor": "#E5ECF6",
            "gridcolor": "white",
            "gridwidth": 2,
            "linecolor": "white",
            "showbackground": true,
            "ticks": "",
            "zerolinecolor": "white"
           },
           "zaxis": {
            "backgroundcolor": "#E5ECF6",
            "gridcolor": "white",
            "gridwidth": 2,
            "linecolor": "white",
            "showbackground": true,
            "ticks": "",
            "zerolinecolor": "white"
           }
          },
          "shapedefaults": {
           "line": {
            "color": "#2a3f5f"
           }
          },
          "ternary": {
           "aaxis": {
            "gridcolor": "white",
            "linecolor": "white",
            "ticks": ""
           },
           "baxis": {
            "gridcolor": "white",
            "linecolor": "white",
            "ticks": ""
           },
           "bgcolor": "#E5ECF6",
           "caxis": {
            "gridcolor": "white",
            "linecolor": "white",
            "ticks": ""
           }
          },
          "title": {
           "x": 0.05
          },
          "xaxis": {
           "automargin": true,
           "gridcolor": "white",
           "linecolor": "white",
           "ticks": "",
           "title": {
            "standoff": 15
           },
           "zerolinecolor": "white",
           "zerolinewidth": 2
          },
          "yaxis": {
           "automargin": true,
           "gridcolor": "white",
           "linecolor": "white",
           "ticks": "",
           "title": {
            "standoff": 15
           },
           "zerolinecolor": "white",
           "zerolinewidth": 2
          }
         }
        },
        "title": {
         "text": "Physical exchanges between sectors, t=0.00"
        }
       }
      }
     },
     "metadata": {},
     "output_type": "display_data"
    }
   ],
   "source": [
    "\n",
    "listX=['Minvest','Minter']\n",
    "nx=0\n",
    "region=0\n",
    "ntindex=0\n",
    "R=hub.get_dparam()\n",
    "\n",
    "c = [ 'rgba(255,0,255, 0.8)' , 'rgba(0,255,255, 0.8)' , 'rgba(255,255,0, 0.8)','rgba(127,255,127, 0.8)' ]\n",
    "\n",
    "### INITIAL LISTS TO FILL\n",
    "source=[] # Where the flux starts\n",
    "target=[] # Where the flux ends\n",
    "value =[] # Flux intensity\n",
    "types =[]\n",
    "colors=[]\n",
    "label =[] \n",
    "\n",
    "### MATRICES\n",
    "for ii,X in enumerate(listX):\n",
    "    d0=R[X]\n",
    "    values = d0['value'][ntindex,nx,region,:,:].reshape(-1)\n",
    "    names = R[d0['size'][0]]['list']\n",
    "    sectintdex=np.arange(len(names))\n",
    "\n",
    "    XX,YY=np.meshgrid(sectintdex+1,sectintdex+1)\n",
    "    XX=XX.astype(int).reshape(-1)-1\n",
    "    YY=YY.astype(int).reshape(-1)-1\n",
    "    Ntot=len(XX)\n",
    "    \n",
    "    source.extend(YY)\n",
    "    target.extend(XX)\n",
    "    types.extend([X for i in range(len(XX))])\n",
    "    value.extend(values)\n",
    "    colors.extend([c[ii] for j in range(len(XX))])\n",
    "    label = names\n",
    "\n",
    "\n",
    "### ADDING VECTORS\n",
    "Vecid = 'C'\n",
    "stype = 'Consumption'\n",
    "slabel = 'Household'\n",
    "V=R[Vecid]['value'][ntindex,nx,region,:,0]        # Values we add \n",
    "#if slabel not in label:\n",
    "label.append(slabel)\n",
    "target.extend([np.amax(target+source)+1]*len(V))\n",
    "source.extend(np.arange(0,len(V)))\n",
    "value.extend(V)\n",
    "types.extend([stype for i in range(len(V))])\n",
    "colors.extend([c[ii+1] for ii in range(len(V))])\n",
    "\n",
    "tempdict={          #'label':label,\n",
    "                   'target':target,\n",
    "                   'source':source,\n",
    "                   'value':value,\n",
    "                   'types':types,\n",
    "                   'colors':colors}\n",
    "df = pd.DataFrame(tempdict)\n",
    "\n",
    "\n",
    "link = dict(source = np.array(source).reshape(-1), \n",
    "                             target = np.array(target).reshape(-1), \n",
    "                             value = np.array(value).reshape(-1),\n",
    "                             color=colors)\n",
    "node = dict(  label = label,\n",
    "                             pad=50, \n",
    "                             thickness=5)\n",
    "data = go.Sankey(link = link , \n",
    "                 node= node)\n",
    "# plot\n",
    "figPhy = go.Figure(data)\n",
    "figPhy.update_layout(\n",
    "    hovermode = 'x',\n",
    "    title=f\"Physical exchanges between sectors, t={R['time']['value'][ntindex,0,0,0,0]:.2f}\",\n",
    "    font=dict(size = 10, color = 'white'),\n",
    "    paper_bgcolor='#5B5958'\n",
    ")\n",
    "figPhy.show()"
   ]
  },
  {
   "cell_type": "code",
   "execution_count": 18,
   "id": "bb3ac5dd",
   "metadata": {},
   "outputs": [
    {
     "name": "stdout",
     "output_type": "stream",
     "text": [
      "Household ['Consumption', 'Intermediate', 'Capital', 'Household', 'Banks']\n"
     ]
    },
    {
     "data": {
      "application/vnd.plotly.v1+json": {
       "config": {
        "plotlyServerURL": "https://plot.ly"
       },
       "data": [
        {
         "link": {
          "color": [
           "rgba(255,  0,255, 0.8)",
           "rgba(255,  0,255, 0.8)",
           "rgba(255,  0,255, 0.8)",
           "rgba(255,  0,255, 0.8)",
           "rgba(255,  0,255, 0.8)",
           "rgba(255,  0,255, 0.8)",
           "rgba(255,  0,255, 0.8)",
           "rgba(255,  0,255, 0.8)",
           "rgba(255,  0,255, 0.8)",
           "rgba(  0,255,255, 0.8)",
           "rgba(  0,255,255, 0.8)",
           "rgba(  0,255,255, 0.8)",
           "rgba(  0,255,255, 0.8)",
           "rgba(  0,255,255, 0.8)",
           "rgba(  0,255,255, 0.8)",
           "rgba(  0,255,255, 0.8)",
           "rgba(  0,255,255, 0.8)",
           "rgba(  0,255,255, 0.8)",
           "rgba(255,255,  0, 0.8)",
           "rgba(255,255,  0, 0.8)",
           "rgba(255,255,  0, 0.8)",
           "rgba(127,255,127, 0.8)",
           "rgba(127,255,127, 0.8)",
           "rgba(127,255,127, 0.8)",
           "rgba(0,0,0, 0.8)",
           "rgba(0,0,0, 0.8)",
           "rgba(0,0,0, 0.8)",
           "rgba(0,0,0, 0.8)"
          ],
          "source": [
           0,
           0,
           0,
           1,
           1,
           1,
           2,
           2,
           2,
           0,
           0,
           0,
           1,
           1,
           1,
           2,
           2,
           2,
           3,
           3,
           3,
           0,
           1,
           2,
           0,
           1,
           4,
           3
          ],
          "target": [
           0,
           1,
           2,
           0,
           1,
           2,
           0,
           1,
           2,
           0,
           1,
           2,
           0,
           1,
           2,
           0,
           1,
           2,
           0,
           1,
           2,
           3,
           3,
           3,
           4,
           4,
           2,
           4
          ],
          "value": [
           0,
           0,
           2.049499639126458,
           0,
           0,
           0.4008955104073284,
           0,
           0,
           1.6253754114609487,
           0,
           0.6423955054382537,
           0,
           0,
           0.11369099305570068,
           0,
           0,
           0.39478171768655473,
           0,
           6.2384309252330015,
           0,
           0,
           3.4821884304502504,
           0.6162768221656144,
           2.1399656726171363,
           0.03784896848290031,
           0.006046604928363446,
           0.043895573411263704,
           5.995204332975847e-18
          ]
         },
         "node": {
          "label": [
           "Consumption",
           "Intermediate",
           "Capital",
           "Household",
           "Banks"
          ],
          "pad": 50,
          "thickness": 5
         },
         "type": "sankey"
        }
       ],
       "layout": {
        "font": {
         "color": "white",
         "size": 10
        },
        "hovermode": "x",
        "paper_bgcolor": "#5B5958",
        "template": {
         "data": {
          "bar": [
           {
            "error_x": {
             "color": "#2a3f5f"
            },
            "error_y": {
             "color": "#2a3f5f"
            },
            "marker": {
             "line": {
              "color": "#E5ECF6",
              "width": 0.5
             },
             "pattern": {
              "fillmode": "overlay",
              "size": 10,
              "solidity": 0.2
             }
            },
            "type": "bar"
           }
          ],
          "barpolar": [
           {
            "marker": {
             "line": {
              "color": "#E5ECF6",
              "width": 0.5
             },
             "pattern": {
              "fillmode": "overlay",
              "size": 10,
              "solidity": 0.2
             }
            },
            "type": "barpolar"
           }
          ],
          "carpet": [
           {
            "aaxis": {
             "endlinecolor": "#2a3f5f",
             "gridcolor": "white",
             "linecolor": "white",
             "minorgridcolor": "white",
             "startlinecolor": "#2a3f5f"
            },
            "baxis": {
             "endlinecolor": "#2a3f5f",
             "gridcolor": "white",
             "linecolor": "white",
             "minorgridcolor": "white",
             "startlinecolor": "#2a3f5f"
            },
            "type": "carpet"
           }
          ],
          "choropleth": [
           {
            "colorbar": {
             "outlinewidth": 0,
             "ticks": ""
            },
            "type": "choropleth"
           }
          ],
          "contour": [
           {
            "colorbar": {
             "outlinewidth": 0,
             "ticks": ""
            },
            "colorscale": [
             [
              0,
              "#0d0887"
             ],
             [
              0.1111111111111111,
              "#46039f"
             ],
             [
              0.2222222222222222,
              "#7201a8"
             ],
             [
              0.3333333333333333,
              "#9c179e"
             ],
             [
              0.4444444444444444,
              "#bd3786"
             ],
             [
              0.5555555555555556,
              "#d8576b"
             ],
             [
              0.6666666666666666,
              "#ed7953"
             ],
             [
              0.7777777777777778,
              "#fb9f3a"
             ],
             [
              0.8888888888888888,
              "#fdca26"
             ],
             [
              1,
              "#f0f921"
             ]
            ],
            "type": "contour"
           }
          ],
          "contourcarpet": [
           {
            "colorbar": {
             "outlinewidth": 0,
             "ticks": ""
            },
            "type": "contourcarpet"
           }
          ],
          "heatmap": [
           {
            "colorbar": {
             "outlinewidth": 0,
             "ticks": ""
            },
            "colorscale": [
             [
              0,
              "#0d0887"
             ],
             [
              0.1111111111111111,
              "#46039f"
             ],
             [
              0.2222222222222222,
              "#7201a8"
             ],
             [
              0.3333333333333333,
              "#9c179e"
             ],
             [
              0.4444444444444444,
              "#bd3786"
             ],
             [
              0.5555555555555556,
              "#d8576b"
             ],
             [
              0.6666666666666666,
              "#ed7953"
             ],
             [
              0.7777777777777778,
              "#fb9f3a"
             ],
             [
              0.8888888888888888,
              "#fdca26"
             ],
             [
              1,
              "#f0f921"
             ]
            ],
            "type": "heatmap"
           }
          ],
          "heatmapgl": [
           {
            "colorbar": {
             "outlinewidth": 0,
             "ticks": ""
            },
            "colorscale": [
             [
              0,
              "#0d0887"
             ],
             [
              0.1111111111111111,
              "#46039f"
             ],
             [
              0.2222222222222222,
              "#7201a8"
             ],
             [
              0.3333333333333333,
              "#9c179e"
             ],
             [
              0.4444444444444444,
              "#bd3786"
             ],
             [
              0.5555555555555556,
              "#d8576b"
             ],
             [
              0.6666666666666666,
              "#ed7953"
             ],
             [
              0.7777777777777778,
              "#fb9f3a"
             ],
             [
              0.8888888888888888,
              "#fdca26"
             ],
             [
              1,
              "#f0f921"
             ]
            ],
            "type": "heatmapgl"
           }
          ],
          "histogram": [
           {
            "marker": {
             "pattern": {
              "fillmode": "overlay",
              "size": 10,
              "solidity": 0.2
             }
            },
            "type": "histogram"
           }
          ],
          "histogram2d": [
           {
            "colorbar": {
             "outlinewidth": 0,
             "ticks": ""
            },
            "colorscale": [
             [
              0,
              "#0d0887"
             ],
             [
              0.1111111111111111,
              "#46039f"
             ],
             [
              0.2222222222222222,
              "#7201a8"
             ],
             [
              0.3333333333333333,
              "#9c179e"
             ],
             [
              0.4444444444444444,
              "#bd3786"
             ],
             [
              0.5555555555555556,
              "#d8576b"
             ],
             [
              0.6666666666666666,
              "#ed7953"
             ],
             [
              0.7777777777777778,
              "#fb9f3a"
             ],
             [
              0.8888888888888888,
              "#fdca26"
             ],
             [
              1,
              "#f0f921"
             ]
            ],
            "type": "histogram2d"
           }
          ],
          "histogram2dcontour": [
           {
            "colorbar": {
             "outlinewidth": 0,
             "ticks": ""
            },
            "colorscale": [
             [
              0,
              "#0d0887"
             ],
             [
              0.1111111111111111,
              "#46039f"
             ],
             [
              0.2222222222222222,
              "#7201a8"
             ],
             [
              0.3333333333333333,
              "#9c179e"
             ],
             [
              0.4444444444444444,
              "#bd3786"
             ],
             [
              0.5555555555555556,
              "#d8576b"
             ],
             [
              0.6666666666666666,
              "#ed7953"
             ],
             [
              0.7777777777777778,
              "#fb9f3a"
             ],
             [
              0.8888888888888888,
              "#fdca26"
             ],
             [
              1,
              "#f0f921"
             ]
            ],
            "type": "histogram2dcontour"
           }
          ],
          "mesh3d": [
           {
            "colorbar": {
             "outlinewidth": 0,
             "ticks": ""
            },
            "type": "mesh3d"
           }
          ],
          "parcoords": [
           {
            "line": {
             "colorbar": {
              "outlinewidth": 0,
              "ticks": ""
             }
            },
            "type": "parcoords"
           }
          ],
          "pie": [
           {
            "automargin": true,
            "type": "pie"
           }
          ],
          "scatter": [
           {
            "fillpattern": {
             "fillmode": "overlay",
             "size": 10,
             "solidity": 0.2
            },
            "type": "scatter"
           }
          ],
          "scatter3d": [
           {
            "line": {
             "colorbar": {
              "outlinewidth": 0,
              "ticks": ""
             }
            },
            "marker": {
             "colorbar": {
              "outlinewidth": 0,
              "ticks": ""
             }
            },
            "type": "scatter3d"
           }
          ],
          "scattercarpet": [
           {
            "marker": {
             "colorbar": {
              "outlinewidth": 0,
              "ticks": ""
             }
            },
            "type": "scattercarpet"
           }
          ],
          "scattergeo": [
           {
            "marker": {
             "colorbar": {
              "outlinewidth": 0,
              "ticks": ""
             }
            },
            "type": "scattergeo"
           }
          ],
          "scattergl": [
           {
            "marker": {
             "colorbar": {
              "outlinewidth": 0,
              "ticks": ""
             }
            },
            "type": "scattergl"
           }
          ],
          "scattermapbox": [
           {
            "marker": {
             "colorbar": {
              "outlinewidth": 0,
              "ticks": ""
             }
            },
            "type": "scattermapbox"
           }
          ],
          "scatterpolar": [
           {
            "marker": {
             "colorbar": {
              "outlinewidth": 0,
              "ticks": ""
             }
            },
            "type": "scatterpolar"
           }
          ],
          "scatterpolargl": [
           {
            "marker": {
             "colorbar": {
              "outlinewidth": 0,
              "ticks": ""
             }
            },
            "type": "scatterpolargl"
           }
          ],
          "scatterternary": [
           {
            "marker": {
             "colorbar": {
              "outlinewidth": 0,
              "ticks": ""
             }
            },
            "type": "scatterternary"
           }
          ],
          "surface": [
           {
            "colorbar": {
             "outlinewidth": 0,
             "ticks": ""
            },
            "colorscale": [
             [
              0,
              "#0d0887"
             ],
             [
              0.1111111111111111,
              "#46039f"
             ],
             [
              0.2222222222222222,
              "#7201a8"
             ],
             [
              0.3333333333333333,
              "#9c179e"
             ],
             [
              0.4444444444444444,
              "#bd3786"
             ],
             [
              0.5555555555555556,
              "#d8576b"
             ],
             [
              0.6666666666666666,
              "#ed7953"
             ],
             [
              0.7777777777777778,
              "#fb9f3a"
             ],
             [
              0.8888888888888888,
              "#fdca26"
             ],
             [
              1,
              "#f0f921"
             ]
            ],
            "type": "surface"
           }
          ],
          "table": [
           {
            "cells": {
             "fill": {
              "color": "#EBF0F8"
             },
             "line": {
              "color": "white"
             }
            },
            "header": {
             "fill": {
              "color": "#C8D4E3"
             },
             "line": {
              "color": "white"
             }
            },
            "type": "table"
           }
          ]
         },
         "layout": {
          "annotationdefaults": {
           "arrowcolor": "#2a3f5f",
           "arrowhead": 0,
           "arrowwidth": 1
          },
          "autotypenumbers": "strict",
          "coloraxis": {
           "colorbar": {
            "outlinewidth": 0,
            "ticks": ""
           }
          },
          "colorscale": {
           "diverging": [
            [
             0,
             "#8e0152"
            ],
            [
             0.1,
             "#c51b7d"
            ],
            [
             0.2,
             "#de77ae"
            ],
            [
             0.3,
             "#f1b6da"
            ],
            [
             0.4,
             "#fde0ef"
            ],
            [
             0.5,
             "#f7f7f7"
            ],
            [
             0.6,
             "#e6f5d0"
            ],
            [
             0.7,
             "#b8e186"
            ],
            [
             0.8,
             "#7fbc41"
            ],
            [
             0.9,
             "#4d9221"
            ],
            [
             1,
             "#276419"
            ]
           ],
           "sequential": [
            [
             0,
             "#0d0887"
            ],
            [
             0.1111111111111111,
             "#46039f"
            ],
            [
             0.2222222222222222,
             "#7201a8"
            ],
            [
             0.3333333333333333,
             "#9c179e"
            ],
            [
             0.4444444444444444,
             "#bd3786"
            ],
            [
             0.5555555555555556,
             "#d8576b"
            ],
            [
             0.6666666666666666,
             "#ed7953"
            ],
            [
             0.7777777777777778,
             "#fb9f3a"
            ],
            [
             0.8888888888888888,
             "#fdca26"
            ],
            [
             1,
             "#f0f921"
            ]
           ],
           "sequentialminus": [
            [
             0,
             "#0d0887"
            ],
            [
             0.1111111111111111,
             "#46039f"
            ],
            [
             0.2222222222222222,
             "#7201a8"
            ],
            [
             0.3333333333333333,
             "#9c179e"
            ],
            [
             0.4444444444444444,
             "#bd3786"
            ],
            [
             0.5555555555555556,
             "#d8576b"
            ],
            [
             0.6666666666666666,
             "#ed7953"
            ],
            [
             0.7777777777777778,
             "#fb9f3a"
            ],
            [
             0.8888888888888888,
             "#fdca26"
            ],
            [
             1,
             "#f0f921"
            ]
           ]
          },
          "colorway": [
           "#636efa",
           "#EF553B",
           "#00cc96",
           "#ab63fa",
           "#FFA15A",
           "#19d3f3",
           "#FF6692",
           "#B6E880",
           "#FF97FF",
           "#FECB52"
          ],
          "font": {
           "color": "#2a3f5f"
          },
          "geo": {
           "bgcolor": "white",
           "lakecolor": "white",
           "landcolor": "#E5ECF6",
           "showlakes": true,
           "showland": true,
           "subunitcolor": "white"
          },
          "hoverlabel": {
           "align": "left"
          },
          "hovermode": "closest",
          "mapbox": {
           "style": "light"
          },
          "paper_bgcolor": "white",
          "plot_bgcolor": "#E5ECF6",
          "polar": {
           "angularaxis": {
            "gridcolor": "white",
            "linecolor": "white",
            "ticks": ""
           },
           "bgcolor": "#E5ECF6",
           "radialaxis": {
            "gridcolor": "white",
            "linecolor": "white",
            "ticks": ""
           }
          },
          "scene": {
           "xaxis": {
            "backgroundcolor": "#E5ECF6",
            "gridcolor": "white",
            "gridwidth": 2,
            "linecolor": "white",
            "showbackground": true,
            "ticks": "",
            "zerolinecolor": "white"
           },
           "yaxis": {
            "backgroundcolor": "#E5ECF6",
            "gridcolor": "white",
            "gridwidth": 2,
            "linecolor": "white",
            "showbackground": true,
            "ticks": "",
            "zerolinecolor": "white"
           },
           "zaxis": {
            "backgroundcolor": "#E5ECF6",
            "gridcolor": "white",
            "gridwidth": 2,
            "linecolor": "white",
            "showbackground": true,
            "ticks": "",
            "zerolinecolor": "white"
           }
          },
          "shapedefaults": {
           "line": {
            "color": "#2a3f5f"
           }
          },
          "ternary": {
           "aaxis": {
            "gridcolor": "white",
            "linecolor": "white",
            "ticks": ""
           },
           "baxis": {
            "gridcolor": "white",
            "linecolor": "white",
            "ticks": ""
           },
           "bgcolor": "#E5ECF6",
           "caxis": {
            "gridcolor": "white",
            "linecolor": "white",
            "ticks": ""
           }
          },
          "title": {
           "x": 0.05
          },
          "xaxis": {
           "automargin": true,
           "gridcolor": "white",
           "linecolor": "white",
           "ticks": "",
           "title": {
            "standoff": 15
           },
           "zerolinecolor": "white",
           "zerolinewidth": 2
          },
          "yaxis": {
           "automargin": true,
           "gridcolor": "white",
           "linecolor": "white",
           "ticks": "",
           "title": {
            "standoff": 15
           },
           "zerolinecolor": "white",
           "zerolinewidth": 2
          }
         }
        },
        "title": {
         "text": "Monetary exchanges between sectors, t=49.90"
        }
       }
      }
     },
     "metadata": {},
     "output_type": "display_data"
    }
   ],
   "source": [
    "#### MONETARY FLUXES \n",
    "Matrices=['MtransactI','MtransactY']\n",
    "Vectors =['wL','pC','rD']\n",
    "nx=0\n",
    "region=0\n",
    "ntindex=-1\n",
    "R=hub.get_dparam()\n",
    "\n",
    "c = [ 'rgba(255,  0,255, 0.8)' , \n",
    "      'rgba(  0,255,255, 0.8)' ,\n",
    "      'rgba(255,255,  0, 0.8)' ,\n",
    "      'rgba(127,255,127, 0.8)' ,\n",
    "      'rgba(0,0,0, 0.8)' ,\n",
    "      'rgba(127,255,255, 0.8)' ,\n",
    "      'rgba(255,127,255, 0.8)']\n",
    "\n",
    "### INITIAL LISTS TO FILL\n",
    "TD={               'label' :[], # names of target/sources\n",
    "                   'target':[], # Where the flux ends\n",
    "                   'source':[], # Where the flux starts\n",
    "                   'value' :[], # Flux intensity\n",
    "                   'types' :[], # Flux category \n",
    "                   'colors':[]}\n",
    "\n",
    "def Add_Matrix(X):\n",
    "    d0=R[X]\n",
    "    values = d0['value'][ntindex,nx,region,:,:].reshape(-1)\n",
    "    names = R[d0['size'][0]]['list']\n",
    "    sectintdex=np.arange(len(names))\n",
    "\n",
    "    XX,YY=np.meshgrid(sectintdex+1,sectintdex+1)\n",
    "    XX=XX.astype(int).reshape(-1)-1\n",
    "    YY=YY.astype(int).reshape(-1)-1\n",
    "    Ntot=len(XX)\n",
    "    \n",
    "    TD['source'].extend(YY)\n",
    "    TD['target'].extend(XX)\n",
    "    TD['types'].extend([X for i in range(len(XX))])\n",
    "    TD['value'].extend(values)\n",
    "    TD['colors'].extend([len(set(TD['types']))-1 for j in range(len(XX))])\n",
    "    TD['label'] = names\n",
    "    return TD\n",
    "\n",
    "def Add_Vector(TD,Vecid,stype,slabel,switch):\n",
    "    V=R[Vecid]['value'][ntindex,nx,region,:,0]        # Values we add \n",
    "    if slabel not in TD['label']:\n",
    "        TD['label'].append(slabel)\n",
    "        plus= 1\n",
    "    else :\n",
    "        plus=0\n",
    "    V1 = np.arange(0,len(V))\n",
    "    V2 = [np.amax(TD['target']+TD['source'])+plus]*len(V)\n",
    "    TD['target'].extend(V1 if switch else V2) \n",
    "    TD['source'].extend(V2 if switch else V1)\n",
    "    TD['value'].extend(V)\n",
    "    TD['types'].extend([stype for i in range(len(V))])\n",
    "    TD['colors'].extend([len(set(TD['colors'])) for ii in range(len(V))])\n",
    "    return TD\n",
    "\n",
    "def Add_scalar(TD,name,source,target,type,newcolor=False):\n",
    "    print(source,TD['label'])\n",
    "    if source in TD['label']:\n",
    "        sourceindex = TD['label'].index(source)\n",
    "    else : \n",
    "        print(source,'adding')\n",
    "        sourceindex = len(TD['label'])\n",
    "        TD['label'].append(source)\n",
    "\n",
    "    if target in TD['label']:\n",
    "        targetindex = TD['label'].index(target)\n",
    "    else : \n",
    "        targetindex = len(TD['label'])\n",
    "        TD['label'].append(target)\n",
    "\n",
    "    TD['source'].append(sourceindex)\n",
    "    TD['target'].append(targetindex)\n",
    "    TD['value'].append(R[name]['value'][ntindex,nx,region,0,0])\n",
    "    TD['types'].append(type)\n",
    "    TD['colors'].append(TD['colors'][-1]+1 if newcolor else TD['colors'][-1])\n",
    "    return TD    \n",
    "\n",
    "\n",
    "### MATRICES\n",
    "for ii,X in enumerate(Matrices):\n",
    "    Add_Matrix(X)\n",
    "\n",
    "\n",
    "\n",
    "### ADDING VECTORS\n",
    "Vecid = 'pC'\n",
    "stype = 'Consumption'\n",
    "slabel = 'Household'\n",
    "switch = True\n",
    "TD = Add_Vector(TD,Vecid,stype,slabel,switch)\n",
    "\n",
    "Vecid = 'wL'\n",
    "stype = 'Wages'\n",
    "slabel = 'Household'\n",
    "TD = Add_Vector(TD,Vecid,stype,slabel,False)\n",
    "\n",
    "Vecid = 'rD'\n",
    "stype = 'Interests'\n",
    "slabel = 'Banks'\n",
    "TD = Add_Vector(TD,Vecid,stype,slabel,False)\n",
    "\n",
    "TD = Add_scalar(TD,'rDh','Household','Banks','Interests',False)\n",
    "\n",
    "\n",
    "TD['colors']= [c[i] for i in TD['colors']]\n",
    "for i,v in enumerate(TD['value']):\n",
    "    if v<0:\n",
    "        TD['target'][i],TD['source'][i] = TD['source'][i],TD['target'][i]\n",
    "        TD['value'][i]*=-1\n",
    "\n",
    "\n",
    "df = pd.DataFrame({k:v for k,v in TD.items() if k!='label'})\n",
    "\n",
    "\n",
    "link = dict(source = np.array(TD['source']).reshape(-1), \n",
    "                             target = np.array(TD['target']).reshape(-1), \n",
    "                             value = np.array(TD['value']).reshape(-1),\n",
    "                             color=TD['colors'])\n",
    "node = dict(  label = TD['label'],\n",
    "                             pad=50, \n",
    "                             thickness=5)\n",
    "data = go.Sankey(link = link , \n",
    "                 node= node)\n",
    "# plot\n",
    "figMoney = go.Figure(data)\n",
    "figMoney.update_layout(\n",
    "    hovermode = 'x',\n",
    "    title=f\"Monetary exchanges between sectors, t={R['time']['value'][ntindex,0,0,0,0]:.2f}\",\n",
    "    font=dict(size = 10, color = 'white'),\n",
    "    paper_bgcolor='#5B5958'\n",
    ")\n",
    "figMoney.show()"
   ]
  },
  {
   "cell_type": "code",
   "execution_count": 61,
   "id": "4ca08d00",
   "metadata": {},
   "outputs": [],
   "source": [
    "def Sankey(hub,t=0,idx=0,Region=0):\n",
    "    '''Physical and monetary Sankey diagrams'''\n",
    "\n",
    "    if hub.dmodel['name'] not in ['ECHIMES','CHIMES0']:\n",
    "        print('CAREFUL IT CAN ONLY WORKS ON ECHIMES RELATED MODELS')\n",
    "\n",
    "    c = ['rgba(255,  0,255, 0.8)', # Colors \n",
    "        'rgba(  0,255,255, 0.8)' ,\n",
    "        'rgba(255,255,  0, 0.8)' ,\n",
    "        'rgba(127,255,127, 0.8)' ,\n",
    "        'rgba(0,0,0, 0.8)'       ,\n",
    "        'rgba(127,255,255, 0.8)' ,\n",
    "        'rgba(255,127,255, 0.8)']\n",
    "\n",
    "    R=hub.get_dparam()\n",
    "    ##################### TRANSLATING INPUT #################\n",
    "    # idx input\n",
    "    if type(idx)==int: pass \n",
    "    elif type(idx)==str:\n",
    "        try : idx=hub.dparam['nx']['list'].index(idx)\n",
    "        except BaseException:\n",
    "            liste=hub.dparam['nx']['list']\n",
    "            raise Exception(f'the parrallel system cannot be found !\\n you gave {idx} in {liste}')\n",
    "    else: raise Exception(f'the parrallel index cannot be understood ! you gave {idx}')\n",
    "\n",
    "    # Region input \n",
    "    if type(Region)==int: pass \n",
    "    elif type(Region)==str:\n",
    "        try : Region=hub.dparam['nr']['list'].index(Region)\n",
    "        except BaseException:\n",
    "            liste=hub.dparam['nr']['list']\n",
    "            raise Exception(f'the region system cannot be found !\\n you gave {idx} in {liste}')\n",
    "    else: raise Exception(f'the region index cannot be understood ! you gave {idx}')\n",
    "\n",
    "    # time input\n",
    "    time = R['time']['value'][:,idx,Region,0,0]\n",
    "    if t: ntindex=np.argmin(np.abs(time-t))\n",
    "    else : ntindex=0\n",
    "    ###############################################################\n",
    "    ### LOCAL FUNCTIONS ###########################################\n",
    "    def Add_Matrix(X,TDi):\n",
    "        R=hub.get_dparam()\n",
    "        d0=R[X]\n",
    "        values = d0['value'][ntindex,idx,Region,:,:].reshape(-1)\n",
    "        names = R[d0['size'][0]]['list']\n",
    "        sectintdex=np.arange(len(names))\n",
    "\n",
    "        XX,YY=np.meshgrid(sectintdex+1,sectintdex+1)\n",
    "        XX=XX.astype(int).reshape(-1)-1\n",
    "        YY=YY.astype(int).reshape(-1)-1\n",
    "    \n",
    "        TDi['source'].extend(YY)\n",
    "        TDi['target'].extend(XX)\n",
    "        TDi['types'].extend([X for i in range(len(XX))])\n",
    "        TDi['value'].extend(values)\n",
    "        TDi['colors'].extend([len(set(TDi['types']))-1 for j in range(len(XX))])\n",
    "        TDi['label'] = names\n",
    "\n",
    "        #print('MATRIX',X)\n",
    "        #print(values)\n",
    "        #for k,v in TDi.items(): print(k,len(v),v)\n",
    "        \n",
    "        return TDi\n",
    "        \n",
    "    def Add_Vector(TD,Vecid,stype,slabel,switch):\n",
    "        V=R[Vecid]['value'][ntindex,idx,Region,:,0]        # Values we add \n",
    "        if slabel not in TD['label']:\n",
    "            TD['label'].append(slabel)\n",
    "            plus= 1\n",
    "        else :\n",
    "            plus=0\n",
    "        V1 = np.arange(0,len(V))\n",
    "        V2 = [np.amax(TD['target']+TD['source'])+plus]*len(V)\n",
    "        TD['target'].extend(V1 if switch else V2) \n",
    "        TD['source'].extend(V2 if switch else V1)\n",
    "        TD['value'].extend(V)\n",
    "        TD['types'].extend([stype for i in range(len(V))])\n",
    "        TD['colors'].extend([len(set(TD['colors'])) for ii in range(len(V))])\n",
    "        return TD\n",
    "\n",
    "    def Add_scalar(TD,name,source,target,type,newcolor=False):\n",
    "        if source in TD['label']:\n",
    "            sourceindex = TD['label'].index(source)\n",
    "        else : \n",
    "            print(source,'adding')\n",
    "            sourceindex = len(TD['label'])\n",
    "            TD['label'].append(source)\n",
    "\n",
    "        if target in TD['label']:\n",
    "            targetindex = TD['label'].index(target)\n",
    "        else : \n",
    "            targetindex = len(TD['label'])\n",
    "            TD['label'].append(target)\n",
    "\n",
    "        TD['source'].append(sourceindex)\n",
    "        TD['target'].append(targetindex)\n",
    "        TD['value'].append(R[name]['value'][ntindex,idx,Region,0,0])\n",
    "        TD['types'].append(type)\n",
    "        TD['colors'].append(TD['colors'][-1]+1 if newcolor else TD['colors'][-1])\n",
    "        return TD    \n",
    "\n",
    "    for _ in range(1):\n",
    "        ###############################################################\n",
    "        ### PHYSICAL FLUXES ###########################################\n",
    "        TDm={           'label' :[], # names of target/sources\n",
    "                        'target':[], # Where the flux ends\n",
    "                        'source':[], # Where the flux starts\n",
    "                        'value' :[], # Flux intensity\n",
    "                        'types' :[], # Flux category \n",
    "                        'colors':[]}\n",
    "\n",
    "        ### MATRICES\n",
    "        for X in ['Minvest','Minter']: TDm=Add_Matrix(X,TDm)\n",
    "\n",
    "        ### ADDING VECTORS\n",
    "        TDm = Add_Vector(TDm,'C','Consumption','Household',False)\n",
    "        \n",
    "        ### INVERSE VECTORS\n",
    "        for i,v in enumerate(TDm['value']):\n",
    "            if v<0:\n",
    "                TDm['target'][i],TDm['source'][i] = TDm['source'][i],TDm['target'][i]\n",
    "                TDm['value'][i]*=-1\n",
    "\n",
    "        TDm['colors']= [c[i] for i in TDm['colors']]\n",
    "\n",
    "        data = go.Sankey(link = dict(source = np.array(TDm['source']).reshape(-1), \n",
    "                                    target = np.array(TDm['target']).reshape(-1), \n",
    "                                    value = np.array(TDm['value']).reshape(-1),\n",
    "                                    color=TDm['colors']), \n",
    "                        node = dict(label = TDm['label'],\n",
    "                                    pad=50, \n",
    "                                    thickness=5))\n",
    "\n",
    "        figPhy = go.Figure(data)\n",
    "        figPhy.update_layout(\n",
    "            hovermode = 'x',\n",
    "            title=f\"Physical exchanges between sectors, t={R['time']['value'][ntindex,0,0,0,0]:.2f}\",\n",
    "            font=dict(size = 10, color = 'white'),\n",
    "            paper_bgcolor='#5B5958'\n",
    "        )\n",
    "        figPhy.show()\n",
    "\n",
    "    ###############################################################\n",
    "    #### MONETARY FLUXES ##########################################\n",
    "    for _ in range(1):\n",
    "        Matrices=['MtransactI','MtransactY']\n",
    "\n",
    "        ### INITIAL LISTS TO FILL\n",
    "        TD={            'label' :[], # names of target/sources\n",
    "                        'target':[], # Where the flux ends\n",
    "                        'source':[], # Where the flux starts\n",
    "                        'value' :[], # Flux intensity\n",
    "                        'types' :[], # Flux category \n",
    "                        'colors':[]}\n",
    "\n",
    "        ### MATRICES\n",
    "        for X in Matrices: TD=Add_Matrix(X,TD)\n",
    "\n",
    "        ### ADDING VECTORS\n",
    "        TD = Add_Vector(TD,'pC','Consumption','Household',True)\n",
    "        TD = Add_Vector(TD,'wL','Wages','Household',False)\n",
    "        TD = Add_Vector(TD,'rD','Interests','Banks',False)\n",
    "\n",
    "        ### Adding scalar\n",
    "        TD = Add_scalar(TD,'rDh','Household','Banks','Interests',False)\n",
    "        TD['colors']= [c[i] for i in TD['colors']]\n",
    "\n",
    "        for i,v in enumerate(TD['value']):\n",
    "            if v<0:\n",
    "                TD['target'][i],TD['source'][i] = TD['source'][i],TD['target'][i]\n",
    "                TD['value'][i]*=-1\n",
    "\n",
    "        data = go.Sankey(link = dict(source = np.array(TD['source']).reshape(-1), \n",
    "                                    target = np.array(TD['target']).reshape(-1), \n",
    "                                    value = np.array(TD['value']).reshape(-1),\n",
    "                                    color=TD['colors']), \n",
    "                        node= dict( label = TD['label'],\n",
    "                                    pad=50, \n",
    "                                    thickness=5))\n",
    "\n",
    "        # plot\n",
    "        figMoney = go.Figure(data)\n",
    "        figMoney.update_layout(\n",
    "            hovermode = 'x',\n",
    "            title=f\"Monetary exchanges between sectors, t={R['time']['value'][ntindex,0,0,0,0]:.2f}\",\n",
    "            font=dict(size = 10, color = 'white'),\n",
    "            paper_bgcolor='#5B5958'\n",
    "        )\n",
    "        figMoney.show()"
   ]
  },
  {
   "cell_type": "code",
   "execution_count": 62,
   "id": "e1867ccd",
   "metadata": {},
   "outputs": [
    {
     "data": {
      "application/vnd.plotly.v1+json": {
       "config": {
        "plotlyServerURL": "https://plot.ly"
       },
       "data": [
        {
         "link": {
          "color": [
           "rgba(255,  0,255, 0.8)",
           "rgba(255,  0,255, 0.8)",
           "rgba(255,  0,255, 0.8)",
           "rgba(255,  0,255, 0.8)",
           "rgba(255,  0,255, 0.8)",
           "rgba(255,  0,255, 0.8)",
           "rgba(255,  0,255, 0.8)",
           "rgba(255,  0,255, 0.8)",
           "rgba(255,  0,255, 0.8)",
           "rgba(  0,255,255, 0.8)",
           "rgba(  0,255,255, 0.8)",
           "rgba(  0,255,255, 0.8)",
           "rgba(  0,255,255, 0.8)",
           "rgba(  0,255,255, 0.8)",
           "rgba(  0,255,255, 0.8)",
           "rgba(  0,255,255, 0.8)",
           "rgba(  0,255,255, 0.8)",
           "rgba(  0,255,255, 0.8)",
           "rgba(255,255,  0, 0.8)",
           "rgba(255,255,  0, 0.8)",
           "rgba(255,255,  0, 0.8)"
          ],
          "source": [
           0,
           0,
           0,
           1,
           1,
           1,
           2,
           2,
           2,
           0,
           0,
           0,
           1,
           1,
           1,
           2,
           2,
           2,
           0,
           1,
           2
          ],
          "target": [
           0,
           1,
           2,
           0,
           1,
           2,
           0,
           1,
           2,
           0,
           1,
           2,
           0,
           1,
           2,
           0,
           1,
           2,
           3,
           3,
           3
          ],
          "value": [
           0,
           0,
           0,
           0,
           0,
           0,
           1.0666069240685319,
           0.2086352781260778,
           0.845882885255789,
           0,
           0,
           0,
           0.3485791086275423,
           0.06169144192766377,
           0.2142179671069577,
           0,
           0,
           0,
           3.500660504480834,
           0,
           0
          ]
         },
         "node": {
          "label": [
           "Consumption",
           "Intermediate",
           "Capital",
           "Household"
          ],
          "pad": 50,
          "thickness": 5
         },
         "type": "sankey"
        }
       ],
       "layout": {
        "font": {
         "color": "white",
         "size": 10
        },
        "hovermode": "x",
        "paper_bgcolor": "#5B5958",
        "template": {
         "data": {
          "bar": [
           {
            "error_x": {
             "color": "#2a3f5f"
            },
            "error_y": {
             "color": "#2a3f5f"
            },
            "marker": {
             "line": {
              "color": "#E5ECF6",
              "width": 0.5
             },
             "pattern": {
              "fillmode": "overlay",
              "size": 10,
              "solidity": 0.2
             }
            },
            "type": "bar"
           }
          ],
          "barpolar": [
           {
            "marker": {
             "line": {
              "color": "#E5ECF6",
              "width": 0.5
             },
             "pattern": {
              "fillmode": "overlay",
              "size": 10,
              "solidity": 0.2
             }
            },
            "type": "barpolar"
           }
          ],
          "carpet": [
           {
            "aaxis": {
             "endlinecolor": "#2a3f5f",
             "gridcolor": "white",
             "linecolor": "white",
             "minorgridcolor": "white",
             "startlinecolor": "#2a3f5f"
            },
            "baxis": {
             "endlinecolor": "#2a3f5f",
             "gridcolor": "white",
             "linecolor": "white",
             "minorgridcolor": "white",
             "startlinecolor": "#2a3f5f"
            },
            "type": "carpet"
           }
          ],
          "choropleth": [
           {
            "colorbar": {
             "outlinewidth": 0,
             "ticks": ""
            },
            "type": "choropleth"
           }
          ],
          "contour": [
           {
            "colorbar": {
             "outlinewidth": 0,
             "ticks": ""
            },
            "colorscale": [
             [
              0,
              "#0d0887"
             ],
             [
              0.1111111111111111,
              "#46039f"
             ],
             [
              0.2222222222222222,
              "#7201a8"
             ],
             [
              0.3333333333333333,
              "#9c179e"
             ],
             [
              0.4444444444444444,
              "#bd3786"
             ],
             [
              0.5555555555555556,
              "#d8576b"
             ],
             [
              0.6666666666666666,
              "#ed7953"
             ],
             [
              0.7777777777777778,
              "#fb9f3a"
             ],
             [
              0.8888888888888888,
              "#fdca26"
             ],
             [
              1,
              "#f0f921"
             ]
            ],
            "type": "contour"
           }
          ],
          "contourcarpet": [
           {
            "colorbar": {
             "outlinewidth": 0,
             "ticks": ""
            },
            "type": "contourcarpet"
           }
          ],
          "heatmap": [
           {
            "colorbar": {
             "outlinewidth": 0,
             "ticks": ""
            },
            "colorscale": [
             [
              0,
              "#0d0887"
             ],
             [
              0.1111111111111111,
              "#46039f"
             ],
             [
              0.2222222222222222,
              "#7201a8"
             ],
             [
              0.3333333333333333,
              "#9c179e"
             ],
             [
              0.4444444444444444,
              "#bd3786"
             ],
             [
              0.5555555555555556,
              "#d8576b"
             ],
             [
              0.6666666666666666,
              "#ed7953"
             ],
             [
              0.7777777777777778,
              "#fb9f3a"
             ],
             [
              0.8888888888888888,
              "#fdca26"
             ],
             [
              1,
              "#f0f921"
             ]
            ],
            "type": "heatmap"
           }
          ],
          "heatmapgl": [
           {
            "colorbar": {
             "outlinewidth": 0,
             "ticks": ""
            },
            "colorscale": [
             [
              0,
              "#0d0887"
             ],
             [
              0.1111111111111111,
              "#46039f"
             ],
             [
              0.2222222222222222,
              "#7201a8"
             ],
             [
              0.3333333333333333,
              "#9c179e"
             ],
             [
              0.4444444444444444,
              "#bd3786"
             ],
             [
              0.5555555555555556,
              "#d8576b"
             ],
             [
              0.6666666666666666,
              "#ed7953"
             ],
             [
              0.7777777777777778,
              "#fb9f3a"
             ],
             [
              0.8888888888888888,
              "#fdca26"
             ],
             [
              1,
              "#f0f921"
             ]
            ],
            "type": "heatmapgl"
           }
          ],
          "histogram": [
           {
            "marker": {
             "pattern": {
              "fillmode": "overlay",
              "size": 10,
              "solidity": 0.2
             }
            },
            "type": "histogram"
           }
          ],
          "histogram2d": [
           {
            "colorbar": {
             "outlinewidth": 0,
             "ticks": ""
            },
            "colorscale": [
             [
              0,
              "#0d0887"
             ],
             [
              0.1111111111111111,
              "#46039f"
             ],
             [
              0.2222222222222222,
              "#7201a8"
             ],
             [
              0.3333333333333333,
              "#9c179e"
             ],
             [
              0.4444444444444444,
              "#bd3786"
             ],
             [
              0.5555555555555556,
              "#d8576b"
             ],
             [
              0.6666666666666666,
              "#ed7953"
             ],
             [
              0.7777777777777778,
              "#fb9f3a"
             ],
             [
              0.8888888888888888,
              "#fdca26"
             ],
             [
              1,
              "#f0f921"
             ]
            ],
            "type": "histogram2d"
           }
          ],
          "histogram2dcontour": [
           {
            "colorbar": {
             "outlinewidth": 0,
             "ticks": ""
            },
            "colorscale": [
             [
              0,
              "#0d0887"
             ],
             [
              0.1111111111111111,
              "#46039f"
             ],
             [
              0.2222222222222222,
              "#7201a8"
             ],
             [
              0.3333333333333333,
              "#9c179e"
             ],
             [
              0.4444444444444444,
              "#bd3786"
             ],
             [
              0.5555555555555556,
              "#d8576b"
             ],
             [
              0.6666666666666666,
              "#ed7953"
             ],
             [
              0.7777777777777778,
              "#fb9f3a"
             ],
             [
              0.8888888888888888,
              "#fdca26"
             ],
             [
              1,
              "#f0f921"
             ]
            ],
            "type": "histogram2dcontour"
           }
          ],
          "mesh3d": [
           {
            "colorbar": {
             "outlinewidth": 0,
             "ticks": ""
            },
            "type": "mesh3d"
           }
          ],
          "parcoords": [
           {
            "line": {
             "colorbar": {
              "outlinewidth": 0,
              "ticks": ""
             }
            },
            "type": "parcoords"
           }
          ],
          "pie": [
           {
            "automargin": true,
            "type": "pie"
           }
          ],
          "scatter": [
           {
            "fillpattern": {
             "fillmode": "overlay",
             "size": 10,
             "solidity": 0.2
            },
            "type": "scatter"
           }
          ],
          "scatter3d": [
           {
            "line": {
             "colorbar": {
              "outlinewidth": 0,
              "ticks": ""
             }
            },
            "marker": {
             "colorbar": {
              "outlinewidth": 0,
              "ticks": ""
             }
            },
            "type": "scatter3d"
           }
          ],
          "scattercarpet": [
           {
            "marker": {
             "colorbar": {
              "outlinewidth": 0,
              "ticks": ""
             }
            },
            "type": "scattercarpet"
           }
          ],
          "scattergeo": [
           {
            "marker": {
             "colorbar": {
              "outlinewidth": 0,
              "ticks": ""
             }
            },
            "type": "scattergeo"
           }
          ],
          "scattergl": [
           {
            "marker": {
             "colorbar": {
              "outlinewidth": 0,
              "ticks": ""
             }
            },
            "type": "scattergl"
           }
          ],
          "scattermapbox": [
           {
            "marker": {
             "colorbar": {
              "outlinewidth": 0,
              "ticks": ""
             }
            },
            "type": "scattermapbox"
           }
          ],
          "scatterpolar": [
           {
            "marker": {
             "colorbar": {
              "outlinewidth": 0,
              "ticks": ""
             }
            },
            "type": "scatterpolar"
           }
          ],
          "scatterpolargl": [
           {
            "marker": {
             "colorbar": {
              "outlinewidth": 0,
              "ticks": ""
             }
            },
            "type": "scatterpolargl"
           }
          ],
          "scatterternary": [
           {
            "marker": {
             "colorbar": {
              "outlinewidth": 0,
              "ticks": ""
             }
            },
            "type": "scatterternary"
           }
          ],
          "surface": [
           {
            "colorbar": {
             "outlinewidth": 0,
             "ticks": ""
            },
            "colorscale": [
             [
              0,
              "#0d0887"
             ],
             [
              0.1111111111111111,
              "#46039f"
             ],
             [
              0.2222222222222222,
              "#7201a8"
             ],
             [
              0.3333333333333333,
              "#9c179e"
             ],
             [
              0.4444444444444444,
              "#bd3786"
             ],
             [
              0.5555555555555556,
              "#d8576b"
             ],
             [
              0.6666666666666666,
              "#ed7953"
             ],
             [
              0.7777777777777778,
              "#fb9f3a"
             ],
             [
              0.8888888888888888,
              "#fdca26"
             ],
             [
              1,
              "#f0f921"
             ]
            ],
            "type": "surface"
           }
          ],
          "table": [
           {
            "cells": {
             "fill": {
              "color": "#EBF0F8"
             },
             "line": {
              "color": "white"
             }
            },
            "header": {
             "fill": {
              "color": "#C8D4E3"
             },
             "line": {
              "color": "white"
             }
            },
            "type": "table"
           }
          ]
         },
         "layout": {
          "annotationdefaults": {
           "arrowcolor": "#2a3f5f",
           "arrowhead": 0,
           "arrowwidth": 1
          },
          "autotypenumbers": "strict",
          "coloraxis": {
           "colorbar": {
            "outlinewidth": 0,
            "ticks": ""
           }
          },
          "colorscale": {
           "diverging": [
            [
             0,
             "#8e0152"
            ],
            [
             0.1,
             "#c51b7d"
            ],
            [
             0.2,
             "#de77ae"
            ],
            [
             0.3,
             "#f1b6da"
            ],
            [
             0.4,
             "#fde0ef"
            ],
            [
             0.5,
             "#f7f7f7"
            ],
            [
             0.6,
             "#e6f5d0"
            ],
            [
             0.7,
             "#b8e186"
            ],
            [
             0.8,
             "#7fbc41"
            ],
            [
             0.9,
             "#4d9221"
            ],
            [
             1,
             "#276419"
            ]
           ],
           "sequential": [
            [
             0,
             "#0d0887"
            ],
            [
             0.1111111111111111,
             "#46039f"
            ],
            [
             0.2222222222222222,
             "#7201a8"
            ],
            [
             0.3333333333333333,
             "#9c179e"
            ],
            [
             0.4444444444444444,
             "#bd3786"
            ],
            [
             0.5555555555555556,
             "#d8576b"
            ],
            [
             0.6666666666666666,
             "#ed7953"
            ],
            [
             0.7777777777777778,
             "#fb9f3a"
            ],
            [
             0.8888888888888888,
             "#fdca26"
            ],
            [
             1,
             "#f0f921"
            ]
           ],
           "sequentialminus": [
            [
             0,
             "#0d0887"
            ],
            [
             0.1111111111111111,
             "#46039f"
            ],
            [
             0.2222222222222222,
             "#7201a8"
            ],
            [
             0.3333333333333333,
             "#9c179e"
            ],
            [
             0.4444444444444444,
             "#bd3786"
            ],
            [
             0.5555555555555556,
             "#d8576b"
            ],
            [
             0.6666666666666666,
             "#ed7953"
            ],
            [
             0.7777777777777778,
             "#fb9f3a"
            ],
            [
             0.8888888888888888,
             "#fdca26"
            ],
            [
             1,
             "#f0f921"
            ]
           ]
          },
          "colorway": [
           "#636efa",
           "#EF553B",
           "#00cc96",
           "#ab63fa",
           "#FFA15A",
           "#19d3f3",
           "#FF6692",
           "#B6E880",
           "#FF97FF",
           "#FECB52"
          ],
          "font": {
           "color": "#2a3f5f"
          },
          "geo": {
           "bgcolor": "white",
           "lakecolor": "white",
           "landcolor": "#E5ECF6",
           "showlakes": true,
           "showland": true,
           "subunitcolor": "white"
          },
          "hoverlabel": {
           "align": "left"
          },
          "hovermode": "closest",
          "mapbox": {
           "style": "light"
          },
          "paper_bgcolor": "white",
          "plot_bgcolor": "#E5ECF6",
          "polar": {
           "angularaxis": {
            "gridcolor": "white",
            "linecolor": "white",
            "ticks": ""
           },
           "bgcolor": "#E5ECF6",
           "radialaxis": {
            "gridcolor": "white",
            "linecolor": "white",
            "ticks": ""
           }
          },
          "scene": {
           "xaxis": {
            "backgroundcolor": "#E5ECF6",
            "gridcolor": "white",
            "gridwidth": 2,
            "linecolor": "white",
            "showbackground": true,
            "ticks": "",
            "zerolinecolor": "white"
           },
           "yaxis": {
            "backgroundcolor": "#E5ECF6",
            "gridcolor": "white",
            "gridwidth": 2,
            "linecolor": "white",
            "showbackground": true,
            "ticks": "",
            "zerolinecolor": "white"
           },
           "zaxis": {
            "backgroundcolor": "#E5ECF6",
            "gridcolor": "white",
            "gridwidth": 2,
            "linecolor": "white",
            "showbackground": true,
            "ticks": "",
            "zerolinecolor": "white"
           }
          },
          "shapedefaults": {
           "line": {
            "color": "#2a3f5f"
           }
          },
          "ternary": {
           "aaxis": {
            "gridcolor": "white",
            "linecolor": "white",
            "ticks": ""
           },
           "baxis": {
            "gridcolor": "white",
            "linecolor": "white",
            "ticks": ""
           },
           "bgcolor": "#E5ECF6",
           "caxis": {
            "gridcolor": "white",
            "linecolor": "white",
            "ticks": ""
           }
          },
          "title": {
           "x": 0.05
          },
          "xaxis": {
           "automargin": true,
           "gridcolor": "white",
           "linecolor": "white",
           "ticks": "",
           "title": {
            "standoff": 15
           },
           "zerolinecolor": "white",
           "zerolinewidth": 2
          },
          "yaxis": {
           "automargin": true,
           "gridcolor": "white",
           "linecolor": "white",
           "ticks": "",
           "title": {
            "standoff": 15
           },
           "zerolinecolor": "white",
           "zerolinewidth": 2
          }
         }
        },
        "title": {
         "text": "Physical exchanges between sectors, t=49.90"
        }
       }
      }
     },
     "metadata": {},
     "output_type": "display_data"
    },
    {
     "data": {
      "application/vnd.plotly.v1+json": {
       "config": {
        "plotlyServerURL": "https://plot.ly"
       },
       "data": [
        {
         "link": {
          "color": [
           "rgba(255,  0,255, 0.8)",
           "rgba(255,  0,255, 0.8)",
           "rgba(255,  0,255, 0.8)",
           "rgba(255,  0,255, 0.8)",
           "rgba(255,  0,255, 0.8)",
           "rgba(255,  0,255, 0.8)",
           "rgba(255,  0,255, 0.8)",
           "rgba(255,  0,255, 0.8)",
           "rgba(255,  0,255, 0.8)",
           "rgba(  0,255,255, 0.8)",
           "rgba(  0,255,255, 0.8)",
           "rgba(  0,255,255, 0.8)",
           "rgba(  0,255,255, 0.8)",
           "rgba(  0,255,255, 0.8)",
           "rgba(  0,255,255, 0.8)",
           "rgba(  0,255,255, 0.8)",
           "rgba(  0,255,255, 0.8)",
           "rgba(  0,255,255, 0.8)",
           "rgba(255,255,  0, 0.8)",
           "rgba(255,255,  0, 0.8)",
           "rgba(255,255,  0, 0.8)",
           "rgba(127,255,127, 0.8)",
           "rgba(127,255,127, 0.8)",
           "rgba(127,255,127, 0.8)",
           "rgba(0,0,0, 0.8)",
           "rgba(0,0,0, 0.8)",
           "rgba(0,0,0, 0.8)",
           "rgba(0,0,0, 0.8)"
          ],
          "source": [
           0,
           0,
           0,
           1,
           1,
           1,
           2,
           2,
           2,
           0,
           0,
           0,
           1,
           1,
           1,
           2,
           2,
           2,
           3,
           3,
           3,
           0,
           1,
           2,
           0,
           1,
           4,
           3
          ],
          "target": [
           0,
           1,
           2,
           0,
           1,
           2,
           0,
           1,
           2,
           0,
           1,
           2,
           0,
           1,
           2,
           0,
           1,
           2,
           0,
           1,
           2,
           3,
           3,
           3,
           4,
           4,
           2,
           4
          ],
          "value": [
           0,
           0,
           2.049499639126458,
           0,
           0,
           0.4008955104073284,
           0,
           0,
           1.6253754114609487,
           0,
           0.6423955054382537,
           0,
           0,
           0.11369099305570068,
           0,
           0,
           0.39478171768655473,
           0,
           6.2384309252330015,
           0,
           0,
           3.4821884304502504,
           0.6162768221656144,
           2.1399656726171363,
           0.03784896848290031,
           0.006046604928363446,
           0.043895573411263704,
           5.995204332975847e-18
          ]
         },
         "node": {
          "label": [
           "Consumption",
           "Intermediate",
           "Capital",
           "Household",
           "Banks"
          ],
          "pad": 50,
          "thickness": 5
         },
         "type": "sankey"
        }
       ],
       "layout": {
        "font": {
         "color": "white",
         "size": 10
        },
        "hovermode": "x",
        "paper_bgcolor": "#5B5958",
        "template": {
         "data": {
          "bar": [
           {
            "error_x": {
             "color": "#2a3f5f"
            },
            "error_y": {
             "color": "#2a3f5f"
            },
            "marker": {
             "line": {
              "color": "#E5ECF6",
              "width": 0.5
             },
             "pattern": {
              "fillmode": "overlay",
              "size": 10,
              "solidity": 0.2
             }
            },
            "type": "bar"
           }
          ],
          "barpolar": [
           {
            "marker": {
             "line": {
              "color": "#E5ECF6",
              "width": 0.5
             },
             "pattern": {
              "fillmode": "overlay",
              "size": 10,
              "solidity": 0.2
             }
            },
            "type": "barpolar"
           }
          ],
          "carpet": [
           {
            "aaxis": {
             "endlinecolor": "#2a3f5f",
             "gridcolor": "white",
             "linecolor": "white",
             "minorgridcolor": "white",
             "startlinecolor": "#2a3f5f"
            },
            "baxis": {
             "endlinecolor": "#2a3f5f",
             "gridcolor": "white",
             "linecolor": "white",
             "minorgridcolor": "white",
             "startlinecolor": "#2a3f5f"
            },
            "type": "carpet"
           }
          ],
          "choropleth": [
           {
            "colorbar": {
             "outlinewidth": 0,
             "ticks": ""
            },
            "type": "choropleth"
           }
          ],
          "contour": [
           {
            "colorbar": {
             "outlinewidth": 0,
             "ticks": ""
            },
            "colorscale": [
             [
              0,
              "#0d0887"
             ],
             [
              0.1111111111111111,
              "#46039f"
             ],
             [
              0.2222222222222222,
              "#7201a8"
             ],
             [
              0.3333333333333333,
              "#9c179e"
             ],
             [
              0.4444444444444444,
              "#bd3786"
             ],
             [
              0.5555555555555556,
              "#d8576b"
             ],
             [
              0.6666666666666666,
              "#ed7953"
             ],
             [
              0.7777777777777778,
              "#fb9f3a"
             ],
             [
              0.8888888888888888,
              "#fdca26"
             ],
             [
              1,
              "#f0f921"
             ]
            ],
            "type": "contour"
           }
          ],
          "contourcarpet": [
           {
            "colorbar": {
             "outlinewidth": 0,
             "ticks": ""
            },
            "type": "contourcarpet"
           }
          ],
          "heatmap": [
           {
            "colorbar": {
             "outlinewidth": 0,
             "ticks": ""
            },
            "colorscale": [
             [
              0,
              "#0d0887"
             ],
             [
              0.1111111111111111,
              "#46039f"
             ],
             [
              0.2222222222222222,
              "#7201a8"
             ],
             [
              0.3333333333333333,
              "#9c179e"
             ],
             [
              0.4444444444444444,
              "#bd3786"
             ],
             [
              0.5555555555555556,
              "#d8576b"
             ],
             [
              0.6666666666666666,
              "#ed7953"
             ],
             [
              0.7777777777777778,
              "#fb9f3a"
             ],
             [
              0.8888888888888888,
              "#fdca26"
             ],
             [
              1,
              "#f0f921"
             ]
            ],
            "type": "heatmap"
           }
          ],
          "heatmapgl": [
           {
            "colorbar": {
             "outlinewidth": 0,
             "ticks": ""
            },
            "colorscale": [
             [
              0,
              "#0d0887"
             ],
             [
              0.1111111111111111,
              "#46039f"
             ],
             [
              0.2222222222222222,
              "#7201a8"
             ],
             [
              0.3333333333333333,
              "#9c179e"
             ],
             [
              0.4444444444444444,
              "#bd3786"
             ],
             [
              0.5555555555555556,
              "#d8576b"
             ],
             [
              0.6666666666666666,
              "#ed7953"
             ],
             [
              0.7777777777777778,
              "#fb9f3a"
             ],
             [
              0.8888888888888888,
              "#fdca26"
             ],
             [
              1,
              "#f0f921"
             ]
            ],
            "type": "heatmapgl"
           }
          ],
          "histogram": [
           {
            "marker": {
             "pattern": {
              "fillmode": "overlay",
              "size": 10,
              "solidity": 0.2
             }
            },
            "type": "histogram"
           }
          ],
          "histogram2d": [
           {
            "colorbar": {
             "outlinewidth": 0,
             "ticks": ""
            },
            "colorscale": [
             [
              0,
              "#0d0887"
             ],
             [
              0.1111111111111111,
              "#46039f"
             ],
             [
              0.2222222222222222,
              "#7201a8"
             ],
             [
              0.3333333333333333,
              "#9c179e"
             ],
             [
              0.4444444444444444,
              "#bd3786"
             ],
             [
              0.5555555555555556,
              "#d8576b"
             ],
             [
              0.6666666666666666,
              "#ed7953"
             ],
             [
              0.7777777777777778,
              "#fb9f3a"
             ],
             [
              0.8888888888888888,
              "#fdca26"
             ],
             [
              1,
              "#f0f921"
             ]
            ],
            "type": "histogram2d"
           }
          ],
          "histogram2dcontour": [
           {
            "colorbar": {
             "outlinewidth": 0,
             "ticks": ""
            },
            "colorscale": [
             [
              0,
              "#0d0887"
             ],
             [
              0.1111111111111111,
              "#46039f"
             ],
             [
              0.2222222222222222,
              "#7201a8"
             ],
             [
              0.3333333333333333,
              "#9c179e"
             ],
             [
              0.4444444444444444,
              "#bd3786"
             ],
             [
              0.5555555555555556,
              "#d8576b"
             ],
             [
              0.6666666666666666,
              "#ed7953"
             ],
             [
              0.7777777777777778,
              "#fb9f3a"
             ],
             [
              0.8888888888888888,
              "#fdca26"
             ],
             [
              1,
              "#f0f921"
             ]
            ],
            "type": "histogram2dcontour"
           }
          ],
          "mesh3d": [
           {
            "colorbar": {
             "outlinewidth": 0,
             "ticks": ""
            },
            "type": "mesh3d"
           }
          ],
          "parcoords": [
           {
            "line": {
             "colorbar": {
              "outlinewidth": 0,
              "ticks": ""
             }
            },
            "type": "parcoords"
           }
          ],
          "pie": [
           {
            "automargin": true,
            "type": "pie"
           }
          ],
          "scatter": [
           {
            "fillpattern": {
             "fillmode": "overlay",
             "size": 10,
             "solidity": 0.2
            },
            "type": "scatter"
           }
          ],
          "scatter3d": [
           {
            "line": {
             "colorbar": {
              "outlinewidth": 0,
              "ticks": ""
             }
            },
            "marker": {
             "colorbar": {
              "outlinewidth": 0,
              "ticks": ""
             }
            },
            "type": "scatter3d"
           }
          ],
          "scattercarpet": [
           {
            "marker": {
             "colorbar": {
              "outlinewidth": 0,
              "ticks": ""
             }
            },
            "type": "scattercarpet"
           }
          ],
          "scattergeo": [
           {
            "marker": {
             "colorbar": {
              "outlinewidth": 0,
              "ticks": ""
             }
            },
            "type": "scattergeo"
           }
          ],
          "scattergl": [
           {
            "marker": {
             "colorbar": {
              "outlinewidth": 0,
              "ticks": ""
             }
            },
            "type": "scattergl"
           }
          ],
          "scattermapbox": [
           {
            "marker": {
             "colorbar": {
              "outlinewidth": 0,
              "ticks": ""
             }
            },
            "type": "scattermapbox"
           }
          ],
          "scatterpolar": [
           {
            "marker": {
             "colorbar": {
              "outlinewidth": 0,
              "ticks": ""
             }
            },
            "type": "scatterpolar"
           }
          ],
          "scatterpolargl": [
           {
            "marker": {
             "colorbar": {
              "outlinewidth": 0,
              "ticks": ""
             }
            },
            "type": "scatterpolargl"
           }
          ],
          "scatterternary": [
           {
            "marker": {
             "colorbar": {
              "outlinewidth": 0,
              "ticks": ""
             }
            },
            "type": "scatterternary"
           }
          ],
          "surface": [
           {
            "colorbar": {
             "outlinewidth": 0,
             "ticks": ""
            },
            "colorscale": [
             [
              0,
              "#0d0887"
             ],
             [
              0.1111111111111111,
              "#46039f"
             ],
             [
              0.2222222222222222,
              "#7201a8"
             ],
             [
              0.3333333333333333,
              "#9c179e"
             ],
             [
              0.4444444444444444,
              "#bd3786"
             ],
             [
              0.5555555555555556,
              "#d8576b"
             ],
             [
              0.6666666666666666,
              "#ed7953"
             ],
             [
              0.7777777777777778,
              "#fb9f3a"
             ],
             [
              0.8888888888888888,
              "#fdca26"
             ],
             [
              1,
              "#f0f921"
             ]
            ],
            "type": "surface"
           }
          ],
          "table": [
           {
            "cells": {
             "fill": {
              "color": "#EBF0F8"
             },
             "line": {
              "color": "white"
             }
            },
            "header": {
             "fill": {
              "color": "#C8D4E3"
             },
             "line": {
              "color": "white"
             }
            },
            "type": "table"
           }
          ]
         },
         "layout": {
          "annotationdefaults": {
           "arrowcolor": "#2a3f5f",
           "arrowhead": 0,
           "arrowwidth": 1
          },
          "autotypenumbers": "strict",
          "coloraxis": {
           "colorbar": {
            "outlinewidth": 0,
            "ticks": ""
           }
          },
          "colorscale": {
           "diverging": [
            [
             0,
             "#8e0152"
            ],
            [
             0.1,
             "#c51b7d"
            ],
            [
             0.2,
             "#de77ae"
            ],
            [
             0.3,
             "#f1b6da"
            ],
            [
             0.4,
             "#fde0ef"
            ],
            [
             0.5,
             "#f7f7f7"
            ],
            [
             0.6,
             "#e6f5d0"
            ],
            [
             0.7,
             "#b8e186"
            ],
            [
             0.8,
             "#7fbc41"
            ],
            [
             0.9,
             "#4d9221"
            ],
            [
             1,
             "#276419"
            ]
           ],
           "sequential": [
            [
             0,
             "#0d0887"
            ],
            [
             0.1111111111111111,
             "#46039f"
            ],
            [
             0.2222222222222222,
             "#7201a8"
            ],
            [
             0.3333333333333333,
             "#9c179e"
            ],
            [
             0.4444444444444444,
             "#bd3786"
            ],
            [
             0.5555555555555556,
             "#d8576b"
            ],
            [
             0.6666666666666666,
             "#ed7953"
            ],
            [
             0.7777777777777778,
             "#fb9f3a"
            ],
            [
             0.8888888888888888,
             "#fdca26"
            ],
            [
             1,
             "#f0f921"
            ]
           ],
           "sequentialminus": [
            [
             0,
             "#0d0887"
            ],
            [
             0.1111111111111111,
             "#46039f"
            ],
            [
             0.2222222222222222,
             "#7201a8"
            ],
            [
             0.3333333333333333,
             "#9c179e"
            ],
            [
             0.4444444444444444,
             "#bd3786"
            ],
            [
             0.5555555555555556,
             "#d8576b"
            ],
            [
             0.6666666666666666,
             "#ed7953"
            ],
            [
             0.7777777777777778,
             "#fb9f3a"
            ],
            [
             0.8888888888888888,
             "#fdca26"
            ],
            [
             1,
             "#f0f921"
            ]
           ]
          },
          "colorway": [
           "#636efa",
           "#EF553B",
           "#00cc96",
           "#ab63fa",
           "#FFA15A",
           "#19d3f3",
           "#FF6692",
           "#B6E880",
           "#FF97FF",
           "#FECB52"
          ],
          "font": {
           "color": "#2a3f5f"
          },
          "geo": {
           "bgcolor": "white",
           "lakecolor": "white",
           "landcolor": "#E5ECF6",
           "showlakes": true,
           "showland": true,
           "subunitcolor": "white"
          },
          "hoverlabel": {
           "align": "left"
          },
          "hovermode": "closest",
          "mapbox": {
           "style": "light"
          },
          "paper_bgcolor": "white",
          "plot_bgcolor": "#E5ECF6",
          "polar": {
           "angularaxis": {
            "gridcolor": "white",
            "linecolor": "white",
            "ticks": ""
           },
           "bgcolor": "#E5ECF6",
           "radialaxis": {
            "gridcolor": "white",
            "linecolor": "white",
            "ticks": ""
           }
          },
          "scene": {
           "xaxis": {
            "backgroundcolor": "#E5ECF6",
            "gridcolor": "white",
            "gridwidth": 2,
            "linecolor": "white",
            "showbackground": true,
            "ticks": "",
            "zerolinecolor": "white"
           },
           "yaxis": {
            "backgroundcolor": "#E5ECF6",
            "gridcolor": "white",
            "gridwidth": 2,
            "linecolor": "white",
            "showbackground": true,
            "ticks": "",
            "zerolinecolor": "white"
           },
           "zaxis": {
            "backgroundcolor": "#E5ECF6",
            "gridcolor": "white",
            "gridwidth": 2,
            "linecolor": "white",
            "showbackground": true,
            "ticks": "",
            "zerolinecolor": "white"
           }
          },
          "shapedefaults": {
           "line": {
            "color": "#2a3f5f"
           }
          },
          "ternary": {
           "aaxis": {
            "gridcolor": "white",
            "linecolor": "white",
            "ticks": ""
           },
           "baxis": {
            "gridcolor": "white",
            "linecolor": "white",
            "ticks": ""
           },
           "bgcolor": "#E5ECF6",
           "caxis": {
            "gridcolor": "white",
            "linecolor": "white",
            "ticks": ""
           }
          },
          "title": {
           "x": 0.05
          },
          "xaxis": {
           "automargin": true,
           "gridcolor": "white",
           "linecolor": "white",
           "ticks": "",
           "title": {
            "standoff": 15
           },
           "zerolinecolor": "white",
           "zerolinewidth": 2
          },
          "yaxis": {
           "automargin": true,
           "gridcolor": "white",
           "linecolor": "white",
           "ticks": "",
           "title": {
            "standoff": 15
           },
           "zerolinecolor": "white",
           "zerolinewidth": 2
          }
         }
        },
        "title": {
         "text": "Monetary exchanges between sectors, t=49.90"
        }
       }
      }
     },
     "metadata": {},
     "output_type": "display_data"
    }
   ],
   "source": [
    "Sankey(hub,t=50,idx=0,Region=0)"
   ]
  },
  {
   "cell_type": "code",
   "execution_count": 10,
   "id": "603e97ea",
   "metadata": {},
   "outputs": [
    {
     "data": {
      "application/vnd.jupyter.widget-view+json": {
       "model_id": "786736bc93484994b7bbc664fe4fe9a6",
       "version_major": 2,
       "version_minor": 0
      },
      "text/plain": [
       "IntSlider(value=3, description='Sankey time index :', max=500)"
      ]
     },
     "metadata": {},
     "output_type": "display_data"
    }
   ],
   "source": []
  },
  {
   "cell_type": "code",
   "execution_count": 13,
   "id": "ec3735cc",
   "metadata": {},
   "outputs": [
    {
     "name": "stdout",
     "output_type": "stream",
     "text": [
      "226\n"
     ]
    }
   ],
   "source": []
  },
  {
   "cell_type": "code",
   "execution_count": 14,
   "id": "eec58e35",
   "metadata": {},
   "outputs": [
    {
     "name": "stdout",
     "output_type": "stream",
     "text": [
      "['Accordion', 'AppLayout', 'Audio', 'BoundedFloatText', 'BoundedIntText', 'Box', 'Button', 'ButtonStyle', 'CallbackDispatcher', 'Checkbox', 'Color', 'ColorPicker', 'ColorsInput', 'Combobox', 'Controller', 'CoreWidget', 'DOMWidget', 'DatePicker', 'Datetime', 'DatetimePicker', 'Dropdown', 'FileUpload', 'FloatLogSlider', 'FloatProgress', 'FloatRangeSlider', 'FloatSlider', 'FloatText', 'FloatsInput', 'GridBox', 'GridspecLayout', 'HBox', 'HTML', 'HTMLMath', 'Image', 'IntProgress', 'IntRangeSlider', 'IntSlider', 'IntText', 'IntsInput', 'Label', 'Layout', 'NaiveDatetimePicker', 'NumberFormat', 'Output', 'Password', 'Play', 'RadioButtons', 'Select', 'SelectMultiple', 'SelectionRangeSlider', 'SelectionSlider', 'SliderStyle', 'Stack', 'Style', 'Tab', 'TagsInput', 'Text', 'Textarea', 'TimePicker', 'ToggleButton', 'ToggleButtons', 'ToggleButtonsStyle', 'TwoByTwoLayout', 'TypedTuple', 'VBox', 'Valid', 'ValueWidget', 'Video', 'Widget', '__builtins__', '__cached__', '__doc__', '__file__', '__jupyter_widgets_base_version__', '__jupyter_widgets_controls_version__', '__loader__', '__name__', '__package__', '__path__', '__protocol_version__', '__spec__', '__version__', '_handle_ipython', '_version', 'dlink', 'docutils', 'domwidget', 'fixed', 'get_ipython', 'interact', 'interact_manual', 'interaction', 'interactive', 'interactive_output', 'jsdlink', 'jslink', 'link', 'load_ipython_extension', 'os', 'register', 'register_comm_target', 'trait_types', 'utils', 'valuewidget', 'widget', 'widget_bool', 'widget_box', 'widget_button', 'widget_color', 'widget_controller', 'widget_core', 'widget_date', 'widget_datetime', 'widget_description', 'widget_float', 'widget_int', 'widget_layout', 'widget_link', 'widget_media', 'widget_output', 'widget_selection', 'widget_selectioncontainer', 'widget_serialization', 'widget_string', 'widget_style', 'widget_tagsinput', 'widget_templates', 'widget_time', 'widget_upload', 'widgets']\n"
     ]
    }
   ],
   "source": []
  },
  {
   "cell_type": "code",
   "execution_count": null,
   "id": "4392ed2c",
   "metadata": {},
   "outputs": [],
   "source": []
  }
 ],
 "metadata": {
  "kernelspec": {
   "display_name": "py3.11",
   "language": "python",
   "name": "python3"
  },
  "language_info": {
   "codemirror_mode": {
    "name": "ipython",
    "version": 3
   },
   "file_extension": ".py",
   "mimetype": "text/x-python",
   "name": "python",
   "nbconvert_exporter": "python",
   "pygments_lexer": "ipython3",
   "version": "3.11.0"
  },
  "vscode": {
   "interpreter": {
    "hash": "adba334501d02229fd9053440574f5ad76b726cca49f9d96143c39055f64ce1c"
   }
  }
 },
 "nbformat": 4,
 "nbformat_minor": 5
}
