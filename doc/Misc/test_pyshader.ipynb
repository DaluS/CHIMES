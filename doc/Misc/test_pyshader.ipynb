{
 "cells": [
  {
   "cell_type": "code",
   "execution_count": 2,
   "metadata": {},
   "outputs": [
    {
     "ename": "ImportError",
     "evalue": "cannot import name 'from_array' from 'pyshader' (c:\\ProgramData\\Anaconda3\\envs\\py3.11\\Lib\\site-packages\\pyshader\\__init__.py)",
     "output_type": "error",
     "traceback": [
      "\u001b[1;31m---------------------------------------------------------------------------\u001b[0m",
      "\u001b[1;31mImportError\u001b[0m                               Traceback (most recent call last)",
      "Cell \u001b[1;32mIn[2], line 2\u001b[0m\n\u001b[0;32m      1\u001b[0m \u001b[39mimport\u001b[39;00m \u001b[39mnumpy\u001b[39;00m \u001b[39mas\u001b[39;00m \u001b[39mnp\u001b[39;00m\n\u001b[1;32m----> 2\u001b[0m \u001b[39mfrom\u001b[39;00m \u001b[39mpyshader\u001b[39;00m \u001b[39mimport\u001b[39;00m from_array, to_array\n\u001b[0;32m      3\u001b[0m \u001b[39mimport\u001b[39;00m \u001b[39mmatplotlib\u001b[39;00m\u001b[39m.\u001b[39;00m\u001b[39mpyplot\u001b[39;00m \u001b[39mas\u001b[39;00m \u001b[39mplt\u001b[39;00m\n\u001b[0;32m      5\u001b[0m \u001b[39m# Load the image as a numpy array\u001b[39;00m\n",
      "\u001b[1;31mImportError\u001b[0m: cannot import name 'from_array' from 'pyshader' (c:\\ProgramData\\Anaconda3\\envs\\py3.11\\Lib\\site-packages\\pyshader\\__init__.py)"
     ]
    }
   ],
   "source": [
    "import numpy as np\n",
    "from pyshader import from_array, to_array\n",
    "import matplotlib.pyplot as plt\n",
    "\n",
    "from glumpy import app, gloo, gl\n",
    "\n",
    "# Load the image as a numpy array\n",
    "img = np.zeros((1000,1000))\n",
    "img[40:60,40:60]= 1\n",
    "\n",
    "# Create a texture from the numpy array\n",
    "texture = gloo.Texture2D(img)\n",
    "\n",
    "\n",
    "\n",
    "\n",
    "\n",
    "\n",
    "\n",
    "\n",
    "# Create a PyShader object from the numpy array\n",
    "shader = from_array(img)\n",
    "\n",
    "# Define the GLSL code for the diffusion effect\n",
    "diffusion_shader = \"\"\"\n",
    "    vec4 effect(vec4 color, sampler2D texture, vec2 tex_coords, vec2 screen_coords) {\n",
    "        vec2 offset = vec2(0.002, 0.002);\n",
    "        vec4 diffuse = vec4(0.0);\n",
    "        diffuse += texture2D(texture, tex_coords + vec2(-offset.x, -offset.y)) * 0.00390625;\n",
    "        diffuse += texture2D(texture, tex_coords + vec2(-offset.x, 0.0)) * 0.0625;\n",
    "        diffuse += texture2D(texture, tex_coords + vec2(-offset.x, offset.y)) * 0.00390625;\n",
    "        diffuse += texture2D(texture, tex_coords + vec2(0.0, -offset.y)) * 0.0625;\n",
    "        diffuse += texture2D(texture, tex_coords) * 0.25;\n",
    "        diffuse += texture2D(texture, tex_coords + vec2(offset.x, -offset.y)) * 0.0625;\n",
    "        diffuse += texture2D(texture, tex_coords + vec2(offset.x, 0.0)) * 0.0625;\n",
    "        diffuse += texture2D(texture, tex_coords + vec2(offset.x, offset.y)) * 0.00390625;\n",
    "        return diffuse;\n",
    "    }\n",
    "\"\"\"\n",
    "\n",
    "# Create a PyShader object from the texture\n",
    "shader = gloo.Program(diffusion_shader)\n",
    "shader[\"texture\"] = texture\n",
    "\n",
    "# Apply the diffusion effect\n",
    "diffused_img = shader()\n",
    "\n",
    "# Apply the diffusion effect to the image\n",
    "#diffused_img = to_array(shader.modify(diffusion_shader))\n",
    "\n",
    "# Save the result\n",
    "#Image.fromarray(diffused_img)\n",
    "\n"
   ]
  }
 ],
 "metadata": {
  "kernelspec": {
   "display_name": "py3.11",
   "language": "python",
   "name": "python3"
  },
  "language_info": {
   "codemirror_mode": {
    "name": "ipython",
    "version": 3
   },
   "file_extension": ".py",
   "mimetype": "text/x-python",
   "name": "python",
   "nbconvert_exporter": "python",
   "pygments_lexer": "ipython3",
   "version": "3.11.0"
  },
  "orig_nbformat": 4,
  "vscode": {
   "interpreter": {
    "hash": "adba334501d02229fd9053440574f5ad76b726cca49f9d96143c39055f64ce1c"
   }
  }
 },
 "nbformat": 4,
 "nbformat_minor": 2
}
