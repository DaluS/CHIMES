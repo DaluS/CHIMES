{
 "cells": [
  {
   "cell_type": "code",
   "execution_count": null,
   "metadata": {},
   "outputs": [],
   "source": [
    "##############################################################\n",
    "import sys\n",
    "path = \"C:\\\\Users\\\\Paul Valcke\\\\Documents\\\\GitHub\\\\GEMMES\" \n",
    "sys.path.insert(0, path)\n",
    "import pygemmes as pgm\n",
    "import numpy as np\n",
    "\n",
    "from itables import init_notebook_mode\n",
    "import itables.options as opt\n",
    "init_notebook_mode(all_interactive=True)\n",
    "%matplotlib widget\n",
    "\n",
    "from IPython.display import display,HTML,Markdown\n",
    "from IPython.display import IFrame\n",
    "\n",
    "opt.columnDefs = [{\"className\": \"dt-left\", \"targets\": \"_all\"}]\n",
    "opt.classes=\"display nowrap compact\"\n",
    "opt.scrollY=\"400px\"\n",
    "opt.scrollCollapse=True\n",
    "opt.paging=False\n",
    "##############################################################"
   ]
  },
  {
   "attachments": {},
   "cell_type": "markdown",
   "metadata": {},
   "source": [
    "# Specialized ants colony dynamics \n",
    "\n",
    "We do consider an ant colony in a space. The colony is 0D while space is 2D.\n",
    "\n",
    "Space contains : \n",
    "* Consumption resources $R_C(x,y,t)$\n",
    "* Investment resources $R_I(x,y,t)$ \n",
    "* Predatory events $R_P(x,y,t)$\n",
    "* Slowing events $R_S(x,y,t)$ \n",
    "\n",
    "Those resources are evolving in space in interaction with ants : \n",
    "$$\\dot{R_C}= \\underbrace{\\sigma}_{\\text{apparition noise}} -  \\underbrace{ R_c \\rho(L_c)}_{\\text{resource harvesting ant density}}$$ \n",
    "\n",
    "\n",
    "Ants type :  \n",
    "* Ants are s\n",
    "\n",
    "\n",
    "\n"
   ]
  },
  {
   "cell_type": "markdown",
   "metadata": {},
   "source": []
  }
 ],
 "metadata": {
  "kernelspec": {
   "display_name": "Python 3",
   "language": "python",
   "name": "python3"
  },
  "language_info": {
   "name": "python",
   "version": "3.10.9 (tags/v3.10.9:1dd9be6, Dec  6 2022, 20:01:21) [MSC v.1934 64 bit (AMD64)]"
  },
  "orig_nbformat": 4,
  "vscode": {
   "interpreter": {
    "hash": "776f1b9cceefb74e563ea419f3e42c4e81a186282a178f141d9049608ae00936"
   }
  }
 },
 "nbformat": 4,
 "nbformat_minor": 2
}
