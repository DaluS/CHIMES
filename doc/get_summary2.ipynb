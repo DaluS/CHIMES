{
 "cells": [
  {
   "cell_type": "code",
   "execution_count": 2,
   "metadata": {},
   "outputs": [
    {
     "name": "stdout",
     "output_type": "stream",
     "text": [
      "\n",
      "#####################################################################################\n",
      " _______            ______  ________  ____    ____  ____    ____  ________   ______    \n",
      "|_   __ \\         .' ___  ||_   __  ||_   \\  /   _||_   \\  /   _||_   __  |.' ____  \\   \n",
      "  | |__) |_   __ / .'   \\_|  | |_ \\_|  |   \\/   |    |   \\/   |    | |_ \\_|| (___ \\_|  \n",
      "  |  ___/[ \\ [  ]| |   ____  |  _| _   | |\\  /| |    | |\\  /| |    |  _| _  _.____`.   \n",
      " _| |_    \\ '/ / \\ `.___]  |_| |__/ | _| |_\\/_| |_  _| |_\\/_| |_  _| |__/ || \\____) |  \n",
      "|_____| [\\_:  /   `._____.'|________||_____||_____||_____||_____||________| \\______.'  \n",
      "         \\__.'                           \n",
      "#####################################################################################                                                                                                                                   \n",
      "\n",
      "Welcome in Pygemmes, a modular library to prototype and study dynamical systems !\n",
      "This library is oriented toward generation of macroeconomic complexity models \n",
      "You can find the files on https://github.com/DaluS/GEMMES\n",
      "This library has been coded mostly by Didier Vezinet and Paul Valcke,\n",
      "at the environmental justice program https://environmentaljustice.georgetown.edu/#\n",
      "You can contact me at pv229@georgetown.edu \n",
      "If you find bugs, want some new extensions, or help us improve the library, please create a new issue on github\n",
      "If this is the first time you open this library, please look at the tutorial file in doc/tutorial.py and execute it line by line. \n",
      "The ipythonNotebook is at :\n",
      " \tC:\\Users\\Paul Valcke\\Documents\\GitHub\\GEMMES\\pygemmes\\doc\\TUTORIALS\\TUTORIAL.ipynb\n",
      "If you want to customize pygemmes (advancer users) like removing this message, edit :\n",
      " \tC:\\Users\\Paul Valcke\\Documents\\GitHub\\GEMMES\\pygemmes\\_config.py\n",
      "\n",
      "Have fun !\n",
      "######################################################################################################\n",
      "\n"
     ]
    }
   ],
   "source": [
    "import sys \n",
    "path = \"C:\\\\Users\\\\Paul Valcke\\\\Documents\\\\GitHub\\\\GEMMES\" \n",
    "sys.path.insert(0, path)\n",
    "import pygemmes as pgm\n",
    "\n",
    "import numpy as np\n",
    "import pandas as pd \n",
    "from pandasgui import show "
   ]
  },
  {
   "attachments": {},
   "cell_type": "markdown",
   "metadata": {},
   "source": [
    "# PYGEMMES CONTENT"
   ]
  },
  {
   "cell_type": "code",
   "execution_count": 3,
   "metadata": {},
   "outputs": [
    {
     "name": "stderr",
     "output_type": "stream",
     "text": [
      "PandasGUI INFO — pandasgui.gui — Opening PandasGUI\n"
     ]
    },
    {
     "name": "stdout",
     "output_type": "stream",
     "text": [
      "178 fields in the library \n",
      "\n"
     ]
    },
    {
     "data": {
      "text/plain": [
       "<pandasgui.gui.PandasGui at 0x13a91e824c0>"
      ]
     },
     "execution_count": 3,
     "metadata": {},
     "output_type": "execute_result"
    },
    {
     "name": "stderr",
     "output_type": "stream",
     "text": [
      "PandasGUI ERROR — pandasgui.widgets.dataframe_viewer — Could not convert '\\nTHIS DOCSTRING IS THE DESCRIPTION OF THE MODEL.\\nPUT EVERYTHING YOU WANT THE USER TO KNOW BEFORE HE LOADS THE MODEL.\\n\\nTypically :\\n* Model name\\n* what is does : logistic crisis, climate damage, multiple sectors, regions...\\n* What are the hypotheses :\\n* Main properties : Cycles, equilibrium, phase-change...\\n\\n@URL:\\n@author: Paul Valcke\\nTODO:\\n    - EVERYTHING you want to change\\n    - ...\\n' to type <class 'numpy.object_'>\n",
      "Traceback (most recent call last):\n",
      "  File \"c:\\ProgramData\\Anaconda3\\lib\\site-packages\\pandasgui\\utility.py\", line 473, in parse_cell\n",
      "    value = pd.read_csv(StringIO(text), dtype=column_dtype, header=None).values[0][0]\n",
      "  File \"c:\\ProgramData\\Anaconda3\\lib\\site-packages\\pandas\\util\\_decorators.py\", line 211, in wrapper\n",
      "    return func(*args, **kwargs)\n",
      "  File \"c:\\ProgramData\\Anaconda3\\lib\\site-packages\\pandas\\util\\_decorators.py\", line 331, in wrapper\n",
      "    return func(*args, **kwargs)\n",
      "  File \"c:\\ProgramData\\Anaconda3\\lib\\site-packages\\pandas\\io\\parsers\\readers.py\", line 950, in read_csv\n",
      "    return _read(filepath_or_buffer, kwds)\n",
      "  File \"c:\\ProgramData\\Anaconda3\\lib\\site-packages\\pandas\\io\\parsers\\readers.py\", line 611, in _read\n",
      "    return parser.read(nrows)\n",
      "  File \"c:\\ProgramData\\Anaconda3\\lib\\site-packages\\pandas\\io\\parsers\\readers.py\", line 1778, in read\n",
      "    ) = self._engine.read(  # type: ignore[attr-defined]\n",
      "  File \"c:\\ProgramData\\Anaconda3\\lib\\site-packages\\pandas\\io\\parsers\\c_parser_wrapper.py\", line 230, in read\n",
      "    chunks = self._reader.read_low_memory(nrows)\n",
      "  File \"pandas\\_libs\\parsers.pyx\", line 808, in pandas._libs.parsers.TextReader.read_low_memory\n",
      "  File \"pandas\\_libs\\parsers.pyx\", line 866, in pandas._libs.parsers.TextReader._read_rows\n",
      "  File \"pandas\\_libs\\parsers.pyx\", line 852, in pandas._libs.parsers.TextReader._tokenize_rows\n",
      "  File \"pandas\\_libs\\parsers.pyx\", line 1973, in pandas._libs.parsers.raise_parser_error\n",
      "pandas.errors.ParserError: Error tokenizing data. C error: Expected 1 fields in line 7, saw 4\n",
      "\n",
      "\n",
      "During handling of the above exception, another exception occurred:\n",
      "\n",
      "Traceback (most recent call last):\n",
      "  File \"c:\\ProgramData\\Anaconda3\\lib\\site-packages\\pandasgui\\widgets\\dataframe_viewer.py\", line 441, in setData\n",
      "    self.pgdf.edit_data(row, col, value)\n",
      "  File \"c:\\ProgramData\\Anaconda3\\lib\\site-packages\\pandasgui\\store.py\", line 235, in status_message_wrapper\n",
      "    result = function(self, *args, **kwargs)\n",
      "  File \"c:\\ProgramData\\Anaconda3\\lib\\site-packages\\pandasgui\\store.py\", line 386, in edit_data\n",
      "    value = parse_cell(text, column_dtype)\n",
      "  File \"c:\\ProgramData\\Anaconda3\\lib\\site-packages\\pandasgui\\utility.py\", line 476, in parse_cell\n",
      "    raise ValueError(f\"Could not convert {repr(text)} to type {column_dtype}\")\n",
      "ValueError: Could not convert '\\nTHIS DOCSTRING IS THE DESCRIPTION OF THE MODEL.\\nPUT EVERYTHING YOU WANT THE USER TO KNOW BEFORE HE LOADS THE MODEL.\\n\\nTypically :\\n* Model name\\n* what is does : logistic crisis, climate damage, multiple sectors, regions...\\n* What are the hypotheses :\\n* Main properties : Cycles, equilibrium, phase-change...\\n\\n@URL:\\n@author: Paul Valcke\\nTODO:\\n    - EVERYTHING you want to change\\n    - ...\\n' to type <class 'numpy.object_'>\n"
     ]
    }
   ],
   "source": [
    "Fields = pgm.get_available_fields(exploreModels=True)\n",
    "Models = pgm.get_available_models(details=True)\n",
    "Plots  = pgm.get_available_plots()\n",
    "show(Models,Plots,Fields)"
   ]
  },
  {
   "cell_type": "code",
   "execution_count": null,
   "metadata": {},
   "outputs": [],
   "source": []
  },
  {
   "cell_type": "markdown",
   "metadata": {},
   "source": [
    "## HUB CONTENT "
   ]
  },
  {
   "cell_type": "code",
   "execution_count": 2,
   "metadata": {},
   "outputs": [
    {
     "name": "stdout",
     "output_type": "stream",
     "text": [
      "dt asked to be changed but the value 0.1 is already the one in the system\n",
      "\n",
      "### Identified keys to be changed ###\n",
      "   Dimensions : ['Tmax']\n",
      "   Fields : []\n",
      "   Ignored :['dt']\n",
      "time step 10 / 10\n"
     ]
    }
   ],
   "source": [
    "hub=pgm.Hub('ECHIMES',preset='SimpleTri',verb=False)\n",
    "hub.set_dparam(**{'Tmax':1,'dt':0.1})\n",
    "hub.run()"
   ]
  },
  {
   "cell_type": "code",
   "execution_count": 3,
   "metadata": {},
   "outputs": [
    {
     "name": "stderr",
     "output_type": "stream",
     "text": [
      "PandasGUI INFO — pandasgui.gui — Opening PandasGUI\n"
     ]
    },
    {
     "data": {
      "text/plain": [
       "<pandasgui.gui.PandasGui at 0x1be796eb8b0>"
      ]
     },
     "execution_count": 3,
     "metadata": {},
     "output_type": "execute_result"
    }
   ],
   "source": [
    "R=hub.get_dparam()\n",
    "Categories = ['eqtype','source_exp','definition','com','group','units','symbol','isneeded']\n",
    "Rpandas= {k0:{k:R[k0][k] for k,v in R[k0].items() if k in Categories} for k0 in R.keys()}\n",
    "AllFields=pd.DataFrame(Rpandas,index=Categories).transpose()\n",
    "show(AllFields)"
   ]
  },
  {
   "cell_type": "code",
   "execution_count": null,
   "metadata": {},
   "outputs": [],
   "source": [
    "\"\"\" \n",
    "statics = hub.get_dparam(eqtype=[None,'parameter','parameters'])\n",
    "statics= {k:statics[k]['value'] for k in statics.keys()}\n",
    "V = R['K']['value']\n",
    "Sects1= R[R['K']['size'][0]].get('list',['mono'])\n",
    "Sects2= R[R['K']['size'][1]].get('list',['mono'])\n",
    "SectsX= R['nx']['list']\n",
    "SectsR= R['nr']['list']\n",
    "Time = R['time']['value'][:,0,0,0,0]\n",
    "\n",
    "print(Sects1,Sects2,SectsX,SectsR)\n",
    "import numpy as np\n",
    "GRID = np.meshgrid(Sects2,Sects1,SectsR,SectsX,Time)\n",
    "Rshp = {'value':  V.reshape(-1),\n",
    "        'time': GRID[-1].reshape(-1),\n",
    "        'parrallel': GRID[-2].reshape(-1),\n",
    "        'region': GRID[-3].reshape(-1) ,\n",
    "        'Multi1': GRID[-4].reshape(-1),\n",
    "        'Multi2': GRID[-5].reshape(-1),\n",
    "        }\n",
    "\"\"\""
   ]
  },
  {
   "cell_type": "code",
   "execution_count": null,
   "metadata": {},
   "outputs": [],
   "source": []
  },
  {
   "cell_type": "code",
   "execution_count": null,
   "metadata": {},
   "outputs": [],
   "source": []
  },
  {
   "cell_type": "code",
   "execution_count": null,
   "metadata": {},
   "outputs": [],
   "source": []
  },
  {
   "cell_type": "code",
   "execution_count": null,
   "metadata": {},
   "outputs": [],
   "source": []
  },
  {
   "cell_type": "code",
   "execution_count": null,
   "metadata": {},
   "outputs": [],
   "source": []
  },
  {
   "cell_type": "code",
   "execution_count": 17,
   "metadata": {},
   "outputs": [],
   "source": [
    "R0=hub.get_dparam()\n",
    "R= hub.get_dparam(eqtype=['statevar','differential'])\n",
    "\n",
    "SectsX= R0['nx']['list']\n",
    "SectsR= R0['nr']['list']\n",
    "Time = R['time']['value'][:,0,0,0,0]\n",
    "\n",
    "Onedict={ 'field':  [],\n",
    "        'value': []    ,\n",
    "        'time': [],\n",
    "        'parrallel': [],\n",
    "        'region': [],\n",
    "        'Multi1':[],\n",
    "        'Multi2':[],\n",
    "            }\n",
    "\n",
    "Bigdict={}\n",
    "for k in R.keys():\n",
    "    GRID = np.meshgrid( \n",
    "                        Time,\n",
    "                        SectsX,\n",
    "                        SectsR,\n",
    "                        R0[R[k]['size'][0]].get('list',['mono']),\n",
    "                        R0[R[k]['size'][1]].get('list',['mono'])\n",
    "                        )    \n",
    "\n",
    "    Bigdict[k]={'value':     R[k]['value'].reshape(-1),\n",
    "                'time':      GRID[0].reshape(-1),\n",
    "                'parrallel': GRID[1].reshape(-1),\n",
    "                'region':    GRID[2].reshape(-1) ,\n",
    "                'Multi1':    GRID[3].reshape(-1),\n",
    "                'Multi2':    GRID[4].reshape(-1),\n",
    "                }\n",
    "\n",
    "    Onedict['field'    ].extend([k for i in GRID[-1].reshape(-1)])\n",
    "    Onedict['value'    ].extend(R[k]['value'].reshape(-1))\n",
    "    Onedict['time'     ].extend(GRID[0].reshape(-1))\n",
    "    Onedict['parrallel'].extend(GRID[1].reshape(-1))\n",
    "    Onedict['region'   ].extend(GRID[2].reshape(-1))\n",
    "    Onedict['Multi1'   ].extend(GRID[3].reshape(-1))\n",
    "    Onedict['Multi2'   ].extend(GRID[4].reshape(-1))\n",
    "\n",
    "\n",
    "DF2=pd.DataFrame(Onedict).set_index(['parrallel','region','field','Multi1','Multi2','time'],drop=True).unstack().transpose()\n",
    "dicframe = {k: pd.DataFrame(Bigdict[k]).set_index(['parrallel','region','Multi1','Multi2','time'],drop=True).unstack().transpose() for k in Bigdict.keys()}\n",
    "\n",
    "#df = pd.DataFrame(dicframe)\n",
    "#df=pd.DataFrame.from_dict(Bigdict)\n",
    "#df2=df.transpose()\n",
    "#df2.set_index(['time','parrallel','region','Multi1','Multi2'],drop=False)\n",
    "#show(DF2)"
   ]
  },
  {
   "cell_type": "code",
   "execution_count": null,
   "metadata": {},
   "outputs": [],
   "source": [
    "Rtime.keys()"
   ]
  },
  {
   "cell_type": "code",
   "execution_count": 1,
   "metadata": {},
   "outputs": [
    {
     "ename": "NameError",
     "evalue": "name 'show' is not defined",
     "output_type": "error",
     "traceback": [
      "\u001b[1;31m---------------------------------------------------------------------------\u001b[0m",
      "\u001b[1;31mNameError\u001b[0m                                 Traceback (most recent call last)",
      "Cell \u001b[1;32mIn[1], line 1\u001b[0m\n\u001b[1;32m----> 1\u001b[0m show(\u001b[39m*\u001b[39m\u001b[39m*\u001b[39mdicframe)\n",
      "\u001b[1;31mNameError\u001b[0m: name 'show' is not defined"
     ]
    }
   ],
   "source": [
    "show(**dicframe)"
   ]
  },
  {
   "cell_type": "code",
   "execution_count": null,
   "metadata": {},
   "outputs": [],
   "source": [
    "for k,v in Onedict.items():\n",
    "    print(k,len(v))"
   ]
  },
  {
   "cell_type": "code",
   "execution_count": 20,
   "metadata": {},
   "outputs": [
    {
     "name": "stderr",
     "output_type": "stream",
     "text": [
      "PandasGUI INFO — pandasgui.gui — Opening PandasGUI\n",
      "PandasGUI WARNING — pandasgui.utility — In DF2, converted MultiIndex level values to string in: Index(['no parrallel'], dtype='object', name='parrallel')\n",
      "PandasGUI WARNING — pandasgui.utility — In DF2, converted MultiIndex level values to string in: Index(['local'], dtype='object', name='region')\n",
      "PandasGUI WARNING — pandasgui.utility — In DF2, converted MultiIndex level values to string in: Index(['Capital', 'Consumption', 'Intermediate', 'mono'], dtype='object', name='Multi1')\n",
      "PandasGUI WARNING — pandasgui.utility — In DF2, converted MultiIndex level values to string in: Index(['Capital', 'Consumption', 'Intermediate', 'mono'], dtype='object', name='Multi2')\n",
      "PandasGUI WARNING — pandasgui.utility — In DF2, converted MultiIndex level names to string: Index(['no parrallel'], dtype='object', name='parrallel'), Index(['local'], dtype='object', name='region'), Index(['Capital', 'Consumption', 'Intermediate', 'mono'], dtype='object', name='Multi1'), Index(['Capital', 'Consumption', 'Intermediate', 'mono'], dtype='object', name='Multi2')\n"
     ]
    },
    {
     "data": {
      "text/plain": [
       "<pandasgui.gui.PandasGui at 0x1c022237f70>"
      ]
     },
     "execution_count": 20,
     "metadata": {},
     "output_type": "execute_result"
    }
   ],
   "source": [
    "show(DF2)"
   ]
  },
  {
   "cell_type": "code",
   "execution_count": null,
   "metadata": {},
   "outputs": [],
   "source": []
  },
  {
   "cell_type": "code",
   "execution_count": null,
   "metadata": {},
   "outputs": [],
   "source": []
  },
  {
   "cell_type": "code",
   "execution_count": null,
   "metadata": {},
   "outputs": [],
   "source": []
  },
  {
   "cell_type": "code",
   "execution_count": null,
   "metadata": {},
   "outputs": [],
   "source": [
    "Bigdict['K']"
   ]
  },
  {
   "cell_type": "code",
   "execution_count": null,
   "metadata": {},
   "outputs": [],
   "source": []
  }
 ],
 "metadata": {
  "kernelspec": {
   "display_name": "base",
   "language": "python",
   "name": "python3"
  },
  "language_info": {
   "codemirror_mode": {
    "name": "ipython",
    "version": 3
   },
   "file_extension": ".py",
   "mimetype": "text/x-python",
   "name": "python",
   "nbconvert_exporter": "python",
   "pygments_lexer": "ipython3",
   "version": "3.8.15"
  },
  "orig_nbformat": 4,
  "vscode": {
   "interpreter": {
    "hash": "ad2bdc8ecc057115af97d19610ffacc2b4e99fae6737bb82f5d7fb13d2f2c186"
   }
  }
 },
 "nbformat": 4,
 "nbformat_minor": 2
}
