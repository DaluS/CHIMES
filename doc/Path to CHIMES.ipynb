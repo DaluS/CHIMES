{
 "cells": [
  {
   "cell_type": "code",
   "execution_count": 1,
   "id": "7266064b",
   "metadata": {},
   "outputs": [
    {
     "data": {
      "text/html": [
       "\n",
       "<style>\n",
       "    div#notebook-container    { width: 99%; }\n",
       "    div#menubar-container     { width: 65%; }\n",
       "    div#maintoolbar-container { width: 99%; }\n",
       "</style>\n"
      ],
      "text/plain": [
       "<IPython.core.display.HTML object>"
      ]
     },
     "metadata": {},
     "output_type": "display_data"
    },
    {
     "name": "stdout",
     "output_type": "stream",
     "text": [
      "\n",
      "#####################################################################################\n",
      " _______            ______  ________  ____    ____  ____    ____  ________   ______    \n",
      "|_   __ \\         .' ___  ||_   __  ||_   \\  /   _||_   \\  /   _||_   __  |.' ____  \\   \n",
      "  | |__) |_   __ / .'   \\_|  | |_ \\_|  |   \\/   |    |   \\/   |    | |_ \\_|| (___ \\_|  \n",
      "  |  ___/[ \\ [  ]| |   ____  |  _| _   | |\\  /| |    | |\\  /| |    |  _| _  _.____`.   \n",
      " _| |_    \\ '/ / \\ `.___]  |_| |__/ | _| |_\\/_| |_  _| |_\\/_| |_  _| |__/ || \\____) |  \n",
      "|_____| [\\_:  /   `._____.'|________||_____||_____||_____||_____||________| \\______.'  \n",
      "         \\__.'                           \n",
      "#####################################################################################                                                                                                                                   \n",
      "\n",
      "Welcome in Pygemmes, a modular library to prototype and study dynamical systems !\n",
      "This library is oriented toward generation of macroeconomic complexity models \n",
      "You can find the files on https://github.com/DaluS/GEMMES\n",
      "This library has been coded mostly by Didier Vezinet and Paul Valcke,\n",
      "at the environmental justice program https://environmentaljustice.georgetown.edu/#\n",
      "You can contact me at pv229@georgetown.edu \n",
      "If you find bugs, want some new extensions, or help us improve the library, please create a new issue on github\n",
      "If this is the first time you open this library, please look at the tutorial file in doc/tutorial.py and execute it line by line. \n",
      "Its adress is C:\\Users\\Paul Valcke\\Documents\\GitHub\\GEMMES\\pygemmesdoc\\tutorial.py\n",
      "The ipythonNotebook is at C:\\Users\\Paul Valcke\\Documents\\GitHub\\GEMMES\\pygemmes\\_Presentation.ipynb\n",
      "If you want to customize pygemmes (advancer users) like removing this message, edit C:\\Users\\Paul Valcke\\Documents\\GitHub\\GEMMES\\pygemmes\\_config.py\n",
      "Have fun !\n",
      "######################################################################################################\n",
      "\n"
     ]
    }
   ],
   "source": [
    "### THIS IS JUST FOR A MORE PRACTICAL AND FANCY NOTEBOOK\n",
    "from IPython.display import display, HTML\n",
    "\n",
    "display(HTML(data=\"\"\"\n",
    "<style>\n",
    "    div#notebook-container    { width: 99%; }\n",
    "    div#menubar-container     { width: 65%; }\n",
    "    div#maintoolbar-container { width: 99%; }\n",
    "</style>\n",
    "\"\"\"))\n",
    "##################################################\n",
    "import sys \n",
    "\n",
    "# Install all dependencies\n",
    "#!{sys.executable} -m pip install numpy scipy matplotlib pyvis \n",
    "\n",
    "# Change path as the folder adress you have put the library in \n",
    "path = \"C:\\\\Users\\\\Paul Valcke\\\\Documents\\\\GitHub\\\\GEMMES\" \n",
    "sys.path.insert(0, path)\n",
    "import pygemmes as pgm"
   ]
  },
  {
   "cell_type": "markdown",
   "id": "5931a517",
   "metadata": {},
   "source": [
    "# Now it becomes serious : on the path to CHIMES"
   ]
  },
  {
   "cell_type": "markdown",
   "id": "8d72e063",
   "metadata": {},
   "source": [
    "## Inventories without accessibility dynamics "
   ]
  },
  {
   "cell_type": "markdown",
   "id": "b13041e5",
   "metadata": {},
   "source": [
    "## Inventory with inflation on $\\dot{V}/Y$"
   ]
  },
  {
   "cell_type": "markdown",
   "id": "3900ee88",
   "metadata": {},
   "source": [
    "## Inventory with inflation on $\\dot{V}/V$"
   ]
  },
  {
   "cell_type": "markdown",
   "id": "90274763",
   "metadata": {},
   "source": [
    "## Accessibility "
   ]
  },
  {
   "cell_type": "markdown",
   "id": "22b53ce0",
   "metadata": {},
   "source": [
    "## Use of capital adaptation"
   ]
  },
  {
   "cell_type": "markdown",
   "id": "8612bc83",
   "metadata": {},
   "source": [
    "## Consumption theory"
   ]
  },
  {
   "cell_type": "markdown",
   "id": "3e10c904",
   "metadata": {},
   "source": [
    "# Now it becomes very serious : Multisectoriality\n",
    "\n",
    "## What is a scalar, a vector, a tensor"
   ]
  },
  {
   "cell_type": "code",
   "execution_count": null,
   "id": "8ee52119",
   "metadata": {},
   "outputs": [],
   "source": []
  }
 ],
 "metadata": {
  "kernelspec": {
   "display_name": "Python 3",
   "language": "python",
   "name": "python3"
  },
  "language_info": {
   "codemirror_mode": {
    "name": "ipython",
    "version": 3
   },
   "file_extension": ".py",
   "mimetype": "text/x-python",
   "name": "python",
   "nbconvert_exporter": "python",
   "pygments_lexer": "ipython3",
   "version": "3.8.8"
  }
 },
 "nbformat": 4,
 "nbformat_minor": 5
}
