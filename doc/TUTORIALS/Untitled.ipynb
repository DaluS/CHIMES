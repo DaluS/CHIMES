{
 "cells": [
  {
   "cell_type": "markdown",
   "id": "0aab29e0",
   "metadata": {},
   "source": [
    "# Your turn ! \n",
    "\n",
    "## Running the system on your own\n",
    "1. Reset your terminal\n",
    "2. Load pygemmes \n",
    "3. Load a model (GoodwinFull) \n",
    "4. Look at the summary \n",
    "5. Change one parameter (for example, the interest rate)\n",
    "6. Do a run \n",
    "7. Do a plot of only variables you want (for example employment, omega, d,N,L)\n",
    "8. Do a 3D plot \n",
    "9. Calculate the cycles and show them one omega\n",
    "10. Change the interest rate with 15 different values, and check the sensitivity of the system to it on employment\n",
    "11. "
   ]
  }
 ],
 "metadata": {
  "kernelspec": {
   "display_name": "Python 3",
   "language": "python",
   "name": "python3"
  },
  "language_info": {
   "codemirror_mode": {
    "name": "ipython",
    "version": 3
   },
   "file_extension": ".py",
   "mimetype": "text/x-python",
   "name": "python",
   "nbconvert_exporter": "python",
   "pygments_lexer": "ipython3",
   "version": "3.8.8"
  }
 },
 "nbformat": 4,
 "nbformat_minor": 5
}
