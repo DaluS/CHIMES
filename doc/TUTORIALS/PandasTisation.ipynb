{
 "cells": [
  {
   "cell_type": "code",
   "execution_count": 1,
   "metadata": {},
   "outputs": [
    {
     "name": "stdout",
     "output_type": "stream",
     "text": [
      "\n",
      "#####################################################################################\n",
      " _______            ______  ________  ____    ____  ____    ____  ________   ______    \n",
      "|_   __ \\         .' ___  ||_   __  ||_   \\  /   _||_   \\  /   _||_   __  |.' ____  \\   \n",
      "  | |__) |_   __ / .'   \\_|  | |_ \\_|  |   \\/   |    |   \\/   |    | |_ \\_|| (___ \\_|  \n",
      "  |  ___/[ \\ [  ]| |   ____  |  _| _   | |\\  /| |    | |\\  /| |    |  _| _  _.____`.   \n",
      " _| |_    \\ '/ / \\ `.___]  |_| |__/ | _| |_\\/_| |_  _| |_\\/_| |_  _| |__/ || \\____) |  \n",
      "|_____| [\\_:  /   `._____.'|________||_____||_____||_____||_____||________| \\______.'  \n",
      "         \\__.'                           \n",
      "#####################################################################################                                                                                                                                   \n",
      "\n",
      "Welcome in Pygemmes, a modular library to prototype and study dynamical systems !\n",
      "This library is oriented toward generation of macroeconomic complexity models \n",
      "You can find the files on https://github.com/DaluS/GEMMES\n",
      "This library has been coded mostly by Didier Vezinet and Paul Valcke,\n",
      "at the environmental justice program https://environmentaljustice.georgetown.edu/#\n",
      "You can contact me at pv229@georgetown.edu \n",
      "If you find bugs, want some new extensions, or help us improve the library, please create a new issue on github\n",
      "If this is the first time you open this library, please look at the tutorial file in doc/tutorial.py and execute it line by line. \n",
      "The ipythonNotebook is at :\n",
      " \tC:\\Users\\Paul Valcke\\Documents\\GitHub\\GEMMES\\pygemmes\\doc\\TUTORIALS\\TUTORIAL.ipynb\n",
      "If you want to customize pygemmes (advancer users) like removing this message, edit :\n",
      " \tC:\\Users\\Paul Valcke\\Documents\\GitHub\\GEMMES\\pygemmes\\_config.py\n",
      "\n",
      "Have fun !\n",
      "######################################################################################################\n",
      "\n"
     ]
    }
   ],
   "source": [
    "import sys \n",
    "sys.path.insert(0, \"C:\\\\Users\\\\Paul Valcke\\\\Documents\\\\GitHub\\\\GEMMES\" )\n",
    "import pygemmes as pgm\n",
    "import pandas as pd\n",
    "import numpy as np"
   ]
  },
  {
   "cell_type": "code",
   "execution_count": 2,
   "metadata": {},
   "outputs": [
    {
     "ename": "Exception",
     "evalue": "The model you asked, GK, cannot be found. Found models are \n...Maybe you mispelled it ?",
     "output_type": "error",
     "traceback": [
      "\u001b[1;31m---------------------------------------------------------------------------\u001b[0m",
      "\u001b[1;31mException\u001b[0m                                 Traceback (most recent call last)",
      "Cell \u001b[1;32mIn [2], line 1\u001b[0m\n\u001b[1;32m----> 1\u001b[0m hub\u001b[39m=\u001b[39mpgm\u001b[39m.\u001b[39;49mHub(\u001b[39m'\u001b[39;49m\u001b[39mGK\u001b[39;49m\u001b[39m'\u001b[39;49m)\n",
      "File \u001b[1;32m~\\Documents\\GitHub\\GEMMES\\pygemmes\\_core.py:79\u001b[0m, in \u001b[0;36mHub.__init__\u001b[1;34m(self, model, from_user, preset, dpresets, verb)\u001b[0m\n\u001b[0;32m     67\u001b[0m \u001b[39mself\u001b[39m\u001b[39m.\u001b[39m__dmisc \u001b[39m=\u001b[39m {\u001b[39m'\u001b[39m\u001b[39mrun\u001b[39m\u001b[39m'\u001b[39m: \u001b[39mFalse\u001b[39;00m,        \u001b[39m# Has a run been done\u001b[39;00m\n\u001b[0;32m     68\u001b[0m                 \u001b[39m'\u001b[39m\u001b[39mdmulti\u001b[39m\u001b[39m'\u001b[39m: {},        \u001b[39m# Which variables has been imposed as multiple, and what size\u001b[39;00m\n\u001b[0;32m     69\u001b[0m                 \u001b[39m'\u001b[39m\u001b[39mcycles\u001b[39m\u001b[39m'\u001b[39m: \u001b[39mFalse\u001b[39;00m,     \u001b[39m# Has an analysis of cycles been done\u001b[39;00m\n\u001b[0;32m     70\u001b[0m                 \u001b[39m'\u001b[39m\u001b[39mderivative\u001b[39m\u001b[39m'\u001b[39m: \u001b[39mFalse\u001b[39;00m, \u001b[39m# Has an analysis of derivatives been done\u001b[39;00m\n\u001b[0;32m     71\u001b[0m                 }\n\u001b[0;32m     73\u001b[0m \u001b[39m# Load model files ####################################################\u001b[39;00m\n\u001b[0;32m     74\u001b[0m (\n\u001b[0;32m     75\u001b[0m     \u001b[39mself\u001b[39m\u001b[39m.\u001b[39m__dmodel,  \u001b[39m# Contains the model informations\u001b[39;00m\n\u001b[0;32m     76\u001b[0m     \u001b[39mself\u001b[39m\u001b[39m.\u001b[39m__dparam,  \u001b[39m# Contains all the fields and their relative properties\u001b[39;00m\n\u001b[0;32m     77\u001b[0m     \u001b[39mself\u001b[39m\u001b[39m.\u001b[39m__dmisc[\u001b[39m'\u001b[39m\u001b[39mdfunc_order\u001b[39m\u001b[39m'\u001b[39m], \u001b[39m# Order of resolution\u001b[39;00m\n\u001b[0;32m     78\u001b[0m     \u001b[39mself\u001b[39m\u001b[39m.\u001b[39m__dargs,  \u001b[39m# Pointer for each field and function values\u001b[39;00m\n\u001b[1;32m---> 79\u001b[0m ) \u001b[39m=\u001b[39m _class_set\u001b[39m.\u001b[39;49mload_model(\n\u001b[0;32m     80\u001b[0m     model,\n\u001b[0;32m     81\u001b[0m     from_user\u001b[39m=\u001b[39;49mfrom_user,\n\u001b[0;32m     82\u001b[0m     verb\u001b[39m=\u001b[39;49mverb,\n\u001b[0;32m     83\u001b[0m )\n\u001b[0;32m     86\u001b[0m \u001b[39m# Actualize the shape ##############################################\u001b[39;00m\n\u001b[0;32m     87\u001b[0m \u001b[39mself\u001b[39m\u001b[39m.\u001b[39m__dmisc[\u001b[39m'\u001b[39m\u001b[39mdmulti\u001b[39m\u001b[39m'\u001b[39m][\u001b[39m'\u001b[39m\u001b[39mNxNr\u001b[39m\u001b[39m'\u001b[39m] \u001b[39m=\u001b[39m (\u001b[39mself\u001b[39m\u001b[39m.\u001b[39m__dparam[\u001b[39m'\u001b[39m\u001b[39mnx\u001b[39m\u001b[39m'\u001b[39m][\u001b[39m'\u001b[39m\u001b[39mvalue\u001b[39m\u001b[39m'\u001b[39m],\n\u001b[0;32m     88\u001b[0m                                   \u001b[39mself\u001b[39m\u001b[39m.\u001b[39m__dparam[\u001b[39m'\u001b[39m\u001b[39mnr\u001b[39m\u001b[39m'\u001b[39m][\u001b[39m'\u001b[39m\u001b[39mvalue\u001b[39m\u001b[39m'\u001b[39m])\n",
      "File \u001b[1;32m~\\Documents\\GitHub\\GEMMES\\pygemmes\\_utilities\\_class_set.py:47\u001b[0m, in \u001b[0;36mload_model\u001b[1;34m(model, verb, from_user)\u001b[0m\n\u001b[0;32m     45\u001b[0m \u001b[39m# LOAD THE FILE AND THE LIBRARY ###########################################\u001b[39;00m\n\u001b[0;32m     46\u001b[0m _class_check_2\u001b[39m.\u001b[39mmodel_name(model, from_user, verb\u001b[39m=\u001b[39mverb)\n\u001b[1;32m---> 47\u001b[0m dmodel \u001b[39m=\u001b[39m load_dmodel(model, from_user\u001b[39m=\u001b[39;49m\u001b[39mNone\u001b[39;49;00m)\n\u001b[0;32m     48\u001b[0m dfields \u001b[39m=\u001b[39m load_complete_DFIELDS(dmodel, verb\u001b[39m=\u001b[39mverb)\n\u001b[0;32m     49\u001b[0m _class_check_2\u001b[39m.\u001b[39mdmodel(dmodel)\n",
      "File \u001b[1;32m~\\Documents\\GitHub\\GEMMES\\pygemmes\\_utilities\\_class_set.py:85\u001b[0m, in \u001b[0;36mload_dmodel\u001b[1;34m(model, from_user)\u001b[0m\n\u001b[0;32m     83\u001b[0m \u001b[39mif\u001b[39;00m model \u001b[39mnot\u001b[39;00m \u001b[39min\u001b[39;00m _DMODEL\u001b[39m.\u001b[39mkeys():\n\u001b[0;32m     84\u001b[0m     modellist \u001b[39m=\u001b[39m \u001b[39m\"\u001b[39m\u001b[39m\"\u001b[39m\u001b[39m.\u001b[39mjoin([\u001b[39m'\u001b[39m\u001b[39m* \u001b[39m\u001b[39m'\u001b[39m\u001b[39m+\u001b[39m\u001b[39mstr\u001b[39m(f)\u001b[39m+\u001b[39m\u001b[39m\"\u001b[39m\u001b[39m\\n\u001b[39;00m\u001b[39m\"\u001b[39m \u001b[39mfor\u001b[39;00m f \u001b[39min\u001b[39;00m \u001b[39mlist\u001b[39m(_DMODEL\u001b[39m.\u001b[39mkeys())])\n\u001b[1;32m---> 85\u001b[0m     \u001b[39mraise\u001b[39;00m \u001b[39mException\u001b[39;00m(\u001b[39mf\u001b[39m\u001b[39m'\u001b[39m\u001b[39mThe model you asked, \u001b[39m\u001b[39m{\u001b[39;00mmodel\u001b[39m}\u001b[39;00m\u001b[39m, cannot be found. Found models are \u001b[39m\u001b[39m\\n\u001b[39;00m\u001b[39m{\u001b[39;00mmodellist\u001b[39m}\u001b[39;00m\u001b[39m'\u001b[39m\n\u001b[0;32m     86\u001b[0m                     \u001b[39mf\u001b[39m\u001b[39m'\u001b[39m\u001b[39m...Maybe you mispelled it ?\u001b[39m\u001b[39m'\u001b[39m)\n\u001b[0;32m     87\u001b[0m dmodel\u001b[39m=\u001b[39m_DMODEL[model]\n\u001b[0;32m     88\u001b[0m dmodel[\u001b[39m'\u001b[39m\u001b[39mpreset\u001b[39m\u001b[39m'\u001b[39m]\u001b[39m=\u001b[39m\u001b[39mNone\u001b[39;00m\n",
      "\u001b[1;31mException\u001b[0m: The model you asked, GK, cannot be found. Found models are \n...Maybe you mispelled it ?"
     ]
    }
   ],
   "source": [
    "hub=pgm.Hub('GK')"
   ]
  },
  {
   "attachments": {},
   "cell_type": "markdown",
   "metadata": {},
   "source": [
    "# \"UNIT TEST\" Version jupyter"
   ]
  },
  {
   "attachments": {},
   "cell_type": "markdown",
   "metadata": {},
   "source": [
    "## pygemmes get"
   ]
  },
  {
   "cell_type": "code",
   "execution_count": null,
   "metadata": {},
   "outputs": [],
   "source": [
    "#df = pgm.get_available_fields()\n",
    "df = pgm.get_available_fields(exploreModels=True)\n",
    "#df\n",
    "\n",
    "#from pandasgui import show \n",
    "#gui=show(df)"
   ]
  },
  {
   "cell_type": "code",
   "execution_count": null,
   "metadata": {},
   "outputs": [],
   "source": [
    "pgm.get_available_models()\n",
    "pgm.get_available_models(model='GK')\n",
    "pgm.get_available_models(details=True)\n",
    "pgm.get_available_models(Return=dict)\n",
    "pgm.get_available_models(Return=list)"
   ]
  },
  {
   "cell_type": "code",
   "execution_count": null,
   "metadata": {},
   "outputs": [],
   "source": [
    "#pgm.get_available_output()\n",
    "#pgm.get_available_solvers()"
   ]
  },
  {
   "cell_type": "code",
   "execution_count": null,
   "metadata": {},
   "outputs": [],
   "source": [
    "df= pgm.get_available_plots()"
   ]
  },
  {
   "cell_type": "code",
   "execution_count": null,
   "metadata": {},
   "outputs": [],
   "source": [
    "pgm.get_available_functions()"
   ]
  },
  {
   "attachments": {},
   "cell_type": "markdown",
   "metadata": {},
   "source": [
    "## pygemmes misc"
   ]
  },
  {
   "cell_type": "code",
   "execution_count": null,
   "metadata": {},
   "outputs": [],
   "source": [
    "# Checking each type of distribution\n",
    "outputdict = pgm.generate_dic_distribution({\n",
    "            'alpha': {'mu': .02,\n",
    "                      'sigma': .2,\n",
    "                      'type': 'normal'},\n",
    "            'k2': {   'mu': 20,\n",
    "                      'sigma': .2,\n",
    "                      'type': 'log'},\n",
    "            'mu': {   'mu': 1.3,\n",
    "                      'sigma': .2,\n",
    "                      'type': 'uniform'},\n",
    "            })"
   ]
  },
  {
   "cell_type": "markdown",
   "metadata": {},
   "source": [
    "## HUB"
   ]
  },
  {
   "attachments": {},
   "cell_type": "markdown",
   "metadata": {},
   "source": [
    "### LOADING MODELS"
   ]
  },
  {
   "cell_type": "code",
   "execution_count": null,
   "metadata": {},
   "outputs": [],
   "source": [
    "hub=pgm.Hub('GK')\n",
    "hub=pgm.Hub('GK',verb=False)"
   ]
  },
  {
   "cell_type": "code",
   "execution_count": null,
   "metadata": {},
   "outputs": [],
   "source": [
    "hub.get_summary()\n",
    "hub.get_equations_description()"
   ]
  },
  {
   "cell_type": "code",
   "execution_count": null,
   "metadata": {},
   "outputs": [],
   "source": [
    "hub.get_Network()\n",
    "hub.get_Network(params=True)                    # state,differential,parameters\n",
    "hub.get_Network(auxilliary=False,params=True)   # remove auxilliary statevar and differential\n",
    "hub.get_Network(filters=('Pi',))                # remove the variable Pi and its connexions\n",
    "hub.get_Network(filters=('Pi',),redirect=True)  # all connexions from Pi are reconnected"
   ]
  },
  {
   "cell_type": "code",
   "execution_count": null,
   "metadata": {},
   "outputs": [],
   "source": [
    "hub.get_summary()"
   ]
  },
  {
   "cell_type": "code",
   "execution_count": null,
   "metadata": {},
   "outputs": [],
   "source": [
    "hub=pgm.Hub('GK')\n",
    "print('NOTHING')\n",
    "hub.run()\n",
    "hub.run(verb=0)\n",
    "hub.run(verb=1)\n",
    "hub.run(N=100)"
   ]
  },
  {
   "cell_type": "code",
   "execution_count": null,
   "metadata": {},
   "outputs": [],
   "source": [
    "hub=pgm.Hub('GK')\n",
    "hub.run()\n",
    "\n",
    "hub.plot()\n",
    "hub.plot(filters_units=['',]) ### Only the dimensionless units\n",
    "hub.plot(filters_units=('',)) ### Everything but the dimensionless units\n",
    "hub.plot(filters_units=['','y'],\n",
    "         filters_key=('kappa'),\n",
    "         separate_variables={'':['employment','omega']},\n",
    "         title='basic GK') ### Everything but the dimensionless units\n",
    "         \n",
    "pgm.plots.Var(hub,'K',log=True)\n",
    "pgm.plots.Var(hub,'pi',mode='cycles') # We ask him for cycles information. He will activate a toolbox for you to get the data\n",
    "# sensitivity will be shown later (section set_dparam)\n",
    "pgm.plots.phasespace(hub,\n",
    "                     x='employment',\n",
    "                     y='omega',\n",
    "                     color='d')\n",
    "pgm.plots.plot3D(hub, x='employment',\n",
    "                 y='omega',\n",
    "                 z='kappa',\n",
    "                 color='pi',\n",
    "                 cmap='jet',\n",
    "                 index=0,\n",
    "                 title='')\n",
    "pgm.plots.plotnyaxis(hub, x='time',\n",
    "             y=[['employment', 'omega'],\n",
    "                ['pi','kappa'],\n",
    "                ['d'],\n",
    "                ],\n",
    "             idx=0,\n",
    "             title='',\n",
    "             lw=2)\n",
    "pgm.plots.cycles_characteristics(hub,'omega','employment',ref='pi',type1='stdval')\n",
    "pgm.plots.repartition(hub,['C','Ir'],ref='Y',sector='')"
   ]
  },
  {
   "cell_type": "code",
   "execution_count": null,
   "metadata": {},
   "outputs": [],
   "source": [
    "hub=pgm.Hub('GK',verb=False)\n",
    "hub.set_dparam(**{\n",
    "    'nx':3,\n",
    "    'alpha':[0,0.05,0.1],})\n",
    "pgm.plots.Var(hub,'employment',mode='sensitivity')"
   ]
  },
  {
   "cell_type": "code",
   "execution_count": null,
   "metadata": {},
   "outputs": [],
   "source": [
    "hub=pgm.Hub('GK',preset='default')\n",
    "hub.run()\n",
    "hub.plot_preset()"
   ]
  },
  {
   "attachments": {},
   "cell_type": "markdown",
   "metadata": {},
   "source": [
    "## SET_DPARAM"
   ]
  },
  {
   "cell_type": "code",
   "execution_count": null,
   "metadata": {},
   "outputs": [],
   "source": [
    "hub=pgm.Hub('GK',verb=False)\n",
    "hub.set_dparam('alpha',0,verb=False)\n",
    "\n",
    "hub=pgm.Hub('GK',verb=False)\n",
    "hub.set_dparam(**{\n",
    "    'nx':3,\n",
    "    'alpha':np.linspace(0,0.1,3),},verb=False)"
   ]
  },
  {
   "cell_type": "code",
   "execution_count": null,
   "metadata": {},
   "outputs": [],
   "source": [
    "# SET_DPARAM IN A MULTISECTORAL CONTEXT\n",
    "\n",
    "## TO FILL\n"
   ]
  },
  {
   "attachments": {},
   "cell_type": "markdown",
   "metadata": {},
   "source": [
    "## INTROSPECTION"
   ]
  },
  {
   "cell_type": "code",
   "execution_count": null,
   "metadata": {},
   "outputs": [],
   "source": [
    "hub.get_summarypd()"
   ]
  },
  {
   "cell_type": "code",
   "execution_count": null,
   "metadata": {},
   "outputs": [],
   "source": [
    "hub.get_presets()\n",
    "#hub.get_presets(returnas=list)\n",
    "#hub.get_presets(returnas=dict)"
   ]
  },
  {
   "cell_type": "code",
   "execution_count": null,
   "metadata": {},
   "outputs": [],
   "source": [
    "#hub.dargs\n",
    "hub.dmisc\n",
    "#hub.dfunc_order\n",
    "#hub.dmodel\n"
   ]
  },
  {
   "cell_type": "code",
   "execution_count": null,
   "metadata": {},
   "outputs": [],
   "source": []
  },
  {
   "attachments": {},
   "cell_type": "markdown",
   "metadata": {},
   "source": [
    "## FINAL : CHECK ALL MODELS ALL PRESETS ON A SHORT RUN"
   ]
  },
  {
   "cell_type": "code",
   "execution_count": null,
   "metadata": {},
   "outputs": [],
   "source": [
    "# Loading all models all presets and do a small run\n",
    "Modeldict = pgm.get_available_models(Return=dict)\n",
    "for model, v in Modeldict.items():\n",
    "    for preset in v['Preset']+[None]:\n",
    "        print(model,preset)\n",
    "        hub=pgm.Hub(model,preset=preset,verb=False)\n",
    "        hub.set_dparam(**{'Tmax':2,'dt':1},verb=False)\n",
    "        hub.run(verb=0)\n",
    "        if preset:\n",
    "            hub.plot_preset()"
   ]
  },
  {
   "cell_type": "code",
   "execution_count": null,
   "metadata": {},
   "outputs": [],
   "source": [
    "hub=pgm.Hub('GK')\n",
    "#hub=pgm.Hub('GK_Endo')\n",
    "hub.set_dparam(**{'beta':0,'alpha':0.025})\n",
    "hub.run()\n",
    "hub.plot()\n",
    "\n",
    "hub.get_summary()"
   ]
  },
  {
   "cell_type": "code",
   "execution_count": null,
   "metadata": {},
   "outputs": [],
   "source": [
    "hub.plot(['a'])"
   ]
  },
  {
   "cell_type": "code",
   "execution_count": null,
   "metadata": {},
   "outputs": [],
   "source": []
  }
 ],
 "metadata": {
  "kernelspec": {
   "display_name": "base",
   "language": "python",
   "name": "python3"
  },
  "language_info": {
   "codemirror_mode": {
    "name": "ipython",
    "version": 3
   },
   "file_extension": ".py",
   "mimetype": "text/x-python",
   "name": "python",
   "nbconvert_exporter": "python",
   "pygments_lexer": "ipython3",
   "version": "3.8.15"
  },
  "orig_nbformat": 4,
  "vscode": {
   "interpreter": {
    "hash": "ad2bdc8ecc057115af97d19610ffacc2b4e99fae6737bb82f5d7fb13d2f2c186"
   }
  }
 },
 "nbformat": 4,
 "nbformat_minor": 2
}
