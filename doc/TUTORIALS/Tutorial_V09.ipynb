{
 "cells": [
  {
   "cell_type": "code",
   "execution_count": 1,
   "metadata": {},
   "outputs": [
    {
     "name": "stdout",
     "output_type": "stream",
     "text": [
      "\n",
      "pyIDEE\n",
      "\n",
      "* Version 0.9\n",
      "* Last update 2023/01/03\n",
      "* Developped at the environmental justice program https://environmentaljustice.georgetown.edu/#\n",
      "* Contact : Paul Valcke pv229@georgetown.edu\n",
      "\n",
      "Welcome in PyIDEE, a modular library to prototype and study dynamical systems !\n",
      "This library is oriented toward generation of macroeconomic complexity models\n",
      "\n",
      "If you find bugs, want some new extensions, or help us improve the library, please create a new issue on github\n",
      "If this is the first time you open this library, please look at the tutorial file in doc/tutorial.py or better, and execute it line by line.\n",
      "\n",
      "The ipythonNotebook is at : C:\\Users\\Paul Valcke\\Documents\\GitHub\\GEMMES\\pygemmes\\doc\\TUTORIALS\\TUTORIAL.ipynb\n",
      "If you want to customize pyIDEE (advancer users) like removing this message, edit : C:\\Users\\Paul Valcke\\Documents\\GitHub\\GEMMES\\pygemmes\\_config.py\n"
     ]
    },
    {
     "data": {
      "text/plain": [
       "'\\n\\nfrom itables import init_notebook_mode\\ninit_notebook_mode(all_interactive=True)\\n\\ndef pprint(ldf):\\n    \\'#\\'\\'Print with newline in dataframe\\'\\'#\\'\\n    try : ldf = ldf.style.set_properties(**{\\'text-align\\': \\'left\\'})\\n    except BaseException: pass\\n    return display(HTML(ldf.to_html().replace(\"\\\\n\",\"<br>\")))\\n\\n#### Precalculated variables \\nclass pre:\\n    def __init__(self):\\n        self.style = {\\'description_width\\': \\'initial\\'}\\n        self.Categories = [\\'eqtype\\',\\'source_exp\\',\\'definition\\',\\'com\\',\\'group\\',\\'units\\',\\'symbol\\',\\'isneeded\\']\\n        with open(path+\\'\\\\README.md\\', \\'r\\') as fh: self.tutorial = fh.read()\\n        with open(path+\\'\\\\Tutorial-model.md\\', \\'r\\') as fh: self.tutorialmodel = fh.read()\\n        self.figPhy= False\\n        self.figMoney= False\\n        self.AllModels = pgm.get_available_models(details=True)\\n        self.FULL = pgm.get_available_models(FULL=True)\\n\\n'"
      ]
     },
     "execution_count": 1,
     "metadata": {},
     "output_type": "execute_result"
    }
   ],
   "source": [
    "import sys\n",
    "path = \"C:\\\\Users\\\\Paul Valcke\\\\Documents\\\\GitHub\\\\GEMMES\"\n",
    "sys.path.insert(0, path )\n",
    "import pygemmes as pgm\n",
    "\n",
    "# Ipywidgets relative \n",
    "import ipywidgets as widgets\n",
    "from IPython.display import display,HTML,Markdown\n",
    "from IPython.display import IFrame\n",
    "import numpy as np\n",
    "import pandas as pd\n",
    "pd.set_option('display.max_colwidth', None)\n",
    "'''\n",
    "\n",
    "from itables import init_notebook_mode\n",
    "init_notebook_mode(all_interactive=True)\n",
    "\n",
    "def pprint(ldf):\n",
    "    '#''Print with newline in dataframe''#'\n",
    "    try : ldf = ldf.style.set_properties(**{'text-align': 'left'})\n",
    "    except BaseException: pass\n",
    "    return display(HTML(ldf.to_html().replace(\"\\\\n\",\"<br>\")))\n",
    "\n",
    "#### Precalculated variables \n",
    "class pre:\n",
    "    def __init__(self):\n",
    "        self.style = {'description_width': 'initial'}\n",
    "        self.Categories = ['eqtype','source_exp','definition','com','group','units','symbol','isneeded']\n",
    "        with open(path+'\\\\README.md', 'r') as fh: self.tutorial = fh.read()\n",
    "        with open(path+'\\\\Tutorial-model.md', 'r') as fh: self.tutorialmodel = fh.read()\n",
    "        self.figPhy= False\n",
    "        self.figMoney= False\n",
    "        self.AllModels = pgm.get_available_models(details=True)\n",
    "        self.FULL = pgm.get_available_models(FULL=True)\n",
    "\n",
    "'''\n",
    "\n",
    "from itables import init_notebook_mode\n",
    "init_notebook_mode(all_interactive=True)"
   ]
  },
  {
   "cell_type": "code",
   "execution_count": null,
   "metadata": {},
   "outputs": [],
   "source": [
    "pgm.get_available_fields(exploreModels=True)"
   ]
  },
  {
   "cell_type": "code",
   "execution_count": 2,
   "metadata": {},
   "outputs": [
    {
     "name": "stdout",
     "output_type": "stream",
     "text": [
      "The following fields are defined in the model but not it the library :\n",
      "\t- statevar: ['inflationMarkup', 'inflationdotV', 'deltaK', 'employmentAGG', 'gK', 'gamma', 'xi', 'reldotv', 'reloverinvest']\n",
      "The following fields are identified as parameters :\n",
      "\t- independant : ['delta', 'gammai', 'sigma', 'alpha', 'n', 'z', 'b', 'nu0', 'Gamma', 'Xi', 'eta', 'mu0', 'chi', 'Cpond', 'r', 'philinConst', 'philinSlope', 'k0']\n",
      "\t- function of other parameters : []\n",
      "The following variables are identified as auxilliary :\n",
      "\t - differential : ['time']\n",
      "\t - state variable : ['deltaK', 'Minter', 'Minvest', 'rDh', 'rd', 'gK', 'ROC', 'gamma', 'xi', 'reldotv', 'reloverinvest']\n",
      "The following order has been determined for functions:\n",
      "\t- parameter: ['nt']\n",
      "\t- statevar: ['w', 'u', 'nu', 'Mgamma', 'Mxi', 'Y', 'deltaK', 'Minter', 'MtransactY', 'rD', 'rDh', 'rd', 'gamma', 'xi', 'a', 'omega', 'c', 'inflationMarkup', 'L', 'wL', 'W', 'pi', 'ROC', 'employment', 'C', 'pC', 'employmentAGG', 'Phillips', 'kappa', 'reloverinvest', 'basket', 'I', 'Ir', 'dotV', 'Minvest', 'MtransactI', 'dotD', 'gK', 'reldotv', 'inflationdotV', 'inflation', 'ibasket']\n",
      "\t- differential: ['D', 'Dh', 'V', 'K', 'p', 'w0', 'u0', 'a0', 'N', 'time']\n",
      "dt asked to be changed but the value 0.1 is already the one in the system\n",
      "nx asked to be changed but the value 1 is already the one in the system\n",
      "\n",
      "### Identified keys to be changed ###\n",
      "   Dimensions : ['Tmax', 'Nprod']\n",
      "   Fields : ['alpha', 'n', 'gammai', 'r', 'N', 'Dh', 'sigma', 'K', 'D', 'p', 'V', 'z', 'k0', 'Cpond', 'mu0', 'delta', 'eta', 'chi', 'b', 'Gamma', 'Xi']\n",
      "   Ignored :['phinull', 'a', 'w', 'u', 'deltah', 'nu', 'rho', 'dt', 'nx']\n",
      "Now Nprod has 3 sectors with names ['Consumption', 'Intermediate', 'Capital']\n",
      "Identified alpha as a value change on all axes\n",
      "Identified z as a value change on all axes\n",
      "Identified N as a value change on all axes\n",
      "Identified b as a value change on all axes\n",
      "Identified Dh as a value change on all axes\n",
      "Identified mu0 as a value change on all axes\n",
      "Identified gammai as a value change on all axes\n",
      "Identified eta as a value change on all axes\n",
      "Identified n as a value change on all axes\n",
      "Identified k0 as a value change on all axes\n",
      "Identified delta as a value change on all axes\n",
      "Identified r as a value change on all axes\n",
      "Identified chi as a value change on all axes\n",
      "WARNING : projection of sigma on first scalar value. Are you sure about your dimensions ?\n",
      "[[[[1]]]\n",
      "\n",
      "\n",
      " [[[5]]]\n",
      "\n",
      "\n",
      " [[[5]]]]\n"
     ]
    },
    {
     "ename": "Exception",
     "evalue": "\nYou have a problem on your object sizes for gamma (shape of kwargs:)\n [('p', (1, 1, 3, 1)), ('Gamma', (1, 1, 1, 1))] \n matmul: Input operand 1 has a mismatch in its core dimension 0, with gufunc signature (n?,k),(k,m?)->(n?,m?) (size 3 is different from 1)\nYou have a problem on your object sizes for xi (shape of kwargs:)\n [('p', (1, 1, 3, 1)), ('nu', (1, 1, 3, 1)), ('delta', (1, 1, 1, 1)), ('b', (1, 1, 1, 1)), ('Xi', (1, 1, 1, 1))] \n matmul: Input operand 1 has a mismatch in its core dimension 0, with gufunc signature (n?,k),(k,m?)->(n?,m?) (size 3 is different from 1)\nYou have a problem on your object sizes for ROC (shape of kwargs:)\n [('p', (1, 1, 3, 1)), ('pi', (1, 1, 3, 1)), ('nu', (1, 1, 3, 1)), ('Xi', (1, 1, 1, 1))] \n matmul: Input operand 1 has a mismatch in its core dimension 0, with gufunc signature (n?,k),(k,m?)->(n?,m?) (size 3 is different from 1)\nYou have a problem on your object sizes for Ir (shape of kwargs:)\n [('p', (1, 1, 3, 1)), ('I', (1, 1, 3, 1)), ('Xi', (1, 1, 1, 1))] \n matmul: Input operand 1 has a mismatch in its core dimension 0, with gufunc signature (n?,k),(k,m?)->(n?,m?) (size 3 is different from 1)\nYou have a problem on your object sizes for dotV (shape of kwargs:)\n [('Y', (1, 1, 3, 1)), ('Ir', (1, 1, 3, 1)), ('C', (1, 1, 3, 1)), ('Gamma', (1, 1, 1, 1)), ('Xi', (1, 1, 1, 1))] \n matmul: Input operand 1 has a mismatch in its core dimension 0, with gufunc signature (n?,k),(k,m?)->(n?,m?) (size 3 is different from 1)\nYou have a problem on your object sizes for MtransactI (shape of kwargs:)\n [('p', (1, 1, 3, 1)), ('I', (1, 1, 3, 1)), ('Xi', (1, 1, 1, 1))] \n matmul: Input operand 1 has a mismatch in its core dimension 0, with gufunc signature (n?,k),(k,m?)->(n?,m?) (size 3 is different from 1)\nALLOCATION CANNOT BE DONE,CHECK YOUR MODEL FILE !",
     "output_type": "error",
     "traceback": [
      "\u001b[1;31m---------------------------------------------------------------------------\u001b[0m",
      "\u001b[1;31mException\u001b[0m                                 Traceback (most recent call last)",
      "Cell \u001b[1;32mIn[2], line 2\u001b[0m\n\u001b[0;32m      1\u001b[0m hub\u001b[39m=\u001b[39mpgm\u001b[39m.\u001b[39mHub(\u001b[39m'\u001b[39m\u001b[39mCHIMES\u001b[39m\u001b[39m'\u001b[39m)\n\u001b[1;32m----> 2\u001b[0m hub\u001b[39m.\u001b[39;49mset_preset(\u001b[39m'\u001b[39;49m\u001b[39mSimpleTri\u001b[39;49m\u001b[39m'\u001b[39;49m)\n\u001b[0;32m      3\u001b[0m hub\u001b[39m.\u001b[39mrun()\n",
      "File \u001b[1;32m~\\Documents\\GitHub\\GEMMES\\pygemmes\\_core.py:174\u001b[0m, in \u001b[0;36mHub.set_preset\u001b[1;34m(self, input, verb)\u001b[0m\n\u001b[0;32m    172\u001b[0m \u001b[39melse\u001b[39;00m :\n\u001b[0;32m    173\u001b[0m     \u001b[39mself\u001b[39m\u001b[39m.\u001b[39m__dmodel[\u001b[39m'\u001b[39m\u001b[39mpreset\u001b[39m\u001b[39m'\u001b[39m]\u001b[39m=\u001b[39m\u001b[39minput\u001b[39m\n\u001b[1;32m--> 174\u001b[0m     \u001b[39mself\u001b[39;49m\u001b[39m.\u001b[39;49mset_dparam(\u001b[39mself\u001b[39;49m,verb\u001b[39m=\u001b[39;49mverb,\u001b[39m*\u001b[39;49m\u001b[39m*\u001b[39;49m\u001b[39mself\u001b[39;49m\u001b[39m.\u001b[39;49m__dmodel[\u001b[39m'\u001b[39;49m\u001b[39mpresets\u001b[39;49m\u001b[39m'\u001b[39;49m][\u001b[39minput\u001b[39;49m][\u001b[39m'\u001b[39;49m\u001b[39mfields\u001b[39;49m\u001b[39m'\u001b[39;49m])\n",
      "File \u001b[1;32m~\\Documents\\GitHub\\GEMMES\\pygemmes\\_core.py:296\u001b[0m, in \u001b[0;36mHub.set_dparam\u001b[1;34m(self, key, value, verb, **kwargs)\u001b[0m\n\u001b[0;32m    294\u001b[0m \u001b[39m#### SEND IT TO THE PIPE ###################\u001b[39;00m\n\u001b[0;32m    295\u001b[0m \u001b[39mself\u001b[39m\u001b[39m.\u001b[39m_set_dimensions(verb,\u001b[39m*\u001b[39m\u001b[39m*\u001b[39mdimtochange)\n\u001b[1;32m--> 296\u001b[0m \u001b[39mself\u001b[39;49m\u001b[39m.\u001b[39;49m_set_fields(verb,\u001b[39m*\u001b[39;49m\u001b[39m*\u001b[39;49mfieldtochange)\n",
      "File \u001b[1;32m~\\Documents\\GitHub\\GEMMES\\pygemmes\\_core.py:399\u001b[0m, in \u001b[0;36mHub._set_fields\u001b[1;34m(self, verb, **kwargs)\u001b[0m\n\u001b[0;32m    395\u001b[0m \u001b[39mself\u001b[39m\u001b[39m.\u001b[39m__dparam\u001b[39m=\u001b[39m_class_set\u001b[39m.\u001b[39mset_shapes_values(\u001b[39mself\u001b[39m\u001b[39m.\u001b[39m__dparam,\n\u001b[0;32m    396\u001b[0m                                            \u001b[39mself\u001b[39m\u001b[39m.\u001b[39m__dmisc[\u001b[39m'\u001b[39m\u001b[39mdfunc_order\u001b[39m\u001b[39m'\u001b[39m])\n\u001b[0;32m    397\u001b[0m \u001b[39mself\u001b[39m\u001b[39m.\u001b[39m__dargs\u001b[39m=\u001b[39m_class_set\u001b[39m.\u001b[39mget_dargs_by_reference(\u001b[39mself\u001b[39m\u001b[39m.\u001b[39m__dparam,\n\u001b[0;32m    398\u001b[0m                                                dfunc_order\u001b[39m=\u001b[39m\u001b[39mself\u001b[39m\u001b[39m.\u001b[39m__dmisc[\u001b[39m'\u001b[39m\u001b[39mdfunc_order\u001b[39m\u001b[39m'\u001b[39m])\n\u001b[1;32m--> 399\u001b[0m \u001b[39mself\u001b[39;49m\u001b[39m.\u001b[39;49mreset()\n",
      "File \u001b[1;32m~\\Documents\\GitHub\\GEMMES\\pygemmes\\_core.py:748\u001b[0m, in \u001b[0;36mHub.reset\u001b[1;34m(self)\u001b[0m\n\u001b[0;32m    746\u001b[0m         ERROR\u001b[39m+\u001b[39m\u001b[39m=\u001b[39m\u001b[39mf\u001b[39m\u001b[39m'\u001b[39m\u001b[39mYou have a problem on your object sizes for \u001b[39m\u001b[39m{\u001b[39;00mk0\u001b[39m}\u001b[39;00m\u001b[39m (shape of kwargs:)\u001b[39m\u001b[39m\\n\u001b[39;00m\u001b[39m \u001b[39m\u001b[39m{\u001b[39;00m[(k,np\u001b[39m.\u001b[39mshape(v)) \u001b[39mfor\u001b[39;00m k,v \u001b[39min\u001b[39;00m kwdargs\u001b[39m.\u001b[39mitems()]\u001b[39m}\u001b[39;00m\u001b[39m \u001b[39m\u001b[39m\\n\u001b[39;00m\u001b[39m \u001b[39m\u001b[39m{\u001b[39;00mErr\u001b[39m}\u001b[39;00m\u001b[39m\\n\u001b[39;00m\u001b[39m'\u001b[39m\n\u001b[0;32m    747\u001b[0m \u001b[39mif\u001b[39;00m \u001b[39mlen\u001b[39m(ERROR):\n\u001b[1;32m--> 748\u001b[0m     \u001b[39mraise\u001b[39;00m \u001b[39mException\u001b[39;00m(\u001b[39m'\u001b[39m\u001b[39m\\n\u001b[39;00m\u001b[39m'\u001b[39m\u001b[39m+\u001b[39mERROR\u001b[39m+\u001b[39m\u001b[39m'\u001b[39m\u001b[39mALLOCATION CANNOT BE DONE,CHECK YOUR MODEL FILE !\u001b[39m\u001b[39m'\u001b[39m)\n\u001b[0;32m    750\u001b[0m \u001b[39m# set run to False\u001b[39;00m\n\u001b[0;32m    751\u001b[0m \u001b[39mself\u001b[39m\u001b[39m.\u001b[39m__dmisc[\u001b[39m'\u001b[39m\u001b[39mrun\u001b[39m\u001b[39m'\u001b[39m] \u001b[39m=\u001b[39m \u001b[39mFalse\u001b[39;00m\n",
      "\u001b[1;31mException\u001b[0m: \nYou have a problem on your object sizes for gamma (shape of kwargs:)\n [('p', (1, 1, 3, 1)), ('Gamma', (1, 1, 1, 1))] \n matmul: Input operand 1 has a mismatch in its core dimension 0, with gufunc signature (n?,k),(k,m?)->(n?,m?) (size 3 is different from 1)\nYou have a problem on your object sizes for xi (shape of kwargs:)\n [('p', (1, 1, 3, 1)), ('nu', (1, 1, 3, 1)), ('delta', (1, 1, 1, 1)), ('b', (1, 1, 1, 1)), ('Xi', (1, 1, 1, 1))] \n matmul: Input operand 1 has a mismatch in its core dimension 0, with gufunc signature (n?,k),(k,m?)->(n?,m?) (size 3 is different from 1)\nYou have a problem on your object sizes for ROC (shape of kwargs:)\n [('p', (1, 1, 3, 1)), ('pi', (1, 1, 3, 1)), ('nu', (1, 1, 3, 1)), ('Xi', (1, 1, 1, 1))] \n matmul: Input operand 1 has a mismatch in its core dimension 0, with gufunc signature (n?,k),(k,m?)->(n?,m?) (size 3 is different from 1)\nYou have a problem on your object sizes for Ir (shape of kwargs:)\n [('p', (1, 1, 3, 1)), ('I', (1, 1, 3, 1)), ('Xi', (1, 1, 1, 1))] \n matmul: Input operand 1 has a mismatch in its core dimension 0, with gufunc signature (n?,k),(k,m?)->(n?,m?) (size 3 is different from 1)\nYou have a problem on your object sizes for dotV (shape of kwargs:)\n [('Y', (1, 1, 3, 1)), ('Ir', (1, 1, 3, 1)), ('C', (1, 1, 3, 1)), ('Gamma', (1, 1, 1, 1)), ('Xi', (1, 1, 1, 1))] \n matmul: Input operand 1 has a mismatch in its core dimension 0, with gufunc signature (n?,k),(k,m?)->(n?,m?) (size 3 is different from 1)\nYou have a problem on your object sizes for MtransactI (shape of kwargs:)\n [('p', (1, 1, 3, 1)), ('I', (1, 1, 3, 1)), ('Xi', (1, 1, 1, 1))] \n matmul: Input operand 1 has a mismatch in its core dimension 0, with gufunc signature (n?,k),(k,m?)->(n?,m?) (size 3 is different from 1)\nALLOCATION CANNOT BE DONE,CHECK YOUR MODEL FILE !"
     ]
    }
   ],
   "source": [
    "hub=pgm.Hub('CHIMES')\n",
    "hub.set_preset('SimpleTri')\n",
    "hub.run()"
   ]
  },
  {
   "cell_type": "code",
   "execution_count": null,
   "metadata": {},
   "outputs": [],
   "source": [
    "pgm.get_available_models(details=True)"
   ]
  },
  {
   "cell_type": "code",
   "execution_count": null,
   "metadata": {},
   "outputs": [],
   "source": []
  },
  {
   "cell_type": "code",
   "execution_count": null,
   "metadata": {},
   "outputs": [],
   "source": [
    "hub=pgm.Hub('GK',preset='Fred')\n",
    "hub.set_dparam('Tmax',1000/4)\n",
    "hub.set_dparam('dt',0.1)\n",
    "hub.run()\n",
    "hub.plot()"
   ]
  },
  {
   "cell_type": "code",
   "execution_count": null,
   "metadata": {},
   "outputs": [],
   "source": [
    "hub.get_dataframe(eqtype='statevar')"
   ]
  },
  {
   "cell_type": "code",
   "execution_count": null,
   "metadata": {},
   "outputs": [],
   "source": [
    "a=[pprint(d) for d in hub.get_summary()]"
   ]
  },
  {
   "cell_type": "code",
   "execution_count": null,
   "metadata": {},
   "outputs": [],
   "source": [
    "omega = 0.68\n",
    "employment = 0.92 \n",
    "d = 0.53\n",
    "nu = 4.04271601\n",
    "\n",
    "p = 1\n",
    "K=1\n",
    "Y=K/nu\n",
    "\n",
    "hub.set_dparam(**{'philinConst': -0.55465958,\n",
    "                  'philinSlope': 0.60171221, \n",
    "                  'k0': -0.04619561,\n",
    "                  'k1': 1.04679933,\n",
    "                  'k2': 0,\n",
    "                  'nu': nu,\n",
    "                  'r': 0.01294320,\n",
    "                  'Delta': .30653839,\n",
    "                  'delta': 0.03487562,\n",
    "                  \n",
    "                  'D': d*Y,\n",
    "                  'w': omega,\n",
    "                  'K': 1.,\n",
    "                  'p': 1.,\n",
    "                  'a': 1.,\n",
    "                  'N': Y/employment,\n",
    "                  'eta': 0,\n",
    "                  'mu': 1, })\n",
    "a=[pprint(d) for d in hub.get_summary()]"
   ]
  },
  {
   "cell_type": "code",
   "execution_count": null,
   "metadata": {},
   "outputs": [],
   "source": [
    "pgm.plots.plotbyunits(hub)"
   ]
  },
  {
   "cell_type": "code",
   "execution_count": null,
   "metadata": {},
   "outputs": [],
   "source": [
    "hub.run()"
   ]
  },
  {
   "cell_type": "code",
   "execution_count": null,
   "metadata": {},
   "outputs": [],
   "source": [
    "pgm.plots.plotbyunits(hub)"
   ]
  },
  {
   "cell_type": "code",
   "execution_count": null,
   "metadata": {},
   "outputs": [],
   "source": [
    "pgm.get_available_models()"
   ]
  },
  {
   "cell_type": "code",
   "execution_count": null,
   "metadata": {},
   "outputs": [],
   "source": [
    "hub=pgm.Hub('reduced_GK',preset='Fred')\n",
    "hub.set_dparam('Tmax',1000)\n",
    "hub.run()\n",
    "pgm.plots.plot3D(hub,'employment','omega','d',color='time')\n",
    "pgm.plots.plotbyunits(hub)"
   ]
  },
  {
   "cell_type": "code",
   "execution_count": null,
   "metadata": {},
   "outputs": [],
   "source": [
    "pgm.plots.plotbyunits(hub)"
   ]
  },
  {
   "cell_type": "code",
   "execution_count": null,
   "metadata": {},
   "outputs": [],
   "source": [
    "hub.get_dataframe(eqtype='differential')"
   ]
  },
  {
   "cell_type": "code",
   "execution_count": null,
   "metadata": {},
   "outputs": [],
   "source": [
    "hub.set_dparam(**{'philinConst': -0.55465958,\n",
    "                  'philinSlope': 0.60171221, \n",
    "                  'k0': -0.04619561,\n",
    "                  'k1': 1.04679933,\n",
    "                  'k2': 0,\n",
    "                  'nu': 4.04271601,\n",
    "                  'r': 0.01294320,\n",
    "                  'Delta': .30653839,\n",
    "                  'delta': 0.03487562,\n",
    "                  'd': 0.53,\n",
    "                  'omega': 0.68,\n",
    "                  'employment':0.92,\n",
    "                  'eta': 0,\n",
    "                  'mu': 1, \n",
    "                  'Tmax': 10000/4,\n",
    "                  'dt':0.1   },)"
   ]
  },
  {
   "cell_type": "code",
   "execution_count": null,
   "metadata": {},
   "outputs": [],
   "source": [
    "hub.run()"
   ]
  },
  {
   "cell_type": "code",
   "execution_count": null,
   "metadata": {},
   "outputs": [],
   "source": [
    "pgm.plots.plotbyunits(hub)"
   ]
  },
  {
   "cell_type": "code",
   "execution_count": null,
   "metadata": {},
   "outputs": [],
   "source": [
    "pgm.plots.plot3D(hub,'employment','omega','d',color='time')"
   ]
  },
  {
   "cell_type": "code",
   "execution_count": null,
   "metadata": {},
   "outputs": [],
   "source": [
    "pgm.get_available_plots()"
   ]
  },
  {
   "cell_type": "code",
   "execution_count": null,
   "metadata": {},
   "outputs": [],
   "source": [
    "\n",
    "a=[pprint(d) for d in hub.get_summary()]"
   ]
  },
  {
   "cell_type": "code",
   "execution_count": null,
   "metadata": {},
   "outputs": [],
   "source": [
    "pgm.get_available_models()"
   ]
  },
  {
   "cell_type": "code",
   "execution_count": null,
   "metadata": {},
   "outputs": [],
   "source": []
  },
  {
   "cell_type": "code",
   "execution_count": null,
   "metadata": {},
   "outputs": [],
   "source": [
    "X=np.array([5,3]).astype(float)"
   ]
  },
  {
   "cell_type": "code",
   "execution_count": null,
   "metadata": {},
   "outputs": [],
   "source": [
    "X"
   ]
  },
  {
   "cell_type": "code",
   "execution_count": null,
   "metadata": {},
   "outputs": [],
   "source": []
  }
 ],
 "metadata": {
  "kernelspec": {
   "display_name": "py3.11",
   "language": "python",
   "name": "python3"
  },
  "language_info": {
   "codemirror_mode": {
    "name": "ipython",
    "version": 3
   },
   "file_extension": ".py",
   "mimetype": "text/x-python",
   "name": "python",
   "nbconvert_exporter": "python",
   "pygments_lexer": "ipython3",
   "version": "3.11.0"
  },
  "orig_nbformat": 4,
  "vscode": {
   "interpreter": {
    "hash": "adba334501d02229fd9053440574f5ad76b726cca49f9d96143c39055f64ce1c"
   }
  }
 },
 "nbformat": 4,
 "nbformat_minor": 2
}
