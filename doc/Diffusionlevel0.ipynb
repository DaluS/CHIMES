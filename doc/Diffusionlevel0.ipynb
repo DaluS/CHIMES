{
 "cells": [
  {
   "cell_type": "code",
   "execution_count": 1,
   "id": "668d1681",
   "metadata": {},
   "outputs": [],
   "source": [
    "import numpy as np\n",
    "import matplotlib.pyplot as plt"
   ]
  },
  {
   "cell_type": "code",
   "execution_count": null,
   "id": "bbafaf7e",
   "metadata": {},
   "outputs": [],
   "source": [
    "N=100"
   ]
  },
  {
   "cell_type": "code",
   "execution_count": null,
   "id": "e96805f5",
   "metadata": {},
   "outputs": [],
   "source": [
    "nabla0=np.zeros((N,N))\n",
    "nabla0[np.arange(N-1) ,np.arange(N-1)+1]=1/2\n",
    "nabla0[np.arange(N-1)+1,np.arange(N-1)]=-1/2\n",
    "nabla0[-1,0]=1/2\n",
    "nabla0[0,-1]=-1/2\n",
    "\n",
    "nabla=np.zeros((1,N,N,1))\n",
    "nabla[0,:,:,0]=nabla0\n",
    "\n",
    "plt.imshow(nabla[0,:,:,0])\n",
    "plt.show()"
   ]
  },
  {
   "cell_type": "code",
   "execution_count": null,
   "id": "abb3c64f",
   "metadata": {},
   "outputs": [],
   "source": [
    "x=np.linspace(0,1,N, endpoint=False)\n",
    "C0=np.sin(2*np.pi*x)\n",
    "C=np.zeros((1,N,1,1))\n",
    "C[0,:,0,0]=C0\n",
    "plt.plot(x,C[0,:,0,0])"
   ]
  },
  {
   "cell_type": "code",
   "execution_count": null,
   "id": "c2b8c94f",
   "metadata": {},
   "outputs": [],
   "source": [
    "z0 = np.matmul(nabla0,C0)\n",
    "np.shape(z0)\n",
    "plt.plot(x,z0)\n",
    "plt.show()"
   ]
  },
  {
   "cell_type": "code",
   "execution_count": null,
   "id": "b03c4f23",
   "metadata": {},
   "outputs": [],
   "source": [
    "print(np.shape(nabla))\n",
    "print(np.shape(C))\n",
    "\n",
    "Cswp=np.swapaxes(C,-3,-2)\n",
    "nswp=np.swapaxes(nabla,-3,-1)\n",
    "\n",
    "print(np.shape(Cswp),np.shape(nswp))\n",
    "def Rmatmul(nabla,C):\n",
    "    '''Matrix product but with the axis of Regions rather than multisectoral'''\n",
    "    return matmul(np.swapaxes(nabla, -3, -1),\n",
    "                                  np.swapaxes(C, -3, -2))\n",
    "\n",
    "plt.plot(C[0,:,0,0],c='k')\n",
    "plt.plot(100*nabC[0,:,0,0])\n",
    "\n",
    "\n",
    "#nablaC= np.einsum('ijkl,ijkl->ikl',nabla,C)\n",
    "#nablacc=nablaC[...,np.newaxis]\n",
    "#np.shape(nablacc)\n",
    "#plt.plot(nablacc[0,:,0,0])\n",
    "#zint=np.moveaxis(np.matmul(nabla,np.moveaxis(C,-3,-2)),-2,-3)\n",
    "#plt.plot(x,zint[0,:,0,0])"
   ]
  },
  {
   "cell_type": "code",
   "execution_count": null,
   "id": "79b7756b",
   "metadata": {},
   "outputs": [],
   "source": [
    "def Rmatmul(V,M):\n",
    "    return np.moveaxis(np.matmul(M,np.moveaxis(V,-3,-2)),-2,-3)"
   ]
  },
  {
   "cell_type": "code",
   "execution_count": null,
   "id": "b9001196",
   "metadata": {},
   "outputs": [],
   "source": [
    "\n",
    "nabC = Rmatmul(C,nabla)\n",
    "lapC = Rmatmul(nabC,nabla)\n"
   ]
  },
  {
   "cell_type": "code",
   "execution_count": null,
   "id": "48c06ae3",
   "metadata": {},
   "outputs": [],
   "source": [
    "\n",
    "plt.figure('')\n",
    "plt.plot(x,C[0,:,0,0],label='C')\n",
    "plt.plot(x,nabC[0,:,0,0]*20,label=r'$\\nabla C$')\n",
    "plt.plot(x,lapC[0,:,0,0]*400,label=r'$\\Delta C$')\n",
    "plt.legend()\n",
    "plt.show()\n"
   ]
  },
  {
   "cell_type": "code",
   "execution_count": null,
   "id": "a73e2a14",
   "metadata": {},
   "outputs": [],
   "source": [
    "import sys \n",
    "\n",
    "# Install all dependencies\n",
    "#!{sys.executable} -m pip install numpy scipy matplotlib pyvis \n",
    "\n",
    "# Change path as the folder adress you have put the library in \n",
    "path = \"C:\\\\Users\\\\Paul Valcke\\\\Documents\\\\GitHub\\\\GEMMES\" \n",
    "sys.path.insert(0, path)\n",
    "import pygemmes as pgm"
   ]
  },
  {
   "cell_type": "code",
   "execution_count": null,
   "id": "7b845d28",
   "metadata": {},
   "outputs": [],
   "source": [
    "hub=pgm.Hub('Diffusion',preset='Basic')\n",
    "hub.run()\n",
    "R=hub.get_dparam()\n",
    "C=R['C']['value'][:,0,:,0,0]\n"
   ]
  },
  {
   "cell_type": "code",
   "execution_count": null,
   "id": "3041325d",
   "metadata": {},
   "outputs": [],
   "source": [
    "for i in range(9):\n",
    "    plt.plot(C[100*i,:])\n",
    "plt.show()"
   ]
  },
  {
   "cell_type": "markdown",
   "id": "a2a67008",
   "metadata": {},
   "source": [
    "# LEVEL 1 : 2D diffusion"
   ]
  },
  {
   "cell_type": "code",
   "execution_count": null,
   "id": "bb04987b",
   "metadata": {},
   "outputs": [],
   "source": []
  }
 ],
 "metadata": {
  "kernelspec": {
   "display_name": "Python 3",
   "language": "python",
   "name": "python3"
  },
  "language_info": {
   "codemirror_mode": {
    "name": "ipython",
    "version": 3
   },
   "file_extension": ".py",
   "mimetype": "text/x-python",
   "name": "python",
   "nbconvert_exporter": "python",
   "pygments_lexer": "ipython3",
   "version": "3.8.8"
  }
 },
 "nbformat": 4,
 "nbformat_minor": 5
}
