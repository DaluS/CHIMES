{
 "cells": [
  {
   "cell_type": "markdown",
   "id": "73968347",
   "metadata": {},
   "source": [
    "# Model file creation\n",
    "\n",
    "models are in the folder `_models`\n",
    "for example on my computer : `C:\\Users\\Paul Valcke\\Documents\\GitHub\\GEMMES\\pygemmes\\_models`\n"
   ]
  }
 ],
 "metadata": {
  "kernelspec": {
   "display_name": "Python 3",
   "language": "python",
   "name": "python3"
  },
  "language_info": {
   "codemirror_mode": {
    "name": "ipython",
    "version": 3
   },
   "file_extension": ".py",
   "mimetype": "text/x-python",
   "name": "python",
   "nbconvert_exporter": "python",
   "pygments_lexer": "ipython3",
   "version": "3.8.8"
  }
 },
 "nbformat": 4,
 "nbformat_minor": 5
}
