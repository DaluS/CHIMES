{
 "cells": [
  {
   "cell_type": "code",
   "execution_count": 2,
   "id": "fb54fe10",
   "metadata": {},
   "outputs": [
    {
     "name": "stdout",
     "output_type": "stream",
     "text": [
      "\n",
      "#####################################################################################\n",
      " _______            ______  ________  ____    ____  ____    ____  ________   ______    \n",
      "|_   __ \\         .' ___  ||_   __  ||_   \\  /   _||_   \\  /   _||_   __  |.' ____  \\   \n",
      "  | |__) |_   __ / .'   \\_|  | |_ \\_|  |   \\/   |    |   \\/   |    | |_ \\_|| (___ \\_|  \n",
      "  |  ___/[ \\ [  ]| |   ____  |  _| _   | |\\  /| |    | |\\  /| |    |  _| _  _.____`.   \n",
      " _| |_    \\ '/ / \\ `.___]  |_| |__/ | _| |_\\/_| |_  _| |_\\/_| |_  _| |__/ || \\____) |  \n",
      "|_____| [\\_:  /   `._____.'|________||_____||_____||_____||_____||________| \\______.'  \n",
      "         \\__.'                           \n",
      "#####################################################################################                                                                                                                                   \n",
      "\n",
      "Welcome in Pygemmes, a modular library to prototype and study dynamical systems !\n",
      "This library is oriented toward generation of macroeconomic complexity models \n",
      "You can find the files on https://github.com/DaluS/GEMMES\n",
      "This library has been coded mostly by Didier Vezinet and Paul Valcke,\n",
      "at the environmental justice program https://environmentaljustice.georgetown.edu/#\n",
      "You can contact me at pv229@georgetown.edu \n",
      "If you find bugs, want some new extensions, or help us improve the library, please create a new issue on github\n",
      "If this is the first time you open this library, please look at the tutorial file in doc/tutorial.py and execute it line by line. \n",
      "The ipythonNotebook is at :\n",
      " \tC:\\Users\\Paul Valcke\\Documents\\GitHub\\GEMMES\\pygemmes\\doc\\TUTORIALS\\TUTORIAL.ipynb\n",
      "If you want to customize pygemmes (advancer users) like removing this message, edit :\n",
      " \tC:\\Users\\Paul Valcke\\Documents\\GitHub\\GEMMES\\pygemmes\\_config.py\n",
      "\n",
      "Have fun !\n",
      "######################################################################################################\n",
      "\n"
     ]
    }
   ],
   "source": [
    "import sys \n",
    "\n",
    "# Install all dependencies\n",
    "#!{sys.executable} -m pip install numpy scipy matplotlib pyvis \n",
    "\n",
    "# Change path as the folder adress you have put the library in \n",
    "path = \"C:\\\\Users\\\\Paul Valcke\\\\Documents\\\\GitHub\\\\GEMMES\" \n",
    "sys.path.insert(0, path)\n",
    "import pygemmes as pgm\n",
    "import plotly.graph_objects as go\n",
    "import numpy as np\n",
    "import pandas as pd"
   ]
  },
  {
   "cell_type": "code",
   "execution_count": 5,
   "id": "364479d6",
   "metadata": {},
   "outputs": [
    {
     "name": "stdout",
     "output_type": "stream",
     "text": [
      "time step 467 / 500\n",
      "time step 500 / 500\n"
     ]
    },
    {
     "data": {
      "text/html": [
       "<div>\n",
       "<style scoped>\n",
       "    .dataframe tbody tr th:only-of-type {\n",
       "        vertical-align: middle;\n",
       "    }\n",
       "\n",
       "    .dataframe tbody tr th {\n",
       "        vertical-align: top;\n",
       "    }\n",
       "\n",
       "    .dataframe thead th {\n",
       "        text-align: right;\n",
       "    }\n",
       "</style>\n",
       "<table border=\"1\" class=\"dataframe\">\n",
       "  <thead>\n",
       "    <tr style=\"text-align: center;\">\n",
       "      <th></th>\n",
       "      <th>Folder</th>\n",
       "      <th>Preset</th>\n",
       "    </tr>\n",
       "  </thead>\n",
       "  <tbody>\n",
       "    <tr>\n",
       "      <th>TUTORIAL</th>\n",
       "      <td></td>\n",
       "      <td>[presetname1]</td>\n",
       "    </tr>\n",
       "    <tr>\n",
       "      <th>Climate_3Layers</th>\n",
       "      <td>Components</td>\n",
       "      <td>[default]</td>\n",
       "    </tr>\n",
       "    <tr>\n",
       "      <th>Goodwin</th>\n",
       "      <td>Core</td>\n",
       "      <td>[default, many-orbits]</td>\n",
       "    </tr>\n",
       "    <tr>\n",
       "      <th>GoodwinFull</th>\n",
       "      <td>Core</td>\n",
       "      <td>[default, many-orbits]</td>\n",
       "    </tr>\n",
       "    <tr>\n",
       "      <th>Accessibility</th>\n",
       "      <td>ECHIMES</td>\n",
       "      <td>[3sectors]</td>\n",
       "    </tr>\n",
       "    <tr>\n",
       "      <th>CHIMES0</th>\n",
       "      <td>ECHIMES</td>\n",
       "      <td>[Goodwin, Bisectoral, SimpleBi, SimpleTri, Sim...</td>\n",
       "    </tr>\n",
       "    <tr>\n",
       "      <th>ECHIMES</th>\n",
       "      <td>ECHIMES</td>\n",
       "      <td>[Goodwin, Bisectoral, SimpleBi, SimpleTri, Sim...</td>\n",
       "    </tr>\n",
       "    <tr>\n",
       "      <th>InternationalExchange</th>\n",
       "      <td>ECHIMES</td>\n",
       "      <td>[3by2]</td>\n",
       "    </tr>\n",
       "    <tr>\n",
       "      <th>logisticConsumption</th>\n",
       "      <td>ECHIMES</td>\n",
       "      <td>[]</td>\n",
       "    </tr>\n",
       "    <tr>\n",
       "      <th>MultisectoralAggregates</th>\n",
       "      <td>ECHIMES</td>\n",
       "      <td>[]</td>\n",
       "    </tr>\n",
       "    <tr>\n",
       "      <th>GK</th>\n",
       "      <td>Extended</td>\n",
       "      <td>[default, farfromEQ, crisis]</td>\n",
       "    </tr>\n",
       "    <tr>\n",
       "      <th>GK_Endo</th>\n",
       "      <td>Extended</td>\n",
       "      <td>[default, farfromEQ, crisis]</td>\n",
       "    </tr>\n",
       "    <tr>\n",
       "      <th>Goodwin-PiInPhi</th>\n",
       "      <td>Extended</td>\n",
       "      <td>[zpi]</td>\n",
       "    </tr>\n",
       "    <tr>\n",
       "      <th>Goodwin_CES</th>\n",
       "      <td>Extended</td>\n",
       "      <td>[CES]</td>\n",
       "    </tr>\n",
       "    <tr>\n",
       "      <th>GEMMES_Coping2018</th>\n",
       "      <td>GEMMES</td>\n",
       "      <td>[BAU, BAU_DAM, TRANSITION]</td>\n",
       "    </tr>\n",
       "    <tr>\n",
       "      <th>Inflation</th>\n",
       "      <td>Inflation</td>\n",
       "      <td>[Monosectoral, Bisectoral, Manysectors]</td>\n",
       "    </tr>\n",
       "    <tr>\n",
       "      <th>Markup</th>\n",
       "      <td>Inflation</td>\n",
       "      <td>[Monosectoral, Bisectoral, Manysectors]</td>\n",
       "    </tr>\n",
       "    <tr>\n",
       "      <th>stochastic</th>\n",
       "      <td>Miscellaneous</td>\n",
       "      <td>[Onevar, 10]</td>\n",
       "    </tr>\n",
       "    <tr>\n",
       "      <th>__EMPTY__</th>\n",
       "      <td>Miscellaneous</td>\n",
       "      <td>[preset0]</td>\n",
       "    </tr>\n",
       "    <tr>\n",
       "      <th>Agents</th>\n",
       "      <td>Miscellaneous\\Agents</td>\n",
       "      <td>[default]</td>\n",
       "    </tr>\n",
       "    <tr>\n",
       "      <th>Agents_Vicsek</th>\n",
       "      <td>Miscellaneous\\Agents</td>\n",
       "      <td>[default]</td>\n",
       "    </tr>\n",
       "    <tr>\n",
       "      <th>LorenzSystem</th>\n",
       "      <td>Miscellaneous\\Attractors</td>\n",
       "      <td>[Canonical example]</td>\n",
       "    </tr>\n",
       "    <tr>\n",
       "      <th>reduced_G</th>\n",
       "      <td>ReducedSystem</td>\n",
       "      <td>[]</td>\n",
       "    </tr>\n",
       "    <tr>\n",
       "      <th>reduced_GK</th>\n",
       "      <td>ReducedSystem</td>\n",
       "      <td>[default]</td>\n",
       "    </tr>\n",
       "    <tr>\n",
       "      <th>reduced_GKCES</th>\n",
       "      <td>ReducedSystem</td>\n",
       "      <td>[default]</td>\n",
       "    </tr>\n",
       "    <tr>\n",
       "      <th>reduced_G_KVL</th>\n",
       "      <td>ReducedSystem</td>\n",
       "      <td>[GoodwinLike, GoodwinKV, GoodwinL, Both]</td>\n",
       "    </tr>\n",
       "    <tr>\n",
       "      <th>reduced_G_stochastic</th>\n",
       "      <td>ReducedSystem</td>\n",
       "      <td>[]</td>\n",
       "    </tr>\n",
       "    <tr>\n",
       "      <th>PDE-Diffusion</th>\n",
       "      <td>Spatial</td>\n",
       "      <td>[Basic]</td>\n",
       "    </tr>\n",
       "    <tr>\n",
       "      <th>PDE-Diffusion2D</th>\n",
       "      <td>Spatial</td>\n",
       "      <td>[Basic]</td>\n",
       "    </tr>\n",
       "    <tr>\n",
       "      <th>PDE-Waves</th>\n",
       "      <td>Spatial</td>\n",
       "      <td>[Basic]</td>\n",
       "    </tr>\n",
       "  </tbody>\n",
       "</table>\n",
       "</div>"
      ],
      "text/plain": [
       "                                  Folder                                Preset                      \n",
       "TUTORIAL                                                                               [presetname1]\n",
       "Climate_3Layers                        Components                                          [default]\n",
       "Goodwin                                      Core                             [default, many-orbits]\n",
       "GoodwinFull                                  Core                             [default, many-orbits]\n",
       "Accessibility                             ECHIMES                                         [3sectors]\n",
       "CHIMES0                                   ECHIMES  [Goodwin, Bisectoral, SimpleBi, SimpleTri, Sim...\n",
       "ECHIMES                                   ECHIMES  [Goodwin, Bisectoral, SimpleBi, SimpleTri, Sim...\n",
       "InternationalExchange                     ECHIMES                                             [3by2]\n",
       "logisticConsumption                       ECHIMES                                                 []\n",
       "MultisectoralAggregates                   ECHIMES                                                 []\n",
       "GK                                       Extended                       [default, farfromEQ, crisis]\n",
       "GK_Endo                                  Extended                       [default, farfromEQ, crisis]\n",
       "Goodwin-PiInPhi                          Extended                                              [zpi]\n",
       "Goodwin_CES                              Extended                                              [CES]\n",
       "GEMMES_Coping2018                          GEMMES                         [BAU, BAU_DAM, TRANSITION]\n",
       "Inflation                               Inflation            [Monosectoral, Bisectoral, Manysectors]\n",
       "Markup                                  Inflation            [Monosectoral, Bisectoral, Manysectors]\n",
       "stochastic                          Miscellaneous                                       [Onevar, 10]\n",
       "__EMPTY__                           Miscellaneous                                          [preset0]\n",
       "Agents                       Miscellaneous\\Agents                                          [default]\n",
       "Agents_Vicsek                Miscellaneous\\Agents                                          [default]\n",
       "LorenzSystem             Miscellaneous\\Attractors                                [Canonical example]\n",
       "reduced_G                           ReducedSystem                                                 []\n",
       "reduced_GK                          ReducedSystem                                          [default]\n",
       "reduced_GKCES                       ReducedSystem                                          [default]\n",
       "reduced_G_KVL                       ReducedSystem           [GoodwinLike, GoodwinKV, GoodwinL, Both]\n",
       "reduced_G_stochastic                ReducedSystem                                                 []\n",
       "PDE-Diffusion                             Spatial                                            [Basic]\n",
       "PDE-Diffusion2D                           Spatial                                            [Basic]\n",
       "PDE-Waves                                 Spatial                                            [Basic]"
      ]
     },
     "execution_count": 5,
     "metadata": {},
     "output_type": "execute_result"
    }
   ],
   "source": [
    "\n",
    "hub=pgm.Hub('ECHIMES',preset='SimpleTri',verb=False)\n",
    "hub.run()\n",
    "pgm.get_available_models()"
   ]
  },
  {
   "cell_type": "code",
   "execution_count": null,
   "id": "ef6aad2e",
   "metadata": {},
   "outputs": [],
   "source": [
    "#hub.plot(filters_key=['pi'])"
   ]
  },
  {
   "cell_type": "code",
   "execution_count": 47,
   "id": "2cddd45c",
   "metadata": {},
   "outputs": [
    {
     "data": {
      "application/vnd.plotly.v1+json": {
       "config": {
        "plotlyServerURL": "https://plot.ly"
       },
       "data": [
        {
         "link": {
          "color": [
           "rgba(255,0,255, 0.8)",
           "rgba(255,0,255, 0.8)",
           "rgba(255,0,255, 0.8)",
           "rgba(255,0,255, 0.8)",
           "rgba(255,0,255, 0.8)",
           "rgba(255,0,255, 0.8)",
           "rgba(255,0,255, 0.8)",
           "rgba(255,0,255, 0.8)",
           "rgba(255,0,255, 0.8)",
           "rgba(0,255,255, 0.8)",
           "rgba(0,255,255, 0.8)",
           "rgba(0,255,255, 0.8)",
           "rgba(0,255,255, 0.8)",
           "rgba(0,255,255, 0.8)",
           "rgba(0,255,255, 0.8)",
           "rgba(0,255,255, 0.8)",
           "rgba(0,255,255, 0.8)",
           "rgba(0,255,255, 0.8)",
           "rgba(0,255,255, 0.8)",
           "rgba(255,255,0, 0.8)",
           "rgba(127,255,127, 0.8)"
          ],
          "source": [
           0,
           0,
           0,
           1,
           1,
           1,
           2,
           2,
           2,
           0,
           0,
           0,
           1,
           1,
           1,
           2,
           2,
           2,
           0,
           1,
           2
          ],
          "target": [
           0,
           1,
           2,
           0,
           1,
           2,
           0,
           1,
           2,
           0,
           1,
           2,
           0,
           1,
           2,
           0,
           1,
           2,
           3,
           3,
           3
          ],
          "value": [
           0,
           0,
           0,
           0,
           0,
           0,
           0.10500000000000001,
           0.02,
           0.02,
           0,
           0,
           0,
           0.07,
           0.013333333333333334,
           0.013333333333333334,
           0,
           0,
           0,
           0.725,
           0,
           0
          ]
         },
         "node": {
          "label": [
           "Consumption",
           "Intermediate",
           "Capital",
           "Household"
          ],
          "pad": 50,
          "thickness": 5
         },
         "type": "sankey"
        }
       ],
       "layout": {
        "font": {
         "color": "white",
         "size": 10
        },
        "hovermode": "x",
        "paper_bgcolor": "#5B5958",
        "template": {
         "data": {
          "bar": [
           {
            "error_x": {
             "color": "#2a3f5f"
            },
            "error_y": {
             "color": "#2a3f5f"
            },
            "marker": {
             "line": {
              "color": "#E5ECF6",
              "width": 0.5
             },
             "pattern": {
              "fillmode": "overlay",
              "size": 10,
              "solidity": 0.2
             }
            },
            "type": "bar"
           }
          ],
          "barpolar": [
           {
            "marker": {
             "line": {
              "color": "#E5ECF6",
              "width": 0.5
             },
             "pattern": {
              "fillmode": "overlay",
              "size": 10,
              "solidity": 0.2
             }
            },
            "type": "barpolar"
           }
          ],
          "carpet": [
           {
            "aaxis": {
             "endlinecolor": "#2a3f5f",
             "gridcolor": "white",
             "linecolor": "white",
             "minorgridcolor": "white",
             "startlinecolor": "#2a3f5f"
            },
            "baxis": {
             "endlinecolor": "#2a3f5f",
             "gridcolor": "white",
             "linecolor": "white",
             "minorgridcolor": "white",
             "startlinecolor": "#2a3f5f"
            },
            "type": "carpet"
           }
          ],
          "choropleth": [
           {
            "colorbar": {
             "outlinewidth": 0,
             "ticks": ""
            },
            "type": "choropleth"
           }
          ],
          "contour": [
           {
            "colorbar": {
             "outlinewidth": 0,
             "ticks": ""
            },
            "colorscale": [
             [
              0,
              "#0d0887"
             ],
             [
              0.1111111111111111,
              "#46039f"
             ],
             [
              0.2222222222222222,
              "#7201a8"
             ],
             [
              0.3333333333333333,
              "#9c179e"
             ],
             [
              0.4444444444444444,
              "#bd3786"
             ],
             [
              0.5555555555555556,
              "#d8576b"
             ],
             [
              0.6666666666666666,
              "#ed7953"
             ],
             [
              0.7777777777777778,
              "#fb9f3a"
             ],
             [
              0.8888888888888888,
              "#fdca26"
             ],
             [
              1,
              "#f0f921"
             ]
            ],
            "type": "contour"
           }
          ],
          "contourcarpet": [
           {
            "colorbar": {
             "outlinewidth": 0,
             "ticks": ""
            },
            "type": "contourcarpet"
           }
          ],
          "heatmap": [
           {
            "colorbar": {
             "outlinewidth": 0,
             "ticks": ""
            },
            "colorscale": [
             [
              0,
              "#0d0887"
             ],
             [
              0.1111111111111111,
              "#46039f"
             ],
             [
              0.2222222222222222,
              "#7201a8"
             ],
             [
              0.3333333333333333,
              "#9c179e"
             ],
             [
              0.4444444444444444,
              "#bd3786"
             ],
             [
              0.5555555555555556,
              "#d8576b"
             ],
             [
              0.6666666666666666,
              "#ed7953"
             ],
             [
              0.7777777777777778,
              "#fb9f3a"
             ],
             [
              0.8888888888888888,
              "#fdca26"
             ],
             [
              1,
              "#f0f921"
             ]
            ],
            "type": "heatmap"
           }
          ],
          "heatmapgl": [
           {
            "colorbar": {
             "outlinewidth": 0,
             "ticks": ""
            },
            "colorscale": [
             [
              0,
              "#0d0887"
             ],
             [
              0.1111111111111111,
              "#46039f"
             ],
             [
              0.2222222222222222,
              "#7201a8"
             ],
             [
              0.3333333333333333,
              "#9c179e"
             ],
             [
              0.4444444444444444,
              "#bd3786"
             ],
             [
              0.5555555555555556,
              "#d8576b"
             ],
             [
              0.6666666666666666,
              "#ed7953"
             ],
             [
              0.7777777777777778,
              "#fb9f3a"
             ],
             [
              0.8888888888888888,
              "#fdca26"
             ],
             [
              1,
              "#f0f921"
             ]
            ],
            "type": "heatmapgl"
           }
          ],
          "histogram": [
           {
            "marker": {
             "pattern": {
              "fillmode": "overlay",
              "size": 10,
              "solidity": 0.2
             }
            },
            "type": "histogram"
           }
          ],
          "histogram2d": [
           {
            "colorbar": {
             "outlinewidth": 0,
             "ticks": ""
            },
            "colorscale": [
             [
              0,
              "#0d0887"
             ],
             [
              0.1111111111111111,
              "#46039f"
             ],
             [
              0.2222222222222222,
              "#7201a8"
             ],
             [
              0.3333333333333333,
              "#9c179e"
             ],
             [
              0.4444444444444444,
              "#bd3786"
             ],
             [
              0.5555555555555556,
              "#d8576b"
             ],
             [
              0.6666666666666666,
              "#ed7953"
             ],
             [
              0.7777777777777778,
              "#fb9f3a"
             ],
             [
              0.8888888888888888,
              "#fdca26"
             ],
             [
              1,
              "#f0f921"
             ]
            ],
            "type": "histogram2d"
           }
          ],
          "histogram2dcontour": [
           {
            "colorbar": {
             "outlinewidth": 0,
             "ticks": ""
            },
            "colorscale": [
             [
              0,
              "#0d0887"
             ],
             [
              0.1111111111111111,
              "#46039f"
             ],
             [
              0.2222222222222222,
              "#7201a8"
             ],
             [
              0.3333333333333333,
              "#9c179e"
             ],
             [
              0.4444444444444444,
              "#bd3786"
             ],
             [
              0.5555555555555556,
              "#d8576b"
             ],
             [
              0.6666666666666666,
              "#ed7953"
             ],
             [
              0.7777777777777778,
              "#fb9f3a"
             ],
             [
              0.8888888888888888,
              "#fdca26"
             ],
             [
              1,
              "#f0f921"
             ]
            ],
            "type": "histogram2dcontour"
           }
          ],
          "mesh3d": [
           {
            "colorbar": {
             "outlinewidth": 0,
             "ticks": ""
            },
            "type": "mesh3d"
           }
          ],
          "parcoords": [
           {
            "line": {
             "colorbar": {
              "outlinewidth": 0,
              "ticks": ""
             }
            },
            "type": "parcoords"
           }
          ],
          "pie": [
           {
            "automargin": true,
            "type": "pie"
           }
          ],
          "scatter": [
           {
            "fillpattern": {
             "fillmode": "overlay",
             "size": 10,
             "solidity": 0.2
            },
            "type": "scatter"
           }
          ],
          "scatter3d": [
           {
            "line": {
             "colorbar": {
              "outlinewidth": 0,
              "ticks": ""
             }
            },
            "marker": {
             "colorbar": {
              "outlinewidth": 0,
              "ticks": ""
             }
            },
            "type": "scatter3d"
           }
          ],
          "scattercarpet": [
           {
            "marker": {
             "colorbar": {
              "outlinewidth": 0,
              "ticks": ""
             }
            },
            "type": "scattercarpet"
           }
          ],
          "scattergeo": [
           {
            "marker": {
             "colorbar": {
              "outlinewidth": 0,
              "ticks": ""
             }
            },
            "type": "scattergeo"
           }
          ],
          "scattergl": [
           {
            "marker": {
             "colorbar": {
              "outlinewidth": 0,
              "ticks": ""
             }
            },
            "type": "scattergl"
           }
          ],
          "scattermapbox": [
           {
            "marker": {
             "colorbar": {
              "outlinewidth": 0,
              "ticks": ""
             }
            },
            "type": "scattermapbox"
           }
          ],
          "scatterpolar": [
           {
            "marker": {
             "colorbar": {
              "outlinewidth": 0,
              "ticks": ""
             }
            },
            "type": "scatterpolar"
           }
          ],
          "scatterpolargl": [
           {
            "marker": {
             "colorbar": {
              "outlinewidth": 0,
              "ticks": ""
             }
            },
            "type": "scatterpolargl"
           }
          ],
          "scatterternary": [
           {
            "marker": {
             "colorbar": {
              "outlinewidth": 0,
              "ticks": ""
             }
            },
            "type": "scatterternary"
           }
          ],
          "surface": [
           {
            "colorbar": {
             "outlinewidth": 0,
             "ticks": ""
            },
            "colorscale": [
             [
              0,
              "#0d0887"
             ],
             [
              0.1111111111111111,
              "#46039f"
             ],
             [
              0.2222222222222222,
              "#7201a8"
             ],
             [
              0.3333333333333333,
              "#9c179e"
             ],
             [
              0.4444444444444444,
              "#bd3786"
             ],
             [
              0.5555555555555556,
              "#d8576b"
             ],
             [
              0.6666666666666666,
              "#ed7953"
             ],
             [
              0.7777777777777778,
              "#fb9f3a"
             ],
             [
              0.8888888888888888,
              "#fdca26"
             ],
             [
              1,
              "#f0f921"
             ]
            ],
            "type": "surface"
           }
          ],
          "table": [
           {
            "cells": {
             "fill": {
              "color": "#EBF0F8"
             },
             "line": {
              "color": "white"
             }
            },
            "header": {
             "fill": {
              "color": "#C8D4E3"
             },
             "line": {
              "color": "white"
             }
            },
            "type": "table"
           }
          ]
         },
         "layout": {
          "annotationdefaults": {
           "arrowcolor": "#2a3f5f",
           "arrowhead": 0,
           "arrowwidth": 1
          },
          "autotypenumbers": "strict",
          "coloraxis": {
           "colorbar": {
            "outlinewidth": 0,
            "ticks": ""
           }
          },
          "colorscale": {
           "diverging": [
            [
             0,
             "#8e0152"
            ],
            [
             0.1,
             "#c51b7d"
            ],
            [
             0.2,
             "#de77ae"
            ],
            [
             0.3,
             "#f1b6da"
            ],
            [
             0.4,
             "#fde0ef"
            ],
            [
             0.5,
             "#f7f7f7"
            ],
            [
             0.6,
             "#e6f5d0"
            ],
            [
             0.7,
             "#b8e186"
            ],
            [
             0.8,
             "#7fbc41"
            ],
            [
             0.9,
             "#4d9221"
            ],
            [
             1,
             "#276419"
            ]
           ],
           "sequential": [
            [
             0,
             "#0d0887"
            ],
            [
             0.1111111111111111,
             "#46039f"
            ],
            [
             0.2222222222222222,
             "#7201a8"
            ],
            [
             0.3333333333333333,
             "#9c179e"
            ],
            [
             0.4444444444444444,
             "#bd3786"
            ],
            [
             0.5555555555555556,
             "#d8576b"
            ],
            [
             0.6666666666666666,
             "#ed7953"
            ],
            [
             0.7777777777777778,
             "#fb9f3a"
            ],
            [
             0.8888888888888888,
             "#fdca26"
            ],
            [
             1,
             "#f0f921"
            ]
           ],
           "sequentialminus": [
            [
             0,
             "#0d0887"
            ],
            [
             0.1111111111111111,
             "#46039f"
            ],
            [
             0.2222222222222222,
             "#7201a8"
            ],
            [
             0.3333333333333333,
             "#9c179e"
            ],
            [
             0.4444444444444444,
             "#bd3786"
            ],
            [
             0.5555555555555556,
             "#d8576b"
            ],
            [
             0.6666666666666666,
             "#ed7953"
            ],
            [
             0.7777777777777778,
             "#fb9f3a"
            ],
            [
             0.8888888888888888,
             "#fdca26"
            ],
            [
             1,
             "#f0f921"
            ]
           ]
          },
          "colorway": [
           "#636efa",
           "#EF553B",
           "#00cc96",
           "#ab63fa",
           "#FFA15A",
           "#19d3f3",
           "#FF6692",
           "#B6E880",
           "#FF97FF",
           "#FECB52"
          ],
          "font": {
           "color": "#2a3f5f"
          },
          "geo": {
           "bgcolor": "white",
           "lakecolor": "white",
           "landcolor": "#E5ECF6",
           "showlakes": true,
           "showland": true,
           "subunitcolor": "white"
          },
          "hoverlabel": {
           "align": "left"
          },
          "hovermode": "closest",
          "mapbox": {
           "style": "light"
          },
          "paper_bgcolor": "white",
          "plot_bgcolor": "#E5ECF6",
          "polar": {
           "angularaxis": {
            "gridcolor": "white",
            "linecolor": "white",
            "ticks": ""
           },
           "bgcolor": "#E5ECF6",
           "radialaxis": {
            "gridcolor": "white",
            "linecolor": "white",
            "ticks": ""
           }
          },
          "scene": {
           "xaxis": {
            "backgroundcolor": "#E5ECF6",
            "gridcolor": "white",
            "gridwidth": 2,
            "linecolor": "white",
            "showbackground": true,
            "ticks": "",
            "zerolinecolor": "white"
           },
           "yaxis": {
            "backgroundcolor": "#E5ECF6",
            "gridcolor": "white",
            "gridwidth": 2,
            "linecolor": "white",
            "showbackground": true,
            "ticks": "",
            "zerolinecolor": "white"
           },
           "zaxis": {
            "backgroundcolor": "#E5ECF6",
            "gridcolor": "white",
            "gridwidth": 2,
            "linecolor": "white",
            "showbackground": true,
            "ticks": "",
            "zerolinecolor": "white"
           }
          },
          "shapedefaults": {
           "line": {
            "color": "#2a3f5f"
           }
          },
          "ternary": {
           "aaxis": {
            "gridcolor": "white",
            "linecolor": "white",
            "ticks": ""
           },
           "baxis": {
            "gridcolor": "white",
            "linecolor": "white",
            "ticks": ""
           },
           "bgcolor": "#E5ECF6",
           "caxis": {
            "gridcolor": "white",
            "linecolor": "white",
            "ticks": ""
           }
          },
          "title": {
           "x": 0.05
          },
          "xaxis": {
           "automargin": true,
           "gridcolor": "white",
           "linecolor": "white",
           "ticks": "",
           "title": {
            "standoff": 15
           },
           "zerolinecolor": "white",
           "zerolinewidth": 2
          },
          "yaxis": {
           "automargin": true,
           "gridcolor": "white",
           "linecolor": "white",
           "ticks": "",
           "title": {
            "standoff": 15
           },
           "zerolinecolor": "white",
           "zerolinewidth": 2
          }
         }
        },
        "title": {
         "text": "Physical exchanges between sectors, t=0.00"
        }
       }
      }
     },
     "metadata": {},
     "output_type": "display_data"
    }
   ],
   "source": [
    "\n",
    "listX=['Minvest','Minter']\n",
    "nx=0\n",
    "region=0\n",
    "ntindex=0\n",
    "R=hub.get_dparam()\n",
    "\n",
    "c = [ 'rgba(255,0,255, 0.8)' , 'rgba(0,255,255, 0.8)' , 'rgba(255,255,0, 0.8)','rgba(127,255,127, 0.8)' ]\n",
    "\n",
    "### INITIAL LISTS TO FILL\n",
    "source=[] # Where the flux starts\n",
    "target=[] # Where the flux ends\n",
    "value =[] # Flux intensity\n",
    "types =[]\n",
    "colors=[]\n",
    "label =[] \n",
    "\n",
    "### MATRICES\n",
    "for ii,X in enumerate(listX):\n",
    "    d0=R[X]\n",
    "    values = d0['value'][ntindex,nx,region,:,:].reshape(-1)\n",
    "    names = R[d0['size'][0]]['list']\n",
    "    sectintdex=np.arange(len(names))\n",
    "\n",
    "    XX,YY=np.meshgrid(sectintdex+1,sectintdex+1)\n",
    "    XX=XX.astype(int).reshape(-1)-1\n",
    "    YY=YY.astype(int).reshape(-1)-1\n",
    "    Ntot=len(XX)\n",
    "    \n",
    "    source.extend(YY)\n",
    "    target.extend(XX)\n",
    "    types.extend([X for i in range(len(XX))])\n",
    "    value.extend(values)\n",
    "    colors.extend([c[ii] for j in range(len(XX))])\n",
    "    label = names\n",
    "\n",
    "\n",
    "### ADDING VECTORS\n",
    "Vecid = 'C'\n",
    "stype = 'Consumption'\n",
    "slabel = 'Household'\n",
    "V=R[Vecid]['value'][ntindex,nx,region,:,0]        # Values we add \n",
    "#if slabel not in label:\n",
    "label.append(slabel)\n",
    "target.extend([np.amax(target+source)+1]*len(V))\n",
    "source.extend(np.arange(0,len(V)))\n",
    "value.extend(V)\n",
    "types.extend([stype for i in range(len(V))])\n",
    "colors.extend([c[ii+1] for ii in range(len(V))])\n",
    "\n",
    "tempdict={          #'label':label,\n",
    "                   'target':target,\n",
    "                   'source':source,\n",
    "                   'value':value,\n",
    "                   'types':types,\n",
    "                   'colors':colors}\n",
    "df = pd.DataFrame(tempdict)\n",
    "\n",
    "\n",
    "link = dict(source = np.array(source).reshape(-1), \n",
    "                             target = np.array(target).reshape(-1), \n",
    "                             value = np.array(value).reshape(-1),\n",
    "                             color=colors)\n",
    "node = dict(  label = label,\n",
    "                             pad=50, \n",
    "                             thickness=5)\n",
    "data = go.Sankey(link = link , \n",
    "                 node= node)\n",
    "# plot\n",
    "fig = go.Figure(data)\n",
    "fig.update_layout(\n",
    "    hovermode = 'x',\n",
    "    title=f\"Physical exchanges between sectors, t={R['time']['value'][ntindex,0,0,0,0]:.2f}\",\n",
    "    font=dict(size = 10, color = 'white'),\n",
    "    paper_bgcolor='#5B5958'\n",
    ")\n",
    "fig.show()"
   ]
  },
  {
   "cell_type": "code",
   "execution_count": 45,
   "id": "bb3ac5dd",
   "metadata": {},
   "outputs": [
    {
     "name": "stdout",
     "output_type": "stream",
     "text": [
      "Household ['Consumption', 'Intermediate', 'Capital', 'Household', 'Banks']\n"
     ]
    },
    {
     "data": {
      "application/vnd.plotly.v1+json": {
       "config": {
        "plotlyServerURL": "https://plot.ly"
       },
       "data": [
        {
         "link": {
          "color": [
           "rgba(255,  0,255, 0.8)",
           "rgba(255,  0,255, 0.8)",
           "rgba(255,  0,255, 0.8)",
           "rgba(255,  0,255, 0.8)",
           "rgba(255,  0,255, 0.8)",
           "rgba(255,  0,255, 0.8)",
           "rgba(255,  0,255, 0.8)",
           "rgba(255,  0,255, 0.8)",
           "rgba(255,  0,255, 0.8)",
           "rgba(  0,255,255, 0.8)",
           "rgba(  0,255,255, 0.8)",
           "rgba(  0,255,255, 0.8)",
           "rgba(  0,255,255, 0.8)",
           "rgba(  0,255,255, 0.8)",
           "rgba(  0,255,255, 0.8)",
           "rgba(  0,255,255, 0.8)",
           "rgba(  0,255,255, 0.8)",
           "rgba(  0,255,255, 0.8)",
           "rgba(255,255,  0, 0.8)",
           "rgba(255,255,  0, 0.8)",
           "rgba(255,255,  0, 0.8)",
           "rgba(127,255,127, 0.8)",
           "rgba(127,255,127, 0.8)",
           "rgba(127,255,127, 0.8)",
           "rgba(0,0,0, 0.8)",
           "rgba(0,0,0, 0.8)",
           "rgba(0,0,0, 0.8)",
           "rgba(0,0,0, 0.8)"
          ],
          "source": [
           0,
           0,
           0,
           1,
           1,
           1,
           2,
           2,
           2,
           0,
           0,
           0,
           1,
           1,
           1,
           2,
           2,
           2,
           3,
           3,
           3,
           0,
           1,
           2,
           0,
           1,
           4,
           3
          ],
          "target": [
           0,
           1,
           2,
           0,
           1,
           2,
           0,
           1,
           2,
           0,
           1,
           2,
           0,
           1,
           2,
           0,
           1,
           2,
           0,
           1,
           2,
           3,
           3,
           3,
           4,
           4,
           2,
           4
          ],
          "value": [
           0,
           0,
           2.049499639126458,
           0,
           0,
           0.4008955104073284,
           0,
           0,
           1.6253754114609487,
           0,
           0.6423955054382537,
           0,
           0,
           0.11369099305570068,
           0,
           0,
           0.39478171768655473,
           0,
           6.2384309252330015,
           0,
           0,
           3.4821884304502504,
           0.6162768221656144,
           2.1399656726171363,
           0.03784896848290031,
           0.006046604928363446,
           0.043895573411263704,
           5.995204332975847e-18
          ]
         },
         "node": {
          "label": [
           "Consumption",
           "Intermediate",
           "Capital",
           "Household",
           "Banks"
          ],
          "pad": 50,
          "thickness": 5
         },
         "type": "sankey"
        }
       ],
       "layout": {
        "font": {
         "color": "white",
         "size": 10
        },
        "hovermode": "x",
        "paper_bgcolor": "#5B5958",
        "template": {
         "data": {
          "bar": [
           {
            "error_x": {
             "color": "#2a3f5f"
            },
            "error_y": {
             "color": "#2a3f5f"
            },
            "marker": {
             "line": {
              "color": "#E5ECF6",
              "width": 0.5
             },
             "pattern": {
              "fillmode": "overlay",
              "size": 10,
              "solidity": 0.2
             }
            },
            "type": "bar"
           }
          ],
          "barpolar": [
           {
            "marker": {
             "line": {
              "color": "#E5ECF6",
              "width": 0.5
             },
             "pattern": {
              "fillmode": "overlay",
              "size": 10,
              "solidity": 0.2
             }
            },
            "type": "barpolar"
           }
          ],
          "carpet": [
           {
            "aaxis": {
             "endlinecolor": "#2a3f5f",
             "gridcolor": "white",
             "linecolor": "white",
             "minorgridcolor": "white",
             "startlinecolor": "#2a3f5f"
            },
            "baxis": {
             "endlinecolor": "#2a3f5f",
             "gridcolor": "white",
             "linecolor": "white",
             "minorgridcolor": "white",
             "startlinecolor": "#2a3f5f"
            },
            "type": "carpet"
           }
          ],
          "choropleth": [
           {
            "colorbar": {
             "outlinewidth": 0,
             "ticks": ""
            },
            "type": "choropleth"
           }
          ],
          "contour": [
           {
            "colorbar": {
             "outlinewidth": 0,
             "ticks": ""
            },
            "colorscale": [
             [
              0,
              "#0d0887"
             ],
             [
              0.1111111111111111,
              "#46039f"
             ],
             [
              0.2222222222222222,
              "#7201a8"
             ],
             [
              0.3333333333333333,
              "#9c179e"
             ],
             [
              0.4444444444444444,
              "#bd3786"
             ],
             [
              0.5555555555555556,
              "#d8576b"
             ],
             [
              0.6666666666666666,
              "#ed7953"
             ],
             [
              0.7777777777777778,
              "#fb9f3a"
             ],
             [
              0.8888888888888888,
              "#fdca26"
             ],
             [
              1,
              "#f0f921"
             ]
            ],
            "type": "contour"
           }
          ],
          "contourcarpet": [
           {
            "colorbar": {
             "outlinewidth": 0,
             "ticks": ""
            },
            "type": "contourcarpet"
           }
          ],
          "heatmap": [
           {
            "colorbar": {
             "outlinewidth": 0,
             "ticks": ""
            },
            "colorscale": [
             [
              0,
              "#0d0887"
             ],
             [
              0.1111111111111111,
              "#46039f"
             ],
             [
              0.2222222222222222,
              "#7201a8"
             ],
             [
              0.3333333333333333,
              "#9c179e"
             ],
             [
              0.4444444444444444,
              "#bd3786"
             ],
             [
              0.5555555555555556,
              "#d8576b"
             ],
             [
              0.6666666666666666,
              "#ed7953"
             ],
             [
              0.7777777777777778,
              "#fb9f3a"
             ],
             [
              0.8888888888888888,
              "#fdca26"
             ],
             [
              1,
              "#f0f921"
             ]
            ],
            "type": "heatmap"
           }
          ],
          "heatmapgl": [
           {
            "colorbar": {
             "outlinewidth": 0,
             "ticks": ""
            },
            "colorscale": [
             [
              0,
              "#0d0887"
             ],
             [
              0.1111111111111111,
              "#46039f"
             ],
             [
              0.2222222222222222,
              "#7201a8"
             ],
             [
              0.3333333333333333,
              "#9c179e"
             ],
             [
              0.4444444444444444,
              "#bd3786"
             ],
             [
              0.5555555555555556,
              "#d8576b"
             ],
             [
              0.6666666666666666,
              "#ed7953"
             ],
             [
              0.7777777777777778,
              "#fb9f3a"
             ],
             [
              0.8888888888888888,
              "#fdca26"
             ],
             [
              1,
              "#f0f921"
             ]
            ],
            "type": "heatmapgl"
           }
          ],
          "histogram": [
           {
            "marker": {
             "pattern": {
              "fillmode": "overlay",
              "size": 10,
              "solidity": 0.2
             }
            },
            "type": "histogram"
           }
          ],
          "histogram2d": [
           {
            "colorbar": {
             "outlinewidth": 0,
             "ticks": ""
            },
            "colorscale": [
             [
              0,
              "#0d0887"
             ],
             [
              0.1111111111111111,
              "#46039f"
             ],
             [
              0.2222222222222222,
              "#7201a8"
             ],
             [
              0.3333333333333333,
              "#9c179e"
             ],
             [
              0.4444444444444444,
              "#bd3786"
             ],
             [
              0.5555555555555556,
              "#d8576b"
             ],
             [
              0.6666666666666666,
              "#ed7953"
             ],
             [
              0.7777777777777778,
              "#fb9f3a"
             ],
             [
              0.8888888888888888,
              "#fdca26"
             ],
             [
              1,
              "#f0f921"
             ]
            ],
            "type": "histogram2d"
           }
          ],
          "histogram2dcontour": [
           {
            "colorbar": {
             "outlinewidth": 0,
             "ticks": ""
            },
            "colorscale": [
             [
              0,
              "#0d0887"
             ],
             [
              0.1111111111111111,
              "#46039f"
             ],
             [
              0.2222222222222222,
              "#7201a8"
             ],
             [
              0.3333333333333333,
              "#9c179e"
             ],
             [
              0.4444444444444444,
              "#bd3786"
             ],
             [
              0.5555555555555556,
              "#d8576b"
             ],
             [
              0.6666666666666666,
              "#ed7953"
             ],
             [
              0.7777777777777778,
              "#fb9f3a"
             ],
             [
              0.8888888888888888,
              "#fdca26"
             ],
             [
              1,
              "#f0f921"
             ]
            ],
            "type": "histogram2dcontour"
           }
          ],
          "mesh3d": [
           {
            "colorbar": {
             "outlinewidth": 0,
             "ticks": ""
            },
            "type": "mesh3d"
           }
          ],
          "parcoords": [
           {
            "line": {
             "colorbar": {
              "outlinewidth": 0,
              "ticks": ""
             }
            },
            "type": "parcoords"
           }
          ],
          "pie": [
           {
            "automargin": true,
            "type": "pie"
           }
          ],
          "scatter": [
           {
            "fillpattern": {
             "fillmode": "overlay",
             "size": 10,
             "solidity": 0.2
            },
            "type": "scatter"
           }
          ],
          "scatter3d": [
           {
            "line": {
             "colorbar": {
              "outlinewidth": 0,
              "ticks": ""
             }
            },
            "marker": {
             "colorbar": {
              "outlinewidth": 0,
              "ticks": ""
             }
            },
            "type": "scatter3d"
           }
          ],
          "scattercarpet": [
           {
            "marker": {
             "colorbar": {
              "outlinewidth": 0,
              "ticks": ""
             }
            },
            "type": "scattercarpet"
           }
          ],
          "scattergeo": [
           {
            "marker": {
             "colorbar": {
              "outlinewidth": 0,
              "ticks": ""
             }
            },
            "type": "scattergeo"
           }
          ],
          "scattergl": [
           {
            "marker": {
             "colorbar": {
              "outlinewidth": 0,
              "ticks": ""
             }
            },
            "type": "scattergl"
           }
          ],
          "scattermapbox": [
           {
            "marker": {
             "colorbar": {
              "outlinewidth": 0,
              "ticks": ""
             }
            },
            "type": "scattermapbox"
           }
          ],
          "scatterpolar": [
           {
            "marker": {
             "colorbar": {
              "outlinewidth": 0,
              "ticks": ""
             }
            },
            "type": "scatterpolar"
           }
          ],
          "scatterpolargl": [
           {
            "marker": {
             "colorbar": {
              "outlinewidth": 0,
              "ticks": ""
             }
            },
            "type": "scatterpolargl"
           }
          ],
          "scatterternary": [
           {
            "marker": {
             "colorbar": {
              "outlinewidth": 0,
              "ticks": ""
             }
            },
            "type": "scatterternary"
           }
          ],
          "surface": [
           {
            "colorbar": {
             "outlinewidth": 0,
             "ticks": ""
            },
            "colorscale": [
             [
              0,
              "#0d0887"
             ],
             [
              0.1111111111111111,
              "#46039f"
             ],
             [
              0.2222222222222222,
              "#7201a8"
             ],
             [
              0.3333333333333333,
              "#9c179e"
             ],
             [
              0.4444444444444444,
              "#bd3786"
             ],
             [
              0.5555555555555556,
              "#d8576b"
             ],
             [
              0.6666666666666666,
              "#ed7953"
             ],
             [
              0.7777777777777778,
              "#fb9f3a"
             ],
             [
              0.8888888888888888,
              "#fdca26"
             ],
             [
              1,
              "#f0f921"
             ]
            ],
            "type": "surface"
           }
          ],
          "table": [
           {
            "cells": {
             "fill": {
              "color": "#EBF0F8"
             },
             "line": {
              "color": "white"
             }
            },
            "header": {
             "fill": {
              "color": "#C8D4E3"
             },
             "line": {
              "color": "white"
             }
            },
            "type": "table"
           }
          ]
         },
         "layout": {
          "annotationdefaults": {
           "arrowcolor": "#2a3f5f",
           "arrowhead": 0,
           "arrowwidth": 1
          },
          "autotypenumbers": "strict",
          "coloraxis": {
           "colorbar": {
            "outlinewidth": 0,
            "ticks": ""
           }
          },
          "colorscale": {
           "diverging": [
            [
             0,
             "#8e0152"
            ],
            [
             0.1,
             "#c51b7d"
            ],
            [
             0.2,
             "#de77ae"
            ],
            [
             0.3,
             "#f1b6da"
            ],
            [
             0.4,
             "#fde0ef"
            ],
            [
             0.5,
             "#f7f7f7"
            ],
            [
             0.6,
             "#e6f5d0"
            ],
            [
             0.7,
             "#b8e186"
            ],
            [
             0.8,
             "#7fbc41"
            ],
            [
             0.9,
             "#4d9221"
            ],
            [
             1,
             "#276419"
            ]
           ],
           "sequential": [
            [
             0,
             "#0d0887"
            ],
            [
             0.1111111111111111,
             "#46039f"
            ],
            [
             0.2222222222222222,
             "#7201a8"
            ],
            [
             0.3333333333333333,
             "#9c179e"
            ],
            [
             0.4444444444444444,
             "#bd3786"
            ],
            [
             0.5555555555555556,
             "#d8576b"
            ],
            [
             0.6666666666666666,
             "#ed7953"
            ],
            [
             0.7777777777777778,
             "#fb9f3a"
            ],
            [
             0.8888888888888888,
             "#fdca26"
            ],
            [
             1,
             "#f0f921"
            ]
           ],
           "sequentialminus": [
            [
             0,
             "#0d0887"
            ],
            [
             0.1111111111111111,
             "#46039f"
            ],
            [
             0.2222222222222222,
             "#7201a8"
            ],
            [
             0.3333333333333333,
             "#9c179e"
            ],
            [
             0.4444444444444444,
             "#bd3786"
            ],
            [
             0.5555555555555556,
             "#d8576b"
            ],
            [
             0.6666666666666666,
             "#ed7953"
            ],
            [
             0.7777777777777778,
             "#fb9f3a"
            ],
            [
             0.8888888888888888,
             "#fdca26"
            ],
            [
             1,
             "#f0f921"
            ]
           ]
          },
          "colorway": [
           "#636efa",
           "#EF553B",
           "#00cc96",
           "#ab63fa",
           "#FFA15A",
           "#19d3f3",
           "#FF6692",
           "#B6E880",
           "#FF97FF",
           "#FECB52"
          ],
          "font": {
           "color": "#2a3f5f"
          },
          "geo": {
           "bgcolor": "white",
           "lakecolor": "white",
           "landcolor": "#E5ECF6",
           "showlakes": true,
           "showland": true,
           "subunitcolor": "white"
          },
          "hoverlabel": {
           "align": "left"
          },
          "hovermode": "closest",
          "mapbox": {
           "style": "light"
          },
          "paper_bgcolor": "white",
          "plot_bgcolor": "#E5ECF6",
          "polar": {
           "angularaxis": {
            "gridcolor": "white",
            "linecolor": "white",
            "ticks": ""
           },
           "bgcolor": "#E5ECF6",
           "radialaxis": {
            "gridcolor": "white",
            "linecolor": "white",
            "ticks": ""
           }
          },
          "scene": {
           "xaxis": {
            "backgroundcolor": "#E5ECF6",
            "gridcolor": "white",
            "gridwidth": 2,
            "linecolor": "white",
            "showbackground": true,
            "ticks": "",
            "zerolinecolor": "white"
           },
           "yaxis": {
            "backgroundcolor": "#E5ECF6",
            "gridcolor": "white",
            "gridwidth": 2,
            "linecolor": "white",
            "showbackground": true,
            "ticks": "",
            "zerolinecolor": "white"
           },
           "zaxis": {
            "backgroundcolor": "#E5ECF6",
            "gridcolor": "white",
            "gridwidth": 2,
            "linecolor": "white",
            "showbackground": true,
            "ticks": "",
            "zerolinecolor": "white"
           }
          },
          "shapedefaults": {
           "line": {
            "color": "#2a3f5f"
           }
          },
          "ternary": {
           "aaxis": {
            "gridcolor": "white",
            "linecolor": "white",
            "ticks": ""
           },
           "baxis": {
            "gridcolor": "white",
            "linecolor": "white",
            "ticks": ""
           },
           "bgcolor": "#E5ECF6",
           "caxis": {
            "gridcolor": "white",
            "linecolor": "white",
            "ticks": ""
           }
          },
          "title": {
           "x": 0.05
          },
          "xaxis": {
           "automargin": true,
           "gridcolor": "white",
           "linecolor": "white",
           "ticks": "",
           "title": {
            "standoff": 15
           },
           "zerolinecolor": "white",
           "zerolinewidth": 2
          },
          "yaxis": {
           "automargin": true,
           "gridcolor": "white",
           "linecolor": "white",
           "ticks": "",
           "title": {
            "standoff": 15
           },
           "zerolinecolor": "white",
           "zerolinewidth": 2
          }
         }
        },
        "title": {
         "text": "Monetary exchanges between sectors, t=49.90"
        }
       }
      }
     },
     "metadata": {},
     "output_type": "display_data"
    }
   ],
   "source": [
    "#### MONETARY FLUXES \n",
    "Matrices=['MtransactI','MtransactY']\n",
    "Vectors =['wL','pC','rD']\n",
    "nx=0\n",
    "region=0\n",
    "ntindex=-1\n",
    "R=hub.get_dparam()\n",
    "\n",
    "c = [ 'rgba(255,  0,255, 0.8)' , \n",
    "      'rgba(  0,255,255, 0.8)' ,\n",
    "      'rgba(255,255,  0, 0.8)' ,\n",
    "      'rgba(127,255,127, 0.8)' ,\n",
    "      'rgba(0,0,0, 0.8)' ,\n",
    "      'rgba(127,255,255, 0.8)' ,\n",
    "      'rgba(255,127,255, 0.8)']\n",
    "\n",
    "### INITIAL LISTS TO FILL\n",
    "TD={               'label' :[], # names of target/sources\n",
    "                   'target':[], # Where the flux ends\n",
    "                   'source':[], # Where the flux starts\n",
    "                   'value' :[], # Flux intensity\n",
    "                   'types' :[], # Flux category \n",
    "                   'colors':[]}\n",
    "\n",
    "def Add_Matrix(X):\n",
    "    d0=R[X]\n",
    "    values = d0['value'][ntindex,nx,region,:,:].reshape(-1)\n",
    "    names = R[d0['size'][0]]['list']\n",
    "    sectintdex=np.arange(len(names))\n",
    "\n",
    "    XX,YY=np.meshgrid(sectintdex+1,sectintdex+1)\n",
    "    XX=XX.astype(int).reshape(-1)-1\n",
    "    YY=YY.astype(int).reshape(-1)-1\n",
    "    Ntot=len(XX)\n",
    "    \n",
    "    TD['source'].extend(YY)\n",
    "    TD['target'].extend(XX)\n",
    "    TD['types'].extend([X for i in range(len(XX))])\n",
    "    TD['value'].extend(values)\n",
    "    TD['colors'].extend([len(set(TD['types']))-1 for j in range(len(XX))])\n",
    "    TD['label'] = names\n",
    "    return TD\n",
    "\n",
    "def Add_Vector(TD,Vecid,stype,slabel,switch):\n",
    "    V=R[Vecid]['value'][ntindex,nx,region,:,0]        # Values we add \n",
    "    if slabel not in TD['label']:\n",
    "        TD['label'].append(slabel)\n",
    "        plus= 1\n",
    "    else :\n",
    "        plus=0\n",
    "    V1 = np.arange(0,len(V))\n",
    "    V2 = [np.amax(TD['target']+TD['source'])+plus]*len(V)\n",
    "    TD['target'].extend(V1 if switch else V2) \n",
    "    TD['source'].extend(V2 if switch else V1)\n",
    "    TD['value'].extend(V)\n",
    "    TD['types'].extend([stype for i in range(len(V))])\n",
    "    TD['colors'].extend([len(set(TD['colors'])) for ii in range(len(V))])\n",
    "    return TD\n",
    "\n",
    "def Add_scalar(TD,name,source,target,type,newcolor=False):\n",
    "    print(source,TD['label'])\n",
    "    if source in TD['label']:\n",
    "        sourceindex = TD['label'].index(source)\n",
    "    else : \n",
    "        print(source,'adding')\n",
    "        sourceindex = len(TD['label'])\n",
    "        TD['label'].append(source)\n",
    "\n",
    "    if target in TD['label']:\n",
    "        targetindex = TD['label'].index(target)\n",
    "    else : \n",
    "        targetindex = len(TD['label'])\n",
    "        TD['label'].append(target)\n",
    "\n",
    "    TD['source'].append(sourceindex)\n",
    "    TD['target'].append(targetindex)\n",
    "    TD['value'].append(R[name]['value'][ntindex,nx,region,0,0])\n",
    "    TD['types'].append(type)\n",
    "    TD['colors'].append(TD['colors'][-1]+1 if newcolor else TD['colors'][-1])\n",
    "    return TD    \n",
    "\n",
    "\n",
    "### MATRICES\n",
    "for ii,X in enumerate(Matrices):\n",
    "    Add_Matrix(X)\n",
    "\n",
    "\n",
    "\n",
    "### ADDING VECTORS\n",
    "Vecid = 'pC'\n",
    "stype = 'Consumption'\n",
    "slabel = 'Household'\n",
    "switch = True\n",
    "TD = Add_Vector(TD,Vecid,stype,slabel,switch)\n",
    "\n",
    "Vecid = 'wL'\n",
    "stype = 'Wages'\n",
    "slabel = 'Household'\n",
    "TD = Add_Vector(TD,Vecid,stype,slabel,False)\n",
    "\n",
    "Vecid = 'rD'\n",
    "stype = 'Interests'\n",
    "slabel = 'Banks'\n",
    "TD = Add_Vector(TD,Vecid,stype,slabel,False)\n",
    "\n",
    "TD = Add_scalar(TD,'rDh','Household','Banks','Interests',False)\n",
    "\n",
    "\n",
    "TD['colors']= [c[i] for i in TD['colors']]\n",
    "for i,v in enumerate(TD['value']):\n",
    "    if v<0:\n",
    "        TD['target'][i],TD['source'][i] = TD['source'][i],TD['target'][i]\n",
    "        TD['value'][i]*=-1\n",
    "\n",
    "\n",
    "df = pd.DataFrame({k:v for k,v in TD.items() if k!='label'})\n",
    "\n",
    "\n",
    "link = dict(source = np.array(TD['source']).reshape(-1), \n",
    "                             target = np.array(TD['target']).reshape(-1), \n",
    "                             value = np.array(TD['value']).reshape(-1),\n",
    "                             color=TD['colors'])\n",
    "node = dict(  label = TD['label'],\n",
    "                             pad=50, \n",
    "                             thickness=5)\n",
    "data = go.Sankey(link = link , \n",
    "                 node= node)\n",
    "# plot\n",
    "figMoney = go.Figure(data)\n",
    "figMoney.update_layout(\n",
    "    hovermode = 'x',\n",
    "    title=f\"Monetary exchanges between sectors, t={R['time']['value'][ntindex,0,0,0,0]:.2f}\",\n",
    "    font=dict(size = 10, color = 'white'),\n",
    "    paper_bgcolor='#5B5958'\n",
    ")\n",
    "figMoney.show()"
   ]
  },
  {
   "cell_type": "code",
   "execution_count": 46,
   "id": "4ca08d00",
   "metadata": {},
   "outputs": [
    {
     "data": {
      "text/html": [
       "<div>\n",
       "<style scoped>\n",
       "    .dataframe tbody tr th:only-of-type {\n",
       "        vertical-align: middle;\n",
       "    }\n",
       "\n",
       "    .dataframe tbody tr th {\n",
       "        vertical-align: top;\n",
       "    }\n",
       "\n",
       "    .dataframe thead th {\n",
       "        text-align: right;\n",
       "    }\n",
       "</style>\n",
       "<table border=\"1\" class=\"dataframe\">\n",
       "  <thead>\n",
       "    <tr style=\"text-align: center;\">\n",
       "      <th></th>\n",
       "      <th>target</th>\n",
       "      <th>source</th>\n",
       "      <th>value</th>\n",
       "      <th>types</th>\n",
       "      <th>colors</th>\n",
       "    </tr>\n",
       "  </thead>\n",
       "  <tbody>\n",
       "    <tr>\n",
       "      <th>0</th>\n",
       "      <td>0</td>\n",
       "      <td>0</td>\n",
       "      <td>0.00e+00</td>\n",
       "      <td>MtransactI</td>\n",
       "      <td>rgba(255,  0,255, 0.8)</td>\n",
       "    </tr>\n",
       "    <tr>\n",
       "      <th>1</th>\n",
       "      <td>1</td>\n",
       "      <td>0</td>\n",
       "      <td>0.00e+00</td>\n",
       "      <td>MtransactI</td>\n",
       "      <td>rgba(255,  0,255, 0.8)</td>\n",
       "    </tr>\n",
       "    <tr>\n",
       "      <th>2</th>\n",
       "      <td>2</td>\n",
       "      <td>0</td>\n",
       "      <td>2.05e+00</td>\n",
       "      <td>MtransactI</td>\n",
       "      <td>rgba(255,  0,255, 0.8)</td>\n",
       "    </tr>\n",
       "    <tr>\n",
       "      <th>3</th>\n",
       "      <td>0</td>\n",
       "      <td>1</td>\n",
       "      <td>0.00e+00</td>\n",
       "      <td>MtransactI</td>\n",
       "      <td>rgba(255,  0,255, 0.8)</td>\n",
       "    </tr>\n",
       "    <tr>\n",
       "      <th>4</th>\n",
       "      <td>1</td>\n",
       "      <td>1</td>\n",
       "      <td>0.00e+00</td>\n",
       "      <td>MtransactI</td>\n",
       "      <td>rgba(255,  0,255, 0.8)</td>\n",
       "    </tr>\n",
       "    <tr>\n",
       "      <th>5</th>\n",
       "      <td>2</td>\n",
       "      <td>1</td>\n",
       "      <td>4.01e-01</td>\n",
       "      <td>MtransactI</td>\n",
       "      <td>rgba(255,  0,255, 0.8)</td>\n",
       "    </tr>\n",
       "    <tr>\n",
       "      <th>6</th>\n",
       "      <td>0</td>\n",
       "      <td>2</td>\n",
       "      <td>0.00e+00</td>\n",
       "      <td>MtransactI</td>\n",
       "      <td>rgba(255,  0,255, 0.8)</td>\n",
       "    </tr>\n",
       "    <tr>\n",
       "      <th>7</th>\n",
       "      <td>1</td>\n",
       "      <td>2</td>\n",
       "      <td>0.00e+00</td>\n",
       "      <td>MtransactI</td>\n",
       "      <td>rgba(255,  0,255, 0.8)</td>\n",
       "    </tr>\n",
       "    <tr>\n",
       "      <th>8</th>\n",
       "      <td>2</td>\n",
       "      <td>2</td>\n",
       "      <td>1.63e+00</td>\n",
       "      <td>MtransactI</td>\n",
       "      <td>rgba(255,  0,255, 0.8)</td>\n",
       "    </tr>\n",
       "    <tr>\n",
       "      <th>9</th>\n",
       "      <td>0</td>\n",
       "      <td>0</td>\n",
       "      <td>0.00e+00</td>\n",
       "      <td>MtransactY</td>\n",
       "      <td>rgba(  0,255,255, 0.8)</td>\n",
       "    </tr>\n",
       "    <tr>\n",
       "      <th>10</th>\n",
       "      <td>1</td>\n",
       "      <td>0</td>\n",
       "      <td>6.42e-01</td>\n",
       "      <td>MtransactY</td>\n",
       "      <td>rgba(  0,255,255, 0.8)</td>\n",
       "    </tr>\n",
       "    <tr>\n",
       "      <th>11</th>\n",
       "      <td>2</td>\n",
       "      <td>0</td>\n",
       "      <td>0.00e+00</td>\n",
       "      <td>MtransactY</td>\n",
       "      <td>rgba(  0,255,255, 0.8)</td>\n",
       "    </tr>\n",
       "    <tr>\n",
       "      <th>12</th>\n",
       "      <td>0</td>\n",
       "      <td>1</td>\n",
       "      <td>0.00e+00</td>\n",
       "      <td>MtransactY</td>\n",
       "      <td>rgba(  0,255,255, 0.8)</td>\n",
       "    </tr>\n",
       "    <tr>\n",
       "      <th>13</th>\n",
       "      <td>1</td>\n",
       "      <td>1</td>\n",
       "      <td>1.14e-01</td>\n",
       "      <td>MtransactY</td>\n",
       "      <td>rgba(  0,255,255, 0.8)</td>\n",
       "    </tr>\n",
       "    <tr>\n",
       "      <th>14</th>\n",
       "      <td>2</td>\n",
       "      <td>1</td>\n",
       "      <td>0.00e+00</td>\n",
       "      <td>MtransactY</td>\n",
       "      <td>rgba(  0,255,255, 0.8)</td>\n",
       "    </tr>\n",
       "    <tr>\n",
       "      <th>15</th>\n",
       "      <td>0</td>\n",
       "      <td>2</td>\n",
       "      <td>0.00e+00</td>\n",
       "      <td>MtransactY</td>\n",
       "      <td>rgba(  0,255,255, 0.8)</td>\n",
       "    </tr>\n",
       "    <tr>\n",
       "      <th>16</th>\n",
       "      <td>1</td>\n",
       "      <td>2</td>\n",
       "      <td>3.95e-01</td>\n",
       "      <td>MtransactY</td>\n",
       "      <td>rgba(  0,255,255, 0.8)</td>\n",
       "    </tr>\n",
       "    <tr>\n",
       "      <th>17</th>\n",
       "      <td>2</td>\n",
       "      <td>2</td>\n",
       "      <td>0.00e+00</td>\n",
       "      <td>MtransactY</td>\n",
       "      <td>rgba(  0,255,255, 0.8)</td>\n",
       "    </tr>\n",
       "    <tr>\n",
       "      <th>18</th>\n",
       "      <td>0</td>\n",
       "      <td>3</td>\n",
       "      <td>6.24e+00</td>\n",
       "      <td>Consumption</td>\n",
       "      <td>rgba(255,255,  0, 0.8)</td>\n",
       "    </tr>\n",
       "    <tr>\n",
       "      <th>19</th>\n",
       "      <td>1</td>\n",
       "      <td>3</td>\n",
       "      <td>0.00e+00</td>\n",
       "      <td>Consumption</td>\n",
       "      <td>rgba(255,255,  0, 0.8)</td>\n",
       "    </tr>\n",
       "    <tr>\n",
       "      <th>20</th>\n",
       "      <td>2</td>\n",
       "      <td>3</td>\n",
       "      <td>0.00e+00</td>\n",
       "      <td>Consumption</td>\n",
       "      <td>rgba(255,255,  0, 0.8)</td>\n",
       "    </tr>\n",
       "    <tr>\n",
       "      <th>21</th>\n",
       "      <td>3</td>\n",
       "      <td>0</td>\n",
       "      <td>3.48e+00</td>\n",
       "      <td>Wages</td>\n",
       "      <td>rgba(127,255,127, 0.8)</td>\n",
       "    </tr>\n",
       "    <tr>\n",
       "      <th>22</th>\n",
       "      <td>3</td>\n",
       "      <td>1</td>\n",
       "      <td>6.16e-01</td>\n",
       "      <td>Wages</td>\n",
       "      <td>rgba(127,255,127, 0.8)</td>\n",
       "    </tr>\n",
       "    <tr>\n",
       "      <th>23</th>\n",
       "      <td>3</td>\n",
       "      <td>2</td>\n",
       "      <td>2.14e+00</td>\n",
       "      <td>Wages</td>\n",
       "      <td>rgba(127,255,127, 0.8)</td>\n",
       "    </tr>\n",
       "    <tr>\n",
       "      <th>24</th>\n",
       "      <td>4</td>\n",
       "      <td>0</td>\n",
       "      <td>3.78e-02</td>\n",
       "      <td>Interests</td>\n",
       "      <td>rgba(0,0,0, 0.8)</td>\n",
       "    </tr>\n",
       "    <tr>\n",
       "      <th>25</th>\n",
       "      <td>4</td>\n",
       "      <td>1</td>\n",
       "      <td>6.05e-03</td>\n",
       "      <td>Interests</td>\n",
       "      <td>rgba(0,0,0, 0.8)</td>\n",
       "    </tr>\n",
       "    <tr>\n",
       "      <th>26</th>\n",
       "      <td>2</td>\n",
       "      <td>4</td>\n",
       "      <td>4.39e-02</td>\n",
       "      <td>Interests</td>\n",
       "      <td>rgba(0,0,0, 0.8)</td>\n",
       "    </tr>\n",
       "    <tr>\n",
       "      <th>27</th>\n",
       "      <td>4</td>\n",
       "      <td>3</td>\n",
       "      <td>6.00e-18</td>\n",
       "      <td>Interests</td>\n",
       "      <td>rgba(0,0,0, 0.8)</td>\n",
       "    </tr>\n",
       "  </tbody>\n",
       "</table>\n",
       "</div>"
      ],
      "text/plain": [
       "    target  source    value     types              colors        \n",
       "0      0       0    0.00e+00   MtransactI  rgba(255,  0,255, 0.8)\n",
       "1      1       0    0.00e+00   MtransactI  rgba(255,  0,255, 0.8)\n",
       "2      2       0    2.05e+00   MtransactI  rgba(255,  0,255, 0.8)\n",
       "3      0       1    0.00e+00   MtransactI  rgba(255,  0,255, 0.8)\n",
       "4      1       1    0.00e+00   MtransactI  rgba(255,  0,255, 0.8)\n",
       "5      2       1    4.01e-01   MtransactI  rgba(255,  0,255, 0.8)\n",
       "6      0       2    0.00e+00   MtransactI  rgba(255,  0,255, 0.8)\n",
       "7      1       2    0.00e+00   MtransactI  rgba(255,  0,255, 0.8)\n",
       "8      2       2    1.63e+00   MtransactI  rgba(255,  0,255, 0.8)\n",
       "9      0       0    0.00e+00   MtransactY  rgba(  0,255,255, 0.8)\n",
       "10     1       0    6.42e-01   MtransactY  rgba(  0,255,255, 0.8)\n",
       "11     2       0    0.00e+00   MtransactY  rgba(  0,255,255, 0.8)\n",
       "12     0       1    0.00e+00   MtransactY  rgba(  0,255,255, 0.8)\n",
       "13     1       1    1.14e-01   MtransactY  rgba(  0,255,255, 0.8)\n",
       "14     2       1    0.00e+00   MtransactY  rgba(  0,255,255, 0.8)\n",
       "15     0       2    0.00e+00   MtransactY  rgba(  0,255,255, 0.8)\n",
       "16     1       2    3.95e-01   MtransactY  rgba(  0,255,255, 0.8)\n",
       "17     2       2    0.00e+00   MtransactY  rgba(  0,255,255, 0.8)\n",
       "18     0       3    6.24e+00  Consumption  rgba(255,255,  0, 0.8)\n",
       "19     1       3    0.00e+00  Consumption  rgba(255,255,  0, 0.8)\n",
       "20     2       3    0.00e+00  Consumption  rgba(255,255,  0, 0.8)\n",
       "21     3       0    3.48e+00        Wages  rgba(127,255,127, 0.8)\n",
       "22     3       1    6.16e-01        Wages  rgba(127,255,127, 0.8)\n",
       "23     3       2    2.14e+00        Wages  rgba(127,255,127, 0.8)\n",
       "24     4       0    3.78e-02    Interests        rgba(0,0,0, 0.8)\n",
       "25     4       1    6.05e-03    Interests        rgba(0,0,0, 0.8)\n",
       "26     2       4    4.39e-02    Interests        rgba(0,0,0, 0.8)\n",
       "27     4       3    6.00e-18    Interests        rgba(0,0,0, 0.8)"
      ]
     },
     "execution_count": 46,
     "metadata": {},
     "output_type": "execute_result"
    }
   ],
   "source": [
    "df"
   ]
  },
  {
   "cell_type": "code",
   "execution_count": 1,
   "id": "e1867ccd",
   "metadata": {},
   "outputs": [],
   "source": [
    "import ipywidgets"
   ]
  },
  {
   "cell_type": "code",
   "execution_count": 2,
   "id": "603e97ea",
   "metadata": {},
   "outputs": [
    {
     "ename": "SyntaxError",
     "evalue": "incomplete input (1712168102.py, line 6)",
     "output_type": "error",
     "traceback": [
      "\u001b[1;36m  Cell \u001b[1;32mIn[2], line 6\u001b[1;36m\u001b[0m\n\u001b[1;33m    value=3\u001b[0m\n\u001b[1;37m           ^\u001b[0m\n\u001b[1;31mSyntaxError\u001b[0m\u001b[1;31m:\u001b[0m incomplete input\n"
     ]
    }
   ],
   "source": [
    "slider = ipwidgets.IntSlider(\n",
    "    min=0,\n",
    "    max=10,\n",
    "    step=1,\n",
    "    description='Sankey time index :',\n",
    "    value=3\n",
    ")"
   ]
  },
  {
   "cell_type": "code",
   "execution_count": null,
   "id": "ec3735cc",
   "metadata": {},
   "outputs": [],
   "source": []
  }
 ],
 "metadata": {
  "kernelspec": {
   "display_name": "py3.11",
   "language": "python",
   "name": "python3"
  },
  "language_info": {
   "codemirror_mode": {
    "name": "ipython",
    "version": 3
   },
   "file_extension": ".py",
   "mimetype": "text/x-python",
   "name": "python",
   "nbconvert_exporter": "python",
   "pygments_lexer": "ipython3",
   "version": "3.11.0"
  },
  "vscode": {
   "interpreter": {
    "hash": "adba334501d02229fd9053440574f5ad76b726cca49f9d96143c39055f64ce1c"
   }
  }
 },
 "nbformat": 4,
 "nbformat_minor": 5
}
