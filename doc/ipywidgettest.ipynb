{
 "cells": [
  {
   "cell_type": "code",
   "execution_count": 1,
   "metadata": {},
   "outputs": [
    {
     "name": "stdout",
     "output_type": "stream",
     "text": [
      "\n",
      "#####################################################################################\n",
      " _______            ______  ________  ____    ____  ____    ____  ________   ______    \n",
      "|_   __ \\         .' ___  ||_   __  ||_   \\  /   _||_   \\  /   _||_   __  |.' ____  \\   \n",
      "  | |__) |_   __ / .'   \\_|  | |_ \\_|  |   \\/   |    |   \\/   |    | |_ \\_|| (___ \\_|  \n",
      "  |  ___/[ \\ [  ]| |   ____  |  _| _   | |\\  /| |    | |\\  /| |    |  _| _  _.____`.   \n",
      " _| |_    \\ '/ / \\ `.___]  |_| |__/ | _| |_\\/_| |_  _| |_\\/_| |_  _| |__/ || \\____) |  \n",
      "|_____| [\\_:  /   `._____.'|________||_____||_____||_____||_____||________| \\______.'  \n",
      "         \\__.'                           \n",
      "#####################################################################################                                                                                                                                   \n",
      "\n",
      "Welcome in Pygemmes, a modular library to prototype and study dynamical systems !\n",
      "This library is oriented toward generation of macroeconomic complexity models \n",
      "You can find the files on https://github.com/DaluS/GEMMES\n",
      "This library has been coded mostly by Didier Vezinet and Paul Valcke,\n",
      "at the environmental justice program https://environmentaljustice.georgetown.edu/#\n",
      "You can contact me at pv229@georgetown.edu \n",
      "If you find bugs, want some new extensions, or help us improve the library, please create a new issue on github\n",
      "If this is the first time you open this library, please look at the tutorial file in doc/tutorial.py and execute it line by line. \n",
      "The ipythonNotebook is at :\n",
      " \tC:\\Users\\Paul Valcke\\Documents\\GitHub\\GEMMES\\pygemmes\\doc\\TUTORIALS\\TUTORIAL.ipynb\n",
      "If you want to customize pygemmes (advancer users) like removing this message, edit :\n",
      " \tC:\\Users\\Paul Valcke\\Documents\\GitHub\\GEMMES\\pygemmes\\_config.py\n",
      "\n",
      "Have fun !\n",
      "######################################################################################################\n",
      "\n"
     ]
    },
    {
     "ename": "ModuleNotFoundError",
     "evalue": "No module named 'pandasgui'",
     "output_type": "error",
     "traceback": [
      "\u001b[1;31m---------------------------------------------------------------------------\u001b[0m",
      "\u001b[1;31mModuleNotFoundError\u001b[0m                       Traceback (most recent call last)",
      "Cell \u001b[1;32mIn[1], line 8\u001b[0m\n\u001b[0;32m      6\u001b[0m \u001b[39mimport\u001b[39;00m \u001b[39mnumpy\u001b[39;00m \u001b[39mas\u001b[39;00m \u001b[39mnp\u001b[39;00m\n\u001b[0;32m      7\u001b[0m \u001b[39mimport\u001b[39;00m \u001b[39mpandas\u001b[39;00m \u001b[39mas\u001b[39;00m \u001b[39mpd\u001b[39;00m \n\u001b[1;32m----> 8\u001b[0m \u001b[39mfrom\u001b[39;00m \u001b[39mpandasgui\u001b[39;00m \u001b[39mimport\u001b[39;00m show \n",
      "\u001b[1;31mModuleNotFoundError\u001b[0m: No module named 'pandasgui'"
     ]
    }
   ],
   "source": [
    "import sys \n",
    "path = \"C:\\\\Users\\\\Paul Valcke\\\\Documents\\\\GitHub\\\\GEMMES\" \n",
    "sys.path.insert(0, path)\n",
    "import pygemmes as pgm\n",
    "\n",
    "import numpy as np\n",
    "import pandas as pd \n",
    "#from pandasgui import show "
   ]
  },
  {
   "cell_type": "code",
   "execution_count": null,
   "metadata": {},
   "outputs": [],
   "source": []
  }
 ],
 "metadata": {
  "kernelspec": {
   "display_name": "py3.11",
   "language": "python",
   "name": "python3"
  },
  "language_info": {
   "name": "python",
   "version": "3.11.0 | packaged by conda-forge | (main, Oct 25 2022, 06:12:32) [MSC v.1929 64 bit (AMD64)]"
  },
  "orig_nbformat": 4,
  "vscode": {
   "interpreter": {
    "hash": "adba334501d02229fd9053440574f5ad76b726cca49f9d96143c39055f64ce1c"
   }
  }
 },
 "nbformat": 4,
 "nbformat_minor": 2
}
