{
 "cells": [
  {
   "cell_type": "code",
   "execution_count": 8,
   "metadata": {},
   "outputs": [],
   "source": [
    "path = \"C:\\\\Users\\\\Paul Valcke\\\\Documents\\\\GitHub\\\\GEMMES\" \n",
    "import sys\n",
    "sys.path.insert(0, path)\n",
    "\n",
    "import pygemmes as chm"
   ]
  },
  {
   "cell_type": "code",
   "execution_count": 12,
   "metadata": {},
   "outputs": [
    {
     "name": "stdout",
     "output_type": "stream",
     "text": [
      "The following fields are defined in the model but not it the library :\n",
      "\t- differential: ['anewvariable']\n"
     ]
    },
    {
     "ename": "Exception",
     "evalue": "The followinbg entries in _DFIELDS are not valid:\n\t- anewvariable: Non-allowed value for units (['Units', 'y', '$', 'C', 'Tc', 'Humans', 'W', 'L', '', 'undefined', 'undefined', 'undefined', 'undefined', 'undefined', 'undefined', 'undefined', 'undefined', 'undefined', 'undefined'] vs THISISWRONG)",
     "output_type": "error",
     "traceback": [
      "\u001b[1;31m---------------------------------------------------------------------------\u001b[0m",
      "\u001b[1;31mException\u001b[0m                                 Traceback (most recent call last)",
      "Cell \u001b[1;32mIn[12], line 1\u001b[0m\n\u001b[1;32m----> 1\u001b[0m hub\u001b[39m=\u001b[39mchm\u001b[39m.\u001b[39;49mHub(\u001b[39m'\u001b[39;49m\u001b[39mGK\u001b[39;49m\u001b[39m'\u001b[39;49m)\n\u001b[0;32m      2\u001b[0m hub\u001b[39m.\u001b[39mget_summary()\n",
      "File \u001b[1;32m~\\Documents\\GitHub\\GEMMES\\pygemmes\\_core.py:73\u001b[0m, in \u001b[0;36mHub.__init__\u001b[1;34m(self, model, preset, dpresets, verb)\u001b[0m\n\u001b[0;32m     62\u001b[0m \u001b[39mself\u001b[39m\u001b[39m.\u001b[39m__dmisc \u001b[39m=\u001b[39m {\u001b[39m'\u001b[39m\u001b[39mrun\u001b[39m\u001b[39m'\u001b[39m: \u001b[39mFalse\u001b[39;00m,        \u001b[39m# Has a run been done\u001b[39;00m\n\u001b[0;32m     63\u001b[0m                 \u001b[39m'\u001b[39m\u001b[39mdmulti\u001b[39m\u001b[39m'\u001b[39m: {},        \u001b[39m# Which variables has been imposed as multiple, and what size\u001b[39;00m\n\u001b[0;32m     64\u001b[0m                 \u001b[39m'\u001b[39m\u001b[39mcycles\u001b[39m\u001b[39m'\u001b[39m: \u001b[39mFalse\u001b[39;00m,     \u001b[39m# Has an analysis of cycles been done\u001b[39;00m\n\u001b[0;32m     65\u001b[0m                 \u001b[39m'\u001b[39m\u001b[39mderivative\u001b[39m\u001b[39m'\u001b[39m: \u001b[39mFalse\u001b[39;00m, \u001b[39m# Has an analysis of derivatives been done\u001b[39;00m\n\u001b[0;32m     66\u001b[0m                 }\n\u001b[0;32m     67\u001b[0m \u001b[39m# Load model files ####################################################\u001b[39;00m\n\u001b[0;32m     68\u001b[0m (\n\u001b[0;32m     69\u001b[0m     \u001b[39mself\u001b[39m\u001b[39m.\u001b[39m__dmodel,  \u001b[39m# Contains the model informations\u001b[39;00m\n\u001b[0;32m     70\u001b[0m     \u001b[39mself\u001b[39m\u001b[39m.\u001b[39m__dparam,  \u001b[39m# Contains all the fields and their relative properties\u001b[39;00m\n\u001b[0;32m     71\u001b[0m     \u001b[39mself\u001b[39m\u001b[39m.\u001b[39m__dmisc[\u001b[39m'\u001b[39m\u001b[39mdfunc_order\u001b[39m\u001b[39m'\u001b[39m], \u001b[39m# Order of resolution\u001b[39;00m\n\u001b[0;32m     72\u001b[0m     \u001b[39mself\u001b[39m\u001b[39m.\u001b[39m__dargs,  \u001b[39m# Pointer for each field and function values\u001b[39;00m\n\u001b[1;32m---> 73\u001b[0m ) \u001b[39m=\u001b[39m _class_set\u001b[39m.\u001b[39;49mload_model(\n\u001b[0;32m     74\u001b[0m     model,\n\u001b[0;32m     75\u001b[0m     from_user\u001b[39m=\u001b[39;49mfrom_user,\n\u001b[0;32m     76\u001b[0m     verb\u001b[39m=\u001b[39;49mverb,\n\u001b[0;32m     77\u001b[0m )\n\u001b[0;32m     80\u001b[0m \u001b[39m# Actualize the shape ##############################################\u001b[39;00m\n\u001b[0;32m     81\u001b[0m \u001b[39mself\u001b[39m\u001b[39m.\u001b[39m__dmisc[\u001b[39m'\u001b[39m\u001b[39mdmulti\u001b[39m\u001b[39m'\u001b[39m][\u001b[39m'\u001b[39m\u001b[39mNxNr\u001b[39m\u001b[39m'\u001b[39m] \u001b[39m=\u001b[39m (\u001b[39mself\u001b[39m\u001b[39m.\u001b[39m__dparam[\u001b[39m'\u001b[39m\u001b[39mnx\u001b[39m\u001b[39m'\u001b[39m][\u001b[39m'\u001b[39m\u001b[39mvalue\u001b[39m\u001b[39m'\u001b[39m],\n\u001b[0;32m     82\u001b[0m                                   \u001b[39mself\u001b[39m\u001b[39m.\u001b[39m__dparam[\u001b[39m'\u001b[39m\u001b[39mnr\u001b[39m\u001b[39m'\u001b[39m][\u001b[39m'\u001b[39m\u001b[39mvalue\u001b[39m\u001b[39m'\u001b[39m])\n",
      "File \u001b[1;32m~\\Documents\\GitHub\\GEMMES\\pygemmes\\_utilities\\_class_set.py:48\u001b[0m, in \u001b[0;36mload_model\u001b[1;34m(model, verb, from_user)\u001b[0m\n\u001b[0;32m     44\u001b[0m \u001b[39m# LOAD THE FILE AND THE LIBRARY ###########################################\u001b[39;00m\n\u001b[0;32m     45\u001b[0m \u001b[39m#_class_check_2.model_name(model, from_user, verb=verb)\u001b[39;00m\n\u001b[0;32m     47\u001b[0m dmodel \u001b[39m=\u001b[39m load_dmodel(model, from_user\u001b[39m=\u001b[39m\u001b[39mNone\u001b[39;00m)\n\u001b[1;32m---> 48\u001b[0m dfields \u001b[39m=\u001b[39m load_complete_DFIELDS(dmodel, verb\u001b[39m=\u001b[39;49mverb)\n\u001b[0;32m     49\u001b[0m _class_check\u001b[39m.\u001b[39mdmodel(dmodel)\n\u001b[0;32m     52\u001b[0m \u001b[39m# CREATE DPARAM ###########################################################\u001b[39;00m\n",
      "File \u001b[1;32m~\\Documents\\GitHub\\GEMMES\\pygemmes\\_utilities\\_class_set.py:140\u001b[0m, in \u001b[0;36mload_complete_DFIELDS\u001b[1;34m(dmodel, verb)\u001b[0m\n\u001b[0;32m    132\u001b[0m         DFIELDS[k1] \u001b[39m=\u001b[39m \u001b[39mdict\u001b[39m(dmodel[\u001b[39m'\u001b[39m\u001b[39mlogics\u001b[39m\u001b[39m'\u001b[39m][k0][k1])\n\u001b[0;32m    133\u001b[0m         \u001b[39m# _models._DFIELDS[k1]['eqtype'] = k0\u001b[39;00m\n\u001b[0;32m    134\u001b[0m         \u001b[39m# _models._DFIELDS[k1]['args'] = {key:[] for key in _LEQTYPES }\u001b[39;00m\n\u001b[0;32m    135\u001b[0m         \u001b[39m# _models._DFIELDS[k1]['kargs']= []\u001b[39;00m\n\u001b[1;32m   (...)\u001b[0m\n\u001b[0;32m    138\u001b[0m \n\u001b[0;32m    139\u001b[0m \u001b[39m# %% d) use dfields autocompletion\u001b[39;00m\n\u001b[1;32m--> 140\u001b[0m DFIELDS2 \u001b[39m=\u001b[39m _models\u001b[39m.\u001b[39;49m_complete_DFIELDS(\n\u001b[0;32m    141\u001b[0m     dfields\u001b[39m=\u001b[39;49mDFIELDS,\n\u001b[0;32m    142\u001b[0m     complete\u001b[39m=\u001b[39;49m\u001b[39mTrue\u001b[39;49;00m,\n\u001b[0;32m    143\u001b[0m     check\u001b[39m=\u001b[39;49m\u001b[39mTrue\u001b[39;49;00m,\n\u001b[0;32m    144\u001b[0m )\n\u001b[0;32m    146\u001b[0m \u001b[39mreturn\u001b[39;00m DFIELDS2\n",
      "File \u001b[1;32m~\\Documents\\GitHub\\GEMMES\\pygemmes\\_models\\_def_fields.py:1184\u001b[0m, in \u001b[0;36m_complete_DFIELDS\u001b[1;34m(dfields, default_fields, complete, check)\u001b[0m\n\u001b[0;32m   1179\u001b[0m     lstr \u001b[39m=\u001b[39m [\u001b[39mf\u001b[39m\u001b[39m'\u001b[39m\u001b[39m\\t\u001b[39;00m\u001b[39m- \u001b[39m\u001b[39m{\u001b[39;00mk0\u001b[39m}\u001b[39;00m\u001b[39m: \u001b[39m\u001b[39m{\u001b[39;00mv0\u001b[39m}\u001b[39;00m\u001b[39m'\u001b[39m \u001b[39mfor\u001b[39;00m k0, v0 \u001b[39min\u001b[39;00m dfail\u001b[39m.\u001b[39mitems()]\n\u001b[0;32m   1180\u001b[0m     msg \u001b[39m=\u001b[39m (\n\u001b[0;32m   1181\u001b[0m         \u001b[39m\"\u001b[39m\u001b[39mThe followinbg entries in _DFIELDS are not valid:\u001b[39m\u001b[39m\\n\u001b[39;00m\u001b[39m\"\u001b[39m\n\u001b[0;32m   1182\u001b[0m         \u001b[39m+\u001b[39m \u001b[39m\"\u001b[39m\u001b[39m\\n\u001b[39;00m\u001b[39m\"\u001b[39m\u001b[39m.\u001b[39mjoin(lstr)\n\u001b[0;32m   1183\u001b[0m     )\n\u001b[1;32m-> 1184\u001b[0m     \u001b[39mraise\u001b[39;00m \u001b[39mException\u001b[39;00m(msg)\n\u001b[0;32m   1185\u001b[0m \u001b[39mreturn\u001b[39;00m dfields\n",
      "\u001b[1;31mException\u001b[0m: The followinbg entries in _DFIELDS are not valid:\n\t- anewvariable: Non-allowed value for units (['Units', 'y', '$', 'C', 'Tc', 'Humans', 'W', 'L', '', 'undefined', 'undefined', 'undefined', 'undefined', 'undefined', 'undefined', 'undefined', 'undefined', 'undefined', 'undefined'] vs THISISWRONG)"
     ]
    }
   ],
   "source": [
    "hub=chm.Hub('GK')\n",
    "hub.get_summary()"
   ]
  },
  {
   "cell_type": "code",
   "execution_count": 13,
   "metadata": {},
   "outputs": [
    {
     "ename": "AttributeError",
     "evalue": "module 'pygemmes' has no attribute 'hub'",
     "output_type": "error",
     "traceback": [
      "\u001b[1;31m---------------------------------------------------------------------------\u001b[0m",
      "\u001b[1;31mAttributeError\u001b[0m                            Traceback (most recent call last)",
      "Cell \u001b[1;32mIn[13], line 1\u001b[0m\n\u001b[1;32m----> 1\u001b[0m hub\u001b[39m=\u001b[39mchm\u001b[39m.\u001b[39;49mhub(\u001b[39m'\u001b[39m\u001b[39mGK\u001b[39m\u001b[39m'\u001b[39m)\n",
      "\u001b[1;31mAttributeError\u001b[0m: module 'pygemmes' has no attribute 'hub'"
     ]
    }
   ],
   "source": [
    "hub=chm.Hub('GK')"
   ]
  },
  {
   "cell_type": "code",
   "execution_count": null,
   "metadata": {},
   "outputs": [],
   "source": []
  }
 ],
 "metadata": {
  "kernelspec": {
   "display_name": "py3.11",
   "language": "python",
   "name": "python3"
  },
  "language_info": {
   "codemirror_mode": {
    "name": "ipython",
    "version": 3
   },
   "file_extension": ".py",
   "mimetype": "text/x-python",
   "name": "python",
   "nbconvert_exporter": "python",
   "pygments_lexer": "ipython3",
   "version": "3.11.0"
  },
  "orig_nbformat": 4
 },
 "nbformat": 4,
 "nbformat_minor": 2
}
