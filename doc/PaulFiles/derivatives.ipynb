{
 "cells": [
  {
   "cell_type": "code",
   "execution_count": 31,
   "metadata": {},
   "outputs": [
    {
     "name": "stdout",
     "output_type": "stream",
     "text": [
      "Requirement already satisfied: sympy in c:\\programdata\\anaconda3\\envs\\py3.11\\lib\\site-packages (1.12)\n",
      "Requirement already satisfied: mpmath>=0.19 in c:\\programdata\\anaconda3\\envs\\py3.11\\lib\\site-packages (from sympy) (1.3.0)\n"
     ]
    }
   ],
   "source": [
    "!pip install sympy\n",
    "import sympy \n",
    "from IPython.display import display,HTML,Markdown"
   ]
  },
  {
   "attachments": {},
   "cell_type": "markdown",
   "metadata": {},
   "source": [
    "# Goal\n",
    "\n",
    "Calculating all derivatives of every quantity relevant in the model. "
   ]
  },
  {
   "cell_type": "code",
   "execution_count": 97,
   "metadata": {},
   "outputs": [],
   "source": [
    "## Parameters \n",
    "phi0,phi1,Delta,Gamma,nu,Xi, delta, alpha, n,i , phi3,phi4,phi2 = sympy.symbols('phi0,phi1,Delta,Gamma,nu,Xi, delta, alpha, n,i , phi3,phi4,phi2')"
   ]
  },
  {
   "attachments": {},
   "cell_type": "markdown",
   "metadata": {},
   "source": [
    "## Phillips curve:\n",
    "\n",
    "$\\Phi(\\lambda)= -\\phi_0 + \\phi_{\\alpha} \\alpha + \\phi_i i + \\phi_1 (1-\\lambda)^{-\\phi_c}$\n",
    "\n",
    "$\\Phi^{-1}(x) = (1-1/x)^{1/\\phi_c}$ \n",
    "\n",
    "$\\Phi'(\\lambda) = \\phi_c (1-\\lambda)^{-\\phi_c-1}$"
   ]
  },
  {
   "attachments": {},
   "cell_type": "markdown",
   "metadata": {},
   "source": [
    "WE NAME : Phi_c = phi2, phi_i = phi3, phi_{\\alpha}= phi4"
   ]
  },
  {
   "attachments": {},
   "cell_type": "markdown",
   "metadata": {},
   "source": []
  },
  {
   "cell_type": "code",
   "execution_count": 98,
   "metadata": {},
   "outputs": [],
   "source": [
    "\n"
   ]
  },
  {
   "cell_type": "code",
   "execution_count": 90,
   "metadata": {},
   "outputs": [
    {
     "data": {
      "text/latex": [
       "$\\displaystyle \\frac{phic \\left(1 - x\\right)^{- phic}}{1 - x}$"
      ],
      "text/plain": [
       "phic/((1 - x)*(1 - x)**phic)"
      ]
     },
     "execution_count": 90,
     "metadata": {},
     "output_type": "execute_result"
    }
   ],
   "source": []
  },
  {
   "cell_type": "code",
   "execution_count": 105,
   "metadata": {},
   "outputs": [],
   "source": [
    "omegaeq = 1-Gamma-nu*Xi*delta-nu*Xi*(alpha+n)/(1-Delta) # EXPRESSION VERIFIED\n",
    "\n",
    "#modified alpha\n",
    "alphaeq=phi0+alpha*(1-phi4)+i*(1-phi3)\n",
    "lambdaeq=  (1/phi1)*(1-1/alphaeq)**(1/phi2)\n",
    "\n",
    "Omega0 = sympy.sqrt(lambdaeq*omegaeq*((1-Delta)/(nu*Xi*delta))*phi2*(lambdaeq)**(-phi2-1) )\n",
    "\n",
    "#sympy.diff(omegaeq,Delta)"
   ]
  },
  {
   "cell_type": "code",
   "execution_count": 100,
   "metadata": {},
   "outputs": [],
   "source": [
    "## Quasistatic evolution "
   ]
  },
  {
   "cell_type": "code",
   "execution_count": 106,
   "metadata": {},
   "outputs": [
    {
     "data": {
      "text/latex": [
       "$\\displaystyle \\alpha$"
      ],
      "text/plain": [
       "alpha"
      ]
     },
     "metadata": {},
     "output_type": "display_data"
    },
    {
     "data": {
      "text/latex": [
       "$\\displaystyle \\frac{\\Xi \\delta \\nu \\phi_{1} \\left(\\frac{\\left(1 - \\frac{1}{\\alpha \\left(1 - \\phi_{4}\\right) + i \\left(1 - \\phi_{3}\\right) + \\phi_{0}}\\right)^{\\frac{1}{\\phi_{2}}}}{\\phi_{1}}\\right)^{\\phi_{2} + 1} \\sqrt{\\frac{\\phi_{2} \\left(\\frac{\\left(1 - \\frac{1}{\\alpha \\left(1 - \\phi_{4}\\right) + i \\left(1 - \\phi_{3}\\right) + \\phi_{0}}\\right)^{\\frac{1}{\\phi_{2}}}}{\\phi_{1}}\\right)^{- \\phi_{2} - 1} \\cdot \\left(1 - \\Delta\\right) \\left(1 - \\frac{1}{\\alpha \\left(1 - \\phi_{4}\\right) + i \\left(1 - \\phi_{3}\\right) + \\phi_{0}}\\right)^{\\frac{1}{\\phi_{2}}} \\left(- \\Gamma - \\Xi \\delta \\nu - \\frac{\\Xi \\nu \\left(\\alpha + n\\right)}{1 - \\Delta} + 1\\right)}{\\Xi \\delta \\nu \\phi_{1}}} \\left(1 - \\frac{1}{\\alpha \\left(1 - \\phi_{4}\\right) + i \\left(1 - \\phi_{3}\\right) + \\phi_{0}}\\right)^{- \\frac{1}{\\phi_{2}}} \\left(- \\frac{\\phi_{2} \\left(\\frac{\\left(1 - \\frac{1}{\\alpha \\left(1 - \\phi_{4}\\right) + i \\left(1 - \\phi_{3}\\right) + \\phi_{0}}\\right)^{\\frac{1}{\\phi_{2}}}}{\\phi_{1}}\\right)^{- \\phi_{2} - 1} \\left(1 - \\frac{1}{\\alpha \\left(1 - \\phi_{4}\\right) + i \\left(1 - \\phi_{3}\\right) + \\phi_{0}}\\right)^{\\frac{1}{\\phi_{2}}}}{2 \\delta \\phi_{1}} - \\frac{\\left(\\frac{\\left(1 - \\frac{1}{\\alpha \\left(1 - \\phi_{4}\\right) + i \\left(1 - \\phi_{3}\\right) + \\phi_{0}}\\right)^{\\frac{1}{\\phi_{2}}}}{\\phi_{1}}\\right)^{- \\phi_{2} - 1} \\cdot \\left(1 - \\Delta\\right) \\left(1 - \\frac{1}{\\alpha \\left(1 - \\phi_{4}\\right) + i \\left(1 - \\phi_{3}\\right) + \\phi_{0}}\\right)^{\\frac{1}{\\phi_{2}}} \\left(- \\phi_{2} - 1\\right) \\left(\\phi_{4} - 1\\right) \\left(- \\Gamma - \\Xi \\delta \\nu - \\frac{\\Xi \\nu \\left(\\alpha + n\\right)}{1 - \\Delta} + 1\\right)}{2 \\Xi \\delta \\nu \\phi_{1} \\cdot \\left(1 - \\frac{1}{\\alpha \\left(1 - \\phi_{4}\\right) + i \\left(1 - \\phi_{3}\\right) + \\phi_{0}}\\right) \\left(\\alpha \\left(1 - \\phi_{4}\\right) + i \\left(1 - \\phi_{3}\\right) + \\phi_{0}\\right)^{2}} - \\frac{\\left(\\frac{\\left(1 - \\frac{1}{\\alpha \\left(1 - \\phi_{4}\\right) + i \\left(1 - \\phi_{3}\\right) + \\phi_{0}}\\right)^{\\frac{1}{\\phi_{2}}}}{\\phi_{1}}\\right)^{- \\phi_{2} - 1} \\cdot \\left(1 - \\Delta\\right) \\left(1 - \\frac{1}{\\alpha \\left(1 - \\phi_{4}\\right) + i \\left(1 - \\phi_{3}\\right) + \\phi_{0}}\\right)^{\\frac{1}{\\phi_{2}}} \\left(\\phi_{4} - 1\\right) \\left(- \\Gamma - \\Xi \\delta \\nu - \\frac{\\Xi \\nu \\left(\\alpha + n\\right)}{1 - \\Delta} + 1\\right)}{2 \\Xi \\delta \\nu \\phi_{1} \\cdot \\left(1 - \\frac{1}{\\alpha \\left(1 - \\phi_{4}\\right) + i \\left(1 - \\phi_{3}\\right) + \\phi_{0}}\\right) \\left(\\alpha \\left(1 - \\phi_{4}\\right) + i \\left(1 - \\phi_{3}\\right) + \\phi_{0}\\right)^{2}}\\right)}{\\phi_{2} \\cdot \\left(1 - \\Delta\\right) \\left(- \\Gamma - \\Xi \\delta \\nu - \\frac{\\Xi \\nu \\left(\\alpha + n\\right)}{1 - \\Delta} + 1\\right)}$"
      ],
      "text/plain": [
       "Xi*delta*nu*phi1*((1 - 1/(alpha*(1 - phi4) + i*(1 - phi3) + phi0))**(1/phi2)/phi1)**(phi2 + 1)*sqrt(phi2*((1 - 1/(alpha*(1 - phi4) + i*(1 - phi3) + phi0))**(1/phi2)/phi1)**(-phi2 - 1)*(1 - Delta)*(1 - 1/(alpha*(1 - phi4) + i*(1 - phi3) + phi0))**(1/phi2)*(-Gamma - Xi*delta*nu - Xi*nu*(alpha + n)/(1 - Delta) + 1)/(Xi*delta*nu*phi1))*(-phi2*((1 - 1/(alpha*(1 - phi4) + i*(1 - phi3) + phi0))**(1/phi2)/phi1)**(-phi2 - 1)*(1 - 1/(alpha*(1 - phi4) + i*(1 - phi3) + phi0))**(1/phi2)/(2*delta*phi1) - ((1 - 1/(alpha*(1 - phi4) + i*(1 - phi3) + phi0))**(1/phi2)/phi1)**(-phi2 - 1)*(1 - Delta)*(1 - 1/(alpha*(1 - phi4) + i*(1 - phi3) + phi0))**(1/phi2)*(-phi2 - 1)*(phi4 - 1)*(-Gamma - Xi*delta*nu - Xi*nu*(alpha + n)/(1 - Delta) + 1)/(2*Xi*delta*nu*phi1*(1 - 1/(alpha*(1 - phi4) + i*(1 - phi3) + phi0))*(alpha*(1 - phi4) + i*(1 - phi3) + phi0)**2) - ((1 - 1/(alpha*(1 - phi4) + i*(1 - phi3) + phi0))**(1/phi2)/phi1)**(-phi2 - 1)*(1 - Delta)*(1 - 1/(alpha*(1 - phi4) + i*(1 - phi3) + phi0))**(1/phi2)*(phi4 - 1)*(-Gamma - Xi*delta*nu - Xi*nu*(alpha + n)/(1 - Delta) + 1)/(2*Xi*delta*nu*phi1*(1 - 1/(alpha*(1 - phi4) + i*(1 - phi3) + phi0))*(alpha*(1 - phi4) + i*(1 - phi3) + phi0)**2))/(phi2*(1 - Delta)*(1 - 1/(alpha*(1 - phi4) + i*(1 - phi3) + phi0))**(1/phi2)*(-Gamma - Xi*delta*nu - Xi*nu*(alpha + n)/(1 - Delta) + 1))"
      ]
     },
     "metadata": {},
     "output_type": "display_data"
    },
    {
     "name": "stdout",
     "output_type": "stream",
     "text": [
      "$ \\frac{\\Xi \\delta \\nu \\phi_{1} \\left(\\frac{\\left(1 - \\frac{1}{\\alpha \\left(1 - \\phi_{4}\\right) + i \\left(1 - \\phi_{3}\\right) + \\phi_{0}}\\right)^{\\frac{1}{\\phi_{2}}}}{\\phi_{1}}\\right)^{\\phi_{2} + 1} \\sqrt{\\frac{\\phi_{2} \\left(\\frac{\\left(1 - \\frac{1}{\\alpha \\left(1 - \\phi_{4}\\right) + i \\left(1 - \\phi_{3}\\right) + \\phi_{0}}\\right)^{\\frac{1}{\\phi_{2}}}}{\\phi_{1}}\\right)^{- \\phi_{2} - 1} \\cdot \\left(1 - \\Delta\\right) \\left(1 - \\frac{1}{\\alpha \\left(1 - \\phi_{4}\\right) + i \\left(1 - \\phi_{3}\\right) + \\phi_{0}}\\right)^{\\frac{1}{\\phi_{2}}} \\left(- \\Gamma - \\Xi \\delta \\nu - \\frac{\\Xi \\nu \\left(\\alpha + n\\right)}{1 - \\Delta} + 1\\right)}{\\Xi \\delta \\nu \\phi_{1}}} \\left(1 - \\frac{1}{\\alpha \\left(1 - \\phi_{4}\\right) + i \\left(1 - \\phi_{3}\\right) + \\phi_{0}}\\right)^{- \\frac{1}{\\phi_{2}}} \\left(- \\frac{\\phi_{2} \\left(\\frac{\\left(1 - \\frac{1}{\\alpha \\left(1 - \\phi_{4}\\right) + i \\left(1 - \\phi_{3}\\right) + \\phi_{0}}\\right)^{\\frac{1}{\\phi_{2}}}}{\\phi_{1}}\\right)^{- \\phi_{2} - 1} \\left(1 - \\frac{1}{\\alpha \\left(1 - \\phi_{4}\\right) + i \\left(1 - \\phi_{3}\\right) + \\phi_{0}}\\right)^{\\frac{1}{\\phi_{2}}}}{2 \\delta \\phi_{1}} - \\frac{\\left(\\frac{\\left(1 - \\frac{1}{\\alpha \\left(1 - \\phi_{4}\\right) + i \\left(1 - \\phi_{3}\\right) + \\phi_{0}}\\right)^{\\frac{1}{\\phi_{2}}}}{\\phi_{1}}\\right)^{- \\phi_{2} - 1} \\cdot \\left(1 - \\Delta\\right) \\left(1 - \\frac{1}{\\alpha \\left(1 - \\phi_{4}\\right) + i \\left(1 - \\phi_{3}\\right) + \\phi_{0}}\\right)^{\\frac{1}{\\phi_{2}}} \\left(- \\phi_{2} - 1\\right) \\left(\\phi_{4} - 1\\right) \\left(- \\Gamma - \\Xi \\delta \\nu - \\frac{\\Xi \\nu \\left(\\alpha + n\\right)}{1 - \\Delta} + 1\\right)}{2 \\Xi \\delta \\nu \\phi_{1} \\cdot \\left(1 - \\frac{1}{\\alpha \\left(1 - \\phi_{4}\\right) + i \\left(1 - \\phi_{3}\\right) + \\phi_{0}}\\right) \\left(\\alpha \\left(1 - \\phi_{4}\\right) + i \\left(1 - \\phi_{3}\\right) + \\phi_{0}\\right)^{2}} - \\frac{\\left(\\frac{\\left(1 - \\frac{1}{\\alpha \\left(1 - \\phi_{4}\\right) + i \\left(1 - \\phi_{3}\\right) + \\phi_{0}}\\right)^{\\frac{1}{\\phi_{2}}}}{\\phi_{1}}\\right)^{- \\phi_{2} - 1} \\cdot \\left(1 - \\Delta\\right) \\left(1 - \\frac{1}{\\alpha \\left(1 - \\phi_{4}\\right) + i \\left(1 - \\phi_{3}\\right) + \\phi_{0}}\\right)^{\\frac{1}{\\phi_{2}}} \\left(\\phi_{4} - 1\\right) \\left(- \\Gamma - \\Xi \\delta \\nu - \\frac{\\Xi \\nu \\left(\\alpha + n\\right)}{1 - \\Delta} + 1\\right)}{2 \\Xi \\delta \\nu \\phi_{1} \\cdot \\left(1 - \\frac{1}{\\alpha \\left(1 - \\phi_{4}\\right) + i \\left(1 - \\phi_{3}\\right) + \\phi_{0}}\\right) \\left(\\alpha \\left(1 - \\phi_{4}\\right) + i \\left(1 - \\phi_{3}\\right) + \\phi_{0}\\right)^{2}}\\right)}{\\phi_{2} \\cdot \\left(1 - \\Delta\\right) \\left(- \\Gamma - \\Xi \\delta \\nu - \\frac{\\Xi \\nu \\left(\\alpha + n\\right)}{1 - \\Delta} + 1\\right)} $\n",
      "###########\n"
     ]
    },
    {
     "data": {
      "text/latex": [
       "$\\displaystyle n$"
      ],
      "text/plain": [
       "n"
      ]
     },
     "metadata": {},
     "output_type": "display_data"
    },
    {
     "data": {
      "text/latex": [
       "$\\displaystyle - \\frac{\\Xi \\nu \\left(\\frac{\\left(1 - \\frac{1}{\\alpha \\left(1 - \\phi_{4}\\right) + i \\left(1 - \\phi_{3}\\right) + \\phi_{0}}\\right)^{\\frac{1}{\\phi_{2}}}}{\\phi_{1}}\\right)^{- \\phi_{2} - 1} \\left(\\frac{\\left(1 - \\frac{1}{\\alpha \\left(1 - \\phi_{4}\\right) + i \\left(1 - \\phi_{3}\\right) + \\phi_{0}}\\right)^{\\frac{1}{\\phi_{2}}}}{\\phi_{1}}\\right)^{\\phi_{2} + 1} \\sqrt{\\frac{\\phi_{2} \\left(\\frac{\\left(1 - \\frac{1}{\\alpha \\left(1 - \\phi_{4}\\right) + i \\left(1 - \\phi_{3}\\right) + \\phi_{0}}\\right)^{\\frac{1}{\\phi_{2}}}}{\\phi_{1}}\\right)^{- \\phi_{2} - 1} \\cdot \\left(1 - \\Delta\\right) \\left(1 - \\frac{1}{\\alpha \\left(1 - \\phi_{4}\\right) + i \\left(1 - \\phi_{3}\\right) + \\phi_{0}}\\right)^{\\frac{1}{\\phi_{2}}} \\left(- \\Gamma - \\Xi \\delta \\nu - \\frac{\\Xi \\nu \\left(\\alpha + n\\right)}{1 - \\Delta} + 1\\right)}{\\Xi \\delta \\nu \\phi_{1}}}}{2 \\cdot \\left(1 - \\Delta\\right) \\left(- \\Gamma - \\Xi \\delta \\nu - \\frac{\\Xi \\nu \\left(\\alpha + n\\right)}{1 - \\Delta} + 1\\right)}$"
      ],
      "text/plain": [
       "-Xi*nu*((1 - 1/(alpha*(1 - phi4) + i*(1 - phi3) + phi0))**(1/phi2)/phi1)**(-phi2 - 1)*((1 - 1/(alpha*(1 - phi4) + i*(1 - phi3) + phi0))**(1/phi2)/phi1)**(phi2 + 1)*sqrt(phi2*((1 - 1/(alpha*(1 - phi4) + i*(1 - phi3) + phi0))**(1/phi2)/phi1)**(-phi2 - 1)*(1 - Delta)*(1 - 1/(alpha*(1 - phi4) + i*(1 - phi3) + phi0))**(1/phi2)*(-Gamma - Xi*delta*nu - Xi*nu*(alpha + n)/(1 - Delta) + 1)/(Xi*delta*nu*phi1))/(2*(1 - Delta)*(-Gamma - Xi*delta*nu - Xi*nu*(alpha + n)/(1 - Delta) + 1))"
      ]
     },
     "metadata": {},
     "output_type": "display_data"
    },
    {
     "name": "stdout",
     "output_type": "stream",
     "text": [
      "$ - \\frac{\\Xi \\nu \\left(\\frac{\\left(1 - \\frac{1}{\\alpha \\left(1 - \\phi_{4}\\right) + i \\left(1 - \\phi_{3}\\right) + \\phi_{0}}\\right)^{\\frac{1}{\\phi_{2}}}}{\\phi_{1}}\\right)^{- \\phi_{2} - 1} \\left(\\frac{\\left(1 - \\frac{1}{\\alpha \\left(1 - \\phi_{4}\\right) + i \\left(1 - \\phi_{3}\\right) + \\phi_{0}}\\right)^{\\frac{1}{\\phi_{2}}}}{\\phi_{1}}\\right)^{\\phi_{2} + 1} \\sqrt{\\frac{\\phi_{2} \\left(\\frac{\\left(1 - \\frac{1}{\\alpha \\left(1 - \\phi_{4}\\right) + i \\left(1 - \\phi_{3}\\right) + \\phi_{0}}\\right)^{\\frac{1}{\\phi_{2}}}}{\\phi_{1}}\\right)^{- \\phi_{2} - 1} \\cdot \\left(1 - \\Delta\\right) \\left(1 - \\frac{1}{\\alpha \\left(1 - \\phi_{4}\\right) + i \\left(1 - \\phi_{3}\\right) + \\phi_{0}}\\right)^{\\frac{1}{\\phi_{2}}} \\left(- \\Gamma - \\Xi \\delta \\nu - \\frac{\\Xi \\nu \\left(\\alpha + n\\right)}{1 - \\Delta} + 1\\right)}{\\Xi \\delta \\nu \\phi_{1}}}}{2 \\cdot \\left(1 - \\Delta\\right) \\left(- \\Gamma - \\Xi \\delta \\nu - \\frac{\\Xi \\nu \\left(\\alpha + n\\right)}{1 - \\Delta} + 1\\right)} $\n",
      "###########\n"
     ]
    },
    {
     "data": {
      "text/latex": [
       "$\\displaystyle \\delta$"
      ],
      "text/plain": [
       "delta"
      ]
     },
     "metadata": {},
     "output_type": "display_data"
    },
    {
     "data": {
      "text/latex": [
       "$\\displaystyle \\frac{\\Xi \\delta \\nu \\phi_{1} \\left(\\frac{\\left(1 - \\frac{1}{\\alpha \\left(1 - \\phi_{4}\\right) + i \\left(1 - \\phi_{3}\\right) + \\phi_{0}}\\right)^{\\frac{1}{\\phi_{2}}}}{\\phi_{1}}\\right)^{\\phi_{2} + 1} \\sqrt{\\frac{\\phi_{2} \\left(\\frac{\\left(1 - \\frac{1}{\\alpha \\left(1 - \\phi_{4}\\right) + i \\left(1 - \\phi_{3}\\right) + \\phi_{0}}\\right)^{\\frac{1}{\\phi_{2}}}}{\\phi_{1}}\\right)^{- \\phi_{2} - 1} \\cdot \\left(1 - \\Delta\\right) \\left(1 - \\frac{1}{\\alpha \\left(1 - \\phi_{4}\\right) + i \\left(1 - \\phi_{3}\\right) + \\phi_{0}}\\right)^{\\frac{1}{\\phi_{2}}} \\left(- \\Gamma - \\Xi \\delta \\nu - \\frac{\\Xi \\nu \\left(\\alpha + n\\right)}{1 - \\Delta} + 1\\right)}{\\Xi \\delta \\nu \\phi_{1}}} \\left(1 - \\frac{1}{\\alpha \\left(1 - \\phi_{4}\\right) + i \\left(1 - \\phi_{3}\\right) + \\phi_{0}}\\right)^{- \\frac{1}{\\phi_{2}}} \\left(- \\frac{\\phi_{2} \\left(\\frac{\\left(1 - \\frac{1}{\\alpha \\left(1 - \\phi_{4}\\right) + i \\left(1 - \\phi_{3}\\right) + \\phi_{0}}\\right)^{\\frac{1}{\\phi_{2}}}}{\\phi_{1}}\\right)^{- \\phi_{2} - 1} \\cdot \\left(1 - \\Delta\\right) \\left(1 - \\frac{1}{\\alpha \\left(1 - \\phi_{4}\\right) + i \\left(1 - \\phi_{3}\\right) + \\phi_{0}}\\right)^{\\frac{1}{\\phi_{2}}}}{2 \\delta \\phi_{1}} - \\frac{\\phi_{2} \\left(\\frac{\\left(1 - \\frac{1}{\\alpha \\left(1 - \\phi_{4}\\right) + i \\left(1 - \\phi_{3}\\right) + \\phi_{0}}\\right)^{\\frac{1}{\\phi_{2}}}}{\\phi_{1}}\\right)^{- \\phi_{2} - 1} \\cdot \\left(1 - \\Delta\\right) \\left(1 - \\frac{1}{\\alpha \\left(1 - \\phi_{4}\\right) + i \\left(1 - \\phi_{3}\\right) + \\phi_{0}}\\right)^{\\frac{1}{\\phi_{2}}} \\left(- \\Gamma - \\Xi \\delta \\nu - \\frac{\\Xi \\nu \\left(\\alpha + n\\right)}{1 - \\Delta} + 1\\right)}{2 \\Xi \\delta^{2} \\nu \\phi_{1}}\\right)}{\\phi_{2} \\cdot \\left(1 - \\Delta\\right) \\left(- \\Gamma - \\Xi \\delta \\nu - \\frac{\\Xi \\nu \\left(\\alpha + n\\right)}{1 - \\Delta} + 1\\right)}$"
      ],
      "text/plain": [
       "Xi*delta*nu*phi1*((1 - 1/(alpha*(1 - phi4) + i*(1 - phi3) + phi0))**(1/phi2)/phi1)**(phi2 + 1)*sqrt(phi2*((1 - 1/(alpha*(1 - phi4) + i*(1 - phi3) + phi0))**(1/phi2)/phi1)**(-phi2 - 1)*(1 - Delta)*(1 - 1/(alpha*(1 - phi4) + i*(1 - phi3) + phi0))**(1/phi2)*(-Gamma - Xi*delta*nu - Xi*nu*(alpha + n)/(1 - Delta) + 1)/(Xi*delta*nu*phi1))*(-phi2*((1 - 1/(alpha*(1 - phi4) + i*(1 - phi3) + phi0))**(1/phi2)/phi1)**(-phi2 - 1)*(1 - Delta)*(1 - 1/(alpha*(1 - phi4) + i*(1 - phi3) + phi0))**(1/phi2)/(2*delta*phi1) - phi2*((1 - 1/(alpha*(1 - phi4) + i*(1 - phi3) + phi0))**(1/phi2)/phi1)**(-phi2 - 1)*(1 - Delta)*(1 - 1/(alpha*(1 - phi4) + i*(1 - phi3) + phi0))**(1/phi2)*(-Gamma - Xi*delta*nu - Xi*nu*(alpha + n)/(1 - Delta) + 1)/(2*Xi*delta**2*nu*phi1))/(phi2*(1 - Delta)*(1 - 1/(alpha*(1 - phi4) + i*(1 - phi3) + phi0))**(1/phi2)*(-Gamma - Xi*delta*nu - Xi*nu*(alpha + n)/(1 - Delta) + 1))"
      ]
     },
     "metadata": {},
     "output_type": "display_data"
    },
    {
     "name": "stdout",
     "output_type": "stream",
     "text": [
      "$ \\frac{\\Xi \\delta \\nu \\phi_{1} \\left(\\frac{\\left(1 - \\frac{1}{\\alpha \\left(1 - \\phi_{4}\\right) + i \\left(1 - \\phi_{3}\\right) + \\phi_{0}}\\right)^{\\frac{1}{\\phi_{2}}}}{\\phi_{1}}\\right)^{\\phi_{2} + 1} \\sqrt{\\frac{\\phi_{2} \\left(\\frac{\\left(1 - \\frac{1}{\\alpha \\left(1 - \\phi_{4}\\right) + i \\left(1 - \\phi_{3}\\right) + \\phi_{0}}\\right)^{\\frac{1}{\\phi_{2}}}}{\\phi_{1}}\\right)^{- \\phi_{2} - 1} \\cdot \\left(1 - \\Delta\\right) \\left(1 - \\frac{1}{\\alpha \\left(1 - \\phi_{4}\\right) + i \\left(1 - \\phi_{3}\\right) + \\phi_{0}}\\right)^{\\frac{1}{\\phi_{2}}} \\left(- \\Gamma - \\Xi \\delta \\nu - \\frac{\\Xi \\nu \\left(\\alpha + n\\right)}{1 - \\Delta} + 1\\right)}{\\Xi \\delta \\nu \\phi_{1}}} \\left(1 - \\frac{1}{\\alpha \\left(1 - \\phi_{4}\\right) + i \\left(1 - \\phi_{3}\\right) + \\phi_{0}}\\right)^{- \\frac{1}{\\phi_{2}}} \\left(- \\frac{\\phi_{2} \\left(\\frac{\\left(1 - \\frac{1}{\\alpha \\left(1 - \\phi_{4}\\right) + i \\left(1 - \\phi_{3}\\right) + \\phi_{0}}\\right)^{\\frac{1}{\\phi_{2}}}}{\\phi_{1}}\\right)^{- \\phi_{2} - 1} \\cdot \\left(1 - \\Delta\\right) \\left(1 - \\frac{1}{\\alpha \\left(1 - \\phi_{4}\\right) + i \\left(1 - \\phi_{3}\\right) + \\phi_{0}}\\right)^{\\frac{1}{\\phi_{2}}}}{2 \\delta \\phi_{1}} - \\frac{\\phi_{2} \\left(\\frac{\\left(1 - \\frac{1}{\\alpha \\left(1 - \\phi_{4}\\right) + i \\left(1 - \\phi_{3}\\right) + \\phi_{0}}\\right)^{\\frac{1}{\\phi_{2}}}}{\\phi_{1}}\\right)^{- \\phi_{2} - 1} \\cdot \\left(1 - \\Delta\\right) \\left(1 - \\frac{1}{\\alpha \\left(1 - \\phi_{4}\\right) + i \\left(1 - \\phi_{3}\\right) + \\phi_{0}}\\right)^{\\frac{1}{\\phi_{2}}} \\left(- \\Gamma - \\Xi \\delta \\nu - \\frac{\\Xi \\nu \\left(\\alpha + n\\right)}{1 - \\Delta} + 1\\right)}{2 \\Xi \\delta^{2} \\nu \\phi_{1}}\\right)}{\\phi_{2} \\cdot \\left(1 - \\Delta\\right) \\left(- \\Gamma - \\Xi \\delta \\nu - \\frac{\\Xi \\nu \\left(\\alpha + n\\right)}{1 - \\Delta} + 1\\right)} $\n",
      "###########\n"
     ]
    },
    {
     "data": {
      "text/latex": [
       "$\\displaystyle \\nu$"
      ],
      "text/plain": [
       "nu"
      ]
     },
     "metadata": {},
     "output_type": "display_data"
    },
    {
     "data": {
      "text/latex": [
       "$\\displaystyle \\frac{\\Xi \\delta \\nu \\phi_{1} \\left(\\frac{\\left(1 - \\frac{1}{\\alpha \\left(1 - \\phi_{4}\\right) + i \\left(1 - \\phi_{3}\\right) + \\phi_{0}}\\right)^{\\frac{1}{\\phi_{2}}}}{\\phi_{1}}\\right)^{\\phi_{2} + 1} \\sqrt{\\frac{\\phi_{2} \\left(\\frac{\\left(1 - \\frac{1}{\\alpha \\left(1 - \\phi_{4}\\right) + i \\left(1 - \\phi_{3}\\right) + \\phi_{0}}\\right)^{\\frac{1}{\\phi_{2}}}}{\\phi_{1}}\\right)^{- \\phi_{2} - 1} \\cdot \\left(1 - \\Delta\\right) \\left(1 - \\frac{1}{\\alpha \\left(1 - \\phi_{4}\\right) + i \\left(1 - \\phi_{3}\\right) + \\phi_{0}}\\right)^{\\frac{1}{\\phi_{2}}} \\left(- \\Gamma - \\Xi \\delta \\nu - \\frac{\\Xi \\nu \\left(\\alpha + n\\right)}{1 - \\Delta} + 1\\right)}{\\Xi \\delta \\nu \\phi_{1}}} \\left(1 - \\frac{1}{\\alpha \\left(1 - \\phi_{4}\\right) + i \\left(1 - \\phi_{3}\\right) + \\phi_{0}}\\right)^{- \\frac{1}{\\phi_{2}}} \\left(\\frac{\\phi_{2} \\left(\\frac{\\left(1 - \\frac{1}{\\alpha \\left(1 - \\phi_{4}\\right) + i \\left(1 - \\phi_{3}\\right) + \\phi_{0}}\\right)^{\\frac{1}{\\phi_{2}}}}{\\phi_{1}}\\right)^{- \\phi_{2} - 1} \\cdot \\left(1 - \\Delta\\right) \\left(1 - \\frac{1}{\\alpha \\left(1 - \\phi_{4}\\right) + i \\left(1 - \\phi_{3}\\right) + \\phi_{0}}\\right)^{\\frac{1}{\\phi_{2}}} \\left(- \\Xi \\delta - \\frac{\\Xi \\left(\\alpha + n\\right)}{1 - \\Delta}\\right)}{2 \\Xi \\delta \\nu \\phi_{1}} - \\frac{\\phi_{2} \\left(\\frac{\\left(1 - \\frac{1}{\\alpha \\left(1 - \\phi_{4}\\right) + i \\left(1 - \\phi_{3}\\right) + \\phi_{0}}\\right)^{\\frac{1}{\\phi_{2}}}}{\\phi_{1}}\\right)^{- \\phi_{2} - 1} \\cdot \\left(1 - \\Delta\\right) \\left(1 - \\frac{1}{\\alpha \\left(1 - \\phi_{4}\\right) + i \\left(1 - \\phi_{3}\\right) + \\phi_{0}}\\right)^{\\frac{1}{\\phi_{2}}} \\left(- \\Gamma - \\Xi \\delta \\nu - \\frac{\\Xi \\nu \\left(\\alpha + n\\right)}{1 - \\Delta} + 1\\right)}{2 \\Xi \\delta \\nu^{2} \\phi_{1}}\\right)}{\\phi_{2} \\cdot \\left(1 - \\Delta\\right) \\left(- \\Gamma - \\Xi \\delta \\nu - \\frac{\\Xi \\nu \\left(\\alpha + n\\right)}{1 - \\Delta} + 1\\right)}$"
      ],
      "text/plain": [
       "Xi*delta*nu*phi1*((1 - 1/(alpha*(1 - phi4) + i*(1 - phi3) + phi0))**(1/phi2)/phi1)**(phi2 + 1)*sqrt(phi2*((1 - 1/(alpha*(1 - phi4) + i*(1 - phi3) + phi0))**(1/phi2)/phi1)**(-phi2 - 1)*(1 - Delta)*(1 - 1/(alpha*(1 - phi4) + i*(1 - phi3) + phi0))**(1/phi2)*(-Gamma - Xi*delta*nu - Xi*nu*(alpha + n)/(1 - Delta) + 1)/(Xi*delta*nu*phi1))*(phi2*((1 - 1/(alpha*(1 - phi4) + i*(1 - phi3) + phi0))**(1/phi2)/phi1)**(-phi2 - 1)*(1 - Delta)*(1 - 1/(alpha*(1 - phi4) + i*(1 - phi3) + phi0))**(1/phi2)*(-Xi*delta - Xi*(alpha + n)/(1 - Delta))/(2*Xi*delta*nu*phi1) - phi2*((1 - 1/(alpha*(1 - phi4) + i*(1 - phi3) + phi0))**(1/phi2)/phi1)**(-phi2 - 1)*(1 - Delta)*(1 - 1/(alpha*(1 - phi4) + i*(1 - phi3) + phi0))**(1/phi2)*(-Gamma - Xi*delta*nu - Xi*nu*(alpha + n)/(1 - Delta) + 1)/(2*Xi*delta*nu**2*phi1))/(phi2*(1 - Delta)*(1 - 1/(alpha*(1 - phi4) + i*(1 - phi3) + phi0))**(1/phi2)*(-Gamma - Xi*delta*nu - Xi*nu*(alpha + n)/(1 - Delta) + 1))"
      ]
     },
     "metadata": {},
     "output_type": "display_data"
    },
    {
     "name": "stdout",
     "output_type": "stream",
     "text": [
      "$ \\frac{\\Xi \\delta \\nu \\phi_{1} \\left(\\frac{\\left(1 - \\frac{1}{\\alpha \\left(1 - \\phi_{4}\\right) + i \\left(1 - \\phi_{3}\\right) + \\phi_{0}}\\right)^{\\frac{1}{\\phi_{2}}}}{\\phi_{1}}\\right)^{\\phi_{2} + 1} \\sqrt{\\frac{\\phi_{2} \\left(\\frac{\\left(1 - \\frac{1}{\\alpha \\left(1 - \\phi_{4}\\right) + i \\left(1 - \\phi_{3}\\right) + \\phi_{0}}\\right)^{\\frac{1}{\\phi_{2}}}}{\\phi_{1}}\\right)^{- \\phi_{2} - 1} \\cdot \\left(1 - \\Delta\\right) \\left(1 - \\frac{1}{\\alpha \\left(1 - \\phi_{4}\\right) + i \\left(1 - \\phi_{3}\\right) + \\phi_{0}}\\right)^{\\frac{1}{\\phi_{2}}} \\left(- \\Gamma - \\Xi \\delta \\nu - \\frac{\\Xi \\nu \\left(\\alpha + n\\right)}{1 - \\Delta} + 1\\right)}{\\Xi \\delta \\nu \\phi_{1}}} \\left(1 - \\frac{1}{\\alpha \\left(1 - \\phi_{4}\\right) + i \\left(1 - \\phi_{3}\\right) + \\phi_{0}}\\right)^{- \\frac{1}{\\phi_{2}}} \\left(\\frac{\\phi_{2} \\left(\\frac{\\left(1 - \\frac{1}{\\alpha \\left(1 - \\phi_{4}\\right) + i \\left(1 - \\phi_{3}\\right) + \\phi_{0}}\\right)^{\\frac{1}{\\phi_{2}}}}{\\phi_{1}}\\right)^{- \\phi_{2} - 1} \\cdot \\left(1 - \\Delta\\right) \\left(1 - \\frac{1}{\\alpha \\left(1 - \\phi_{4}\\right) + i \\left(1 - \\phi_{3}\\right) + \\phi_{0}}\\right)^{\\frac{1}{\\phi_{2}}} \\left(- \\Xi \\delta - \\frac{\\Xi \\left(\\alpha + n\\right)}{1 - \\Delta}\\right)}{2 \\Xi \\delta \\nu \\phi_{1}} - \\frac{\\phi_{2} \\left(\\frac{\\left(1 - \\frac{1}{\\alpha \\left(1 - \\phi_{4}\\right) + i \\left(1 - \\phi_{3}\\right) + \\phi_{0}}\\right)^{\\frac{1}{\\phi_{2}}}}{\\phi_{1}}\\right)^{- \\phi_{2} - 1} \\cdot \\left(1 - \\Delta\\right) \\left(1 - \\frac{1}{\\alpha \\left(1 - \\phi_{4}\\right) + i \\left(1 - \\phi_{3}\\right) + \\phi_{0}}\\right)^{\\frac{1}{\\phi_{2}}} \\left(- \\Gamma - \\Xi \\delta \\nu - \\frac{\\Xi \\nu \\left(\\alpha + n\\right)}{1 - \\Delta} + 1\\right)}{2 \\Xi \\delta \\nu^{2} \\phi_{1}}\\right)}{\\phi_{2} \\cdot \\left(1 - \\Delta\\right) \\left(- \\Gamma - \\Xi \\delta \\nu - \\frac{\\Xi \\nu \\left(\\alpha + n\\right)}{1 - \\Delta} + 1\\right)} $\n",
      "###########\n"
     ]
    },
    {
     "data": {
      "text/latex": [
       "$\\displaystyle \\Gamma$"
      ],
      "text/plain": [
       "Gamma"
      ]
     },
     "metadata": {},
     "output_type": "display_data"
    },
    {
     "data": {
      "text/latex": [
       "$\\displaystyle - \\frac{\\left(\\frac{\\left(1 - \\frac{1}{\\alpha \\left(1 - \\phi_{4}\\right) + i \\left(1 - \\phi_{3}\\right) + \\phi_{0}}\\right)^{\\frac{1}{\\phi_{2}}}}{\\phi_{1}}\\right)^{- \\phi_{2} - 1} \\left(\\frac{\\left(1 - \\frac{1}{\\alpha \\left(1 - \\phi_{4}\\right) + i \\left(1 - \\phi_{3}\\right) + \\phi_{0}}\\right)^{\\frac{1}{\\phi_{2}}}}{\\phi_{1}}\\right)^{\\phi_{2} + 1} \\sqrt{\\frac{\\phi_{2} \\left(\\frac{\\left(1 - \\frac{1}{\\alpha \\left(1 - \\phi_{4}\\right) + i \\left(1 - \\phi_{3}\\right) + \\phi_{0}}\\right)^{\\frac{1}{\\phi_{2}}}}{\\phi_{1}}\\right)^{- \\phi_{2} - 1} \\cdot \\left(1 - \\Delta\\right) \\left(1 - \\frac{1}{\\alpha \\left(1 - \\phi_{4}\\right) + i \\left(1 - \\phi_{3}\\right) + \\phi_{0}}\\right)^{\\frac{1}{\\phi_{2}}} \\left(- \\Gamma - \\Xi \\delta \\nu - \\frac{\\Xi \\nu \\left(\\alpha + n\\right)}{1 - \\Delta} + 1\\right)}{\\Xi \\delta \\nu \\phi_{1}}}}{2 \\left(- \\Gamma - \\Xi \\delta \\nu - \\frac{\\Xi \\nu \\left(\\alpha + n\\right)}{1 - \\Delta} + 1\\right)}$"
      ],
      "text/plain": [
       "-((1 - 1/(alpha*(1 - phi4) + i*(1 - phi3) + phi0))**(1/phi2)/phi1)**(-phi2 - 1)*((1 - 1/(alpha*(1 - phi4) + i*(1 - phi3) + phi0))**(1/phi2)/phi1)**(phi2 + 1)*sqrt(phi2*((1 - 1/(alpha*(1 - phi4) + i*(1 - phi3) + phi0))**(1/phi2)/phi1)**(-phi2 - 1)*(1 - Delta)*(1 - 1/(alpha*(1 - phi4) + i*(1 - phi3) + phi0))**(1/phi2)*(-Gamma - Xi*delta*nu - Xi*nu*(alpha + n)/(1 - Delta) + 1)/(Xi*delta*nu*phi1))/(2*(-Gamma - Xi*delta*nu - Xi*nu*(alpha + n)/(1 - Delta) + 1))"
      ]
     },
     "metadata": {},
     "output_type": "display_data"
    },
    {
     "name": "stdout",
     "output_type": "stream",
     "text": [
      "$ - \\frac{\\left(\\frac{\\left(1 - \\frac{1}{\\alpha \\left(1 - \\phi_{4}\\right) + i \\left(1 - \\phi_{3}\\right) + \\phi_{0}}\\right)^{\\frac{1}{\\phi_{2}}}}{\\phi_{1}}\\right)^{- \\phi_{2} - 1} \\left(\\frac{\\left(1 - \\frac{1}{\\alpha \\left(1 - \\phi_{4}\\right) + i \\left(1 - \\phi_{3}\\right) + \\phi_{0}}\\right)^{\\frac{1}{\\phi_{2}}}}{\\phi_{1}}\\right)^{\\phi_{2} + 1} \\sqrt{\\frac{\\phi_{2} \\left(\\frac{\\left(1 - \\frac{1}{\\alpha \\left(1 - \\phi_{4}\\right) + i \\left(1 - \\phi_{3}\\right) + \\phi_{0}}\\right)^{\\frac{1}{\\phi_{2}}}}{\\phi_{1}}\\right)^{- \\phi_{2} - 1} \\cdot \\left(1 - \\Delta\\right) \\left(1 - \\frac{1}{\\alpha \\left(1 - \\phi_{4}\\right) + i \\left(1 - \\phi_{3}\\right) + \\phi_{0}}\\right)^{\\frac{1}{\\phi_{2}}} \\left(- \\Gamma - \\Xi \\delta \\nu - \\frac{\\Xi \\nu \\left(\\alpha + n\\right)}{1 - \\Delta} + 1\\right)}{\\Xi \\delta \\nu \\phi_{1}}}}{2 \\left(- \\Gamma - \\Xi \\delta \\nu - \\frac{\\Xi \\nu \\left(\\alpha + n\\right)}{1 - \\Delta} + 1\\right)} $\n",
      "###########\n"
     ]
    },
    {
     "data": {
      "text/latex": [
       "$\\displaystyle \\Xi$"
      ],
      "text/plain": [
       "Xi"
      ]
     },
     "metadata": {},
     "output_type": "display_data"
    },
    {
     "data": {
      "text/latex": [
       "$\\displaystyle \\frac{\\Xi \\delta \\nu \\phi_{1} \\left(\\frac{\\left(1 - \\frac{1}{\\alpha \\left(1 - \\phi_{4}\\right) + i \\left(1 - \\phi_{3}\\right) + \\phi_{0}}\\right)^{\\frac{1}{\\phi_{2}}}}{\\phi_{1}}\\right)^{\\phi_{2} + 1} \\sqrt{\\frac{\\phi_{2} \\left(\\frac{\\left(1 - \\frac{1}{\\alpha \\left(1 - \\phi_{4}\\right) + i \\left(1 - \\phi_{3}\\right) + \\phi_{0}}\\right)^{\\frac{1}{\\phi_{2}}}}{\\phi_{1}}\\right)^{- \\phi_{2} - 1} \\cdot \\left(1 - \\Delta\\right) \\left(1 - \\frac{1}{\\alpha \\left(1 - \\phi_{4}\\right) + i \\left(1 - \\phi_{3}\\right) + \\phi_{0}}\\right)^{\\frac{1}{\\phi_{2}}} \\left(- \\Gamma - \\Xi \\delta \\nu - \\frac{\\Xi \\nu \\left(\\alpha + n\\right)}{1 - \\Delta} + 1\\right)}{\\Xi \\delta \\nu \\phi_{1}}} \\left(1 - \\frac{1}{\\alpha \\left(1 - \\phi_{4}\\right) + i \\left(1 - \\phi_{3}\\right) + \\phi_{0}}\\right)^{- \\frac{1}{\\phi_{2}}} \\left(\\frac{\\phi_{2} \\left(\\frac{\\left(1 - \\frac{1}{\\alpha \\left(1 - \\phi_{4}\\right) + i \\left(1 - \\phi_{3}\\right) + \\phi_{0}}\\right)^{\\frac{1}{\\phi_{2}}}}{\\phi_{1}}\\right)^{- \\phi_{2} - 1} \\cdot \\left(1 - \\Delta\\right) \\left(1 - \\frac{1}{\\alpha \\left(1 - \\phi_{4}\\right) + i \\left(1 - \\phi_{3}\\right) + \\phi_{0}}\\right)^{\\frac{1}{\\phi_{2}}} \\left(- \\delta \\nu - \\frac{\\nu \\left(\\alpha + n\\right)}{1 - \\Delta}\\right)}{2 \\Xi \\delta \\nu \\phi_{1}} - \\frac{\\phi_{2} \\left(\\frac{\\left(1 - \\frac{1}{\\alpha \\left(1 - \\phi_{4}\\right) + i \\left(1 - \\phi_{3}\\right) + \\phi_{0}}\\right)^{\\frac{1}{\\phi_{2}}}}{\\phi_{1}}\\right)^{- \\phi_{2} - 1} \\cdot \\left(1 - \\Delta\\right) \\left(1 - \\frac{1}{\\alpha \\left(1 - \\phi_{4}\\right) + i \\left(1 - \\phi_{3}\\right) + \\phi_{0}}\\right)^{\\frac{1}{\\phi_{2}}} \\left(- \\Gamma - \\Xi \\delta \\nu - \\frac{\\Xi \\nu \\left(\\alpha + n\\right)}{1 - \\Delta} + 1\\right)}{2 \\Xi^{2} \\delta \\nu \\phi_{1}}\\right)}{\\phi_{2} \\cdot \\left(1 - \\Delta\\right) \\left(- \\Gamma - \\Xi \\delta \\nu - \\frac{\\Xi \\nu \\left(\\alpha + n\\right)}{1 - \\Delta} + 1\\right)}$"
      ],
      "text/plain": [
       "Xi*delta*nu*phi1*((1 - 1/(alpha*(1 - phi4) + i*(1 - phi3) + phi0))**(1/phi2)/phi1)**(phi2 + 1)*sqrt(phi2*((1 - 1/(alpha*(1 - phi4) + i*(1 - phi3) + phi0))**(1/phi2)/phi1)**(-phi2 - 1)*(1 - Delta)*(1 - 1/(alpha*(1 - phi4) + i*(1 - phi3) + phi0))**(1/phi2)*(-Gamma - Xi*delta*nu - Xi*nu*(alpha + n)/(1 - Delta) + 1)/(Xi*delta*nu*phi1))*(phi2*((1 - 1/(alpha*(1 - phi4) + i*(1 - phi3) + phi0))**(1/phi2)/phi1)**(-phi2 - 1)*(1 - Delta)*(1 - 1/(alpha*(1 - phi4) + i*(1 - phi3) + phi0))**(1/phi2)*(-delta*nu - nu*(alpha + n)/(1 - Delta))/(2*Xi*delta*nu*phi1) - phi2*((1 - 1/(alpha*(1 - phi4) + i*(1 - phi3) + phi0))**(1/phi2)/phi1)**(-phi2 - 1)*(1 - Delta)*(1 - 1/(alpha*(1 - phi4) + i*(1 - phi3) + phi0))**(1/phi2)*(-Gamma - Xi*delta*nu - Xi*nu*(alpha + n)/(1 - Delta) + 1)/(2*Xi**2*delta*nu*phi1))/(phi2*(1 - Delta)*(1 - 1/(alpha*(1 - phi4) + i*(1 - phi3) + phi0))**(1/phi2)*(-Gamma - Xi*delta*nu - Xi*nu*(alpha + n)/(1 - Delta) + 1))"
      ]
     },
     "metadata": {},
     "output_type": "display_data"
    },
    {
     "name": "stdout",
     "output_type": "stream",
     "text": [
      "$ \\frac{\\Xi \\delta \\nu \\phi_{1} \\left(\\frac{\\left(1 - \\frac{1}{\\alpha \\left(1 - \\phi_{4}\\right) + i \\left(1 - \\phi_{3}\\right) + \\phi_{0}}\\right)^{\\frac{1}{\\phi_{2}}}}{\\phi_{1}}\\right)^{\\phi_{2} + 1} \\sqrt{\\frac{\\phi_{2} \\left(\\frac{\\left(1 - \\frac{1}{\\alpha \\left(1 - \\phi_{4}\\right) + i \\left(1 - \\phi_{3}\\right) + \\phi_{0}}\\right)^{\\frac{1}{\\phi_{2}}}}{\\phi_{1}}\\right)^{- \\phi_{2} - 1} \\cdot \\left(1 - \\Delta\\right) \\left(1 - \\frac{1}{\\alpha \\left(1 - \\phi_{4}\\right) + i \\left(1 - \\phi_{3}\\right) + \\phi_{0}}\\right)^{\\frac{1}{\\phi_{2}}} \\left(- \\Gamma - \\Xi \\delta \\nu - \\frac{\\Xi \\nu \\left(\\alpha + n\\right)}{1 - \\Delta} + 1\\right)}{\\Xi \\delta \\nu \\phi_{1}}} \\left(1 - \\frac{1}{\\alpha \\left(1 - \\phi_{4}\\right) + i \\left(1 - \\phi_{3}\\right) + \\phi_{0}}\\right)^{- \\frac{1}{\\phi_{2}}} \\left(\\frac{\\phi_{2} \\left(\\frac{\\left(1 - \\frac{1}{\\alpha \\left(1 - \\phi_{4}\\right) + i \\left(1 - \\phi_{3}\\right) + \\phi_{0}}\\right)^{\\frac{1}{\\phi_{2}}}}{\\phi_{1}}\\right)^{- \\phi_{2} - 1} \\cdot \\left(1 - \\Delta\\right) \\left(1 - \\frac{1}{\\alpha \\left(1 - \\phi_{4}\\right) + i \\left(1 - \\phi_{3}\\right) + \\phi_{0}}\\right)^{\\frac{1}{\\phi_{2}}} \\left(- \\delta \\nu - \\frac{\\nu \\left(\\alpha + n\\right)}{1 - \\Delta}\\right)}{2 \\Xi \\delta \\nu \\phi_{1}} - \\frac{\\phi_{2} \\left(\\frac{\\left(1 - \\frac{1}{\\alpha \\left(1 - \\phi_{4}\\right) + i \\left(1 - \\phi_{3}\\right) + \\phi_{0}}\\right)^{\\frac{1}{\\phi_{2}}}}{\\phi_{1}}\\right)^{- \\phi_{2} - 1} \\cdot \\left(1 - \\Delta\\right) \\left(1 - \\frac{1}{\\alpha \\left(1 - \\phi_{4}\\right) + i \\left(1 - \\phi_{3}\\right) + \\phi_{0}}\\right)^{\\frac{1}{\\phi_{2}}} \\left(- \\Gamma - \\Xi \\delta \\nu - \\frac{\\Xi \\nu \\left(\\alpha + n\\right)}{1 - \\Delta} + 1\\right)}{2 \\Xi^{2} \\delta \\nu \\phi_{1}}\\right)}{\\phi_{2} \\cdot \\left(1 - \\Delta\\right) \\left(- \\Gamma - \\Xi \\delta \\nu - \\frac{\\Xi \\nu \\left(\\alpha + n\\right)}{1 - \\Delta} + 1\\right)} $\n",
      "###########\n"
     ]
    },
    {
     "data": {
      "text/latex": [
       "$\\displaystyle \\Delta$"
      ],
      "text/plain": [
       "Delta"
      ]
     },
     "metadata": {},
     "output_type": "display_data"
    },
    {
     "data": {
      "text/latex": [
       "$\\displaystyle \\frac{\\Xi \\delta \\nu \\phi_{1} \\left(\\frac{\\left(1 - \\frac{1}{\\alpha \\left(1 - \\phi_{4}\\right) + i \\left(1 - \\phi_{3}\\right) + \\phi_{0}}\\right)^{\\frac{1}{\\phi_{2}}}}{\\phi_{1}}\\right)^{\\phi_{2} + 1} \\sqrt{\\frac{\\phi_{2} \\left(\\frac{\\left(1 - \\frac{1}{\\alpha \\left(1 - \\phi_{4}\\right) + i \\left(1 - \\phi_{3}\\right) + \\phi_{0}}\\right)^{\\frac{1}{\\phi_{2}}}}{\\phi_{1}}\\right)^{- \\phi_{2} - 1} \\cdot \\left(1 - \\Delta\\right) \\left(1 - \\frac{1}{\\alpha \\left(1 - \\phi_{4}\\right) + i \\left(1 - \\phi_{3}\\right) + \\phi_{0}}\\right)^{\\frac{1}{\\phi_{2}}} \\left(- \\Gamma - \\Xi \\delta \\nu - \\frac{\\Xi \\nu \\left(\\alpha + n\\right)}{1 - \\Delta} + 1\\right)}{\\Xi \\delta \\nu \\phi_{1}}} \\left(1 - \\frac{1}{\\alpha \\left(1 - \\phi_{4}\\right) + i \\left(1 - \\phi_{3}\\right) + \\phi_{0}}\\right)^{- \\frac{1}{\\phi_{2}}} \\left(- \\frac{\\phi_{2} \\left(\\frac{\\left(1 - \\frac{1}{\\alpha \\left(1 - \\phi_{4}\\right) + i \\left(1 - \\phi_{3}\\right) + \\phi_{0}}\\right)^{\\frac{1}{\\phi_{2}}}}{\\phi_{1}}\\right)^{- \\phi_{2} - 1} \\left(1 - \\frac{1}{\\alpha \\left(1 - \\phi_{4}\\right) + i \\left(1 - \\phi_{3}\\right) + \\phi_{0}}\\right)^{\\frac{1}{\\phi_{2}}} \\left(\\alpha + n\\right)}{2 \\delta \\phi_{1} \\cdot \\left(1 - \\Delta\\right)} - \\frac{\\phi_{2} \\left(\\frac{\\left(1 - \\frac{1}{\\alpha \\left(1 - \\phi_{4}\\right) + i \\left(1 - \\phi_{3}\\right) + \\phi_{0}}\\right)^{\\frac{1}{\\phi_{2}}}}{\\phi_{1}}\\right)^{- \\phi_{2} - 1} \\left(1 - \\frac{1}{\\alpha \\left(1 - \\phi_{4}\\right) + i \\left(1 - \\phi_{3}\\right) + \\phi_{0}}\\right)^{\\frac{1}{\\phi_{2}}} \\left(- \\Gamma - \\Xi \\delta \\nu - \\frac{\\Xi \\nu \\left(\\alpha + n\\right)}{1 - \\Delta} + 1\\right)}{2 \\Xi \\delta \\nu \\phi_{1}}\\right)}{\\phi_{2} \\cdot \\left(1 - \\Delta\\right) \\left(- \\Gamma - \\Xi \\delta \\nu - \\frac{\\Xi \\nu \\left(\\alpha + n\\right)}{1 - \\Delta} + 1\\right)}$"
      ],
      "text/plain": [
       "Xi*delta*nu*phi1*((1 - 1/(alpha*(1 - phi4) + i*(1 - phi3) + phi0))**(1/phi2)/phi1)**(phi2 + 1)*sqrt(phi2*((1 - 1/(alpha*(1 - phi4) + i*(1 - phi3) + phi0))**(1/phi2)/phi1)**(-phi2 - 1)*(1 - Delta)*(1 - 1/(alpha*(1 - phi4) + i*(1 - phi3) + phi0))**(1/phi2)*(-Gamma - Xi*delta*nu - Xi*nu*(alpha + n)/(1 - Delta) + 1)/(Xi*delta*nu*phi1))*(-phi2*((1 - 1/(alpha*(1 - phi4) + i*(1 - phi3) + phi0))**(1/phi2)/phi1)**(-phi2 - 1)*(1 - 1/(alpha*(1 - phi4) + i*(1 - phi3) + phi0))**(1/phi2)*(alpha + n)/(2*delta*phi1*(1 - Delta)) - phi2*((1 - 1/(alpha*(1 - phi4) + i*(1 - phi3) + phi0))**(1/phi2)/phi1)**(-phi2 - 1)*(1 - 1/(alpha*(1 - phi4) + i*(1 - phi3) + phi0))**(1/phi2)*(-Gamma - Xi*delta*nu - Xi*nu*(alpha + n)/(1 - Delta) + 1)/(2*Xi*delta*nu*phi1))/(phi2*(1 - Delta)*(1 - 1/(alpha*(1 - phi4) + i*(1 - phi3) + phi0))**(1/phi2)*(-Gamma - Xi*delta*nu - Xi*nu*(alpha + n)/(1 - Delta) + 1))"
      ]
     },
     "metadata": {},
     "output_type": "display_data"
    },
    {
     "name": "stdout",
     "output_type": "stream",
     "text": [
      "$ \\frac{\\Xi \\delta \\nu \\phi_{1} \\left(\\frac{\\left(1 - \\frac{1}{\\alpha \\left(1 - \\phi_{4}\\right) + i \\left(1 - \\phi_{3}\\right) + \\phi_{0}}\\right)^{\\frac{1}{\\phi_{2}}}}{\\phi_{1}}\\right)^{\\phi_{2} + 1} \\sqrt{\\frac{\\phi_{2} \\left(\\frac{\\left(1 - \\frac{1}{\\alpha \\left(1 - \\phi_{4}\\right) + i \\left(1 - \\phi_{3}\\right) + \\phi_{0}}\\right)^{\\frac{1}{\\phi_{2}}}}{\\phi_{1}}\\right)^{- \\phi_{2} - 1} \\cdot \\left(1 - \\Delta\\right) \\left(1 - \\frac{1}{\\alpha \\left(1 - \\phi_{4}\\right) + i \\left(1 - \\phi_{3}\\right) + \\phi_{0}}\\right)^{\\frac{1}{\\phi_{2}}} \\left(- \\Gamma - \\Xi \\delta \\nu - \\frac{\\Xi \\nu \\left(\\alpha + n\\right)}{1 - \\Delta} + 1\\right)}{\\Xi \\delta \\nu \\phi_{1}}} \\left(1 - \\frac{1}{\\alpha \\left(1 - \\phi_{4}\\right) + i \\left(1 - \\phi_{3}\\right) + \\phi_{0}}\\right)^{- \\frac{1}{\\phi_{2}}} \\left(- \\frac{\\phi_{2} \\left(\\frac{\\left(1 - \\frac{1}{\\alpha \\left(1 - \\phi_{4}\\right) + i \\left(1 - \\phi_{3}\\right) + \\phi_{0}}\\right)^{\\frac{1}{\\phi_{2}}}}{\\phi_{1}}\\right)^{- \\phi_{2} - 1} \\left(1 - \\frac{1}{\\alpha \\left(1 - \\phi_{4}\\right) + i \\left(1 - \\phi_{3}\\right) + \\phi_{0}}\\right)^{\\frac{1}{\\phi_{2}}} \\left(\\alpha + n\\right)}{2 \\delta \\phi_{1} \\cdot \\left(1 - \\Delta\\right)} - \\frac{\\phi_{2} \\left(\\frac{\\left(1 - \\frac{1}{\\alpha \\left(1 - \\phi_{4}\\right) + i \\left(1 - \\phi_{3}\\right) + \\phi_{0}}\\right)^{\\frac{1}{\\phi_{2}}}}{\\phi_{1}}\\right)^{- \\phi_{2} - 1} \\left(1 - \\frac{1}{\\alpha \\left(1 - \\phi_{4}\\right) + i \\left(1 - \\phi_{3}\\right) + \\phi_{0}}\\right)^{\\frac{1}{\\phi_{2}}} \\left(- \\Gamma - \\Xi \\delta \\nu - \\frac{\\Xi \\nu \\left(\\alpha + n\\right)}{1 - \\Delta} + 1\\right)}{2 \\Xi \\delta \\nu \\phi_{1}}\\right)}{\\phi_{2} \\cdot \\left(1 - \\Delta\\right) \\left(- \\Gamma - \\Xi \\delta \\nu - \\frac{\\Xi \\nu \\left(\\alpha + n\\right)}{1 - \\Delta} + 1\\right)} $\n",
      "###########\n"
     ]
    },
    {
     "data": {
      "text/latex": [
       "$\\displaystyle i$"
      ],
      "text/plain": [
       "i"
      ]
     },
     "metadata": {},
     "output_type": "display_data"
    },
    {
     "data": {
      "text/latex": [
       "$\\displaystyle \\frac{\\Xi \\delta \\nu \\phi_{1} \\left(\\frac{\\left(1 - \\frac{1}{\\alpha \\left(1 - \\phi_{4}\\right) + i \\left(1 - \\phi_{3}\\right) + \\phi_{0}}\\right)^{\\frac{1}{\\phi_{2}}}}{\\phi_{1}}\\right)^{\\phi_{2} + 1} \\sqrt{\\frac{\\phi_{2} \\left(\\frac{\\left(1 - \\frac{1}{\\alpha \\left(1 - \\phi_{4}\\right) + i \\left(1 - \\phi_{3}\\right) + \\phi_{0}}\\right)^{\\frac{1}{\\phi_{2}}}}{\\phi_{1}}\\right)^{- \\phi_{2} - 1} \\cdot \\left(1 - \\Delta\\right) \\left(1 - \\frac{1}{\\alpha \\left(1 - \\phi_{4}\\right) + i \\left(1 - \\phi_{3}\\right) + \\phi_{0}}\\right)^{\\frac{1}{\\phi_{2}}} \\left(- \\Gamma - \\Xi \\delta \\nu - \\frac{\\Xi \\nu \\left(\\alpha + n\\right)}{1 - \\Delta} + 1\\right)}{\\Xi \\delta \\nu \\phi_{1}}} \\left(1 - \\frac{1}{\\alpha \\left(1 - \\phi_{4}\\right) + i \\left(1 - \\phi_{3}\\right) + \\phi_{0}}\\right)^{- \\frac{1}{\\phi_{2}}} \\left(- \\frac{\\left(\\frac{\\left(1 - \\frac{1}{\\alpha \\left(1 - \\phi_{4}\\right) + i \\left(1 - \\phi_{3}\\right) + \\phi_{0}}\\right)^{\\frac{1}{\\phi_{2}}}}{\\phi_{1}}\\right)^{- \\phi_{2} - 1} \\cdot \\left(1 - \\Delta\\right) \\left(1 - \\frac{1}{\\alpha \\left(1 - \\phi_{4}\\right) + i \\left(1 - \\phi_{3}\\right) + \\phi_{0}}\\right)^{\\frac{1}{\\phi_{2}}} \\left(- \\phi_{2} - 1\\right) \\left(\\phi_{3} - 1\\right) \\left(- \\Gamma - \\Xi \\delta \\nu - \\frac{\\Xi \\nu \\left(\\alpha + n\\right)}{1 - \\Delta} + 1\\right)}{2 \\Xi \\delta \\nu \\phi_{1} \\cdot \\left(1 - \\frac{1}{\\alpha \\left(1 - \\phi_{4}\\right) + i \\left(1 - \\phi_{3}\\right) + \\phi_{0}}\\right) \\left(\\alpha \\left(1 - \\phi_{4}\\right) + i \\left(1 - \\phi_{3}\\right) + \\phi_{0}\\right)^{2}} - \\frac{\\left(\\frac{\\left(1 - \\frac{1}{\\alpha \\left(1 - \\phi_{4}\\right) + i \\left(1 - \\phi_{3}\\right) + \\phi_{0}}\\right)^{\\frac{1}{\\phi_{2}}}}{\\phi_{1}}\\right)^{- \\phi_{2} - 1} \\cdot \\left(1 - \\Delta\\right) \\left(1 - \\frac{1}{\\alpha \\left(1 - \\phi_{4}\\right) + i \\left(1 - \\phi_{3}\\right) + \\phi_{0}}\\right)^{\\frac{1}{\\phi_{2}}} \\left(\\phi_{3} - 1\\right) \\left(- \\Gamma - \\Xi \\delta \\nu - \\frac{\\Xi \\nu \\left(\\alpha + n\\right)}{1 - \\Delta} + 1\\right)}{2 \\Xi \\delta \\nu \\phi_{1} \\cdot \\left(1 - \\frac{1}{\\alpha \\left(1 - \\phi_{4}\\right) + i \\left(1 - \\phi_{3}\\right) + \\phi_{0}}\\right) \\left(\\alpha \\left(1 - \\phi_{4}\\right) + i \\left(1 - \\phi_{3}\\right) + \\phi_{0}\\right)^{2}}\\right)}{\\phi_{2} \\cdot \\left(1 - \\Delta\\right) \\left(- \\Gamma - \\Xi \\delta \\nu - \\frac{\\Xi \\nu \\left(\\alpha + n\\right)}{1 - \\Delta} + 1\\right)}$"
      ],
      "text/plain": [
       "Xi*delta*nu*phi1*((1 - 1/(alpha*(1 - phi4) + i*(1 - phi3) + phi0))**(1/phi2)/phi1)**(phi2 + 1)*sqrt(phi2*((1 - 1/(alpha*(1 - phi4) + i*(1 - phi3) + phi0))**(1/phi2)/phi1)**(-phi2 - 1)*(1 - Delta)*(1 - 1/(alpha*(1 - phi4) + i*(1 - phi3) + phi0))**(1/phi2)*(-Gamma - Xi*delta*nu - Xi*nu*(alpha + n)/(1 - Delta) + 1)/(Xi*delta*nu*phi1))*(-((1 - 1/(alpha*(1 - phi4) + i*(1 - phi3) + phi0))**(1/phi2)/phi1)**(-phi2 - 1)*(1 - Delta)*(1 - 1/(alpha*(1 - phi4) + i*(1 - phi3) + phi0))**(1/phi2)*(-phi2 - 1)*(phi3 - 1)*(-Gamma - Xi*delta*nu - Xi*nu*(alpha + n)/(1 - Delta) + 1)/(2*Xi*delta*nu*phi1*(1 - 1/(alpha*(1 - phi4) + i*(1 - phi3) + phi0))*(alpha*(1 - phi4) + i*(1 - phi3) + phi0)**2) - ((1 - 1/(alpha*(1 - phi4) + i*(1 - phi3) + phi0))**(1/phi2)/phi1)**(-phi2 - 1)*(1 - Delta)*(1 - 1/(alpha*(1 - phi4) + i*(1 - phi3) + phi0))**(1/phi2)*(phi3 - 1)*(-Gamma - Xi*delta*nu - Xi*nu*(alpha + n)/(1 - Delta) + 1)/(2*Xi*delta*nu*phi1*(1 - 1/(alpha*(1 - phi4) + i*(1 - phi3) + phi0))*(alpha*(1 - phi4) + i*(1 - phi3) + phi0)**2))/(phi2*(1 - Delta)*(1 - 1/(alpha*(1 - phi4) + i*(1 - phi3) + phi0))**(1/phi2)*(-Gamma - Xi*delta*nu - Xi*nu*(alpha + n)/(1 - Delta) + 1))"
      ]
     },
     "metadata": {},
     "output_type": "display_data"
    },
    {
     "name": "stdout",
     "output_type": "stream",
     "text": [
      "$ \\frac{\\Xi \\delta \\nu \\phi_{1} \\left(\\frac{\\left(1 - \\frac{1}{\\alpha \\left(1 - \\phi_{4}\\right) + i \\left(1 - \\phi_{3}\\right) + \\phi_{0}}\\right)^{\\frac{1}{\\phi_{2}}}}{\\phi_{1}}\\right)^{\\phi_{2} + 1} \\sqrt{\\frac{\\phi_{2} \\left(\\frac{\\left(1 - \\frac{1}{\\alpha \\left(1 - \\phi_{4}\\right) + i \\left(1 - \\phi_{3}\\right) + \\phi_{0}}\\right)^{\\frac{1}{\\phi_{2}}}}{\\phi_{1}}\\right)^{- \\phi_{2} - 1} \\cdot \\left(1 - \\Delta\\right) \\left(1 - \\frac{1}{\\alpha \\left(1 - \\phi_{4}\\right) + i \\left(1 - \\phi_{3}\\right) + \\phi_{0}}\\right)^{\\frac{1}{\\phi_{2}}} \\left(- \\Gamma - \\Xi \\delta \\nu - \\frac{\\Xi \\nu \\left(\\alpha + n\\right)}{1 - \\Delta} + 1\\right)}{\\Xi \\delta \\nu \\phi_{1}}} \\left(1 - \\frac{1}{\\alpha \\left(1 - \\phi_{4}\\right) + i \\left(1 - \\phi_{3}\\right) + \\phi_{0}}\\right)^{- \\frac{1}{\\phi_{2}}} \\left(- \\frac{\\left(\\frac{\\left(1 - \\frac{1}{\\alpha \\left(1 - \\phi_{4}\\right) + i \\left(1 - \\phi_{3}\\right) + \\phi_{0}}\\right)^{\\frac{1}{\\phi_{2}}}}{\\phi_{1}}\\right)^{- \\phi_{2} - 1} \\cdot \\left(1 - \\Delta\\right) \\left(1 - \\frac{1}{\\alpha \\left(1 - \\phi_{4}\\right) + i \\left(1 - \\phi_{3}\\right) + \\phi_{0}}\\right)^{\\frac{1}{\\phi_{2}}} \\left(- \\phi_{2} - 1\\right) \\left(\\phi_{3} - 1\\right) \\left(- \\Gamma - \\Xi \\delta \\nu - \\frac{\\Xi \\nu \\left(\\alpha + n\\right)}{1 - \\Delta} + 1\\right)}{2 \\Xi \\delta \\nu \\phi_{1} \\cdot \\left(1 - \\frac{1}{\\alpha \\left(1 - \\phi_{4}\\right) + i \\left(1 - \\phi_{3}\\right) + \\phi_{0}}\\right) \\left(\\alpha \\left(1 - \\phi_{4}\\right) + i \\left(1 - \\phi_{3}\\right) + \\phi_{0}\\right)^{2}} - \\frac{\\left(\\frac{\\left(1 - \\frac{1}{\\alpha \\left(1 - \\phi_{4}\\right) + i \\left(1 - \\phi_{3}\\right) + \\phi_{0}}\\right)^{\\frac{1}{\\phi_{2}}}}{\\phi_{1}}\\right)^{- \\phi_{2} - 1} \\cdot \\left(1 - \\Delta\\right) \\left(1 - \\frac{1}{\\alpha \\left(1 - \\phi_{4}\\right) + i \\left(1 - \\phi_{3}\\right) + \\phi_{0}}\\right)^{\\frac{1}{\\phi_{2}}} \\left(\\phi_{3} - 1\\right) \\left(- \\Gamma - \\Xi \\delta \\nu - \\frac{\\Xi \\nu \\left(\\alpha + n\\right)}{1 - \\Delta} + 1\\right)}{2 \\Xi \\delta \\nu \\phi_{1} \\cdot \\left(1 - \\frac{1}{\\alpha \\left(1 - \\phi_{4}\\right) + i \\left(1 - \\phi_{3}\\right) + \\phi_{0}}\\right) \\left(\\alpha \\left(1 - \\phi_{4}\\right) + i \\left(1 - \\phi_{3}\\right) + \\phi_{0}\\right)^{2}}\\right)}{\\phi_{2} \\cdot \\left(1 - \\Delta\\right) \\left(- \\Gamma - \\Xi \\delta \\nu - \\frac{\\Xi \\nu \\left(\\alpha + n\\right)}{1 - \\Delta} + 1\\right)} $\n",
      "###########\n"
     ]
    },
    {
     "data": {
      "text/latex": [
       "$\\displaystyle \\phi_{3}$"
      ],
      "text/plain": [
       "phi3"
      ]
     },
     "metadata": {},
     "output_type": "display_data"
    },
    {
     "data": {
      "text/latex": [
       "$\\displaystyle \\frac{\\Xi \\delta \\nu \\phi_{1} \\left(\\frac{\\left(1 - \\frac{1}{\\alpha \\left(1 - \\phi_{4}\\right) + i \\left(1 - \\phi_{3}\\right) + \\phi_{0}}\\right)^{\\frac{1}{\\phi_{2}}}}{\\phi_{1}}\\right)^{\\phi_{2} + 1} \\sqrt{\\frac{\\phi_{2} \\left(\\frac{\\left(1 - \\frac{1}{\\alpha \\left(1 - \\phi_{4}\\right) + i \\left(1 - \\phi_{3}\\right) + \\phi_{0}}\\right)^{\\frac{1}{\\phi_{2}}}}{\\phi_{1}}\\right)^{- \\phi_{2} - 1} \\cdot \\left(1 - \\Delta\\right) \\left(1 - \\frac{1}{\\alpha \\left(1 - \\phi_{4}\\right) + i \\left(1 - \\phi_{3}\\right) + \\phi_{0}}\\right)^{\\frac{1}{\\phi_{2}}} \\left(- \\Gamma - \\Xi \\delta \\nu - \\frac{\\Xi \\nu \\left(\\alpha + n\\right)}{1 - \\Delta} + 1\\right)}{\\Xi \\delta \\nu \\phi_{1}}} \\left(1 - \\frac{1}{\\alpha \\left(1 - \\phi_{4}\\right) + i \\left(1 - \\phi_{3}\\right) + \\phi_{0}}\\right)^{- \\frac{1}{\\phi_{2}}} \\left(- \\frac{i \\left(\\frac{\\left(1 - \\frac{1}{\\alpha \\left(1 - \\phi_{4}\\right) + i \\left(1 - \\phi_{3}\\right) + \\phi_{0}}\\right)^{\\frac{1}{\\phi_{2}}}}{\\phi_{1}}\\right)^{- \\phi_{2} - 1} \\cdot \\left(1 - \\Delta\\right) \\left(1 - \\frac{1}{\\alpha \\left(1 - \\phi_{4}\\right) + i \\left(1 - \\phi_{3}\\right) + \\phi_{0}}\\right)^{\\frac{1}{\\phi_{2}}} \\left(- \\phi_{2} - 1\\right) \\left(- \\Gamma - \\Xi \\delta \\nu - \\frac{\\Xi \\nu \\left(\\alpha + n\\right)}{1 - \\Delta} + 1\\right)}{2 \\Xi \\delta \\nu \\phi_{1} \\cdot \\left(1 - \\frac{1}{\\alpha \\left(1 - \\phi_{4}\\right) + i \\left(1 - \\phi_{3}\\right) + \\phi_{0}}\\right) \\left(\\alpha \\left(1 - \\phi_{4}\\right) + i \\left(1 - \\phi_{3}\\right) + \\phi_{0}\\right)^{2}} - \\frac{i \\left(\\frac{\\left(1 - \\frac{1}{\\alpha \\left(1 - \\phi_{4}\\right) + i \\left(1 - \\phi_{3}\\right) + \\phi_{0}}\\right)^{\\frac{1}{\\phi_{2}}}}{\\phi_{1}}\\right)^{- \\phi_{2} - 1} \\cdot \\left(1 - \\Delta\\right) \\left(1 - \\frac{1}{\\alpha \\left(1 - \\phi_{4}\\right) + i \\left(1 - \\phi_{3}\\right) + \\phi_{0}}\\right)^{\\frac{1}{\\phi_{2}}} \\left(- \\Gamma - \\Xi \\delta \\nu - \\frac{\\Xi \\nu \\left(\\alpha + n\\right)}{1 - \\Delta} + 1\\right)}{2 \\Xi \\delta \\nu \\phi_{1} \\cdot \\left(1 - \\frac{1}{\\alpha \\left(1 - \\phi_{4}\\right) + i \\left(1 - \\phi_{3}\\right) + \\phi_{0}}\\right) \\left(\\alpha \\left(1 - \\phi_{4}\\right) + i \\left(1 - \\phi_{3}\\right) + \\phi_{0}\\right)^{2}}\\right)}{\\phi_{2} \\cdot \\left(1 - \\Delta\\right) \\left(- \\Gamma - \\Xi \\delta \\nu - \\frac{\\Xi \\nu \\left(\\alpha + n\\right)}{1 - \\Delta} + 1\\right)}$"
      ],
      "text/plain": [
       "Xi*delta*nu*phi1*((1 - 1/(alpha*(1 - phi4) + i*(1 - phi3) + phi0))**(1/phi2)/phi1)**(phi2 + 1)*sqrt(phi2*((1 - 1/(alpha*(1 - phi4) + i*(1 - phi3) + phi0))**(1/phi2)/phi1)**(-phi2 - 1)*(1 - Delta)*(1 - 1/(alpha*(1 - phi4) + i*(1 - phi3) + phi0))**(1/phi2)*(-Gamma - Xi*delta*nu - Xi*nu*(alpha + n)/(1 - Delta) + 1)/(Xi*delta*nu*phi1))*(-i*((1 - 1/(alpha*(1 - phi4) + i*(1 - phi3) + phi0))**(1/phi2)/phi1)**(-phi2 - 1)*(1 - Delta)*(1 - 1/(alpha*(1 - phi4) + i*(1 - phi3) + phi0))**(1/phi2)*(-phi2 - 1)*(-Gamma - Xi*delta*nu - Xi*nu*(alpha + n)/(1 - Delta) + 1)/(2*Xi*delta*nu*phi1*(1 - 1/(alpha*(1 - phi4) + i*(1 - phi3) + phi0))*(alpha*(1 - phi4) + i*(1 - phi3) + phi0)**2) - i*((1 - 1/(alpha*(1 - phi4) + i*(1 - phi3) + phi0))**(1/phi2)/phi1)**(-phi2 - 1)*(1 - Delta)*(1 - 1/(alpha*(1 - phi4) + i*(1 - phi3) + phi0))**(1/phi2)*(-Gamma - Xi*delta*nu - Xi*nu*(alpha + n)/(1 - Delta) + 1)/(2*Xi*delta*nu*phi1*(1 - 1/(alpha*(1 - phi4) + i*(1 - phi3) + phi0))*(alpha*(1 - phi4) + i*(1 - phi3) + phi0)**2))/(phi2*(1 - Delta)*(1 - 1/(alpha*(1 - phi4) + i*(1 - phi3) + phi0))**(1/phi2)*(-Gamma - Xi*delta*nu - Xi*nu*(alpha + n)/(1 - Delta) + 1))"
      ]
     },
     "metadata": {},
     "output_type": "display_data"
    },
    {
     "name": "stdout",
     "output_type": "stream",
     "text": [
      "$ \\frac{\\Xi \\delta \\nu \\phi_{1} \\left(\\frac{\\left(1 - \\frac{1}{\\alpha \\left(1 - \\phi_{4}\\right) + i \\left(1 - \\phi_{3}\\right) + \\phi_{0}}\\right)^{\\frac{1}{\\phi_{2}}}}{\\phi_{1}}\\right)^{\\phi_{2} + 1} \\sqrt{\\frac{\\phi_{2} \\left(\\frac{\\left(1 - \\frac{1}{\\alpha \\left(1 - \\phi_{4}\\right) + i \\left(1 - \\phi_{3}\\right) + \\phi_{0}}\\right)^{\\frac{1}{\\phi_{2}}}}{\\phi_{1}}\\right)^{- \\phi_{2} - 1} \\cdot \\left(1 - \\Delta\\right) \\left(1 - \\frac{1}{\\alpha \\left(1 - \\phi_{4}\\right) + i \\left(1 - \\phi_{3}\\right) + \\phi_{0}}\\right)^{\\frac{1}{\\phi_{2}}} \\left(- \\Gamma - \\Xi \\delta \\nu - \\frac{\\Xi \\nu \\left(\\alpha + n\\right)}{1 - \\Delta} + 1\\right)}{\\Xi \\delta \\nu \\phi_{1}}} \\left(1 - \\frac{1}{\\alpha \\left(1 - \\phi_{4}\\right) + i \\left(1 - \\phi_{3}\\right) + \\phi_{0}}\\right)^{- \\frac{1}{\\phi_{2}}} \\left(- \\frac{i \\left(\\frac{\\left(1 - \\frac{1}{\\alpha \\left(1 - \\phi_{4}\\right) + i \\left(1 - \\phi_{3}\\right) + \\phi_{0}}\\right)^{\\frac{1}{\\phi_{2}}}}{\\phi_{1}}\\right)^{- \\phi_{2} - 1} \\cdot \\left(1 - \\Delta\\right) \\left(1 - \\frac{1}{\\alpha \\left(1 - \\phi_{4}\\right) + i \\left(1 - \\phi_{3}\\right) + \\phi_{0}}\\right)^{\\frac{1}{\\phi_{2}}} \\left(- \\phi_{2} - 1\\right) \\left(- \\Gamma - \\Xi \\delta \\nu - \\frac{\\Xi \\nu \\left(\\alpha + n\\right)}{1 - \\Delta} + 1\\right)}{2 \\Xi \\delta \\nu \\phi_{1} \\cdot \\left(1 - \\frac{1}{\\alpha \\left(1 - \\phi_{4}\\right) + i \\left(1 - \\phi_{3}\\right) + \\phi_{0}}\\right) \\left(\\alpha \\left(1 - \\phi_{4}\\right) + i \\left(1 - \\phi_{3}\\right) + \\phi_{0}\\right)^{2}} - \\frac{i \\left(\\frac{\\left(1 - \\frac{1}{\\alpha \\left(1 - \\phi_{4}\\right) + i \\left(1 - \\phi_{3}\\right) + \\phi_{0}}\\right)^{\\frac{1}{\\phi_{2}}}}{\\phi_{1}}\\right)^{- \\phi_{2} - 1} \\cdot \\left(1 - \\Delta\\right) \\left(1 - \\frac{1}{\\alpha \\left(1 - \\phi_{4}\\right) + i \\left(1 - \\phi_{3}\\right) + \\phi_{0}}\\right)^{\\frac{1}{\\phi_{2}}} \\left(- \\Gamma - \\Xi \\delta \\nu - \\frac{\\Xi \\nu \\left(\\alpha + n\\right)}{1 - \\Delta} + 1\\right)}{2 \\Xi \\delta \\nu \\phi_{1} \\cdot \\left(1 - \\frac{1}{\\alpha \\left(1 - \\phi_{4}\\right) + i \\left(1 - \\phi_{3}\\right) + \\phi_{0}}\\right) \\left(\\alpha \\left(1 - \\phi_{4}\\right) + i \\left(1 - \\phi_{3}\\right) + \\phi_{0}\\right)^{2}}\\right)}{\\phi_{2} \\cdot \\left(1 - \\Delta\\right) \\left(- \\Gamma - \\Xi \\delta \\nu - \\frac{\\Xi \\nu \\left(\\alpha + n\\right)}{1 - \\Delta} + 1\\right)} $\n",
      "###########\n"
     ]
    },
    {
     "data": {
      "text/latex": [
       "$\\displaystyle \\phi_{4}$"
      ],
      "text/plain": [
       "phi4"
      ]
     },
     "metadata": {},
     "output_type": "display_data"
    },
    {
     "data": {
      "text/latex": [
       "$\\displaystyle \\frac{\\Xi \\delta \\nu \\phi_{1} \\left(\\frac{\\left(1 - \\frac{1}{\\alpha \\left(1 - \\phi_{4}\\right) + i \\left(1 - \\phi_{3}\\right) + \\phi_{0}}\\right)^{\\frac{1}{\\phi_{2}}}}{\\phi_{1}}\\right)^{\\phi_{2} + 1} \\sqrt{\\frac{\\phi_{2} \\left(\\frac{\\left(1 - \\frac{1}{\\alpha \\left(1 - \\phi_{4}\\right) + i \\left(1 - \\phi_{3}\\right) + \\phi_{0}}\\right)^{\\frac{1}{\\phi_{2}}}}{\\phi_{1}}\\right)^{- \\phi_{2} - 1} \\cdot \\left(1 - \\Delta\\right) \\left(1 - \\frac{1}{\\alpha \\left(1 - \\phi_{4}\\right) + i \\left(1 - \\phi_{3}\\right) + \\phi_{0}}\\right)^{\\frac{1}{\\phi_{2}}} \\left(- \\Gamma - \\Xi \\delta \\nu - \\frac{\\Xi \\nu \\left(\\alpha + n\\right)}{1 - \\Delta} + 1\\right)}{\\Xi \\delta \\nu \\phi_{1}}} \\left(1 - \\frac{1}{\\alpha \\left(1 - \\phi_{4}\\right) + i \\left(1 - \\phi_{3}\\right) + \\phi_{0}}\\right)^{- \\frac{1}{\\phi_{2}}} \\left(- \\frac{\\alpha \\left(\\frac{\\left(1 - \\frac{1}{\\alpha \\left(1 - \\phi_{4}\\right) + i \\left(1 - \\phi_{3}\\right) + \\phi_{0}}\\right)^{\\frac{1}{\\phi_{2}}}}{\\phi_{1}}\\right)^{- \\phi_{2} - 1} \\cdot \\left(1 - \\Delta\\right) \\left(1 - \\frac{1}{\\alpha \\left(1 - \\phi_{4}\\right) + i \\left(1 - \\phi_{3}\\right) + \\phi_{0}}\\right)^{\\frac{1}{\\phi_{2}}} \\left(- \\phi_{2} - 1\\right) \\left(- \\Gamma - \\Xi \\delta \\nu - \\frac{\\Xi \\nu \\left(\\alpha + n\\right)}{1 - \\Delta} + 1\\right)}{2 \\Xi \\delta \\nu \\phi_{1} \\cdot \\left(1 - \\frac{1}{\\alpha \\left(1 - \\phi_{4}\\right) + i \\left(1 - \\phi_{3}\\right) + \\phi_{0}}\\right) \\left(\\alpha \\left(1 - \\phi_{4}\\right) + i \\left(1 - \\phi_{3}\\right) + \\phi_{0}\\right)^{2}} - \\frac{\\alpha \\left(\\frac{\\left(1 - \\frac{1}{\\alpha \\left(1 - \\phi_{4}\\right) + i \\left(1 - \\phi_{3}\\right) + \\phi_{0}}\\right)^{\\frac{1}{\\phi_{2}}}}{\\phi_{1}}\\right)^{- \\phi_{2} - 1} \\cdot \\left(1 - \\Delta\\right) \\left(1 - \\frac{1}{\\alpha \\left(1 - \\phi_{4}\\right) + i \\left(1 - \\phi_{3}\\right) + \\phi_{0}}\\right)^{\\frac{1}{\\phi_{2}}} \\left(- \\Gamma - \\Xi \\delta \\nu - \\frac{\\Xi \\nu \\left(\\alpha + n\\right)}{1 - \\Delta} + 1\\right)}{2 \\Xi \\delta \\nu \\phi_{1} \\cdot \\left(1 - \\frac{1}{\\alpha \\left(1 - \\phi_{4}\\right) + i \\left(1 - \\phi_{3}\\right) + \\phi_{0}}\\right) \\left(\\alpha \\left(1 - \\phi_{4}\\right) + i \\left(1 - \\phi_{3}\\right) + \\phi_{0}\\right)^{2}}\\right)}{\\phi_{2} \\cdot \\left(1 - \\Delta\\right) \\left(- \\Gamma - \\Xi \\delta \\nu - \\frac{\\Xi \\nu \\left(\\alpha + n\\right)}{1 - \\Delta} + 1\\right)}$"
      ],
      "text/plain": [
       "Xi*delta*nu*phi1*((1 - 1/(alpha*(1 - phi4) + i*(1 - phi3) + phi0))**(1/phi2)/phi1)**(phi2 + 1)*sqrt(phi2*((1 - 1/(alpha*(1 - phi4) + i*(1 - phi3) + phi0))**(1/phi2)/phi1)**(-phi2 - 1)*(1 - Delta)*(1 - 1/(alpha*(1 - phi4) + i*(1 - phi3) + phi0))**(1/phi2)*(-Gamma - Xi*delta*nu - Xi*nu*(alpha + n)/(1 - Delta) + 1)/(Xi*delta*nu*phi1))*(-alpha*((1 - 1/(alpha*(1 - phi4) + i*(1 - phi3) + phi0))**(1/phi2)/phi1)**(-phi2 - 1)*(1 - Delta)*(1 - 1/(alpha*(1 - phi4) + i*(1 - phi3) + phi0))**(1/phi2)*(-phi2 - 1)*(-Gamma - Xi*delta*nu - Xi*nu*(alpha + n)/(1 - Delta) + 1)/(2*Xi*delta*nu*phi1*(1 - 1/(alpha*(1 - phi4) + i*(1 - phi3) + phi0))*(alpha*(1 - phi4) + i*(1 - phi3) + phi0)**2) - alpha*((1 - 1/(alpha*(1 - phi4) + i*(1 - phi3) + phi0))**(1/phi2)/phi1)**(-phi2 - 1)*(1 - Delta)*(1 - 1/(alpha*(1 - phi4) + i*(1 - phi3) + phi0))**(1/phi2)*(-Gamma - Xi*delta*nu - Xi*nu*(alpha + n)/(1 - Delta) + 1)/(2*Xi*delta*nu*phi1*(1 - 1/(alpha*(1 - phi4) + i*(1 - phi3) + phi0))*(alpha*(1 - phi4) + i*(1 - phi3) + phi0)**2))/(phi2*(1 - Delta)*(1 - 1/(alpha*(1 - phi4) + i*(1 - phi3) + phi0))**(1/phi2)*(-Gamma - Xi*delta*nu - Xi*nu*(alpha + n)/(1 - Delta) + 1))"
      ]
     },
     "metadata": {},
     "output_type": "display_data"
    },
    {
     "name": "stdout",
     "output_type": "stream",
     "text": [
      "$ \\frac{\\Xi \\delta \\nu \\phi_{1} \\left(\\frac{\\left(1 - \\frac{1}{\\alpha \\left(1 - \\phi_{4}\\right) + i \\left(1 - \\phi_{3}\\right) + \\phi_{0}}\\right)^{\\frac{1}{\\phi_{2}}}}{\\phi_{1}}\\right)^{\\phi_{2} + 1} \\sqrt{\\frac{\\phi_{2} \\left(\\frac{\\left(1 - \\frac{1}{\\alpha \\left(1 - \\phi_{4}\\right) + i \\left(1 - \\phi_{3}\\right) + \\phi_{0}}\\right)^{\\frac{1}{\\phi_{2}}}}{\\phi_{1}}\\right)^{- \\phi_{2} - 1} \\cdot \\left(1 - \\Delta\\right) \\left(1 - \\frac{1}{\\alpha \\left(1 - \\phi_{4}\\right) + i \\left(1 - \\phi_{3}\\right) + \\phi_{0}}\\right)^{\\frac{1}{\\phi_{2}}} \\left(- \\Gamma - \\Xi \\delta \\nu - \\frac{\\Xi \\nu \\left(\\alpha + n\\right)}{1 - \\Delta} + 1\\right)}{\\Xi \\delta \\nu \\phi_{1}}} \\left(1 - \\frac{1}{\\alpha \\left(1 - \\phi_{4}\\right) + i \\left(1 - \\phi_{3}\\right) + \\phi_{0}}\\right)^{- \\frac{1}{\\phi_{2}}} \\left(- \\frac{\\alpha \\left(\\frac{\\left(1 - \\frac{1}{\\alpha \\left(1 - \\phi_{4}\\right) + i \\left(1 - \\phi_{3}\\right) + \\phi_{0}}\\right)^{\\frac{1}{\\phi_{2}}}}{\\phi_{1}}\\right)^{- \\phi_{2} - 1} \\cdot \\left(1 - \\Delta\\right) \\left(1 - \\frac{1}{\\alpha \\left(1 - \\phi_{4}\\right) + i \\left(1 - \\phi_{3}\\right) + \\phi_{0}}\\right)^{\\frac{1}{\\phi_{2}}} \\left(- \\phi_{2} - 1\\right) \\left(- \\Gamma - \\Xi \\delta \\nu - \\frac{\\Xi \\nu \\left(\\alpha + n\\right)}{1 - \\Delta} + 1\\right)}{2 \\Xi \\delta \\nu \\phi_{1} \\cdot \\left(1 - \\frac{1}{\\alpha \\left(1 - \\phi_{4}\\right) + i \\left(1 - \\phi_{3}\\right) + \\phi_{0}}\\right) \\left(\\alpha \\left(1 - \\phi_{4}\\right) + i \\left(1 - \\phi_{3}\\right) + \\phi_{0}\\right)^{2}} - \\frac{\\alpha \\left(\\frac{\\left(1 - \\frac{1}{\\alpha \\left(1 - \\phi_{4}\\right) + i \\left(1 - \\phi_{3}\\right) + \\phi_{0}}\\right)^{\\frac{1}{\\phi_{2}}}}{\\phi_{1}}\\right)^{- \\phi_{2} - 1} \\cdot \\left(1 - \\Delta\\right) \\left(1 - \\frac{1}{\\alpha \\left(1 - \\phi_{4}\\right) + i \\left(1 - \\phi_{3}\\right) + \\phi_{0}}\\right)^{\\frac{1}{\\phi_{2}}} \\left(- \\Gamma - \\Xi \\delta \\nu - \\frac{\\Xi \\nu \\left(\\alpha + n\\right)}{1 - \\Delta} + 1\\right)}{2 \\Xi \\delta \\nu \\phi_{1} \\cdot \\left(1 - \\frac{1}{\\alpha \\left(1 - \\phi_{4}\\right) + i \\left(1 - \\phi_{3}\\right) + \\phi_{0}}\\right) \\left(\\alpha \\left(1 - \\phi_{4}\\right) + i \\left(1 - \\phi_{3}\\right) + \\phi_{0}\\right)^{2}}\\right)}{\\phi_{2} \\cdot \\left(1 - \\Delta\\right) \\left(- \\Gamma - \\Xi \\delta \\nu - \\frac{\\Xi \\nu \\left(\\alpha + n\\right)}{1 - \\Delta} + 1\\right)} $\n",
      "###########\n"
     ]
    },
    {
     "data": {
      "text/latex": [
       "$\\displaystyle \\phi_{0}$"
      ],
      "text/plain": [
       "phi0"
      ]
     },
     "metadata": {},
     "output_type": "display_data"
    },
    {
     "data": {
      "text/latex": [
       "$\\displaystyle \\frac{\\Xi \\delta \\nu \\phi_{1} \\left(\\frac{\\left(1 - \\frac{1}{\\alpha \\left(1 - \\phi_{4}\\right) + i \\left(1 - \\phi_{3}\\right) + \\phi_{0}}\\right)^{\\frac{1}{\\phi_{2}}}}{\\phi_{1}}\\right)^{\\phi_{2} + 1} \\sqrt{\\frac{\\phi_{2} \\left(\\frac{\\left(1 - \\frac{1}{\\alpha \\left(1 - \\phi_{4}\\right) + i \\left(1 - \\phi_{3}\\right) + \\phi_{0}}\\right)^{\\frac{1}{\\phi_{2}}}}{\\phi_{1}}\\right)^{- \\phi_{2} - 1} \\cdot \\left(1 - \\Delta\\right) \\left(1 - \\frac{1}{\\alpha \\left(1 - \\phi_{4}\\right) + i \\left(1 - \\phi_{3}\\right) + \\phi_{0}}\\right)^{\\frac{1}{\\phi_{2}}} \\left(- \\Gamma - \\Xi \\delta \\nu - \\frac{\\Xi \\nu \\left(\\alpha + n\\right)}{1 - \\Delta} + 1\\right)}{\\Xi \\delta \\nu \\phi_{1}}} \\left(1 - \\frac{1}{\\alpha \\left(1 - \\phi_{4}\\right) + i \\left(1 - \\phi_{3}\\right) + \\phi_{0}}\\right)^{- \\frac{1}{\\phi_{2}}} \\left(\\frac{\\left(\\frac{\\left(1 - \\frac{1}{\\alpha \\left(1 - \\phi_{4}\\right) + i \\left(1 - \\phi_{3}\\right) + \\phi_{0}}\\right)^{\\frac{1}{\\phi_{2}}}}{\\phi_{1}}\\right)^{- \\phi_{2} - 1} \\cdot \\left(1 - \\Delta\\right) \\left(1 - \\frac{1}{\\alpha \\left(1 - \\phi_{4}\\right) + i \\left(1 - \\phi_{3}\\right) + \\phi_{0}}\\right)^{\\frac{1}{\\phi_{2}}} \\left(- \\phi_{2} - 1\\right) \\left(- \\Gamma - \\Xi \\delta \\nu - \\frac{\\Xi \\nu \\left(\\alpha + n\\right)}{1 - \\Delta} + 1\\right)}{2 \\Xi \\delta \\nu \\phi_{1} \\cdot \\left(1 - \\frac{1}{\\alpha \\left(1 - \\phi_{4}\\right) + i \\left(1 - \\phi_{3}\\right) + \\phi_{0}}\\right) \\left(\\alpha \\left(1 - \\phi_{4}\\right) + i \\left(1 - \\phi_{3}\\right) + \\phi_{0}\\right)^{2}} + \\frac{\\left(\\frac{\\left(1 - \\frac{1}{\\alpha \\left(1 - \\phi_{4}\\right) + i \\left(1 - \\phi_{3}\\right) + \\phi_{0}}\\right)^{\\frac{1}{\\phi_{2}}}}{\\phi_{1}}\\right)^{- \\phi_{2} - 1} \\cdot \\left(1 - \\Delta\\right) \\left(1 - \\frac{1}{\\alpha \\left(1 - \\phi_{4}\\right) + i \\left(1 - \\phi_{3}\\right) + \\phi_{0}}\\right)^{\\frac{1}{\\phi_{2}}} \\left(- \\Gamma - \\Xi \\delta \\nu - \\frac{\\Xi \\nu \\left(\\alpha + n\\right)}{1 - \\Delta} + 1\\right)}{2 \\Xi \\delta \\nu \\phi_{1} \\cdot \\left(1 - \\frac{1}{\\alpha \\left(1 - \\phi_{4}\\right) + i \\left(1 - \\phi_{3}\\right) + \\phi_{0}}\\right) \\left(\\alpha \\left(1 - \\phi_{4}\\right) + i \\left(1 - \\phi_{3}\\right) + \\phi_{0}\\right)^{2}}\\right)}{\\phi_{2} \\cdot \\left(1 - \\Delta\\right) \\left(- \\Gamma - \\Xi \\delta \\nu - \\frac{\\Xi \\nu \\left(\\alpha + n\\right)}{1 - \\Delta} + 1\\right)}$"
      ],
      "text/plain": [
       "Xi*delta*nu*phi1*((1 - 1/(alpha*(1 - phi4) + i*(1 - phi3) + phi0))**(1/phi2)/phi1)**(phi2 + 1)*sqrt(phi2*((1 - 1/(alpha*(1 - phi4) + i*(1 - phi3) + phi0))**(1/phi2)/phi1)**(-phi2 - 1)*(1 - Delta)*(1 - 1/(alpha*(1 - phi4) + i*(1 - phi3) + phi0))**(1/phi2)*(-Gamma - Xi*delta*nu - Xi*nu*(alpha + n)/(1 - Delta) + 1)/(Xi*delta*nu*phi1))*(((1 - 1/(alpha*(1 - phi4) + i*(1 - phi3) + phi0))**(1/phi2)/phi1)**(-phi2 - 1)*(1 - Delta)*(1 - 1/(alpha*(1 - phi4) + i*(1 - phi3) + phi0))**(1/phi2)*(-phi2 - 1)*(-Gamma - Xi*delta*nu - Xi*nu*(alpha + n)/(1 - Delta) + 1)/(2*Xi*delta*nu*phi1*(1 - 1/(alpha*(1 - phi4) + i*(1 - phi3) + phi0))*(alpha*(1 - phi4) + i*(1 - phi3) + phi0)**2) + ((1 - 1/(alpha*(1 - phi4) + i*(1 - phi3) + phi0))**(1/phi2)/phi1)**(-phi2 - 1)*(1 - Delta)*(1 - 1/(alpha*(1 - phi4) + i*(1 - phi3) + phi0))**(1/phi2)*(-Gamma - Xi*delta*nu - Xi*nu*(alpha + n)/(1 - Delta) + 1)/(2*Xi*delta*nu*phi1*(1 - 1/(alpha*(1 - phi4) + i*(1 - phi3) + phi0))*(alpha*(1 - phi4) + i*(1 - phi3) + phi0)**2))/(phi2*(1 - Delta)*(1 - 1/(alpha*(1 - phi4) + i*(1 - phi3) + phi0))**(1/phi2)*(-Gamma - Xi*delta*nu - Xi*nu*(alpha + n)/(1 - Delta) + 1))"
      ]
     },
     "metadata": {},
     "output_type": "display_data"
    },
    {
     "name": "stdout",
     "output_type": "stream",
     "text": [
      "$ \\frac{\\Xi \\delta \\nu \\phi_{1} \\left(\\frac{\\left(1 - \\frac{1}{\\alpha \\left(1 - \\phi_{4}\\right) + i \\left(1 - \\phi_{3}\\right) + \\phi_{0}}\\right)^{\\frac{1}{\\phi_{2}}}}{\\phi_{1}}\\right)^{\\phi_{2} + 1} \\sqrt{\\frac{\\phi_{2} \\left(\\frac{\\left(1 - \\frac{1}{\\alpha \\left(1 - \\phi_{4}\\right) + i \\left(1 - \\phi_{3}\\right) + \\phi_{0}}\\right)^{\\frac{1}{\\phi_{2}}}}{\\phi_{1}}\\right)^{- \\phi_{2} - 1} \\cdot \\left(1 - \\Delta\\right) \\left(1 - \\frac{1}{\\alpha \\left(1 - \\phi_{4}\\right) + i \\left(1 - \\phi_{3}\\right) + \\phi_{0}}\\right)^{\\frac{1}{\\phi_{2}}} \\left(- \\Gamma - \\Xi \\delta \\nu - \\frac{\\Xi \\nu \\left(\\alpha + n\\right)}{1 - \\Delta} + 1\\right)}{\\Xi \\delta \\nu \\phi_{1}}} \\left(1 - \\frac{1}{\\alpha \\left(1 - \\phi_{4}\\right) + i \\left(1 - \\phi_{3}\\right) + \\phi_{0}}\\right)^{- \\frac{1}{\\phi_{2}}} \\left(\\frac{\\left(\\frac{\\left(1 - \\frac{1}{\\alpha \\left(1 - \\phi_{4}\\right) + i \\left(1 - \\phi_{3}\\right) + \\phi_{0}}\\right)^{\\frac{1}{\\phi_{2}}}}{\\phi_{1}}\\right)^{- \\phi_{2} - 1} \\cdot \\left(1 - \\Delta\\right) \\left(1 - \\frac{1}{\\alpha \\left(1 - \\phi_{4}\\right) + i \\left(1 - \\phi_{3}\\right) + \\phi_{0}}\\right)^{\\frac{1}{\\phi_{2}}} \\left(- \\phi_{2} - 1\\right) \\left(- \\Gamma - \\Xi \\delta \\nu - \\frac{\\Xi \\nu \\left(\\alpha + n\\right)}{1 - \\Delta} + 1\\right)}{2 \\Xi \\delta \\nu \\phi_{1} \\cdot \\left(1 - \\frac{1}{\\alpha \\left(1 - \\phi_{4}\\right) + i \\left(1 - \\phi_{3}\\right) + \\phi_{0}}\\right) \\left(\\alpha \\left(1 - \\phi_{4}\\right) + i \\left(1 - \\phi_{3}\\right) + \\phi_{0}\\right)^{2}} + \\frac{\\left(\\frac{\\left(1 - \\frac{1}{\\alpha \\left(1 - \\phi_{4}\\right) + i \\left(1 - \\phi_{3}\\right) + \\phi_{0}}\\right)^{\\frac{1}{\\phi_{2}}}}{\\phi_{1}}\\right)^{- \\phi_{2} - 1} \\cdot \\left(1 - \\Delta\\right) \\left(1 - \\frac{1}{\\alpha \\left(1 - \\phi_{4}\\right) + i \\left(1 - \\phi_{3}\\right) + \\phi_{0}}\\right)^{\\frac{1}{\\phi_{2}}} \\left(- \\Gamma - \\Xi \\delta \\nu - \\frac{\\Xi \\nu \\left(\\alpha + n\\right)}{1 - \\Delta} + 1\\right)}{2 \\Xi \\delta \\nu \\phi_{1} \\cdot \\left(1 - \\frac{1}{\\alpha \\left(1 - \\phi_{4}\\right) + i \\left(1 - \\phi_{3}\\right) + \\phi_{0}}\\right) \\left(\\alpha \\left(1 - \\phi_{4}\\right) + i \\left(1 - \\phi_{3}\\right) + \\phi_{0}\\right)^{2}}\\right)}{\\phi_{2} \\cdot \\left(1 - \\Delta\\right) \\left(- \\Gamma - \\Xi \\delta \\nu - \\frac{\\Xi \\nu \\left(\\alpha + n\\right)}{1 - \\Delta} + 1\\right)} $\n",
      "###########\n"
     ]
    },
    {
     "data": {
      "text/latex": [
       "$\\displaystyle \\phi_{1}$"
      ],
      "text/plain": [
       "phi1"
      ]
     },
     "metadata": {},
     "output_type": "display_data"
    },
    {
     "data": {
      "text/latex": [
       "$\\displaystyle \\frac{\\Xi \\delta \\nu \\phi_{1} \\left(\\frac{\\left(1 - \\frac{1}{\\alpha \\left(1 - \\phi_{4}\\right) + i \\left(1 - \\phi_{3}\\right) + \\phi_{0}}\\right)^{\\frac{1}{\\phi_{2}}}}{\\phi_{1}}\\right)^{\\phi_{2} + 1} \\sqrt{\\frac{\\phi_{2} \\left(\\frac{\\left(1 - \\frac{1}{\\alpha \\left(1 - \\phi_{4}\\right) + i \\left(1 - \\phi_{3}\\right) + \\phi_{0}}\\right)^{\\frac{1}{\\phi_{2}}}}{\\phi_{1}}\\right)^{- \\phi_{2} - 1} \\cdot \\left(1 - \\Delta\\right) \\left(1 - \\frac{1}{\\alpha \\left(1 - \\phi_{4}\\right) + i \\left(1 - \\phi_{3}\\right) + \\phi_{0}}\\right)^{\\frac{1}{\\phi_{2}}} \\left(- \\Gamma - \\Xi \\delta \\nu - \\frac{\\Xi \\nu \\left(\\alpha + n\\right)}{1 - \\Delta} + 1\\right)}{\\Xi \\delta \\nu \\phi_{1}}} \\left(1 - \\frac{1}{\\alpha \\left(1 - \\phi_{4}\\right) + i \\left(1 - \\phi_{3}\\right) + \\phi_{0}}\\right)^{- \\frac{1}{\\phi_{2}}} \\left(- \\frac{\\phi_{2} \\left(\\frac{\\left(1 - \\frac{1}{\\alpha \\left(1 - \\phi_{4}\\right) + i \\left(1 - \\phi_{3}\\right) + \\phi_{0}}\\right)^{\\frac{1}{\\phi_{2}}}}{\\phi_{1}}\\right)^{- \\phi_{2} - 1} \\cdot \\left(1 - \\Delta\\right) \\left(1 - \\frac{1}{\\alpha \\left(1 - \\phi_{4}\\right) + i \\left(1 - \\phi_{3}\\right) + \\phi_{0}}\\right)^{\\frac{1}{\\phi_{2}}} \\left(- \\phi_{2} - 1\\right) \\left(- \\Gamma - \\Xi \\delta \\nu - \\frac{\\Xi \\nu \\left(\\alpha + n\\right)}{1 - \\Delta} + 1\\right)}{2 \\Xi \\delta \\nu \\phi_{1}^{2}} - \\frac{\\phi_{2} \\left(\\frac{\\left(1 - \\frac{1}{\\alpha \\left(1 - \\phi_{4}\\right) + i \\left(1 - \\phi_{3}\\right) + \\phi_{0}}\\right)^{\\frac{1}{\\phi_{2}}}}{\\phi_{1}}\\right)^{- \\phi_{2} - 1} \\cdot \\left(1 - \\Delta\\right) \\left(1 - \\frac{1}{\\alpha \\left(1 - \\phi_{4}\\right) + i \\left(1 - \\phi_{3}\\right) + \\phi_{0}}\\right)^{\\frac{1}{\\phi_{2}}} \\left(- \\Gamma - \\Xi \\delta \\nu - \\frac{\\Xi \\nu \\left(\\alpha + n\\right)}{1 - \\Delta} + 1\\right)}{2 \\Xi \\delta \\nu \\phi_{1}^{2}}\\right)}{\\phi_{2} \\cdot \\left(1 - \\Delta\\right) \\left(- \\Gamma - \\Xi \\delta \\nu - \\frac{\\Xi \\nu \\left(\\alpha + n\\right)}{1 - \\Delta} + 1\\right)}$"
      ],
      "text/plain": [
       "Xi*delta*nu*phi1*((1 - 1/(alpha*(1 - phi4) + i*(1 - phi3) + phi0))**(1/phi2)/phi1)**(phi2 + 1)*sqrt(phi2*((1 - 1/(alpha*(1 - phi4) + i*(1 - phi3) + phi0))**(1/phi2)/phi1)**(-phi2 - 1)*(1 - Delta)*(1 - 1/(alpha*(1 - phi4) + i*(1 - phi3) + phi0))**(1/phi2)*(-Gamma - Xi*delta*nu - Xi*nu*(alpha + n)/(1 - Delta) + 1)/(Xi*delta*nu*phi1))*(-phi2*((1 - 1/(alpha*(1 - phi4) + i*(1 - phi3) + phi0))**(1/phi2)/phi1)**(-phi2 - 1)*(1 - Delta)*(1 - 1/(alpha*(1 - phi4) + i*(1 - phi3) + phi0))**(1/phi2)*(-phi2 - 1)*(-Gamma - Xi*delta*nu - Xi*nu*(alpha + n)/(1 - Delta) + 1)/(2*Xi*delta*nu*phi1**2) - phi2*((1 - 1/(alpha*(1 - phi4) + i*(1 - phi3) + phi0))**(1/phi2)/phi1)**(-phi2 - 1)*(1 - Delta)*(1 - 1/(alpha*(1 - phi4) + i*(1 - phi3) + phi0))**(1/phi2)*(-Gamma - Xi*delta*nu - Xi*nu*(alpha + n)/(1 - Delta) + 1)/(2*Xi*delta*nu*phi1**2))/(phi2*(1 - Delta)*(1 - 1/(alpha*(1 - phi4) + i*(1 - phi3) + phi0))**(1/phi2)*(-Gamma - Xi*delta*nu - Xi*nu*(alpha + n)/(1 - Delta) + 1))"
      ]
     },
     "metadata": {},
     "output_type": "display_data"
    },
    {
     "name": "stdout",
     "output_type": "stream",
     "text": [
      "$ \\frac{\\Xi \\delta \\nu \\phi_{1} \\left(\\frac{\\left(1 - \\frac{1}{\\alpha \\left(1 - \\phi_{4}\\right) + i \\left(1 - \\phi_{3}\\right) + \\phi_{0}}\\right)^{\\frac{1}{\\phi_{2}}}}{\\phi_{1}}\\right)^{\\phi_{2} + 1} \\sqrt{\\frac{\\phi_{2} \\left(\\frac{\\left(1 - \\frac{1}{\\alpha \\left(1 - \\phi_{4}\\right) + i \\left(1 - \\phi_{3}\\right) + \\phi_{0}}\\right)^{\\frac{1}{\\phi_{2}}}}{\\phi_{1}}\\right)^{- \\phi_{2} - 1} \\cdot \\left(1 - \\Delta\\right) \\left(1 - \\frac{1}{\\alpha \\left(1 - \\phi_{4}\\right) + i \\left(1 - \\phi_{3}\\right) + \\phi_{0}}\\right)^{\\frac{1}{\\phi_{2}}} \\left(- \\Gamma - \\Xi \\delta \\nu - \\frac{\\Xi \\nu \\left(\\alpha + n\\right)}{1 - \\Delta} + 1\\right)}{\\Xi \\delta \\nu \\phi_{1}}} \\left(1 - \\frac{1}{\\alpha \\left(1 - \\phi_{4}\\right) + i \\left(1 - \\phi_{3}\\right) + \\phi_{0}}\\right)^{- \\frac{1}{\\phi_{2}}} \\left(- \\frac{\\phi_{2} \\left(\\frac{\\left(1 - \\frac{1}{\\alpha \\left(1 - \\phi_{4}\\right) + i \\left(1 - \\phi_{3}\\right) + \\phi_{0}}\\right)^{\\frac{1}{\\phi_{2}}}}{\\phi_{1}}\\right)^{- \\phi_{2} - 1} \\cdot \\left(1 - \\Delta\\right) \\left(1 - \\frac{1}{\\alpha \\left(1 - \\phi_{4}\\right) + i \\left(1 - \\phi_{3}\\right) + \\phi_{0}}\\right)^{\\frac{1}{\\phi_{2}}} \\left(- \\phi_{2} - 1\\right) \\left(- \\Gamma - \\Xi \\delta \\nu - \\frac{\\Xi \\nu \\left(\\alpha + n\\right)}{1 - \\Delta} + 1\\right)}{2 \\Xi \\delta \\nu \\phi_{1}^{2}} - \\frac{\\phi_{2} \\left(\\frac{\\left(1 - \\frac{1}{\\alpha \\left(1 - \\phi_{4}\\right) + i \\left(1 - \\phi_{3}\\right) + \\phi_{0}}\\right)^{\\frac{1}{\\phi_{2}}}}{\\phi_{1}}\\right)^{- \\phi_{2} - 1} \\cdot \\left(1 - \\Delta\\right) \\left(1 - \\frac{1}{\\alpha \\left(1 - \\phi_{4}\\right) + i \\left(1 - \\phi_{3}\\right) + \\phi_{0}}\\right)^{\\frac{1}{\\phi_{2}}} \\left(- \\Gamma - \\Xi \\delta \\nu - \\frac{\\Xi \\nu \\left(\\alpha + n\\right)}{1 - \\Delta} + 1\\right)}{2 \\Xi \\delta \\nu \\phi_{1}^{2}}\\right)}{\\phi_{2} \\cdot \\left(1 - \\Delta\\right) \\left(- \\Gamma - \\Xi \\delta \\nu - \\frac{\\Xi \\nu \\left(\\alpha + n\\right)}{1 - \\Delta} + 1\\right)} $\n",
      "###########\n"
     ]
    },
    {
     "data": {
      "text/latex": [
       "$\\displaystyle \\phi_{2}$"
      ],
      "text/plain": [
       "phi2"
      ]
     },
     "metadata": {},
     "output_type": "display_data"
    },
    {
     "data": {
      "text/latex": [
       "$\\displaystyle \\frac{\\Xi \\delta \\nu \\phi_{1} \\left(\\frac{\\left(1 - \\frac{1}{\\alpha \\left(1 - \\phi_{4}\\right) + i \\left(1 - \\phi_{3}\\right) + \\phi_{0}}\\right)^{\\frac{1}{\\phi_{2}}}}{\\phi_{1}}\\right)^{\\phi_{2} + 1} \\sqrt{\\frac{\\phi_{2} \\left(\\frac{\\left(1 - \\frac{1}{\\alpha \\left(1 - \\phi_{4}\\right) + i \\left(1 - \\phi_{3}\\right) + \\phi_{0}}\\right)^{\\frac{1}{\\phi_{2}}}}{\\phi_{1}}\\right)^{- \\phi_{2} - 1} \\cdot \\left(1 - \\Delta\\right) \\left(1 - \\frac{1}{\\alpha \\left(1 - \\phi_{4}\\right) + i \\left(1 - \\phi_{3}\\right) + \\phi_{0}}\\right)^{\\frac{1}{\\phi_{2}}} \\left(- \\Gamma - \\Xi \\delta \\nu - \\frac{\\Xi \\nu \\left(\\alpha + n\\right)}{1 - \\Delta} + 1\\right)}{\\Xi \\delta \\nu \\phi_{1}}} \\left(1 - \\frac{1}{\\alpha \\left(1 - \\phi_{4}\\right) + i \\left(1 - \\phi_{3}\\right) + \\phi_{0}}\\right)^{- \\frac{1}{\\phi_{2}}} \\left(\\frac{\\phi_{2} \\left(\\frac{\\left(1 - \\frac{1}{\\alpha \\left(1 - \\phi_{4}\\right) + i \\left(1 - \\phi_{3}\\right) + \\phi_{0}}\\right)^{\\frac{1}{\\phi_{2}}}}{\\phi_{1}}\\right)^{- \\phi_{2} - 1} \\cdot \\left(1 - \\Delta\\right) \\left(1 - \\frac{1}{\\alpha \\left(1 - \\phi_{4}\\right) + i \\left(1 - \\phi_{3}\\right) + \\phi_{0}}\\right)^{\\frac{1}{\\phi_{2}}} \\left(- \\log{\\left(\\frac{\\left(1 - \\frac{1}{\\alpha \\left(1 - \\phi_{4}\\right) + i \\left(1 - \\phi_{3}\\right) + \\phi_{0}}\\right)^{\\frac{1}{\\phi_{2}}}}{\\phi_{1}} \\right)} - \\frac{\\left(- \\phi_{2} - 1\\right) \\log{\\left(1 - \\frac{1}{\\alpha \\left(1 - \\phi_{4}\\right) + i \\left(1 - \\phi_{3}\\right) + \\phi_{0}} \\right)}}{\\phi_{2}^{2}}\\right) \\left(- \\Gamma - \\Xi \\delta \\nu - \\frac{\\Xi \\nu \\left(\\alpha + n\\right)}{1 - \\Delta} + 1\\right)}{2 \\Xi \\delta \\nu \\phi_{1}} + \\frac{\\left(\\frac{\\left(1 - \\frac{1}{\\alpha \\left(1 - \\phi_{4}\\right) + i \\left(1 - \\phi_{3}\\right) + \\phi_{0}}\\right)^{\\frac{1}{\\phi_{2}}}}{\\phi_{1}}\\right)^{- \\phi_{2} - 1} \\cdot \\left(1 - \\Delta\\right) \\left(1 - \\frac{1}{\\alpha \\left(1 - \\phi_{4}\\right) + i \\left(1 - \\phi_{3}\\right) + \\phi_{0}}\\right)^{\\frac{1}{\\phi_{2}}} \\left(- \\Gamma - \\Xi \\delta \\nu - \\frac{\\Xi \\nu \\left(\\alpha + n\\right)}{1 - \\Delta} + 1\\right)}{2 \\Xi \\delta \\nu \\phi_{1}} - \\frac{\\left(\\frac{\\left(1 - \\frac{1}{\\alpha \\left(1 - \\phi_{4}\\right) + i \\left(1 - \\phi_{3}\\right) + \\phi_{0}}\\right)^{\\frac{1}{\\phi_{2}}}}{\\phi_{1}}\\right)^{- \\phi_{2} - 1} \\cdot \\left(1 - \\Delta\\right) \\left(1 - \\frac{1}{\\alpha \\left(1 - \\phi_{4}\\right) + i \\left(1 - \\phi_{3}\\right) + \\phi_{0}}\\right)^{\\frac{1}{\\phi_{2}}} \\left(- \\Gamma - \\Xi \\delta \\nu - \\frac{\\Xi \\nu \\left(\\alpha + n\\right)}{1 - \\Delta} + 1\\right) \\log{\\left(1 - \\frac{1}{\\alpha \\left(1 - \\phi_{4}\\right) + i \\left(1 - \\phi_{3}\\right) + \\phi_{0}} \\right)}}{2 \\Xi \\delta \\nu \\phi_{1} \\phi_{2}}\\right)}{\\phi_{2} \\cdot \\left(1 - \\Delta\\right) \\left(- \\Gamma - \\Xi \\delta \\nu - \\frac{\\Xi \\nu \\left(\\alpha + n\\right)}{1 - \\Delta} + 1\\right)}$"
      ],
      "text/plain": [
       "Xi*delta*nu*phi1*((1 - 1/(alpha*(1 - phi4) + i*(1 - phi3) + phi0))**(1/phi2)/phi1)**(phi2 + 1)*sqrt(phi2*((1 - 1/(alpha*(1 - phi4) + i*(1 - phi3) + phi0))**(1/phi2)/phi1)**(-phi2 - 1)*(1 - Delta)*(1 - 1/(alpha*(1 - phi4) + i*(1 - phi3) + phi0))**(1/phi2)*(-Gamma - Xi*delta*nu - Xi*nu*(alpha + n)/(1 - Delta) + 1)/(Xi*delta*nu*phi1))*(phi2*((1 - 1/(alpha*(1 - phi4) + i*(1 - phi3) + phi0))**(1/phi2)/phi1)**(-phi2 - 1)*(1 - Delta)*(1 - 1/(alpha*(1 - phi4) + i*(1 - phi3) + phi0))**(1/phi2)*(-log((1 - 1/(alpha*(1 - phi4) + i*(1 - phi3) + phi0))**(1/phi2)/phi1) - (-phi2 - 1)*log(1 - 1/(alpha*(1 - phi4) + i*(1 - phi3) + phi0))/phi2**2)*(-Gamma - Xi*delta*nu - Xi*nu*(alpha + n)/(1 - Delta) + 1)/(2*Xi*delta*nu*phi1) + ((1 - 1/(alpha*(1 - phi4) + i*(1 - phi3) + phi0))**(1/phi2)/phi1)**(-phi2 - 1)*(1 - Delta)*(1 - 1/(alpha*(1 - phi4) + i*(1 - phi3) + phi0))**(1/phi2)*(-Gamma - Xi*delta*nu - Xi*nu*(alpha + n)/(1 - Delta) + 1)/(2*Xi*delta*nu*phi1) - ((1 - 1/(alpha*(1 - phi4) + i*(1 - phi3) + phi0))**(1/phi2)/phi1)**(-phi2 - 1)*(1 - Delta)*(1 - 1/(alpha*(1 - phi4) + i*(1 - phi3) + phi0))**(1/phi2)*(-Gamma - Xi*delta*nu - Xi*nu*(alpha + n)/(1 - Delta) + 1)*log(1 - 1/(alpha*(1 - phi4) + i*(1 - phi3) + phi0))/(2*Xi*delta*nu*phi1*phi2))/(phi2*(1 - Delta)*(1 - 1/(alpha*(1 - phi4) + i*(1 - phi3) + phi0))**(1/phi2)*(-Gamma - Xi*delta*nu - Xi*nu*(alpha + n)/(1 - Delta) + 1))"
      ]
     },
     "metadata": {},
     "output_type": "display_data"
    },
    {
     "name": "stdout",
     "output_type": "stream",
     "text": [
      "$ \\frac{\\Xi \\delta \\nu \\phi_{1} \\left(\\frac{\\left(1 - \\frac{1}{\\alpha \\left(1 - \\phi_{4}\\right) + i \\left(1 - \\phi_{3}\\right) + \\phi_{0}}\\right)^{\\frac{1}{\\phi_{2}}}}{\\phi_{1}}\\right)^{\\phi_{2} + 1} \\sqrt{\\frac{\\phi_{2} \\left(\\frac{\\left(1 - \\frac{1}{\\alpha \\left(1 - \\phi_{4}\\right) + i \\left(1 - \\phi_{3}\\right) + \\phi_{0}}\\right)^{\\frac{1}{\\phi_{2}}}}{\\phi_{1}}\\right)^{- \\phi_{2} - 1} \\cdot \\left(1 - \\Delta\\right) \\left(1 - \\frac{1}{\\alpha \\left(1 - \\phi_{4}\\right) + i \\left(1 - \\phi_{3}\\right) + \\phi_{0}}\\right)^{\\frac{1}{\\phi_{2}}} \\left(- \\Gamma - \\Xi \\delta \\nu - \\frac{\\Xi \\nu \\left(\\alpha + n\\right)}{1 - \\Delta} + 1\\right)}{\\Xi \\delta \\nu \\phi_{1}}} \\left(1 - \\frac{1}{\\alpha \\left(1 - \\phi_{4}\\right) + i \\left(1 - \\phi_{3}\\right) + \\phi_{0}}\\right)^{- \\frac{1}{\\phi_{2}}} \\left(\\frac{\\phi_{2} \\left(\\frac{\\left(1 - \\frac{1}{\\alpha \\left(1 - \\phi_{4}\\right) + i \\left(1 - \\phi_{3}\\right) + \\phi_{0}}\\right)^{\\frac{1}{\\phi_{2}}}}{\\phi_{1}}\\right)^{- \\phi_{2} - 1} \\cdot \\left(1 - \\Delta\\right) \\left(1 - \\frac{1}{\\alpha \\left(1 - \\phi_{4}\\right) + i \\left(1 - \\phi_{3}\\right) + \\phi_{0}}\\right)^{\\frac{1}{\\phi_{2}}} \\left(- \\log{\\left(\\frac{\\left(1 - \\frac{1}{\\alpha \\left(1 - \\phi_{4}\\right) + i \\left(1 - \\phi_{3}\\right) + \\phi_{0}}\\right)^{\\frac{1}{\\phi_{2}}}}{\\phi_{1}} \\right)} - \\frac{\\left(- \\phi_{2} - 1\\right) \\log{\\left(1 - \\frac{1}{\\alpha \\left(1 - \\phi_{4}\\right) + i \\left(1 - \\phi_{3}\\right) + \\phi_{0}} \\right)}}{\\phi_{2}^{2}}\\right) \\left(- \\Gamma - \\Xi \\delta \\nu - \\frac{\\Xi \\nu \\left(\\alpha + n\\right)}{1 - \\Delta} + 1\\right)}{2 \\Xi \\delta \\nu \\phi_{1}} + \\frac{\\left(\\frac{\\left(1 - \\frac{1}{\\alpha \\left(1 - \\phi_{4}\\right) + i \\left(1 - \\phi_{3}\\right) + \\phi_{0}}\\right)^{\\frac{1}{\\phi_{2}}}}{\\phi_{1}}\\right)^{- \\phi_{2} - 1} \\cdot \\left(1 - \\Delta\\right) \\left(1 - \\frac{1}{\\alpha \\left(1 - \\phi_{4}\\right) + i \\left(1 - \\phi_{3}\\right) + \\phi_{0}}\\right)^{\\frac{1}{\\phi_{2}}} \\left(- \\Gamma - \\Xi \\delta \\nu - \\frac{\\Xi \\nu \\left(\\alpha + n\\right)}{1 - \\Delta} + 1\\right)}{2 \\Xi \\delta \\nu \\phi_{1}} - \\frac{\\left(\\frac{\\left(1 - \\frac{1}{\\alpha \\left(1 - \\phi_{4}\\right) + i \\left(1 - \\phi_{3}\\right) + \\phi_{0}}\\right)^{\\frac{1}{\\phi_{2}}}}{\\phi_{1}}\\right)^{- \\phi_{2} - 1} \\cdot \\left(1 - \\Delta\\right) \\left(1 - \\frac{1}{\\alpha \\left(1 - \\phi_{4}\\right) + i \\left(1 - \\phi_{3}\\right) + \\phi_{0}}\\right)^{\\frac{1}{\\phi_{2}}} \\left(- \\Gamma - \\Xi \\delta \\nu - \\frac{\\Xi \\nu \\left(\\alpha + n\\right)}{1 - \\Delta} + 1\\right) \\log{\\left(1 - \\frac{1}{\\alpha \\left(1 - \\phi_{4}\\right) + i \\left(1 - \\phi_{3}\\right) + \\phi_{0}} \\right)}}{2 \\Xi \\delta \\nu \\phi_{1} \\phi_{2}}\\right)}{\\phi_{2} \\cdot \\left(1 - \\Delta\\right) \\left(- \\Gamma - \\Xi \\delta \\nu - \\frac{\\Xi \\nu \\left(\\alpha + n\\right)}{1 - \\Delta} + 1\\right)} $\n",
      "###########\n"
     ]
    }
   ],
   "source": [
    "for var in [ alpha, n, delta, nu, Gamma, Xi, Delta, i, phi3,phi4,phi0,phi1,phi2]:\n",
    "    display(var)#print(var)\n",
    "    display(sympy.diff(Omega0,var))\n",
    "    #display(sympy.diff(omegaeq,var))\n",
    "    #display(sympy.diff(lambdaeq,var))\n",
    "    print('$',sympy.latex(sympy.diff(Omega0,var)),'$')\n",
    "    #print('$',sympy.latex(sympy.diff(omegaeq,var)),'$')\n",
    "    #print('$',sympy.latex(sympy.diff(lambdaeq,var)),'$')\n",
    "    #print('\\dfrac{\\partial \\omega_{eq}}{\\partial \\cob{',var,\"} }=\",sympy.latex(sympy.diff(omegaeq,var)))\n",
    "    print('###########')\n",
    "    #display(sympy.diff(omegaeq,var))"
   ]
  },
  {
   "cell_type": "code",
   "execution_count": null,
   "metadata": {},
   "outputs": [],
   "source": []
  }
 ],
 "metadata": {
  "kernelspec": {
   "display_name": "py3.11",
   "language": "python",
   "name": "python3"
  },
  "language_info": {
   "codemirror_mode": {
    "name": "ipython",
    "version": 3
   },
   "file_extension": ".py",
   "mimetype": "text/x-python",
   "name": "python",
   "nbconvert_exporter": "python",
   "pygments_lexer": "ipython3",
   "version": "3.11.0"
  },
  "orig_nbformat": 4
 },
 "nbformat": 4,
 "nbformat_minor": 2
}
