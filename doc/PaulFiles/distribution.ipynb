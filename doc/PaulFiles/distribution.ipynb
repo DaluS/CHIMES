{
 "cells": [
  {
   "cell_type": "code",
   "execution_count": 2,
   "metadata": {},
   "outputs": [],
   "source": [
    "import numpy as np \n",
    "import matplotlib.pyplot as plt "
   ]
  },
  {
   "attachments": {},
   "cell_type": "markdown",
   "metadata": {},
   "source": [
    "# Distribution of wage and inequalities for a power-law framework \n",
    "\n",
    "We assume $k$ hierarchical firms: the top layer of index 0 has one person, and the layer under corresponds to its direct subordinates. Each person of one layer has $a$ subordinates. \n",
    "The higher the hierarchical layer, the higher the wage: every layer correspond to a wage multiplication $x$.\n",
    "\n",
    "The society will have M layers : \n",
    "$$N=k \\sum_{i=0}^M a^i$$ \n",
    "\n",
    "In consequence : \n",
    "* $N= k\\sum_i a^i$  Total population\n",
    "* $W_i = w_i N_i$   Total wage of the layer \n",
    "* $W = \\sum_i w_i N_i$ \n",
    "* $w_{i+1} = w_i x$ \n",
    "* $N_{i+1} = N_i a$\n",
    "\n",
    "What we want to determine : \n",
    "* What is the relationship between the mean and median wage ? \n",
    "* What is the standard deviation ? \n",
    "* What is the gini coefficient ? "
   ]
  },
  {
   "cell_type": "code",
   "execution_count": 4,
   "metadata": {},
   "outputs": [],
   "source": [
    "N = 7*10**7     # Total population\n",
    "w = 20000       # mean wage\n",
    "a = 3           # number of direct subordinate\n",
    "x = 1.2         # wage ratio by layer\n",
    "k = 10          # Number of pyramids"
   ]
  },
  {
   "cell_type": "code",
   "execution_count": 11,
   "metadata": {},
   "outputs": [],
   "source": [
    "W = N*20000     # Total wage \n",
    "M = np.round(np.log(1+(a-1)*N/k)/np.log(a) - 1) # Number of layers \n",
    "m = np.arange(M)"
   ]
  },
  {
   "cell_type": "code",
   "execution_count": null,
   "metadata": {},
   "outputs": [],
   "source": []
  },
  {
   "cell_type": "code",
   "execution_count": null,
   "metadata": {},
   "outputs": [],
   "source": []
  }
 ],
 "metadata": {
  "kernelspec": {
   "display_name": "py3.11",
   "language": "python",
   "name": "python3"
  },
  "language_info": {
   "codemirror_mode": {
    "name": "ipython",
    "version": 3
   },
   "file_extension": ".py",
   "mimetype": "text/x-python",
   "name": "python",
   "nbconvert_exporter": "python",
   "pygments_lexer": "ipython3",
   "version": "3.11.0"
  },
  "orig_nbformat": 4
 },
 "nbformat": 4,
 "nbformat_minor": 2
}
