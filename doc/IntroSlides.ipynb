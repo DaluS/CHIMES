{
 "cells": [
  {
   "cell_type": "markdown",
   "id": "fdb74384",
   "metadata": {
    "slideshow": {
     "slide_type": "slide"
    }
   },
   "source": [
    "# PYGEMMES : prototyping and analysis of models based on dynamical systems \n",
    "\n",
    "by Didier Vezinet and Paul Valcke \n",
    "\n",
    "Environmental Justice Program \n",
    "\n",
    "\n",
    "Date : 6 August 2021"
   ]
  },
  {
   "cell_type": "markdown",
   "id": "c08f0c52",
   "metadata": {
    "slideshow": {
     "slide_type": "slide"
    }
   },
   "source": [
    "# Outline of this presentation \n",
    "\n",
    "* Creating models, analysing models, running simulations\n",
    "* Quick recall on economic model with dynamical system formalism \n",
    "* Code specifications \n",
    "* The structure of the code\n",
    "* How to run the code\n",
    "* How to develop the code\n",
    "* Future functionalities \n"
   ]
  },
  {
   "cell_type": "markdown",
   "id": "868475a6",
   "metadata": {
    "slideshow": {
     "slide_type": "slide"
    }
   },
   "source": [
    "\n",
    "# What are models ? \n",
    "\n",
    "## Definition of models \n",
    "\n",
    "A **Model** is : \n",
    "* An ensemble of systems ( atmosphere, bank, mines...), with each an ensemble of characteristics (fields), either variables or constant (parameters)\n",
    "* An ensemble of logical hypothesis that links the characteristic, that either links multiple fields of the system or fields from different systems. \n",
    "* There is a wide topology of links between these variables. Depending of the topology and the nature of the links, the model belong to certain types of model class \n"
   ]
  },
  {
   "cell_type": "markdown",
   "id": "7d72796e",
   "metadata": {
    "slideshow": {
     "slide_type": "slide"
    }
   },
   "source": [
    "\n",
    "## Level of hypotheses \n",
    "\n",
    "there are five levels of description for a field :\n",
    "\n",
    "1. I exist, but I am unrelated (so not taken into account in the model)\n",
    "2. I exist and I am related, but my value is constant (parameter) : I am defined by myself and not by the system\n",
    "3. I exist and I am related, but my temporal evolution is given by external factors only (exogeneous) : I am defined by myself and not by the system\n",
    "4. I exist, and I am related, but my temporal evolution is only a consequence of the other one and not of myself (endogeneous)\n",
    "5. I exist, I am related, my temporal evolution is the consequence of the other ones and also of myself (endogeneous, differential)\n",
    "\n",
    "_4 is a special case of 5, for example if 4 is $y=f(x)$, then five can be for example $dy/dt = \\frac{f(x)-y}{\\tau}$, which explicit the fact that there is a typical time in the model for y to react to its precise value ( for example, recruitment/firing in a goodwin extension) $\\tau=0$ force $f(x)=y$_\n"
   ]
  },
  {
   "cell_type": "markdown",
   "id": "b0996964",
   "metadata": {
    "slideshow": {
     "slide_type": "slide"
    }
   },
   "source": [
    "\n",
    "## The work of a modeler\n",
    "\n",
    "The work of a modeler is :\n",
    "* **Model creation** : to determine the systems, the fields, and the links that \"close\" the system (make it consistent in his own universe, with no need of something exterior to exist)\n",
    "* **Model analysis** : to determine, depending of the relationship of values, the broad behavior of the system (equilibrium, stability...), done through an ensemble of simulation (numerical approach) or analytically\n",
    "\n",
    "There are two golden rules in modelling : \n",
    "* The model must be as simple as possible (but not simpler) to keep it understandable \n",
    "* The hypotheses done to create the model must always be modifiable without breaking the whole model to allow easy improvement \n",
    "\n",
    "_If logic A and logic B, then logic C emerges on these conditions_\n"
   ]
  },
  {
   "cell_type": "markdown",
   "id": "fae2b17a",
   "metadata": {
    "slideshow": {
     "slide_type": "slide"
    }
   },
   "source": [
    "\n",
    "## Doing simulation\n",
    "\n",
    "The work of simulation is : \n",
    "* **parametrisation/calibration** : finding the most relevant values to initiate the system so that it corresponds to the real system you want to compare with. It is a projection of the model into one set of values\n",
    "* **Trajectory analysis** : Let the system evolves through the conjonction of initial values + logics, analyse the properties of the trajectory, use it for descriptivity and normativity\n",
    "\n",
    "_The simulation shows that in these condition we can expect X to increase of Y% during a time Z%_\n"
   ]
  },
  {
   "cell_type": "markdown",
   "id": "d7d9fa46",
   "metadata": {
    "slideshow": {
     "slide_type": "slide"
    }
   },
   "source": [
    "\n",
    "## Models and simulation\n",
    "\n",
    "It's hard to do a model simple enough that it is easy to understand, and strong enough that it allows good simulation. A good modeler creates structure that does both. \n",
    "\n",
    "A simple model that gives a lot of :\n",
    "* Emerging properties depending of the parameter projection \n",
    "* An accurate-enough description when applied to reality \n",
    "\n",
    "Is an **Archetype**. That's the graal (perfect gas, harmonic oscillator...)"
   ]
  },
  {
   "cell_type": "markdown",
   "id": "f9ee7929",
   "metadata": {
    "slideshow": {
     "slide_type": "slide"
    }
   },
   "source": [
    "\n",
    "# Models in economy \n",
    "\n",
    "## The neoclassic core \n",
    "\n",
    "* Based on the notion of utility \n",
    "* Based on the notion of discount rate over time \n",
    "* Based on the optimisation of utility \n",
    "* Variational formalism\n",
    "\n",
    "Based on one two fields that we cannot measure, and optimization as the process. Difficult to improve a lot of the core hypotheses \n",
    "\n",
    "$y(t) = \\int_{t_0} \\left( u(y(t)) \\dfrac{dt}{e^{\\rho t}} \\right)$ \n",
    "\n",
    "\"The trajectory taken by the system is the consequence of the complete exploration of all possible trajectories, with only the best one kept\"\n",
    "\n",
    "* Outcome centered, with the process as a way to get there, produce normativity without descriptivity\n",
    "* Lot of processes cannot be written in this formalism\n",
    "* Very far from the formalism of other sciences \n"
   ]
  },
  {
   "cell_type": "markdown",
   "id": "cebb3bb8",
   "metadata": {
    "slideshow": {
     "slide_type": "slide"
    }
   },
   "source": [
    "## Dynamical systems \n",
    "\n",
    "* The evolution of the state of the system is determined by the state of the system \n",
    "* Temporal evolution is the iteration of this logic on itself \n",
    "* Differential formalism\n",
    "\n",
    "$\\dfrac{\\partial y}{\\partial t}= f(y)$\n",
    "\n",
    "* Process-centered, optimization can be an outcome of it\n",
    "* Hypotheses easy to be improved\n",
    "* Formalism close to other sciences \n",
    "* Produce descriptivity with possibility of normativity"
   ]
  },
  {
   "cell_type": "markdown",
   "id": "6c7cdd31",
   "metadata": {
    "slideshow": {
     "slide_type": "slide"
    }
   },
   "source": [
    "# GEMMES modelisation \n",
    "\n",
    "## Principle of creation\n",
    "\n",
    "* Written with differential equations (stock and flow) evolution\n",
    "* Determined with two types of logic hypotheses : \n",
    "\t1. Stock-Flow consistency (nothing appears or disappear out of nothing)\n",
    "\t2. Behavioral hypotheses (humans behavior)\n",
    "\t3. Metabolic hypotheses (one quantity of something can be transformed into another)\n",
    "* Easy to modify the hypotheses\n",
    "* Easy to couple with other disciplines \n",
    "\n",
    "_Allow us to put back economy as a part of the environnement, and not environment as a part of economy_\n",
    "\n"
   ]
  },
  {
   "cell_type": "markdown",
   "id": "8c784fe4",
   "metadata": {
    "slideshow": {
     "slide_type": "slide"
    }
   },
   "source": [
    "## A galaxy of models \n",
    "\n",
    "* Based on a goodwin Model []\n",
    "* With Private Debt (Keen) []\n",
    "* With price dynamics and inflation []\n",
    "* Driven by demand []\n",
    "* CES part []\n",
    "* Climate retroaction []\n",
    "* Inertia []\n",
    "* Ressources []\n",
    "* Minimal multisector []\n",
    "* With stochastic terms []\n",
    "* Minimal household multisectorialisation []\n"
   ]
  },
  {
   "cell_type": "markdown",
   "id": "03bdcec6",
   "metadata": {
    "slideshow": {
     "slide_type": "slide"
    }
   },
   "source": [
    "# PYGEMMES \n",
    "\n",
    "## Two step back... \n",
    "\n",
    "The typical principle in science is : \n",
    "\n",
    "Descriptivity -> normativity -> politics \n",
    "\n",
    "We can add more categories to understand where we are :  \n",
    "\n",
    "Model creation -> Model analysis -> Simulation -> Descriptivity -> Normativity -> Politics \n",
    "\n",
    "The goal of this program is help modeller on both two first steps > \n",
    "\n",
    "* Easy model creation \n",
    "* Easy model analysis \n",
    "\n",
    "It also allow model comparison through a common background !\n"
   ]
  },
  {
   "cell_type": "markdown",
   "id": "971909ac",
   "metadata": {
    "slideshow": {
     "slide_type": "slide"
    }
   },
   "source": [
    "## How to run the code\n",
    "\n",
    "1. Download the package (through github) https://github.com/DaluS/GEMMES\n",
    "2. If you don't have python, download an IDE (for example anaconda is great https://www.anaconda.com/products/individual )\n",
    "3. Set your path to the place you put the python files\n",
    "4. Execute line by line `tutorial.py` and read `readme.md`\n"
   ]
  },
  {
   "cell_type": "code",
   "execution_count": null,
   "id": "55270181",
   "metadata": {},
   "outputs": [],
   "source": []
  },
  {
   "cell_type": "markdown",
   "id": "7748650c",
   "metadata": {},
   "source": []
  }
 ],
 "metadata": {
  "celltoolbar": "Diaporama",
  "kernelspec": {
   "display_name": "Python 3",
   "language": "python",
   "name": "python3"
  },
  "language_info": {
   "codemirror_mode": {
    "name": "ipython",
    "version": 3
   },
   "file_extension": ".py",
   "mimetype": "text/x-python",
   "name": "python",
   "nbconvert_exporter": "python",
   "pygments_lexer": "ipython3",
   "version": "3.8.8"
  }
 },
 "nbformat": 4,
 "nbformat_minor": 5
}
