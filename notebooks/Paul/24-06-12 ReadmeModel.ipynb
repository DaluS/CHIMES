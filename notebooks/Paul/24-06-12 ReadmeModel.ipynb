{
 "cells": [
  {
   "cell_type": "markdown",
   "metadata": {},
   "source": [
    "* **Goal of the day:** Prepare a function that update a model readme\n",
    "* **Coder:** Paul Valcke"
   ]
  },
  {
   "cell_type": "code",
   "execution_count": 49,
   "metadata": {},
   "outputs": [],
   "source": [
    "import sys\n",
    "sys.path.insert(0,  \"../../\" )\n",
    "import chimes as chm\n",
    "import numpy as np \n",
    "\n",
    "import matplotlib.pyplot as plt\n",
    "\n",
    "import plotly.graph_objects as go\n",
    "import numpy as np"
   ]
  },
  {
   "cell_type": "code",
   "execution_count": 50,
   "metadata": {},
   "outputs": [
    {
     "name": "stdout",
     "output_type": "stream",
     "text": [
      "Model documentation not written for __MINITEMPLATE__. \n",
      " Error: '__MINITEMPLATE__'\n",
      "Model documentation not written for __TEMPLATE__. \n",
      " Error: '__TEMPLATE__'\n"
     ]
    }
   ],
   "source": [
    "chm.create_models_readme()"
   ]
  },
  {
   "cell_type": "code",
   "execution_count": null,
   "metadata": {},
   "outputs": [],
   "source": [
    "# Generate all complete networks \n",
    "modellist = chm.get_available_models(Return=list)\n",
    "for m in modellist:\n",
    "    hub=chm.Hub(m)\n",
    "    try:\n",
    "        hub.get_Network(auxilliary=True,params=True)\n",
    "    except BaseException as e:\n",
    "        print(m)\n",
    "        print(e)"
   ]
  },
  {
   "cell_type": "code",
   "execution_count": null,
   "metadata": {},
   "outputs": [],
   "source": [
    "hub=chm.Hub('Lotka_Goodwin')\n",
    "hub.set_fields(x=0.51,x0=.51,y0=.49,y=0.49,dt=0.01,Tsim=3)"
   ]
  },
  {
   "cell_type": "code",
   "execution_count": null,
   "metadata": {},
   "outputs": [],
   "source": [
    "hub.run()\n",
    "chm.Plots.XY(hub,'x0','y0')"
   ]
  },
  {
   "cell_type": "markdown",
   "metadata": {},
   "source": [
    "# Model: Lotka_Goodwin\n",
    "\n",
    "\n",
    "* **Creation** : 2024/06/11\n",
    "* **Coder**    : Paul Valcke\n",
    "* **Article**  : \n",
    "* **Keywords** : ['Stability', 'Predatory-Prey', 'Lotka-Volterra', 'Goodwin']\n",
    "\n",
    "\n",
    "## What is this model ?\n",
    "\n",
    "This model is a minimal dynamical core, similar to a Goodwin phase-space dynamics, but even simpler. \n",
    "The equation system is thus: \n",
    "\n",
    "$$\\dot{x} = x (A-B f(y))$$\n",
    "$$\\dot{y} = y (C-D g(x))$$\n",
    "\n",
    "Where $f(x)$ and $g(y)$ are increasing functions. \n",
    "The advantage is that the equilibrium is easy to calculate\n",
    "\n",
    "$$y_{eq} = f^{-1}(A/B)$$\n",
    "$$x_{eq} = g^{-1}(C/D)$$\n",
    "\n",
    "The system has closed cycles, and the equilibrium is not stable nor unstable. \n",
    "To simplify, we use $f(y)=y$, and $g(x)=x$. \n",
    "\n",
    "One of the interest of such practice is to replace the parameters with subparameters and linear dependency\n",
    "\n",
    "$$A \to A_0 + A_x (x-x_{eq}) + A_y (y-y_{eq})$$\n",
    "$$B \to B_0 + B_x (x-x_{eq}) + B_y (y-y_{eq})$$\n",
    "$$C \to C_0 + C_x (x-x_{eq}) + C_y (y-y_{eq})$$\n",
    "$$D \to D_0 + D_x (x-x_{eq}) + D_y (y-y_{eq})$$\n",
    "\n",
    "Changing the parameters will not change the equilibrium point, but it will change the stability. \n",
    "This can be typically captured by the calculation of the Jacobian, its trace and determinant\n",
    "\n",
    "## Expected behavior\n",
    "* When $A_x,B_x,C_x,D_x,A_y,B_y,C_y,D_y$ are zero, the system is doing closed cycles.\n",
    "* Increasing $B_x,D_y$ stabilize the system (and slow down the cycles locally)\n",
    "* Increasing $A_x,C_y$ destabilize the system (and accelerate the cycles locally)\n",
    "* Increasing $A_y,C_x$ accelerate the cycles\n",
    "* Increasing $B_y,D_x$ slow down the cycles\n",
    "\n",
    "## Oscillating equilibrium \n",
    "\n",
    "\n",
    "\n",
    "\n",
    "\n",
    "\n",
    "## Presets\n",
    "\n",
    "## Supplements\n",
    "\n",
    "## Todo\n",
    "* Presets and plots\n",
    "\n",
    "## Equations\n",
    "|      | eqtype       | definition                          | source_exp                          | com                        |\n",
    "|:-----|:-------------|:------------------------------------|:------------------------------------|:---------------------------|\n",
    "| y    | differential |                                     | dy/dt=y * (C-D*x),                  |                            |\n",
    "| x    | differential |                                     | dx/dt=x * (A-B*y),                  |                            |\n",
    "| y0   | differential |                                     | dy0/dt=y0 * (C0-D0*x0),             |                            |\n",
    "| x0   | differential |                                     | dx0/dt=x0 * (A0-B0*y0),             |                            |\n",
    "| xeqM | statevar     |                                     | xeqM=lambda C, D                    |                            |\n",
    "| yeqM | statevar     |                                     | yeqM=lambda A, B                    |                            |\n",
    "| xeq  | statevar     |                                     | xeq=lambda C0, D0                   |                            |\n",
    "| yeq  | statevar     |                                     | yeq=lambda A0, B0                   |                            |\n",
    "| A    | statevar     | Efficiency in CES prod              | A=lambda A0, Ax, Ay, x, y, xeq, yeq |                            |\n",
    "| B    | statevar     |                                     | B=lambda B0, Bx, By, x, y, xeq, yeq |                            |\n",
    "| C    | statevar     | flux of goods for household         | C=lambda C0, Cx, Cy, x, y, xeq, yeq | Consumption as full salary |\n",
    "| D    | statevar     | Debt of private sector              | D=lambda D0, Dx, Dy, x, y, xeq, yeq |                            |\n",
    "| A0   |              |                                     |                                     |                            |\n",
    "| B0   |              |                                     |                                     |                            |\n",
    "| C0   |              |                                     |                                     |                            |\n",
    "| D0   |              |                                     |                                     |                            |\n",
    "| Ax   |              |                                     |                                     |                            |\n",
    "| Bx   |              |                                     |                                     |                            |\n",
    "| Cx   |              |                                     |                                     |                            |\n",
    "| Dx   |              |                                     |                                     |                            |\n",
    "| Ay   |              | production efficiency general level |                                     |                            |\n",
    "| By   |              |                                     |                                     |                            |\n",
    "| Cy   |              |                                     |                                     |                            |\n",
    "| Dy   |              | Damage on production                |                                     |                            |"
   ]
  },
  {
   "cell_type": "markdown",
   "metadata": {},
   "source": []
  }
 ],
 "metadata": {
  "kernelspec": {
   "display_name": "py3.11",
   "language": "python",
   "name": "python3"
  },
  "language_info": {
   "codemirror_mode": {
    "name": "ipython",
    "version": 3
   },
   "file_extension": ".py",
   "mimetype": "text/x-python",
   "name": "python",
   "nbconvert_exporter": "python",
   "pygments_lexer": "ipython3",
   "version": "3.11.0"
  }
 },
 "nbformat": 4,
 "nbformat_minor": 2
}
