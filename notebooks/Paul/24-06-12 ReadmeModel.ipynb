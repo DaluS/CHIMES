{
 "cells": [
  {
   "cell_type": "markdown",
   "metadata": {},
   "source": [
    "* **Goal of the day:** Prepare a function that update a model readme\n",
    "* **Coder:** Paul Valcke"
   ]
  },
  {
   "cell_type": "code",
   "execution_count": 6,
   "metadata": {},
   "outputs": [],
   "source": [
    "import sys\n",
    "sys.path.insert(0,  \"../../\" )\n",
    "import chimes as chm\n",
    "import numpy as np \n",
    "\n",
    "import matplotlib.pyplot as plt\n",
    "\n",
    "import plotly.graph_objects as go\n",
    "import numpy as np"
   ]
  },
  {
   "cell_type": "code",
   "execution_count": 23,
   "metadata": {},
   "outputs": [
    {
     "ename": "TypeError",
     "evalue": "'str' object is not callable",
     "output_type": "error",
     "traceback": [
      "\u001b[1;31m---------------------------------------------------------------------------\u001b[0m",
      "\u001b[1;31mTypeError\u001b[0m                                 Traceback (most recent call last)",
      "Cell \u001b[1;32mIn[23], line 1\u001b[0m\n\u001b[1;32m----> 1\u001b[0m \u001b[43mos\u001b[49m\u001b[38;5;241;43m.\u001b[39;49m\u001b[43mpardir\u001b[49m\u001b[43m(\u001b[49m\u001b[43mchm\u001b[49m\u001b[38;5;241;43m.\u001b[39;49m\u001b[43mconfig\u001b[49m\u001b[38;5;241;43m.\u001b[39;49m\u001b[43mget_current\u001b[49m\u001b[43m(\u001b[49m\u001b[38;5;124;43m'\u001b[39;49m\u001b[38;5;124;43m_PATH_HERE\u001b[39;49m\u001b[38;5;124;43m'\u001b[39;49m\u001b[43m)\u001b[49m\u001b[43m)\u001b[49m\n",
      "\u001b[1;31mTypeError\u001b[0m: 'str' object is not callable"
     ]
    }
   ],
   "source": []
  },
  {
   "cell_type": "code",
   "execution_count": 29,
   "metadata": {},
   "outputs": [],
   "source": [
    "import os \n",
    "current_path = os.path.dirname(chm.config.get_current('_PATH_HERE'))\n",
    "target_path = os.path.join(current_path, 'docs', 'models')"
   ]
  },
  {
   "cell_type": "code",
   "execution_count": 30,
   "metadata": {},
   "outputs": [
    {
     "data": {
      "text/plain": [
       "'c:\\\\Users\\\\Paul Valcke\\\\Documents\\\\GitHub\\\\CHIMES-DaluS\\\\tests\\\\..\\\\docs\\\\models'"
      ]
     },
     "execution_count": 30,
     "metadata": {},
     "output_type": "execute_result"
    }
   ],
   "source": [
    "target_path"
   ]
  },
  {
   "cell_type": "code",
   "execution_count": 37,
   "metadata": {},
   "outputs": [
    {
     "name": "stdout",
     "output_type": "stream",
     "text": [
      "c:\\Users\\Paul Valcke\\Documents\\GitHub\\CHIMES-DaluS\\tests\\..\\docs\\models\\3Capital_doc.md\n",
      "c:\\Users\\Paul Valcke\\Documents\\GitHub\\CHIMES-DaluS\\tests\\..\\docs\\models\\Agents_Vicsek_doc.md\n",
      "c:\\Users\\Paul Valcke\\Documents\\GitHub\\CHIMES-DaluS\\tests\\..\\docs\\models\\Aizawa_Attractor_doc.md\n",
      "c:\\Users\\Paul Valcke\\Documents\\GitHub\\CHIMES-DaluS\\tests\\..\\docs\\models\\Attractor1D_doc.md\n",
      "c:\\Users\\Paul Valcke\\Documents\\GitHub\\CHIMES-DaluS\\tests\\..\\docs\\models\\CHI_doc.md\n",
      "c:\\Users\\Paul Valcke\\Documents\\GitHub\\CHIMES-DaluS\\tests\\..\\docs\\models\\Climate_3Layers_doc.md\n",
      "c:\\Users\\Paul Valcke\\Documents\\GitHub\\CHIMES-DaluS\\tests\\..\\docs\\models\\DoublePendulum_doc.md\n",
      "c:\\Users\\Paul Valcke\\Documents\\GitHub\\CHIMES-DaluS\\tests\\..\\docs\\models\\E-CHIMES_doc.md\n",
      "c:\\Users\\Paul Valcke\\Documents\\GitHub\\CHIMES-DaluS\\tests\\..\\docs\\models\\E-CHIMES0_doc.md\n",
      "c:\\Users\\Paul Valcke\\Documents\\GitHub\\CHIMES-DaluS\\tests\\..\\docs\\models\\GEMMES_Coping2018_doc.md\n",
      "c:\\Users\\Paul Valcke\\Documents\\GitHub\\CHIMES-DaluS\\tests\\..\\docs\\models\\GK_doc.md\n",
      "c:\\Users\\Paul Valcke\\Documents\\GitHub\\CHIMES-DaluS\\tests\\..\\docs\\models\\Goodwin_example_doc.md\n",
      "c:\\Users\\Paul Valcke\\Documents\\GitHub\\CHIMES-DaluS\\tests\\..\\docs\\models\\Goodwin_example_short_doc.md\n",
      "c:\\Users\\Paul Valcke\\Documents\\GitHub\\CHIMES-DaluS\\tests\\..\\docs\\models\\Halvorsen_Attractor_doc.md\n",
      "c:\\Users\\Paul Valcke\\Documents\\GitHub\\CHIMES-DaluS\\tests\\..\\docs\\models\\ICED_doc.md\n",
      "c:\\Users\\Paul Valcke\\Documents\\GitHub\\CHIMES-DaluS\\tests\\..\\docs\\models\\Lorenz_Attractor_doc.md\n",
      "c:\\Users\\Paul Valcke\\Documents\\GitHub\\CHIMES-DaluS\\tests\\..\\docs\\models\\Lotka_Goodwin_doc.md\n",
      "c:\\Users\\Paul Valcke\\Documents\\GitHub\\CHIMES-DaluS\\tests\\..\\docs\\models\\PDE-Diffusion_doc.md\n",
      "c:\\Users\\Paul Valcke\\Documents\\GitHub\\CHIMES-DaluS\\tests\\..\\docs\\models\\PDE-Waves_doc.md\n",
      "c:\\Users\\Paul Valcke\\Documents\\GitHub\\CHIMES-DaluS\\tests\\..\\docs\\models\\Rossler_Attractor_doc.md\n",
      "c:\\Users\\Paul Valcke\\Documents\\GitHub\\CHIMES-DaluS\\tests\\..\\docs\\models\\Spring_Network_doc.md\n",
      "c:\\Users\\Paul Valcke\\Documents\\GitHub\\CHIMES-DaluS\\tests\\..\\docs\\models\\TUTORIAL_doc.md\n",
      "c:\\Users\\Paul Valcke\\Documents\\GitHub\\CHIMES-DaluS\\tests\\..\\docs\\models\\_CESprod_doc.md\n",
      "c:\\Users\\Paul Valcke\\Documents\\GitHub\\CHIMES-DaluS\\tests\\..\\docs\\models\\_EXTERNALCOUPLING_doc.md\n",
      "c:\\Users\\Paul Valcke\\Documents\\GitHub\\CHIMES-DaluS\\tests\\..\\docs\\models\\_EXTERNALCOUPLING_Matter_doc.md\n",
      "c:\\Users\\Paul Valcke\\Documents\\GitHub\\CHIMES-DaluS\\tests\\..\\docs\\models\\__MINITEMPLATE___doc.md\n"
     ]
    },
    {
     "ename": "KeyError",
     "evalue": "'__MINITEMPLATE__'",
     "output_type": "error",
     "traceback": [
      "\u001b[1;31m---------------------------------------------------------------------------\u001b[0m",
      "\u001b[1;31mKeyError\u001b[0m                                  Traceback (most recent call last)",
      "File \u001b[1;32mc:\\ProgramData\\Anaconda3\\envs\\py3.11\\Lib\\site-packages\\pandas\\core\\indexes\\base.py:3791\u001b[0m, in \u001b[0;36mIndex.get_loc\u001b[1;34m(self, key)\u001b[0m\n\u001b[0;32m   3790\u001b[0m \u001b[38;5;28;01mtry\u001b[39;00m:\n\u001b[1;32m-> 3791\u001b[0m     \u001b[38;5;28;01mreturn\u001b[39;00m \u001b[38;5;28;43mself\u001b[39;49m\u001b[38;5;241;43m.\u001b[39;49m\u001b[43m_engine\u001b[49m\u001b[38;5;241;43m.\u001b[39;49m\u001b[43mget_loc\u001b[49m\u001b[43m(\u001b[49m\u001b[43mcasted_key\u001b[49m\u001b[43m)\u001b[49m\n\u001b[0;32m   3792\u001b[0m \u001b[38;5;28;01mexcept\u001b[39;00m \u001b[38;5;167;01mKeyError\u001b[39;00m \u001b[38;5;28;01mas\u001b[39;00m err:\n",
      "File \u001b[1;32mindex.pyx:152\u001b[0m, in \u001b[0;36mpandas._libs.index.IndexEngine.get_loc\u001b[1;34m()\u001b[0m\n",
      "File \u001b[1;32mindex.pyx:181\u001b[0m, in \u001b[0;36mpandas._libs.index.IndexEngine.get_loc\u001b[1;34m()\u001b[0m\n",
      "File \u001b[1;32mpandas\\_libs\\hashtable_class_helper.pxi:7080\u001b[0m, in \u001b[0;36mpandas._libs.hashtable.PyObjectHashTable.get_item\u001b[1;34m()\u001b[0m\n",
      "File \u001b[1;32mpandas\\_libs\\hashtable_class_helper.pxi:7088\u001b[0m, in \u001b[0;36mpandas._libs.hashtable.PyObjectHashTable.get_item\u001b[1;34m()\u001b[0m\n",
      "\u001b[1;31mKeyError\u001b[0m: '__MINITEMPLATE__'",
      "\nThe above exception was the direct cause of the following exception:\n",
      "\u001b[1;31mKeyError\u001b[0m                                  Traceback (most recent call last)",
      "Cell \u001b[1;32mIn[37], line 2\u001b[0m\n\u001b[0;32m      1\u001b[0m \u001b[38;5;28;01mfrom\u001b[39;00m \u001b[38;5;21;01mchimes\u001b[39;00m\u001b[38;5;21;01m.\u001b[39;00m\u001b[38;5;21;01m_chm_get\u001b[39;00m \u001b[38;5;28;01mimport\u001b[39;00m create_models_readme\n\u001b[1;32m----> 2\u001b[0m \u001b[43mcreate_models_readme\u001b[49m\u001b[43m(\u001b[49m\u001b[43m)\u001b[49m\n",
      "File \u001b[1;32mc:\\Users\\Paul Valcke\\Documents\\GitHub\\CHIMES-DaluS\\notebooks\\Paul\\../..\\chimes\\_chm_get.py:429\u001b[0m, in \u001b[0;36mcreate_models_readme\u001b[1;34m(model, output)\u001b[0m\n\u001b[0;32m    427\u001b[0m \u001b[38;5;28;01mfor\u001b[39;00m model \u001b[38;5;129;01min\u001b[39;00m models:\n\u001b[0;32m    428\u001b[0m     hub0 \u001b[38;5;241m=\u001b[39m Hub(model, verb\u001b[38;5;241m=\u001b[39m\u001b[38;5;28;01mFalse\u001b[39;00m)\n\u001b[1;32m--> 429\u001b[0m     \u001b[43mwrite_markdown_file\u001b[49m\u001b[43m(\u001b[49m\u001b[43mdf\u001b[49m\u001b[43m,\u001b[49m\u001b[43m \u001b[49m\u001b[43mhub0\u001b[49m\u001b[43m,\u001b[49m\u001b[43m \u001b[49m\u001b[43mmodel\u001b[49m\u001b[43m,\u001b[49m\u001b[43m \u001b[49m\u001b[43moutput\u001b[49m\u001b[43m)\u001b[49m\n",
      "File \u001b[1;32mc:\\Users\\Paul Valcke\\Documents\\GitHub\\CHIMES-DaluS\\notebooks\\Paul\\../..\\chimes\\_chm_get.py:359\u001b[0m, in \u001b[0;36mwrite_markdown_file\u001b[1;34m(df, hub0, model, output)\u001b[0m\n\u001b[0;32m    355\u001b[0m     \u001b[38;5;28mprint\u001b[39m(file_path)\n\u001b[0;32m    357\u001b[0m     \u001b[38;5;28;01mwith\u001b[39;00m \u001b[38;5;28mopen\u001b[39m(file_path, \u001b[38;5;124m'\u001b[39m\u001b[38;5;124mw\u001b[39m\u001b[38;5;124m'\u001b[39m) \u001b[38;5;28;01mas\u001b[39;00m file:\n\u001b[0;32m    358\u001b[0m         \u001b[38;5;66;03m# Header section\u001b[39;00m\n\u001b[1;32m--> 359\u001b[0m         file\u001b[38;5;241m.\u001b[39mwrite(\u001b[38;5;124mf\u001b[39m\u001b[38;5;124m'\u001b[39m\u001b[38;5;124m# Model: \u001b[39m\u001b[38;5;132;01m{\u001b[39;00m\u001b[43mdf\u001b[49m\u001b[38;5;241;43m.\u001b[39;49m\u001b[43mloc\u001b[49m\u001b[43m[\u001b[49m\u001b[43mmodel\u001b[49m\u001b[43m]\u001b[49m\u001b[38;5;241m.\u001b[39mloc[\u001b[38;5;124m\"\u001b[39m\u001b[38;5;124mname\u001b[39m\u001b[38;5;124m\"\u001b[39m]\u001b[38;5;132;01m}\u001b[39;00m\u001b[38;5;130;01m\\n\u001b[39;00m\u001b[38;5;130;01m\\n\u001b[39;00m\u001b[38;5;124m'\u001b[39m)\n\u001b[0;32m    360\u001b[0m         file\u001b[38;5;241m.\u001b[39mwrite(\u001b[38;5;124mf\u001b[39m\u001b[38;5;124m'''\u001b[39m\n\u001b[0;32m    361\u001b[0m \u001b[38;5;124m* **Creation** : \u001b[39m\u001b[38;5;132;01m{\u001b[39;00m\u001b[38;5;28mstr\u001b[39m(df\u001b[38;5;241m.\u001b[39mloc[model]\u001b[38;5;241m.\u001b[39mloc[\u001b[38;5;124m'\u001b[39m\u001b[38;5;124mdate\u001b[39m\u001b[38;5;124m'\u001b[39m])\u001b[38;5;132;01m}\u001b[39;00m\n\u001b[0;32m    362\u001b[0m \u001b[38;5;124m* **Coder**    : \u001b[39m\u001b[38;5;132;01m{\u001b[39;00m\u001b[38;5;28mstr\u001b[39m(df\u001b[38;5;241m.\u001b[39mloc[model]\u001b[38;5;241m.\u001b[39mloc[\u001b[38;5;124m'\u001b[39m\u001b[38;5;124mCoder\u001b[39m\u001b[38;5;124m'\u001b[39m])\u001b[38;5;132;01m}\u001b[39;00m\n\u001b[0;32m    363\u001b[0m \u001b[38;5;124m* **Article**  : \u001b[39m\u001b[38;5;132;01m{\u001b[39;00m\u001b[38;5;28mstr\u001b[39m(df\u001b[38;5;241m.\u001b[39mloc[model]\u001b[38;5;241m.\u001b[39mloc[\u001b[38;5;124m'\u001b[39m\u001b[38;5;124marticle\u001b[39m\u001b[38;5;124m'\u001b[39m])\u001b[38;5;132;01m}\u001b[39;00m\n\u001b[0;32m    364\u001b[0m \u001b[38;5;124m* **Keywords** : \u001b[39m\u001b[38;5;132;01m{\u001b[39;00m\u001b[38;5;28mstr\u001b[39m(df\u001b[38;5;241m.\u001b[39mloc[model]\u001b[38;5;241m.\u001b[39mloc[\u001b[38;5;124m'\u001b[39m\u001b[38;5;124mKeywords\u001b[39m\u001b[38;5;124m'\u001b[39m])\u001b[38;5;132;01m}\u001b[39;00m\n\u001b[0;32m    365\u001b[0m \u001b[38;5;124m'''\u001b[39m)\n\u001b[0;32m    367\u001b[0m         \u001b[38;5;66;03m# Long description\u001b[39;00m\n",
      "File \u001b[1;32mc:\\ProgramData\\Anaconda3\\envs\\py3.11\\Lib\\site-packages\\pandas\\core\\indexing.py:1153\u001b[0m, in \u001b[0;36m_LocationIndexer.__getitem__\u001b[1;34m(self, key)\u001b[0m\n\u001b[0;32m   1150\u001b[0m axis \u001b[38;5;241m=\u001b[39m \u001b[38;5;28mself\u001b[39m\u001b[38;5;241m.\u001b[39maxis \u001b[38;5;129;01mor\u001b[39;00m \u001b[38;5;241m0\u001b[39m\n\u001b[0;32m   1152\u001b[0m maybe_callable \u001b[38;5;241m=\u001b[39m com\u001b[38;5;241m.\u001b[39mapply_if_callable(key, \u001b[38;5;28mself\u001b[39m\u001b[38;5;241m.\u001b[39mobj)\n\u001b[1;32m-> 1153\u001b[0m \u001b[38;5;28;01mreturn\u001b[39;00m \u001b[38;5;28;43mself\u001b[39;49m\u001b[38;5;241;43m.\u001b[39;49m\u001b[43m_getitem_axis\u001b[49m\u001b[43m(\u001b[49m\u001b[43mmaybe_callable\u001b[49m\u001b[43m,\u001b[49m\u001b[43m \u001b[49m\u001b[43maxis\u001b[49m\u001b[38;5;241;43m=\u001b[39;49m\u001b[43maxis\u001b[49m\u001b[43m)\u001b[49m\n",
      "File \u001b[1;32mc:\\ProgramData\\Anaconda3\\envs\\py3.11\\Lib\\site-packages\\pandas\\core\\indexing.py:1393\u001b[0m, in \u001b[0;36m_LocIndexer._getitem_axis\u001b[1;34m(self, key, axis)\u001b[0m\n\u001b[0;32m   1391\u001b[0m \u001b[38;5;66;03m# fall thru to straight lookup\u001b[39;00m\n\u001b[0;32m   1392\u001b[0m \u001b[38;5;28mself\u001b[39m\u001b[38;5;241m.\u001b[39m_validate_key(key, axis)\n\u001b[1;32m-> 1393\u001b[0m \u001b[38;5;28;01mreturn\u001b[39;00m \u001b[38;5;28;43mself\u001b[39;49m\u001b[38;5;241;43m.\u001b[39;49m\u001b[43m_get_label\u001b[49m\u001b[43m(\u001b[49m\u001b[43mkey\u001b[49m\u001b[43m,\u001b[49m\u001b[43m \u001b[49m\u001b[43maxis\u001b[49m\u001b[38;5;241;43m=\u001b[39;49m\u001b[43maxis\u001b[49m\u001b[43m)\u001b[49m\n",
      "File \u001b[1;32mc:\\ProgramData\\Anaconda3\\envs\\py3.11\\Lib\\site-packages\\pandas\\core\\indexing.py:1343\u001b[0m, in \u001b[0;36m_LocIndexer._get_label\u001b[1;34m(self, label, axis)\u001b[0m\n\u001b[0;32m   1341\u001b[0m \u001b[38;5;28;01mdef\u001b[39;00m \u001b[38;5;21m_get_label\u001b[39m(\u001b[38;5;28mself\u001b[39m, label, axis: AxisInt):\n\u001b[0;32m   1342\u001b[0m     \u001b[38;5;66;03m# GH#5567 this will fail if the label is not present in the axis.\u001b[39;00m\n\u001b[1;32m-> 1343\u001b[0m     \u001b[38;5;28;01mreturn\u001b[39;00m \u001b[38;5;28;43mself\u001b[39;49m\u001b[38;5;241;43m.\u001b[39;49m\u001b[43mobj\u001b[49m\u001b[38;5;241;43m.\u001b[39;49m\u001b[43mxs\u001b[49m\u001b[43m(\u001b[49m\u001b[43mlabel\u001b[49m\u001b[43m,\u001b[49m\u001b[43m \u001b[49m\u001b[43maxis\u001b[49m\u001b[38;5;241;43m=\u001b[39;49m\u001b[43maxis\u001b[49m\u001b[43m)\u001b[49m\n",
      "File \u001b[1;32mc:\\ProgramData\\Anaconda3\\envs\\py3.11\\Lib\\site-packages\\pandas\\core\\generic.py:4236\u001b[0m, in \u001b[0;36mNDFrame.xs\u001b[1;34m(self, key, axis, level, drop_level)\u001b[0m\n\u001b[0;32m   4234\u001b[0m             new_index \u001b[38;5;241m=\u001b[39m index[loc]\n\u001b[0;32m   4235\u001b[0m \u001b[38;5;28;01melse\u001b[39;00m:\n\u001b[1;32m-> 4236\u001b[0m     loc \u001b[38;5;241m=\u001b[39m \u001b[43mindex\u001b[49m\u001b[38;5;241;43m.\u001b[39;49m\u001b[43mget_loc\u001b[49m\u001b[43m(\u001b[49m\u001b[43mkey\u001b[49m\u001b[43m)\u001b[49m\n\u001b[0;32m   4238\u001b[0m     \u001b[38;5;28;01mif\u001b[39;00m \u001b[38;5;28misinstance\u001b[39m(loc, np\u001b[38;5;241m.\u001b[39mndarray):\n\u001b[0;32m   4239\u001b[0m         \u001b[38;5;28;01mif\u001b[39;00m loc\u001b[38;5;241m.\u001b[39mdtype \u001b[38;5;241m==\u001b[39m np\u001b[38;5;241m.\u001b[39mbool_:\n",
      "File \u001b[1;32mc:\\ProgramData\\Anaconda3\\envs\\py3.11\\Lib\\site-packages\\pandas\\core\\indexes\\base.py:3798\u001b[0m, in \u001b[0;36mIndex.get_loc\u001b[1;34m(self, key)\u001b[0m\n\u001b[0;32m   3793\u001b[0m     \u001b[38;5;28;01mif\u001b[39;00m \u001b[38;5;28misinstance\u001b[39m(casted_key, \u001b[38;5;28mslice\u001b[39m) \u001b[38;5;129;01mor\u001b[39;00m (\n\u001b[0;32m   3794\u001b[0m         \u001b[38;5;28misinstance\u001b[39m(casted_key, abc\u001b[38;5;241m.\u001b[39mIterable)\n\u001b[0;32m   3795\u001b[0m         \u001b[38;5;129;01mand\u001b[39;00m \u001b[38;5;28many\u001b[39m(\u001b[38;5;28misinstance\u001b[39m(x, \u001b[38;5;28mslice\u001b[39m) \u001b[38;5;28;01mfor\u001b[39;00m x \u001b[38;5;129;01min\u001b[39;00m casted_key)\n\u001b[0;32m   3796\u001b[0m     ):\n\u001b[0;32m   3797\u001b[0m         \u001b[38;5;28;01mraise\u001b[39;00m InvalidIndexError(key)\n\u001b[1;32m-> 3798\u001b[0m     \u001b[38;5;28;01mraise\u001b[39;00m \u001b[38;5;167;01mKeyError\u001b[39;00m(key) \u001b[38;5;28;01mfrom\u001b[39;00m \u001b[38;5;21;01merr\u001b[39;00m\n\u001b[0;32m   3799\u001b[0m \u001b[38;5;28;01mexcept\u001b[39;00m \u001b[38;5;167;01mTypeError\u001b[39;00m:\n\u001b[0;32m   3800\u001b[0m     \u001b[38;5;66;03m# If we have a listlike key, _check_indexing_error will raise\u001b[39;00m\n\u001b[0;32m   3801\u001b[0m     \u001b[38;5;66;03m#  InvalidIndexError. Otherwise we fall through and re-raise\u001b[39;00m\n\u001b[0;32m   3802\u001b[0m     \u001b[38;5;66;03m#  the TypeError.\u001b[39;00m\n\u001b[0;32m   3803\u001b[0m     \u001b[38;5;28mself\u001b[39m\u001b[38;5;241m.\u001b[39m_check_indexing_error(key)\n",
      "\u001b[1;31mKeyError\u001b[0m: '__MINITEMPLATE__'"
     ]
    }
   ],
   "source": [
    "from chimes._chm_get import create_models_readme\n",
    "create_models_readme()"
   ]
  },
  {
   "cell_type": "code",
   "execution_count": null,
   "metadata": {},
   "outputs": [],
   "source": [
    "chm.get_model_documentation('Lotka_Goodwin')"
   ]
  },
  {
   "cell_type": "code",
   "execution_count": null,
   "metadata": {},
   "outputs": [],
   "source": [
    "hub=chm.Hub('Lotka_Goodwin')\n",
    "hub.set_fields(x=0.51,x0=.51,y0=.49,y=0.49,dt=0.01,Tsim=3)"
   ]
  },
  {
   "cell_type": "code",
   "execution_count": null,
   "metadata": {},
   "outputs": [],
   "source": [
    "hub.run()\n",
    "chm.Plots.XY(hub,'x0','y0')"
   ]
  },
  {
   "cell_type": "markdown",
   "metadata": {},
   "source": [
    "# Model: Lotka_Goodwin\n",
    "\n",
    "\n",
    "* **Creation** : 2024/06/11\n",
    "* **Coder**    : Paul Valcke\n",
    "* **Article**  : \n",
    "* **Keywords** : ['Stability', 'Predatory-Prey', 'Lotka-Volterra', 'Goodwin']\n",
    "\n",
    "\n",
    "## What is this model ?\n",
    "\n",
    "This model is a minimal dynamical core, similar to a Goodwin phase-space dynamics, but even simpler. \n",
    "The equation system is thus: \n",
    "\n",
    "$$\\dot{x} = x (A-B f(y))$$\n",
    "$$\\dot{y} = y (C-D g(x))$$\n",
    "\n",
    "Where $f(x)$ and $g(y)$ are increasing functions. \n",
    "The advantage is that the equilibrium is easy to calculate\n",
    "\n",
    "$$y_{eq} = f^{-1}(A/B)$$\n",
    "$$x_{eq} = g^{-1}(C/D)$$\n",
    "\n",
    "The system has closed cycles, and the equilibrium is not stable nor unstable. \n",
    "To simplify, we use $f(y)=y$, and $g(x)=x$. \n",
    "\n",
    "One of the interest of such practice is to replace the parameters with subparameters and linear dependency\n",
    "\n",
    "$$A \to A_0 + A_x (x-x_{eq}) + A_y (y-y_{eq})$$\n",
    "$$B \to B_0 + B_x (x-x_{eq}) + B_y (y-y_{eq})$$\n",
    "$$C \to C_0 + C_x (x-x_{eq}) + C_y (y-y_{eq})$$\n",
    "$$D \to D_0 + D_x (x-x_{eq}) + D_y (y-y_{eq})$$\n",
    "\n",
    "Changing the parameters will not change the equilibrium point, but it will change the stability. \n",
    "This can be typically captured by the calculation of the Jacobian, its trace and determinant\n",
    "\n",
    "## Expected behavior\n",
    "* When $A_x,B_x,C_x,D_x,A_y,B_y,C_y,D_y$ are zero, the system is doing closed cycles.\n",
    "* Increasing $B_x,D_y$ stabilize the system (and slow down the cycles locally)\n",
    "* Increasing $A_x,C_y$ destabilize the system (and accelerate the cycles locally)\n",
    "* Increasing $A_y,C_x$ accelerate the cycles\n",
    "* Increasing $B_y,D_x$ slow down the cycles\n",
    "\n",
    "## Oscillating equilibrium \n",
    "\n",
    "\n",
    "\n",
    "\n",
    "\n",
    "\n",
    "## Presets\n",
    "\n",
    "## Supplements\n",
    "\n",
    "## Todo\n",
    "* Presets and plots\n",
    "\n",
    "## Equations\n",
    "|      | eqtype       | definition                          | source_exp                          | com                        |\n",
    "|:-----|:-------------|:------------------------------------|:------------------------------------|:---------------------------|\n",
    "| y    | differential |                                     | dy/dt=y * (C-D*x),                  |                            |\n",
    "| x    | differential |                                     | dx/dt=x * (A-B*y),                  |                            |\n",
    "| y0   | differential |                                     | dy0/dt=y0 * (C0-D0*x0),             |                            |\n",
    "| x0   | differential |                                     | dx0/dt=x0 * (A0-B0*y0),             |                            |\n",
    "| xeqM | statevar     |                                     | xeqM=lambda C, D                    |                            |\n",
    "| yeqM | statevar     |                                     | yeqM=lambda A, B                    |                            |\n",
    "| xeq  | statevar     |                                     | xeq=lambda C0, D0                   |                            |\n",
    "| yeq  | statevar     |                                     | yeq=lambda A0, B0                   |                            |\n",
    "| A    | statevar     | Efficiency in CES prod              | A=lambda A0, Ax, Ay, x, y, xeq, yeq |                            |\n",
    "| B    | statevar     |                                     | B=lambda B0, Bx, By, x, y, xeq, yeq |                            |\n",
    "| C    | statevar     | flux of goods for household         | C=lambda C0, Cx, Cy, x, y, xeq, yeq | Consumption as full salary |\n",
    "| D    | statevar     | Debt of private sector              | D=lambda D0, Dx, Dy, x, y, xeq, yeq |                            |\n",
    "| A0   |              |                                     |                                     |                            |\n",
    "| B0   |              |                                     |                                     |                            |\n",
    "| C0   |              |                                     |                                     |                            |\n",
    "| D0   |              |                                     |                                     |                            |\n",
    "| Ax   |              |                                     |                                     |                            |\n",
    "| Bx   |              |                                     |                                     |                            |\n",
    "| Cx   |              |                                     |                                     |                            |\n",
    "| Dx   |              |                                     |                                     |                            |\n",
    "| Ay   |              | production efficiency general level |                                     |                            |\n",
    "| By   |              |                                     |                                     |                            |\n",
    "| Cy   |              |                                     |                                     |                            |\n",
    "| Dy   |              | Damage on production                |                                     |                            |"
   ]
  },
  {
   "cell_type": "markdown",
   "metadata": {},
   "source": []
  }
 ],
 "metadata": {
  "kernelspec": {
   "display_name": "py3.11",
   "language": "python",
   "name": "python3"
  },
  "language_info": {
   "codemirror_mode": {
    "name": "ipython",
    "version": 3
   },
   "file_extension": ".py",
   "mimetype": "text/x-python",
   "name": "python",
   "nbconvert_exporter": "python",
   "pygments_lexer": "ipython3",
   "version": "3.11.0"
  }
 },
 "nbformat": 4,
 "nbformat_minor": 2
}
