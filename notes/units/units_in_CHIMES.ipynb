{
 "cells": [
  {
   "cell_type": "markdown",
   "id": "f633e829",
   "metadata": {},
   "source": [
    "# Units in python"
   ]
  },
  {
   "cell_type": "markdown",
   "id": "4acd1c37",
   "metadata": {},
   "source": [
    "## Intro"
   ]
  },
  {
   "cell_type": "markdown",
   "id": "c5e21142",
   "metadata": {},
   "source": [
    "There are several libraries dedicated to managing physical and custom units in python.\n",
    "\n",
    "The following will focus on the following 3 libraries that seem to be the best / most flexible:\n",
    "* [astropy.units](https://docs.astropy.org/en/stable/units/index.html)\n",
    "* [pint](https://pint.readthedocs.io/en/stable/)\n",
    "* [unyt](https://unyt.readthedocs.io/en/stable/index.html)\n",
    "\n",
    "The following article, written by the authors of unyt gives a good overview and benchmarks them:\n",
    "\n",
    "https://github.com/yt-project/unyt/blob/main/paper/paper-final.pdf"
   ]
  },
  {
   "cell_type": "markdown",
   "id": "644df010",
   "metadata": {},
   "source": [
    "Basically, these libraries do the following:\n",
    "* Provide a set of pre-defined common physical units\n",
    "* Also allow users to define custom units (important for CHIMES)\n",
    "* automatically manage conversions both for:\n",
    "    - prefixes: for orders of magnitude (m => km, mm, dm, nm...)\n",
    "    - non-prefixes: between different units in the same dimension (m => Angstroms or eV => J)\n",
    "* They generally offer the possibility of defining either:\n",
    "    - **Unit**: single-standing units from str\n",
    "    - **Quantity**: a float or nm.ndarray to which a Unit is attached\n",
    "* They have a symbolic solver to simplify units multiplications / divisions\n",
    "    \n",
    "    \n",
    "Working with **Quantities** (value + unit in a single object) allows to take advantage of automated computation of units from baic algorithmic operations: multiplication, division, addition, soustraction and power (and combinations of those)"
   ]
  },
  {
   "cell_type": "markdown",
   "id": "d6280d83",
   "metadata": {},
   "source": [
    "## examples with standard units"
   ]
  },
  {
   "cell_type": "markdown",
   "id": "6128ee66",
   "metadata": {},
   "source": [
    "Nothing illustrates better than examples, let start with standard units"
   ]
  },
  {
   "cell_type": "markdown",
   "id": "f1a6de86",
   "metadata": {},
   "source": [
    "### astropy.units"
   ]
  },
  {
   "cell_type": "code",
   "execution_count": 17,
   "id": "ac5d0184",
   "metadata": {},
   "outputs": [
    {
     "name": "stdout",
     "output_type": "stream",
     "text": [
      "ph / s\n"
     ]
    }
   ],
   "source": [
    "import astropy.units as asunits\n",
    "\n",
    "# ------------\n",
    "# units only\n",
    "\n",
    "# define a photon flux unit and a length unit\n",
    "flux_units = asunits.Unit('ph/(s.m2)')\n",
    "L_units = asunits.Unit('m')\n",
    "\n",
    "# get the multiplication\n",
    "flux_through_L2 = flux_units * L_units**2\n",
    "\n",
    "print(flux_through_L2)"
   ]
  },
  {
   "cell_type": "markdown",
   "id": "2e12b8d1",
   "metadata": {},
   "source": [
    "Here, the library solved the simplification and the output units is as expected.\n",
    "Note however that it does not simplify if all distances do not have the same prefix."
   ]
  },
  {
   "cell_type": "code",
   "execution_count": 16,
   "id": "7a099c0b",
   "metadata": {},
   "outputs": [
    {
     "name": "stdout",
     "output_type": "stream",
     "text": [
      "km2 ph / (m2 s)\n"
     ]
    }
   ],
   "source": [
    "# ----------------------------\n",
    "# units with dissimilar prefixes\n",
    "\n",
    "# define a photon flux unit and a length unit\n",
    "flux_units = asunits.Unit('ph/(s.m2)')\n",
    "L_units = asunits.Unit('km')\n",
    "\n",
    "# get the multiplication\n",
    "flux_through_L2 = flux_units * L_units**2\n",
    "print(flux_through_L2)"
   ]
  },
  {
   "cell_type": "markdown",
   "id": "3413c771",
   "metadata": {},
   "source": [
    "The library can provide the conversion coefficients associated to a prefix.\n",
    "\n",
    "For that the user has to specify a conversion using the `to_units()` method."
   ]
  },
  {
   "cell_type": "code",
   "execution_count": 19,
   "id": "cbf5fc14",
   "metadata": {},
   "outputs": [
    {
     "name": "stdout",
     "output_type": "stream",
     "text": [
      "1000.0\n"
     ]
    }
   ],
   "source": [
    "L_units = asunits.Unit('km')\n",
    "coef = L_units.in_units('m')\n",
    "print(coef)"
   ]
  },
  {
   "cell_type": "markdown",
   "id": "037ffd7a",
   "metadata": {},
   "source": [
    "Now let's look at Quantities (associating a numerical value, scalar or numpy array) to a unit.\n",
    "\n",
    "Doing that "
   ]
  },
  {
   "cell_type": "code",
   "execution_count": 49,
   "id": "f8efc759",
   "metadata": {},
   "outputs": [
    {
     "name": "stdout",
     "output_type": "stream",
     "text": [
      "flux:\n",
      "\t[ 0.  1.  2.  3.  4.  5.  6.  7.  8.  9. 10.] ph / (m2 s)\n"
     ]
    }
   ],
   "source": [
    "# ----------------------------\n",
    "# Quantities\n",
    "\n",
    "# define a numerical flux \n",
    "flux = asunits.Quantity(np.linspace(0, 10, 11), unit='ph/(s.m2)')\n",
    "print(f'flux:\\n\\t{flux}')"
   ]
  },
  {
   "cell_type": "markdown",
   "id": "e39b0b60",
   "metadata": {},
   "source": [
    "The numpy array and the unit are stored in the same instance.\n",
    "\n",
    "They are accessible attributes (generally not needed, but just so you know)."
   ]
  },
  {
   "cell_type": "code",
   "execution_count": 61,
   "id": "8fd63255",
   "metadata": {},
   "outputs": [
    {
     "name": "stdout",
     "output_type": "stream",
     "text": [
      "flux.data:\n",
      "\t<class 'numpy.ndarray'>\n",
      "\t[ 0.  1.  2.  3.  4.  5.  6.  7.  8.  9. 10.]\n",
      "\t[ 0.  1.  2.  3.  4.  5.  6.  7.  8.  9. 10.]\n",
      "flux.unit:\n",
      "\t<class 'astropy.units.core.CompositeUnit'>\n",
      "\tph / (m2 s)\n",
      "\t[ 0.  1.  2.  3.  4.  5.  6.  7.  8.  9. 10.] ph / (m2 s)\n"
     ]
    }
   ],
   "source": [
    "# the numpy array is stored as a memory view and the units as a Unit, both are accessible attributes\n",
    "print(f'flux.data:\\n\\t{type(flux.value)}\\n\\t{flux.value}\\n\\t{flux.to_value()}')\n",
    "print(f'flux.unit:\\n\\t{type(flux.unit)}\\n\\t{flux.unit}\\n\\t{flux.to_string()}')"
   ]
  },
  {
   "cell_type": "markdown",
   "id": "792a113f",
   "metadata": {},
   "source": [
    "The **Quantity** object can do anythong a standard numpy numpy array can do (all the numpy methods and attributes are inherited).\n",
    "There is no loss of functionality over a numpy array.\n",
    "\n",
    "There are, on the other hand, a few extra methods specific to Quantity."
   ]
  },
  {
   "cell_type": "code",
   "execution_count": 63,
   "id": "d5f3b6aa",
   "metadata": {},
   "outputs": [
    {
     "name": "stdout",
     "output_type": "stream",
     "text": [
      "\n",
      "latt_in_numpy_not_in_Quantity:\n",
      "\t[]\n",
      "\n",
      "latt_in_Quantity_not_in_numpy:\n",
      "\t['cgs', 'decompose', 'diff', 'ediff1d', 'equivalencies', 'info', 'insert', 'isscalar', 'nansum', 'si', 'to', 'to_string', 'to_value', 'unit', 'value']\n"
     ]
    }
   ],
   "source": [
    "# the Quantity object still has all the attributes of a numpy array\n",
    "latt_in_numpy_not_in_Quantity = [ss for ss in dir(np.ndarray) if ss not in dir(flux) and not ss.startswith('_')]\n",
    "latt_in_Quantity_not_in_numpy = [ss for ss in dir(flux) if ss not in dir(np.ndarray) and not ss.startswith('_')]\n",
    "\n",
    "print(f'\\nlatt_in_numpy_not_in_Quantity:\\n\\t{latt_in_numpy_not_in_Quantity}')\n",
    "print(f'\\nlatt_in_Quantity_not_in_numpy:\\n\\t{latt_in_Quantity_not_in_numpy}')"
   ]
  },
  {
   "cell_type": "markdown",
   "id": "f3fd9895",
   "metadata": {},
   "source": [
    "Let's keep going to operations between Quantities"
   ]
  },
  {
   "cell_type": "code",
   "execution_count": 28,
   "id": "3d7fe358",
   "metadata": {},
   "outputs": [
    {
     "name": "stdout",
     "output_type": "stream",
     "text": [
      "[   0.  100.  200.  300.  400.  500.  600.  700.  800.  900. 1000.] ph / s\n"
     ]
    }
   ],
   "source": [
    "# define a photon flux unit and a length unit\n",
    "L = asunits.Quantity(10, unit='m')\n",
    "\n",
    "# get the multiplication\n",
    "flux_through_L2 = flux * L**2\n",
    "print(flux_through_L2)"
   ]
  },
  {
   "cell_type": "markdown",
   "id": "aba4de43",
   "metadata": {},
   "source": [
    "The numpy operations are executed at the same time as the symbolic algebra on the units."
   ]
  },
  {
   "cell_type": "markdown",
   "id": "2a061e0c",
   "metadata": {},
   "source": [
    "Also, the method `in_unit()` is now called `to()` and returns a copy of the Quantity with converted numerical values (and units)"
   ]
  },
  {
   "cell_type": "code",
   "execution_count": 57,
   "id": "aabfca1c",
   "metadata": {},
   "outputs": [
    {
     "name": "stdout",
     "output_type": "stream",
     "text": [
      "10000.0 mm\n"
     ]
    }
   ],
   "source": [
    "L_mm = L.to('mm')\n",
    "print(L_mm)"
   ]
  },
  {
   "cell_type": "code",
   "execution_count": 35,
   "id": "d6996a15",
   "metadata": {},
   "outputs": [
    {
     "data": {
      "text/latex": [
       "$\\mathrm{m}$"
      ],
      "text/plain": [
       "Unit(\"m\")"
      ]
     },
     "execution_count": 35,
     "metadata": {},
     "output_type": "execute_result"
    }
   ],
   "source": [
    "L."
   ]
  },
  {
   "cell_type": "markdown",
   "id": "05e7ed42",
   "metadata": {},
   "source": [
    "## How to chose?"
   ]
  },
  {
   "cell_type": "markdown",
   "id": "b212d2d5",
   "metadata": {},
   "source": [
    "Several aspects can lead to choosing one over the other.\n",
    "\n",
    "A first group of arguments refers to how sane the library is:\n",
    "\n",
    "* Dependencies: is the library stand-alone or does it come with a lot of dependencies?\n",
    "* Quality: is the code well-tested?\n",
    "* Long-term: is there a good user-community ? is the github repo alive or is the library dying?\n",
    "\n",
    "\n",
    "A second group of arguments refers to specific features we want:\n",
    "* Compatibility with numpy: it should work out-of-the-box\n",
    "* Speed: do the extra layer add a significant CPU time to computations?\n",
    "* Custom units: we're doing economics, so we'll be selling bananas in dollars or euros, counting people... we need flexibility to define our own units (not only classical units like Joules, meters, kg...)"
   ]
  },
  {
   "cell_type": "markdown",
   "id": "7235f46e",
   "metadata": {},
   "source": [
    "## How to use it?"
   ]
  },
  {
   "cell_type": "markdown",
   "id": "d51ad21f",
   "metadata": {},
   "source": [
    "So far CHIMES typically stores data in a dict where:\n",
    "* 'data' contains a numpy array\n",
    "* 'units' contains a str representing the units"
   ]
  },
  {
   "cell_type": "markdown",
   "id": "9bae9b35",
   "metadata": {},
   "source": [
    "There are 2 ways to implement a better handling of units using one of these libraries:\n",
    "* Method A:\n",
    "    - easiest but less leverage: keep `data` and `units` as 2 separated keys\n",
    "    - just run a `astropy.units` on each unit at definition time to check that the unit exists (validate it)\n",
    "    - call `astropy.units` any time we need to do operation on data to update the 'unit' field\n",
    "    - very library-agnostic\n",
    "    \n",
    "* Method B:\n",
    "    - replace both fields by a single `data` or `quantity` field containing a Quantity instead of a numpy array\n",
    "    - most leverage as units will be handled automatically by the library\n",
    "    - probably makes us more dependent on the library (more painful if we want to change later?)\n",
    "    - Probably the best choice for full automatied unit management on the long term if we're sure which library we want"
   ]
  },
  {
   "cell_type": "code",
   "execution_count": null,
   "id": "c5d1a413",
   "metadata": {},
   "outputs": [],
   "source": []
  },
  {
   "cell_type": "code",
   "execution_count": null,
   "id": "c8aefe75",
   "metadata": {},
   "outputs": [],
   "source": []
  }
 ],
 "metadata": {
  "kernelspec": {
   "display_name": "Python 3 (ipykernel)",
   "language": "python",
   "name": "python3"
  },
  "language_info": {
   "codemirror_mode": {
    "name": "ipython",
    "version": 3
   },
   "file_extension": ".py",
   "mimetype": "text/x-python",
   "name": "python",
   "nbconvert_exporter": "python",
   "pygments_lexer": "ipython3",
   "version": "3.9.13"
  }
 },
 "nbformat": 4,
 "nbformat_minor": 5
}
